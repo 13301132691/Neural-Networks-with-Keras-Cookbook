{
 "cells": [
  {
   "cell_type": "code",
   "execution_count": 1,
   "metadata": {
    "ExecuteTime": {
     "end_time": "2019-02-06T15:47:41.515892Z",
     "start_time": "2019-02-06T15:47:39.362766Z"
    },
    "colab": {
     "base_uri": "https://localhost:8080/",
     "height": 34
    },
    "colab_type": "code",
    "id": "TMeonaeyhsVq",
    "outputId": "d71dc660-5d48-40da-c52e-8b4cb3c69981"
   },
   "outputs": [
    {
     "name": "stderr",
     "output_type": "stream",
     "text": [
      "Using TensorFlow backend.\n"
     ]
    }
   ],
   "source": [
    "import numpy as np\n",
    "from keras.models import Sequential\n",
    "from keras.layers import Dense\n",
    "from copy import deepcopy\n"
   ]
  },
  {
   "cell_type": "code",
   "execution_count": 2,
   "metadata": {
    "ExecuteTime": {
     "end_time": "2019-02-06T15:47:41.521029Z",
     "start_time": "2019-02-06T15:47:41.518252Z"
    },
    "colab": {},
    "colab_type": "code",
    "id": "0Dtrz7JZutht"
   },
   "outputs": [],
   "source": [
    "x = np.array([[1],[2],[3],[4]])\n",
    "y = np.array([[2],[4],[6],[8]])"
   ]
  },
  {
   "cell_type": "code",
   "execution_count": 3,
   "metadata": {
    "ExecuteTime": {
     "end_time": "2019-02-06T15:47:41.565757Z",
     "start_time": "2019-02-06T15:47:41.522847Z"
    },
    "colab": {
     "base_uri": "https://localhost:8080/",
     "height": 204
    },
    "colab_type": "code",
    "id": "2KJ69zRRuuyM",
    "outputId": "3231ecb1-a62b-450a-bde1-604a5de129a8"
   },
   "outputs": [
    {
     "name": "stdout",
     "output_type": "stream",
     "text": [
      "_________________________________________________________________\n",
      "Layer (type)                 Output Shape              Param #   \n",
      "=================================================================\n",
      "dense_1 (Dense)              (None, 3)                 6         \n",
      "_________________________________________________________________\n",
      "dense_2 (Dense)              (None, 1)                 4         \n",
      "=================================================================\n",
      "Total params: 10\n",
      "Trainable params: 10\n",
      "Non-trainable params: 0\n",
      "_________________________________________________________________\n"
     ]
    }
   ],
   "source": [
    "model = Sequential()\n",
    "model.add(Dense(3, activation='relu', input_shape=(1,)))\n",
    "model.add(Dense(1, activation='linear'))\n",
    "model.summary()"
   ]
  },
  {
   "cell_type": "code",
   "execution_count": 19,
   "metadata": {
    "ExecuteTime": {
     "end_time": "2019-02-06T15:51:05.359477Z",
     "start_time": "2019-02-06T15:51:05.332238Z"
    },
    "colab": {},
    "colab_type": "code",
    "id": "AGMN2rY-uzn5"
   },
   "outputs": [
    {
     "data": {
      "text/plain": [
       "[<tf.Variable 'dense_1/kernel:0' shape=(1, 3) dtype=float32_ref>,\n",
       " <tf.Variable 'dense_1/bias:0' shape=(3,) dtype=float32_ref>,\n",
       " <tf.Variable 'dense_2/kernel:0' shape=(3, 1) dtype=float32_ref>,\n",
       " <tf.Variable 'dense_2/bias:0' shape=(1,) dtype=float32_ref>]"
      ]
     },
     "metadata": {},
     "output_type": "display_data"
    }
   ],
   "source": [
    "from keras.optimizers import sgd\n",
    "s = sgd(lr = 0.01)\n",
    "model.compile(optimizer=s,loss='mean_squared_error',metrics=['accuracy'])\n",
    "\n",
    "display(model.weights)"
   ]
  },
  {
   "cell_type": "code",
   "execution_count": 9,
   "metadata": {
    "ExecuteTime": {
     "end_time": "2019-02-06T15:47:41.675996Z",
     "start_time": "2019-02-06T15:47:41.672371Z"
    },
    "colab": {},
    "colab_type": "code",
    "id": "LoyTeHUlu3qk"
   },
   "outputs": [],
   "source": [
    "def feed_forward(inputs, outputs, weights):\n",
    "    pre_hidden = np.dot(inputs,weights[0])+ weights[1]\n",
    "    hidden = np.where(pre_hidden<0, 0, pre_hidden) \n",
    "    out = np.dot(hidden, weights[2]) + weights[3]\n",
    "    squared_error = (np.square(out - outputs))\n",
    "    return squared_error"
   ]
  },
  {
   "cell_type": "code",
   "execution_count": 10,
   "metadata": {
    "ExecuteTime": {
     "end_time": "2019-02-06T15:47:41.685515Z",
     "start_time": "2019-02-06T15:47:41.677996Z"
    },
    "colab": {},
    "colab_type": "code",
    "id": "nRjf6kSMvaeQ"
   },
   "outputs": [],
   "source": [
    "def update_weights(inputs, outputs, weights, epochs):  \n",
    "    for epoch in range(epochs):\n",
    "        org_loss = feed_forward(inputs, outputs, weights)\n",
    "\n",
    "        weights_new = deepcopy(weights)\n",
    "        weights_new2 = deepcopy(weights)\n",
    "\n",
    "        for i in range(len(weights)):\n",
    "            print(i,len(weights[-(i+1)].flatten()))\n",
    "            for j in range(len(weights[-(i+1)].flatten())):\n",
    "                print(j)\n",
    "                if i<3:\n",
    "                    weights_new[-(i+1)][j] += 0.0001\n",
    "                    print('weights_new:', weights_new)\n",
    "                    loss = feed_forward(inputs, outputs, weights_new)\n",
    "                    print('loss', loss)\n",
    "                    del_loss = np.sum(org_loss - loss)/(0.0001*len(inputs))\n",
    "\n",
    "                    weights_new2[-(i+1)][j] += del_loss*0.01\n",
    "\n",
    "                    weights_new = deepcopy(weights)\n",
    "\n",
    "                else:\n",
    "                    weights_new[-(i+1)][0][j] += 0.0001\n",
    "                    print('weights_new:', weights_new)\n",
    "                    loss = feed_forward(inputs, outputs, weights_new)\n",
    "                    print('loss', loss)\n",
    "                    del_loss = np.sum(org_loss - loss)/(0.0001*len(inputs))\n",
    "\n",
    "                    weights_new2[-(i+1)][0][j] += del_loss*0.01\n",
    "\n",
    "                    weights_new = deepcopy(weights)\n",
    "\n",
    "        weights = deepcopy(weights_new2)\n",
    "        \n",
    "    return weights_new2"
   ]
  },
  {
   "cell_type": "code",
   "execution_count": 12,
   "metadata": {
    "ExecuteTime": {
     "end_time": "2019-02-06T15:47:41.710532Z",
     "start_time": "2019-02-06T15:47:41.693125Z"
    }
   },
   "outputs": [
    {
     "data": {
      "text/plain": [
       "[array([[-0.07957256, -0.5579188 , -0.88231397]], dtype=float32),\n",
       " array([0., 0., 0.], dtype=float32),\n",
       " array([[-0.59802526],\n",
       "        [-1.138372  ],\n",
       "        [ 1.1945511 ]], dtype=float32),\n",
       " array([0.099999], dtype=float32)]"
      ]
     },
     "execution_count": 12,
     "metadata": {},
     "output_type": "execute_result"
    }
   ],
   "source": [
    "def update_weights(inputs, outputs, weights, epochs):  \n",
    "    for epoch in range(epochs):\n",
    "        org_loss = feed_forward(inputs, outputs, weights)\n",
    "\n",
    "        weights_new = deepcopy(weights)\n",
    "        weights_new2 = deepcopy(weights)\n",
    "\n",
    "        for i, layer in enumerate(reversed(weights)):\n",
    "            # print(i, layer)\n",
    "            for index, weight in np.ndenumerate(layer):\n",
    "                # print(index, weight)\n",
    "                weights_new[-(i+1)][index] += 0.0001\n",
    "                # print('weights_new:', weights_new)\n",
    "                loss = feed_forward(inputs, outputs, weights_new)\n",
    "                # print('loss', loss)\n",
    "                del_loss = np.sum(org_loss - loss)/(0.0001*len(inputs))\n",
    "\n",
    "                weights_new2[-(i+1)][index] += del_loss*0.01\n",
    "                weights_new = deepcopy(weights)\n",
    "\n",
    "        weights = deepcopy(weights_new2)\n",
    "        \n",
    "    return weights_new2\n",
    "\n",
    "w = deepcopy(model.get_weights())\n",
    "update_weights(x,y,w,1)"
   ]
  },
  {
   "cell_type": "code",
   "execution_count": 13,
   "metadata": {
    "ExecuteTime": {
     "end_time": "2019-02-06T15:47:41.923430Z",
     "start_time": "2019-02-06T15:47:41.713137Z"
    },
    "colab": {
     "base_uri": "https://localhost:8080/",
     "height": 68
    },
    "colab_type": "code",
    "id": "t5D90I-FvmA0",
    "outputId": "eb3517f3-6ee4-44fc-8d0c-68d6a2c2618e"
   },
   "outputs": [
    {
     "name": "stdout",
     "output_type": "stream",
     "text": [
      "Epoch 1/1\n",
      "\r",
      "4/4 [==============================] - 0s 19ms/step - loss: 30.0000 - acc: 0.0000e+00\n"
     ]
    },
    {
     "data": {
      "text/plain": [
       "[array([[-0.07957256, -0.5579188 , -0.88231397]], dtype=float32),\n",
       " array([0., 0., 0.], dtype=float32),\n",
       " array([[-0.59802526],\n",
       "        [-1.138372  ],\n",
       "        [ 1.1945511 ]], dtype=float32),\n",
       " array([0.09999999], dtype=float32)]"
      ]
     },
     "execution_count": 13,
     "metadata": {},
     "output_type": "execute_result"
    }
   ],
   "source": [
    "model.fit(x, y, epochs=1, batch_size=4, verbose=1)\n",
    "model.get_weights()"
   ]
  },
  {
   "cell_type": "code",
   "execution_count": 14,
   "metadata": {
    "ExecuteTime": {
     "end_time": "2019-02-06T15:47:41.939884Z",
     "start_time": "2019-02-06T15:47:41.925100Z"
    },
    "colab": {
     "base_uri": "https://localhost:8080/",
     "height": 51
    },
    "colab_type": "code",
    "id": "ZhvT0sFovqRo",
    "outputId": "4c9249cb-4fa1-4fdf-c7f7-831d9236faa6"
   },
   "outputs": [
    {
     "data": {
      "text/plain": [
       "array([[0.09999999],\n",
       "       [0.09999999]], dtype=float32)"
      ]
     },
     "execution_count": 14,
     "metadata": {},
     "output_type": "execute_result"
    }
   ],
   "source": [
    "x1 = [[5],[6]]\n",
    "model.predict(np.array(x1))"
   ]
  },
  {
   "cell_type": "code",
   "execution_count": 15,
   "metadata": {
    "ExecuteTime": {
     "end_time": "2019-02-06T15:47:41.948965Z",
     "start_time": "2019-02-06T15:47:41.943701Z"
    },
    "colab": {},
    "colab_type": "code",
    "id": "zasjiovmS2wu"
   },
   "outputs": [],
   "source": [
    "def cat_cross_entropy(p, y):\n",
    "    return -np.sum((y*np.log2(p)+(1-y)*np.log2(1-p)))"
   ]
  },
  {
   "cell_type": "code",
   "execution_count": 16,
   "metadata": {
    "ExecuteTime": {
     "end_time": "2019-02-06T15:47:41.955727Z",
     "start_time": "2019-02-06T15:47:41.950967Z"
    },
    "colab": {
     "base_uri": "https://localhost:8080/",
     "height": 34
    },
    "colab_type": "code",
    "id": "9vsqTefGTJJn",
    "outputId": "9b67475a-1b07-41df-c2a4-be25d46b105c"
   },
   "outputs": [
    {
     "data": {
      "text/plain": [
       "0.3040061868900999"
      ]
     },
     "execution_count": 16,
     "metadata": {},
     "output_type": "execute_result"
    }
   ],
   "source": [
    "cat_cross_entropy(np.array([0.1,0.9]),np.array([0,1]))"
   ]
  },
  {
   "cell_type": "code",
   "execution_count": 17,
   "metadata": {
    "ExecuteTime": {
     "end_time": "2019-02-06T15:47:41.963427Z",
     "start_time": "2019-02-06T15:47:41.957180Z"
    },
    "colab": {
     "base_uri": "https://localhost:8080/",
     "height": 34
    },
    "colab_type": "code",
    "id": "xO_YqjWRTQZS",
    "outputId": "4775d981-1e82-49bd-c459-dc4b5dca44bc"
   },
   "outputs": [
    {
     "data": {
      "text/plain": [
       "-0.15200309344504995"
      ]
     },
     "execution_count": 17,
     "metadata": {},
     "output_type": "execute_result"
    }
   ],
   "source": [
    "np.log2(0.9)"
   ]
  },
  {
   "cell_type": "code",
   "execution_count": null,
   "metadata": {
    "colab": {},
    "colab_type": "code",
    "id": "mK2mlOPBTcvZ"
   },
   "outputs": [],
   "source": []
  }
 ],
 "metadata": {
  "colab": {
   "collapsed_sections": [],
   "name": "Neural Networks multiple layers.ipynb",
   "provenance": [],
   "version": "0.3.2"
  },
  "kernelspec": {
   "display_name": "Python [conda env:ocr]",
   "language": "python",
   "name": "conda-env-ocr-py"
  },
  "language_info": {
   "codemirror_mode": {
    "name": "ipython",
    "version": 3
   },
   "file_extension": ".py",
   "mimetype": "text/x-python",
   "name": "python",
   "nbconvert_exporter": "python",
   "pygments_lexer": "ipython3",
   "version": "3.6.8"
  }
 },
 "nbformat": 4,
 "nbformat_minor": 1
}
