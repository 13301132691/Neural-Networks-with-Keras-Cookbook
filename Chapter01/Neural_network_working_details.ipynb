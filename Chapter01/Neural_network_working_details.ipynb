{
 "cells": [
  {
   "cell_type": "code",
   "execution_count": 1,
   "metadata": {
    "ExecuteTime": {
     "end_time": "2019-02-06T15:01:04.077408Z",
     "start_time": "2019-02-06T15:01:01.517009Z"
    },
    "colab": {},
    "colab_type": "code",
    "id": "69_D8f8Q-jck"
   },
   "outputs": [
    {
     "name": "stderr",
     "output_type": "stream",
     "text": [
      "Using TensorFlow backend.\n"
     ]
    }
   ],
   "source": [
    "import numpy as np\n",
    "from keras.models import Sequential\n",
    "from keras.layers import Dense"
   ]
  },
  {
   "cell_type": "code",
   "execution_count": 2,
   "metadata": {
    "ExecuteTime": {
     "end_time": "2019-02-06T15:01:04.082092Z",
     "start_time": "2019-02-06T15:01:04.079514Z"
    },
    "colab": {},
    "colab_type": "code",
    "id": "t2R75_Tsf43c"
   },
   "outputs": [],
   "source": [
    "x = [[1],[2],[3],[4]]\n",
    "y = [[2],[4],[6],[8]]"
   ]
  },
  {
   "cell_type": "code",
   "execution_count": 3,
   "metadata": {
    "ExecuteTime": {
     "end_time": "2019-02-06T15:01:04.115474Z",
     "start_time": "2019-02-06T15:01:04.083806Z"
    },
    "colab": {
     "base_uri": "https://localhost:8080/",
     "height": 170
    },
    "colab_type": "code",
    "id": "YGMue2a3f46p",
    "outputId": "353ededd-d213-4ddf-86f0-ffc4b5f85eac"
   },
   "outputs": [
    {
     "name": "stdout",
     "output_type": "stream",
     "text": [
      "_________________________________________________________________\n",
      "Layer (type)                 Output Shape              Param #   \n",
      "=================================================================\n",
      "dense_1 (Dense)              (None, 1)                 2         \n",
      "=================================================================\n",
      "Total params: 2\n",
      "Trainable params: 2\n",
      "Non-trainable params: 0\n",
      "_________________________________________________________________\n"
     ]
    }
   ],
   "source": [
    "model = Sequential()\n",
    "model.add(Dense(1, activation='linear', input_shape=(1,)))\n",
    "model.summary()"
   ]
  },
  {
   "cell_type": "code",
   "execution_count": 4,
   "metadata": {
    "ExecuteTime": {
     "end_time": "2019-02-06T15:01:04.129940Z",
     "start_time": "2019-02-06T15:01:04.118932Z"
    },
    "colab": {
     "base_uri": "https://localhost:8080/",
     "height": 51
    },
    "colab_type": "code",
    "id": "CIpEfaSvgGTX",
    "outputId": "8c0a6e1d-ce89-4796-ff12-5c173197413a"
   },
   "outputs": [
    {
     "data": {
      "text/plain": [
       "[<tf.Variable 'dense_1/kernel:0' shape=(1, 1) dtype=float32_ref>,\n",
       " <tf.Variable 'dense_1/bias:0' shape=(1,) dtype=float32_ref>]"
      ]
     },
     "execution_count": 4,
     "metadata": {},
     "output_type": "execute_result"
    }
   ],
   "source": [
    "model.weights"
   ]
  },
  {
   "cell_type": "code",
   "execution_count": 5,
   "metadata": {
    "ExecuteTime": {
     "end_time": "2019-02-06T15:01:04.167785Z",
     "start_time": "2019-02-06T15:01:04.133071Z"
    },
    "colab": {
     "base_uri": "https://localhost:8080/",
     "height": 34
    },
    "colab_type": "code",
    "id": "RtTiJM0XgHbv",
    "outputId": "e2ebec26-8d05-435f-ffbd-9f6e1778be2f"
   },
   "outputs": [
    {
     "data": {
      "text/plain": [
       "[array([[0.919855]], dtype=float32), array([0.], dtype=float32)]"
      ]
     },
     "execution_count": 5,
     "metadata": {},
     "output_type": "execute_result"
    }
   ],
   "source": [
    "model.get_weights()"
   ]
  },
  {
   "cell_type": "code",
   "execution_count": 6,
   "metadata": {
    "ExecuteTime": {
     "end_time": "2019-02-06T15:01:04.199577Z",
     "start_time": "2019-02-06T15:01:04.169239Z"
    },
    "colab": {},
    "colab_type": "code",
    "id": "i_dBj3XZgIe5"
   },
   "outputs": [],
   "source": [
    "from keras.optimizers import sgd\n",
    "s= sgd(lr = 0.01)\n",
    "model.compile(optimizer=s,loss='mean_squared_error',metrics=['accuracy'])"
   ]
  },
  {
   "cell_type": "code",
   "execution_count": 7,
   "metadata": {
    "ExecuteTime": {
     "end_time": "2019-02-06T15:01:04.203644Z",
     "start_time": "2019-02-06T15:01:04.201126Z"
    },
    "colab": {},
    "colab_type": "code",
    "id": "PKbkH7UcbtYG"
   },
   "outputs": [],
   "source": [
    "from copy import deepcopy"
   ]
  },
  {
   "cell_type": "code",
   "execution_count": 8,
   "metadata": {
    "ExecuteTime": {
     "end_time": "2019-02-06T15:01:04.226175Z",
     "start_time": "2019-02-06T15:01:04.205327Z"
    },
    "colab": {},
    "colab_type": "code",
    "id": "7DrDeh9dgUw_"
   },
   "outputs": [],
   "source": [
    "w = deepcopy(model.get_weights())"
   ]
  },
  {
   "cell_type": "code",
   "execution_count": 9,
   "metadata": {
    "ExecuteTime": {
     "end_time": "2019-02-06T15:01:04.232195Z",
     "start_time": "2019-02-06T15:01:04.227913Z"
    },
    "colab": {
     "base_uri": "https://localhost:8080/",
     "height": 34
    },
    "colab_type": "code",
    "id": "dDXso2D3hLTm",
    "outputId": "40dd48da-2842-49ca-94be-9621bfff4887"
   },
   "outputs": [
    {
     "data": {
      "text/plain": [
       "[array([[0.919855]], dtype=float32), array([0.], dtype=float32)]"
      ]
     },
     "execution_count": 9,
     "metadata": {},
     "output_type": "execute_result"
    }
   ],
   "source": [
    "w"
   ]
  },
  {
   "cell_type": "code",
   "execution_count": 10,
   "metadata": {
    "ExecuteTime": {
     "end_time": "2019-02-06T15:01:04.237074Z",
     "start_time": "2019-02-06T15:01:04.233832Z"
    },
    "colab": {
     "base_uri": "https://localhost:8080/",
     "height": 34
    },
    "colab_type": "code",
    "id": "1VQcbSUk80Iq",
    "outputId": "d4b25cac-67b6-46b2-98fc-b7cdd9281144"
   },
   "outputs": [
    {
     "data": {
      "text/plain": [
       "[[[1.477867]], [0.0]]"
      ]
     },
     "execution_count": 10,
     "metadata": {},
     "output_type": "execute_result"
    }
   ],
   "source": [
    "w = [[[1.477867]], [0.]]\n",
    "w"
   ]
  },
  {
   "cell_type": "code",
   "execution_count": 11,
   "metadata": {
    "ExecuteTime": {
     "end_time": "2019-02-06T15:01:04.242582Z",
     "start_time": "2019-02-06T15:01:04.238658Z"
    },
    "colab": {
     "base_uri": "https://localhost:8080/",
     "height": 34
    },
    "colab_type": "code",
    "id": "le25igri89J5",
    "outputId": "7ac8074e-aebb-434c-8bda-097984b3f42c"
   },
   "outputs": [
    {
     "data": {
      "text/plain": [
       "[[1.477867]]"
      ]
     },
     "execution_count": 11,
     "metadata": {},
     "output_type": "execute_result"
    }
   ],
   "source": [
    "w[0]"
   ]
  },
  {
   "cell_type": "code",
   "execution_count": 12,
   "metadata": {
    "ExecuteTime": {
     "end_time": "2019-02-06T15:01:04.248231Z",
     "start_time": "2019-02-06T15:01:04.244978Z"
    },
    "colab": {},
    "colab_type": "code",
    "id": "Z9NcQEFFgXLl"
   },
   "outputs": [],
   "source": [
    "def feed_forward(inputs, outputs, weights):\n",
    "    hidden = np.dot(inputs,weights[0])\n",
    "    out = hidden+weights[1]\n",
    "    squared_error = (np.square(out - outputs))\n",
    "    return squared_error"
   ]
  },
  {
   "cell_type": "code",
   "execution_count": 13,
   "metadata": {
    "ExecuteTime": {
     "end_time": "2019-02-06T15:01:04.255500Z",
     "start_time": "2019-02-06T15:01:04.250166Z"
    },
    "colab": {},
    "colab_type": "code",
    "id": "gVbeiIYi4vly"
   },
   "outputs": [],
   "source": [
    "# NEW CODE\n",
    "def update_weights(inputs, outputs, weights, epochs):  \n",
    "    for epoch in range(epochs):\n",
    "        loss = feed_forward(inputs, outputs, weights)\n",
    "        wts_tmp = deepcopy(weights)\n",
    "        wts_tmp2 = deepcopy(weights)\n",
    "        for ix, wt in enumerate(weights): # Kishore gaaru this is the only line I changed.\n",
    "            print(ix, wt)\n",
    "            wts_tmp[-(ix+1)] += 0.0001\n",
    "            # print('wts_tmp:', wts_tmp)\n",
    "            loss = feed_forward(inputs, outputs, wts_tmp)\n",
    "            # print('loss', loss)\n",
    "            del_loss = np.sum(org_loss - loss)/(0.0001*len(inputs))\n",
    "            wts_tmp2[-(ix+1)] += del_loss*0.01\n",
    "            wts_tmp = deepcopy(weights)\n",
    "\n",
    "        weights = deepcopy(wts_tmp2)\n",
    "    return wts_tmp2"
   ]
  },
  {
   "cell_type": "code",
   "execution_count": 13,
   "metadata": {
    "ExecuteTime": {
     "end_time": "2019-02-06T15:01:04.255500Z",
     "start_time": "2019-02-06T15:01:04.250166Z"
    },
    "colab": {},
    "colab_type": "code",
    "id": "gVbeiIYi4vly"
   },
   "outputs": [],
   "source": [
    "# OLD\n",
    "def update_weights(inputs, outputs, weights, epochs):  \n",
    "    for epoch in range(epochs):\n",
    "        loss = feed_forward(inputs, outputs, weights)\n",
    "        wts_tmp = deepcopy(weights)\n",
    "        wts_tmp2 = deepcopy(weights)\n",
    "        for i in range(len(weights)):\n",
    "            wts_tmp[-(i+1)] += 0.0001\n",
    "            # print('wts_tmp:', wts_tmp)\n",
    "            loss = feed_forward(inputs, outputs, wts_tmp)\n",
    "            # print('loss', loss)\n",
    "            del_loss = np.sum(org_loss - loss)/(0.0001*len(inputs))\n",
    "            wts_tmp2[-(i+1)] += del_loss*0.01\n",
    "            wts_tmp = deepcopy(weights)\n",
    "\n",
    "        weights = deepcopy(wts_tmp2)\n",
    "    return wts_tmp2"
   ]
  },
  {
   "cell_type": "code",
   "execution_count": 14,
   "metadata": {
    "ExecuteTime": {
     "end_time": "2019-02-06T15:01:04.259595Z",
     "start_time": "2019-02-06T15:01:04.257124Z"
    },
    "colab": {},
    "colab_type": "code",
    "id": "DO5kDajIwTvL"
   },
   "outputs": [],
   "source": [
    "w = [[[0.01]], [0.]]"
   ]
  },
  {
   "cell_type": "code",
   "execution_count": 15,
   "metadata": {
    "ExecuteTime": {
     "end_time": "2019-02-06T15:01:04.265501Z",
     "start_time": "2019-02-06T15:01:04.261875Z"
    },
    "colab": {
     "base_uri": "https://localhost:8080/",
     "height": 34
    },
    "colab_type": "code",
    "id": "Vl-3pGg7wyA0",
    "outputId": "7cf93b00-e5c0-442d-bb3d-684989279a55"
   },
   "outputs": [
    {
     "data": {
      "text/plain": [
       "0"
      ]
     },
     "execution_count": 15,
     "metadata": {},
     "output_type": "execute_result"
    }
   ],
   "source": [
    "w = [2000, 0]\n",
    "w[-1]"
   ]
  },
  {
   "cell_type": "code",
   "execution_count": 16,
   "metadata": {
    "ExecuteTime": {
     "end_time": "2019-02-06T15:01:04.271473Z",
     "start_time": "2019-02-06T15:01:04.267050Z"
    },
    "colab": {
     "base_uri": "https://localhost:8080/",
     "height": 34
    },
    "colab_type": "code",
    "id": "AXoyyzovwbnu",
    "outputId": "26cebca4-df81-41d1-9115-f9c961ce8354"
   },
   "outputs": [
    {
     "data": {
      "text/plain": [
       "[1700.2999925636686, -99.90000113612041]"
      ]
     },
     "execution_count": 16,
     "metadata": {},
     "output_type": "execute_result"
    }
   ],
   "source": [
    "import numpy as np\n",
    "from copy import deepcopy\n",
    "update_weights(x,y,w,1)"
   ]
  },
  {
   "cell_type": "code",
   "execution_count": 17,
   "metadata": {
    "ExecuteTime": {
     "end_time": "2019-02-06T15:01:41.999589Z",
     "start_time": "2019-02-06T15:01:04.272917Z"
    },
    "colab": {},
    "colab_type": "code",
    "id": "Cp1ARjWVxjv6"
   },
   "outputs": [],
   "source": [
    "w_val = []\n",
    "b_val = []\n",
    "for k in range(1000):\n",
    "    w_new, b_new = update_weights(x,y,w,(k+1))\n",
    "    w_val.append(w_new)\n",
    "    b_val.append(b_new)"
   ]
  },
  {
   "cell_type": "code",
   "execution_count": 18,
   "metadata": {
    "ExecuteTime": {
     "end_time": "2019-02-06T15:01:42.439555Z",
     "start_time": "2019-02-06T15:01:42.003499Z"
    },
    "colab": {
     "base_uri": "https://localhost:8080/",
     "height": 294
    },
    "colab_type": "code",
    "id": "YxqiDTabCpbq",
    "outputId": "4ddf96bb-c1a0-455e-d4ee-80442a7e2306"
   },
   "outputs": [
    {
     "name": "stderr",
     "output_type": "stream",
     "text": [
      "/Users/yreddy31/anaconda3/envs/ocr/lib/python3.6/site-packages/matplotlib/cbook/__init__.py:424: MatplotlibDeprecationWarning: \n",
      "Passing one of 'on', 'true', 'off', 'false' as a boolean is deprecated; use an actual boolean (True/False) instead.\n",
      "  warn_deprecated(\"2.2\", \"Passing one of 'on', 'true', 'off', 'false' as a \"\n"
     ]
    },
    {
     "data": {
      "image/png": "[encoded data removed]",
      "text/plain": [
       "<Figure size 432x288 with 1 Axes>"
      ]
     },
     "metadata": {
      "needs_background": "light"
     },
     "output_type": "display_data"
    }
   ],
   "source": [
    "import matplotlib.pyplot as plt\n",
    "%matplotlib inline\n",
    "plt.plot(w_val)\n",
    "plt.title('Weight value over different epochs when initial weight is 1.5')\n",
    "plt.xlabel('epochs')\n",
    "plt.ylabel('weight value')\n",
    "plt.grid('off')"
   ]
  },
  {
   "cell_type": "code",
   "execution_count": 19,
   "metadata": {
    "ExecuteTime": {
     "end_time": "2019-02-06T15:01:42.595083Z",
     "start_time": "2019-02-06T15:01:42.441418Z"
    },
    "colab": {
     "base_uri": "https://localhost:8080/",
     "height": 294
    },
    "colab_type": "code",
    "id": "vD7_gStUCag4",
    "outputId": "cf8244f4-0d6d-478e-ad69-3123b409617d"
   },
   "outputs": [
    {
     "data": {
      "image/png": "[encoded data removed]",
      "text/plain": [
       "<Figure size 432x288 with 1 Axes>"
      ]
     },
     "metadata": {
      "needs_background": "light"
     },
     "output_type": "display_data"
    }
   ],
   "source": [
    "import matplotlib.pyplot as plt\n",
    "%matplotlib inline\n",
    "plt.plot(w_val)\n",
    "plt.title('Weight value over different epochs when initial weight is 0.01')\n",
    "plt.xlabel('epochs')\n",
    "plt.ylabel('weight value')\n",
    "plt.grid('off')"
   ]
  },
  {
   "cell_type": "code",
   "execution_count": 20,
   "metadata": {
    "ExecuteTime": {
     "end_time": "2019-02-06T15:01:42.751047Z",
     "start_time": "2019-02-06T15:01:42.596516Z"
    },
    "colab": {
     "base_uri": "https://localhost:8080/",
     "height": 294
    },
    "colab_type": "code",
    "id": "0QmI07khy8Yt",
    "outputId": "7860e743-1a0b-441c-87b0-3b0c7c9289d1"
   },
   "outputs": [
    {
     "data": {
      "image/png": "[encoded data removed]",
      "text/plain": [
       "<Figure size 432x288 with 1 Axes>"
      ]
     },
     "metadata": {
      "needs_background": "light"
     },
     "output_type": "display_data"
    }
   ],
   "source": [
    "import matplotlib.pyplot as plt\n",
    "%matplotlib inline\n",
    "plt.plot(w_val)\n",
    "plt.title('Weight value over different epochs when initial weight is 0.00001')\n",
    "plt.xlabel('epochs')\n",
    "plt.ylabel('weight value')\n",
    "plt.grid('off')"
   ]
  },
  {
   "cell_type": "code",
   "execution_count": 21,
   "metadata": {
    "ExecuteTime": {
     "end_time": "2019-02-06T15:01:42.756141Z",
     "start_time": "2019-02-06T15:01:42.752481Z"
    },
    "colab": {
     "base_uri": "https://localhost:8080/",
     "height": 34
    },
    "colab_type": "code",
    "id": "JQhrdZhQqEdW",
    "outputId": "91082904-e2df-4129-c43e-f6e2788cfb78"
   },
   "outputs": [
    {
     "data": {
      "text/plain": [
       "[array([[0.919855]], dtype=float32), array([0.], dtype=float32)]"
      ]
     },
     "execution_count": 21,
     "metadata": {},
     "output_type": "execute_result"
    }
   ],
   "source": [
    "w = list(model.get_weights().copy())\n",
    "w"
   ]
  },
  {
   "cell_type": "code",
   "execution_count": 22,
   "metadata": {
    "ExecuteTime": {
     "end_time": "2019-02-06T15:01:42.771200Z",
     "start_time": "2019-02-06T15:01:42.757573Z"
    },
    "colab": {
     "base_uri": "https://localhost:8080/",
     "height": 17034
    },
    "colab_type": "code",
    "id": "wJMNp4m2kh2X",
    "outputId": "aa5106d5-8c5f-4442-adff-59bb2e4f8d8b"
   },
   "outputs": [
    {
     "data": {
      "text/plain": [
       "[array([[1.9169455]], dtype=float32), array([0.24405321], dtype=float32)]"
      ]
     },
     "execution_count": 22,
     "metadata": {},
     "output_type": "execute_result"
    }
   ],
   "source": [
    "update_weights(x,y,w,100)"
   ]
  },
  {
   "cell_type": "code",
   "execution_count": 23,
   "metadata": {
    "ExecuteTime": {
     "end_time": "2019-02-06T15:01:43.086233Z",
     "start_time": "2019-02-06T15:01:42.772533Z"
    },
    "colab": {
     "base_uri": "https://localhost:8080/",
     "height": 3434
    },
    "colab_type": "code",
    "id": "gsBQ4FM5kmKm",
    "outputId": "59621d03-a104-4b36-f7a1-fc5ae9d812ae"
   },
   "outputs": [
    {
     "name": "stdout",
     "output_type": "stream",
     "text": [
      "Epoch 1/100\n",
      "4/4 [==============================] - 0s 18ms/step - loss: 8.7503 - acc: 0.0000e+00\n",
      "Epoch 2/100\n",
      "4/4 [==============================] - 0s 344us/step - loss: 6.0771 - acc: 0.0000e+00\n",
      "Epoch 3/100\n",
      "4/4 [==============================] - 0s 308us/step - loss: 4.2222 - acc: 0.0000e+00\n",
      "Epoch 4/100\n",
      "4/4 [==============================] - 0s 248us/step - loss: 2.9351 - acc: 0.0000e+00\n",
      "Epoch 5/100\n",
      "4/4 [==============================] - 0s 249us/step - loss: 2.0419 - acc: 0.2500\n",
      "Epoch 6/100\n",
      "4/4 [==============================] - 0s 208us/step - loss: 1.4221 - acc: 0.2500\n",
      "Epoch 7/100\n",
      "4/4 [==============================] - 0s 216us/step - loss: 0.9921 - acc: 0.2500\n",
      "Epoch 8/100\n",
      "4/4 [==============================] - 0s 204us/step - loss: 0.6936 - acc: 0.2500\n",
      "Epoch 9/100\n",
      "4/4 [==============================] - 0s 229us/step - loss: 0.4865 - acc: 0.5000\n",
      "Epoch 10/100\n",
      "4/4 [==============================] - 0s 226us/step - loss: 0.3428 - acc: 0.5000\n",
      "Epoch 11/100\n",
      "4/4 [==============================] - 0s 248us/step - loss: 0.2430 - acc: 0.5000\n",
      "Epoch 12/100\n",
      "4/4 [==============================] - 0s 243us/step - loss: 0.1737 - acc: 0.7500\n",
      "Epoch 13/100\n",
      "4/4 [==============================] - 0s 303us/step - loss: 0.1256 - acc: 0.7500\n",
      "Epoch 14/100\n",
      "4/4 [==============================] - 0s 197us/step - loss: 0.0922 - acc: 0.7500\n",
      "Epoch 15/100\n",
      "4/4 [==============================] - 0s 184us/step - loss: 0.0690 - acc: 1.0000\n",
      "Epoch 16/100\n",
      "4/4 [==============================] - 0s 186us/step - loss: 0.0529 - acc: 1.0000\n",
      "Epoch 17/100\n",
      "4/4 [==============================] - 0s 174us/step - loss: 0.0417 - acc: 1.0000\n",
      "Epoch 18/100\n",
      "4/4 [==============================] - 0s 229us/step - loss: 0.0339 - acc: 1.0000\n",
      "Epoch 19/100\n",
      "4/4 [==============================] - 0s 202us/step - loss: 0.0284 - acc: 1.0000\n",
      "Epoch 20/100\n",
      "4/4 [==============================] - 0s 189us/step - loss: 0.0246 - acc: 1.0000\n",
      "Epoch 21/100\n",
      "4/4 [==============================] - 0s 192us/step - loss: 0.0219 - acc: 1.0000\n",
      "Epoch 22/100\n",
      "4/4 [==============================] - 0s 302us/step - loss: 0.0200 - acc: 1.0000\n",
      "Epoch 23/100\n",
      "4/4 [==============================] - 0s 281us/step - loss: 0.0187 - acc: 1.0000\n",
      "Epoch 24/100\n",
      "4/4 [==============================] - 0s 235us/step - loss: 0.0177 - acc: 1.0000\n",
      "Epoch 25/100\n",
      "4/4 [==============================] - 0s 229us/step - loss: 0.0170 - acc: 1.0000\n",
      "Epoch 26/100\n",
      "4/4 [==============================] - 0s 181us/step - loss: 0.0165 - acc: 1.0000\n",
      "Epoch 27/100\n",
      "4/4 [==============================] - 0s 201us/step - loss: 0.0161 - acc: 1.0000\n",
      "Epoch 28/100\n",
      "4/4 [==============================] - 0s 202us/step - loss: 0.0159 - acc: 1.0000\n",
      "Epoch 29/100\n",
      "4/4 [==============================] - 0s 239us/step - loss: 0.0156 - acc: 1.0000\n",
      "Epoch 30/100\n",
      "4/4 [==============================] - 0s 187us/step - loss: 0.0154 - acc: 1.0000\n",
      "Epoch 31/100\n",
      "4/4 [==============================] - 0s 182us/step - loss: 0.0153 - acc: 1.0000\n",
      "Epoch 32/100\n",
      "4/4 [==============================] - 0s 358us/step - loss: 0.0151 - acc: 1.0000\n",
      "Epoch 33/100\n",
      "4/4 [==============================] - 0s 793us/step - loss: 0.0150 - acc: 1.0000\n",
      "Epoch 34/100\n",
      "4/4 [==============================] - 0s 201us/step - loss: 0.0149 - acc: 1.0000\n",
      "Epoch 35/100\n",
      "4/4 [==============================] - 0s 262us/step - loss: 0.0148 - acc: 1.0000\n",
      "Epoch 36/100\n",
      "4/4 [==============================] - 0s 234us/step - loss: 0.0147 - acc: 1.0000\n",
      "Epoch 37/100\n",
      "4/4 [==============================] - 0s 218us/step - loss: 0.0146 - acc: 1.0000\n",
      "Epoch 38/100\n",
      "4/4 [==============================] - 0s 203us/step - loss: 0.0145 - acc: 1.0000\n",
      "Epoch 39/100\n",
      "4/4 [==============================] - 0s 230us/step - loss: 0.0144 - acc: 1.0000\n",
      "Epoch 40/100\n",
      "4/4 [==============================] - 0s 172us/step - loss: 0.0143 - acc: 1.0000\n",
      "Epoch 41/100\n",
      "4/4 [==============================] - 0s 342us/step - loss: 0.0143 - acc: 1.0000\n",
      "Epoch 42/100\n",
      "4/4 [==============================] - 0s 300us/step - loss: 0.0142 - acc: 1.0000\n",
      "Epoch 43/100\n",
      "4/4 [==============================] - 0s 211us/step - loss: 0.0141 - acc: 1.0000\n",
      "Epoch 44/100\n",
      "4/4 [==============================] - 0s 193us/step - loss: 0.0140 - acc: 1.0000\n",
      "Epoch 45/100\n",
      "4/4 [==============================] - 0s 188us/step - loss: 0.0139 - acc: 1.0000\n",
      "Epoch 46/100\n",
      "4/4 [==============================] - 0s 205us/step - loss: 0.0138 - acc: 1.0000\n",
      "Epoch 47/100\n",
      "4/4 [==============================] - 0s 191us/step - loss: 0.0137 - acc: 1.0000\n",
      "Epoch 48/100\n",
      "4/4 [==============================] - 0s 235us/step - loss: 0.0137 - acc: 1.0000\n",
      "Epoch 49/100\n",
      "4/4 [==============================] - 0s 171us/step - loss: 0.0136 - acc: 1.0000\n",
      "Epoch 50/100\n",
      "4/4 [==============================] - 0s 178us/step - loss: 0.0135 - acc: 1.0000\n",
      "Epoch 51/100\n",
      "4/4 [==============================] - 0s 169us/step - loss: 0.0134 - acc: 1.0000\n",
      "Epoch 52/100\n",
      "4/4 [==============================] - 0s 201us/step - loss: 0.0133 - acc: 1.0000\n",
      "Epoch 53/100\n",
      "4/4 [==============================] - 0s 421us/step - loss: 0.0133 - acc: 1.0000\n",
      "Epoch 54/100\n",
      "4/4 [==============================] - 0s 264us/step - loss: 0.0132 - acc: 1.0000\n",
      "Epoch 55/100\n",
      "4/4 [==============================] - 0s 233us/step - loss: 0.0131 - acc: 1.0000\n",
      "Epoch 56/100\n",
      "4/4 [==============================] - 0s 253us/step - loss: 0.0130 - acc: 1.0000\n",
      "Epoch 57/100\n",
      "4/4 [==============================] - 0s 246us/step - loss: 0.0129 - acc: 1.0000\n",
      "Epoch 58/100\n",
      "4/4 [==============================] - 0s 210us/step - loss: 0.0129 - acc: 1.0000\n",
      "Epoch 59/100\n",
      "4/4 [==============================] - 0s 204us/step - loss: 0.0128 - acc: 1.0000\n",
      "Epoch 60/100\n",
      "4/4 [==============================] - 0s 198us/step - loss: 0.0127 - acc: 1.0000\n",
      "Epoch 61/100\n",
      "4/4 [==============================] - 0s 177us/step - loss: 0.0126 - acc: 1.0000\n",
      "Epoch 62/100\n",
      "4/4 [==============================] - 0s 206us/step - loss: 0.0126 - acc: 1.0000\n",
      "Epoch 63/100\n",
      "4/4 [==============================] - 0s 247us/step - loss: 0.0125 - acc: 1.0000\n",
      "Epoch 64/100\n",
      "4/4 [==============================] - 0s 276us/step - loss: 0.0124 - acc: 1.0000\n",
      "Epoch 65/100\n",
      "4/4 [==============================] - 0s 199us/step - loss: 0.0123 - acc: 1.0000\n",
      "Epoch 66/100\n",
      "4/4 [==============================] - 0s 212us/step - loss: 0.0123 - acc: 1.0000\n",
      "Epoch 67/100\n",
      "4/4 [==============================] - 0s 181us/step - loss: 0.0122 - acc: 1.0000\n",
      "Epoch 68/100\n",
      "4/4 [==============================] - 0s 295us/step - loss: 0.0121 - acc: 1.0000\n",
      "Epoch 69/100\n",
      "4/4 [==============================] - 0s 185us/step - loss: 0.0120 - acc: 1.0000\n",
      "Epoch 70/100\n",
      "4/4 [==============================] - 0s 194us/step - loss: 0.0120 - acc: 1.0000\n",
      "Epoch 71/100\n",
      "4/4 [==============================] - 0s 189us/step - loss: 0.0119 - acc: 1.0000\n",
      "Epoch 72/100\n",
      "4/4 [==============================] - 0s 175us/step - loss: 0.0118 - acc: 1.0000\n",
      "Epoch 73/100\n",
      "4/4 [==============================] - 0s 199us/step - loss: 0.0118 - acc: 1.0000\n",
      "Epoch 74/100\n",
      "4/4 [==============================] - 0s 219us/step - loss: 0.0117 - acc: 1.0000\n",
      "Epoch 75/100\n",
      "4/4 [==============================] - 0s 246us/step - loss: 0.0116 - acc: 1.0000\n",
      "Epoch 76/100\n",
      "4/4 [==============================] - 0s 196us/step - loss: 0.0115 - acc: 1.0000\n",
      "Epoch 77/100\n",
      "4/4 [==============================] - 0s 212us/step - loss: 0.0115 - acc: 1.0000\n",
      "Epoch 78/100\n",
      "4/4 [==============================] - 0s 192us/step - loss: 0.0114 - acc: 1.0000\n",
      "Epoch 79/100\n",
      "4/4 [==============================] - 0s 192us/step - loss: 0.0113 - acc: 1.0000\n",
      "Epoch 80/100\n",
      "4/4 [==============================] - 0s 188us/step - loss: 0.0113 - acc: 1.0000\n",
      "Epoch 81/100\n",
      "4/4 [==============================] - 0s 196us/step - loss: 0.0112 - acc: 1.0000\n",
      "Epoch 82/100\n",
      "4/4 [==============================] - 0s 169us/step - loss: 0.0111 - acc: 1.0000\n",
      "Epoch 83/100\n",
      "4/4 [==============================] - 0s 204us/step - loss: 0.0111 - acc: 1.0000\n",
      "Epoch 84/100\n",
      "4/4 [==============================] - 0s 193us/step - loss: 0.0110 - acc: 1.0000\n",
      "Epoch 85/100\n",
      "4/4 [==============================] - 0s 201us/step - loss: 0.0109 - acc: 1.0000\n",
      "Epoch 86/100\n",
      "4/4 [==============================] - 0s 200us/step - loss: 0.0109 - acc: 1.0000\n",
      "Epoch 87/100\n",
      "4/4 [==============================] - 0s 344us/step - loss: 0.0108 - acc: 1.0000\n"
     ]
    },
    {
     "name": "stdout",
     "output_type": "stream",
     "text": [
      "Epoch 88/100\n",
      "4/4 [==============================] - 0s 270us/step - loss: 0.0107 - acc: 1.0000\n",
      "Epoch 89/100\n",
      "4/4 [==============================] - 0s 213us/step - loss: 0.0107 - acc: 1.0000\n",
      "Epoch 90/100\n",
      "4/4 [==============================] - 0s 394us/step - loss: 0.0106 - acc: 1.0000\n",
      "Epoch 91/100\n",
      "4/4 [==============================] - 0s 278us/step - loss: 0.0106 - acc: 1.0000\n",
      "Epoch 92/100\n",
      "4/4 [==============================] - 0s 286us/step - loss: 0.0105 - acc: 1.0000\n",
      "Epoch 93/100\n",
      "4/4 [==============================] - 0s 217us/step - loss: 0.0104 - acc: 1.0000\n",
      "Epoch 94/100\n",
      "4/4 [==============================] - 0s 229us/step - loss: 0.0104 - acc: 1.0000\n",
      "Epoch 95/100\n",
      "4/4 [==============================] - 0s 210us/step - loss: 0.0103 - acc: 1.0000\n",
      "Epoch 96/100\n",
      "4/4 [==============================] - 0s 243us/step - loss: 0.0102 - acc: 1.0000\n",
      "Epoch 97/100\n",
      "4/4 [==============================] - 0s 246us/step - loss: 0.0102 - acc: 1.0000\n",
      "Epoch 98/100\n",
      "4/4 [==============================] - 0s 221us/step - loss: 0.0101 - acc: 1.0000\n",
      "Epoch 99/100\n",
      "4/4 [==============================] - 0s 181us/step - loss: 0.0101 - acc: 1.0000\n",
      "Epoch 100/100\n",
      "4/4 [==============================] - 0s 180us/step - loss: 0.0100 - acc: 1.0000\n"
     ]
    },
    {
     "data": {
      "text/plain": [
       "<keras.callbacks.History at 0x13142c550>"
      ]
     },
     "execution_count": 23,
     "metadata": {},
     "output_type": "execute_result"
    }
   ],
   "source": [
    "model.fit(np.array(x), np.array(y), epochs=100, batch_size = 4, verbose=1)"
   ]
  },
  {
   "cell_type": "code",
   "execution_count": 24,
   "metadata": {
    "ExecuteTime": {
     "end_time": "2019-02-06T15:01:43.092924Z",
     "start_time": "2019-02-06T15:01:43.088369Z"
    },
    "colab": {
     "base_uri": "https://localhost:8080/",
     "height": 34
    },
    "colab_type": "code",
    "id": "-XgMBr75kpoU",
    "outputId": "ff6276d0-1239-4173-9963-39f8d664e925"
   },
   "outputs": [
    {
     "data": {
      "text/plain": [
       "[array([[1.9170165]], dtype=float32), array([0.24398172], dtype=float32)]"
      ]
     },
     "execution_count": 24,
     "metadata": {},
     "output_type": "execute_result"
    }
   ],
   "source": [
    "model.get_weights()"
   ]
  },
  {
   "cell_type": "code",
   "execution_count": null,
   "metadata": {
    "colab": {},
    "colab_type": "code",
    "id": "hnKdbDXc7_os"
   },
   "outputs": [],
   "source": []
  },
  {
   "cell_type": "code",
   "execution_count": null,
   "metadata": {
    "colab": {},
    "colab_type": "code",
    "id": "EIP1fJva7_sV"
   },
   "outputs": [],
   "source": []
  },
  {
   "cell_type": "code",
   "execution_count": null,
   "metadata": {
    "colab": {},
    "colab_type": "code",
    "id": "R2617Tap7_0F"
   },
   "outputs": [],
   "source": []
  },
  {
   "cell_type": "code",
   "execution_count": null,
   "metadata": {
    "colab": {},
    "colab_type": "code",
    "id": "1Aj_JINC7_x4"
   },
   "outputs": [],
   "source": []
  },
  {
   "cell_type": "code",
   "execution_count": null,
   "metadata": {
    "colab": {},
    "colab_type": "code",
    "id": "oKPyff0D7_wJ"
   },
   "outputs": [],
   "source": []
  }
 ],
 "metadata": {
  "colab": {
   "collapsed_sections": [],
   "name": "Neural network working details.ipynb",
   "provenance": [],
   "version": "0.3.2"
  },
  "kernelspec": {
   "display_name": "Python [conda env:ocr]",
   "language": "python",
   "name": "conda-env-ocr-py"
  },
  "language_info": {
   "codemirror_mode": {
    "name": "ipython",
    "version": 3
   },
   "file_extension": ".py",
   "mimetype": "text/x-python",
   "name": "python",
   "nbconvert_exporter": "python",
   "pygments_lexer": "ipython3",
   "version": "3.6.8"
  }
 },
 "nbformat": 4,
 "nbformat_minor": 1
}
