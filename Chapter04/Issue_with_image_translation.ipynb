{
  "nbformat": 4,
  "nbformat_minor": 0,
  "metadata": {
    "colab": {
      "name": "Issue with image translation.ipynb",
      "version": "0.3.2",
      "provenance": [],
      "collapsed_sections": []
    },
    "kernelspec": {
      "name": "python3",
      "display_name": "Python 3"
    },
    "accelerator": "GPU"
  },
  "cells": [
    {
      "metadata": {
        "id": "CmLeAE7jRrUu",
        "colab_type": "text"
      },
      "cell_type": "markdown",
      "source": [
        "# Issue with image translation"
      ]
    },
    {
      "metadata": {
        "id": "WTGTqLKxRpRS",
        "colab_type": "code",
        "outputId": "e6165c6a-c564-451b-9730-a6e6c1d7072c",
        "colab": {
          "base_uri": "https://localhost:8080/",
          "height": 34
        }
      },
      "cell_type": "code",
      "source": [
        "from keras.datasets import mnist\n",
        "import numpy\n",
        "from keras.datasets import mnist\n",
        "from keras.models import Sequential\n",
        "from keras.layers import Dense\n",
        "from keras.layers import Dropout\n",
        "from keras.utils import np_utils"
      ],
      "execution_count": 0,
      "outputs": [
        {
          "output_type": "stream",
          "text": [
            "Using TensorFlow backend.\n"
          ],
          "name": "stderr"
        }
      ]
    },
    {
      "metadata": {
        "id": "KttaL7-VSBNs",
        "colab_type": "code",
        "colab": {}
      },
      "cell_type": "code",
      "source": [
        "import matplotlib.pyplot as plt\n",
        "%matplotlib inline\n",
        "(X_train, y_train), (X_test, y_test) = mnist.load_data()"
      ],
      "execution_count": 0,
      "outputs": []
    },
    {
      "metadata": {
        "id": "h2qudJUgSDmn",
        "colab_type": "code",
        "colab": {}
      },
      "cell_type": "code",
      "source": [
        "X_train1 = X_train[y_train==1]"
      ],
      "execution_count": 0,
      "outputs": []
    },
    {
      "metadata": {
        "id": "FQeQXn0bSFAC",
        "colab_type": "code",
        "colab": {}
      },
      "cell_type": "code",
      "source": [
        "num_pixels = X_train.shape[1] * X_train.shape[2]\n",
        "X_train = X_train.reshape(X_train.shape[0],num_pixels).astype('float32')\n",
        "X_test = X_test.reshape(X_test.shape[0],num_pixels).astype('float32')\n",
        "X_train = X_train / 255\n",
        "X_test = X_test / 255"
      ],
      "execution_count": 0,
      "outputs": []
    },
    {
      "metadata": {
        "id": "v3L-4XgRSGNY",
        "colab_type": "code",
        "colab": {}
      },
      "cell_type": "code",
      "source": [
        "y_train = np_utils.to_categorical(y_train)\n",
        "y_test = np_utils.to_categorical(y_test)\n",
        "num_classes = y_train.shape[1]"
      ],
      "execution_count": 0,
      "outputs": []
    },
    {
      "metadata": {
        "id": "mA06Oi-uSHcq",
        "colab_type": "code",
        "outputId": "e04dd280-18df-4f00-8b39-4cd5f2b819d8",
        "colab": {
          "base_uri": "https://localhost:8080/",
          "height": 326
        }
      },
      "cell_type": "code",
      "source": [
        "model = Sequential()\n",
        "model.add(Dense(1000, input_dim=num_pixels, activation='relu'))\n",
        "model.add(Dense(num_classes, activation='softmax'))\n",
        "model.compile(loss='categorical_crossentropy', optimizer='adam',metrics=['accuracy'])\n",
        "history = model.fit(X_train, y_train, validation_data=(X_test, y_test),epochs=5, batch_size=1024, verbose=1)"
      ],
      "execution_count": 0,
      "outputs": [
        {
          "output_type": "stream",
          "text": [
            "WARNING:tensorflow:From /usr/local/lib/python3.6/dist-packages/tensorflow/python/framework/op_def_library.py:263: colocate_with (from tensorflow.python.framework.ops) is deprecated and will be removed in a future version.\n",
            "Instructions for updating:\n",
            "Colocations handled automatically by placer.\n",
            "WARNING:tensorflow:From /usr/local/lib/python3.6/dist-packages/tensorflow/python/ops/math_ops.py:3066: to_int32 (from tensorflow.python.ops.math_ops) is deprecated and will be removed in a future version.\n",
            "Instructions for updating:\n",
            "Use tf.cast instead.\n",
            "Train on 60000 samples, validate on 10000 samples\n",
            "Epoch 1/5\n",
            "60000/60000 [==============================] - 1s 23us/step - loss: 0.4802 - acc: 0.8693 - val_loss: 0.2297 - val_acc: 0.9364\n",
            "Epoch 2/5\n",
            "60000/60000 [==============================] - 1s 10us/step - loss: 0.1980 - acc: 0.9446 - val_loss: 0.1662 - val_acc: 0.9535\n",
            "Epoch 3/5\n",
            "60000/60000 [==============================] - 1s 10us/step - loss: 0.1429 - acc: 0.9601 - val_loss: 0.1285 - val_acc: 0.9638\n",
            "Epoch 4/5\n",
            "60000/60000 [==============================] - 1s 10us/step - loss: 0.1102 - acc: 0.9695 - val_loss: 0.1075 - val_acc: 0.9681\n",
            "Epoch 5/5\n",
            "60000/60000 [==============================] - 1s 10us/step - loss: 0.0875 - acc: 0.9759 - val_loss: 0.0939 - val_acc: 0.9718\n"
          ],
          "name": "stdout"
        }
      ]
    },
    {
      "metadata": {
        "id": "Zr4afnIkSIre",
        "colab_type": "code",
        "outputId": "b44990bd-0afa-4b30-ed4a-4d0a5bda8a85",
        "colab": {
          "base_uri": "https://localhost:8080/",
          "height": 282
        }
      },
      "cell_type": "code",
      "source": [
        "import numpy as np\n",
        "pic=np.zeros((28,28))\n",
        "pic2=np.copy(pic)\n",
        "for i in range(X_train1.shape[0]):\n",
        "    pic2=X_train1[i,:,:]\n",
        "    pic=pic+pic2\n",
        "pic=(pic/X_train1.shape[0])\n",
        "plt.imshow(pic)"
      ],
      "execution_count": 0,
      "outputs": [
        {
          "output_type": "execute_result",
          "data": {
            "text/plain": [
              "<matplotlib.image.AxesImage at 0x7fa1327a0978>"
            ]
          },
          "metadata": {
            "tags": []
          },
          "execution_count": 8
        },
        {
          "output_type": "display_data",
          "data": {
            "image/png": "[encoded data removed]",
            "text/plain": [
              "<Figure size 432x288 with 1 Axes>"
            ]
          },
          "metadata": {
            "tags": []
          }
        }
      ]
    },
    {
      "metadata": {
        "id": "wrIicP5lSQwi",
        "colab_type": "code",
        "outputId": "20dd8c6f-e7a0-48b1-ff09-cba671588676",
        "colab": {
          "base_uri": "https://localhost:8080/",
          "height": 265
        }
      },
      "cell_type": "code",
      "source": [
        "for i in range(pic.shape[0]):\n",
        "    if i<20:\n",
        "        pic[:,i]=pic[:,i+1]\n",
        "    plt.imshow(pic)"
      ],
      "execution_count": 0,
      "outputs": [
        {
          "output_type": "display_data",
          "data": {
            "image/png": "[encoded data removed]",
            "text/plain": [
              "<Figure size 432x288 with 1 Axes>"
            ]
          },
          "metadata": {
            "tags": []
          }
        }
      ]
    },
    {
      "metadata": {
        "id": "OWL1KnhjSim2",
        "colab_type": "code",
        "outputId": "604255d0-771d-4b09-ee97-1d06f3c57679",
        "colab": {
          "base_uri": "https://localhost:8080/",
          "height": 68
        }
      },
      "cell_type": "code",
      "source": [
        "model.predict(pic.reshape(1,784)/255)"
      ],
      "execution_count": 0,
      "outputs": [
        {
          "output_type": "execute_result",
          "data": {
            "text/plain": [
              "array([[0.0035322 , 0.41135082, 0.00784975, 0.00352904, 0.00087846,\n",
              "        0.01684994, 0.02631483, 0.0006783 , 0.5281616 , 0.00085507]],\n",
              "      dtype=float32)"
            ]
          },
          "metadata": {
            "tags": []
          },
          "execution_count": 11
        }
      ]
    },
    {
      "metadata": {
        "id": "9DfPo_aISmQ8",
        "colab_type": "code",
        "colab": {}
      },
      "cell_type": "code",
      "source": [
        ""
      ],
      "execution_count": 0,
      "outputs": []
    }
  ]
}