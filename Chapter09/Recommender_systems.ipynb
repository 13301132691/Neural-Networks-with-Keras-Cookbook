{
  "nbformat": 4,
  "nbformat_minor": 0,
  "metadata": {
    "colab": {
      "name": "Recommender_systems.ipynb",
      "version": "0.3.2",
      "provenance": [],
      "collapsed_sections": []
    },
    "kernelspec": {
      "name": "python3",
      "display_name": "Python 3"
    },
    "accelerator": "GPU"
  },
  "cells": [
    {
      "metadata": {
        "id": "Hx0tPAI0cefn",
        "colab_type": "code",
        "colab": {}
      },
      "cell_type": "code",
      "source": [
        "import numpy as np\n",
        "import pandas as pd"
      ],
      "execution_count": 0,
      "outputs": []
    },
    {
      "metadata": {
        "id": "yHX_GvMXchIS",
        "colab_type": "code",
        "colab": {}
      },
      "cell_type": "code",
      "source": [
        "column_names = ['User', 'Movies', 'rating', 'timestamp']\n",
        "ratings = pd.read_csv('/content/u.data', sep='\\t', names=column_names)"
      ],
      "execution_count": 0,
      "outputs": []
    },
    {
      "metadata": {
        "id": "AgbmZzgAcluf",
        "colab_type": "code",
        "colab": {}
      },
      "cell_type": "code",
      "source": [
        "ratings.head()"
      ],
      "execution_count": 0,
      "outputs": []
    },
    {
      "metadata": {
        "id": "QDR7E-uZELAB",
        "colab_type": "code",
        "colab": {}
      },
      "cell_type": "code",
      "source": [
        "ratings['User2']=ratings['User'].astype('category')\n",
        "ratings['Movies2']=ratings['Movies'].astype('category')"
      ],
      "execution_count": 0,
      "outputs": []
    },
    {
      "metadata": {
        "id": "1QB5X8_2-b3c",
        "colab_type": "code",
        "colab": {}
      },
      "cell_type": "code",
      "source": [
        "ratings.head()"
      ],
      "execution_count": 0,
      "outputs": []
    },
    {
      "metadata": {
        "id": "OJfimWfjc_bD",
        "colab_type": "code",
        "outputId": "e9220dea-a992-46a3-e0bb-66342110dc5f",
        "colab": {
          "base_uri": "https://localhost:8080/",
          "height": 34
        }
      },
      "cell_type": "code",
      "source": [
        "ratings.shape"
      ],
      "execution_count": 0,
      "outputs": [
        {
          "output_type": "execute_result",
          "data": {
            "text/plain": [
              "(100000, 6)"
            ]
          },
          "metadata": {
            "tags": []
          },
          "execution_count": 9
        }
      ]
    },
    {
      "metadata": {
        "id": "CDs1IXgycm-M",
        "colab_type": "code",
        "colab": {}
      },
      "cell_type": "code",
      "source": [
        "users = ratings.User.unique()\n",
        "articles = ratings.Movies.unique()"
      ],
      "execution_count": 0,
      "outputs": []
    },
    {
      "metadata": {
        "id": "S_j1Zs-7JWM4",
        "colab_type": "code",
        "outputId": "c1d2e405-e708-43e1-ab26-ab2670e5afb2",
        "colab": {
          "base_uri": "https://localhost:8080/",
          "height": 34
        }
      },
      "cell_type": "code",
      "source": [
        "len(users)"
      ],
      "execution_count": 0,
      "outputs": [
        {
          "output_type": "execute_result",
          "data": {
            "text/plain": [
              "943"
            ]
          },
          "metadata": {
            "tags": []
          },
          "execution_count": 11
        }
      ]
    },
    {
      "metadata": {
        "id": "DZgNptgPdN9R",
        "colab_type": "code",
        "outputId": "c0ad0b68-55c2-4231-8844-25d82a07778b",
        "colab": {
          "base_uri": "https://localhost:8080/",
          "height": 34
        }
      },
      "cell_type": "code",
      "source": [
        "len(articles)"
      ],
      "execution_count": 0,
      "outputs": [
        {
          "output_type": "execute_result",
          "data": {
            "text/plain": [
              "1682"
            ]
          },
          "metadata": {
            "tags": []
          },
          "execution_count": 12
        }
      ]
    },
    {
      "metadata": {
        "id": "7d_0FgwAc5Mu",
        "colab_type": "code",
        "outputId": "f7710a74-2f5e-4786-f1e5-898c78800a18",
        "colab": {
          "base_uri": "https://localhost:8080/",
          "height": 34
        }
      },
      "cell_type": "code",
      "source": [
        "len(ratings['Movies'][:100000].unique())"
      ],
      "execution_count": 0,
      "outputs": [
        {
          "output_type": "execute_result",
          "data": {
            "text/plain": [
              "1682"
            ]
          },
          "metadata": {
            "tags": []
          },
          "execution_count": 13
        }
      ]
    },
    {
      "metadata": {
        "id": "DAKV5CQw3Enp",
        "colab_type": "code",
        "colab": {}
      },
      "cell_type": "code",
      "source": [
        "ratings['User2']=ratings['User'].astype('category')\n",
        "ratings['Movies2']=ratings['Movies'].astype('category')"
      ],
      "execution_count": 0,
      "outputs": []
    },
    {
      "metadata": {
        "id": "k-4BHtzqc6Xb",
        "colab_type": "code",
        "colab": {}
      },
      "cell_type": "code",
      "source": [
        "userid2idx = {o:i for i,o in enumerate(users)}\n",
        "articlesid2idx = {o:i for i,o in enumerate(articles)}"
      ],
      "execution_count": 0,
      "outputs": []
    },
    {
      "metadata": {
        "id": "eROYLxUhjKOQ",
        "colab_type": "code",
        "colab": {}
      },
      "cell_type": "code",
      "source": [
        "idx2userid = {i:o for i,o in enumerate(users)}\n",
        "idx2articlesid = {i:o for i,o in enumerate(articles)}"
      ],
      "execution_count": 0,
      "outputs": []
    },
    {
      "metadata": {
        "id": "ivMwKr0fGLxy",
        "colab_type": "code",
        "outputId": "71de30d8-0ebe-46a5-9258-5cc7aea30a16",
        "colab": {
          "base_uri": "https://localhost:8080/",
          "height": 34
        }
      },
      "cell_type": "code",
      "source": [
        "print(articlesid2idx[313],articlesid2idx[60],articlesid2idx[61])"
      ],
      "execution_count": 0,
      "outputs": [
        {
          "output_type": "stream",
          "text": [
            "719 330 169\n"
          ],
          "name": "stdout"
        }
      ]
    },
    {
      "metadata": {
        "id": "uqAr6c6Yc7Jj",
        "colab_type": "code",
        "colab": {}
      },
      "cell_type": "code",
      "source": [
        "ratings['Movies2'] = ratings.Movies.apply(lambda x: articlesid2idx[x])\n",
        "ratings['User2'] = ratings.User.apply(lambda x: userid2idx[x])"
      ],
      "execution_count": 0,
      "outputs": []
    },
    {
      "metadata": {
        "id": "GfEX5bflARQ_",
        "colab_type": "code",
        "outputId": "f37668a0-7c3b-4f66-c12c-10bb14646d63",
        "colab": {
          "base_uri": "https://localhost:8080/",
          "height": 204
        }
      },
      "cell_type": "code",
      "source": [
        "ratings.head()"
      ],
      "execution_count": 0,
      "outputs": [
        {
          "output_type": "execute_result",
          "data": {
            "text/html": [
              "<div>\n",
              "<style scoped>\n",
              "    .dataframe tbody tr th:only-of-type {\n",
              "        vertical-align: middle;\n",
              "    }\n",
              "\n",
              "    .dataframe tbody tr th {\n",
              "        vertical-align: top;\n",
              "    }\n",
              "\n",
              "    .dataframe thead th {\n",
              "        text-align: right;\n",
              "    }\n",
              "</style>\n",
              "<table border=\"1\" class=\"dataframe\">\n",
              "  <thead>\n",
              "    <tr style=\"text-align: right;\">\n",
              "      <th></th>\n",
              "      <th>User</th>\n",
              "      <th>Movies</th>\n",
              "      <th>rating</th>\n",
              "      <th>timestamp</th>\n",
              "      <th>User2</th>\n",
              "      <th>Movies2</th>\n",
              "    </tr>\n",
              "  </thead>\n",
              "  <tbody>\n",
              "    <tr>\n",
              "      <th>0</th>\n",
              "      <td>196</td>\n",
              "      <td>242</td>\n",
              "      <td>3</td>\n",
              "      <td>881250949</td>\n",
              "      <td>0</td>\n",
              "      <td>0</td>\n",
              "    </tr>\n",
              "    <tr>\n",
              "      <th>1</th>\n",
              "      <td>186</td>\n",
              "      <td>302</td>\n",
              "      <td>3</td>\n",
              "      <td>891717742</td>\n",
              "      <td>1</td>\n",
              "      <td>1</td>\n",
              "    </tr>\n",
              "    <tr>\n",
              "      <th>2</th>\n",
              "      <td>22</td>\n",
              "      <td>377</td>\n",
              "      <td>1</td>\n",
              "      <td>878887116</td>\n",
              "      <td>2</td>\n",
              "      <td>2</td>\n",
              "    </tr>\n",
              "    <tr>\n",
              "      <th>3</th>\n",
              "      <td>244</td>\n",
              "      <td>51</td>\n",
              "      <td>2</td>\n",
              "      <td>880606923</td>\n",
              "      <td>3</td>\n",
              "      <td>3</td>\n",
              "    </tr>\n",
              "    <tr>\n",
              "      <th>4</th>\n",
              "      <td>166</td>\n",
              "      <td>346</td>\n",
              "      <td>1</td>\n",
              "      <td>886397596</td>\n",
              "      <td>4</td>\n",
              "      <td>4</td>\n",
              "    </tr>\n",
              "  </tbody>\n",
              "</table>\n",
              "</div>"
            ],
            "text/plain": [
              "   User  Movies  rating  timestamp  User2  Movies2\n",
              "0   196     242       3  881250949      0        0\n",
              "1   186     302       3  891717742      1        1\n",
              "2    22     377       1  878887116      2        2\n",
              "3   244      51       2  880606923      3        3\n",
              "4   166     346       1  886397596      4        4"
            ]
          },
          "metadata": {
            "tags": []
          },
          "execution_count": 94
        }
      ]
    },
    {
      "metadata": {
        "id": "_6i5JcWdCLIG",
        "colab_type": "code",
        "outputId": "b72ddca0-511b-4d92-f784-6f971435df32",
        "colab": {
          "base_uri": "https://localhost:8080/",
          "height": 34
        }
      },
      "cell_type": "code",
      "source": [
        "ratings['Movies'].unique()"
      ],
      "execution_count": 0,
      "outputs": [
        {
          "output_type": "execute_result",
          "data": {
            "text/plain": [
              "array([ 242,  302,  377, ..., 1637, 1630, 1641])"
            ]
          },
          "metadata": {
            "tags": []
          },
          "execution_count": 95
        }
      ]
    },
    {
      "metadata": {
        "id": "hauQSYQMdFKW",
        "colab_type": "code",
        "colab": {}
      },
      "cell_type": "code",
      "source": [
        "n_users = ratings.User.nunique()\n",
        "n_articles = ratings.Movies.nunique()"
      ],
      "execution_count": 0,
      "outputs": []
    },
    {
      "metadata": {
        "id": "Ghv7TTkfDWte",
        "colab_type": "code",
        "outputId": "e8d3d6eb-2165-425e-dfb3-e7a181a9a197",
        "colab": {
          "base_uri": "https://localhost:8080/",
          "height": 34
        }
      },
      "cell_type": "code",
      "source": [
        "n_users"
      ],
      "execution_count": 0,
      "outputs": [
        {
          "output_type": "execute_result",
          "data": {
            "text/plain": [
              "943"
            ]
          },
          "metadata": {
            "tags": []
          },
          "execution_count": 97
        }
      ]
    },
    {
      "metadata": {
        "id": "Y_cRfHOadKbF",
        "colab_type": "code",
        "colab": {}
      },
      "cell_type": "code",
      "source": [
        "import keras.backend as K\n",
        "def rmse(y_true,y_pred):\n",
        "  score = K.sqrt(K.mean(K.pow(y_true - y_pred, 2)))\n",
        "  return score"
      ],
      "execution_count": 0,
      "outputs": []
    },
    {
      "metadata": {
        "id": "kXG9HYfLdUJ_",
        "colab_type": "code",
        "colab": {}
      },
      "cell_type": "code",
      "source": [
        "from keras.layers import Input, Embedding, Dense, Dropout, merge, Flatten\n",
        "from keras.models import Model"
      ],
      "execution_count": 0,
      "outputs": []
    },
    {
      "metadata": {
        "id": "PjKcxDyRdWVF",
        "colab_type": "code",
        "colab": {}
      },
      "cell_type": "code",
      "source": [
        "def embedding_input(name,n_in,n_out):\n",
        "  inp = Input(shape=(1,),dtype='int64',name=name)\n",
        "  return inp, Embedding(n_in,n_out,input_length=1)(inp)"
      ],
      "execution_count": 0,
      "outputs": []
    },
    {
      "metadata": {
        "id": "URAdSfUQo0EV",
        "colab_type": "code",
        "colab": {}
      },
      "cell_type": "code",
      "source": [
        "n_factors = 100\n",
        "u = embedding_input('user_in', n_users, n_factors)\n",
        "a = embedding_input('article_in', n_articles, n_factors)"
      ],
      "execution_count": 0,
      "outputs": []
    },
    {
      "metadata": {
        "id": "ZmSvXGOJde1S",
        "colab_type": "code",
        "colab": {}
      },
      "cell_type": "code",
      "source": [
        "n_factors = 100\n",
        "user_in, u = embedding_input('user_in', n_users, n_factors)\n",
        "article_in, a = embedding_input('article_in', n_articles, n_factors)"
      ],
      "execution_count": 0,
      "outputs": []
    },
    {
      "metadata": {
        "id": "DgTkiH0bnfXW",
        "colab_type": "code",
        "outputId": "fd7286df-feba-4ff6-9643-f8547f40404a",
        "colab": {
          "base_uri": "https://localhost:8080/",
          "height": 34
        }
      },
      "cell_type": "code",
      "source": [
        "user_in"
      ],
      "execution_count": 0,
      "outputs": [
        {
          "output_type": "execute_result",
          "data": {
            "text/plain": [
              "<tf.Tensor 'user_in_3:0' shape=(?, 1) dtype=int64>"
            ]
          },
          "metadata": {
            "tags": []
          },
          "execution_count": 103
        }
      ]
    },
    {
      "metadata": {
        "id": "QLjQEETOfKzz",
        "colab_type": "code",
        "outputId": "40de76aa-7e8c-470c-8bbd-2c0ffce2f8f3",
        "colab": {
          "base_uri": "https://localhost:8080/",
          "height": 34
        }
      },
      "cell_type": "code",
      "source": [
        "user_in"
      ],
      "execution_count": 0,
      "outputs": [
        {
          "output_type": "execute_result",
          "data": {
            "text/plain": [
              "<tf.Tensor 'user_in_3:0' shape=(?, 1) dtype=int64>"
            ]
          },
          "metadata": {
            "tags": []
          },
          "execution_count": 104
        }
      ]
    },
    {
      "metadata": {
        "id": "Fb-AKlBwdhSh",
        "colab_type": "code",
        "outputId": "81f0e47b-4759-4d2c-8154-a86080141740",
        "colab": {
          "base_uri": "https://localhost:8080/",
          "height": 105
        }
      },
      "cell_type": "code",
      "source": [
        "x = merge([u,a],mode='dot')"
      ],
      "execution_count": 0,
      "outputs": [
        {
          "output_type": "stream",
          "text": [
            "/usr/local/lib/python3.6/dist-packages/ipykernel_launcher.py:1: UserWarning: The `merge` function is deprecated and will be removed after 08/2017. Use instead layers from `keras.layers.merge`, e.g. `add`, `concatenate`, etc.\n",
            "  \"\"\"Entry point for launching an IPython kernel.\n",
            "/usr/local/lib/python3.6/dist-packages/keras/legacy/layers.py:465: UserWarning: The `Merge` layer is deprecated and will be removed after 08/2017. Use instead layers from `keras.layers.merge`, e.g. `add`, `concatenate`, etc.\n",
            "  name=name)\n"
          ],
          "name": "stderr"
        }
      ]
    },
    {
      "metadata": {
        "id": "HSQuCdiPdj4X",
        "colab_type": "code",
        "colab": {}
      },
      "cell_type": "code",
      "source": [
        "x=Flatten()(x)\n",
        "x = Dense(500, activation='relu')(x)\n",
        "x = Dense(1)(x)"
      ],
      "execution_count": 0,
      "outputs": []
    },
    {
      "metadata": {
        "id": "JGWTmsZ3dtgY",
        "colab_type": "code",
        "colab": {}
      },
      "cell_type": "code",
      "source": [
        "from keras import optimizers"
      ],
      "execution_count": 0,
      "outputs": []
    },
    {
      "metadata": {
        "id": "n_xoYM-Fdwvz",
        "colab_type": "code",
        "outputId": "5cb37557-5f70-4e92-ae23-d560a53a954b",
        "colab": {
          "base_uri": "https://localhost:8080/",
          "height": 425
        }
      },
      "cell_type": "code",
      "source": [
        "model = Model([user_in,article_in],x)\n",
        "adam = optimizers.Adam(lr=0.01)\n",
        "model.compile(adam,loss='mse',metrics=[rmse])\n",
        "model.summary()"
      ],
      "execution_count": 0,
      "outputs": [
        {
          "output_type": "stream",
          "text": [
            "__________________________________________________________________________________________________\n",
            "Layer (type)                    Output Shape         Param #     Connected to                     \n",
            "==================================================================================================\n",
            "user_in (InputLayer)            (None, 1)            0                                            \n",
            "__________________________________________________________________________________________________\n",
            "article_in (InputLayer)         (None, 1)            0                                            \n",
            "__________________________________________________________________________________________________\n",
            "embedding_7 (Embedding)         (None, 1, 100)       94300       user_in[0][0]                    \n",
            "__________________________________________________________________________________________________\n",
            "embedding_8 (Embedding)         (None, 1, 100)       168200      article_in[0][0]                 \n",
            "__________________________________________________________________________________________________\n",
            "merge_4 (Merge)                 (None, 1, 1)         0           embedding_7[0][0]                \n",
            "                                                                 embedding_8[0][0]                \n",
            "__________________________________________________________________________________________________\n",
            "flatten_4 (Flatten)             (None, 1)            0           merge_4[0][0]                    \n",
            "__________________________________________________________________________________________________\n",
            "dense_7 (Dense)                 (None, 500)          1000        flatten_4[0][0]                  \n",
            "__________________________________________________________________________________________________\n",
            "dense_8 (Dense)                 (None, 1)            501         dense_7[0][0]                    \n",
            "==================================================================================================\n",
            "Total params: 264,001\n",
            "Trainable params: 264,001\n",
            "Non-trainable params: 0\n",
            "__________________________________________________________________________________________________\n"
          ],
          "name": "stdout"
        }
      ]
    },
    {
      "metadata": {
        "id": "0v-g6ZJldzMW",
        "colab_type": "code",
        "outputId": "4c7a1fdd-bf0a-4883-8a05-678eb78937fa",
        "colab": {
          "base_uri": "https://localhost:8080/",
          "height": 1754
        }
      },
      "cell_type": "code",
      "source": [
        "model.fit([ratings.User2,ratings.Movies2], ratings.rating, epochs=50,batch_size=128)"
      ],
      "execution_count": 0,
      "outputs": [
        {
          "output_type": "stream",
          "text": [
            "Epoch 1/50\n",
            "100000/100000 [==============================] - 5s 48us/step - loss: 1.3950 - rmse: 1.1580\n",
            "Epoch 2/50\n",
            "100000/100000 [==============================] - 4s 45us/step - loss: 0.8838 - rmse: 0.9378\n",
            "Epoch 3/50\n",
            "100000/100000 [==============================] - 5s 45us/step - loss: 0.6383 - rmse: 0.7969\n",
            "Epoch 4/50\n",
            "100000/100000 [==============================] - 4s 45us/step - loss: 0.4911 - rmse: 0.6986\n",
            "Epoch 5/50\n",
            " 27776/100000 [=======>......................] - ETA: 3s - loss: 0.3365 - rmse: 0.5782"
          ],
          "name": "stdout"
        },
        {
          "output_type": "stream",
          "text": [
            "100000/100000 [==============================] - 4s 44us/step - loss: 0.3679 - rmse: 0.6046\n",
            "Epoch 6/50\n",
            "100000/100000 [==============================] - 4s 44us/step - loss: 0.2788 - rmse: 0.5260\n",
            "Epoch 7/50\n",
            "100000/100000 [==============================] - 5s 45us/step - loss: 0.2195 - rmse: 0.4666\n",
            "Epoch 8/50\n",
            "100000/100000 [==============================] - 4s 45us/step - loss: 0.1759 - rmse: 0.4173\n",
            "Epoch 9/50\n",
            " 44160/100000 [============>.................] - ETA: 2s - loss: 0.1350 - rmse: 0.3658"
          ],
          "name": "stdout"
        },
        {
          "output_type": "stream",
          "text": [
            "100000/100000 [==============================] - 4s 44us/step - loss: 0.1462 - rmse: 0.3805\n",
            "Epoch 10/50\n",
            "100000/100000 [==============================] - 5s 46us/step - loss: 0.1219 - rmse: 0.3473\n",
            "Epoch 11/50\n",
            "100000/100000 [==============================] - 5s 47us/step - loss: 0.1070 - rmse: 0.3250\n",
            "Epoch 12/50\n",
            "100000/100000 [==============================] - 5s 45us/step - loss: 0.0934 - rmse: 0.3038\n",
            "Epoch 13/50\n",
            " 39296/100000 [==========>...................] - ETA: 2s - loss: 0.0758 - rmse: 0.2735"
          ],
          "name": "stdout"
        },
        {
          "output_type": "stream",
          "text": [
            "100000/100000 [==============================] - 4s 44us/step - loss: 0.0826 - rmse: 0.2855\n",
            "Epoch 14/50\n",
            "100000/100000 [==============================] - 5s 45us/step - loss: 0.0726 - rmse: 0.2676\n",
            "Epoch 15/50\n",
            "100000/100000 [==============================] - 5s 46us/step - loss: 0.0680 - rmse: 0.2585\n",
            "Epoch 16/50\n",
            "100000/100000 [==============================] - 5s 45us/step - loss: 0.0632 - rmse: 0.2491\n",
            "Epoch 17/50\n",
            " 38528/100000 [==========>...................] - ETA: 2s - loss: 0.0546 - rmse: 0.2310"
          ],
          "name": "stdout"
        },
        {
          "output_type": "stream",
          "text": [
            "100000/100000 [==============================] - 5s 47us/step - loss: 0.0590 - rmse: 0.2403\n",
            "Epoch 18/50\n",
            "100000/100000 [==============================] - 5s 47us/step - loss: 0.0561 - rmse: 0.2324\n",
            "Epoch 19/50\n",
            "100000/100000 [==============================] - 5s 45us/step - loss: 0.0494 - rmse: 0.2195\n",
            "Epoch 20/50\n",
            "100000/100000 [==============================] - 5s 45us/step - loss: 0.0468 - rmse: 0.2130\n",
            "Epoch 21/50\n",
            " 36864/100000 [==========>...................] - ETA: 2s - loss: 0.0381 - rmse: 0.1930"
          ],
          "name": "stdout"
        },
        {
          "output_type": "stream",
          "text": [
            "100000/100000 [==============================] - 5s 45us/step - loss: 0.0416 - rmse: 0.2014\n",
            "Epoch 22/50\n",
            "100000/100000 [==============================] - 4s 45us/step - loss: 0.0390 - rmse: 0.1948\n",
            "Epoch 23/50\n",
            "100000/100000 [==============================] - 5s 45us/step - loss: 0.0380 - rmse: 0.1914\n",
            "Epoch 24/50\n",
            "100000/100000 [==============================] - 4s 44us/step - loss: 0.0356 - rmse: 0.1855\n",
            "Epoch 25/50\n",
            " 41088/100000 [===========>..................] - ETA: 2s - loss: 0.0293 - rmse: 0.1687"
          ],
          "name": "stdout"
        },
        {
          "output_type": "stream",
          "text": [
            "100000/100000 [==============================] - 4s 45us/step - loss: 0.0335 - rmse: 0.1797\n",
            "Epoch 26/50\n",
            "100000/100000 [==============================] - 5s 47us/step - loss: 0.0310 - rmse: 0.1730\n",
            "Epoch 27/50\n",
            "100000/100000 [==============================] - 4s 45us/step - loss: 0.0290 - rmse: 0.1674\n",
            "Epoch 28/50\n",
            "100000/100000 [==============================] - 5s 45us/step - loss: 0.0269 - rmse: 0.1611\n",
            "Epoch 29/50\n",
            " 38272/100000 [==========>...................] - ETA: 2s - loss: 0.0271 - rmse: 0.1608"
          ],
          "name": "stdout"
        },
        {
          "output_type": "stream",
          "text": [
            "100000/100000 [==============================] - 5s 45us/step - loss: 0.0271 - rmse: 0.1618\n",
            "Epoch 30/50\n",
            "100000/100000 [==============================] - 5s 46us/step - loss: 0.0266 - rmse: 0.1602\n",
            "Epoch 31/50\n",
            "100000/100000 [==============================] - 5s 48us/step - loss: 0.0275 - rmse: 0.1615\n",
            "Epoch 32/50\n",
            "100000/100000 [==============================] - 5s 46us/step - loss: 0.0304 - rmse: 0.1682\n",
            "Epoch 33/50\n",
            " 34944/100000 [=========>....................] - ETA: 3s - loss: 0.0258 - rmse: 0.1569"
          ],
          "name": "stdout"
        },
        {
          "output_type": "stream",
          "text": [
            "100000/100000 [==============================] - 5s 46us/step - loss: 0.0240 - rmse: 0.1521\n",
            "Epoch 34/50\n",
            "100000/100000 [==============================] - 5s 47us/step - loss: 0.0223 - rmse: 0.1458\n",
            "Epoch 35/50\n",
            "100000/100000 [==============================] - 4s 45us/step - loss: 0.0231 - rmse: 0.1463\n",
            "Epoch 36/50\n",
            "100000/100000 [==============================] - 4s 45us/step - loss: 0.0256 - rmse: 0.1543\n",
            "Epoch 37/50\n",
            " 37504/100000 [==========>...................] - ETA: 3s - loss: 0.0905 - rmse: 0.2204"
          ],
          "name": "stdout"
        },
        {
          "output_type": "stream",
          "text": [
            "100000/100000 [==============================] - 5s 46us/step - loss: 0.0520 - rmse: 0.1874\n",
            "Epoch 38/50\n",
            "100000/100000 [==============================] - 5s 45us/step - loss: 0.0250 - rmse: 0.1551\n",
            "Epoch 39/50\n",
            "100000/100000 [==============================] - 5s 46us/step - loss: 0.0216 - rmse: 0.1370\n",
            "Epoch 40/50\n",
            "100000/100000 [==============================] - 4s 44us/step - loss: 0.0171 - rmse: 0.1278\n",
            "Epoch 41/50\n",
            " 42368/100000 [===========>..................] - ETA: 2s - loss: 0.0141 - rmse: 0.1158"
          ],
          "name": "stdout"
        },
        {
          "output_type": "stream",
          "text": [
            "100000/100000 [==============================] - 4s 45us/step - loss: 0.0159 - rmse: 0.1226\n",
            "Epoch 42/50\n",
            "100000/100000 [==============================] - 5s 45us/step - loss: 0.0189 - rmse: 0.1344\n",
            "Epoch 43/50\n",
            "100000/100000 [==============================] - 4s 45us/step - loss: 0.0205 - rmse: 0.1400\n",
            "Epoch 44/50\n",
            "100000/100000 [==============================] - 5s 46us/step - loss: 0.0209 - rmse: 0.1412\n",
            "Epoch 45/50\n",
            " 39552/100000 [==========>...................] - ETA: 2s - loss: 0.0179 - rmse: 0.1308"
          ],
          "name": "stdout"
        },
        {
          "output_type": "stream",
          "text": [
            "100000/100000 [==============================] - 5s 46us/step - loss: 0.0174 - rmse: 0.1291\n",
            "Epoch 46/50\n",
            "100000/100000 [==============================] - 4s 44us/step - loss: 0.0174 - rmse: 0.1262\n",
            "Epoch 47/50\n",
            "100000/100000 [==============================] - 5s 46us/step - loss: 0.0178 - rmse: 0.1288\n",
            "Epoch 48/50\n",
            "100000/100000 [==============================] - 4s 44us/step - loss: 0.0156 - rmse: 0.1221\n",
            "Epoch 49/50\n",
            " 43520/100000 [============>.................] - ETA: 2s - loss: 0.0158 - rmse: 0.1210"
          ],
          "name": "stdout"
        },
        {
          "output_type": "stream",
          "text": [
            "100000/100000 [==============================] - 4s 44us/step - loss: 0.0190 - rmse: 0.1313\n",
            "Epoch 50/50\n",
            "100000/100000 [==============================] - 5s 46us/step - loss: 0.0268 - rmse: 0.1492\n"
          ],
          "name": "stdout"
        },
        {
          "output_type": "execute_result",
          "data": {
            "text/plain": [
              "<keras.callbacks.History at 0x7f56a2569438>"
            ]
          },
          "metadata": {
            "tags": []
          },
          "execution_count": 38
        }
      ]
    },
    {
      "metadata": {
        "id": "h110Xo9DGlCI",
        "colab_type": "code",
        "colab": {}
      },
      "cell_type": "code",
      "source": [
        "from sklearn.metrics.pairwise import cosine_similarity"
      ],
      "execution_count": 0,
      "outputs": []
    },
    {
      "metadata": {
        "id": "S2dJ4eW0s5P9",
        "colab_type": "code",
        "outputId": "13b994a9-0121-4316-90ef-3387a2a4a9c0",
        "colab": {
          "base_uri": "https://localhost:8080/",
          "height": 34
        }
      },
      "cell_type": "code",
      "source": [
        "articlesid2idx[59]"
      ],
      "execution_count": 0,
      "outputs": [
        {
          "output_type": "execute_result",
          "data": {
            "text/plain": [
              "574"
            ]
          },
          "metadata": {
            "tags": []
          },
          "execution_count": 75
        }
      ]
    },
    {
      "metadata": {
        "id": "opTexDeRGmRV",
        "colab_type": "code",
        "outputId": "6a77ec2e-62d5-45ad-8f3d-78d6bd1ff9e4",
        "colab": {
          "base_uri": "https://localhost:8080/",
          "height": 34
        }
      },
      "cell_type": "code",
      "source": [
        "cosine_similarity(model.get_weights()[1][350].reshape(1,-1),model.get_weights()[1][231].reshape(1,-1))"
      ],
      "execution_count": 0,
      "outputs": [
        {
          "output_type": "execute_result",
          "data": {
            "text/plain": [
              "array([[0.20790277]], dtype=float32)"
            ]
          },
          "metadata": {
            "tags": []
          },
          "execution_count": 69
        }
      ]
    },
    {
      "metadata": {
        "id": "EGVKvsbVSfDo",
        "colab_type": "code",
        "outputId": "87e6a77f-166f-4e01-89bb-08604156ebb2",
        "colab": {
          "base_uri": "https://localhost:8080/",
          "height": 34
        }
      },
      "cell_type": "code",
      "source": [
        "np.argmax(cosine_similarity(model.get_weights()[1][574].reshape(1,-1),model.get_weights()[1][:574].reshape(574,100)))"
      ],
      "execution_count": 0,
      "outputs": [
        {
          "output_type": "execute_result",
          "data": {
            "text/plain": [
              "169"
            ]
          },
          "metadata": {
            "tags": []
          },
          "execution_count": 76
        }
      ]
    },
    {
      "metadata": {
        "id": "gzTgobcDtT1M",
        "colab_type": "code",
        "outputId": "524247fa-0cd8-43e1-c046-198a6a7e0527",
        "colab": {
          "base_uri": "https://localhost:8080/",
          "height": 34
        }
      },
      "cell_type": "code",
      "source": [
        "idx2articlesid[169]"
      ],
      "execution_count": 0,
      "outputs": [
        {
          "output_type": "execute_result",
          "data": {
            "text/plain": [
              "61"
            ]
          },
          "metadata": {
            "tags": []
          },
          "execution_count": 77
        }
      ]
    },
    {
      "metadata": {
        "id": "sBHNy-TU3zp4",
        "colab_type": "code",
        "colab": {}
      },
      "cell_type": "code",
      "source": [
        ""
      ],
      "execution_count": 0,
      "outputs": []
    }
  ]
}