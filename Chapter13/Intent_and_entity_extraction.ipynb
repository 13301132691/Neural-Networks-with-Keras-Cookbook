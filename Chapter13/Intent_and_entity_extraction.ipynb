{
  "nbformat": 4,
  "nbformat_minor": 0,
  "metadata": {
    "colab": {
      "name": "Intent and entity extraction.ipynb",
      "version": "0.3.2",
      "provenance": [],
      "collapsed_sections": []
    },
    "kernelspec": {
      "name": "python3",
      "display_name": "Python 3"
    },
    "accelerator": "GPU"
  },
  "cells": [
    {
      "metadata": {
        "id": "bEfT0qK_yfBD",
        "colab_type": "code",
        "outputId": "c385e37d-eb79-4f16-c3ed-488af940b05d",
        "colab": {
          "base_uri": "https://localhost:8080/",
          "height": 445
        }
      },
      "cell_type": "code",
      "source": [
        "!wget https://www.dropbox.com/s/qpw1wnmho8v0gi4/atis.zip"
      ],
      "execution_count": 0,
      "outputs": [
        {
          "output_type": "stream",
          "text": [
            "--2019-02-25 06:41:57--  https://www.dropbox.com/s/qpw1wnmho8v0gi4/atis.zip\n",
            "Resolving www.dropbox.com (www.dropbox.com)... 162.125.82.1, 2620:100:6032:1::a27d:5201\n",
            "Connecting to www.dropbox.com (www.dropbox.com)|162.125.82.1|:443... connected.\n",
            "HTTP request sent, awaiting response... 301 Moved Permanently\n",
            "Location: /s/raw/qpw1wnmho8v0gi4/atis.zip [following]\n",
            "--2019-02-25 06:41:57--  https://www.dropbox.com/s/raw/qpw1wnmho8v0gi4/atis.zip\n",
            "Reusing existing connection to www.dropbox.com:443.\n",
            "HTTP request sent, awaiting response... 302 Found\n",
            "Location: https://uc2c6b87be10a0d4a71baf362b57.dl.dropboxusercontent.com/cd/0/inline/Ab-OSzpsLxcG6pUHQ8zCwGMIofaMSvO0_hVguv8sa6tfE2d86v3ZHoWqzLT3Qt5CjCFZ0KGNEetzyWi4YJhIbw9xopoC1jIzaFd4cnjHHRB5L3h6_yYH_Ofv_cwcNqY03RQ/file# [following]\n",
            "--2019-02-25 06:41:57--  https://uc2c6b87be10a0d4a71baf362b57.dl.dropboxusercontent.com/cd/0/inline/Ab-OSzpsLxcG6pUHQ8zCwGMIofaMSvO0_hVguv8sa6tfE2d86v3ZHoWqzLT3Qt5CjCFZ0KGNEetzyWi4YJhIbw9xopoC1jIzaFd4cnjHHRB5L3h6_yYH_Ofv_cwcNqY03RQ/file\n",
            "Resolving uc2c6b87be10a0d4a71baf362b57.dl.dropboxusercontent.com (uc2c6b87be10a0d4a71baf362b57.dl.dropboxusercontent.com)... 162.125.82.6, 2620:100:6032:6::a27d:5206\n",
            "Connecting to uc2c6b87be10a0d4a71baf362b57.dl.dropboxusercontent.com (uc2c6b87be10a0d4a71baf362b57.dl.dropboxusercontent.com)|162.125.82.6|:443... connected.\n",
            "HTTP request sent, awaiting response... 302 FOUND\n",
            "Location: /cd/0/inline2/Ab8IZnBfHlL53Org3jKIGQ4b1cQRibOIsbRkSb-AXi9d50YmkbHK_244SaUrrjzHay-V8FWbGmAjCiBbCXq_tteh8RFZNQ5pmwMBfwAj_ama3CFG-DXV5cX0hItdcbuGjZT_k_8X8QuTcHaD_YkIi1PwFJQWhqXBwaVyd597jgwmitC_OyIOBTVsJCDdXuTxqGdw4gryc_73aMermeab8uhZ-g5lxfnNlmtO9QCmcI4ZQR8q3M1aae5D4zkMggudQdwsVX0XOlCAFq2PJMX3zt2B57Ur-9tczCV40LhddilmFaUultO1goUsN2Im1CFWi_6eEPDnTAXP-zVjOk4oHMy311GjQ6lP-NSmsSYlTBm_bw/file [following]\n",
            "--2019-02-25 06:41:58--  https://uc2c6b87be10a0d4a71baf362b57.dl.dropboxusercontent.com/cd/0/inline2/Ab8IZnBfHlL53Org3jKIGQ4b1cQRibOIsbRkSb-AXi9d50YmkbHK_244SaUrrjzHay-V8FWbGmAjCiBbCXq_tteh8RFZNQ5pmwMBfwAj_ama3CFG-DXV5cX0hItdcbuGjZT_k_8X8QuTcHaD_YkIi1PwFJQWhqXBwaVyd597jgwmitC_OyIOBTVsJCDdXuTxqGdw4gryc_73aMermeab8uhZ-g5lxfnNlmtO9QCmcI4ZQR8q3M1aae5D4zkMggudQdwsVX0XOlCAFq2PJMX3zt2B57Ur-9tczCV40LhddilmFaUultO1goUsN2Im1CFWi_6eEPDnTAXP-zVjOk4oHMy311GjQ6lP-NSmsSYlTBm_bw/file\n",
            "Reusing existing connection to uc2c6b87be10a0d4a71baf362b57.dl.dropboxusercontent.com:443.\n",
            "HTTP request sent, awaiting response... 200 OK\n",
            "Length: 241934 (236K) [application/zip]\n",
            "Saving to: ‘atis.zip’\n",
            "\n",
            "atis.zip            100%[===================>] 236.26K  --.-KB/s    in 0.05s   \n",
            "\n",
            "2019-02-25 06:41:58 (4.34 MB/s) - ‘atis.zip’ saved [241934/241934]\n",
            "\n"
          ],
          "name": "stdout"
        }
      ]
    },
    {
      "metadata": {
        "id": "mEbb2wHpyhbq",
        "colab_type": "code",
        "outputId": "a101bcb8-4a9c-414b-afe3-28cee729f763",
        "colab": {
          "base_uri": "https://localhost:8080/",
          "height": 34
        }
      },
      "cell_type": "code",
      "source": [
        "!ls"
      ],
      "execution_count": 0,
      "outputs": [
        {
          "output_type": "stream",
          "text": [
            "atis.zip  sample_data\n"
          ],
          "name": "stdout"
        }
      ]
    },
    {
      "metadata": {
        "id": "P5JgOIObylx-",
        "colab_type": "code",
        "outputId": "f6304cf2-0976-4c93-e2cb-d9b4e3db8671",
        "colab": {
          "base_uri": "https://localhost:8080/",
          "height": 221
        }
      },
      "cell_type": "code",
      "source": [
        "!unzip atis.zip"
      ],
      "execution_count": 0,
      "outputs": [
        {
          "output_type": "stream",
          "text": [
            "Archive:  atis.zip\n",
            "  inflating: atis.dict.intent.csv    \n",
            "  inflating: atis.dict.slots.csv     \n",
            "  inflating: atis.dict.vocab.csv     \n",
            "  inflating: atis.test.intent.csv    \n",
            "  inflating: atis.test.pkl           \n",
            "  inflating: atis.test.query.csv     \n",
            "  inflating: atis.test.slots.csv     \n",
            "  inflating: atis.train.intent.csv   \n",
            "  inflating: atis.train.pkl          \n",
            "  inflating: atis.train.query.csv    \n",
            "  inflating: atis.train.slots.csv    \n"
          ],
          "name": "stdout"
        }
      ]
    },
    {
      "metadata": {
        "id": "HPi_8_ldyqVH",
        "colab_type": "code",
        "outputId": "7cce8a25-8098-463d-985f-da2a0c891ab8",
        "colab": {
          "base_uri": "https://localhost:8080/",
          "height": 85
        }
      },
      "cell_type": "code",
      "source": [
        "!ls"
      ],
      "execution_count": 0,
      "outputs": [
        {
          "output_type": "stream",
          "text": [
            "atis.dict.intent.csv  atis.test.pkl\t     atis.train.pkl\t   sample_data\n",
            "atis.dict.slots.csv   atis.test.query.csv    atis.train.query.csv\n",
            "atis.dict.vocab.csv   atis.test.slots.csv    atis.train.slots.csv\n",
            "atis.test.intent.csv  atis.train.intent.csv  atis.zip\n"
          ],
          "name": "stdout"
        }
      ]
    },
    {
      "metadata": {
        "id": "63V3kGbVyqvQ",
        "colab_type": "code",
        "colab": {}
      },
      "cell_type": "code",
      "source": [
        "import numpy as np \n",
        "import pandas as pd\n"
      ],
      "execution_count": 0,
      "outputs": []
    },
    {
      "metadata": {
        "id": "yNr1EQwZywaA",
        "colab_type": "code",
        "colab": {}
      },
      "cell_type": "code",
      "source": [
        "import pickle\n",
        "\n",
        "DATA_DIR=\"/content\"\n",
        "\n",
        "def load_ds(fname='atis.train.pkl'):\n",
        "    with open(fname, 'rb') as stream:\n",
        "        ds,dicts = pickle.load(stream)\n",
        "    print('Done  loading: ', fname)\n",
        "    print('      samples: {:4d}'.format(len(ds['query'])))\n",
        "    print('   vocab_size: {:4d}'.format(len(dicts['token_ids'])))\n",
        "    print('   slot count: {:4d}'.format(len(dicts['slot_ids'])))\n",
        "    print(' intent count: {:4d}'.format(len(dicts['intent_ids'])))\n",
        "    return ds,dicts"
      ],
      "execution_count": 0,
      "outputs": []
    },
    {
      "metadata": {
        "id": "fMtTYoOUy1xh",
        "colab_type": "code",
        "outputId": "209b28d3-7e6f-40ca-fff9-5ec9e9b533b2",
        "colab": {
          "base_uri": "https://localhost:8080/",
          "height": 187
        }
      },
      "cell_type": "code",
      "source": [
        "import os\n",
        "train_ds, dicts = load_ds(os.path.join(DATA_DIR,'atis.train.pkl'))\n",
        "test_ds, dicts  = load_ds(os.path.join(DATA_DIR,'atis.test.pkl'))"
      ],
      "execution_count": 0,
      "outputs": [
        {
          "output_type": "stream",
          "text": [
            "Done  loading:  /content/atis.train.pkl\n",
            "      samples: 4978\n",
            "   vocab_size:  943\n",
            "   slot count:  129\n",
            " intent count:   26\n",
            "Done  loading:  /content/atis.test.pkl\n",
            "      samples:  893\n",
            "   vocab_size:  943\n",
            "   slot count:  129\n",
            " intent count:   26\n"
          ],
          "name": "stdout"
        }
      ]
    },
    {
      "metadata": {
        "id": "ICPs5Nwpa5vm",
        "colab_type": "code",
        "outputId": "b42d5f88-f87b-4cbc-956d-eeed1ac09602",
        "colab": {
          "base_uri": "https://localhost:8080/",
          "height": 16048
        }
      },
      "cell_type": "code",
      "source": [
        "t2i"
      ],
      "execution_count": 0,
      "outputs": [
        {
          "output_type": "execute_result",
          "data": {
            "text/plain": [
              "{\"'d\": 0,\n",
              " \"'hare\": 1,\n",
              " \"'ll\": 2,\n",
              " \"'m\": 3,\n",
              " \"'re\": 4,\n",
              " \"'s\": 5,\n",
              " \"'t\": 6,\n",
              " \"'ve\": 7,\n",
              " '0900': 8,\n",
              " '1': 9,\n",
              " '10': 10,\n",
              " '100': 11,\n",
              " '1000': 12,\n",
              " '1017': 13,\n",
              " '1020': 14,\n",
              " '1024': 15,\n",
              " '1026': 16,\n",
              " '1030': 17,\n",
              " '1039': 18,\n",
              " '1045': 19,\n",
              " '1055': 20,\n",
              " '1059': 21,\n",
              " '106': 22,\n",
              " '1083': 23,\n",
              " '11': 24,\n",
              " '110': 25,\n",
              " '1100': 26,\n",
              " '1110': 27,\n",
              " '1115': 28,\n",
              " '1130': 29,\n",
              " '1133': 30,\n",
              " '1145': 31,\n",
              " '1158': 32,\n",
              " '12': 33,\n",
              " '1200': 34,\n",
              " '1201': 35,\n",
              " '1205': 36,\n",
              " '1207': 37,\n",
              " '1209': 38,\n",
              " '1220': 39,\n",
              " '1222': 40,\n",
              " '1230': 41,\n",
              " '124': 42,\n",
              " '1245': 43,\n",
              " '1288': 44,\n",
              " '1291': 45,\n",
              " '130': 46,\n",
              " '1300': 47,\n",
              " '137338': 48,\n",
              " '139': 49,\n",
              " '150': 50,\n",
              " '1500': 51,\n",
              " '1505': 52,\n",
              " '1600': 53,\n",
              " '163': 54,\n",
              " '1700': 55,\n",
              " '1765': 56,\n",
              " '1800': 57,\n",
              " '1850': 58,\n",
              " '19': 59,\n",
              " '1940': 60,\n",
              " '1991': 61,\n",
              " '1992': 62,\n",
              " '1993': 63,\n",
              " '1994': 64,\n",
              " '2': 65,\n",
              " '20': 66,\n",
              " '200': 67,\n",
              " '201': 68,\n",
              " '21': 69,\n",
              " '210': 70,\n",
              " '2100': 71,\n",
              " '212': 72,\n",
              " '2134': 73,\n",
              " '2153': 74,\n",
              " '217': 75,\n",
              " '225': 76,\n",
              " '229': 77,\n",
              " '230': 78,\n",
              " '257': 79,\n",
              " '269': 80,\n",
              " '270': 81,\n",
              " '271': 82,\n",
              " '279': 83,\n",
              " '281': 84,\n",
              " '296': 85,\n",
              " '297': 86,\n",
              " '3': 87,\n",
              " '300': 88,\n",
              " '305': 89,\n",
              " '311': 90,\n",
              " '315': 91,\n",
              " '320': 92,\n",
              " '323': 93,\n",
              " '324': 94,\n",
              " '329': 95,\n",
              " '3357': 96,\n",
              " '343': 97,\n",
              " '345': 98,\n",
              " '352': 99,\n",
              " '3724': 100,\n",
              " '382': 101,\n",
              " '4': 102,\n",
              " '400': 103,\n",
              " '402': 104,\n",
              " '405': 105,\n",
              " '415': 106,\n",
              " '416': 107,\n",
              " '417': 108,\n",
              " '419': 109,\n",
              " '420': 110,\n",
              " '428': 111,\n",
              " '43': 112,\n",
              " '430': 113,\n",
              " '4400': 114,\n",
              " '445': 115,\n",
              " '459': 116,\n",
              " '466': 117,\n",
              " '468': 118,\n",
              " '486': 119,\n",
              " '497766': 120,\n",
              " '5': 121,\n",
              " '500': 122,\n",
              " '505': 123,\n",
              " '515': 124,\n",
              " '530': 125,\n",
              " '539': 126,\n",
              " '55': 127,\n",
              " '555': 128,\n",
              " '57': 129,\n",
              " '6': 130,\n",
              " '608': 131,\n",
              " '615': 132,\n",
              " '630': 133,\n",
              " '639': 134,\n",
              " '645': 135,\n",
              " '650': 136,\n",
              " '665': 137,\n",
              " '673': 138,\n",
              " '7': 139,\n",
              " '705': 140,\n",
              " '71': 141,\n",
              " '718': 142,\n",
              " '720': 143,\n",
              " '723': 144,\n",
              " '727': 145,\n",
              " '72s': 146,\n",
              " '730': 147,\n",
              " '733': 148,\n",
              " '734': 149,\n",
              " '737': 150,\n",
              " '73s': 151,\n",
              " '746': 152,\n",
              " '747': 153,\n",
              " '755': 154,\n",
              " '757': 155,\n",
              " '767': 156,\n",
              " '771': 157,\n",
              " '8': 158,\n",
              " '80': 159,\n",
              " '810': 160,\n",
              " '811': 161,\n",
              " '813': 162,\n",
              " '815': 163,\n",
              " '819': 164,\n",
              " '82': 165,\n",
              " '823': 166,\n",
              " '825': 167,\n",
              " '838': 168,\n",
              " '842': 169,\n",
              " '845': 170,\n",
              " '852': 171,\n",
              " '9': 172,\n",
              " '928': 173,\n",
              " '932': 174,\n",
              " '934': 175,\n",
              " '950': 176,\n",
              " '98': 177,\n",
              " 'BOS': 178,\n",
              " 'EOS': 179,\n",
              " 'a': 180,\n",
              " 'aa': 181,\n",
              " 'abbreviation': 182,\n",
              " 'abbreviations': 183,\n",
              " 'able': 184,\n",
              " 'about': 185,\n",
              " 'ac': 186,\n",
              " 'across': 187,\n",
              " 'actually': 188,\n",
              " 'advertises': 189,\n",
              " 'after': 190,\n",
              " 'afternoon': 191,\n",
              " 'afternoons': 192,\n",
              " 'afterwards': 193,\n",
              " 'again': 194,\n",
              " 'air': 195,\n",
              " 'aircraft': 196,\n",
              " 'airfare': 197,\n",
              " 'airfares': 198,\n",
              " 'airline': 199,\n",
              " 'airlines': 200,\n",
              " 'airplane': 201,\n",
              " 'airplanes': 202,\n",
              " 'airport': 203,\n",
              " 'airports': 204,\n",
              " 'al': 205,\n",
              " 'alaska': 206,\n",
              " 'all': 207,\n",
              " 'along': 208,\n",
              " 'also': 209,\n",
              " 'am': 210,\n",
              " 'america': 211,\n",
              " 'american': 212,\n",
              " 'amount': 213,\n",
              " 'an': 214,\n",
              " 'and': 215,\n",
              " 'angeles': 216,\n",
              " 'another': 217,\n",
              " 'any': 218,\n",
              " 'anything': 219,\n",
              " 'anywhere': 220,\n",
              " 'ap': 221,\n",
              " 'ap57': 222,\n",
              " 'ap58': 223,\n",
              " 'ap68': 224,\n",
              " 'ap80': 225,\n",
              " 'approximately': 226,\n",
              " 'april': 227,\n",
              " 'are': 228,\n",
              " 'area': 229,\n",
              " 'arizona': 230,\n",
              " 'around': 231,\n",
              " 'arrange': 232,\n",
              " 'arrangements': 233,\n",
              " 'arrival': 234,\n",
              " 'arrivals': 235,\n",
              " 'arrive': 236,\n",
              " 'arrives': 237,\n",
              " 'arriving': 238,\n",
              " 'as': 239,\n",
              " 'at': 240,\n",
              " 'atl': 241,\n",
              " 'atlanta': 242,\n",
              " 'august': 243,\n",
              " 'available': 244,\n",
              " 'b': 245,\n",
              " 'back': 246,\n",
              " 'baltimore': 247,\n",
              " 'basis': 248,\n",
              " 'bay': 249,\n",
              " 'be': 250,\n",
              " 'be1': 251,\n",
              " 'beach': 252,\n",
              " 'before': 253,\n",
              " 'beginning': 254,\n",
              " 'begins': 255,\n",
              " 'being': 256,\n",
              " 'belong': 257,\n",
              " 'besides': 258,\n",
              " 'between': 259,\n",
              " 'bh': 260,\n",
              " 'bn': 261,\n",
              " 'bna': 262,\n",
              " 'boeing': 263,\n",
              " 'book': 264,\n",
              " 'booking': 265,\n",
              " 'boston': 266,\n",
              " 'both': 267,\n",
              " 'bound': 268,\n",
              " 'breakfast': 269,\n",
              " 'bring': 270,\n",
              " 'bur': 271,\n",
              " 'burbank': 272,\n",
              " 'business': 273,\n",
              " 'but': 274,\n",
              " 'buy': 275,\n",
              " 'bwi': 276,\n",
              " 'by': 277,\n",
              " 'c': 278,\n",
              " 'california': 279,\n",
              " 'called': 280,\n",
              " 'calling': 281,\n",
              " 'can': 282,\n",
              " 'canada': 283,\n",
              " 'canadian': 284,\n",
              " 'capacities': 285,\n",
              " 'capacity': 286,\n",
              " 'car': 287,\n",
              " 'carolina': 288,\n",
              " 'carried': 289,\n",
              " 'carries': 290,\n",
              " 'cars': 291,\n",
              " 'catch': 292,\n",
              " 'charges': 293,\n",
              " 'charlotte': 294,\n",
              " 'cheap': 295,\n",
              " 'cheapest': 296,\n",
              " 'chicago': 297,\n",
              " 'choices': 298,\n",
              " 'cincinnati': 299,\n",
              " 'cities': 300,\n",
              " 'city': 301,\n",
              " 'class': 302,\n",
              " 'classes': 303,\n",
              " 'cleveland': 304,\n",
              " 'close': 305,\n",
              " 'closest': 306,\n",
              " 'co': 307,\n",
              " 'coach': 308,\n",
              " 'code': 309,\n",
              " 'codes': 310,\n",
              " 'colorado': 311,\n",
              " 'columbus': 312,\n",
              " 'combination': 313,\n",
              " 'come': 314,\n",
              " 'comes': 315,\n",
              " 'coming': 316,\n",
              " 'companies': 317,\n",
              " 'concerning': 318,\n",
              " 'connect': 319,\n",
              " 'connecting': 320,\n",
              " 'connection': 321,\n",
              " 'connections': 322,\n",
              " 'connects': 323,\n",
              " 'continent': 324,\n",
              " 'continental': 325,\n",
              " 'continuing': 326,\n",
              " 'cost': 327,\n",
              " 'costs': 328,\n",
              " 'could': 329,\n",
              " 'county': 330,\n",
              " 'cover': 331,\n",
              " 'cp': 332,\n",
              " 'currently': 333,\n",
              " 'cvg': 334,\n",
              " 'd': 335,\n",
              " 'd10': 336,\n",
              " 'd9s': 337,\n",
              " 'daily': 338,\n",
              " 'dallas': 339,\n",
              " 'database': 340,\n",
              " 'date': 341,\n",
              " 'day': 342,\n",
              " 'days': 343,\n",
              " 'dc': 344,\n",
              " 'dc10': 345,\n",
              " 'dc9': 346,\n",
              " 'dca': 347,\n",
              " 'december': 348,\n",
              " 'define': 349,\n",
              " 'delta': 350,\n",
              " 'denver': 351,\n",
              " 'depart': 352,\n",
              " 'departing': 353,\n",
              " 'departs': 354,\n",
              " 'departure': 355,\n",
              " 'departures': 356,\n",
              " 'describe': 357,\n",
              " 'designate': 358,\n",
              " 'destination': 359,\n",
              " 'determine': 360,\n",
              " 'detroit': 361,\n",
              " 'dfw': 362,\n",
              " 'dh8': 363,\n",
              " 'diego': 364,\n",
              " 'difference': 365,\n",
              " 'different': 366,\n",
              " 'dinner': 367,\n",
              " 'dinnertime': 368,\n",
              " 'direct': 369,\n",
              " 'directly': 370,\n",
              " 'discount': 371,\n",
              " 'display': 372,\n",
              " 'distance': 373,\n",
              " 'dl': 374,\n",
              " 'do': 375,\n",
              " 'does': 376,\n",
              " 'doesn': 377,\n",
              " 'dollars': 378,\n",
              " 'don': 379,\n",
              " 'downtown': 380,\n",
              " 'dtw': 381,\n",
              " 'dulles': 382,\n",
              " 'during': 383,\n",
              " 'ea': 384,\n",
              " 'each': 385,\n",
              " 'earlier': 386,\n",
              " 'earliest': 387,\n",
              " 'early': 388,\n",
              " 'eastern': 389,\n",
              " 'economic': 390,\n",
              " 'economy': 391,\n",
              " 'eight': 392,\n",
              " 'eighteenth': 393,\n",
              " 'eighth': 394,\n",
              " 'either': 395,\n",
              " 'eleven': 396,\n",
              " 'eleventh': 397,\n",
              " 'else': 398,\n",
              " 'enroute': 399,\n",
              " 'equal': 400,\n",
              " 'equipment': 401,\n",
              " 'evening': 402,\n",
              " 'ever': 403,\n",
              " 'everywhere': 404,\n",
              " 'ewr': 405,\n",
              " 'exceeding': 406,\n",
              " 'expensive': 407,\n",
              " 'explain': 408,\n",
              " 'express': 409,\n",
              " 'eye': 410,\n",
              " 'f': 411,\n",
              " 'f28': 412,\n",
              " 'far': 413,\n",
              " 'fare': 414,\n",
              " 'fares': 415,\n",
              " 'february': 416,\n",
              " 'ff': 417,\n",
              " 'field': 418,\n",
              " 'fifteen': 419,\n",
              " 'fifteenth': 420,\n",
              " 'fifth': 421,\n",
              " 'final': 422,\n",
              " 'find': 423,\n",
              " 'fine': 424,\n",
              " 'first': 425,\n",
              " 'fit': 426,\n",
              " 'flies': 427,\n",
              " 'flight': 428,\n",
              " 'flights': 429,\n",
              " 'florida': 430,\n",
              " 'fly': 431,\n",
              " 'flying': 432,\n",
              " 'fn': 433,\n",
              " 'following': 434,\n",
              " 'for': 435,\n",
              " 'fort': 436,\n",
              " 'four': 437,\n",
              " 'fourteenth': 438,\n",
              " 'fourth': 439,\n",
              " 'francisco': 440,\n",
              " 'friday': 441,\n",
              " 'fridays': 442,\n",
              " 'friends': 443,\n",
              " 'from': 444,\n",
              " 'general': 445,\n",
              " 'georgia': 446,\n",
              " 'get': 447,\n",
              " 'gets': 448,\n",
              " 'give': 449,\n",
              " 'go': 450,\n",
              " 'goes': 451,\n",
              " 'going': 452,\n",
              " 'good': 453,\n",
              " 'got': 454,\n",
              " 'great': 455,\n",
              " 'greatest': 456,\n",
              " 'ground': 457,\n",
              " 'grounds': 458,\n",
              " 'guardia': 459,\n",
              " 'h': 460,\n",
              " 'hartfield': 461,\n",
              " 'has': 462,\n",
              " 'have': 463,\n",
              " 'having': 464,\n",
              " 'heading': 465,\n",
              " 'hello': 466,\n",
              " 'help': 467,\n",
              " 'here': 468,\n",
              " 'hi': 469,\n",
              " 'highest': 470,\n",
              " 'hold': 471,\n",
              " 'home': 472,\n",
              " 'hopefully': 473,\n",
              " 'hou': 474,\n",
              " 'hours': 475,\n",
              " 'houston': 476,\n",
              " 'how': 477,\n",
              " 'hp': 478,\n",
              " 'i': 479,\n",
              " 'iah': 480,\n",
              " 'if': 481,\n",
              " 'in': 482,\n",
              " 'include': 483,\n",
              " 'included': 484,\n",
              " 'includes': 485,\n",
              " 'including': 486,\n",
              " 'india': 487,\n",
              " 'indiana': 488,\n",
              " 'indianapolis': 489,\n",
              " 'inexpensive': 490,\n",
              " 'inform': 491,\n",
              " 'information': 492,\n",
              " 'instead': 493,\n",
              " 'intercontinental': 494,\n",
              " 'interested': 495,\n",
              " 'international': 496,\n",
              " 'into': 497,\n",
              " 'is': 498,\n",
              " 'it': 499,\n",
              " 'itinerary': 500,\n",
              " 'j31': 501,\n",
              " 'january': 502,\n",
              " 'jersey': 503,\n",
              " 'jet': 504,\n",
              " 'jfk': 505,\n",
              " 'jose': 506,\n",
              " 'july': 507,\n",
              " 'june': 508,\n",
              " 'just': 509,\n",
              " 'k': 510,\n",
              " 'kansas': 511,\n",
              " 'kennedy': 512,\n",
              " 'kind': 513,\n",
              " 'kindly': 514,\n",
              " 'kinds': 515,\n",
              " 'know': 516,\n",
              " 'kw': 517,\n",
              " 'l10': 518,\n",
              " 'l1011': 519,\n",
              " 'la': 520,\n",
              " 'lake': 521,\n",
              " 'land': 522,\n",
              " 'landing': 523,\n",
              " 'landings': 524,\n",
              " 'lands': 525,\n",
              " 'largest': 526,\n",
              " 'las': 527,\n",
              " 'last': 528,\n",
              " 'lastest': 529,\n",
              " 'late': 530,\n",
              " 'later': 531,\n",
              " 'latest': 532,\n",
              " 'lax': 533,\n",
              " 'laying': 534,\n",
              " 'layover': 535,\n",
              " 'least': 536,\n",
              " 'leave': 537,\n",
              " 'leaves': 538,\n",
              " 'leaving': 539,\n",
              " 'less': 540,\n",
              " 'lester': 541,\n",
              " 'let': 542,\n",
              " 'level': 543,\n",
              " 'lga': 544,\n",
              " 'like': 545,\n",
              " 'limo': 546,\n",
              " 'limousine': 547,\n",
              " 'limousines': 548,\n",
              " 'list': 549,\n",
              " 'listed': 550,\n",
              " 'listing': 551,\n",
              " 'listings': 552,\n",
              " 'live': 553,\n",
              " 'lives': 554,\n",
              " 'local': 555,\n",
              " 'locate': 556,\n",
              " 'located': 557,\n",
              " 'logan': 558,\n",
              " 'long': 559,\n",
              " 'longest': 560,\n",
              " 'look': 561,\n",
              " 'looking': 562,\n",
              " 'los': 563,\n",
              " 'louis': 564,\n",
              " 'love': 565,\n",
              " 'lowest': 566,\n",
              " 'ls': 567,\n",
              " 'lufthansa': 568,\n",
              " 'lunch': 569,\n",
              " 'm': 570,\n",
              " 'm80': 571,\n",
              " 'make': 572,\n",
              " 'makes': 573,\n",
              " 'making': 574,\n",
              " 'many': 575,\n",
              " 'march': 576,\n",
              " 'maximum': 577,\n",
              " 'may': 578,\n",
              " 'mci': 579,\n",
              " 'mco': 580,\n",
              " 'me': 581,\n",
              " 'meal': 582,\n",
              " 'meals': 583,\n",
              " 'mealtime': 584,\n",
              " 'mean': 585,\n",
              " 'meaning': 586,\n",
              " 'memphis': 587,\n",
              " 'mia': 588,\n",
              " 'miami': 589,\n",
              " 'michigan': 590,\n",
              " 'midnight': 591,\n",
              " 'midway': 592,\n",
              " 'midwest': 593,\n",
              " 'miles': 594,\n",
              " 'milwaukee': 595,\n",
              " 'minimum': 596,\n",
              " 'minneapolis': 597,\n",
              " 'minnesota': 598,\n",
              " 'missouri': 599,\n",
              " 'mitchell': 600,\n",
              " 'monday': 601,\n",
              " 'mondays': 602,\n",
              " 'month': 603,\n",
              " 'montreal': 604,\n",
              " 'more': 605,\n",
              " 'morning': 606,\n",
              " 'mornings': 607,\n",
              " 'most': 608,\n",
              " 'much': 609,\n",
              " 'must': 610,\n",
              " 'my': 611,\n",
              " 'name': 612,\n",
              " 'names': 613,\n",
              " 'nashville': 614,\n",
              " 'nationair': 615,\n",
              " 'near': 616,\n",
              " 'need': 617,\n",
              " 'nevada': 618,\n",
              " 'new': 619,\n",
              " 'newark': 620,\n",
              " 'next': 621,\n",
              " 'night': 622,\n",
              " 'nights': 623,\n",
              " 'nighttime': 624,\n",
              " 'nineteenth': 625,\n",
              " 'ninth': 626,\n",
              " 'no': 627,\n",
              " 'non': 628,\n",
              " 'nonstop': 629,\n",
              " 'nonstops': 630,\n",
              " 'noon': 631,\n",
              " 'noontime': 632,\n",
              " 'north': 633,\n",
              " 'northwest': 634,\n",
              " 'not': 635,\n",
              " 'november': 636,\n",
              " 'now': 637,\n",
              " 'number': 638,\n",
              " 'numbers': 639,\n",
              " 'nw': 640,\n",
              " 'o': 641,\n",
              " \"o'clock\": 642,\n",
              " 'oak': 643,\n",
              " 'oakland': 644,\n",
              " 'october': 645,\n",
              " 'of': 646,\n",
              " 'off': 647,\n",
              " 'offer': 648,\n",
              " 'offered': 649,\n",
              " 'offers': 650,\n",
              " 'oh': 651,\n",
              " 'ohio': 652,\n",
              " 'okay': 653,\n",
              " 'on': 654,\n",
              " 'once': 655,\n",
              " 'one': 656,\n",
              " 'only': 657,\n",
              " 'ontario': 658,\n",
              " 'operating': 659,\n",
              " 'operation': 660,\n",
              " 'options': 661,\n",
              " 'or': 662,\n",
              " 'ord': 663,\n",
              " 'order': 664,\n",
              " 'originate': 665,\n",
              " 'originating': 666,\n",
              " 'orlando': 667,\n",
              " 'other': 668,\n",
              " 'out': 669,\n",
              " 'over': 670,\n",
              " 'overnight': 671,\n",
              " 'passengers': 672,\n",
              " 'paul': 673,\n",
              " 'pearson': 674,\n",
              " 'pennsylvania': 675,\n",
              " 'people': 676,\n",
              " 'petersburg': 677,\n",
              " 'philadelphia': 678,\n",
              " 'philly': 679,\n",
              " 'phl': 680,\n",
              " 'phoenix': 681,\n",
              " 'pittsburgh': 682,\n",
              " 'place': 683,\n",
              " 'plan': 684,\n",
              " 'plane': 685,\n",
              " 'planes': 686,\n",
              " 'planning': 687,\n",
              " 'please': 688,\n",
              " 'pm': 689,\n",
              " 'possible': 690,\n",
              " 'prefer': 691,\n",
              " 'preferably': 692,\n",
              " 'price': 693,\n",
              " 'priced': 694,\n",
              " 'prices': 695,\n",
              " 'prior': 696,\n",
              " 'proper': 697,\n",
              " 'provide': 698,\n",
              " 'provided': 699,\n",
              " 'provides': 700,\n",
              " 'put': 701,\n",
              " 'q': 702,\n",
              " 'qo': 703,\n",
              " 'qualify': 704,\n",
              " 'quebec': 705,\n",
              " 'question': 706,\n",
              " 'qw': 707,\n",
              " 'qx': 708,\n",
              " 'rate': 709,\n",
              " 'rates': 710,\n",
              " 'reaches': 711,\n",
              " 'reaching': 712,\n",
              " 'red': 713,\n",
              " 'regarding': 714,\n",
              " 'rent': 715,\n",
              " 'rental': 716,\n",
              " 'rentals': 717,\n",
              " 'repeat': 718,\n",
              " 'repeating': 719,\n",
              " 'represented': 720,\n",
              " 'requesting': 721,\n",
              " 'reservation': 722,\n",
              " 'reservations': 723,\n",
              " 'restriction': 724,\n",
              " 'restrictions': 725,\n",
              " 'return': 726,\n",
              " 'returning': 727,\n",
              " 'reverse': 728,\n",
              " 'right': 729,\n",
              " 'round': 730,\n",
              " 'route': 731,\n",
              " 'run': 732,\n",
              " 'runs': 733,\n",
              " 's': 734,\n",
              " 'sa': 735,\n",
              " 'salt': 736,\n",
              " 'sam': 737,\n",
              " 'same': 738,\n",
              " 'san': 739,\n",
              " 'saturday': 740,\n",
              " 'saturdays': 741,\n",
              " 'say': 742,\n",
              " 'sb': 743,\n",
              " 'scenario': 744,\n",
              " 'schedule': 745,\n",
              " 'scheduled': 746,\n",
              " 'schedules': 747,\n",
              " 'sd': 748,\n",
              " 'seat': 749,\n",
              " 'seating': 750,\n",
              " 'seats': 751,\n",
              " 'seattle': 752,\n",
              " 'second': 753,\n",
              " 'see': 754,\n",
              " 'september': 755,\n",
              " 'serve': 756,\n",
              " 'served': 757,\n",
              " 'serves': 758,\n",
              " 'service': 759,\n",
              " 'serviced': 760,\n",
              " 'services': 761,\n",
              " 'serving': 762,\n",
              " 'seven': 763,\n",
              " 'seventeen': 764,\n",
              " 'seventeenth': 765,\n",
              " 'seventh': 766,\n",
              " 'sfo': 767,\n",
              " 'shortest': 768,\n",
              " 'should': 769,\n",
              " 'show': 770,\n",
              " 'single': 771,\n",
              " 'six': 772,\n",
              " 'sixteen': 773,\n",
              " 'sixteenth': 774,\n",
              " 'sixth': 775,\n",
              " 'smallest': 776,\n",
              " 'snack': 777,\n",
              " 'snacks': 778,\n",
              " 'so': 779,\n",
              " 'some': 780,\n",
              " 'somebody': 781,\n",
              " 'sometime': 782,\n",
              " 'soon': 783,\n",
              " 'sorry': 784,\n",
              " 'sort': 785,\n",
              " 'sounds': 786,\n",
              " 'southwest': 787,\n",
              " 'spend': 788,\n",
              " 'st.': 789,\n",
              " 'stand': 790,\n",
              " 'stands': 791,\n",
              " 'stapleton': 792,\n",
              " 'start': 793,\n",
              " 'starting': 794,\n",
              " 'staying': 795,\n",
              " 'still': 796,\n",
              " 'stop': 797,\n",
              " 'stopover': 798,\n",
              " 'stopovers': 799,\n",
              " 'stopping': 800,\n",
              " 'stops': 801,\n",
              " 'straight': 802,\n",
              " 'such': 803,\n",
              " 'summer': 804,\n",
              " 'sunday': 805,\n",
              " 'sundays': 806,\n",
              " 'supper': 807,\n",
              " 'sure': 808,\n",
              " 'symbols': 809,\n",
              " 'tacoma': 810,\n",
              " 'take': 811,\n",
              " 'takeoff': 812,\n",
              " 'takeoffs': 813,\n",
              " 'takes': 814,\n",
              " 'taking': 815,\n",
              " 'tampa': 816,\n",
              " 'taxi': 817,\n",
              " 'tell': 818,\n",
              " 'ten': 819,\n",
              " 'tennessee': 820,\n",
              " 'tenth': 821,\n",
              " 'texas': 822,\n",
              " 'than': 823,\n",
              " 'thank': 824,\n",
              " 'thanks': 825,\n",
              " 'that': 826,\n",
              " 'the': 827,\n",
              " 'their': 828,\n",
              " 'them': 829,\n",
              " 'then': 830,\n",
              " 'there': 831,\n",
              " 'thereafter': 832,\n",
              " 'these': 833,\n",
              " 'they': 834,\n",
              " 'thing': 835,\n",
              " 'third': 836,\n",
              " 'thirteenth': 837,\n",
              " 'thirtieth': 838,\n",
              " 'thirty': 839,\n",
              " 'this': 840,\n",
              " 'those': 841,\n",
              " 'three': 842,\n",
              " 'thrift': 843,\n",
              " 'through': 844,\n",
              " 'thursday': 845,\n",
              " 'thursdays': 846,\n",
              " 'ticket': 847,\n",
              " 'tickets': 848,\n",
              " 'time': 849,\n",
              " 'times': 850,\n",
              " 'to': 851,\n",
              " 'today': 852,\n",
              " 'tomorrow': 853,\n",
              " 'tonight': 854,\n",
              " 'too': 855,\n",
              " 'toronto': 856,\n",
              " 'total': 857,\n",
              " 'toward': 858,\n",
              " 'tower': 859,\n",
              " 'town': 860,\n",
              " 'tpa': 861,\n",
              " 'train': 862,\n",
              " 'trans': 863,\n",
              " 'transcontinental': 864,\n",
              " 'transport': 865,\n",
              " 'transportation': 866,\n",
              " 'travel': 867,\n",
              " 'traveling': 868,\n",
              " 'travels': 869,\n",
              " 'trip': 870,\n",
              " 'trips': 871,\n",
              " 'try': 872,\n",
              " 'trying': 873,\n",
              " 'tuesday': 874,\n",
              " 'tuesdays': 875,\n",
              " 'turboprop': 876,\n",
              " 'twa': 877,\n",
              " 'twelfth': 878,\n",
              " 'twelve': 879,\n",
              " 'twentieth': 880,\n",
              " 'twenty': 881,\n",
              " 'two': 882,\n",
              " 'type': 883,\n",
              " 'types': 884,\n",
              " 'ua': 885,\n",
              " 'under': 886,\n",
              " 'united': 887,\n",
              " 'up': 888,\n",
              " 'us': 889,\n",
              " 'usa': 890,\n",
              " 'use': 891,\n",
              " 'used': 892,\n",
              " 'uses': 893,\n",
              " 'using': 894,\n",
              " 'utah': 895,\n",
              " 'various': 896,\n",
              " 'vegas': 897,\n",
              " 'very': 898,\n",
              " 'via': 899,\n",
              " 'vicinity': 900,\n",
              " 'visit': 901,\n",
              " 'want': 902,\n",
              " 'wanted': 903,\n",
              " 'wants': 904,\n",
              " 'washington': 905,\n",
              " 'way': 906,\n",
              " 'we': 907,\n",
              " 'wednesday': 908,\n",
              " 'wednesdays': 909,\n",
              " 'week': 910,\n",
              " 'weekday': 911,\n",
              " 'weekdays': 912,\n",
              " 'well': 913,\n",
              " 'west': 914,\n",
              " 'westchester': 915,\n",
              " 'what': 916,\n",
              " 'when': 917,\n",
              " 'where': 918,\n",
              " 'whether': 919,\n",
              " 'which': 920,\n",
              " 'while': 921,\n",
              " 'who': 922,\n",
              " 'will': 923,\n",
              " 'wish': 924,\n",
              " 'with': 925,\n",
              " 'within': 926,\n",
              " 'without': 927,\n",
              " 'wn': 928,\n",
              " 'working': 929,\n",
              " 'world': 930,\n",
              " 'worth': 931,\n",
              " 'would': 932,\n",
              " 'y': 933,\n",
              " 'year': 934,\n",
              " 'yes': 935,\n",
              " 'yn': 936,\n",
              " 'york': 937,\n",
              " 'you': 938,\n",
              " 'your': 939,\n",
              " 'yx': 940,\n",
              " 'yyz': 941,\n",
              " 'zone': 942}"
            ]
          },
          "metadata": {
            "tags": []
          },
          "execution_count": 16
        }
      ]
    },
    {
      "metadata": {
        "id": "jtg2LJ9LaolX",
        "colab_type": "code",
        "outputId": "617a6e9a-6b44-443c-cb8e-e027a5f241e7",
        "colab": {
          "base_uri": "https://localhost:8080/",
          "height": 459
        }
      },
      "cell_type": "code",
      "source": [
        "in2i"
      ],
      "execution_count": 0,
      "outputs": [
        {
          "output_type": "execute_result",
          "data": {
            "text/plain": [
              "{'abbreviation': 0,\n",
              " 'aircraft': 1,\n",
              " 'aircraft+flight+flight_no': 2,\n",
              " 'airfare': 3,\n",
              " 'airfare+flight': 4,\n",
              " 'airfare+flight_time': 5,\n",
              " 'airline': 6,\n",
              " 'airline+flight_no': 7,\n",
              " 'airport': 8,\n",
              " 'capacity': 9,\n",
              " 'cheapest': 10,\n",
              " 'city': 11,\n",
              " 'day_name': 12,\n",
              " 'distance': 13,\n",
              " 'flight': 14,\n",
              " 'flight+airfare': 15,\n",
              " 'flight+airline': 16,\n",
              " 'flight_no': 17,\n",
              " 'flight_no+airline': 18,\n",
              " 'flight_time': 19,\n",
              " 'ground_fare': 20,\n",
              " 'ground_service': 21,\n",
              " 'ground_service+ground_fare': 22,\n",
              " 'meal': 23,\n",
              " 'quantity': 24,\n",
              " 'restriction': 25}"
            ]
          },
          "metadata": {
            "tags": []
          },
          "execution_count": 18
        }
      ]
    },
    {
      "metadata": {
        "id": "JcjrQWsry_Gq",
        "colab_type": "code",
        "outputId": "61c53f05-9969-49c8-f794-2a32cbb90f86",
        "colab": {
          "base_uri": "https://localhost:8080/",
          "height": 2703
        }
      },
      "cell_type": "code",
      "source": [
        "t2i, s2i, in2i = map(dicts.get, ['token_ids', 'slot_ids','intent_ids'])\n",
        "i2t, i2s, i2in = map(lambda d: {d[k]:k for k in d.keys()}, [t2i,s2i,in2i])\n",
        "query, slots, intent =  map(train_ds.get, ['query', 'slot_labels', 'intent_labels'])\n",
        "\n",
        "for i in range(10):\n",
        "    print('{:4d}:{:>15}: {}'.format(i, i2in[intent[i][0]],\n",
        "                                    ' '.join(map(i2t.get, query[i]))))\n",
        "    print('intent:', i2in[intent[i][0]])\n",
        "    for j in range(len(query[i])):\n",
        "        print('{:>33} {:>40}'.format(i2t[query[i][j]],\n",
        "                                     i2s[slots[i][j]]))\n",
        "    print('*'*74)"
      ],
      "execution_count": 0,
      "outputs": [
        {
          "output_type": "stream",
          "text": [
            "   0:         flight: BOS i want to fly from boston at 838 am and arrive in denver at 1110 in the morning EOS\n",
            "intent: flight\n",
            "                              BOS                                        O\n",
            "                                i                                        O\n",
            "                             want                                        O\n",
            "                               to                                        O\n",
            "                              fly                                        O\n",
            "                             from                                        O\n",
            "                           boston                      B-fromloc.city_name\n",
            "                               at                                        O\n",
            "                              838                       B-depart_time.time\n",
            "                               am                       I-depart_time.time\n",
            "                              and                                        O\n",
            "                           arrive                                        O\n",
            "                               in                                        O\n",
            "                           denver                        B-toloc.city_name\n",
            "                               at                                        O\n",
            "                             1110                       B-arrive_time.time\n",
            "                               in                                        O\n",
            "                              the                                        O\n",
            "                          morning              B-arrive_time.period_of_day\n",
            "                              EOS                                        O\n",
            "**************************************************************************\n",
            "   1:         flight: BOS what flights are available from pittsburgh to baltimore on thursday morning EOS\n",
            "intent: flight\n",
            "                              BOS                                        O\n",
            "                             what                                        O\n",
            "                          flights                                        O\n",
            "                              are                                        O\n",
            "                        available                                        O\n",
            "                             from                                        O\n",
            "                       pittsburgh                      B-fromloc.city_name\n",
            "                               to                                        O\n",
            "                        baltimore                        B-toloc.city_name\n",
            "                               on                                        O\n",
            "                         thursday                   B-depart_date.day_name\n",
            "                          morning              B-depart_time.period_of_day\n",
            "                              EOS                                        O\n",
            "**************************************************************************\n",
            "   2:    flight_time: BOS what is the arrival time in san francisco for the 755 am flight leaving washington EOS\n",
            "intent: flight_time\n",
            "                              BOS                                        O\n",
            "                             what                                        O\n",
            "                               is                                        O\n",
            "                              the                                        O\n",
            "                          arrival                            B-flight_time\n",
            "                             time                            I-flight_time\n",
            "                               in                                        O\n",
            "                              san                      B-fromloc.city_name\n",
            "                        francisco                      I-fromloc.city_name\n",
            "                              for                                        O\n",
            "                              the                                        O\n",
            "                              755                       B-depart_time.time\n",
            "                               am                       I-depart_time.time\n",
            "                           flight                                        O\n",
            "                          leaving                                        O\n",
            "                       washington                      B-fromloc.city_name\n",
            "                              EOS                                        O\n",
            "**************************************************************************\n",
            "   3:        airfare: BOS cheapest airfare from tacoma to orlando EOS\n",
            "intent: airfare\n",
            "                              BOS                                        O\n",
            "                         cheapest                          B-cost_relative\n",
            "                          airfare                                        O\n",
            "                             from                                        O\n",
            "                           tacoma                      B-fromloc.city_name\n",
            "                               to                                        O\n",
            "                          orlando                        B-toloc.city_name\n",
            "                              EOS                                        O\n",
            "**************************************************************************\n",
            "   4:        airfare: BOS round trip fares from pittsburgh to philadelphia under 1000 dollars EOS\n",
            "intent: airfare\n",
            "                              BOS                                        O\n",
            "                            round                             B-round_trip\n",
            "                             trip                             I-round_trip\n",
            "                            fares                                        O\n",
            "                             from                                        O\n",
            "                       pittsburgh                      B-fromloc.city_name\n",
            "                               to                                        O\n",
            "                     philadelphia                        B-toloc.city_name\n",
            "                            under                          B-cost_relative\n",
            "                             1000                            B-fare_amount\n",
            "                          dollars                            I-fare_amount\n",
            "                              EOS                                        O\n",
            "**************************************************************************\n",
            "   5:         flight: BOS i need a flight tomorrow from columbus to minneapolis EOS\n",
            "intent: flight\n",
            "                              BOS                                        O\n",
            "                                i                                        O\n",
            "                             need                                        O\n",
            "                                a                                        O\n",
            "                           flight                                        O\n",
            "                         tomorrow             B-depart_date.today_relative\n",
            "                             from                                        O\n",
            "                         columbus                      B-fromloc.city_name\n",
            "                               to                                        O\n",
            "                      minneapolis                        B-toloc.city_name\n",
            "                              EOS                                        O\n",
            "**************************************************************************\n",
            "   6:       aircraft: BOS what kind of aircraft is used on a flight from cleveland to dallas EOS\n",
            "intent: aircraft\n",
            "                              BOS                                        O\n",
            "                             what                                        O\n",
            "                             kind                                        O\n",
            "                               of                                        O\n",
            "                         aircraft                                        O\n",
            "                               is                                        O\n",
            "                             used                                        O\n",
            "                               on                                        O\n",
            "                                a                                        O\n",
            "                           flight                                        O\n",
            "                             from                                        O\n",
            "                        cleveland                      B-fromloc.city_name\n",
            "                               to                                        O\n",
            "                           dallas                        B-toloc.city_name\n",
            "                              EOS                                        O\n",
            "**************************************************************************\n",
            "   7:         flight: BOS show me the flights from pittsburgh to los angeles on thursday EOS\n",
            "intent: flight\n",
            "                              BOS                                        O\n",
            "                             show                                        O\n",
            "                               me                                        O\n",
            "                              the                                        O\n",
            "                          flights                                        O\n",
            "                             from                                        O\n",
            "                       pittsburgh                      B-fromloc.city_name\n",
            "                               to                                        O\n",
            "                              los                        B-toloc.city_name\n",
            "                          angeles                        I-toloc.city_name\n",
            "                               on                                        O\n",
            "                         thursday                   B-depart_date.day_name\n",
            "                              EOS                                        O\n",
            "**************************************************************************\n",
            "   8:         flight: BOS all flights from boston to washington EOS\n",
            "intent: flight\n",
            "                              BOS                                        O\n",
            "                              all                                        O\n",
            "                          flights                                        O\n",
            "                             from                                        O\n",
            "                           boston                      B-fromloc.city_name\n",
            "                               to                                        O\n",
            "                       washington                        B-toloc.city_name\n",
            "                              EOS                                        O\n",
            "**************************************************************************\n",
            "   9: ground_service: BOS what kind of ground transportation is available in denver EOS\n",
            "intent: ground_service\n",
            "                              BOS                                        O\n",
            "                             what                                        O\n",
            "                             kind                                        O\n",
            "                               of                                        O\n",
            "                           ground                                        O\n",
            "                   transportation                                        O\n",
            "                               is                                        O\n",
            "                        available                                        O\n",
            "                               in                                        O\n",
            "                           denver                              B-city_name\n",
            "                              EOS                                        O\n",
            "**************************************************************************\n"
          ],
          "name": "stdout"
        }
      ]
    },
    {
      "metadata": {
        "id": "rV2x74tRgkp2",
        "colab_type": "code",
        "outputId": "abeca837-befd-46f1-df15-d6d841d8221b",
        "colab": {
          "base_uri": "https://localhost:8080/",
          "height": 51
        }
      },
      "cell_type": "code",
      "source": [
        "query[0]"
      ],
      "execution_count": 0,
      "outputs": [
        {
          "output_type": "execute_result",
          "data": {
            "text/plain": [
              "array([178, 479, 902, 851, 431, 444, 266, 240, 168, 210, 215, 236, 482,\n",
              "       351, 240,  27, 482, 827, 606, 179])"
            ]
          },
          "metadata": {
            "tags": []
          },
          "execution_count": 19
        }
      ]
    },
    {
      "metadata": {
        "id": "Yj2zpYNVdlxA",
        "colab_type": "code",
        "outputId": "8a14497d-c3da-4b02-960f-11d5c19faadd",
        "colab": {
          "base_uri": "https://localhost:8080/",
          "height": 51
        }
      },
      "cell_type": "code",
      "source": [
        "slots[0]"
      ],
      "execution_count": 0,
      "outputs": [
        {
          "output_type": "execute_result",
          "data": {
            "text/plain": [
              "array([128, 128, 128, 128, 128, 128,  48, 128,  35, 100, 128, 128, 128,\n",
              "        78, 128,  14, 128, 128,  12, 128])"
            ]
          },
          "metadata": {
            "tags": []
          },
          "execution_count": 23
        }
      ]
    },
    {
      "metadata": {
        "id": "bLzzV-i8d1px",
        "colab_type": "code",
        "outputId": "a10ebc0f-b40e-492d-b64a-065fedf12079",
        "colab": {
          "base_uri": "https://localhost:8080/",
          "height": 34
        }
      },
      "cell_type": "code",
      "source": [
        "intent[0]"
      ],
      "execution_count": 0,
      "outputs": [
        {
          "output_type": "execute_result",
          "data": {
            "text/plain": [
              "array([14])"
            ]
          },
          "metadata": {
            "tags": []
          },
          "execution_count": 24
        }
      ]
    },
    {
      "metadata": {
        "id": "VRKDljCy86Wu",
        "colab_type": "code",
        "colab": {}
      },
      "cell_type": "code",
      "source": [
        "i2t2 = []\n",
        "i2s2 = []\n",
        "c=[]\n",
        "for i in range(4978):\n",
        "  a = []\n",
        "  b = []\n",
        "  c.append(i2in[intent[i][0]])\n",
        "  for j in range(len(query[i])):\n",
        "    a.append(i2t[query[i][j]])\n",
        "    b.append(i2s[slots[i][j]])\n",
        "  i2t2.append(a)\n",
        "  i2s2.append(b)"
      ],
      "execution_count": 0,
      "outputs": []
    },
    {
      "metadata": {
        "id": "npMj_weS_sYt",
        "colab_type": "code",
        "outputId": "3bcd1bde-ee60-4659-8e49-b82c0cf8249b",
        "colab": {
          "base_uri": "https://localhost:8080/",
          "height": 34
        }
      },
      "cell_type": "code",
      "source": [
        "i2t2 = np.array(i2t2)\n",
        "i2s2 = np.array(i2s2)\n",
        "i2in2 = np.array(c)\n",
        "print(i2t2.shape, i2s2.shape,i2in2.shape)"
      ],
      "execution_count": 0,
      "outputs": [
        {
          "output_type": "stream",
          "text": [
            "(4978,) (4978,) (4978,)\n"
          ],
          "name": "stdout"
        }
      ]
    },
    {
      "metadata": {
        "id": "9QaqRlZNAFdA",
        "colab_type": "code",
        "outputId": "cf99917a-12ea-4a18-ce0c-c1ea20c8f4cc",
        "colab": {
          "base_uri": "https://localhost:8080/",
          "height": 88
        }
      },
      "cell_type": "code",
      "source": [
        "print('tokens: ',i2t2[0])\n",
        "print('slots: ',i2s2[0])\n",
        "print('intent: ',i2in2[0])"
      ],
      "execution_count": 0,
      "outputs": [
        {
          "output_type": "stream",
          "text": [
            "tokens:  ['BOS', 'i', 'want', 'to', 'fly', 'from', 'boston', 'at', '838', 'am', 'and', 'arrive', 'in', 'denver', 'at', '1110', 'in', 'the', 'morning', 'EOS']\n",
            "slots:  ['O', 'O', 'O', 'O', 'O', 'O', 'B-fromloc.city_name', 'O', 'B-depart_time.time', 'I-depart_time.time', 'O', 'O', 'O', 'B-toloc.city_name', 'O', 'B-arrive_time.time', 'O', 'O', 'B-arrive_time.period_of_day', 'O']\n",
            "intent:  flight\n"
          ],
          "name": "stdout"
        }
      ]
    },
    {
      "metadata": {
        "id": "aUjwxX7kCQqC",
        "colab_type": "code",
        "colab": {}
      },
      "cell_type": "code",
      "source": [
        "final_sentences = []\n",
        "final_targets = []\n",
        "final_docs = []\n",
        "for i in range(len(i2t2)):\n",
        "  tokens = ''\n",
        "  entities = ''\n",
        "  intent = ''\n",
        "  for j in range(len(i2t2[i])):\n",
        "    tokens= tokens + i2t2[i][j] + ' '\n",
        "    entities = entities + i2s2[i][j] +' '\n",
        "  intent = i2in2[i]\n",
        "  final_sentences.append(tokens)\n",
        "  final_targets.append(entities)\n",
        "  final_docs.append(intent)"
      ],
      "execution_count": 0,
      "outputs": []
    },
    {
      "metadata": {
        "id": "eXQX3drEsNqc",
        "colab_type": "code",
        "outputId": "88b18e06-b1b8-41c4-a700-14e1e53e5972",
        "colab": {
          "base_uri": "https://localhost:8080/",
          "height": 88
        }
      },
      "cell_type": "code",
      "source": [
        "print('query: ',final_sentences[0])\n",
        "print('slots: ',final_targets[0])\n",
        "print('intent: ',final_docs[0])"
      ],
      "execution_count": 0,
      "outputs": [
        {
          "output_type": "stream",
          "text": [
            "query:  BOS i want to fly from boston at 838 am and arrive in denver at 1110 in the morning EOS \n",
            "slots:  O O O O O O B-fromloc.city_name O B-depart_time.time I-depart_time.time O O O B-toloc.city_name O B-arrive_time.time O O B-arrive_time.period_of_day O \n",
            "intent:  flight\n"
          ],
          "name": "stdout"
        }
      ]
    },
    {
      "metadata": {
        "id": "UdnTGt3iihp-",
        "colab_type": "code",
        "outputId": "f6a6ef99-9156-47cb-d1e0-2de1c30b5252",
        "colab": {
          "base_uri": "https://localhost:8080/",
          "height": 357
        }
      },
      "cell_type": "code",
      "source": [
        "i2t2[0]"
      ],
      "execution_count": 0,
      "outputs": [
        {
          "output_type": "execute_result",
          "data": {
            "text/plain": [
              "['BOS',\n",
              " 'i',\n",
              " 'want',\n",
              " 'to',\n",
              " 'fly',\n",
              " 'from',\n",
              " 'boston',\n",
              " 'at',\n",
              " '838',\n",
              " 'am',\n",
              " 'and',\n",
              " 'arrive',\n",
              " 'in',\n",
              " 'denver',\n",
              " 'at',\n",
              " '1110',\n",
              " 'in',\n",
              " 'the',\n",
              " 'morning',\n",
              " 'EOS']"
            ]
          },
          "metadata": {
            "tags": []
          },
          "execution_count": 27
        }
      ]
    },
    {
      "metadata": {
        "id": "7HI8z_GwDXlx",
        "colab_type": "code",
        "colab": {}
      },
      "cell_type": "code",
      "source": [
        "from collections import Counter\n",
        "counts = Counter()\n",
        "for i,sentence in enumerate(final_sentences):\n",
        "    counts.update(sentence.split())"
      ],
      "execution_count": 0,
      "outputs": []
    },
    {
      "metadata": {
        "id": "vI8fNEi4DZNb",
        "colab_type": "code",
        "colab": {}
      },
      "cell_type": "code",
      "source": [
        "sentence_words = sorted(counts, key=counts.get, reverse=True)\n",
        "#sentence_words[0:50]"
      ],
      "execution_count": 0,
      "outputs": []
    },
    {
      "metadata": {
        "id": "eLhC0IrADa42",
        "colab_type": "code",
        "outputId": "409bda0e-d284-414e-aec1-285823da4d46",
        "colab": {
          "base_uri": "https://localhost:8080/",
          "height": 34
        }
      },
      "cell_type": "code",
      "source": [
        "chars = sentence_words\n",
        "nb_chars = len(chars)\n",
        "nb_chars"
      ],
      "execution_count": 0,
      "outputs": [
        {
          "output_type": "execute_result",
          "data": {
            "text/plain": [
              "891"
            ]
          },
          "metadata": {
            "tags": []
          },
          "execution_count": 40
        }
      ]
    },
    {
      "metadata": {
        "id": "d25hOG9NDceJ",
        "colab_type": "code",
        "colab": {}
      },
      "cell_type": "code",
      "source": [
        "sentence_word_to_int = {word: i for i, word in enumerate(sentence_words, 1)}\n",
        "sentence_int_to_word = {i: word for i, word in enumerate(sentence_words, 1)}"
      ],
      "execution_count": 0,
      "outputs": []
    },
    {
      "metadata": {
        "id": "HRYIPuWQDdyl",
        "colab_type": "code",
        "colab": {}
      },
      "cell_type": "code",
      "source": [
        "mapped_reviews = []\n",
        "for review in final_sentences:\n",
        "    mapped_reviews.append([sentence_word_to_int[word] for word in review.split()])"
      ],
      "execution_count": 0,
      "outputs": []
    },
    {
      "metadata": {
        "id": "Nwy8QoNohUZ5",
        "colab_type": "code",
        "outputId": "c14f205e-d0fe-4f7c-96d2-b89ca79a2431",
        "colab": {
          "base_uri": "https://localhost:8080/",
          "height": 34
        }
      },
      "cell_type": "code",
      "source": [
        "mapped_reviews[0]"
      ],
      "execution_count": 0,
      "outputs": [
        {
          "output_type": "execute_result",
          "data": {
            "text/plain": [
              "[1, 14, 72, 3, 40, 4, 11, 70, 408, 88, 19, 81, 18, 15, 70, 532, 18, 6, 38, 2]"
            ]
          },
          "metadata": {
            "tags": []
          },
          "execution_count": 43
        }
      ]
    },
    {
      "metadata": {
        "id": "1HWLzn-25OBs",
        "colab_type": "text"
      },
      "cell_type": "markdown",
      "source": [
        "# Entity extraction"
      ]
    },
    {
      "metadata": {
        "id": "ZSExgJ8MDf7z",
        "colab_type": "code",
        "colab": {}
      },
      "cell_type": "code",
      "source": [
        "from collections import Counter\n",
        "counts = Counter()\n",
        "for i,sentence in enumerate(final_targets):\n",
        "    counts.update(sentence.split())"
      ],
      "execution_count": 0,
      "outputs": []
    },
    {
      "metadata": {
        "id": "OBiM-pttDhQQ",
        "colab_type": "code",
        "outputId": "fbb05923-e358-4454-ba3a-affae116c8be",
        "colab": {
          "base_uri": "https://localhost:8080/",
          "height": 187
        }
      },
      "cell_type": "code",
      "source": [
        "target_words = sorted(counts, key=counts.get, reverse=True)\n",
        "target_words[0:10]"
      ],
      "execution_count": 0,
      "outputs": [
        {
          "output_type": "execute_result",
          "data": {
            "text/plain": [
              "['O',\n",
              " 'B-toloc.city_name',\n",
              " 'B-fromloc.city_name',\n",
              " 'I-toloc.city_name',\n",
              " 'B-depart_date.day_name',\n",
              " 'B-airline_name',\n",
              " 'I-fromloc.city_name',\n",
              " 'B-depart_time.period_of_day',\n",
              " 'I-airline_name',\n",
              " 'B-depart_date.day_number']"
            ]
          },
          "metadata": {
            "tags": []
          },
          "execution_count": 45
        }
      ]
    },
    {
      "metadata": {
        "id": "jH-SnynuDiUB",
        "colab_type": "code",
        "outputId": "3ce1e957-383f-4693-f7dc-0328e5bc7ba2",
        "colab": {
          "base_uri": "https://localhost:8080/",
          "height": 34
        }
      },
      "cell_type": "code",
      "source": [
        "chars = target_words\n",
        "nb_chars = len(target_words)\n",
        "nb_chars"
      ],
      "execution_count": 0,
      "outputs": [
        {
          "output_type": "execute_result",
          "data": {
            "text/plain": [
              "123"
            ]
          },
          "metadata": {
            "tags": []
          },
          "execution_count": 46
        }
      ]
    },
    {
      "metadata": {
        "id": "M1sDtT76DukE",
        "colab_type": "code",
        "colab": {}
      },
      "cell_type": "code",
      "source": [
        "target_word_to_int = {word: i for i, word in enumerate(target_words, 1)}\n",
        "target_int_to_word = {i: word for i, word in enumerate(target_words, 1)}"
      ],
      "execution_count": 0,
      "outputs": []
    },
    {
      "metadata": {
        "id": "AmxRTdtqDvpG",
        "colab_type": "code",
        "colab": {}
      },
      "cell_type": "code",
      "source": [
        "mapped_targets = []\n",
        "for review in final_targets:\n",
        "    mapped_targets.append([target_word_to_int[word] for word in review.split()])"
      ],
      "execution_count": 0,
      "outputs": []
    },
    {
      "metadata": {
        "id": "gTRV8aXjDx-S",
        "colab_type": "code",
        "outputId": "db8f48c6-fa84-40e0-f165-5c47e83b67ab",
        "colab": {
          "base_uri": "https://localhost:8080/",
          "height": 34
        }
      },
      "cell_type": "code",
      "source": [
        "len(target_word_to_int)"
      ],
      "execution_count": 0,
      "outputs": [
        {
          "output_type": "execute_result",
          "data": {
            "text/plain": [
              "123"
            ]
          },
          "metadata": {
            "tags": []
          },
          "execution_count": 49
        }
      ]
    },
    {
      "metadata": {
        "id": "hi3cop1cD0nq",
        "colab_type": "code",
        "outputId": "310cbe86-8d22-4185-da4b-b77880d54923",
        "colab": {
          "base_uri": "https://localhost:8080/",
          "height": 34
        }
      },
      "cell_type": "code",
      "source": [
        "from keras.preprocessing.sequence import pad_sequences\n",
        "y = pad_sequences(maxlen=124, sequences=mapped_targets, padding=\"post\", value=0)"
      ],
      "execution_count": 0,
      "outputs": [
        {
          "output_type": "stream",
          "text": [
            "Using TensorFlow backend.\n"
          ],
          "name": "stderr"
        }
      ]
    },
    {
      "metadata": {
        "id": "L1US3h57D6yp",
        "colab_type": "code",
        "colab": {}
      },
      "cell_type": "code",
      "source": [
        "from keras.utils import to_categorical\n",
        "y2 = [to_categorical(i, num_classes=len(target_word_to_int)+1) for i in y]"
      ],
      "execution_count": 0,
      "outputs": []
    },
    {
      "metadata": {
        "id": "FDTd7AqbD-Ic",
        "colab_type": "code",
        "colab": {}
      },
      "cell_type": "code",
      "source": [
        "y3 = np.array(y2)"
      ],
      "execution_count": 0,
      "outputs": []
    },
    {
      "metadata": {
        "id": "Vv0Wz7jfAZJ4",
        "colab_type": "code",
        "outputId": "04bf90c2-dc9c-4d2d-9ecb-ed8664372a14",
        "colab": {
          "base_uri": "https://localhost:8080/",
          "height": 34
        }
      },
      "cell_type": "code",
      "source": [
        "length_sent = []\n",
        "for i in range(len(mapped_reviews)):\n",
        "  a = mapped_reviews[i]\n",
        "  b = len(a)\n",
        "  length_sent.append(b)\n",
        "np.max(length_sent)"
      ],
      "execution_count": 0,
      "outputs": [
        {
          "output_type": "execute_result",
          "data": {
            "text/plain": [
              "48"
            ]
          },
          "metadata": {
            "tags": []
          },
          "execution_count": 53
        }
      ]
    },
    {
      "metadata": {
        "id": "flRAUi3OEDaA",
        "colab_type": "code",
        "colab": {}
      },
      "cell_type": "code",
      "source": [
        "from keras.preprocessing.sequence import pad_sequences\n",
        "X = pad_sequences(maxlen=50, sequences=mapped_reviews, padding=\"post\", value=0)\n",
        "Y = pad_sequences(maxlen=50, sequences=mapped_targets, padding=\"post\", value=0)\n"
      ],
      "execution_count": 0,
      "outputs": []
    },
    {
      "metadata": {
        "id": "R1dfWSW6CMDM",
        "colab_type": "code",
        "colab": {}
      },
      "cell_type": "code",
      "source": [
        "from keras.utils import to_categorical\n",
        "y2 = [to_categorical(i, num_classes=124) for i in Y]"
      ],
      "execution_count": 0,
      "outputs": []
    },
    {
      "metadata": {
        "id": "4cvmZgz7CQfj",
        "colab_type": "code",
        "colab": {}
      },
      "cell_type": "code",
      "source": [
        "y3 = np.array(y2)"
      ],
      "execution_count": 0,
      "outputs": []
    },
    {
      "metadata": {
        "id": "AZOYq6FuEF4D",
        "colab_type": "code",
        "colab": {}
      },
      "cell_type": "code",
      "source": [
        "from sklearn.model_selection import train_test_split\n",
        "X_train, X_test, y_train, y_test = train_test_split(X,y3, test_size=0.30,random_state=10)"
      ],
      "execution_count": 0,
      "outputs": []
    },
    {
      "metadata": {
        "id": "57uKmUEKBHb_",
        "colab_type": "code",
        "outputId": "3dd604ce-4b97-4418-ea41-3de3d2a1dafc",
        "colab": {
          "base_uri": "https://localhost:8080/",
          "height": 34
        }
      },
      "cell_type": "code",
      "source": [
        "print(X.shape,y3.shape)"
      ],
      "execution_count": 0,
      "outputs": [
        {
          "output_type": "stream",
          "text": [
            "(4978, 50) (4978, 50, 124)\n"
          ],
          "name": "stdout"
        }
      ]
    },
    {
      "metadata": {
        "id": "hgeptYfwEHY6",
        "colab_type": "code",
        "colab": {}
      },
      "cell_type": "code",
      "source": [
        "from keras.models import Model, Input\n",
        "from keras.layers import LSTM, Embedding, Dense, TimeDistributed, Dropout, Bidirectional"
      ],
      "execution_count": 0,
      "outputs": []
    },
    {
      "metadata": {
        "id": "a8Siq0_9EJJ_",
        "colab_type": "code",
        "outputId": "16a88206-a6f6-4757-97d1-fcc3254560c0",
        "colab": {
          "base_uri": "https://localhost:8080/",
          "height": 139
        }
      },
      "cell_type": "code",
      "source": [
        "input = Input(shape=(50,))\n",
        "model = Embedding(input_dim=891, output_dim=32, input_length=50)(input)\n",
        "model = Dropout(0.1)(model)\n",
        "model = Bidirectional(LSTM(units=100, return_sequences=True, recurrent_dropout=0.1))(model)\n",
        "out = TimeDistributed(Dense(124, activation=\"softmax\"))(model)  # softmax output layer"
      ],
      "execution_count": 0,
      "outputs": [
        {
          "output_type": "stream",
          "text": [
            "WARNING:tensorflow:From /usr/local/lib/python3.6/dist-packages/tensorflow/python/framework/op_def_library.py:263: colocate_with (from tensorflow.python.framework.ops) is deprecated and will be removed in a future version.\n",
            "Instructions for updating:\n",
            "Colocations handled automatically by placer.\n",
            "WARNING:tensorflow:From /usr/local/lib/python3.6/dist-packages/keras/backend/tensorflow_backend.py:3445: calling dropout (from tensorflow.python.ops.nn_ops) with keep_prob is deprecated and will be removed in a future version.\n",
            "Instructions for updating:\n",
            "Please use `rate` instead of `keep_prob`. Rate should be set to `rate = 1 - keep_prob`.\n"
          ],
          "name": "stdout"
        }
      ]
    },
    {
      "metadata": {
        "id": "Au-pZtTqELb2",
        "colab_type": "code",
        "outputId": "8ded272c-7644-4232-b518-599c8aee6edf",
        "colab": {
          "base_uri": "https://localhost:8080/",
          "height": 306
        }
      },
      "cell_type": "code",
      "source": [
        "model = Model(input, out)\n",
        "model.summary()"
      ],
      "execution_count": 0,
      "outputs": [
        {
          "output_type": "stream",
          "text": [
            "_________________________________________________________________\n",
            "Layer (type)                 Output Shape              Param #   \n",
            "=================================================================\n",
            "input_1 (InputLayer)         (None, 50)                0         \n",
            "_________________________________________________________________\n",
            "embedding_1 (Embedding)      (None, 50, 32)            28512     \n",
            "_________________________________________________________________\n",
            "dropout_1 (Dropout)          (None, 50, 32)            0         \n",
            "_________________________________________________________________\n",
            "bidirectional_1 (Bidirection (None, 50, 200)           106400    \n",
            "_________________________________________________________________\n",
            "time_distributed_1 (TimeDist (None, 50, 124)           24924     \n",
            "=================================================================\n",
            "Total params: 159,836\n",
            "Trainable params: 159,836\n",
            "Non-trainable params: 0\n",
            "_________________________________________________________________\n"
          ],
          "name": "stdout"
        }
      ]
    },
    {
      "metadata": {
        "id": "siyf2QZ9ENa8",
        "colab_type": "code",
        "colab": {}
      },
      "cell_type": "code",
      "source": [
        "model.compile(optimizer=\"adam\", loss=\"categorical_crossentropy\", metrics=[\"accuracy\"])"
      ],
      "execution_count": 0,
      "outputs": []
    },
    {
      "metadata": {
        "id": "N-TFvPgXEO69",
        "colab_type": "code",
        "outputId": "e54ea08e-6fa8-4cff-8341-53f11e1c406f",
        "colab": {
          "base_uri": "https://localhost:8080/",
          "height": 275
        }
      },
      "cell_type": "code",
      "source": [
        "history = model.fit(X_train,y_train, batch_size=32, epochs=5, validation_data = (X_test,y_test), verbose=1)"
      ],
      "execution_count": 0,
      "outputs": [
        {
          "output_type": "stream",
          "text": [
            "WARNING:tensorflow:From /usr/local/lib/python3.6/dist-packages/tensorflow/python/ops/math_ops.py:3066: to_int32 (from tensorflow.python.ops.math_ops) is deprecated and will be removed in a future version.\n",
            "Instructions for updating:\n",
            "Use tf.cast instead.\n",
            "Train on 3484 samples, validate on 1494 samples\n",
            "Epoch 1/5\n",
            "3484/3484 [==============================] - 31s 9ms/step - loss: 1.1684 - acc: 0.8263 - val_loss: 0.5062 - val_acc: 0.8974\n",
            "Epoch 2/5\n",
            "3484/3484 [==============================] - 29s 8ms/step - loss: 0.4792 - acc: 0.9036 - val_loss: 0.4461 - val_acc: 0.9142\n",
            "Epoch 3/5\n",
            "3484/3484 [==============================] - 29s 8ms/step - loss: 0.4345 - acc: 0.9116 - val_loss: 0.4138 - val_acc: 0.9156\n",
            "Epoch 4/5\n",
            "3484/3484 [==============================] - 29s 8ms/step - loss: 0.3847 - acc: 0.9161 - val_loss: 0.3358 - val_acc: 0.9249\n",
            "Epoch 5/5\n",
            "3484/3484 [==============================] - 29s 8ms/step - loss: 0.2880 - acc: 0.9423 - val_loss: 0.2419 - val_acc: 0.9528\n"
          ],
          "name": "stdout"
        }
      ]
    },
    {
      "metadata": {
        "id": "3zk518gLsB3b",
        "colab_type": "code",
        "outputId": "5fddad0b-7e46-40c9-a04d-aea692e4c7f4",
        "colab": {
          "base_uri": "https://localhost:8080/",
          "height": 386
        }
      },
      "cell_type": "code",
      "source": [
        "import matplotlib.ticker as mtick\n",
        "import matplotlib.pyplot as plt\n",
        "%matplotlib inline\n",
        "history_dict = history.history\n",
        "loss_values = history_dict['loss']\n",
        "val_loss_values = history_dict['val_loss']\n",
        "acc_values = history_dict['acc']\n",
        "val_acc_values = history_dict['val_acc']\n",
        "epochs = range(1, len(val_loss_values) + 1)\n",
        "plt.subplot(211)\n",
        "plt.plot(epochs, history.history['loss'], 'bo', label='Training loss')\n",
        "plt.plot(epochs, val_loss_values, 'r', label='Test loss')\n",
        "plt.title('Training and test loss')\n",
        "plt.xlabel('Epochs')\n",
        "plt.ylabel('Loss')\n",
        "plt.legend()\n",
        "plt.grid('off')\n",
        "plt.show()\n",
        "plt.subplot(212)\n",
        "plt.plot(epochs, history.history['acc'], 'bo', label='Training accuracy')\n",
        "plt.plot(epochs, val_acc_values, 'r', label='Test accuracy')\n",
        "plt.title('Training and test accuracy')\n",
        "plt.xlabel('Epochs')\n",
        "plt.ylabel('Accuracy')\n",
        "plt.gca().set_yticklabels(['{:.0f}%'.format(x*100) for x in plt.gca().get_yticks()]) \n",
        "plt.legend()\n",
        "plt.grid('off')\n",
        "plt.show()"
      ],
      "execution_count": 0,
      "outputs": [
        {
          "output_type": "stream",
          "text": [
            "/usr/local/lib/python3.6/dist-packages/matplotlib/cbook/__init__.py:424: MatplotlibDeprecationWarning: \n",
            "Passing one of 'on', 'true', 'off', 'false' as a boolean is deprecated; use an actual boolean (True/False) instead.\n",
            "  warn_deprecated(\"2.2\", \"Passing one of 'on', 'true', 'off', 'false' as a \"\n"
          ],
          "name": "stderr"
        },
        {
          "output_type": "display_data",
          "data": {
            "image/png": "[encoded data removed]",
            "text/plain": [
              "<Figure size 432x288 with 1 Axes>"
            ]
          },
          "metadata": {
            "tags": []
          }
        },
        {
          "output_type": "display_data",
          "data": {
            "image/png": "[encoded data removed]",
            "text/plain": [
              "<Figure size 432x288 with 1 Axes>"
            ]
          },
          "metadata": {
            "tags": []
          }
        }
      ]
    },
    {
      "metadata": {
        "id": "JwyZOnUV1P2b",
        "colab_type": "code",
        "colab": {}
      },
      "cell_type": "code",
      "source": [
        ""
      ],
      "execution_count": 0,
      "outputs": []
    },
    {
      "metadata": {
        "id": "uZJb_4aj4jUh",
        "colab_type": "text"
      },
      "cell_type": "markdown",
      "source": [
        "# Intent extraction"
      ]
    },
    {
      "metadata": {
        "id": "4ODBAzQd1P6x",
        "colab_type": "code",
        "colab": {}
      },
      "cell_type": "code",
      "source": [
        "from collections import Counter\n",
        "counts = Counter()\n",
        "for i,sentence in enumerate(final_docs):\n",
        "     counts.update(sentence.split())\n",
        "intent_words = sorted(counts, key=counts.get, reverse=True)\n",
        "chars = intent_words\n",
        "nb_chars = len(intent_words)\n",
        "intent_word_to_int = {word: i for i, word in enumerate(intent_words, 1)}\n",
        "intent_int_to_word = {i: word for i, word in enumerate(intent_words, 1)}\n",
        "mapped_docs = []\n",
        "for review in final_docs:\n",
        "     mapped_docs.append([intent_word_to_int[word] for word in review.split()])"
      ],
      "execution_count": 0,
      "outputs": []
    },
    {
      "metadata": {
        "id": "y3zXNKaQ1QdX",
        "colab_type": "code",
        "colab": {}
      },
      "cell_type": "code",
      "source": [
        "from keras.utils import to_categorical\n",
        "doc2 = [to_categorical(i[0], num_classes=23) for i in mapped_docs]\n",
        "doc3 = np.array(doc2)"
      ],
      "execution_count": 0,
      "outputs": []
    },
    {
      "metadata": {
        "id": "qiGwRUwz1Qi1",
        "colab_type": "code",
        "colab": {}
      },
      "cell_type": "code",
      "source": [
        "from sklearn.model_selection import train_test_split\n",
        "X_train, X_test, y_train, y_test = train_test_split(X,doc3, test_size=0.30,random_state=10)"
      ],
      "execution_count": 0,
      "outputs": []
    },
    {
      "metadata": {
        "id": "Z9vgZ7iv1Vzd",
        "colab_type": "code",
        "colab": {}
      },
      "cell_type": "code",
      "source": [
        "input = Input(shape=(50,))\n",
        "model2 = Embedding(input_dim=891, output_dim=32, input_length=50)(input)\n",
        "model2 = Dropout(0.1)(model2)\n",
        "model2 = Bidirectional(LSTM(units=100))(model2)\n",
        "out = (Dense(23, activation=\"softmax\"))(model2)\n",
        "model2 = Model(input, out)"
      ],
      "execution_count": 0,
      "outputs": []
    },
    {
      "metadata": {
        "id": "Ci0LOVVa1V5O",
        "colab_type": "code",
        "colab": {}
      },
      "cell_type": "code",
      "source": [
        "model2.compile(optimizer=\"adam\", loss=\"categorical_crossentropy\", metrics=[\"accuracy\"])"
      ],
      "execution_count": 0,
      "outputs": []
    },
    {
      "metadata": {
        "id": "6o211kXA1V3K",
        "colab_type": "code",
        "outputId": "c4deb1d4-e256-4526-9dfb-99eb05939df1",
        "colab": {
          "base_uri": "https://localhost:8080/",
          "height": 221
        }
      },
      "cell_type": "code",
      "source": [
        "model2.fit(X_train,y_train, batch_size=32, epochs=5, validation_data = (X_test,y_test), verbose=1)"
      ],
      "execution_count": 0,
      "outputs": [
        {
          "output_type": "stream",
          "text": [
            "Train on 3484 samples, validate on 1494 samples\n",
            "Epoch 1/5\n",
            "3484/3484 [==============================] - 29s 8ms/step - loss: 1.3379 - acc: 0.7394 - val_loss: 1.1368 - val_acc: 0.7149\n",
            "Epoch 2/5\n",
            "3484/3484 [==============================] - 28s 8ms/step - loss: 0.7646 - acc: 0.7999 - val_loss: 0.6518 - val_acc: 0.8220\n",
            "Epoch 3/5\n",
            "3484/3484 [==============================] - 28s 8ms/step - loss: 0.5016 - acc: 0.8551 - val_loss: 0.5188 - val_acc: 0.8574\n",
            "Epoch 4/5\n",
            "3484/3484 [==============================] - 28s 8ms/step - loss: 0.3654 - acc: 0.9004 - val_loss: 0.4047 - val_acc: 0.8956\n",
            "Epoch 5/5\n",
            "3484/3484 [==============================] - 27s 8ms/step - loss: 0.2709 - acc: 0.9280 - val_loss: 0.3379 - val_acc: 0.9190\n"
          ],
          "name": "stdout"
        },
        {
          "output_type": "execute_result",
          "data": {
            "text/plain": [
              "<keras.callbacks.History at 0x7f8d8cd13c50>"
            ]
          },
          "metadata": {
            "tags": []
          },
          "execution_count": 101
        }
      ]
    },
    {
      "metadata": {
        "id": "dI7zm8Hy1dSm",
        "colab_type": "code",
        "outputId": "319ccc86-3207-4385-dbaf-5457d36f3c02",
        "colab": {
          "base_uri": "https://localhost:8080/",
          "height": 386
        }
      },
      "cell_type": "code",
      "source": [
        "import matplotlib.ticker as mtick\n",
        "import matplotlib.pyplot as plt\n",
        "%matplotlib inline\n",
        "history_dict = history.history\n",
        "loss_values = history_dict['loss']\n",
        "val_loss_values = history_dict['val_loss']\n",
        "acc_values = history_dict['acc']\n",
        "val_acc_values = history_dict['val_acc']\n",
        "epochs = range(1, len(val_loss_values) + 1)\n",
        "plt.subplot(211)\n",
        "plt.plot(epochs, history.history['loss'], 'bo', label='Training loss')\n",
        "plt.plot(epochs, val_loss_values, 'r', label='Test loss')\n",
        "plt.title('Training and test loss')\n",
        "plt.xlabel('Epochs')\n",
        "plt.ylabel('Loss')\n",
        "plt.legend()\n",
        "plt.grid('off')\n",
        "plt.show()\n",
        "plt.subplot(212)\n",
        "plt.plot(epochs, history.history['acc'], 'bo', label='Training accuracy')\n",
        "plt.plot(epochs, val_acc_values, 'r', label='Test accuracy')\n",
        "plt.title('Training and test accuracy')\n",
        "plt.xlabel('Epochs')\n",
        "plt.ylabel('Accuracy')\n",
        "plt.gca().set_yticklabels(['{:.0f}%'.format(x*100) for x in plt.gca().get_yticks()]) \n",
        "plt.legend()\n",
        "plt.grid('off')\n",
        "plt.show()"
      ],
      "execution_count": 0,
      "outputs": [
        {
          "output_type": "stream",
          "text": [
            "/usr/local/lib/python3.6/dist-packages/matplotlib/cbook/__init__.py:424: MatplotlibDeprecationWarning: \n",
            "Passing one of 'on', 'true', 'off', 'false' as a boolean is deprecated; use an actual boolean (True/False) instead.\n",
            "  warn_deprecated(\"2.2\", \"Passing one of 'on', 'true', 'off', 'false' as a \"\n"
          ],
          "name": "stderr"
        },
        {
          "output_type": "display_data",
          "data": {
            "image/png": "[encoded data removed]",
            "text/plain": [
              "<Figure size 432x288 with 1 Axes>"
            ]
          },
          "metadata": {
            "tags": []
          }
        },
        {
          "output_type": "display_data",
          "data": {
            "image/png": "[encoded data removed]",
            "text/plain": [
              "<Figure size 432x288 with 1 Axes>"
            ]
          },
          "metadata": {
            "tags": []
          }
        }
      ]
    },
    {
      "metadata": {
        "id": "KY1TJEYO1dWL",
        "colab_type": "code",
        "colab": {}
      },
      "cell_type": "code",
      "source": [
        ""
      ],
      "execution_count": 0,
      "outputs": []
    },
    {
      "metadata": {
        "id": "bo38_AKs1Qg5",
        "colab_type": "code",
        "colab": {}
      },
      "cell_type": "code",
      "source": [
        ""
      ],
      "execution_count": 0,
      "outputs": []
    },
    {
      "metadata": {
        "id": "7zPKUarS25BP",
        "colab_type": "code",
        "colab": {}
      },
      "cell_type": "code",
      "source": [
        "def preprocessing(text):\n",
        "  text2 = text.split()\n",
        "  a=[]\n",
        "  for i in range(len(text2)):\n",
        "    a.append(sentence_word_to_int[text2[i]])\n",
        "  return a"
      ],
      "execution_count": 0,
      "outputs": []
    },
    {
      "metadata": {
        "id": "LsTKhiKIFeaN",
        "colab_type": "code",
        "colab": {}
      },
      "cell_type": "code",
      "source": [
        "text = \"BOS i would fly from boston to dallas EOS\""
      ],
      "execution_count": 0,
      "outputs": []
    },
    {
      "metadata": {
        "id": "zvRRXiF736Tq",
        "colab_type": "code",
        "colab": {}
      },
      "cell_type": "code",
      "source": [
        "indexed_text = preprocessing(text)"
      ],
      "execution_count": 0,
      "outputs": []
    },
    {
      "metadata": {
        "id": "7SgaLc70vWXP",
        "colab_type": "code",
        "outputId": "55917f8d-d567-49b8-ab93-5ff8d9857d54",
        "colab": {
          "base_uri": "https://localhost:8080/",
          "height": 34
        }
      },
      "cell_type": "code",
      "source": [
        "indexed_text"
      ],
      "execution_count": 0,
      "outputs": [
        {
          "output_type": "execute_result",
          "data": {
            "text/plain": [
              "[1, 14, 41, 40, 4, 11, 3, 23, 2]"
            ]
          },
          "metadata": {
            "tags": []
          },
          "execution_count": 106
        }
      ]
    },
    {
      "metadata": {
        "id": "XOblSvxU5zy0",
        "colab_type": "code",
        "colab": {}
      },
      "cell_type": "code",
      "source": [
        "padded_text=np.zeros(50)\n",
        "padded_text[:len(indexed_text)]=indexed_text\n",
        "padded_text=padded_text.reshape(1,50)"
      ],
      "execution_count": 0,
      "outputs": []
    },
    {
      "metadata": {
        "id": "05UsPMLszLm-",
        "colab_type": "code",
        "outputId": "ea16356b-8a49-4064-b710-12850c206802",
        "colab": {
          "base_uri": "https://localhost:8080/",
          "height": 85
        }
      },
      "cell_type": "code",
      "source": [
        "padded_text"
      ],
      "execution_count": 0,
      "outputs": [
        {
          "output_type": "execute_result",
          "data": {
            "text/plain": [
              "array([[ 1., 14., 41., 40.,  4., 11.,  3., 23.,  2.,  0.,  0.,  0.,  0.,\n",
              "         0.,  0.,  0.,  0.,  0.,  0.,  0.,  0.,  0.,  0.,  0.,  0.,  0.,\n",
              "         0.,  0.,  0.,  0.,  0.,  0.,  0.,  0.,  0.,  0.,  0.,  0.,  0.,\n",
              "         0.,  0.,  0.,  0.,  0.,  0.,  0.,  0.,  0.,  0.,  0.]])"
            ]
          },
          "metadata": {
            "tags": []
          },
          "execution_count": 108
        }
      ]
    },
    {
      "metadata": {
        "id": "yyFw4_Z036fV",
        "colab_type": "code",
        "colab": {}
      },
      "cell_type": "code",
      "source": [
        "pred_entities = np.argmax(model.predict(padded_text),axis=2)"
      ],
      "execution_count": 0,
      "outputs": []
    },
    {
      "metadata": {
        "id": "BOFZq2TxvbI_",
        "colab_type": "code",
        "outputId": "2a6496e6-f5da-4ecc-c79d-f6f4794bbaef",
        "colab": {
          "base_uri": "https://localhost:8080/",
          "height": 68
        }
      },
      "cell_type": "code",
      "source": [
        "pred_entities"
      ],
      "execution_count": 0,
      "outputs": [
        {
          "output_type": "execute_result",
          "data": {
            "text/plain": [
              "array([[1, 1, 1, 1, 1, 3, 1, 2, 1, 0, 0, 0, 0, 0, 0, 0, 0, 0, 0, 0, 0, 0,\n",
              "        0, 0, 0, 0, 0, 0, 0, 0, 0, 0, 0, 0, 0, 0, 0, 0, 0, 0, 0, 0, 0, 0,\n",
              "        0, 0, 0, 0, 0, 0]])"
            ]
          },
          "metadata": {
            "tags": []
          },
          "execution_count": 110
        }
      ]
    },
    {
      "metadata": {
        "id": "JD4IdyH-1ak5",
        "colab_type": "code",
        "outputId": "647d61b2-5a24-4625-d8d2-a78e98b5a1aa",
        "colab": {
          "base_uri": "https://localhost:8080/",
          "height": 51
        }
      },
      "cell_type": "code",
      "source": [
        "for i in range(len(pred_entities[0])):\n",
        "  if pred_entities[0][i]>1:\n",
        "    print('word: ',text.split()[i], 'entity: ',target_int_to_word[pred_entities[0][i]])"
      ],
      "execution_count": 0,
      "outputs": [
        {
          "output_type": "stream",
          "text": [
            "word:  boston entity:  B-fromloc.city_name\n",
            "word:  dallas entity:  B-toloc.city_name\n"
          ],
          "name": "stdout"
        }
      ]
    },
    {
      "metadata": {
        "id": "vhcAHq_z36YA",
        "colab_type": "code",
        "outputId": "f7467c26-68de-473e-caca-75166cdfaa4f",
        "colab": {
          "base_uri": "https://localhost:8080/",
          "height": 34
        }
      },
      "cell_type": "code",
      "source": [
        "target_int_to_word[3]"
      ],
      "execution_count": 0,
      "outputs": [
        {
          "output_type": "execute_result",
          "data": {
            "text/plain": [
              "'B-fromloc.city_name'"
            ]
          },
          "metadata": {
            "tags": []
          },
          "execution_count": 112
        }
      ]
    },
    {
      "metadata": {
        "id": "Ip6LYI3cz_-_",
        "colab_type": "code",
        "colab": {}
      },
      "cell_type": "code",
      "source": [
        "pred_index_intent = np.argmax(model2.predict(padded_text),axis=1)"
      ],
      "execution_count": 0,
      "outputs": []
    },
    {
      "metadata": {
        "id": "uYm4ODc80Gp2",
        "colab_type": "code",
        "outputId": "0cccd55e-cac2-44e3-c0f1-479ddcabe9a8",
        "colab": {
          "base_uri": "https://localhost:8080/",
          "height": 34
        }
      },
      "cell_type": "code",
      "source": [
        "intent_int_to_word[pred_index_intent[0]]"
      ],
      "execution_count": 0,
      "outputs": [
        {
          "output_type": "execute_result",
          "data": {
            "text/plain": [
              "'flight'"
            ]
          },
          "metadata": {
            "tags": []
          },
          "execution_count": 114
        }
      ]
    },
    {
      "metadata": {
        "id": "1ARhFWig4eBw",
        "colab_type": "code",
        "colab": {}
      },
      "cell_type": "code",
      "source": [
        ""
      ],
      "execution_count": 0,
      "outputs": []
    }
  ]
}