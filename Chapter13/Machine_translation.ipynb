{
  "nbformat": 4,
  "nbformat_minor": 0,
  "metadata": {
    "colab": {
      "name": "Machine translation.ipynb",
      "version": "0.3.2",
      "provenance": [],
      "collapsed_sections": []
    },
    "kernelspec": {
      "name": "python3",
      "display_name": "Python 3"
    },
    "accelerator": "GPU"
  },
  "cells": [
    {
      "metadata": {
        "id": "YbZpxcZfN8oE",
        "colab_type": "code",
        "outputId": "d03d1f6b-d208-4882-ef67-8e3a4df2fbf7",
        "colab": {
          "base_uri": "https://localhost:8080/",
          "height": 34
        }
      },
      "cell_type": "code",
      "source": [
        "import pandas as pd\n",
        "import numpy as np\n",
        "import string\n",
        "from string import digits\n",
        "import matplotlib.pyplot as plt\n",
        "%matplotlib inline\n",
        "import re\n",
        "from sklearn.model_selection import train_test_split\n",
        "from keras.models import Model\n",
        "from keras.layers import Input, LSTM, Dense\n",
        "import numpy as np"
      ],
      "execution_count": 0,
      "outputs": [
        {
          "output_type": "stream",
          "text": [
            "Using TensorFlow backend.\n"
          ],
          "name": "stderr"
        }
      ]
    },
    {
      "metadata": {
        "id": "YI2Oo3R0-iTV",
        "colab_type": "code",
        "outputId": "000650b0-37a0-4559-e081-86ac128ce80d",
        "colab": {
          "base_uri": "https://localhost:8080/",
          "height": 377
        }
      },
      "cell_type": "code",
      "source": [
        "!wget https://www.dropbox.com/s/2vag8w6yov9c1qz/english%20to%20french.txt"
      ],
      "execution_count": 0,
      "outputs": [
        {
          "output_type": "stream",
          "text": [
            "--2019-02-19 02:32:34--  https://www.dropbox.com/s/2vag8w6yov9c1qz/english%20to%20french.txt\n",
            "Resolving www.dropbox.com (www.dropbox.com)... 162.125.82.1, 2620:100:6032:1::a27d:5201\n",
            "Connecting to www.dropbox.com (www.dropbox.com)|162.125.82.1|:443... connected.\n",
            "HTTP request sent, awaiting response... 301 Moved Permanently\n",
            "Location: /s/raw/2vag8w6yov9c1qz/english%20to%20french.txt [following]\n",
            "--2019-02-19 02:32:35--  https://www.dropbox.com/s/raw/2vag8w6yov9c1qz/english%20to%20french.txt\n",
            "Reusing existing connection to www.dropbox.com:443.\n",
            "HTTP request sent, awaiting response... 302 Found\n",
            "Location: https://uc7f6062c040196e446508c3f2a9.dl.dropboxusercontent.com/cd/0/inline/Abn7zKLw18Z5qAaMqhXnxuLj44SvrxzX_IMijgzRh3cLQ67JieH1kRxrOHGxAcUzvTuG7_Be1aE08Gfqdekl3NvpL3oQCh0wPOYUMNW0t65m2hZSkXdys4Myc5PBczEm3mg/file# [following]\n",
            "--2019-02-19 02:32:35--  https://uc7f6062c040196e446508c3f2a9.dl.dropboxusercontent.com/cd/0/inline/Abn7zKLw18Z5qAaMqhXnxuLj44SvrxzX_IMijgzRh3cLQ67JieH1kRxrOHGxAcUzvTuG7_Be1aE08Gfqdekl3NvpL3oQCh0wPOYUMNW0t65m2hZSkXdys4Myc5PBczEm3mg/file\n",
            "Resolving uc7f6062c040196e446508c3f2a9.dl.dropboxusercontent.com (uc7f6062c040196e446508c3f2a9.dl.dropboxusercontent.com)... 162.125.82.6, 2620:100:6032:6::a27d:5206\n",
            "Connecting to uc7f6062c040196e446508c3f2a9.dl.dropboxusercontent.com (uc7f6062c040196e446508c3f2a9.dl.dropboxusercontent.com)|162.125.82.6|:443... connected.\n",
            "HTTP request sent, awaiting response... 200 OK\n",
            "Length: 10481325 (10.0M) [text/plain]\n",
            "Saving to: ‘english to french.txt’\n",
            "\n",
            "english to french.t 100%[===================>]  10.00M  11.1MB/s    in 0.9s    \n",
            "\n",
            "2019-02-19 02:32:36 (11.1 MB/s) - ‘english to french.txt’ saved [10481325/10481325]\n",
            "\n"
          ],
          "name": "stdout"
        }
      ]
    },
    {
      "metadata": {
        "id": "OEQCTbqzYPyC",
        "colab_type": "code",
        "outputId": "1bb08c19-8be4-4e97-d2a9-44699b07b5d1",
        "colab": {
          "base_uri": "https://localhost:8080/",
          "height": 34
        }
      },
      "cell_type": "code",
      "source": [
        "!ls"
      ],
      "execution_count": 0,
      "outputs": [
        {
          "output_type": "stream",
          "text": [
            "'english to french.txt'   sample_data\n"
          ],
          "name": "stdout"
        }
      ]
    },
    {
      "metadata": {
        "id": "ATqji5eL4W4U",
        "colab_type": "code",
        "colab": {}
      },
      "cell_type": "code",
      "source": [
        "lines= pd.read_table('english to french.txt', names=['eng', 'fr'])"
      ],
      "execution_count": 0,
      "outputs": []
    },
    {
      "metadata": {
        "id": "F_qXu5VX4XIp",
        "colab_type": "code",
        "colab": {}
      },
      "cell_type": "code",
      "source": [
        "lines = lines[0:50000]"
      ],
      "execution_count": 0,
      "outputs": []
    },
    {
      "metadata": {
        "id": "NkdgGL404XGc",
        "colab_type": "code",
        "colab": {}
      },
      "cell_type": "code",
      "source": [
        "lines.eng=lines.eng.apply(lambda x: x.lower())\n",
        "lines.fr=lines.fr.apply(lambda x: x.lower())"
      ],
      "execution_count": 0,
      "outputs": []
    },
    {
      "metadata": {
        "id": "vztcSqBM4XD0",
        "colab_type": "code",
        "colab": {}
      },
      "cell_type": "code",
      "source": [
        "# lines.eng=lines.eng.apply(lambda x: re.sub(\"'\", '', x)).apply(lambda x: re.sub(\",\", ' COMMA', x))\n",
        "# lines.fr=lines.fr.apply(lambda x: re.sub(\"'\", '', x)).apply(lambda x: re.sub(\",\", ' COMMA', x))"
      ],
      "execution_count": 0,
      "outputs": []
    },
    {
      "metadata": {
        "id": "gOkzFxTe4fhL",
        "colab_type": "code",
        "colab": {}
      },
      "cell_type": "code",
      "source": [
        "exclude = set(string.punctuation)\n",
        "lines.eng=lines.eng.apply(lambda x: ''.join(ch for ch in x if ch not in exclude))\n",
        "lines.fr=lines.fr.apply(lambda x: ''.join(ch for ch in x if ch not in exclude))"
      ],
      "execution_count": 0,
      "outputs": []
    },
    {
      "metadata": {
        "id": "tzfDq12jOeZD",
        "colab_type": "code",
        "outputId": "0034dbe1-d2ef-4c34-957e-d9e85db8bef4",
        "colab": {
          "base_uri": "https://localhost:8080/",
          "height": 204
        }
      },
      "cell_type": "code",
      "source": [
        "lines.head()"
      ],
      "execution_count": 0,
      "outputs": [
        {
          "output_type": "execute_result",
          "data": {
            "text/html": [
              "<div>\n",
              "<style scoped>\n",
              "    .dataframe tbody tr th:only-of-type {\n",
              "        vertical-align: middle;\n",
              "    }\n",
              "\n",
              "    .dataframe tbody tr th {\n",
              "        vertical-align: top;\n",
              "    }\n",
              "\n",
              "    .dataframe thead th {\n",
              "        text-align: right;\n",
              "    }\n",
              "</style>\n",
              "<table border=\"1\" class=\"dataframe\">\n",
              "  <thead>\n",
              "    <tr style=\"text-align: right;\">\n",
              "      <th></th>\n",
              "      <th>eng</th>\n",
              "      <th>fr</th>\n",
              "    </tr>\n",
              "  </thead>\n",
              "  <tbody>\n",
              "    <tr>\n",
              "      <th>0</th>\n",
              "      <td>go</td>\n",
              "      <td>va</td>\n",
              "    </tr>\n",
              "    <tr>\n",
              "      <th>1</th>\n",
              "      <td>run</td>\n",
              "      <td>cours</td>\n",
              "    </tr>\n",
              "    <tr>\n",
              "      <th>2</th>\n",
              "      <td>run</td>\n",
              "      <td>courez</td>\n",
              "    </tr>\n",
              "    <tr>\n",
              "      <th>3</th>\n",
              "      <td>wow</td>\n",
              "      <td>ça alors</td>\n",
              "    </tr>\n",
              "    <tr>\n",
              "      <th>4</th>\n",
              "      <td>fire</td>\n",
              "      <td>au feu</td>\n",
              "    </tr>\n",
              "  </tbody>\n",
              "</table>\n",
              "</div>"
            ],
            "text/plain": [
              "    eng         fr\n",
              "0    go        va \n",
              "1   run     cours \n",
              "2   run    courez \n",
              "3   wow  ça alors \n",
              "4  fire    au feu "
            ]
          },
          "metadata": {
            "tags": []
          },
          "execution_count": 8
        }
      ]
    },
    {
      "metadata": {
        "id": "8eeZERrs4fss",
        "colab_type": "code",
        "colab": {}
      },
      "cell_type": "code",
      "source": [
        "# remove_digits = str.maketrans('', '', digits)\n",
        "# lines.eng=lines.eng.apply(lambda x: x.translate(remove_digits))\n",
        "# lines.fr=lines.fr.apply(lambda x: x.translate(remove_digits))"
      ],
      "execution_count": 0,
      "outputs": []
    },
    {
      "metadata": {
        "id": "2tVHM-oR4fpm",
        "colab_type": "code",
        "colab": {}
      },
      "cell_type": "code",
      "source": [
        "lines.fr = lines.fr.apply(lambda x : 'start '+ x + ' end')"
      ],
      "execution_count": 0,
      "outputs": []
    },
    {
      "metadata": {
        "id": "2D_AMqsdndne",
        "colab_type": "code",
        "outputId": "cb02ba7e-9bd7-409f-fd45-f1dce3b4f413",
        "colab": {
          "base_uri": "https://localhost:8080/",
          "height": 204
        }
      },
      "cell_type": "code",
      "source": [
        "lines.head()"
      ],
      "execution_count": 0,
      "outputs": [
        {
          "output_type": "execute_result",
          "data": {
            "text/html": [
              "<div>\n",
              "<style scoped>\n",
              "    .dataframe tbody tr th:only-of-type {\n",
              "        vertical-align: middle;\n",
              "    }\n",
              "\n",
              "    .dataframe tbody tr th {\n",
              "        vertical-align: top;\n",
              "    }\n",
              "\n",
              "    .dataframe thead th {\n",
              "        text-align: right;\n",
              "    }\n",
              "</style>\n",
              "<table border=\"1\" class=\"dataframe\">\n",
              "  <thead>\n",
              "    <tr style=\"text-align: right;\">\n",
              "      <th></th>\n",
              "      <th>eng</th>\n",
              "      <th>fr</th>\n",
              "    </tr>\n",
              "  </thead>\n",
              "  <tbody>\n",
              "    <tr>\n",
              "      <th>0</th>\n",
              "      <td>go</td>\n",
              "      <td>start va  end</td>\n",
              "    </tr>\n",
              "    <tr>\n",
              "      <th>1</th>\n",
              "      <td>run</td>\n",
              "      <td>start cours  end</td>\n",
              "    </tr>\n",
              "    <tr>\n",
              "      <th>2</th>\n",
              "      <td>run</td>\n",
              "      <td>start courez  end</td>\n",
              "    </tr>\n",
              "    <tr>\n",
              "      <th>3</th>\n",
              "      <td>wow</td>\n",
              "      <td>start ça alors  end</td>\n",
              "    </tr>\n",
              "    <tr>\n",
              "      <th>4</th>\n",
              "      <td>fire</td>\n",
              "      <td>start au feu  end</td>\n",
              "    </tr>\n",
              "  </tbody>\n",
              "</table>\n",
              "</div>"
            ],
            "text/plain": [
              "    eng                   fr\n",
              "0    go        start va  end\n",
              "1   run     start cours  end\n",
              "2   run    start courez  end\n",
              "3   wow  start ça alors  end\n",
              "4  fire    start au feu  end"
            ]
          },
          "metadata": {
            "tags": []
          },
          "execution_count": 10
        }
      ]
    },
    {
      "metadata": {
        "id": "BByeGbi6rx89",
        "colab_type": "code",
        "outputId": "50c23704-b7f5-486e-efda-e1fa4f1660e5",
        "colab": {
          "base_uri": "https://localhost:8080/",
          "height": 34
        }
      },
      "cell_type": "code",
      "source": [
        "lines.shape"
      ],
      "execution_count": 0,
      "outputs": [
        {
          "output_type": "execute_result",
          "data": {
            "text/plain": [
              "(50000, 2)"
            ]
          },
          "metadata": {
            "tags": []
          },
          "execution_count": 11
        }
      ]
    },
    {
      "metadata": {
        "id": "gCXv8Y7G_szR",
        "colab_type": "code",
        "colab": {}
      },
      "cell_type": "code",
      "source": [
        "# fit a tokenizer\n",
        "from keras.preprocessing.text import Tokenizer\n",
        "import json\n",
        "from collections import OrderedDict\n",
        "def create_tokenizer(lines):\n",
        "\ttokenizer = Tokenizer()\n",
        "\ttokenizer.fit_on_texts(lines)\n",
        "\treturn tokenizer"
      ],
      "execution_count": 0,
      "outputs": []
    },
    {
      "metadata": {
        "id": "4y854XLW_swc",
        "colab_type": "code",
        "colab": {}
      },
      "cell_type": "code",
      "source": [
        "eng_tokenizer = create_tokenizer(lines.eng)\n",
        "output_dict = json.loads(json.dumps(eng_tokenizer.word_counts))\n",
        "df =pd.DataFrame([output_dict.keys(), output_dict.values()]).T\n",
        "df.columns = ['word','count']\n",
        "df = df.sort_values(by='count',ascending = False)\n",
        "df['cum_count']=df['count'].cumsum()\n",
        "df['cum_perc'] = df['cum_count']/df['cum_count'].max()\n",
        "final_eng_words = df[df['cum_perc']<0.8]['word'].values"
      ],
      "execution_count": 0,
      "outputs": []
    },
    {
      "metadata": {
        "id": "I3OrR4k0AfTX",
        "colab_type": "code",
        "colab": {}
      },
      "cell_type": "code",
      "source": [
        "fr_tokenizer = create_tokenizer(lines.fr)\n",
        "output_dict = json.loads(json.dumps(fr_tokenizer.word_counts))\n",
        "df =pd.DataFrame([output_dict.keys(), output_dict.values()]).T\n",
        "df.columns = ['word','count']\n",
        "df = df.sort_values(by='count',ascending = False)\n",
        "df['cum_count']=df['count'].cumsum()\n",
        "df['cum_perc'] = df['cum_count']/df['cum_count'].max()\n",
        "final_fr_words = df[df['cum_perc']<0.8]['word'].values"
      ],
      "execution_count": 0,
      "outputs": []
    },
    {
      "metadata": {
        "id": "m4jrbgIjAfPd",
        "colab_type": "code",
        "outputId": "30cd4ae3-9120-44d7-9162-caa2c46ae263",
        "colab": {
          "base_uri": "https://localhost:8080/",
          "height": 34
        }
      },
      "cell_type": "code",
      "source": [
        "print(len(final_eng_words),len(final_fr_words))"
      ],
      "execution_count": 0,
      "outputs": [
        {
          "output_type": "stream",
          "text": [
            "384 357\n"
          ],
          "name": "stdout"
        }
      ]
    },
    {
      "metadata": {
        "id": "mTOesHOq_ss0",
        "colab_type": "code",
        "colab": {}
      },
      "cell_type": "code",
      "source": [
        "def filter_eng_words(x):\n",
        "  t = []\n",
        "  x = x.split()\n",
        "  for i in range(len(x)):\n",
        "    if x[i] in final_eng_words:\n",
        "      t.append(x[i])\n",
        "    else:\n",
        "      t.append('unk')\n",
        "  x3 = ''\n",
        "  for i in range(len(t)):\n",
        "    x3 = x3+t[i]+' '\n",
        "  return x3"
      ],
      "execution_count": 0,
      "outputs": []
    },
    {
      "metadata": {
        "id": "djQPLFAml-A3",
        "colab_type": "code",
        "outputId": "02bccf7e-3c7a-4dbf-d9b4-1715a4abce06",
        "colab": {
          "base_uri": "https://localhost:8080/",
          "height": 34
        }
      },
      "cell_type": "code",
      "source": [
        "filter_eng_words('he is extremely good')"
      ],
      "execution_count": 0,
      "outputs": [
        {
          "output_type": "execute_result",
          "data": {
            "text/plain": [
              "'he is unk good '"
            ]
          },
          "metadata": {
            "tags": []
          },
          "execution_count": 20
        }
      ]
    },
    {
      "metadata": {
        "id": "e7sUkiqGBDJd",
        "colab_type": "code",
        "colab": {}
      },
      "cell_type": "code",
      "source": [
        "def filter_fr_words(x):\n",
        "  t = []\n",
        "  x = x.split()\n",
        "  for i in range(len(x)):\n",
        "    if x[i] in final_fr_words:\n",
        "      t.append(x[i])\n",
        "    else:\n",
        "      t.append('unk')\n",
        "  x3 = ''\n",
        "  for i in range(len(t)):\n",
        "    x3 = x3+t[i]+' '\n",
        "  return x3"
      ],
      "execution_count": 0,
      "outputs": []
    },
    {
      "metadata": {
        "id": "qy6K2pdXCxhb",
        "colab_type": "code",
        "colab": {}
      },
      "cell_type": "code",
      "source": [
        "lines['fr']=lines['fr'].apply(filter_fr_words)"
      ],
      "execution_count": 0,
      "outputs": []
    },
    {
      "metadata": {
        "id": "xVKqcPqvCxd-",
        "colab_type": "code",
        "colab": {}
      },
      "cell_type": "code",
      "source": [
        "lines['eng']=lines['eng'].apply(filter_eng_words)"
      ],
      "execution_count": 0,
      "outputs": []
    },
    {
      "metadata": {
        "id": "iCO5WTo84fnn",
        "colab_type": "code",
        "colab": {}
      },
      "cell_type": "code",
      "source": [
        "all_eng_words=set()\n",
        "for eng in lines.eng:\n",
        "    for word in eng.split():\n",
        "        if word not in all_eng_words:\n",
        "            all_eng_words.add(word)\n",
        "    \n",
        "all_french_words=set()\n",
        "for fr in lines.fr:\n",
        "    for word in fr.split():\n",
        "        if word not in all_french_words:\n",
        "            all_french_words.add(word)"
      ],
      "execution_count": 0,
      "outputs": []
    },
    {
      "metadata": {
        "id": "m9Z2cc5u4flQ",
        "colab_type": "code",
        "colab": {}
      },
      "cell_type": "code",
      "source": [
        "lenght_list=[]\n",
        "for l in lines.fr:\n",
        "    lenght_list.append(len(l.split(' ')))\n",
        "fr_max_length = np.max(lenght_list)"
      ],
      "execution_count": 0,
      "outputs": []
    },
    {
      "metadata": {
        "id": "rNJid1Tf4XBg",
        "colab_type": "code",
        "colab": {}
      },
      "cell_type": "code",
      "source": [
        "lenght_list=[]\n",
        "for l in lines.eng:\n",
        "    lenght_list.append(len(l.split(' ')))\n",
        "eng_max_length = np.max(lenght_list)"
      ],
      "execution_count": 0,
      "outputs": []
    },
    {
      "metadata": {
        "id": "UCaP87KP4W_S",
        "colab_type": "code",
        "colab": {}
      },
      "cell_type": "code",
      "source": [
        "input_words = sorted(list(all_eng_words))\n",
        "target_words = sorted(list(all_french_words))\n",
        "num_encoder_tokens = len(all_eng_words)\n",
        "num_decoder_tokens = len(all_french_words)\n",
        "# del all_eng_words, all_french_words"
      ],
      "execution_count": 0,
      "outputs": []
    },
    {
      "metadata": {
        "id": "B5eKtS1hnMob",
        "colab_type": "code",
        "outputId": "924e53d0-a80e-4199-f68c-08cbb33cc44c",
        "colab": {
          "base_uri": "https://localhost:8080/",
          "height": 34
        }
      },
      "cell_type": "code",
      "source": [
        "set(all_french_words) - set(final_fr_words) "
      ],
      "execution_count": 0,
      "outputs": [
        {
          "output_type": "execute_result",
          "data": {
            "text/plain": [
              "{'unk'}"
            ]
          },
          "metadata": {
            "tags": []
          },
          "execution_count": 28
        }
      ]
    },
    {
      "metadata": {
        "id": "7-S77pDvkBp1",
        "colab_type": "code",
        "outputId": "a3186959-78cf-4770-e294-8b905fff49a5",
        "colab": {
          "base_uri": "https://localhost:8080/",
          "height": 34
        }
      },
      "cell_type": "code",
      "source": [
        "len(all_eng_words)"
      ],
      "execution_count": 0,
      "outputs": [
        {
          "output_type": "execute_result",
          "data": {
            "text/plain": [
              "385"
            ]
          },
          "metadata": {
            "tags": []
          },
          "execution_count": 29
        }
      ]
    },
    {
      "metadata": {
        "id": "3IUuEVNm-z6N",
        "colab_type": "code",
        "outputId": "997e9275-6cf5-4f7b-a169-837dffb5809c",
        "colab": {
          "base_uri": "https://localhost:8080/",
          "height": 34
        }
      },
      "cell_type": "code",
      "source": [
        "len(target_words)"
      ],
      "execution_count": 0,
      "outputs": [
        {
          "output_type": "execute_result",
          "data": {
            "text/plain": [
              "358"
            ]
          },
          "metadata": {
            "tags": []
          },
          "execution_count": 30
        }
      ]
    },
    {
      "metadata": {
        "id": "YZQegvje4W8w",
        "colab_type": "code",
        "colab": {}
      },
      "cell_type": "code",
      "source": [
        "input_token_index = dict(\n",
        "    [(word, i+1) for i, word in enumerate(input_words)])\n",
        "target_token_index = dict(\n",
        "    [(word, i+1) for i, word in enumerate(target_words)])"
      ],
      "execution_count": 0,
      "outputs": []
    },
    {
      "metadata": {
        "id": "haKpA4AJhDnV",
        "colab_type": "code",
        "outputId": "eb79a520-cf43-4f1b-ae89-794b6f27f90c",
        "colab": {
          "base_uri": "https://localhost:8080/",
          "height": 34
        }
      },
      "cell_type": "code",
      "source": [
        "num_decoder_tokens"
      ],
      "execution_count": 0,
      "outputs": [
        {
          "output_type": "execute_result",
          "data": {
            "text/plain": [
              "358"
            ]
          },
          "metadata": {
            "tags": []
          },
          "execution_count": 32
        }
      ]
    },
    {
      "metadata": {
        "id": "fy3wV6LtoDm2",
        "colab_type": "text"
      },
      "cell_type": "markdown",
      "source": [
        "# Traditional many to many architecture"
      ]
    },
    {
      "metadata": {
        "id": "r5_mrLkj45gt",
        "colab_type": "code",
        "colab": {}
      },
      "cell_type": "code",
      "source": [
        "encoder_input_data = np.zeros(\n",
        "    (len(lines.eng), fr_max_length),\n",
        "    dtype='float32')\n",
        "decoder_input_data = np.zeros(\n",
        "    (len(lines.fr), fr_max_length),\n",
        "    dtype='float32')\n",
        "decoder_target_data = np.zeros(\n",
        "    (len(lines.fr), fr_max_length, num_decoder_tokens+1),\n",
        "    dtype='float32')"
      ],
      "execution_count": 0,
      "outputs": []
    },
    {
      "metadata": {
        "id": "wrURv1JXrBDF",
        "colab_type": "code",
        "outputId": "5a0b31c8-1500-4f7c-9816-6ad33cb48ad7",
        "colab": {
          "base_uri": "https://localhost:8080/",
          "height": 34
        }
      },
      "cell_type": "code",
      "source": [
        "decoder_target_data.shape"
      ],
      "execution_count": 0,
      "outputs": [
        {
          "output_type": "execute_result",
          "data": {
            "text/plain": [
              "(50000, 17, 359)"
            ]
          },
          "metadata": {
            "tags": []
          },
          "execution_count": 143
        }
      ]
    },
    {
      "metadata": {
        "id": "km2HiJ0G45oB",
        "colab_type": "code",
        "colab": {}
      },
      "cell_type": "code",
      "source": [
        "for i, (input_text, target_text) in enumerate(zip(lines.eng, lines.fr)):\n",
        "    for t, word in enumerate(input_text.split()):\n",
        "        encoder_input_data[i, t] = input_token_index[word]\n",
        "    for t, word in enumerate(target_text.split()):\n",
        "        # decoder_target_data is ahead of decoder_input_data by one timestep\n",
        "        decoder_input_data[i, t] = target_token_index[word]\n",
        "        if t>0:          \n",
        "            # decoder_target_data will be ahead by one timestep\n",
        "            # and will not include the start character.\n",
        "          decoder_target_data[i, t - 1, target_token_index[word]] = 1.\n",
        "          if t== len(target_text.split())-1:\n",
        "            decoder_target_data[i, t:, 89] = 1"
      ],
      "execution_count": 0,
      "outputs": []
    },
    {
      "metadata": {
        "id": "DFwjmRUe-EC5",
        "colab_type": "code",
        "outputId": "ec316cb8-2def-40fe-e98a-a223051e34b9",
        "colab": {
          "base_uri": "https://localhost:8080/",
          "height": 34
        }
      },
      "cell_type": "code",
      "source": [
        "print(decoder_input_data.shape,encoder_input_data.shape,decoder_target_data.shape)"
      ],
      "execution_count": 0,
      "outputs": [
        {
          "output_type": "stream",
          "text": [
            "(50000, 17) (50000, 17) (50000, 17, 359)\n"
          ],
          "name": "stdout"
        }
      ]
    },
    {
      "metadata": {
        "id": "bd_TzFXztDBQ",
        "colab_type": "code",
        "colab": {}
      },
      "cell_type": "code",
      "source": [
        "for i in range(decoder_input_data.shape[0]):\n",
        "  for j in range(decoder_input_data.shape[1]):\n",
        "    if(decoder_input_data[i][j]==0):\n",
        "      decoder_input_data[i][j] = 89"
      ],
      "execution_count": 0,
      "outputs": []
    },
    {
      "metadata": {
        "id": "5pSGmvQkrmyY",
        "colab_type": "code",
        "outputId": "7638a83d-4164-4a6d-fefb-142f4faea212",
        "colab": {
          "base_uri": "https://localhost:8080/",
          "height": 51
        }
      },
      "cell_type": "code",
      "source": [
        "decoder_input_data[0]"
      ],
      "execution_count": 0,
      "outputs": [
        {
          "output_type": "execute_result",
          "data": {
            "text/plain": [
              "array([284., 321.,  89.,  89.,  89.,  89.,  89.,  89.,  89.,  89.,  89.,\n",
              "        89.,  89.,  89.,  89.,  89.,  89.], dtype=float32)"
            ]
          },
          "metadata": {
            "tags": []
          },
          "execution_count": 147
        }
      ]
    },
    {
      "metadata": {
        "id": "Rbao72URrrQs",
        "colab_type": "code",
        "outputId": "10cb1bfb-a3aa-4be5-ff26-d28b8225bb9f",
        "colab": {
          "base_uri": "https://localhost:8080/",
          "height": 51
        }
      },
      "cell_type": "code",
      "source": [
        "np.argmax(decoder_target_data[0],axis=1)"
      ],
      "execution_count": 0,
      "outputs": [
        {
          "output_type": "execute_result",
          "data": {
            "text/plain": [
              "array([321,  89,  89,  89,  89,  89,  89,  89,  89,  89,  89,  89,  89,\n",
              "        89,  89,  89,  89])"
            ]
          },
          "metadata": {
            "tags": []
          },
          "execution_count": 148
        }
      ]
    },
    {
      "metadata": {
        "id": "MQDbLqvZrorb",
        "colab_type": "code",
        "outputId": "c1011721-f56e-4d3c-8d5a-a785cd1a3e60",
        "colab": {
          "base_uri": "https://localhost:8080/",
          "height": 51
        }
      },
      "cell_type": "code",
      "source": [
        "decoder_input_data[1]"
      ],
      "execution_count": 0,
      "outputs": [
        {
          "output_type": "execute_result",
          "data": {
            "text/plain": [
              "array([284., 320.,  89.,  89.,  89.,  89.,  89.,  89.,  89.,  89.,  89.,\n",
              "        89.,  89.,  89.,  89.,  89.,  89.], dtype=float32)"
            ]
          },
          "metadata": {
            "tags": []
          },
          "execution_count": 149
        }
      ]
    },
    {
      "metadata": {
        "id": "5PpmRM2NuMDe",
        "colab_type": "code",
        "outputId": "68501b43-4fbc-4dc4-9fb7-9d1484266340",
        "colab": {
          "base_uri": "https://localhost:8080/",
          "height": 51
        }
      },
      "cell_type": "code",
      "source": [
        "np.argmax(decoder_target_data[1],axis=1)"
      ],
      "execution_count": 0,
      "outputs": [
        {
          "output_type": "execute_result",
          "data": {
            "text/plain": [
              "array([320,  89,  89,  89,  89,  89,  89,  89,  89,  89,  89,  89,  89,\n",
              "        89,  89,  89,  89])"
            ]
          },
          "metadata": {
            "tags": []
          },
          "execution_count": 150
        }
      ]
    },
    {
      "metadata": {
        "id": "j20FKOWG-tQm",
        "colab_type": "code",
        "colab": {}
      },
      "cell_type": "code",
      "source": [
        "import os\n",
        "import keras.backend as K\n",
        "from keras.models import Sequential, Model\n",
        "from keras.layers import Conv2D, ZeroPadding2D, BatchNormalization, Input, Dropout\n",
        "from keras.layers import Conv2DTranspose, Reshape, Activation, Cropping2D, Flatten\n",
        "from keras.layers import Concatenate\n",
        "from keras.layers.advanced_activations import LeakyReLU\n",
        "from keras.activations import relu\n",
        "from keras.initializers import RandomNormal\n",
        "from keras.layers import Embedding\n",
        "from keras.layers import LSTM, RepeatVector, TimeDistributed, Dense, Bidirectional"
      ],
      "execution_count": 0,
      "outputs": []
    },
    {
      "metadata": {
        "id": "9NZharND-Ofy",
        "colab_type": "code",
        "outputId": "9152912d-a88e-4e00-96f0-ec900c1b1f47",
        "colab": {
          "base_uri": "https://localhost:8080/",
          "height": 272
        }
      },
      "cell_type": "code",
      "source": [
        "# define NMT model\n",
        "model = Sequential()\n",
        "model.add(Embedding(len(input_words)+1, 128, input_length=fr_max_length, mask_zero=True))\n",
        "model.add((Bidirectional(LSTM(256, return_sequences = True))))\n",
        "#model.add(RepeatVector(fr_max_length))\n",
        "model.add((LSTM(256, return_sequences=True)))\n",
        "model.add((Dense(len(target_token_index)+1, activation='softmax')))\n",
        "model.summary()"
      ],
      "execution_count": 0,
      "outputs": [
        {
          "output_type": "stream",
          "text": [
            "_________________________________________________________________\n",
            "Layer (type)                 Output Shape              Param #   \n",
            "=================================================================\n",
            "embedding_8 (Embedding)      (None, 17, 128)           49408     \n",
            "_________________________________________________________________\n",
            "bidirectional_6 (Bidirection (None, 17, 512)           788480    \n",
            "_________________________________________________________________\n",
            "lstm_14 (LSTM)               (None, 17, 256)           787456    \n",
            "_________________________________________________________________\n",
            "dense_8 (Dense)              (None, 17, 359)           92263     \n",
            "=================================================================\n",
            "Total params: 1,717,607\n",
            "Trainable params: 1,717,607\n",
            "Non-trainable params: 0\n",
            "_________________________________________________________________\n"
          ],
          "name": "stdout"
        }
      ]
    },
    {
      "metadata": {
        "id": "kgV2Dk8V--Yw",
        "colab_type": "code",
        "colab": {}
      },
      "cell_type": "code",
      "source": [
        "model.compile(optimizer='adam', loss='categorical_crossentropy',metrics=['acc'])"
      ],
      "execution_count": 0,
      "outputs": []
    },
    {
      "metadata": {
        "id": "sAoM8J0v--Vw",
        "colab_type": "code",
        "outputId": "a2727594-cef3-449c-a676-f70019b3baf8",
        "colab": {
          "base_uri": "https://localhost:8080/",
          "height": 204
        }
      },
      "cell_type": "code",
      "source": [
        "history = model.fit(encoder_input_data, decoder_target_data,\n",
        "          batch_size=128,\n",
        "          epochs=5,\n",
        "          validation_split=0.05)"
      ],
      "execution_count": 0,
      "outputs": [
        {
          "output_type": "stream",
          "text": [
            "Train on 47500 samples, validate on 2500 samples\n",
            "Epoch 1/5\n",
            "47500/47500 [==============================] - 72s 2ms/step - loss: 3.5103 - acc: 0.3292 - val_loss: 3.1189 - val_acc: 0.3897\n",
            "Epoch 2/5\n",
            "47500/47500 [==============================] - 66s 1ms/step - loss: 2.5144 - acc: 0.4605 - val_loss: 2.6546 - val_acc: 0.4337\n",
            "Epoch 3/5\n",
            "47500/47500 [==============================] - 65s 1ms/step - loss: 2.1207 - acc: 0.5068 - val_loss: 2.4025 - val_acc: 0.4573\n",
            "Epoch 4/5\n",
            "47500/47500 [==============================] - 65s 1ms/step - loss: 1.8839 - acc: 0.5398 - val_loss: 2.2232 - val_acc: 0.4792\n",
            "Epoch 5/5\n",
            "47500/47500 [==============================] - 65s 1ms/step - loss: 1.7154 - acc: 0.5653 - val_loss: 2.1427 - val_acc: 0.4936\n"
          ],
          "name": "stdout"
        }
      ]
    },
    {
      "metadata": {
        "id": "JM5tcS1L3UFk",
        "colab_type": "code",
        "outputId": "0a9abb96-56d4-45de-d607-cab04c9096c5",
        "colab": {
          "base_uri": "https://localhost:8080/",
          "height": 357
        }
      },
      "cell_type": "code",
      "source": [
        "history_dict"
      ],
      "execution_count": 0,
      "outputs": [
        {
          "output_type": "execute_result",
          "data": {
            "text/plain": [
              "{'acc': [0.3291754581118885,\n",
              "  0.46052813366337825,\n",
              "  0.5067806038178896,\n",
              "  0.5398264069306223,\n",
              "  0.5652564989391126],\n",
              " 'loss': [3.510349987973665,\n",
              "  2.514400591719778,\n",
              "  2.1207436878605894,\n",
              "  1.8838900062159487,\n",
              "  1.7154197012750727],\n",
              " 'val_acc': [0.3896924932956696,\n",
              "  0.4337011303901672,\n",
              "  0.4572536667346954,\n",
              "  0.4792308346748352,\n",
              "  0.4935678668498993],\n",
              " 'val_loss': [3.1188916458129885,\n",
              "  2.654617192840576,\n",
              "  2.402529670524597,\n",
              "  2.2231661935806275,\n",
              "  2.1427400732040405]}"
            ]
          },
          "metadata": {
            "tags": []
          },
          "execution_count": 156
        }
      ]
    },
    {
      "metadata": {
        "id": "KGzRsXCi2x9p",
        "colab_type": "code",
        "outputId": "1fb7034e-86bc-46b3-8698-9df0fae534ea",
        "colab": {
          "base_uri": "https://localhost:8080/",
          "height": 386
        }
      },
      "cell_type": "code",
      "source": [
        "history_dict = history.history\n",
        "loss_values = history_dict['loss']\n",
        "val_loss_values = history_dict['val_loss']\n",
        "acc_values = history_dict['acc']\n",
        "val_acc_values = history_dict['val_acc']\n",
        "epochs = range(1, len(val_loss_values) + 1)\n",
        "import matplotlib.pyplot as plt\n",
        "%matplotlib inline \n",
        "\n",
        "plt.subplot(211)\n",
        "plt.plot(epochs, history.history['loss'], 'ro', label='Training loss')\n",
        "plt.plot(epochs, val_loss_values, 'b', label='Test loss')\n",
        "plt.title('Training and test loss')\n",
        "plt.xlabel('Epochs')\n",
        "plt.ylabel('Loss')\n",
        "plt.legend()\n",
        "plt.grid('off')\n",
        "plt.show()\n",
        "\n",
        "plt.subplot(212)\n",
        "plt.plot(epochs, history.history['acc'], 'ro', label='Training accuracy')\n",
        "plt.plot(epochs, val_acc_values, 'b', label='Test accuracy')\n",
        "plt.title('Training and test accuracy')\n",
        "plt.xlabel('Epochs')\n",
        "plt.ylabel('Accuracy')\n",
        "plt.gca().set_yticklabels(['{:.0f}%'.format(x*100) for x in plt.gca().get_yticks()]) \n",
        "plt.legend()\n",
        "plt.grid('off')\n",
        "plt.show()"
      ],
      "execution_count": 0,
      "outputs": [
        {
          "output_type": "stream",
          "text": [
            "/usr/local/lib/python3.6/dist-packages/matplotlib/cbook/__init__.py:424: MatplotlibDeprecationWarning: \n",
            "Passing one of 'on', 'true', 'off', 'false' as a boolean is deprecated; use an actual boolean (True/False) instead.\n",
            "  warn_deprecated(\"2.2\", \"Passing one of 'on', 'true', 'off', 'false' as a \"\n"
          ],
          "name": "stderr"
        },
        {
          "output_type": "display_data",
          "data": {
            "image/png": "[encoded data removed]",
            "text/plain": [
              "<Figure size 432x288 with 1 Axes>"
            ]
          },
          "metadata": {
            "tags": []
          }
        },
        {
          "output_type": "display_data",
          "data": {
            "image/png": "[encoded data removed]",
            "text/plain": [
              "<Figure size 432x288 with 1 Axes>"
            ]
          },
          "metadata": {
            "tags": []
          }
        }
      ]
    },
    {
      "metadata": {
        "id": "XGaaTlFWqRff",
        "colab_type": "code",
        "outputId": "ef008784-c533-43dc-eee6-16350518beef",
        "colab": {
          "base_uri": "https://localhost:8080/",
          "height": 51
        }
      },
      "cell_type": "code",
      "source": [
        "encoder_input_data[0]"
      ],
      "execution_count": 0,
      "outputs": [
        {
          "output_type": "execute_result",
          "data": {
            "text/plain": [
              "array([120.,   0.,   0.,   0.,   0.,   0.,   0.,   0.,   0.,   0.,   0.,\n",
              "         0.,   0.,   0.,   0.,   0.,   0.], dtype=float32)"
            ]
          },
          "metadata": {
            "tags": []
          },
          "execution_count": 116
        }
      ]
    },
    {
      "metadata": {
        "id": "98Ynr-N3Z7DD",
        "colab_type": "code",
        "outputId": "428a4078-038a-4efb-8057-33be81333f19",
        "colab": {
          "base_uri": "https://localhost:8080/",
          "height": 34
        }
      },
      "cell_type": "code",
      "source": [
        "count = 0\n",
        "correct_count = 0\n",
        "pred = model.predict(encoder_input_data[47500:])\n",
        "for i in range(2500):\n",
        "  t = np.argmax(pred[i], axis=1)\n",
        "  act = np.argmax(decoder_target_data[47500],axis=1)\n",
        "  correct_count += np.sum((act==t) & (act!=89))\n",
        "  count += np.sum(act!=89)\n",
        "correct_count/count"
      ],
      "execution_count": 0,
      "outputs": [
        {
          "output_type": "execute_result",
          "data": {
            "text/plain": [
              "0.19513333333333333"
            ]
          },
          "metadata": {
            "tags": []
          },
          "execution_count": 163
        }
      ]
    },
    {
      "metadata": {
        "id": "1MfoEmPCv2N8",
        "colab_type": "code",
        "outputId": "c0a53fee-47fc-4081-da93-6e3c16f9335d",
        "colab": {
          "base_uri": "https://localhost:8080/",
          "height": 51
        }
      },
      "cell_type": "code",
      "source": [
        "decoder_input_data[47500+i]!=89"
      ],
      "execution_count": 0,
      "outputs": [
        {
          "output_type": "execute_result",
          "data": {
            "text/plain": [
              "array([ True,  True,  True,  True,  True,  True, False, False, False,\n",
              "       False, False, False, False, False, False, False, False])"
            ]
          },
          "metadata": {
            "tags": []
          },
          "execution_count": 120
        }
      ]
    },
    {
      "metadata": {
        "id": "kHXqb8sGp2Ga",
        "colab_type": "code",
        "outputId": "f58bf143-2c70-48e5-e49e-4b08336f442a",
        "colab": {
          "base_uri": "https://localhost:8080/",
          "height": 51
        }
      },
      "cell_type": "code",
      "source": [
        "t"
      ],
      "execution_count": 0,
      "outputs": [
        {
          "output_type": "execute_result",
          "data": {
            "text/plain": [
              "array([ 86, 203, 282,  63, 320, 320, 320, 320, 320, 320, 320, 320, 320,\n",
              "       320, 320, 320, 320])"
            ]
          },
          "metadata": {
            "tags": []
          },
          "execution_count": 44
        }
      ]
    },
    {
      "metadata": {
        "id": "R0lYw6Z-JhvY",
        "colab_type": "code",
        "outputId": "b0cb6be3-5fd3-44fa-a81e-38e6f10a4ec2",
        "colab": {
          "base_uri": "https://localhost:8080/",
          "height": 51
        }
      },
      "cell_type": "code",
      "source": [
        "decoder_input_data[47500+i]"
      ],
      "execution_count": 0,
      "outputs": [
        {
          "output_type": "execute_result",
          "data": {
            "text/plain": [
              "array([284.,  86., 320.,  63., 149., 307.,  89.,   0.,   0.,   0.,   0.,\n",
              "         0.,   0.,   0.,   0.,   0.,   0.], dtype=float32)"
            ]
          },
          "metadata": {
            "tags": []
          },
          "execution_count": 43
        }
      ]
    },
    {
      "metadata": {
        "id": "5Vdjt4jDbY8O",
        "colab_type": "code",
        "colab": {}
      },
      "cell_type": "code",
      "source": [
        ""
      ],
      "execution_count": 0,
      "outputs": []
    },
    {
      "metadata": {
        "id": "ae8t5PlkbY4w",
        "colab_type": "code",
        "colab": {}
      },
      "cell_type": "code",
      "source": [
        "encoder_input_data = np.zeros(\n",
        "    (len(lines.eng), eng_max_length),\n",
        "    dtype='float32')\n",
        "decoder_input_data = np.zeros(\n",
        "    (len(lines.fr), fr_max_length),\n",
        "    dtype='float32')\n",
        "decoder_target_data = np.zeros(\n",
        "    (len(lines.fr), fr_max_length, num_decoder_tokens+1),\n",
        "    dtype='float32')\n",
        "\n",
        "for i, (input_text, target_text) in enumerate(zip(lines.eng, lines.fr)):\n",
        "    for t, word in enumerate(input_text.split()):\n",
        "        encoder_input_data[i, t] = input_token_index[word]\n",
        "    for t, word in enumerate(target_text.split()):\n",
        "        # decoder_target_data is ahead of decoder_input_data by one timestep\n",
        "        decoder_input_data[i, t] = target_token_index[word]\n",
        "        if t>0:          \n",
        "            # decoder_target_data will be ahead by one timestep\n",
        "            # and will not include the start character.\n",
        "          decoder_target_data[i, t - 1, target_token_index[word]] = 1.\n",
        "          if t== len(target_text.split())-1:\n",
        "            decoder_target_data[i, t:, 89] = 1\n",
        "\t\t\t\n",
        "for i in range(decoder_input_data.shape[0]):\n",
        "  for j in range(decoder_input_data.shape[1]):\n",
        "    if(decoder_input_data[i][j]==0):\n",
        "      decoder_input_data[i][j] = 89\t\t\t"
      ],
      "execution_count": 0,
      "outputs": []
    },
    {
      "metadata": {
        "id": "BiYIcEhFbY0r",
        "colab_type": "code",
        "outputId": "eb10b3cc-17bf-460b-d64f-dc2b2cec031d",
        "colab": {
          "base_uri": "https://localhost:8080/",
          "height": 306
        }
      },
      "cell_type": "code",
      "source": [
        "# define NMT model\n",
        "model2 = Sequential()\n",
        "model2.add(Embedding(len(input_words)+1, 128, input_length=eng_max_length, mask_zero=True))\n",
        "model2.add((Bidirectional(LSTM(256))))\n",
        "model2.add(RepeatVector(fr_max_length))\n",
        "model2.add((LSTM(256, return_sequences=True)))\n",
        "model2.add(TimeDistributed(Dense(len(target_token_index)+1, activation='softmax')))\n",
        "model2.summary()"
      ],
      "execution_count": 0,
      "outputs": [
        {
          "output_type": "stream",
          "text": [
            "_________________________________________________________________\n",
            "Layer (type)                 Output Shape              Param #   \n",
            "=================================================================\n",
            "embedding_9 (Embedding)      (None, 8, 128)            49408     \n",
            "_________________________________________________________________\n",
            "bidirectional_7 (Bidirection (None, 512)               788480    \n",
            "_________________________________________________________________\n",
            "repeat_vector_2 (RepeatVecto (None, 17, 512)           0         \n",
            "_________________________________________________________________\n",
            "lstm_16 (LSTM)               (None, 17, 256)           787456    \n",
            "_________________________________________________________________\n",
            "time_distributed_2 (TimeDist (None, 17, 359)           92263     \n",
            "=================================================================\n",
            "Total params: 1,717,607\n",
            "Trainable params: 1,717,607\n",
            "Non-trainable params: 0\n",
            "_________________________________________________________________\n"
          ],
          "name": "stdout"
        }
      ]
    },
    {
      "metadata": {
        "id": "Mt2cavqkbYxS",
        "colab_type": "code",
        "outputId": "f7b5a2ab-0101-47a7-f2b1-e7d5ec9bbd9b",
        "colab": {
          "base_uri": "https://localhost:8080/",
          "height": 204
        }
      },
      "cell_type": "code",
      "source": [
        "model2.compile(optimizer='adam', loss='categorical_crossentropy',metrics=['acc'])\n",
        "history1 = model2.fit(encoder_input_data, decoder_target_data,\n",
        "          batch_size=128,\n",
        "          epochs=5,\n",
        "          validation_split=0.05)\t\t\t"
      ],
      "execution_count": 0,
      "outputs": [
        {
          "output_type": "stream",
          "text": [
            "Train on 47500 samples, validate on 2500 samples\n",
            "Epoch 1/5\n",
            "47500/47500 [==============================] - 45s 956us/step - loss: 1.2286 - acc: 0.7883 - val_loss: 1.2638 - val_acc: 0.7593\n",
            "Epoch 2/5\n",
            "47500/47500 [==============================] - 39s 821us/step - loss: 0.9180 - acc: 0.8148 - val_loss: 1.1343 - val_acc: 0.7730\n",
            "Epoch 3/5\n",
            "47500/47500 [==============================] - 39s 821us/step - loss: 0.7687 - acc: 0.8362 - val_loss: 1.0001 - val_acc: 0.7863\n",
            "Epoch 4/5\n",
            "47500/47500 [==============================] - 39s 821us/step - loss: 0.6691 - acc: 0.8487 - val_loss: 0.9130 - val_acc: 0.7963\n",
            "Epoch 5/5\n",
            "47500/47500 [==============================] - 39s 819us/step - loss: 0.6027 - acc: 0.8570 - val_loss: 0.8836 - val_acc: 0.7985\n"
          ],
          "name": "stdout"
        }
      ]
    },
    {
      "metadata": {
        "id": "nd6X9CWA38u7",
        "colab_type": "code",
        "outputId": "df86cf0c-d4f1-4311-c941-4747389228ba",
        "colab": {
          "base_uri": "https://localhost:8080/",
          "height": 386
        }
      },
      "cell_type": "code",
      "source": [
        "history_dict = history1.history\n",
        "loss_values = history_dict['loss']\n",
        "val_loss_values = history_dict['val_loss']\n",
        "acc_values = history_dict['acc']\n",
        "val_acc_values = history_dict['val_acc']\n",
        "epochs = range(1, len(val_loss_values) + 1)\n",
        "import matplotlib.pyplot as plt\n",
        "%matplotlib inline \n",
        "\n",
        "plt.subplot(211)\n",
        "plt.plot(epochs, history1.history['loss'], 'ro', label='Training loss')\n",
        "plt.plot(epochs, val_loss_values, 'b', label='Test loss')\n",
        "plt.title('Training and test loss')\n",
        "plt.xlabel('Epochs')\n",
        "plt.ylabel('Loss')\n",
        "plt.legend()\n",
        "plt.grid('off')\n",
        "plt.show()\n",
        "\n",
        "plt.subplot(212)\n",
        "plt.plot(epochs, history1.history['acc'], 'ro', label='Training accuracy')\n",
        "plt.plot(epochs, val_acc_values, 'b', label='Test accuracy')\n",
        "plt.title('Training and test accuracy')\n",
        "plt.xlabel('Epochs')\n",
        "plt.ylabel('Accuracy')\n",
        "plt.gca().set_yticklabels(['{:.0f}%'.format(x*100) for x in plt.gca().get_yticks()]) \n",
        "plt.legend()\n",
        "plt.grid('off')\n",
        "plt.show()"
      ],
      "execution_count": 0,
      "outputs": [
        {
          "output_type": "stream",
          "text": [
            "/usr/local/lib/python3.6/dist-packages/matplotlib/cbook/__init__.py:424: MatplotlibDeprecationWarning: \n",
            "Passing one of 'on', 'true', 'off', 'false' as a boolean is deprecated; use an actual boolean (True/False) instead.\n",
            "  warn_deprecated(\"2.2\", \"Passing one of 'on', 'true', 'off', 'false' as a \"\n"
          ],
          "name": "stderr"
        },
        {
          "output_type": "display_data",
          "data": {
            "image/png": "[encoded data removed]",
            "text/plain": [
              "<Figure size 432x288 with 1 Axes>"
            ]
          },
          "metadata": {
            "tags": []
          }
        },
        {
          "output_type": "display_data",
          "data": {
            "image/png": "[encoded data removed]",
            "text/plain": [
              "<Figure size 432x288 with 1 Axes>"
            ]
          },
          "metadata": {
            "tags": []
          }
        }
      ]
    },
    {
      "metadata": {
        "id": "vOQo3wZE1q3g",
        "colab_type": "code",
        "outputId": "c3f56c23-9e95-4ea8-fe1c-08d233255b0b",
        "colab": {
          "base_uri": "https://localhost:8080/",
          "height": 34
        }
      },
      "cell_type": "code",
      "source": [
        "encoder_input_data.shape"
      ],
      "execution_count": 0,
      "outputs": [
        {
          "output_type": "execute_result",
          "data": {
            "text/plain": [
              "(50000, 8)"
            ]
          },
          "metadata": {
            "tags": []
          },
          "execution_count": 169
        }
      ]
    },
    {
      "metadata": {
        "id": "sjBXXENZbYtC",
        "colab_type": "code",
        "outputId": "dc4f4142-0f6d-4ad0-ed08-be97c0c9d247",
        "colab": {
          "base_uri": "https://localhost:8080/",
          "height": 34
        }
      },
      "cell_type": "code",
      "source": [
        "count = 0\n",
        "correct_count = 0\n",
        "pred = model2.predict(encoder_input_data[47500:])\n",
        "for i in range(2500):\n",
        "  t = np.argmax(pred[i], axis=1)\n",
        "  act = np.argmax(decoder_target_data[47500],axis=1)\n",
        "  correct_count += np.sum((act==t) & (act!=89))\n",
        "  count += np.sum(act!=89)\n",
        "correct_count/count"
      ],
      "execution_count": 0,
      "outputs": [
        {
          "output_type": "execute_result",
          "data": {
            "text/plain": [
              "0.18986666666666666"
            ]
          },
          "metadata": {
            "tags": []
          },
          "execution_count": 170
        }
      ]
    },
    {
      "metadata": {
        "id": "pbwG8tnblE9z",
        "colab_type": "code",
        "outputId": "e84f3043-a55c-415a-a1c3-9ba52f3ff843",
        "colab": {
          "base_uri": "https://localhost:8080/",
          "height": 136
        }
      },
      "cell_type": "code",
      "source": [
        "t = model2.predict(encoder_input_data[k+i].reshape(1,encoder_input_data.shape[1])).reshape(decoder_input_data.shape[1], num_decoder_tokens+1)\n",
        "t2 = np.argmax(t,axis=1)\n",
        "for i in range(len(t2)):\n",
        "  if int(t2[i])!=0:\n",
        "    print(list(target_token_index.keys())[int(t2[i]-1)])\n"
      ],
      "execution_count": 0,
      "outputs": [
        {
          "output_type": "stream",
          "text": [
            "ils\n",
            "unk\n",
            "unk\n",
            "dans\n",
            "la\n",
            "unk\n",
            "end\n"
          ],
          "name": "stdout"
        }
      ]
    },
    {
      "metadata": {
        "id": "vnhbSoKwqiCP",
        "colab_type": "code",
        "outputId": "14bf1f1b-293a-425c-8800-330749b00ed4",
        "colab": {
          "base_uri": "https://localhost:8080/",
          "height": 170
        }
      },
      "cell_type": "code",
      "source": [
        "t2 = decoder_input_data[k+i]\n",
        "for i in range(len(t2)):\n",
        "  if int(t2[i])!=0:\n",
        "    print(list(target_token_index.keys())[int(t2[i]-1)])"
      ],
      "execution_count": 0,
      "outputs": [
        {
          "output_type": "stream",
          "text": [
            "start\n",
            "vous\n",
            "ne\n",
            "me\n",
            "unk\n",
            "pas\n",
            "du\n",
            "tout\n",
            "end\n"
          ],
          "name": "stdout"
        }
      ]
    },
    {
      "metadata": {
        "id": "iyvNmsmrqiJk",
        "colab_type": "code",
        "colab": {}
      },
      "cell_type": "code",
      "source": [
        ""
      ],
      "execution_count": 0,
      "outputs": []
    },
    {
      "metadata": {
        "id": "D8onYCdc-OaE",
        "colab_type": "code",
        "colab": {}
      },
      "cell_type": "code",
      "source": [
        ""
      ],
      "execution_count": 0,
      "outputs": []
    },
    {
      "metadata": {
        "id": "ITL26-cj45lT",
        "colab_type": "code",
        "colab": {}
      },
      "cell_type": "code",
      "source": [
        "embedding_size = 128\n",
        "from keras.layers import Input, LSTM, Embedding, Dense\n",
        "from keras.models import Model\n",
        "from keras.utils import plot_model"
      ],
      "execution_count": 0,
      "outputs": []
    },
    {
      "metadata": {
        "id": "xoPEv6If45ec",
        "colab_type": "code",
        "colab": {}
      },
      "cell_type": "code",
      "source": [
        "encoder_inputs = Input(shape=(None,))\n",
        "en_x=  Embedding(num_encoder_tokens+1, embedding_size)(encoder_inputs)\n",
        "encoder = LSTM(256, return_state=True)\n",
        "encoder_outputs, state_h, state_c = encoder(en_x)\n",
        "# We discard `encoder_outputs` and only keep the states.\n",
        "encoder_states = [state_h, state_c]"
      ],
      "execution_count": 0,
      "outputs": []
    },
    {
      "metadata": {
        "id": "buIdjpO645bO",
        "colab_type": "code",
        "colab": {}
      },
      "cell_type": "code",
      "source": [
        "decoder_inputs = Input(shape=(None,))\n",
        "\n",
        "dex=  Embedding(num_decoder_tokens+1, embedding_size)\n",
        "\n",
        "final_dex= dex(decoder_inputs)\n",
        "\n",
        "\n",
        "decoder_lstm = LSTM(256, return_sequences=True, return_state=True)\n",
        "\n",
        "decoder_outputs, _, _ = decoder_lstm(final_dex,\n",
        "                                     initial_state=encoder_states)\n",
        "\n",
        "decoder_outputs = Dense(2000,activation='tanh')(decoder_outputs)\n",
        "\n",
        "decoder_dense = Dense(num_decoder_tokens+1, activation='softmax')\n",
        "\n",
        "decoder_outputs = decoder_dense(decoder_outputs)\n",
        "\n",
        "model3 = Model([encoder_inputs, decoder_inputs], decoder_outputs)\n",
        "\n",
        "model3.compile(optimizer='adam', loss='categorical_crossentropy', metrics=['acc'])"
      ],
      "execution_count": 0,
      "outputs": []
    },
    {
      "metadata": {
        "id": "hvaapWUrSxTj",
        "colab_type": "code",
        "outputId": "7b1f7bec-2947-4888-aca4-30e97b4abba4",
        "colab": {
          "base_uri": "https://localhost:8080/",
          "height": 442
        }
      },
      "cell_type": "code",
      "source": [
        "model3.summary()"
      ],
      "execution_count": 0,
      "outputs": [
        {
          "output_type": "stream",
          "text": [
            "__________________________________________________________________________________________________\n",
            "Layer (type)                    Output Shape         Param #     Connected to                     \n",
            "==================================================================================================\n",
            "input_3 (InputLayer)            (None, None)         0                                            \n",
            "__________________________________________________________________________________________________\n",
            "input_4 (InputLayer)            (None, None)         0                                            \n",
            "__________________________________________________________________________________________________\n",
            "embedding_10 (Embedding)        (None, None, 128)    49408       input_3[0][0]                    \n",
            "__________________________________________________________________________________________________\n",
            "embedding_11 (Embedding)        (None, None, 128)    45952       input_4[0][0]                    \n",
            "__________________________________________________________________________________________________\n",
            "lstm_17 (LSTM)                  [(None, 256), (None, 394240      embedding_10[0][0]               \n",
            "__________________________________________________________________________________________________\n",
            "lstm_18 (LSTM)                  [(None, None, 256),  394240      embedding_11[0][0]               \n",
            "                                                                 lstm_17[0][1]                    \n",
            "                                                                 lstm_17[0][2]                    \n",
            "__________________________________________________________________________________________________\n",
            "dense_10 (Dense)                (None, None, 2000)   514000      lstm_18[0][0]                    \n",
            "__________________________________________________________________________________________________\n",
            "dense_11 (Dense)                (None, None, 359)    718359      dense_10[0][0]                   \n",
            "==================================================================================================\n",
            "Total params: 2,116,199\n",
            "Trainable params: 2,116,199\n",
            "Non-trainable params: 0\n",
            "__________________________________________________________________________________________________\n"
          ],
          "name": "stdout"
        }
      ]
    },
    {
      "metadata": {
        "id": "iKypEdHs45YD",
        "colab_type": "code",
        "outputId": "6cd50f8b-55f3-47ab-967d-ce15d7846840",
        "colab": {
          "base_uri": "https://localhost:8080/",
          "height": 204
        }
      },
      "cell_type": "code",
      "source": [
        "history3 = model3.fit([encoder_input_data, decoder_input_data], decoder_target_data,\n",
        "          batch_size=128,\n",
        "          epochs=5,\n",
        "          validation_split=0.05)"
      ],
      "execution_count": 0,
      "outputs": [
        {
          "output_type": "stream",
          "text": [
            "Train on 47500 samples, validate on 2500 samples\n",
            "Epoch 1/5\n",
            "47500/47500 [==============================] - 33s 687us/step - loss: 1.0624 - acc: 0.8078 - val_loss: 1.0780 - val_acc: 0.7849\n",
            "Epoch 2/5\n",
            "47500/47500 [==============================] - 26s 539us/step - loss: 0.6807 - acc: 0.8551 - val_loss: 0.8477 - val_acc: 0.8126\n",
            "Epoch 3/5\n",
            "47500/47500 [==============================] - 26s 547us/step - loss: 0.5336 - acc: 0.8744 - val_loss: 0.7143 - val_acc: 0.8292\n",
            "Epoch 4/5\n",
            "47500/47500 [==============================] - 26s 545us/step - loss: 0.4491 - acc: 0.8878 - val_loss: 0.6329 - val_acc: 0.8430\n",
            "Epoch 5/5\n",
            "47500/47500 [==============================] - 26s 547us/step - loss: 0.3945 - acc: 0.8973 - val_loss: 0.5940 - val_acc: 0.8484\n"
          ],
          "name": "stdout"
        }
      ]
    },
    {
      "metadata": {
        "id": "MR6_Iy8g68kL",
        "colab_type": "code",
        "outputId": "4800c12e-b981-4751-ce04-9b322bbdb10e",
        "colab": {
          "base_uri": "https://localhost:8080/",
          "height": 387
        }
      },
      "cell_type": "code",
      "source": [
        "history_dict = history3.history\n",
        "loss_values = history_dict['loss']\n",
        "val_loss_values = history_dict['val_loss']\n",
        "acc_values = history_dict['acc']\n",
        "val_acc_values = history_dict['val_acc']\n",
        "epochs = range(1, len(val_loss_values) + 1)\n",
        "import matplotlib.pyplot as plt\n",
        "%matplotlib inline \n",
        "\n",
        "plt.subplot(211)\n",
        "plt.plot(epochs, history3.history['loss'], 'ro', label='Training loss')\n",
        "plt.plot(epochs, val_loss_values, 'b', label='Test loss')\n",
        "plt.title('Training and test loss')\n",
        "plt.xlabel('Epochs')\n",
        "plt.ylabel('Loss')\n",
        "plt.legend()\n",
        "plt.grid('off')\n",
        "plt.show()\n",
        "\n",
        "plt.subplot(212)\n",
        "plt.plot(epochs, history3.history['acc'], 'ro', label='Training accuracy')\n",
        "plt.plot(epochs, val_acc_values, 'b', label='Test accuracy')\n",
        "plt.title('Training and test accuracy')\n",
        "plt.xlabel('Epochs')\n",
        "plt.ylabel('Accuracy')\n",
        "plt.gca().set_yticklabels(['{:.0f}%'.format(x*100) for x in plt.gca().get_yticks()]) \n",
        "plt.legend()\n",
        "plt.grid('off')\n",
        "plt.show()"
      ],
      "execution_count": 0,
      "outputs": [
        {
          "output_type": "stream",
          "text": [
            "/usr/local/lib/python3.6/dist-packages/matplotlib/cbook/__init__.py:424: MatplotlibDeprecationWarning: \n",
            "Passing one of 'on', 'true', 'off', 'false' as a boolean is deprecated; use an actual boolean (True/False) instead.\n",
            "  warn_deprecated(\"2.2\", \"Passing one of 'on', 'true', 'off', 'false' as a \"\n"
          ],
          "name": "stderr"
        },
        {
          "output_type": "display_data",
          "data": {
            "image/png": "[encoded data removed]",
            "text/plain": [
              "<Figure size 432x288 with 1 Axes>"
            ]
          },
          "metadata": {
            "tags": []
          }
        },
        {
          "output_type": "display_data",
          "data": {
            "image/png": "[encoded data removed]",
            "text/plain": [
              "<Figure size 432x288 with 1 Axes>"
            ]
          },
          "metadata": {
            "tags": []
          }
        }
      ]
    },
    {
      "metadata": {
        "id": "d0-pL_tYrReW",
        "colab_type": "code",
        "outputId": "7451e35c-eeea-4baf-d2c0-cc9dea2b45e4",
        "colab": {
          "base_uri": "https://localhost:8080/",
          "height": 34
        }
      },
      "cell_type": "code",
      "source": [
        "decoder_target_data.shape"
      ],
      "execution_count": 0,
      "outputs": [
        {
          "output_type": "execute_result",
          "data": {
            "text/plain": [
              "(50000, 17, 359)"
            ]
          },
          "metadata": {
            "tags": []
          },
          "execution_count": 184
        }
      ]
    },
    {
      "metadata": {
        "id": "WSITLbicrVTX",
        "colab_type": "code",
        "outputId": "4d0666f9-764c-442d-af97-a5cb9959284f",
        "colab": {
          "base_uri": "https://localhost:8080/",
          "height": 34
        }
      },
      "cell_type": "code",
      "source": [
        "act = np.argmax(decoder_target_data, axis=2)\n",
        "act.shape"
      ],
      "execution_count": 0,
      "outputs": [
        {
          "output_type": "execute_result",
          "data": {
            "text/plain": [
              "(50000, 17)"
            ]
          },
          "metadata": {
            "tags": []
          },
          "execution_count": 185
        }
      ]
    },
    {
      "metadata": {
        "id": "zbVuix9Z0W1n",
        "colab_type": "code",
        "outputId": "60875d0f-e48a-49c2-e55b-61e567fb874c",
        "colab": {
          "base_uri": "https://localhost:8080/",
          "height": 52
        }
      },
      "cell_type": "code",
      "source": [
        "act[0]"
      ],
      "execution_count": 0,
      "outputs": [
        {
          "output_type": "execute_result",
          "data": {
            "text/plain": [
              "array([321,  89,  89,  89,  89,  89,  89,  89,  89,  89,  89,  89,  89,\n",
              "        89,  89,  89,  89])"
            ]
          },
          "metadata": {
            "tags": []
          },
          "execution_count": 186
        }
      ]
    },
    {
      "metadata": {
        "id": "Ypl3yBmVogKS",
        "colab_type": "code",
        "outputId": "49bbf455-7aa4-4c66-cb20-2e3f1ff8b805",
        "colab": {
          "base_uri": "https://localhost:8080/",
          "height": 34
        }
      },
      "cell_type": "code",
      "source": [
        "count = 0\n",
        "correct_count = 0\n",
        "pred = model3.predict([encoder_input_data[47500:],decoder_input_data[47500:]])\n",
        "for i in range(2500):\n",
        "  t = np.argmax(pred[i], axis=1)\n",
        "  correct_count += np.sum((act[47500+i]==t) & (act[47500+i]!=89))\n",
        "  count += np.sum(decoder_input_data[47500+i]!=89)\n",
        "correct_count/count"
      ],
      "execution_count": 0,
      "outputs": [
        {
          "output_type": "execute_result",
          "data": {
            "text/plain": [
              "0.4468165264347608"
            ]
          },
          "metadata": {
            "tags": []
          },
          "execution_count": 187
        }
      ]
    },
    {
      "metadata": {
        "id": "6B-4JA0U0Dei",
        "colab_type": "code",
        "outputId": "6e57cdd0-5b2d-4a9d-c78e-2149689cb6ab",
        "colab": {
          "base_uri": "https://localhost:8080/",
          "height": 34
        }
      },
      "cell_type": "code",
      "source": [
        "target_token_index['end']"
      ],
      "execution_count": 0,
      "outputs": [
        {
          "output_type": "execute_result",
          "data": {
            "text/plain": [
              "89"
            ]
          },
          "metadata": {
            "tags": []
          },
          "execution_count": 188
        }
      ]
    },
    {
      "metadata": {
        "id": "BBlyppAJwckD",
        "colab_type": "code",
        "colab": {}
      },
      "cell_type": "code",
      "source": [
        "decoder_input_data_pred = np.zeros(\n",
        "    (len(lines.fr), fr_max_length),\n",
        "    dtype='float32')"
      ],
      "execution_count": 0,
      "outputs": []
    },
    {
      "metadata": {
        "id": "RaRL3z0CvCjx",
        "colab_type": "code",
        "outputId": "925aecbf-e5da-48de-baef-1ad7b5a8f24c",
        "colab": {
          "base_uri": "https://localhost:8080/",
          "height": 4461
        }
      },
      "cell_type": "code",
      "source": [
        "final_pred = []\n",
        "for i in range(2500):\n",
        "  if(i%10==0):\n",
        "    print(i)\n",
        "  word = 284\n",
        "  for j in range(17):\n",
        "    decoder_input_data_pred[(47500+i), j] = word\n",
        "    pred = model3.predict([encoder_input_data[(47500+i)].reshape(1,8),decoder_input_data_pred[47500+i].reshape(1,17)])\n",
        "    t = np.argmax(pred[0][j])\n",
        "    word = t\n",
        "    if word==89:\n",
        "      break\n",
        "  final_pred.append(list(decoder_input_data_pred[47500+i]))"
      ],
      "execution_count": 0,
      "outputs": [
        {
          "output_type": "stream",
          "text": [
            "0\n",
            "10\n",
            "20\n",
            "30\n",
            "40\n",
            "50\n",
            "60\n",
            "70\n",
            "80\n",
            "90\n",
            "100\n",
            "110\n",
            "120\n",
            "130\n",
            "140\n",
            "150\n",
            "160\n",
            "170\n",
            "180\n",
            "190\n",
            "200\n",
            "210\n",
            "220\n",
            "230\n",
            "240\n",
            "250\n",
            "260\n",
            "270\n",
            "280\n",
            "290\n",
            "300\n",
            "310\n",
            "320\n",
            "330\n",
            "340\n",
            "350\n",
            "360\n",
            "370\n",
            "380\n",
            "390\n",
            "400\n",
            "410\n",
            "420\n",
            "430\n",
            "440\n",
            "450\n",
            "460\n",
            "470\n",
            "480\n",
            "490\n",
            "500\n",
            "510\n",
            "520\n",
            "530\n",
            "540\n",
            "550\n",
            "560\n",
            "570\n",
            "580\n",
            "590\n",
            "600\n",
            "610\n",
            "620\n",
            "630\n",
            "640\n",
            "650\n",
            "660\n",
            "670\n",
            "680\n",
            "690\n",
            "700\n",
            "710\n",
            "720\n",
            "730\n",
            "740\n",
            "750\n",
            "760\n",
            "770\n",
            "780\n",
            "790\n",
            "800\n",
            "810\n",
            "820\n",
            "830\n",
            "840\n",
            "850\n",
            "860\n",
            "870\n",
            "880\n",
            "890\n",
            "900\n",
            "910\n",
            "920\n",
            "930\n",
            "940\n",
            "950\n",
            "960\n",
            "970\n",
            "980\n",
            "990\n",
            "1000\n",
            "1010\n",
            "1020\n",
            "1030\n",
            "1040\n",
            "1050\n",
            "1060\n",
            "1070\n",
            "1080\n",
            "1090\n",
            "1100\n",
            "1110\n",
            "1120\n",
            "1130\n",
            "1140\n",
            "1150\n",
            "1160\n",
            "1170\n",
            "1180\n",
            "1190\n",
            "1200\n",
            "1210\n",
            "1220\n",
            "1230\n",
            "1240\n",
            "1250\n",
            "1260\n",
            "1270\n",
            "1280\n",
            "1290\n",
            "1300\n",
            "1310\n",
            "1320\n",
            "1330\n",
            "1340\n",
            "1350\n",
            "1360\n",
            "1370\n",
            "1380\n",
            "1390\n",
            "1400\n",
            "1410\n",
            "1420\n",
            "1430\n",
            "1440\n",
            "1450\n",
            "1460\n",
            "1470\n",
            "1480\n",
            "1490\n",
            "1500\n",
            "1510\n",
            "1520\n",
            "1530\n",
            "1540\n",
            "1550\n",
            "1560\n",
            "1570\n",
            "1580\n",
            "1590\n",
            "1600\n",
            "1610\n",
            "1620\n",
            "1630\n",
            "1640\n",
            "1650\n",
            "1660\n",
            "1670\n",
            "1680\n",
            "1690\n",
            "1700\n",
            "1710\n",
            "1720\n",
            "1730\n",
            "1740\n",
            "1750\n",
            "1760\n",
            "1770\n",
            "1780\n",
            "1790\n",
            "1800\n",
            "1810\n",
            "1820\n",
            "1830\n",
            "1840\n",
            "1850\n",
            "1860\n",
            "1870\n",
            "1880\n",
            "1890\n",
            "1900\n",
            "1910\n",
            "1920\n",
            "1930\n",
            "1940\n",
            "1950\n",
            "1960\n",
            "1970\n",
            "1980\n",
            "1990\n",
            "2000\n",
            "2010\n",
            "2020\n",
            "2030\n",
            "2040\n",
            "2050\n",
            "2060\n",
            "2070\n",
            "2080\n",
            "2090\n",
            "2100\n",
            "2110\n",
            "2120\n",
            "2130\n",
            "2140\n",
            "2150\n",
            "2160\n",
            "2170\n",
            "2180\n",
            "2190\n",
            "2200\n",
            "2210\n",
            "2220\n",
            "2230\n",
            "2240\n",
            "2250\n",
            "2260\n",
            "2270\n",
            "2280\n",
            "2290\n",
            "2300\n",
            "2310\n",
            "2320\n",
            "2330\n",
            "2340\n",
            "2350\n",
            "2360\n",
            "2370\n",
            "2380\n",
            "2390\n",
            "2400\n",
            "2410\n",
            "2420\n",
            "2430\n",
            "2440\n",
            "2450\n",
            "2460\n",
            "2470\n",
            "2480\n",
            "2490\n"
          ],
          "name": "stdout"
        }
      ]
    },
    {
      "metadata": {
        "id": "_jExPEb0zOv0",
        "colab_type": "code",
        "outputId": "1d05a467-27ab-43b4-d0b2-6af09d00a743",
        "colab": {
          "base_uri": "https://localhost:8080/",
          "height": 34
        }
      },
      "cell_type": "code",
      "source": [
        "final_pred2 = np.array(final_pred)\n",
        "final_pred2.shape"
      ],
      "execution_count": 0,
      "outputs": [
        {
          "output_type": "execute_result",
          "data": {
            "text/plain": [
              "(2500, 17)"
            ]
          },
          "metadata": {
            "tags": []
          },
          "execution_count": 191
        }
      ]
    },
    {
      "metadata": {
        "id": "0laNy_IxyCTn",
        "colab_type": "code",
        "outputId": "fbeba8ad-838f-42b6-f870-e7b4d40fc6de",
        "colab": {
          "base_uri": "https://localhost:8080/",
          "height": 34
        }
      },
      "cell_type": "code",
      "source": [
        "count = 0\n",
        "correct_count = 0\n",
        "\n",
        "for i in range(2500):\n",
        "  correct_count += np.sum((decoder_input_data[47500+i]==final_pred2[i]) & (decoder_input_data[47500+i]!=89))\n",
        "  count += np.sum(decoder_input_data[47500+i]!=89)\n",
        "correct_count/count"
      ],
      "execution_count": 0,
      "outputs": [
        {
          "output_type": "execute_result",
          "data": {
            "text/plain": [
              "0.4592490267487128"
            ]
          },
          "metadata": {
            "tags": []
          },
          "execution_count": 193
        }
      ]
    },
    {
      "metadata": {
        "id": "2kFojc7_sjiM",
        "colab_type": "code",
        "colab": {}
      },
      "cell_type": "code",
      "source": [
        ""
      ],
      "execution_count": 0,
      "outputs": []
    },
    {
      "metadata": {
        "id": "3jzvmdJ7sjd3",
        "colab_type": "code",
        "colab": {}
      },
      "cell_type": "code",
      "source": [
        ""
      ],
      "execution_count": 0,
      "outputs": []
    },
    {
      "metadata": {
        "id": "pgJ1D1RSsjaP",
        "colab_type": "code",
        "colab": {}
      },
      "cell_type": "code",
      "source": [
        ""
      ],
      "execution_count": 0,
      "outputs": []
    },
    {
      "metadata": {
        "id": "yqnWpD840Dwx",
        "colab_type": "code",
        "colab": {}
      },
      "cell_type": "code",
      "source": [
        ""
      ],
      "execution_count": 0,
      "outputs": []
    },
    {
      "metadata": {
        "id": "ctL0YdPL0D6r",
        "colab_type": "code",
        "colab": {}
      },
      "cell_type": "code",
      "source": [
        "# encoder_input_data = np.zeros(\n",
        "#     (len(lines.eng), eng_max_length),\n",
        "#     dtype='float32')\n",
        "# decoder_input_data = np.zeros(\n",
        "#     (len(lines.fr), fr_max_length),\n",
        "#     dtype='float32')\n",
        "# decoder_target_data = np.zeros(\n",
        "#     (len(lines.fr), fr_max_length, num_decoder_tokens+1),\n",
        "#     dtype='float32')\n",
        "\t\n",
        "# for i, (input_text, target_text) in enumerate(zip(lines.eng, lines.fr)):\n",
        "#     for t, word in enumerate(input_text.split()):\n",
        "#         encoder_input_data[i, t] = input_token_index[word]\n",
        "#     for t, word in enumerate(target_text.split()):\n",
        "#         # decoder_target_data is ahead of decoder_input_data by one timestep\n",
        "#         decoder_input_data[i, t] = target_token_index[word]\n",
        "#         if t>0:          \n",
        "#             # decoder_target_data will be ahead by one timestep\n",
        "#             # and will not include the start character.\n",
        "#           decoder_target_data[i, t - 1, target_token_index[word]] = 1.\n",
        "#           if t== len(target_text.split())-1:\n",
        "#             decoder_target_data[i, t:, 0] = 1"
      ],
      "execution_count": 0,
      "outputs": []
    },
    {
      "metadata": {
        "id": "uzM4eS876i0p",
        "colab_type": "code",
        "colab": {}
      },
      "cell_type": "code",
      "source": [
        "embedding_size = 128"
      ],
      "execution_count": 0,
      "outputs": []
    },
    {
      "metadata": {
        "id": "ICjkgEpc5sAE",
        "colab_type": "code",
        "outputId": "c1235367-35b3-4749-f916-1a16bf19a463",
        "colab": {
          "base_uri": "https://localhost:8080/",
          "height": 125
        }
      },
      "cell_type": "code",
      "source": [
        "encoder_inputs = Input(shape=(eng_max_length,))\n",
        "en_x=  Embedding(num_encoder_tokens+1, embedding_size)(encoder_inputs)\n",
        "en_x = Dropout(0.1)(en_x)\n",
        "encoder = LSTM(256, return_sequences=True, unroll=True)(en_x)\n",
        "encoder_last = encoder[:,-1,:]\n",
        "\n",
        "print('encoder', encoder)\n",
        "print('encoder_last', encoder_last)"
      ],
      "execution_count": 0,
      "outputs": [
        {
          "output_type": "stream",
          "text": [
            "WARNING:tensorflow:From /usr/local/lib/python3.6/dist-packages/keras/backend/tensorflow_backend.py:3445: calling dropout (from tensorflow.python.ops.nn_ops) with keep_prob is deprecated and will be removed in a future version.\n",
            "Instructions for updating:\n",
            "Please use `rate` instead of `keep_prob`. Rate should be set to `rate = 1 - keep_prob`.\n",
            "encoder Tensor(\"lstm_19/transpose_1:0\", shape=(?, 8, 256), dtype=float32)\n",
            "encoder_last Tensor(\"strided_slice:0\", shape=(?, 256), dtype=float32)\n"
          ],
          "name": "stdout"
        }
      ]
    },
    {
      "metadata": {
        "id": "qN9pEsuD5r9I",
        "colab_type": "code",
        "outputId": "ddfabc31-3cdc-41fc-9045-eeb4d2803f2f",
        "colab": {
          "base_uri": "https://localhost:8080/",
          "height": 34
        }
      },
      "cell_type": "code",
      "source": [
        "decoder_inputs = Input(shape=(fr_max_length,))\n",
        "\n",
        "dex=  Embedding(num_decoder_tokens+1, embedding_size)\n",
        "#dex = Dropout(0.1)(dex)\n",
        "\n",
        "decoder= dex(decoder_inputs)\n",
        "decoder = Dropout(0.1)(decoder)\n",
        "\n",
        "decoder = LSTM(256, return_sequences=True, unroll=True)(decoder, initial_state=[encoder_last, encoder_last])\n",
        "print('decoder', decoder)"
      ],
      "execution_count": 0,
      "outputs": [
        {
          "output_type": "stream",
          "text": [
            "decoder Tensor(\"lstm_20/transpose_1:0\", shape=(?, 17, 256), dtype=float32)\n"
          ],
          "name": "stdout"
        }
      ]
    },
    {
      "metadata": {
        "id": "Zwsxh1D0hskm",
        "colab_type": "code",
        "outputId": "ee99cadc-9c12-40bf-eacd-93295f686d97",
        "colab": {
          "base_uri": "https://localhost:8080/",
          "height": 34
        }
      },
      "cell_type": "code",
      "source": [
        "t = Dense(5000, activation='tanh')(decoder)\n",
        "#t = Dense(5, activation='tanh')(t)\n",
        "t"
      ],
      "execution_count": 0,
      "outputs": [
        {
          "output_type": "execute_result",
          "data": {
            "text/plain": [
              "<tf.Tensor 'dense_12/Tanh:0' shape=(?, 17, 5000) dtype=float32>"
            ]
          },
          "metadata": {
            "tags": []
          },
          "execution_count": 197
        }
      ]
    },
    {
      "metadata": {
        "id": "yatc_LKIibuQ",
        "colab_type": "code",
        "outputId": "2b0b27a5-ad96-491d-a6a1-0829baca7595",
        "colab": {
          "base_uri": "https://localhost:8080/",
          "height": 34
        }
      },
      "cell_type": "code",
      "source": [
        "t2 = Dense(5000, activation='tanh')(encoder)\n",
        "#t2 = Dense(5, activation='tanh')(t2)\n",
        "t2"
      ],
      "execution_count": 0,
      "outputs": [
        {
          "output_type": "execute_result",
          "data": {
            "text/plain": [
              "<tf.Tensor 'dense_13/Tanh:0' shape=(?, 8, 5000) dtype=float32>"
            ]
          },
          "metadata": {
            "tags": []
          },
          "execution_count": 198
        }
      ]
    },
    {
      "metadata": {
        "id": "7WzvPzpjijzq",
        "colab_type": "code",
        "outputId": "da5092ea-a701-4e9f-c811-0b243eeef840",
        "colab": {
          "base_uri": "https://localhost:8080/",
          "height": 34
        }
      },
      "cell_type": "code",
      "source": [
        "from keras.layers import Activation, dot, concatenate\n",
        "\n",
        "attention = dot([t, t2], axes=[2, 2])\n",
        "attention"
      ],
      "execution_count": 0,
      "outputs": [
        {
          "output_type": "execute_result",
          "data": {
            "text/plain": [
              "<tf.Tensor 'dot_1/MatMul:0' shape=(?, 17, 8) dtype=float32>"
            ]
          },
          "metadata": {
            "tags": []
          },
          "execution_count": 199
        }
      ]
    },
    {
      "metadata": {
        "id": "l93IV4Mk45Uy",
        "colab_type": "code",
        "outputId": "6f354eeb-698c-491e-ec5d-fb714b202f9c",
        "colab": {
          "base_uri": "https://localhost:8080/",
          "height": 34
        }
      },
      "cell_type": "code",
      "source": [
        "# Equation (7) with 'dot' score from Section 3.1 in the paper.\n",
        "# Note that we reuse Softmax-activation layer instead of writing tensor calculation\n",
        "# attention = dot([decoder, encoder], axes=[2, 2])\n",
        "# print(attention)\n",
        "attention = Dense(eng_max_length, activation='tanh')(attention)\n",
        "attention = Activation('softmax')(attention)\n",
        "print('attention', attention)"
      ],
      "execution_count": 0,
      "outputs": [
        {
          "output_type": "stream",
          "text": [
            "attention Tensor(\"activation_1/truediv:0\", shape=(?, 17, 8), dtype=float32)\n"
          ],
          "name": "stdout"
        }
      ]
    },
    {
      "metadata": {
        "id": "PIc0iVgfMifz",
        "colab_type": "code",
        "outputId": "ecf4fa09-e85f-4185-f6a9-f8cf9030d13e",
        "colab": {
          "base_uri": "https://localhost:8080/",
          "height": 34
        }
      },
      "cell_type": "code",
      "source": [
        "context = dot([attention, encoder], axes = [2,1])\n",
        "context\n"
      ],
      "execution_count": 0,
      "outputs": [
        {
          "output_type": "execute_result",
          "data": {
            "text/plain": [
              "<tf.Tensor 'dot_2/MatMul:0' shape=(?, 17, 256) dtype=float32>"
            ]
          },
          "metadata": {
            "tags": []
          },
          "execution_count": 201
        }
      ]
    },
    {
      "metadata": {
        "id": "JtQqnGoCMi6M",
        "colab_type": "code",
        "outputId": "8bc9683a-8094-492b-9a16-28ef05710e28",
        "colab": {
          "base_uri": "https://localhost:8080/",
          "height": 34
        }
      },
      "cell_type": "code",
      "source": [
        "decoder_combined_context = concatenate([context, decoder])\n",
        "print('decoder_combined_context', decoder_combined_context)"
      ],
      "execution_count": 0,
      "outputs": [
        {
          "output_type": "stream",
          "text": [
            "decoder_combined_context Tensor(\"concatenate_1/concat:0\", shape=(?, 17, 512), dtype=float32)\n"
          ],
          "name": "stdout"
        }
      ]
    },
    {
      "metadata": {
        "id": "SIs1VlboMi3m",
        "colab_type": "code",
        "outputId": "532c212e-36cb-47b3-cf2b-ae71976e8bd9",
        "colab": {
          "base_uri": "https://localhost:8080/",
          "height": 34
        }
      },
      "cell_type": "code",
      "source": [
        "output_dict_size = num_decoder_tokens+1\n",
        "#output = (Dense(100, activation=\"relu\"))(decoder_combined_context)\n",
        "#output = (Dense(output_dict_size, activation=\"softmax\"))(output)\n",
        "#decoder_combined_context = Dense(200, activation='tanh')(decoder_combined_context)\n",
        "#decoder_combined_context = Dense(2000, activation='tanh')(decoder_combined_context)\n",
        "decoder_combined_context = Dense(2000, activation='tanh')(decoder_combined_context)\n",
        "output = (Dense(output_dict_size, activation=\"softmax\"))(decoder_combined_context)\n",
        "print('output', output)"
      ],
      "execution_count": 0,
      "outputs": [
        {
          "output_type": "stream",
          "text": [
            "output Tensor(\"dense_16/truediv:0\", shape=(?, 17, 359), dtype=float32)\n"
          ],
          "name": "stdout"
        }
      ]
    },
    {
      "metadata": {
        "id": "dIg-pwU6Mi03",
        "colab_type": "code",
        "colab": {}
      },
      "cell_type": "code",
      "source": [
        "model4 = Model(inputs=[encoder_inputs, decoder_inputs], outputs=[output])\n",
        "model4.compile(optimizer='adam', loss='categorical_crossentropy',metrics = ['accuracy'])"
      ],
      "execution_count": 0,
      "outputs": []
    },
    {
      "metadata": {
        "id": "q2-NyZ_PMixr",
        "colab_type": "code",
        "outputId": "883836af-3537-43d8-aaaa-28835b0a2c4b",
        "colab": {
          "base_uri": "https://localhost:8080/",
          "height": 798
        }
      },
      "cell_type": "code",
      "source": [
        "model4.summary()"
      ],
      "execution_count": 0,
      "outputs": [
        {
          "output_type": "stream",
          "text": [
            "__________________________________________________________________________________________________\n",
            "Layer (type)                    Output Shape         Param #     Connected to                     \n",
            "==================================================================================================\n",
            "input_6 (InputLayer)            (None, 17)           0                                            \n",
            "__________________________________________________________________________________________________\n",
            "input_5 (InputLayer)            (None, 8)            0                                            \n",
            "__________________________________________________________________________________________________\n",
            "embedding_13 (Embedding)        (None, 17, 128)      45952       input_6[0][0]                    \n",
            "__________________________________________________________________________________________________\n",
            "embedding_12 (Embedding)        (None, 8, 128)       49408       input_5[0][0]                    \n",
            "__________________________________________________________________________________________________\n",
            "dropout_2 (Dropout)             (None, 17, 128)      0           embedding_13[0][0]               \n",
            "__________________________________________________________________________________________________\n",
            "dropout_1 (Dropout)             (None, 8, 128)       0           embedding_12[0][0]               \n",
            "__________________________________________________________________________________________________\n",
            "lstm_20 (LSTM)                  (None, 17, 256)      394240      dropout_2[0][0]                  \n",
            "__________________________________________________________________________________________________\n",
            "lstm_19 (LSTM)                  (None, 8, 256)       394240      dropout_1[0][0]                  \n",
            "__________________________________________________________________________________________________\n",
            "dense_12 (Dense)                (None, 17, 5000)     1285000     lstm_20[0][0]                    \n",
            "__________________________________________________________________________________________________\n",
            "dense_13 (Dense)                (None, 8, 5000)      1285000     lstm_19[0][0]                    \n",
            "__________________________________________________________________________________________________\n",
            "dot_1 (Dot)                     (None, 17, 8)        0           dense_12[0][0]                   \n",
            "                                                                 dense_13[0][0]                   \n",
            "__________________________________________________________________________________________________\n",
            "dense_14 (Dense)                (None, 17, 8)        72          dot_1[0][0]                      \n",
            "__________________________________________________________________________________________________\n",
            "activation_1 (Activation)       (None, 17, 8)        0           dense_14[0][0]                   \n",
            "__________________________________________________________________________________________________\n",
            "dot_2 (Dot)                     (None, 17, 256)      0           activation_1[0][0]               \n",
            "                                                                 lstm_19[0][0]                    \n",
            "__________________________________________________________________________________________________\n",
            "concatenate_1 (Concatenate)     (None, 17, 512)      0           dot_2[0][0]                      \n",
            "                                                                 lstm_20[0][0]                    \n",
            "__________________________________________________________________________________________________\n",
            "dense_15 (Dense)                (None, 17, 2000)     1026000     concatenate_1[0][0]              \n",
            "__________________________________________________________________________________________________\n",
            "dense_16 (Dense)                (None, 17, 359)      718359      dense_15[0][0]                   \n",
            "==================================================================================================\n",
            "Total params: 5,198,271\n",
            "Trainable params: 5,198,271\n",
            "Non-trainable params: 0\n",
            "__________________________________________________________________________________________________\n"
          ],
          "name": "stdout"
        }
      ]
    },
    {
      "metadata": {
        "id": "zUxLaYdT_pHR",
        "colab_type": "code",
        "outputId": "1cc92f92-8299-4a08-d556-0a16f0b11c2c",
        "colab": {
          "base_uri": "https://localhost:8080/",
          "height": 158
        }
      },
      "cell_type": "code",
      "source": [
        "!apt install graphviz\n",
        "!pip install pydot pydot-ng"
      ],
      "execution_count": 0,
      "outputs": [
        {
          "output_type": "stream",
          "text": [
            "Reading package lists... Done\n",
            "Building dependency tree       \n",
            "Reading state information... Done\n",
            "graphviz is already the newest version (2.40.1-2).\n",
            "0 upgraded, 0 newly installed, 0 to remove and 8 not upgraded.\n",
            "Requirement already satisfied: pydot in /usr/local/lib/python3.6/dist-packages (1.3.0)\n",
            "Requirement already satisfied: pydot-ng in /usr/local/lib/python3.6/dist-packages (2.0.0)\n",
            "Requirement already satisfied: pyparsing>=2.1.4 in /usr/local/lib/python3.6/dist-packages (from pydot) (2.3.1)\n"
          ],
          "name": "stdout"
        }
      ]
    },
    {
      "metadata": {
        "id": "8_xssrGU_rAv",
        "colab_type": "code",
        "colab": {}
      },
      "cell_type": "code",
      "source": [
        "from keras.utils import plot_model"
      ],
      "execution_count": 0,
      "outputs": []
    },
    {
      "metadata": {
        "id": "mjqOGtPL_tq2",
        "colab_type": "code",
        "colab": {}
      },
      "cell_type": "code",
      "source": [
        "plot_model(model4, show_shapes=True, show_layer_names=True, to_file='model.png')\n",
        "from IPython.display import Image"
      ],
      "execution_count": 0,
      "outputs": []
    },
    {
      "metadata": {
        "id": "g-ED2LdF_yvT",
        "colab_type": "code",
        "outputId": "72ce39d3-d07c-4c17-8b11-bc3e99a5d480",
        "colab": {
          "base_uri": "https://localhost:8080/",
          "height": 662
        }
      },
      "cell_type": "code",
      "source": [
        "Image(retina=True, filename='model.png')"
      ],
      "execution_count": 0,
      "outputs": [
        {
          "output_type": "execute_result",
          "data": {
            "image/png": "[encoded data removed]",
            "text/plain": [
              "<IPython.core.display.Image object>"
            ]
          },
          "metadata": {
            "tags": [],
            "image/png": {
              "width": 512,
              "height": 645
            }
          },
          "execution_count": 213
        }
      ]
    },
    {
      "metadata": {
        "id": "YMfxNSiDMiuv",
        "colab_type": "code",
        "outputId": "5905a494-8a3f-48bf-ff1d-6b3136bc5776",
        "colab": {
          "base_uri": "https://localhost:8080/",
          "height": 212
        }
      },
      "cell_type": "code",
      "source": [
        "history4 = model4.fit([encoder_input_data, decoder_input_data], decoder_target_data,\n",
        "          batch_size=32,\n",
        "          epochs=5,\n",
        "          validation_split=0.05)"
      ],
      "execution_count": 0,
      "outputs": [
        {
          "output_type": "stream",
          "text": [
            "Train on 47500 samples, validate on 2500 samples\n",
            "Epoch 1/5\n",
            "47500/47500 [==============================] - 99s 2ms/step - loss: 0.7249 - acc: 0.8505 - val_loss: 0.6900 - val_acc: 0.8353\n",
            "Epoch 2/5\n",
            "47500/47500 [==============================] - 89s 2ms/step - loss: 0.4319 - acc: 0.8908 - val_loss: 0.5942 - val_acc: 0.8504\n",
            "Epoch 3/5\n",
            "47500/47500 [==============================] - 89s 2ms/step - loss: 0.3770 - acc: 0.9003 - val_loss: 0.5469 - val_acc: 0.8600\n",
            "Epoch 4/5\n",
            "47500/47500 [==============================] - 89s 2ms/step - loss: 0.3447 - acc: 0.9068 - val_loss: 0.5272 - val_acc: 0.8640\n",
            "Epoch 5/5\n",
            "47500/47500 [==============================] - 89s 2ms/step - loss: 0.3211 - acc: 0.9112 - val_loss: 0.5016 - val_acc: 0.8687\n"
          ],
          "name": "stdout"
        }
      ]
    },
    {
      "metadata": {
        "id": "ULG8Skfl_n09",
        "colab_type": "code",
        "outputId": "b3f175a0-945a-4c3c-9986-42caf5e71c33",
        "colab": {
          "base_uri": "https://localhost:8080/",
          "height": 386
        }
      },
      "cell_type": "code",
      "source": [
        "history_dict = history4.history\n",
        "loss_values = history_dict['loss']\n",
        "val_loss_values = history_dict['val_loss']\n",
        "acc_values = history_dict['acc']\n",
        "val_acc_values = history_dict['val_acc']\n",
        "epochs = range(1, len(val_loss_values) + 1)\n",
        "import matplotlib.pyplot as plt\n",
        "%matplotlib inline \n",
        "\n",
        "plt.subplot(211)\n",
        "plt.plot(epochs, history4.history['loss'], 'ro', label='Training loss')\n",
        "plt.plot(epochs, val_loss_values, 'b', label='Test loss')\n",
        "plt.title('Training and test loss')\n",
        "plt.xlabel('Epochs')\n",
        "plt.ylabel('Loss')\n",
        "plt.legend()\n",
        "plt.grid('off')\n",
        "plt.show()\n",
        "\n",
        "plt.subplot(212)\n",
        "plt.plot(epochs, history4.history['acc'], 'ro', label='Training accuracy')\n",
        "plt.plot(epochs, val_acc_values, 'b', label='Test accuracy')\n",
        "plt.title('Training and test accuracy')\n",
        "plt.xlabel('Epochs')\n",
        "plt.ylabel('Accuracy')\n",
        "plt.gca().set_yticklabels(['{:.0f}%'.format(x*100) for x in plt.gca().get_yticks()]) \n",
        "plt.legend()\n",
        "plt.grid('off')\n",
        "plt.show()"
      ],
      "execution_count": 0,
      "outputs": [
        {
          "output_type": "stream",
          "text": [
            "/usr/local/lib/python3.6/dist-packages/matplotlib/cbook/__init__.py:424: MatplotlibDeprecationWarning: \n",
            "Passing one of 'on', 'true', 'off', 'false' as a boolean is deprecated; use an actual boolean (True/False) instead.\n",
            "  warn_deprecated(\"2.2\", \"Passing one of 'on', 'true', 'off', 'false' as a \"\n"
          ],
          "name": "stderr"
        },
        {
          "output_type": "display_data",
          "data": {
            "image/png": "[encoded data removed]",
            "text/plain": [
              "<Figure size 432x288 with 1 Axes>"
            ]
          },
          "metadata": {
            "tags": []
          }
        },
        {
          "output_type": "display_data",
          "data": {
            "image/png": "[encoded data removed]",
            "text/plain": [
              "<Figure size 432x288 with 1 Axes>"
            ]
          },
          "metadata": {
            "tags": []
          }
        }
      ]
    },
    {
      "metadata": {
        "id": "a4uF1VoaFS5A",
        "colab_type": "code",
        "outputId": "bb19577f-fd4c-4c37-c4f0-cb0d7590474c",
        "colab": {
          "base_uri": "https://localhost:8080/",
          "height": 4267
        }
      },
      "cell_type": "code",
      "source": [
        "decoder_input_data_pred = np.zeros(\n",
        "    (len(lines.fr), fr_max_length),\n",
        "    dtype='float32')\n",
        "\n",
        "final_pred_att = []\n",
        "for i in range(2500):\n",
        "  if(i%10==0):\n",
        "    print(i)\n",
        "  word = 284\n",
        "  for j in range(17):\n",
        "    decoder_input_data_pred[(47500+i), j] = word\n",
        "    pred = model4.predict([encoder_input_data[(47500+i)].reshape(1,8),decoder_input_data_pred[47500+i].reshape(1,17)])\n",
        "    t = np.argmax(pred[0][j])\n",
        "    word = t\n",
        "    if word==89:\n",
        "      break\n",
        "  final_pred_att.append(list(decoder_input_data_pred[47500+i]))\t"
      ],
      "execution_count": 0,
      "outputs": [
        {
          "output_type": "stream",
          "text": [
            "0\n",
            "10\n",
            "20\n",
            "30\n",
            "40\n",
            "50\n",
            "60\n",
            "70\n",
            "80\n",
            "90\n",
            "100\n",
            "110\n",
            "120\n",
            "130\n",
            "140\n",
            "150\n",
            "160\n",
            "170\n",
            "180\n",
            "190\n",
            "200\n",
            "210\n",
            "220\n",
            "230\n",
            "240\n",
            "250\n",
            "260\n",
            "270\n",
            "280\n",
            "290\n",
            "300\n",
            "310\n",
            "320\n",
            "330\n",
            "340\n",
            "350\n",
            "360\n",
            "370\n",
            "380\n",
            "390\n",
            "400\n",
            "410\n",
            "420\n",
            "430\n",
            "440\n",
            "450\n",
            "460\n",
            "470\n",
            "480\n",
            "490\n",
            "500\n",
            "510\n",
            "520\n",
            "530\n",
            "540\n",
            "550\n",
            "560\n",
            "570\n",
            "580\n",
            "590\n",
            "600\n",
            "610\n",
            "620\n",
            "630\n",
            "640\n",
            "650\n",
            "660\n",
            "670\n",
            "680\n",
            "690\n",
            "700\n",
            "710\n",
            "720\n",
            "730\n",
            "740\n",
            "750\n",
            "760\n",
            "770\n",
            "780\n",
            "790\n",
            "800\n",
            "810\n",
            "820\n",
            "830\n",
            "840\n",
            "850\n",
            "860\n",
            "870\n",
            "880\n",
            "890\n",
            "900\n",
            "910\n",
            "920\n",
            "930\n",
            "940\n",
            "950\n",
            "960\n",
            "970\n",
            "980\n",
            "990\n",
            "1000\n",
            "1010\n",
            "1020\n",
            "1030\n",
            "1040\n",
            "1050\n",
            "1060\n",
            "1070\n",
            "1080\n",
            "1090\n",
            "1100\n",
            "1110\n",
            "1120\n",
            "1130\n",
            "1140\n",
            "1150\n",
            "1160\n",
            "1170\n",
            "1180\n",
            "1190\n",
            "1200\n",
            "1210\n",
            "1220\n",
            "1230\n",
            "1240\n",
            "1250\n",
            "1260\n",
            "1270\n",
            "1280\n",
            "1290\n",
            "1300\n",
            "1310\n",
            "1320\n",
            "1330\n",
            "1340\n",
            "1350\n",
            "1360\n",
            "1370\n",
            "1380\n",
            "1390\n",
            "1400\n",
            "1410\n",
            "1420\n",
            "1430\n",
            "1440\n",
            "1450\n",
            "1460\n",
            "1470\n",
            "1480\n",
            "1490\n",
            "1500\n",
            "1510\n",
            "1520\n",
            "1530\n",
            "1540\n",
            "1550\n",
            "1560\n",
            "1570\n",
            "1580\n",
            "1590\n",
            "1600\n",
            "1610\n",
            "1620\n",
            "1630\n",
            "1640\n",
            "1650\n",
            "1660\n",
            "1670\n",
            "1680\n",
            "1690\n",
            "1700\n",
            "1710\n",
            "1720\n",
            "1730\n",
            "1740\n",
            "1750\n",
            "1760\n",
            "1770\n",
            "1780\n",
            "1790\n",
            "1800\n",
            "1810\n",
            "1820\n",
            "1830\n",
            "1840\n",
            "1850\n",
            "1860\n",
            "1870\n",
            "1880\n",
            "1890\n",
            "1900\n",
            "1910\n",
            "1920\n",
            "1930\n",
            "1940\n",
            "1950\n",
            "1960\n",
            "1970\n",
            "1980\n",
            "1990\n",
            "2000\n",
            "2010\n",
            "2020\n",
            "2030\n",
            "2040\n",
            "2050\n",
            "2060\n",
            "2070\n",
            "2080\n",
            "2090\n",
            "2100\n",
            "2110\n",
            "2120\n",
            "2130\n",
            "2140\n",
            "2150\n",
            "2160\n",
            "2170\n",
            "2180\n",
            "2190\n",
            "2200\n",
            "2210\n",
            "2220\n",
            "2230\n",
            "2240\n",
            "2250\n",
            "2260\n",
            "2270\n",
            "2280\n",
            "2290\n",
            "2300\n",
            "2310\n",
            "2320\n",
            "2330\n",
            "2340\n",
            "2350\n",
            "2360\n",
            "2370\n",
            "2380\n",
            "2390\n",
            "2400\n",
            "2410\n",
            "2420\n",
            "2430\n",
            "2440\n",
            "2450\n",
            "2460\n",
            "2470\n",
            "2480\n",
            "2490\n"
          ],
          "name": "stdout"
        }
      ]
    },
    {
      "metadata": {
        "id": "a9etONejFS0L",
        "colab_type": "code",
        "outputId": "a7612169-c1da-44a6-b2ad-85718d1ba45d",
        "colab": {
          "base_uri": "https://localhost:8080/",
          "height": 34
        }
      },
      "cell_type": "code",
      "source": [
        "final_pred2_att = np.array(final_pred_att)\n",
        "count = 0\n",
        "correct_count = 0\n",
        "\n",
        "for i in range(2500):\n",
        "  correct_count += np.sum((decoder_input_data[47500+i]==final_pred2_att[i]) & (decoder_input_data[47500+i]!=89))\n",
        "  count += np.sum(decoder_input_data[47500+i]!=89)\n",
        "correct_count/count  "
      ],
      "execution_count": 0,
      "outputs": [
        {
          "output_type": "execute_result",
          "data": {
            "text/plain": [
              "0.5206580434509607"
            ]
          },
          "metadata": {
            "tags": []
          },
          "execution_count": 209
        }
      ]
    },
    {
      "metadata": {
        "id": "PLXsGitg1dfx",
        "colab_type": "code",
        "colab": {}
      },
      "cell_type": "code",
      "source": [
        "k = -2400"
      ],
      "execution_count": 0,
      "outputs": []
    },
    {
      "metadata": {
        "id": "9MErX47CMic9",
        "colab_type": "code",
        "colab": {}
      },
      "cell_type": "code",
      "source": [
        "t = model4.predict([encoder_input_data[k].reshape(1,encoder_input_data.shape[1]),decoder_input_data[k].reshape(1,decoder_input_data.shape[1])]).reshape(decoder_input_data.shape[1], num_decoder_tokens+1)"
      ],
      "execution_count": 0,
      "outputs": []
    },
    {
      "metadata": {
        "id": "L-m9Oo_t1pdr",
        "colab_type": "code",
        "outputId": "b7f8080f-a7f1-42da-dc86-cfa9bd1cd46b",
        "colab": {
          "base_uri": "https://localhost:8080/",
          "height": 85
        }
      },
      "cell_type": "code",
      "source": [
        "for i in range(len(encoder_input_data[k])):\n",
        "  if int(encoder_input_data[k][i])!=0:\n",
        "    print(list(input_token_index.keys())[int(encoder_input_data[k][i]-1)])"
      ],
      "execution_count": 0,
      "outputs": [
        {
          "output_type": "stream",
          "text": [
            "i\n",
            "feel\n",
            "like\n",
            "unk\n"
          ],
          "name": "stdout"
        }
      ]
    },
    {
      "metadata": {
        "id": "GolIEG_D1pnz",
        "colab_type": "code",
        "outputId": "3d070ab1-9326-4c37-bd3d-73eb560de529",
        "colab": {
          "base_uri": "https://localhost:8080/",
          "height": 136
        }
      },
      "cell_type": "code",
      "source": [
        "t2 = np.argmax(t,axis=1)\n",
        "for i in range(len(t2)):\n",
        "  if int(t2[i])!=0:\n",
        "    print(list(target_token_index.keys())[int(t2[i]-1)])"
      ],
      "execution_count": 0,
      "outputs": [
        {
          "output_type": "stream",
          "text": [
            "je\n",
            "unk\n",
            "de\n",
            "unk\n",
            "la\n",
            "unk\n",
            "end\n"
          ],
          "name": "stdout"
        }
      ]
    },
    {
      "metadata": {
        "id": "HH8mQ11E1v2Z",
        "colab_type": "code",
        "outputId": "d22c9380-d685-4658-af37-a260ae9a33c4",
        "colab": {
          "base_uri": "https://localhost:8080/",
          "height": 153
        }
      },
      "cell_type": "code",
      "source": [
        "t2 = decoder_input_data[k]\n",
        "for i in range(len(t2)):\n",
        "  if int(t2[i])!=0:\n",
        "    print(list(target_token_index.keys())[int(t2[i]-1)])"
      ],
      "execution_count": 0,
      "outputs": [
        {
          "output_type": "stream",
          "text": [
            "start\n",
            "jai\n",
            "unk\n",
            "de\n",
            "faire\n",
            "la\n",
            "unk\n",
            "end\n"
          ],
          "name": "stdout"
        }
      ]
    },
    {
      "metadata": {
        "id": "srk85_SD1v_l",
        "colab_type": "code",
        "colab": {}
      },
      "cell_type": "code",
      "source": [
        ""
      ],
      "execution_count": 0,
      "outputs": []
    },
    {
      "metadata": {
        "id": "ZopaxDTgMiaT",
        "colab_type": "code",
        "outputId": "dbfef739-b803-4e4d-933d-8f5c92b4f85b",
        "colab": {
          "base_uri": "https://localhost:8080/",
          "height": 68
        }
      },
      "cell_type": "code",
      "source": [
        "decoder_input_data[0]"
      ],
      "execution_count": 0,
      "outputs": [
        {
          "output_type": "execute_result",
          "data": {
            "text/plain": [
              "array([1.00e+00, 4.28e+03, 2.00e+00, 0.00e+00, 0.00e+00, 0.00e+00,\n",
              "       0.00e+00, 0.00e+00, 0.00e+00, 0.00e+00, 0.00e+00, 0.00e+00],\n",
              "      dtype=float32)"
            ]
          },
          "metadata": {
            "tags": []
          },
          "execution_count": 276
        }
      ]
    },
    {
      "metadata": {
        "id": "j0ECMeCYMiXo",
        "colab_type": "code",
        "outputId": "c51f22ce-6032-41b0-9ff1-95bab86891db",
        "colab": {
          "base_uri": "https://localhost:8080/",
          "height": 51
        }
      },
      "cell_type": "code",
      "source": [
        "np.argmax(t,axis=1)"
      ],
      "execution_count": 0,
      "outputs": [
        {
          "output_type": "execute_result",
          "data": {
            "text/plain": [
              "array([4240, 4270,    0,    0,    0,    0,    0,    0,    0,    0,    0,\n",
              "          0])"
            ]
          },
          "metadata": {
            "tags": []
          },
          "execution_count": 277
        }
      ]
    },
    {
      "metadata": {
        "id": "uISNAMtQMiT5",
        "colab_type": "code",
        "outputId": "9afdaed5-507f-408a-8da2-2085a24640da",
        "colab": {
          "base_uri": "https://localhost:8080/",
          "height": 34
        }
      },
      "cell_type": "code",
      "source": [
        "list(target_token_index.keys())[4269]"
      ],
      "execution_count": 0,
      "outputs": [
        {
          "output_type": "execute_result",
          "data": {
            "text/plain": [
              "'un'"
            ]
          },
          "metadata": {
            "tags": []
          },
          "execution_count": 279
        }
      ]
    },
    {
      "metadata": {
        "id": "ShPdswi8rl7B",
        "colab_type": "code",
        "outputId": "d093c588-750c-40f9-c981-d24baf3c7022",
        "colab": {
          "base_uri": "https://localhost:8080/",
          "height": 34
        }
      },
      "cell_type": "code",
      "source": [
        "encoder_input_data[0]"
      ],
      "execution_count": 0,
      "outputs": [
        {
          "output_type": "execute_result",
          "data": {
            "text/plain": [
              "array([796.,   0.,   0.,   0.,   0.], dtype=float32)"
            ]
          },
          "metadata": {
            "tags": []
          },
          "execution_count": 280
        }
      ]
    },
    {
      "metadata": {
        "id": "8tNjQtq1roKl",
        "colab_type": "code",
        "outputId": "c9ea6709-354c-49d0-d73b-bf2d9db4be88",
        "colab": {
          "base_uri": "https://localhost:8080/",
          "height": 34
        }
      },
      "cell_type": "code",
      "source": [
        "list(input_token_index.keys())[795]"
      ],
      "execution_count": 0,
      "outputs": [
        {
          "output_type": "execute_result",
          "data": {
            "text/plain": [
              "'go'"
            ]
          },
          "metadata": {
            "tags": []
          },
          "execution_count": 281
        }
      ]
    },
    {
      "metadata": {
        "id": "kAz-IQBi4W1g",
        "colab_type": "code",
        "colab": {}
      },
      "cell_type": "code",
      "source": [
        ""
      ],
      "execution_count": 0,
      "outputs": []
    },
    {
      "metadata": {
        "id": "wmT2UtIzN4L6",
        "colab_type": "code",
        "outputId": "0b6b89d9-8a46-4776-df29-b8dfbe2dedcc",
        "colab": {
          "base_uri": "https://localhost:8080/",
          "height": 197
        }
      },
      "cell_type": "code",
      "source": [
        "lines= pd.read_table('english to french.txt', names=['eng', 'fr'])\n",
        "lines2 = lines.copy()\n",
        "lines = lines.loc[:9999]\n",
        "def preprocess(text):\n",
        "    text=text.lower()\n",
        "    text=re.sub('[^a-z]+',' ',text)\n",
        "    words = text.split()\n",
        "    words3=' '.join(words)\n",
        "    return(words3)\n",
        "\t\n",
        "lines['eng']=lines['eng'].apply(preprocess)\n",
        "lines['fr']=lines['fr'].apply(preprocess)\n",
        "\n",
        "lines['fr'] = '- ' + lines['fr'] + ' _'\n",
        "lines.head()"
      ],
      "execution_count": 0,
      "outputs": [
        {
          "output_type": "execute_result",
          "data": {
            "text/html": [
              "<div>\n",
              "<style scoped>\n",
              "    .dataframe tbody tr th:only-of-type {\n",
              "        vertical-align: middle;\n",
              "    }\n",
              "\n",
              "    .dataframe tbody tr th {\n",
              "        vertical-align: top;\n",
              "    }\n",
              "\n",
              "    .dataframe thead th {\n",
              "        text-align: right;\n",
              "    }\n",
              "</style>\n",
              "<table border=\"1\" class=\"dataframe\">\n",
              "  <thead>\n",
              "    <tr style=\"text-align: right;\">\n",
              "      <th></th>\n",
              "      <th>eng</th>\n",
              "      <th>fr</th>\n",
              "    </tr>\n",
              "  </thead>\n",
              "  <tbody>\n",
              "    <tr>\n",
              "      <th>0</th>\n",
              "      <td>go</td>\n",
              "      <td>- va _</td>\n",
              "    </tr>\n",
              "    <tr>\n",
              "      <th>1</th>\n",
              "      <td>run</td>\n",
              "      <td>- cours _</td>\n",
              "    </tr>\n",
              "    <tr>\n",
              "      <th>2</th>\n",
              "      <td>run</td>\n",
              "      <td>- courez _</td>\n",
              "    </tr>\n",
              "    <tr>\n",
              "      <th>3</th>\n",
              "      <td>wow</td>\n",
              "      <td>- a alors _</td>\n",
              "    </tr>\n",
              "    <tr>\n",
              "      <th>4</th>\n",
              "      <td>fire</td>\n",
              "      <td>- au feu _</td>\n",
              "    </tr>\n",
              "  </tbody>\n",
              "</table>\n",
              "</div>"
            ],
            "text/plain": [
              "    eng           fr\n",
              "0    go       - va _\n",
              "1   run    - cours _\n",
              "2   run   - courez _\n",
              "3   wow  - a alors _\n",
              "4  fire   - au feu _"
            ]
          },
          "metadata": {
            "tags": []
          },
          "execution_count": 3
        }
      ]
    },
    {
      "metadata": {
        "id": "YfzzkfEeN5BT",
        "colab_type": "code",
        "colab": {}
      },
      "cell_type": "code",
      "source": [
        "eng_sent = []\n",
        "fra_sent = []\n",
        "eng_chars = set()\n",
        "fra_chars = set()\n",
        "nb_samples = 10000\n",
        "\n",
        "# Process english and french sentences\n",
        "for line in range(nb_samples):\n",
        "    \n",
        "    eng_line = lines.loc[line]['eng']\n",
        "    \n",
        "    # Append '\\t' for start of the sentence and '\\n' to signify end of the sentence\n",
        "    fra_line = lines.loc[line]['fr']\n",
        "    eng_sent.append(eng_line)\n",
        "    fra_sent.append(fra_line)\n",
        "    \n",
        "    for ch in eng_line.split():\n",
        "        if (ch not in eng_chars):\n",
        "            eng_chars.add(ch)\n",
        "            \n",
        "    for ch in fra_line.split():\n",
        "        if (ch not in fra_chars):\n",
        "            fra_chars.add(ch)"
      ],
      "execution_count": 0,
      "outputs": []
    },
    {
      "metadata": {
        "id": "S_z41bNwOfs0",
        "colab_type": "code",
        "colab": {}
      },
      "cell_type": "code",
      "source": [
        "fra_chars = sorted(list(fra_chars))\n",
        "eng_chars = sorted(list(eng_chars))"
      ],
      "execution_count": 0,
      "outputs": []
    },
    {
      "metadata": {
        "id": "aVJXUOdJLKnm",
        "colab_type": "code",
        "outputId": "e29a3604-f1ad-4486-814e-909f21d852a6",
        "colab": {
          "base_uri": "https://localhost:8080/",
          "height": 34
        }
      },
      "cell_type": "code",
      "source": [
        "len(fra_chars)"
      ],
      "execution_count": 0,
      "outputs": [
        {
          "output_type": "execute_result",
          "data": {
            "text/plain": [
              "3576"
            ]
          },
          "metadata": {
            "tags": []
          },
          "execution_count": 6
        }
      ]
    },
    {
      "metadata": {
        "id": "XlkkETqfF6Y7",
        "colab_type": "code",
        "outputId": "c8128f3b-f691-4980-da43-282b2863da1f",
        "colab": {
          "base_uri": "https://localhost:8080/",
          "height": 34
        }
      },
      "cell_type": "code",
      "source": [
        "len(eng_chars)"
      ],
      "execution_count": 0,
      "outputs": [
        {
          "output_type": "execute_result",
          "data": {
            "text/plain": [
              "2113"
            ]
          },
          "metadata": {
            "tags": []
          },
          "execution_count": 7
        }
      ]
    },
    {
      "metadata": {
        "id": "GISnp1lxOfva",
        "colab_type": "code",
        "colab": {}
      },
      "cell_type": "code",
      "source": [
        "# dictionary to index each english character - key is index and value is english character\n",
        "eng_index_to_char_dict = {}\n",
        "\n",
        "# dictionary to get english character given its index - key is english character and value is index\n",
        "eng_char_to_index_dict = {}\n",
        "\n",
        "for k, v in enumerate(eng_chars):\n",
        "    eng_index_to_char_dict[k] = v\n",
        "    eng_char_to_index_dict[v] = k"
      ],
      "execution_count": 0,
      "outputs": []
    },
    {
      "metadata": {
        "id": "h2H4LKIYOi_w",
        "colab_type": "code",
        "colab": {}
      },
      "cell_type": "code",
      "source": [
        "# dictionary to index each french character - key is index and value is french character\n",
        "fra_index_to_char_dict = {}\n",
        "\n",
        "# dictionary to get french character given its index - key is french character and value is index\n",
        "fra_char_to_index_dict = {}\n",
        "for k, v in enumerate(fra_chars):\n",
        "    fra_index_to_char_dict[k] = v\n",
        "    fra_char_to_index_dict[v] = k"
      ],
      "execution_count": 0,
      "outputs": []
    },
    {
      "metadata": {
        "id": "9ldHWFdzOlHM",
        "colab_type": "code",
        "colab": {}
      },
      "cell_type": "code",
      "source": [
        "a=[]\n",
        "b = []\n",
        "for i in range(nb_samples):\n",
        "  x = lines.loc[i]['eng'].split()\n",
        "  a.append(len(x))\n",
        "  y = lines.loc[i]['fr'].split()\n",
        "  b.append(len(y))"
      ],
      "execution_count": 0,
      "outputs": []
    },
    {
      "metadata": {
        "id": "4Yi5emIPA8JY",
        "colab_type": "code",
        "outputId": "41415621-ea78-4bbe-b773-be6a4dd49db6",
        "colab": {
          "base_uri": "https://localhost:8080/",
          "height": 34
        }
      },
      "cell_type": "code",
      "source": [
        "print(np.max(a),np.max(b))"
      ],
      "execution_count": 0,
      "outputs": [
        {
          "output_type": "stream",
          "text": [
            "5 15\n"
          ],
          "name": "stdout"
        }
      ]
    },
    {
      "metadata": {
        "id": "p2V2_IKgHsrY",
        "colab_type": "code",
        "outputId": "3698e8ff-5860-4a06-bb09-6edf9748d2e4",
        "colab": {
          "base_uri": "https://localhost:8080/",
          "height": 34
        }
      },
      "cell_type": "code",
      "source": [
        "lines.shape"
      ],
      "execution_count": 0,
      "outputs": [
        {
          "output_type": "execute_result",
          "data": {
            "text/plain": [
              "(10000, 2)"
            ]
          },
          "metadata": {
            "tags": []
          },
          "execution_count": 12
        }
      ]
    },
    {
      "metadata": {
        "id": "GpmUi-5w_utH",
        "colab_type": "code",
        "colab": {}
      },
      "cell_type": "code",
      "source": [
        "from collections import Counter\n",
        "counts = Counter()\n",
        "for i,sentence in enumerate(lines.loc[:nb_samples]['eng']):\n",
        "    counts.update(sentence.split())"
      ],
      "execution_count": 0,
      "outputs": []
    },
    {
      "metadata": {
        "id": "nRYPt7GF_y8j",
        "colab_type": "code",
        "outputId": "9ff45913-23d7-4c33-e4b8-d54db152e447",
        "colab": {
          "base_uri": "https://localhost:8080/",
          "height": 34
        }
      },
      "cell_type": "code",
      "source": [
        "words = sorted(counts, key=counts.get, reverse=True)\n",
        "words[0:10]"
      ],
      "execution_count": 0,
      "outputs": [
        {
          "output_type": "execute_result",
          "data": {
            "text/plain": [
              "['i', 'you', 'it', 's', 'm', 're', 'a', 'we', 'he', 'is']"
            ]
          },
          "metadata": {
            "tags": []
          },
          "execution_count": 14
        }
      ]
    },
    {
      "metadata": {
        "id": "gl-UMde7O86W",
        "colab_type": "code",
        "outputId": "e55e9302-eaec-465f-8250-8447ee461f06",
        "colab": {
          "base_uri": "https://localhost:8080/",
          "height": 34
        }
      },
      "cell_type": "code",
      "source": [
        "chars = words\n",
        "nb_chars = len(words)\n",
        "nb_chars"
      ],
      "execution_count": 0,
      "outputs": [
        {
          "output_type": "execute_result",
          "data": {
            "text/plain": [
              "2113"
            ]
          },
          "metadata": {
            "tags": []
          },
          "execution_count": 15
        }
      ]
    },
    {
      "metadata": {
        "id": "hOK3IxEdPb4f",
        "colab_type": "code",
        "colab": {}
      },
      "cell_type": "code",
      "source": [
        "word_to_int = {word: i for i, word in enumerate(words, 1)}\n",
        "int_to_word = {i: word for i, word in enumerate(words, 1)}"
      ],
      "execution_count": 0,
      "outputs": []
    },
    {
      "metadata": {
        "id": "V5JoljuIStP1",
        "colab_type": "code",
        "outputId": "dca83deb-3477-41b9-d78b-b330e69c2ee2",
        "colab": {
          "base_uri": "https://localhost:8080/",
          "height": 34
        }
      },
      "cell_type": "code",
      "source": [
        "len(lines)"
      ],
      "execution_count": 0,
      "outputs": [
        {
          "output_type": "execute_result",
          "data": {
            "text/plain": [
              "10000"
            ]
          },
          "metadata": {
            "tags": []
          },
          "execution_count": 17
        }
      ]
    },
    {
      "metadata": {
        "id": "Iyh90Vkx_5vW",
        "colab_type": "code",
        "colab": {}
      },
      "cell_type": "code",
      "source": [
        "mapped_reviews = []\n",
        "for review in lines.loc[:nb_samples]['eng']:\n",
        "    mapped_reviews.append([word_to_int[word] for word in review.split()])"
      ],
      "execution_count": 0,
      "outputs": []
    },
    {
      "metadata": {
        "id": "GKpWM2vR_5yH",
        "colab_type": "code",
        "colab": {}
      },
      "cell_type": "code",
      "source": [
        "from collections import Counter\n",
        "counts = Counter()\n",
        "for i,sentence in enumerate(lines.loc[:nb_samples]['fr']):\n",
        "    counts.update(sentence.split())"
      ],
      "execution_count": 0,
      "outputs": []
    },
    {
      "metadata": {
        "id": "ttOThchs_507",
        "colab_type": "code",
        "outputId": "0e487829-852e-46bc-d769-c82ecc19da87",
        "colab": {
          "base_uri": "https://localhost:8080/",
          "height": 34
        }
      },
      "cell_type": "code",
      "source": [
        "fr_words = sorted(counts, key=counts.get, reverse=True)\n",
        "fr_words[0:10]"
      ],
      "execution_count": 0,
      "outputs": [
        {
          "output_type": "execute_result",
          "data": {
            "text/plain": [
              "['-', '_', 'je', 'est', 'vous', 'j', 'il', 'suis', 'nous', 'ai']"
            ]
          },
          "metadata": {
            "tags": []
          },
          "execution_count": 20
        }
      ]
    },
    {
      "metadata": {
        "id": "1EK7GV-xANOt",
        "colab_type": "code",
        "outputId": "f3009d5d-32eb-49b2-d0c8-d0f8fb3f6748",
        "colab": {
          "base_uri": "https://localhost:8080/",
          "height": 34
        }
      },
      "cell_type": "code",
      "source": [
        "fr_chars = fr_words\n",
        "fr_nb_chars = len(fr_words)\n",
        "fr_nb_chars"
      ],
      "execution_count": 0,
      "outputs": [
        {
          "output_type": "execute_result",
          "data": {
            "text/plain": [
              "3576"
            ]
          },
          "metadata": {
            "tags": []
          },
          "execution_count": 21
        }
      ]
    },
    {
      "metadata": {
        "id": "5n1vV8Y-ANRe",
        "colab_type": "code",
        "colab": {}
      },
      "cell_type": "code",
      "source": [
        "fr_word_to_int = {word: i for i, word in enumerate(fr_words, 1)}\n",
        "fr_int_to_word = {i: word for i, word in enumerate(fr_words, 1)}"
      ],
      "execution_count": 0,
      "outputs": []
    },
    {
      "metadata": {
        "id": "qbiWkpo9ANUg",
        "colab_type": "code",
        "colab": {}
      },
      "cell_type": "code",
      "source": [
        "mapped_targets = []\n",
        "for review in lines.loc[:nb_samples]['fr']:\n",
        "    mapped_targets.append([fr_word_to_int[word] for word in review.split()])"
      ],
      "execution_count": 0,
      "outputs": []
    },
    {
      "metadata": {
        "id": "CnmNbC9bKZOD",
        "colab_type": "code",
        "outputId": "b6f8323b-ca12-4815-a362-016c6731ff6c",
        "colab": {
          "base_uri": "https://localhost:8080/",
          "height": 34
        }
      },
      "cell_type": "code",
      "source": [
        "mapped_targets[0]"
      ],
      "execution_count": 0,
      "outputs": [
        {
          "output_type": "execute_result",
          "data": {
            "text/plain": [
              "[1, 55, 2]"
            ]
          },
          "metadata": {
            "tags": []
          },
          "execution_count": 24
        }
      ]
    },
    {
      "metadata": {
        "id": "ngYuUZxXrb57",
        "colab_type": "code",
        "outputId": "0fee679a-0159-457a-bc1d-9c3abfb1f2c6",
        "colab": {
          "base_uri": "https://localhost:8080/",
          "height": 70
        }
      },
      "cell_type": "code",
      "source": [
        "lines.loc[0]"
      ],
      "execution_count": 0,
      "outputs": [
        {
          "output_type": "execute_result",
          "data": {
            "text/plain": [
              "eng        go\n",
              "fr     - va _\n",
              "Name: 0, dtype: object"
            ]
          },
          "metadata": {
            "tags": []
          },
          "execution_count": 25
        }
      ]
    },
    {
      "metadata": {
        "id": "_7XfZj-muO_i",
        "colab_type": "code",
        "outputId": "a063dd19-a4a2-43b3-9f47-15cdf90f85de",
        "colab": {
          "base_uri": "https://localhost:8080/",
          "height": 34
        }
      },
      "cell_type": "code",
      "source": [
        "mapped_reviews[0]"
      ],
      "execution_count": 0,
      "outputs": [
        {
          "output_type": "execute_result",
          "data": {
            "text/plain": [
              "[16]"
            ]
          },
          "metadata": {
            "tags": []
          },
          "execution_count": 38
        }
      ]
    },
    {
      "metadata": {
        "id": "hp5v0AmiuO8X",
        "colab_type": "code",
        "colab": {}
      },
      "cell_type": "code",
      "source": [
        ""
      ],
      "execution_count": 0,
      "outputs": []
    },
    {
      "metadata": {
        "id": "8VoYapM5uO5Z",
        "colab_type": "code",
        "colab": {}
      },
      "cell_type": "code",
      "source": [
        ""
      ],
      "execution_count": 0,
      "outputs": []
    },
    {
      "metadata": {
        "id": "iDtKUOH3IzXH",
        "colab_type": "code",
        "colab": {}
      },
      "cell_type": "code",
      "source": [
        "max_len_eng_sent = 15\n",
        "max_len_fra_sent = 15\n",
        "\n",
        "tokenized_eng_sentences = np.zeros(shape = (nb_samples,max_len_eng_sent,len(eng_chars)), dtype='float32')\n",
        "tokenized_fra_sentences = np.zeros(shape = (nb_samples,max_len_fra_sent,len(fra_chars)), dtype='float32')\n",
        "target_data = np.zeros((nb_samples, max_len_fra_sent, len(fra_chars)),dtype='float32')"
      ],
      "execution_count": 0,
      "outputs": []
    },
    {
      "metadata": {
        "id": "0GRwzuVwIzaB",
        "colab_type": "code",
        "colab": {}
      },
      "cell_type": "code",
      "source": [
        "for i in range(nb_samples):\n",
        "    for k,ch in enumerate(eng_sent[i].split()):\n",
        "        tokenized_eng_sentences[i,k,word_to_int[ch]-1] = 1\n",
        "        \n",
        "    for k,ch in enumerate(fra_sent[i].split()):\n",
        "        tokenized_fra_sentences[i,k,fr_word_to_int[ch]-1] = 1\n",
        "\n",
        "        # decoder_target_data will be ahead by one timestep and will not include the start character.\n",
        "        if k > 0:\n",
        "            target_data[i,k-1,fr_word_to_int[ch]-1] = 1"
      ],
      "execution_count": 0,
      "outputs": []
    },
    {
      "metadata": {
        "id": "rme-8JkTKiFu",
        "colab_type": "code",
        "colab": {}
      },
      "cell_type": "code",
      "source": [
        "from keras.preprocessing.sequence import pad_sequences\n",
        "X = pad_sequences(maxlen=5, sequences=mapped_reviews, padding=\"post\", value=0)\n",
        "y = pad_sequences(maxlen=15, sequences=mapped_targets, padding=\"post\", value=0)"
      ],
      "execution_count": 0,
      "outputs": []
    },
    {
      "metadata": {
        "id": "28bah1mwJKTA",
        "colab_type": "code",
        "outputId": "b7d9399f-d337-44ee-c50c-397662727a49",
        "colab": {
          "base_uri": "https://localhost:8080/",
          "height": 34
        }
      },
      "cell_type": "code",
      "source": [
        "X.shape"
      ],
      "execution_count": 0,
      "outputs": [
        {
          "output_type": "execute_result",
          "data": {
            "text/plain": [
              "(10000, 5)"
            ]
          },
          "metadata": {
            "tags": []
          },
          "execution_count": 30
        }
      ]
    },
    {
      "metadata": {
        "id": "i2qqQS5IK0e3",
        "colab_type": "code",
        "outputId": "effc657b-c719-443c-c71b-b520214f593f",
        "colab": {
          "base_uri": "https://localhost:8080/",
          "height": 34
        }
      },
      "cell_type": "code",
      "source": [
        "y.shape"
      ],
      "execution_count": 0,
      "outputs": [
        {
          "output_type": "execute_result",
          "data": {
            "text/plain": [
              "(10000, 15)"
            ]
          },
          "metadata": {
            "tags": []
          },
          "execution_count": 31
        }
      ]
    },
    {
      "metadata": {
        "id": "HkrdhGL-dL6H",
        "colab_type": "code",
        "outputId": "e85620d4-2205-4667-a326-bf00ed810be3",
        "colab": {
          "base_uri": "https://localhost:8080/",
          "height": 34
        }
      },
      "cell_type": "code",
      "source": [
        "X[0]"
      ],
      "execution_count": 0,
      "outputs": [
        {
          "output_type": "execute_result",
          "data": {
            "text/plain": [
              "array([16,  0,  0,  0,  0,  0,  0,  0,  0,  0,  0,  0,  0], dtype=int32)"
            ]
          },
          "metadata": {
            "tags": []
          },
          "execution_count": 80
        }
      ]
    },
    {
      "metadata": {
        "id": "8HiSrYDCdNiu",
        "colab_type": "code",
        "outputId": "c5a6fb51-1b91-4546-d873-8fd3dbe7512d",
        "colab": {
          "base_uri": "https://localhost:8080/",
          "height": 34
        }
      },
      "cell_type": "code",
      "source": [
        "int_to_word[16]"
      ],
      "execution_count": 0,
      "outputs": [
        {
          "output_type": "execute_result",
          "data": {
            "text/plain": [
              "'go'"
            ]
          },
          "metadata": {
            "tags": []
          },
          "execution_count": 84
        }
      ]
    },
    {
      "metadata": {
        "id": "cL5zAmtudb1u",
        "colab_type": "code",
        "outputId": "f4d3fbc6-063b-45be-f53c-56a73981bf4b",
        "colab": {
          "base_uri": "https://localhost:8080/",
          "height": 34
        }
      },
      "cell_type": "code",
      "source": [
        "np.argmax(y3[0][0])"
      ],
      "execution_count": 0,
      "outputs": [
        {
          "output_type": "execute_result",
          "data": {
            "text/plain": [
              "53"
            ]
          },
          "metadata": {
            "tags": []
          },
          "execution_count": 92
        }
      ]
    },
    {
      "metadata": {
        "id": "7RdcynUZdl2v",
        "colab_type": "code",
        "outputId": "4adb3f87-bf78-484b-97bb-831fc0dcbecc",
        "colab": {
          "base_uri": "https://localhost:8080/",
          "height": 34
        }
      },
      "cell_type": "code",
      "source": [
        "fr_int_to_word[53]"
      ],
      "execution_count": 0,
      "outputs": [
        {
          "output_type": "execute_result",
          "data": {
            "text/plain": [
              "'va'"
            ]
          },
          "metadata": {
            "tags": []
          },
          "execution_count": 93
        }
      ]
    },
    {
      "metadata": {
        "id": "boWBY2FfdE-y",
        "colab_type": "code",
        "colab": {}
      },
      "cell_type": "code",
      "source": [
        "from keras.models import Model, Input\n",
        "from keras.layers import LSTM, Embedding, Dense, TimeDistributed, Dropout, Bidirectional"
      ],
      "execution_count": 0,
      "outputs": []
    },
    {
      "metadata": {
        "id": "-hfGG_V-c-iQ",
        "colab_type": "code",
        "outputId": "cc1c1752-1329-4180-8ffa-44ed98d727c7",
        "colab": {
          "base_uri": "https://localhost:8080/",
          "height": 318
        }
      },
      "cell_type": "code",
      "source": [
        "input = Input(shape=(5,))\n",
        "model = Embedding(input_dim=2114, output_dim=32, input_length=15)(input)\n",
        "model = Dropout(0.1)(model)\n",
        "model = Bidirectional(LSTM(units=100, return_sequences=True, recurrent_dropout=0.1))(model)\n",
        "out = TimeDistributed(Dense(3575, activation=\"softmax\"))(model)  # softmax output layer\n",
        "model = Model(input, out)\n",
        "model.summary()"
      ],
      "execution_count": 0,
      "outputs": [
        {
          "output_type": "stream",
          "text": [
            "_________________________________________________________________\n",
            "Layer (type)                 Output Shape              Param #   \n",
            "=================================================================\n",
            "input_13 (InputLayer)        (None, 15)                0         \n",
            "_________________________________________________________________\n",
            "embedding_12 (Embedding)     (None, 15, 32)            67648     \n",
            "_________________________________________________________________\n",
            "dropout_12 (Dropout)         (None, 15, 32)            0         \n",
            "_________________________________________________________________\n",
            "bidirectional_10 (Bidirectio (None, 15, 200)           106400    \n",
            "_________________________________________________________________\n",
            "time_distributed_12 (TimeDis (None, 15, 3575)          718575    \n",
            "=================================================================\n",
            "Total params: 892,623\n",
            "Trainable params: 892,623\n",
            "Non-trainable params: 0\n",
            "_________________________________________________________________\n"
          ],
          "name": "stdout"
        }
      ]
    },
    {
      "metadata": {
        "id": "Ibzc7bHKc-fX",
        "colab_type": "code",
        "colab": {}
      },
      "cell_type": "code",
      "source": [
        "model.compile(optimizer=\"adam\", loss=\"categorical_crossentropy\", metrics=[\"accuracy\"])"
      ],
      "execution_count": 0,
      "outputs": []
    },
    {
      "metadata": {
        "id": "_fVyhQQIeN3b",
        "colab_type": "code",
        "outputId": "7f44ed1b-7f80-4841-c023-781479b894ff",
        "colab": {
          "base_uri": "https://localhost:8080/",
          "height": 34
        }
      },
      "cell_type": "code",
      "source": [
        "y4.shape"
      ],
      "execution_count": 0,
      "outputs": [
        {
          "output_type": "execute_result",
          "data": {
            "text/plain": [
              "(32, 20, 13630)"
            ]
          },
          "metadata": {
            "tags": []
          },
          "execution_count": 122
        }
      ]
    },
    {
      "metadata": {
        "id": "6v2qPJMieT_a",
        "colab_type": "code",
        "outputId": "298a4113-7f5a-4314-91ad-dcd2ac4a03c3",
        "colab": {
          "base_uri": "https://localhost:8080/",
          "height": 35572
        }
      },
      "cell_type": "code",
      "source": [
        "for i in range(1000):\n",
        "  t_x = random.sample(range(1, 100000), 32)\n",
        "  X3 = np.array(X2[t_x])\n",
        "  y3 = y2[t_x]\n",
        "  y4 = np.array([to_categorical(i, num_classes=13630) for i in y3[:32]])\n",
        "  model.fit(X3, y4, batch_size=32, epochs=1, verbose=1)"
      ],
      "execution_count": 0,
      "outputs": [
        {
          "output_type": "stream",
          "text": [
            "Epoch 1/1\n",
            "32/32 [==============================] - 1s 26ms/step - loss: 2.1739 - acc: 0.6516\n",
            "Epoch 1/1\n",
            "32/32 [==============================] - 1s 25ms/step - loss: 2.1787 - acc: 0.6687\n",
            "Epoch 1/1\n",
            "32/32 [==============================] - 1s 23ms/step - loss: 2.1968 - acc: 0.6469\n",
            "Epoch 1/1\n",
            "32/32 [==============================] - 1s 23ms/step - loss: 2.1731 - acc: 0.6641\n",
            "Epoch 1/1\n",
            "32/32 [==============================] - 1s 22ms/step - loss: 2.4019 - acc: 0.6297\n",
            "Epoch 1/1\n",
            "32/32 [==============================] - 1s 23ms/step - loss: 2.2730 - acc: 0.6344\n",
            "Epoch 1/1\n",
            "32/32 [==============================] - 1s 23ms/step - loss: 2.1100 - acc: 0.6797\n",
            "Epoch 1/1\n",
            "32/32 [==============================] - 1s 23ms/step - loss: 2.4729 - acc: 0.6203\n",
            "Epoch 1/1\n",
            "32/32 [==============================] - 1s 22ms/step - loss: 2.1055 - acc: 0.6797\n",
            "Epoch 1/1\n",
            "32/32 [==============================] - 1s 23ms/step - loss: 2.3557 - acc: 0.6516\n",
            "Epoch 1/1\n",
            "32/32 [==============================] - 1s 23ms/step - loss: 2.2409 - acc: 0.6609\n",
            "Epoch 1/1\n",
            "32/32 [==============================] - 1s 22ms/step - loss: 2.1358 - acc: 0.6594\n",
            "Epoch 1/1\n",
            "32/32 [==============================] - 1s 23ms/step - loss: 2.3493 - acc: 0.6250\n",
            "Epoch 1/1\n",
            "32/32 [==============================] - 1s 23ms/step - loss: 2.3797 - acc: 0.6313\n",
            "Epoch 1/1\n",
            "32/32 [==============================] - 1s 23ms/step - loss: 2.2611 - acc: 0.6438\n",
            "Epoch 1/1\n",
            "32/32 [==============================] - 1s 23ms/step - loss: 2.3087 - acc: 0.6438\n",
            "Epoch 1/1\n",
            "32/32 [==============================] - 1s 22ms/step - loss: 2.2782 - acc: 0.6438\n",
            "Epoch 1/1\n",
            "32/32 [==============================] - 1s 22ms/step - loss: 2.2056 - acc: 0.6656\n",
            "Epoch 1/1\n",
            "32/32 [==============================] - 1s 23ms/step - loss: 2.2507 - acc: 0.6609\n",
            "Epoch 1/1\n",
            "32/32 [==============================] - 1s 23ms/step - loss: 2.3805 - acc: 0.6375\n",
            "Epoch 1/1\n",
            "32/32 [==============================] - 1s 23ms/step - loss: 2.1620 - acc: 0.6625\n",
            "Epoch 1/1\n",
            "32/32 [==============================] - 1s 23ms/step - loss: 2.3021 - acc: 0.6422\n",
            "Epoch 1/1\n",
            "32/32 [==============================] - 1s 22ms/step - loss: 2.2525 - acc: 0.6469\n",
            "Epoch 1/1\n",
            "32/32 [==============================] - 1s 23ms/step - loss: 2.3948 - acc: 0.6281\n",
            "Epoch 1/1\n",
            "32/32 [==============================] - 1s 22ms/step - loss: 2.1687 - acc: 0.6703\n",
            "Epoch 1/1\n",
            "32/32 [==============================] - 1s 22ms/step - loss: 2.1700 - acc: 0.6641\n",
            "Epoch 1/1\n",
            "32/32 [==============================] - 1s 23ms/step - loss: 2.1880 - acc: 0.6703\n",
            "Epoch 1/1\n",
            "32/32 [==============================] - 1s 22ms/step - loss: 2.2312 - acc: 0.6375\n",
            "Epoch 1/1\n",
            "32/32 [==============================] - 1s 22ms/step - loss: 2.2031 - acc: 0.6516\n",
            "Epoch 1/1\n",
            "32/32 [==============================] - 1s 22ms/step - loss: 2.2330 - acc: 0.6500\n",
            "Epoch 1/1\n",
            "32/32 [==============================] - 1s 22ms/step - loss: 2.4105 - acc: 0.6187\n",
            "Epoch 1/1\n",
            "32/32 [==============================] - 1s 22ms/step - loss: 2.2194 - acc: 0.6547\n",
            "Epoch 1/1\n",
            "32/32 [==============================] - 1s 22ms/step - loss: 2.5271 - acc: 0.6078\n",
            "Epoch 1/1\n",
            "32/32 [==============================] - 1s 22ms/step - loss: 2.3154 - acc: 0.6313\n",
            "Epoch 1/1\n",
            "32/32 [==============================] - 1s 22ms/step - loss: 2.1292 - acc: 0.6687\n",
            "Epoch 1/1\n",
            "32/32 [==============================] - 1s 22ms/step - loss: 2.2949 - acc: 0.6422\n",
            "Epoch 1/1\n",
            "32/32 [==============================] - 1s 22ms/step - loss: 2.1723 - acc: 0.6656\n",
            "Epoch 1/1\n",
            "32/32 [==============================] - 1s 22ms/step - loss: 2.3329 - acc: 0.6500\n",
            "Epoch 1/1\n",
            "32/32 [==============================] - 1s 22ms/step - loss: 2.2473 - acc: 0.6609\n",
            "Epoch 1/1\n",
            "32/32 [==============================] - 1s 22ms/step - loss: 2.2714 - acc: 0.6547\n",
            "Epoch 1/1\n",
            "32/32 [==============================] - 1s 22ms/step - loss: 2.1745 - acc: 0.6625\n",
            "Epoch 1/1\n",
            "32/32 [==============================] - 1s 22ms/step - loss: 2.1118 - acc: 0.6672\n",
            "Epoch 1/1\n",
            "32/32 [==============================] - 1s 22ms/step - loss: 2.1833 - acc: 0.6547\n",
            "Epoch 1/1\n",
            "32/32 [==============================] - 1s 22ms/step - loss: 2.4460 - acc: 0.6359\n",
            "Epoch 1/1\n",
            "32/32 [==============================] - 1s 22ms/step - loss: 2.2263 - acc: 0.6641\n",
            "Epoch 1/1\n",
            "32/32 [==============================] - 1s 23ms/step - loss: 2.4405 - acc: 0.6219\n",
            "Epoch 1/1\n",
            "32/32 [==============================] - 1s 22ms/step - loss: 2.2349 - acc: 0.6406\n",
            "Epoch 1/1\n",
            "32/32 [==============================] - 1s 23ms/step - loss: 2.1988 - acc: 0.6562\n",
            "Epoch 1/1\n",
            "32/32 [==============================] - 1s 22ms/step - loss: 2.2187 - acc: 0.6516\n",
            "Epoch 1/1\n",
            "32/32 [==============================] - 1s 22ms/step - loss: 2.2326 - acc: 0.6484\n",
            "Epoch 1/1\n",
            "32/32 [==============================] - 1s 23ms/step - loss: 2.5157 - acc: 0.6375\n",
            "Epoch 1/1\n",
            "32/32 [==============================] - 1s 22ms/step - loss: 2.3974 - acc: 0.6266\n",
            "Epoch 1/1\n",
            "32/32 [==============================] - 1s 23ms/step - loss: 2.2356 - acc: 0.6500\n",
            "Epoch 1/1\n",
            "32/32 [==============================] - 1s 23ms/step - loss: 2.3373 - acc: 0.6438\n",
            "Epoch 1/1\n",
            "32/32 [==============================] - 1s 22ms/step - loss: 2.1976 - acc: 0.6547\n",
            "Epoch 1/1\n",
            "32/32 [==============================] - 1s 23ms/step - loss: 1.9588 - acc: 0.6875\n",
            "Epoch 1/1\n",
            "32/32 [==============================] - 1s 24ms/step - loss: 2.2961 - acc: 0.6547\n",
            "Epoch 1/1\n",
            "32/32 [==============================] - 1s 24ms/step - loss: 2.4194 - acc: 0.6250\n",
            "Epoch 1/1\n",
            "32/32 [==============================] - 1s 24ms/step - loss: 2.1327 - acc: 0.6484\n",
            "Epoch 1/1\n",
            "32/32 [==============================] - 1s 24ms/step - loss: 2.3334 - acc: 0.6531\n",
            "Epoch 1/1\n",
            "32/32 [==============================] - 1s 23ms/step - loss: 2.3023 - acc: 0.6359\n",
            "Epoch 1/1\n",
            "32/32 [==============================] - 1s 24ms/step - loss: 2.1336 - acc: 0.6687\n",
            "Epoch 1/1\n",
            "32/32 [==============================] - 1s 24ms/step - loss: 2.2266 - acc: 0.6422\n",
            "Epoch 1/1\n",
            "32/32 [==============================] - 1s 24ms/step - loss: 2.2311 - acc: 0.6500\n",
            "Epoch 1/1\n",
            "32/32 [==============================] - 1s 23ms/step - loss: 2.2448 - acc: 0.6500\n",
            "Epoch 1/1\n",
            "32/32 [==============================] - 1s 23ms/step - loss: 2.1358 - acc: 0.6641\n",
            "Epoch 1/1\n",
            "32/32 [==============================] - 1s 24ms/step - loss: 2.2996 - acc: 0.6453\n",
            "Epoch 1/1\n",
            "32/32 [==============================] - 1s 24ms/step - loss: 2.3000 - acc: 0.6391\n",
            "Epoch 1/1\n",
            "32/32 [==============================] - 1s 24ms/step - loss: 2.1631 - acc: 0.6687\n",
            "Epoch 1/1\n",
            "32/32 [==============================] - 1s 23ms/step - loss: 2.1653 - acc: 0.6719\n",
            "Epoch 1/1\n",
            "32/32 [==============================] - 1s 24ms/step - loss: 2.1618 - acc: 0.6703\n",
            "Epoch 1/1\n",
            "32/32 [==============================] - 1s 24ms/step - loss: 2.3175 - acc: 0.6297\n",
            "Epoch 1/1\n",
            "32/32 [==============================] - 1s 23ms/step - loss: 2.2113 - acc: 0.6609\n",
            "Epoch 1/1\n",
            "32/32 [==============================] - 1s 23ms/step - loss: 2.2722 - acc: 0.6531\n",
            "Epoch 1/1\n",
            "32/32 [==============================] - 1s 24ms/step - loss: 2.3514 - acc: 0.6344\n",
            "Epoch 1/1\n",
            "32/32 [==============================] - 1s 23ms/step - loss: 2.3037 - acc: 0.6359\n",
            "Epoch 1/1\n",
            "32/32 [==============================] - 1s 23ms/step - loss: 2.3748 - acc: 0.6250\n",
            "Epoch 1/1\n",
            "32/32 [==============================] - 1s 22ms/step - loss: 2.1095 - acc: 0.6812\n",
            "Epoch 1/1\n",
            "32/32 [==============================] - 1s 22ms/step - loss: 2.4283 - acc: 0.6250\n",
            "Epoch 1/1\n",
            "32/32 [==============================] - 1s 22ms/step - loss: 2.3405 - acc: 0.6500\n",
            "Epoch 1/1\n",
            "32/32 [==============================] - 1s 22ms/step - loss: 2.1256 - acc: 0.6734\n",
            "Epoch 1/1\n",
            "32/32 [==============================] - 1s 22ms/step - loss: 2.2539 - acc: 0.6516\n",
            "Epoch 1/1\n",
            "32/32 [==============================] - 1s 22ms/step - loss: 2.2374 - acc: 0.6281\n",
            "Epoch 1/1\n",
            "32/32 [==============================] - 1s 22ms/step - loss: 2.1868 - acc: 0.6484\n",
            "Epoch 1/1\n",
            "32/32 [==============================] - 1s 22ms/step - loss: 2.2626 - acc: 0.6547\n",
            "Epoch 1/1\n",
            "32/32 [==============================] - 1s 22ms/step - loss: 2.2558 - acc: 0.6438\n",
            "Epoch 1/1\n",
            "32/32 [==============================] - 1s 22ms/step - loss: 2.1438 - acc: 0.6672\n",
            "Epoch 1/1\n",
            "32/32 [==============================] - 1s 22ms/step - loss: 2.1095 - acc: 0.6797\n",
            "Epoch 1/1\n",
            "32/32 [==============================] - 1s 22ms/step - loss: 2.1666 - acc: 0.6562\n",
            "Epoch 1/1\n",
            "32/32 [==============================] - 1s 23ms/step - loss: 2.1632 - acc: 0.6578\n",
            "Epoch 1/1\n",
            "32/32 [==============================] - 1s 22ms/step - loss: 2.2618 - acc: 0.6625\n",
            "Epoch 1/1\n",
            "32/32 [==============================] - 1s 23ms/step - loss: 2.3382 - acc: 0.6422\n",
            "Epoch 1/1\n",
            "32/32 [==============================] - 1s 22ms/step - loss: 2.3368 - acc: 0.6172\n",
            "Epoch 1/1\n",
            "32/32 [==============================] - 1s 22ms/step - loss: 2.2610 - acc: 0.6531\n",
            "Epoch 1/1\n",
            "32/32 [==============================] - 1s 23ms/step - loss: 2.3515 - acc: 0.6406\n",
            "Epoch 1/1\n",
            "32/32 [==============================] - 1s 23ms/step - loss: 2.1050 - acc: 0.6594\n",
            "Epoch 1/1\n",
            "32/32 [==============================] - 1s 22ms/step - loss: 2.1783 - acc: 0.6578\n",
            "Epoch 1/1\n",
            "32/32 [==============================] - 1s 23ms/step - loss: 2.2562 - acc: 0.6313\n",
            "Epoch 1/1\n",
            "32/32 [==============================] - 1s 22ms/step - loss: 2.2344 - acc: 0.6547\n",
            "Epoch 1/1\n",
            "32/32 [==============================] - 1s 22ms/step - loss: 2.0286 - acc: 0.6906\n",
            "Epoch 1/1\n",
            "32/32 [==============================] - 1s 22ms/step - loss: 2.3513 - acc: 0.6313\n",
            "Epoch 1/1\n",
            "32/32 [==============================] - 1s 22ms/step - loss: 2.3235 - acc: 0.6391\n",
            "Epoch 1/1\n",
            "32/32 [==============================] - 1s 23ms/step - loss: 2.2726 - acc: 0.6359\n",
            "Epoch 1/1\n",
            "32/32 [==============================] - 1s 22ms/step - loss: 2.1096 - acc: 0.6797\n",
            "Epoch 1/1\n",
            "32/32 [==============================] - 1s 23ms/step - loss: 2.2370 - acc: 0.6484\n",
            "Epoch 1/1\n",
            "32/32 [==============================] - 1s 23ms/step - loss: 2.0635 - acc: 0.6875\n",
            "Epoch 1/1\n",
            "32/32 [==============================] - 1s 22ms/step - loss: 2.2064 - acc: 0.6625\n",
            "Epoch 1/1\n",
            "32/32 [==============================] - 1s 22ms/step - loss: 2.2376 - acc: 0.6594\n",
            "Epoch 1/1\n",
            "32/32 [==============================] - 1s 23ms/step - loss: 2.4049 - acc: 0.6375\n",
            "Epoch 1/1\n",
            "32/32 [==============================] - 1s 22ms/step - loss: 2.3858 - acc: 0.6203\n",
            "Epoch 1/1\n",
            "32/32 [==============================] - 1s 23ms/step - loss: 2.1279 - acc: 0.6516\n",
            "Epoch 1/1\n",
            "32/32 [==============================] - 1s 23ms/step - loss: 2.1689 - acc: 0.6578\n",
            "Epoch 1/1\n",
            "32/32 [==============================] - 1s 22ms/step - loss: 2.1257 - acc: 0.6672\n",
            "Epoch 1/1\n",
            "32/32 [==============================] - 1s 23ms/step - loss: 2.1847 - acc: 0.6578\n",
            "Epoch 1/1\n",
            "32/32 [==============================] - 1s 22ms/step - loss: 2.0822 - acc: 0.6703\n",
            "Epoch 1/1\n",
            "32/32 [==============================] - 1s 22ms/step - loss: 2.3466 - acc: 0.6484\n",
            "Epoch 1/1\n",
            "32/32 [==============================] - 1s 23ms/step - loss: 2.0761 - acc: 0.6781\n",
            "Epoch 1/1\n",
            "32/32 [==============================] - 1s 22ms/step - loss: 2.2688 - acc: 0.6547\n",
            "Epoch 1/1\n",
            "32/32 [==============================] - 1s 22ms/step - loss: 2.1786 - acc: 0.6469\n",
            "Epoch 1/1\n",
            "32/32 [==============================] - 1s 22ms/step - loss: 2.2365 - acc: 0.6562\n",
            "Epoch 1/1\n",
            "32/32 [==============================] - 1s 22ms/step - loss: 2.0417 - acc: 0.6703\n",
            "Epoch 1/1\n",
            "32/32 [==============================] - 1s 23ms/step - loss: 2.1292 - acc: 0.6844\n",
            "Epoch 1/1\n",
            "32/32 [==============================] - 1s 22ms/step - loss: 2.1461 - acc: 0.6625\n",
            "Epoch 1/1\n",
            "32/32 [==============================] - 1s 23ms/step - loss: 2.2078 - acc: 0.6438\n",
            "Epoch 1/1\n",
            "32/32 [==============================] - 1s 23ms/step - loss: 2.2129 - acc: 0.6594\n",
            "Epoch 1/1\n",
            "32/32 [==============================] - 1s 22ms/step - loss: 2.3106 - acc: 0.6453\n",
            "Epoch 1/1\n",
            "32/32 [==============================] - 1s 22ms/step - loss: 2.1961 - acc: 0.6484\n",
            "Epoch 1/1\n",
            "32/32 [==============================] - 1s 22ms/step - loss: 2.1770 - acc: 0.6687\n",
            "Epoch 1/1\n",
            "32/32 [==============================] - 1s 22ms/step - loss: 2.3131 - acc: 0.6391\n",
            "Epoch 1/1\n",
            "32/32 [==============================] - 1s 22ms/step - loss: 2.2127 - acc: 0.6703\n",
            "Epoch 1/1\n",
            "32/32 [==============================] - 1s 22ms/step - loss: 2.2961 - acc: 0.6375\n",
            "Epoch 1/1\n",
            "32/32 [==============================] - 1s 22ms/step - loss: 2.1808 - acc: 0.6469\n",
            "Epoch 1/1\n",
            "32/32 [==============================] - 1s 22ms/step - loss: 2.0889 - acc: 0.6578\n",
            "Epoch 1/1\n",
            "32/32 [==============================] - 1s 22ms/step - loss: 2.1150 - acc: 0.6687\n",
            "Epoch 1/1\n",
            "32/32 [==============================] - 1s 22ms/step - loss: 2.1280 - acc: 0.6703\n",
            "Epoch 1/1\n",
            "32/32 [==============================] - 1s 22ms/step - loss: 2.1915 - acc: 0.6391\n",
            "Epoch 1/1\n",
            "32/32 [==============================] - 1s 22ms/step - loss: 2.1787 - acc: 0.6625\n",
            "Epoch 1/1\n",
            "32/32 [==============================] - 1s 22ms/step - loss: 2.2452 - acc: 0.6547\n",
            "Epoch 1/1\n",
            "32/32 [==============================] - 1s 22ms/step - loss: 2.1294 - acc: 0.6656\n",
            "Epoch 1/1\n",
            "32/32 [==============================] - 1s 23ms/step - loss: 2.2548 - acc: 0.6438\n",
            "Epoch 1/1\n",
            "32/32 [==============================] - 1s 23ms/step - loss: 2.1268 - acc: 0.6672\n",
            "Epoch 1/1\n",
            "32/32 [==============================] - 1s 23ms/step - loss: 2.4800 - acc: 0.6047\n",
            "Epoch 1/1\n",
            "32/32 [==============================] - 1s 22ms/step - loss: 2.2170 - acc: 0.6594\n",
            "Epoch 1/1\n",
            "32/32 [==============================] - 1s 23ms/step - loss: 2.3036 - acc: 0.6422\n",
            "Epoch 1/1\n",
            "32/32 [==============================] - 1s 23ms/step - loss: 2.2434 - acc: 0.6500\n",
            "Epoch 1/1\n",
            "32/32 [==============================] - 1s 23ms/step - loss: 2.2646 - acc: 0.6484\n",
            "Epoch 1/1\n",
            "32/32 [==============================] - 1s 22ms/step - loss: 2.1864 - acc: 0.6641\n",
            "Epoch 1/1\n",
            "32/32 [==============================] - 1s 23ms/step - loss: 2.2358 - acc: 0.6469\n",
            "Epoch 1/1\n",
            "32/32 [==============================] - 1s 22ms/step - loss: 2.2079 - acc: 0.6500\n",
            "Epoch 1/1\n",
            "32/32 [==============================] - 1s 22ms/step - loss: 2.0783 - acc: 0.6687\n",
            "Epoch 1/1\n",
            "32/32 [==============================] - 1s 22ms/step - loss: 2.2730 - acc: 0.6453\n",
            "Epoch 1/1\n",
            "32/32 [==============================] - 1s 22ms/step - loss: 2.2139 - acc: 0.6406\n",
            "Epoch 1/1\n",
            "32/32 [==============================] - 1s 22ms/step - loss: 2.0622 - acc: 0.6797\n",
            "Epoch 1/1\n",
            "32/32 [==============================] - 1s 23ms/step - loss: 2.1001 - acc: 0.6578\n",
            "Epoch 1/1\n",
            "32/32 [==============================] - 1s 23ms/step - loss: 2.1201 - acc: 0.6703\n",
            "Epoch 1/1\n",
            "32/32 [==============================] - 1s 22ms/step - loss: 2.1574 - acc: 0.6766\n",
            "Epoch 1/1\n",
            "32/32 [==============================] - 1s 23ms/step - loss: 2.2080 - acc: 0.6406\n",
            "Epoch 1/1\n",
            "32/32 [==============================] - 1s 22ms/step - loss: 2.1227 - acc: 0.6672\n",
            "Epoch 1/1\n",
            "32/32 [==============================] - 1s 22ms/step - loss: 2.4083 - acc: 0.6266\n",
            "Epoch 1/1\n",
            "32/32 [==============================] - 1s 22ms/step - loss: 2.0815 - acc: 0.6719\n",
            "Epoch 1/1\n",
            "32/32 [==============================] - 1s 22ms/step - loss: 1.9827 - acc: 0.6906\n",
            "Epoch 1/1\n",
            "32/32 [==============================] - 1s 23ms/step - loss: 2.2017 - acc: 0.6500\n",
            "Epoch 1/1\n",
            "32/32 [==============================] - 1s 22ms/step - loss: 2.2468 - acc: 0.6359\n",
            "Epoch 1/1\n",
            "32/32 [==============================] - 1s 22ms/step - loss: 2.2336 - acc: 0.6516\n",
            "Epoch 1/1\n",
            "32/32 [==============================] - 1s 23ms/step - loss: 2.1973 - acc: 0.6469\n",
            "Epoch 1/1\n",
            "32/32 [==============================] - 1s 22ms/step - loss: 2.2837 - acc: 0.6328\n",
            "Epoch 1/1\n",
            "32/32 [==============================] - 1s 22ms/step - loss: 2.1114 - acc: 0.6844\n",
            "Epoch 1/1\n",
            "32/32 [==============================] - 1s 23ms/step - loss: 2.3976 - acc: 0.6297\n",
            "Epoch 1/1\n",
            "32/32 [==============================] - 1s 22ms/step - loss: 2.2316 - acc: 0.6422\n",
            "Epoch 1/1\n",
            "32/32 [==============================] - 1s 22ms/step - loss: 2.2101 - acc: 0.6438\n",
            "Epoch 1/1\n",
            "32/32 [==============================] - 1s 22ms/step - loss: 2.3440 - acc: 0.6156\n",
            "Epoch 1/1\n",
            "32/32 [==============================] - 1s 22ms/step - loss: 2.1641 - acc: 0.6578\n",
            "Epoch 1/1\n",
            "32/32 [==============================] - 1s 22ms/step - loss: 2.2897 - acc: 0.6453\n",
            "Epoch 1/1\n",
            "32/32 [==============================] - 1s 22ms/step - loss: 2.3048 - acc: 0.6484\n",
            "Epoch 1/1\n",
            "32/32 [==============================] - 1s 22ms/step - loss: 2.0882 - acc: 0.6609\n",
            "Epoch 1/1\n",
            "32/32 [==============================] - 1s 22ms/step - loss: 2.4404 - acc: 0.6281\n",
            "Epoch 1/1\n",
            "32/32 [==============================] - 1s 22ms/step - loss: 2.1264 - acc: 0.6609\n",
            "Epoch 1/1\n",
            "32/32 [==============================] - 1s 22ms/step - loss: 2.2369 - acc: 0.6438\n",
            "Epoch 1/1\n",
            "32/32 [==============================] - 1s 22ms/step - loss: 2.1602 - acc: 0.6547\n",
            "Epoch 1/1\n",
            "32/32 [==============================] - 1s 23ms/step - loss: 2.2053 - acc: 0.6531\n",
            "Epoch 1/1\n",
            "32/32 [==============================] - 1s 22ms/step - loss: 2.1041 - acc: 0.6703\n",
            "Epoch 1/1\n",
            "32/32 [==============================] - 1s 22ms/step - loss: 2.1356 - acc: 0.6422\n",
            "Epoch 1/1\n",
            "32/32 [==============================] - 1s 22ms/step - loss: 2.0886 - acc: 0.6891\n",
            "Epoch 1/1\n",
            "32/32 [==============================] - 1s 23ms/step - loss: 2.1211 - acc: 0.6734\n",
            "Epoch 1/1\n",
            "32/32 [==============================] - 1s 22ms/step - loss: 2.3754 - acc: 0.6234\n",
            "Epoch 1/1\n",
            "32/32 [==============================] - 1s 22ms/step - loss: 2.1724 - acc: 0.6578\n",
            "Epoch 1/1\n",
            "32/32 [==============================] - 1s 22ms/step - loss: 2.1925 - acc: 0.6438\n",
            "Epoch 1/1\n",
            "32/32 [==============================] - 1s 23ms/step - loss: 2.0225 - acc: 0.6859\n",
            "Epoch 1/1\n",
            "32/32 [==============================] - 1s 23ms/step - loss: 2.1733 - acc: 0.6484\n",
            "Epoch 1/1\n",
            "32/32 [==============================] - 1s 22ms/step - loss: 2.0150 - acc: 0.6594\n",
            "Epoch 1/1\n",
            "32/32 [==============================] - 1s 22ms/step - loss: 2.2378 - acc: 0.6422\n",
            "Epoch 1/1\n",
            "32/32 [==============================] - 1s 23ms/step - loss: 2.0776 - acc: 0.6656\n",
            "Epoch 1/1\n",
            "32/32 [==============================] - 1s 22ms/step - loss: 2.1511 - acc: 0.6516\n",
            "Epoch 1/1\n",
            "32/32 [==============================] - 1s 22ms/step - loss: 2.0999 - acc: 0.6812\n",
            "Epoch 1/1\n",
            "32/32 [==============================] - 1s 22ms/step - loss: 2.1559 - acc: 0.6609\n",
            "Epoch 1/1\n",
            "32/32 [==============================] - 1s 22ms/step - loss: 2.1424 - acc: 0.6547\n",
            "Epoch 1/1\n",
            "32/32 [==============================] - 1s 23ms/step - loss: 2.2163 - acc: 0.6438\n",
            "Epoch 1/1\n",
            "32/32 [==============================] - 1s 23ms/step - loss: 2.1796 - acc: 0.6547\n",
            "Epoch 1/1\n",
            "32/32 [==============================] - 1s 22ms/step - loss: 2.1396 - acc: 0.6562\n",
            "Epoch 1/1\n",
            "32/32 [==============================] - 1s 23ms/step - loss: 2.3707 - acc: 0.6156\n",
            "Epoch 1/1\n",
            "32/32 [==============================] - 1s 23ms/step - loss: 2.4865 - acc: 0.6141\n",
            "Epoch 1/1\n",
            "32/32 [==============================] - 1s 22ms/step - loss: 2.3678 - acc: 0.6297\n",
            "Epoch 1/1\n",
            "32/32 [==============================] - 1s 23ms/step - loss: 2.1757 - acc: 0.6531\n",
            "Epoch 1/1\n",
            "32/32 [==============================] - 1s 22ms/step - loss: 2.1794 - acc: 0.6625\n",
            "Epoch 1/1\n",
            "32/32 [==============================] - 1s 22ms/step - loss: 2.2229 - acc: 0.6469\n",
            "Epoch 1/1\n",
            "32/32 [==============================] - 1s 22ms/step - loss: 2.1237 - acc: 0.6516\n",
            "Epoch 1/1\n",
            "32/32 [==============================] - 1s 22ms/step - loss: 2.2404 - acc: 0.6375\n",
            "Epoch 1/1\n",
            "32/32 [==============================] - 1s 22ms/step - loss: 2.2289 - acc: 0.6625\n",
            "Epoch 1/1\n",
            "32/32 [==============================] - 1s 22ms/step - loss: 2.2395 - acc: 0.6297\n",
            "Epoch 1/1\n",
            "32/32 [==============================] - 1s 22ms/step - loss: 2.2696 - acc: 0.6266\n",
            "Epoch 1/1\n",
            "32/32 [==============================] - 1s 22ms/step - loss: 2.1929 - acc: 0.6562\n",
            "Epoch 1/1\n",
            "32/32 [==============================] - 1s 22ms/step - loss: 2.1868 - acc: 0.6562\n",
            "Epoch 1/1\n",
            "32/32 [==============================] - 1s 22ms/step - loss: 2.1082 - acc: 0.6672\n",
            "Epoch 1/1\n",
            "32/32 [==============================] - 1s 22ms/step - loss: 2.0934 - acc: 0.6797\n",
            "Epoch 1/1\n",
            "32/32 [==============================] - 1s 22ms/step - loss: 2.1029 - acc: 0.6938\n",
            "Epoch 1/1\n",
            "32/32 [==============================] - 1s 22ms/step - loss: 2.2264 - acc: 0.6375\n",
            "Epoch 1/1\n",
            "32/32 [==============================] - 1s 22ms/step - loss: 2.2690 - acc: 0.6531\n",
            "Epoch 1/1\n",
            "32/32 [==============================] - 1s 22ms/step - loss: 2.3705 - acc: 0.6438\n",
            "Epoch 1/1\n",
            "32/32 [==============================] - 1s 23ms/step - loss: 2.0834 - acc: 0.6687\n",
            "Epoch 1/1\n",
            "32/32 [==============================] - 1s 22ms/step - loss: 2.2189 - acc: 0.6438\n",
            "Epoch 1/1\n",
            "32/32 [==============================] - 1s 22ms/step - loss: 2.2746 - acc: 0.6344\n",
            "Epoch 1/1\n",
            "32/32 [==============================] - 1s 22ms/step - loss: 2.1157 - acc: 0.6625\n",
            "Epoch 1/1\n",
            "32/32 [==============================] - 1s 22ms/step - loss: 2.3521 - acc: 0.6125\n",
            "Epoch 1/1\n",
            "32/32 [==============================] - 1s 22ms/step - loss: 2.3357 - acc: 0.6391\n",
            "Epoch 1/1\n",
            "32/32 [==============================] - 1s 22ms/step - loss: 2.2211 - acc: 0.6516\n",
            "Epoch 1/1\n",
            "32/32 [==============================] - 1s 22ms/step - loss: 2.1452 - acc: 0.6703\n",
            "Epoch 1/1\n",
            "32/32 [==============================] - 1s 22ms/step - loss: 2.3495 - acc: 0.6359\n",
            "Epoch 1/1\n",
            "32/32 [==============================] - 1s 22ms/step - loss: 2.0971 - acc: 0.6594\n",
            "Epoch 1/1\n",
            "32/32 [==============================] - 1s 23ms/step - loss: 2.3135 - acc: 0.6375\n",
            "Epoch 1/1\n",
            "32/32 [==============================] - 1s 23ms/step - loss: 2.1680 - acc: 0.6625\n",
            "Epoch 1/1\n",
            "32/32 [==============================] - 1s 23ms/step - loss: 2.0225 - acc: 0.6484\n",
            "Epoch 1/1\n",
            "32/32 [==============================] - 1s 22ms/step - loss: 2.2545 - acc: 0.6578\n",
            "Epoch 1/1\n",
            "32/32 [==============================] - 1s 22ms/step - loss: 2.1878 - acc: 0.6562\n",
            "Epoch 1/1\n",
            "32/32 [==============================] - 1s 22ms/step - loss: 2.2122 - acc: 0.6406\n",
            "Epoch 1/1\n",
            "32/32 [==============================] - 1s 22ms/step - loss: 1.9823 - acc: 0.6828\n",
            "Epoch 1/1\n",
            "32/32 [==============================] - 1s 22ms/step - loss: 2.1828 - acc: 0.6547\n",
            "Epoch 1/1\n",
            "32/32 [==============================] - 1s 22ms/step - loss: 2.2149 - acc: 0.6625\n",
            "Epoch 1/1\n",
            "32/32 [==============================] - 1s 22ms/step - loss: 2.2524 - acc: 0.6422\n",
            "Epoch 1/1\n",
            "32/32 [==============================] - 1s 22ms/step - loss: 2.2206 - acc: 0.6406\n",
            "Epoch 1/1\n",
            "32/32 [==============================] - 1s 22ms/step - loss: 2.1396 - acc: 0.6516\n",
            "Epoch 1/1\n",
            "32/32 [==============================] - 1s 23ms/step - loss: 2.2868 - acc: 0.6562\n",
            "Epoch 1/1\n",
            "32/32 [==============================] - 1s 22ms/step - loss: 2.4660 - acc: 0.6203\n",
            "Epoch 1/1\n",
            "32/32 [==============================] - 1s 22ms/step - loss: 2.2334 - acc: 0.6391\n",
            "Epoch 1/1\n",
            "32/32 [==============================] - 1s 22ms/step - loss: 2.2376 - acc: 0.6484\n",
            "Epoch 1/1\n",
            "32/32 [==============================] - 1s 22ms/step - loss: 2.2001 - acc: 0.6641\n",
            "Epoch 1/1\n",
            "32/32 [==============================] - 1s 22ms/step - loss: 2.0377 - acc: 0.6828\n",
            "Epoch 1/1\n",
            "32/32 [==============================] - 1s 22ms/step - loss: 2.1215 - acc: 0.6562\n",
            "Epoch 1/1\n",
            "32/32 [==============================] - 1s 23ms/step - loss: 2.3212 - acc: 0.6297\n",
            "Epoch 1/1\n",
            "32/32 [==============================] - 1s 22ms/step - loss: 2.0775 - acc: 0.6531\n",
            "Epoch 1/1\n",
            "32/32 [==============================] - 1s 22ms/step - loss: 2.2518 - acc: 0.6422\n",
            "Epoch 1/1\n",
            "32/32 [==============================] - 1s 23ms/step - loss: 2.3574 - acc: 0.6375\n",
            "Epoch 1/1\n",
            "32/32 [==============================] - 1s 22ms/step - loss: 2.1601 - acc: 0.6469\n",
            "Epoch 1/1\n",
            "32/32 [==============================] - 1s 22ms/step - loss: 2.1024 - acc: 0.6734\n",
            "Epoch 1/1\n",
            "32/32 [==============================] - 1s 23ms/step - loss: 2.3512 - acc: 0.6375\n",
            "Epoch 1/1\n",
            "32/32 [==============================] - 1s 23ms/step - loss: 2.1356 - acc: 0.6812\n",
            "Epoch 1/1\n",
            "32/32 [==============================] - 1s 23ms/step - loss: 2.1421 - acc: 0.6656\n",
            "Epoch 1/1\n",
            "32/32 [==============================] - 1s 23ms/step - loss: 2.1308 - acc: 0.6531\n",
            "Epoch 1/1\n",
            "32/32 [==============================] - 1s 22ms/step - loss: 2.1524 - acc: 0.6500\n",
            "Epoch 1/1\n",
            "32/32 [==============================] - 1s 23ms/step - loss: 2.2588 - acc: 0.6469\n",
            "Epoch 1/1\n",
            "32/32 [==============================] - 1s 22ms/step - loss: 1.9752 - acc: 0.6828\n",
            "Epoch 1/1\n",
            "32/32 [==============================] - 1s 22ms/step - loss: 1.9592 - acc: 0.6828\n",
            "Epoch 1/1\n",
            "32/32 [==============================] - 1s 23ms/step - loss: 2.3084 - acc: 0.6375\n",
            "Epoch 1/1\n",
            "32/32 [==============================] - 1s 22ms/step - loss: 2.2722 - acc: 0.6219\n",
            "Epoch 1/1\n",
            "32/32 [==============================] - 1s 23ms/step - loss: 2.2578 - acc: 0.6406\n",
            "Epoch 1/1\n",
            "32/32 [==============================] - 1s 22ms/step - loss: 2.2448 - acc: 0.6438\n",
            "Epoch 1/1\n",
            "32/32 [==============================] - 1s 22ms/step - loss: 2.1810 - acc: 0.6594\n",
            "Epoch 1/1\n",
            "32/32 [==============================] - 1s 22ms/step - loss: 2.1765 - acc: 0.6578\n",
            "Epoch 1/1\n",
            "32/32 [==============================] - 1s 22ms/step - loss: 2.1389 - acc: 0.6625\n",
            "Epoch 1/1\n",
            "32/32 [==============================] - 1s 22ms/step - loss: 2.1190 - acc: 0.6703\n",
            "Epoch 1/1\n",
            "32/32 [==============================] - 1s 22ms/step - loss: 2.1984 - acc: 0.6625\n",
            "Epoch 1/1\n",
            "32/32 [==============================] - 1s 22ms/step - loss: 2.3522 - acc: 0.6453\n",
            "Epoch 1/1\n",
            "32/32 [==============================] - 1s 22ms/step - loss: 2.0283 - acc: 0.6719\n",
            "Epoch 1/1\n",
            "32/32 [==============================] - 1s 22ms/step - loss: 2.2307 - acc: 0.6531\n",
            "Epoch 1/1\n",
            "32/32 [==============================] - 1s 22ms/step - loss: 2.3211 - acc: 0.6328\n",
            "Epoch 1/1\n",
            "32/32 [==============================] - 1s 23ms/step - loss: 2.3079 - acc: 0.6375\n",
            "Epoch 1/1\n",
            "32/32 [==============================] - 1s 22ms/step - loss: 2.2592 - acc: 0.6328\n",
            "Epoch 1/1\n",
            "32/32 [==============================] - 1s 22ms/step - loss: 2.2906 - acc: 0.6359\n",
            "Epoch 1/1\n",
            "32/32 [==============================] - 1s 23ms/step - loss: 2.2079 - acc: 0.6672\n",
            "Epoch 1/1\n",
            "32/32 [==============================] - 1s 22ms/step - loss: 2.1711 - acc: 0.6578\n",
            "Epoch 1/1\n",
            "32/32 [==============================] - 1s 23ms/step - loss: 1.9981 - acc: 0.6672\n",
            "Epoch 1/1\n",
            "32/32 [==============================] - 1s 22ms/step - loss: 2.2901 - acc: 0.6281\n",
            "Epoch 1/1\n",
            "32/32 [==============================] - 1s 22ms/step - loss: 2.2989 - acc: 0.6266\n",
            "Epoch 1/1\n",
            "32/32 [==============================] - 1s 23ms/step - loss: 2.0973 - acc: 0.6625\n",
            "Epoch 1/1\n",
            "32/32 [==============================] - 1s 22ms/step - loss: 2.2153 - acc: 0.6578\n",
            "Epoch 1/1\n",
            "32/32 [==============================] - 1s 22ms/step - loss: 2.1605 - acc: 0.6703\n",
            "Epoch 1/1\n",
            "32/32 [==============================] - 1s 22ms/step - loss: 2.1458 - acc: 0.6562\n",
            "Epoch 1/1\n",
            "32/32 [==============================] - 1s 22ms/step - loss: 2.1638 - acc: 0.6641\n",
            "Epoch 1/1\n",
            "32/32 [==============================] - 1s 23ms/step - loss: 2.1983 - acc: 0.6516\n",
            "Epoch 1/1\n",
            "32/32 [==============================] - 1s 23ms/step - loss: 2.4607 - acc: 0.6172\n",
            "Epoch 1/1\n",
            "32/32 [==============================] - 1s 22ms/step - loss: 2.5087 - acc: 0.6016\n",
            "Epoch 1/1\n",
            "32/32 [==============================] - 1s 23ms/step - loss: 2.3205 - acc: 0.6313\n",
            "Epoch 1/1\n",
            "32/32 [==============================] - 1s 22ms/step - loss: 2.2551 - acc: 0.6344\n",
            "Epoch 1/1\n",
            "32/32 [==============================] - 1s 22ms/step - loss: 2.0749 - acc: 0.6703\n",
            "Epoch 1/1\n",
            "32/32 [==============================] - 1s 22ms/step - loss: 2.2209 - acc: 0.6531\n",
            "Epoch 1/1\n",
            "32/32 [==============================] - 1s 22ms/step - loss: 2.1655 - acc: 0.6656\n",
            "Epoch 1/1\n",
            "32/32 [==============================] - 1s 23ms/step - loss: 2.1026 - acc: 0.6719\n",
            "Epoch 1/1\n",
            "32/32 [==============================] - 1s 22ms/step - loss: 2.1916 - acc: 0.6422\n",
            "Epoch 1/1\n",
            "32/32 [==============================] - 1s 22ms/step - loss: 2.1136 - acc: 0.6687\n",
            "Epoch 1/1\n",
            "32/32 [==============================] - 1s 23ms/step - loss: 2.2408 - acc: 0.6391\n",
            "Epoch 1/1\n",
            "32/32 [==============================] - 1s 23ms/step - loss: 2.2675 - acc: 0.6375\n",
            "Epoch 1/1\n",
            "32/32 [==============================] - 1s 23ms/step - loss: 2.1235 - acc: 0.6578\n",
            "Epoch 1/1\n",
            "32/32 [==============================] - 1s 23ms/step - loss: 2.0665 - acc: 0.6672\n",
            "Epoch 1/1\n",
            "32/32 [==============================] - 1s 22ms/step - loss: 2.1200 - acc: 0.6547\n",
            "Epoch 1/1\n",
            "32/32 [==============================] - 1s 22ms/step - loss: 2.1640 - acc: 0.6422\n",
            "Epoch 1/1\n",
            "32/32 [==============================] - 1s 23ms/step - loss: 2.2597 - acc: 0.6375\n",
            "Epoch 1/1\n",
            "32/32 [==============================] - 1s 23ms/step - loss: 2.0989 - acc: 0.6562\n",
            "Epoch 1/1\n",
            "32/32 [==============================] - 1s 23ms/step - loss: 2.4176 - acc: 0.6266\n",
            "Epoch 1/1\n",
            "32/32 [==============================] - 1s 23ms/step - loss: 2.1337 - acc: 0.6562\n",
            "Epoch 1/1\n",
            "32/32 [==============================] - 1s 22ms/step - loss: 2.1876 - acc: 0.6609\n",
            "Epoch 1/1\n",
            "32/32 [==============================] - 1s 23ms/step - loss: 2.2648 - acc: 0.6547\n",
            "Epoch 1/1\n",
            "32/32 [==============================] - 1s 23ms/step - loss: 2.4195 - acc: 0.6297\n",
            "Epoch 1/1\n",
            "32/32 [==============================] - 1s 23ms/step - loss: 2.1171 - acc: 0.6656\n",
            "Epoch 1/1\n",
            "32/32 [==============================] - 1s 22ms/step - loss: 2.0995 - acc: 0.6781\n",
            "Epoch 1/1\n",
            "32/32 [==============================] - 1s 22ms/step - loss: 2.2944 - acc: 0.6375\n",
            "Epoch 1/1\n",
            "32/32 [==============================] - 1s 23ms/step - loss: 1.9557 - acc: 0.6938\n",
            "Epoch 1/1\n",
            "32/32 [==============================] - 1s 23ms/step - loss: 2.4904 - acc: 0.6172\n",
            "Epoch 1/1\n",
            "32/32 [==============================] - 1s 23ms/step - loss: 2.1319 - acc: 0.6641\n",
            "Epoch 1/1\n",
            "32/32 [==============================] - 1s 22ms/step - loss: 2.0571 - acc: 0.6922\n",
            "Epoch 1/1\n",
            "32/32 [==============================] - 1s 22ms/step - loss: 2.1692 - acc: 0.6531\n",
            "Epoch 1/1\n",
            "32/32 [==============================] - 1s 22ms/step - loss: 2.3077 - acc: 0.6187\n",
            "Epoch 1/1\n",
            "32/32 [==============================] - 1s 22ms/step - loss: 2.2092 - acc: 0.6562\n",
            "Epoch 1/1\n",
            "32/32 [==============================] - 1s 22ms/step - loss: 2.1095 - acc: 0.6562\n",
            "Epoch 1/1\n",
            "32/32 [==============================] - 1s 22ms/step - loss: 2.2717 - acc: 0.6438\n",
            "Epoch 1/1\n",
            "32/32 [==============================] - 1s 22ms/step - loss: 2.1797 - acc: 0.6531\n",
            "Epoch 1/1\n",
            "32/32 [==============================] - 1s 22ms/step - loss: 2.2147 - acc: 0.6609\n",
            "Epoch 1/1\n",
            "32/32 [==============================] - 1s 23ms/step - loss: 2.2618 - acc: 0.6422\n",
            "Epoch 1/1\n",
            "32/32 [==============================] - 1s 22ms/step - loss: 2.1085 - acc: 0.6625\n",
            "Epoch 1/1\n",
            "32/32 [==============================] - 1s 22ms/step - loss: 1.9827 - acc: 0.6922\n",
            "Epoch 1/1\n",
            "32/32 [==============================] - 1s 22ms/step - loss: 2.1802 - acc: 0.6438\n",
            "Epoch 1/1\n",
            "32/32 [==============================] - 1s 22ms/step - loss: 1.9366 - acc: 0.6797\n",
            "Epoch 1/1\n",
            "32/32 [==============================] - 1s 23ms/step - loss: 2.2990 - acc: 0.6313\n",
            "Epoch 1/1\n",
            "32/32 [==============================] - 1s 23ms/step - loss: 2.0691 - acc: 0.6734\n",
            "Epoch 1/1\n",
            "32/32 [==============================] - 1s 22ms/step - loss: 2.3335 - acc: 0.6219\n",
            "Epoch 1/1\n",
            "32/32 [==============================] - 1s 22ms/step - loss: 2.0687 - acc: 0.6734\n",
            "Epoch 1/1\n",
            "32/32 [==============================] - 1s 22ms/step - loss: 2.3704 - acc: 0.6203\n",
            "Epoch 1/1\n",
            "32/32 [==============================] - 1s 23ms/step - loss: 2.2892 - acc: 0.6266\n",
            "Epoch 1/1\n",
            "32/32 [==============================] - 1s 22ms/step - loss: 2.0875 - acc: 0.6687\n",
            "Epoch 1/1\n",
            "32/32 [==============================] - 1s 22ms/step - loss: 2.1331 - acc: 0.6547\n",
            "Epoch 1/1\n",
            "32/32 [==============================] - 1s 22ms/step - loss: 2.3513 - acc: 0.6281\n",
            "Epoch 1/1\n",
            "32/32 [==============================] - 1s 23ms/step - loss: 2.4026 - acc: 0.6234\n",
            "Epoch 1/1\n",
            "32/32 [==============================] - 1s 22ms/step - loss: 2.2591 - acc: 0.6359\n",
            "Epoch 1/1\n",
            "32/32 [==============================] - 1s 22ms/step - loss: 2.3301 - acc: 0.6313\n",
            "Epoch 1/1\n",
            "32/32 [==============================] - 1s 22ms/step - loss: 2.0099 - acc: 0.6766\n",
            "Epoch 1/1\n",
            "32/32 [==============================] - 1s 22ms/step - loss: 2.0550 - acc: 0.6828\n",
            "Epoch 1/1\n",
            "32/32 [==============================] - 1s 23ms/step - loss: 2.3428 - acc: 0.6375\n",
            "Epoch 1/1\n",
            "32/32 [==============================] - 1s 22ms/step - loss: 2.2302 - acc: 0.6656\n",
            "Epoch 1/1\n",
            "32/32 [==============================] - 1s 22ms/step - loss: 2.1545 - acc: 0.6531\n",
            "Epoch 1/1\n",
            "32/32 [==============================] - 1s 22ms/step - loss: 2.1000 - acc: 0.6719\n",
            "Epoch 1/1\n",
            "32/32 [==============================] - 1s 22ms/step - loss: 2.3822 - acc: 0.6219\n",
            "Epoch 1/1\n",
            "32/32 [==============================] - 1s 22ms/step - loss: 2.2179 - acc: 0.6656\n",
            "Epoch 1/1\n",
            "32/32 [==============================] - 1s 22ms/step - loss: 2.3103 - acc: 0.6344\n",
            "Epoch 1/1\n",
            "32/32 [==============================] - 1s 22ms/step - loss: 2.0753 - acc: 0.6797\n",
            "Epoch 1/1\n",
            "32/32 [==============================] - 1s 22ms/step - loss: 2.1995 - acc: 0.6500\n",
            "Epoch 1/1\n",
            "32/32 [==============================] - 1s 22ms/step - loss: 2.2278 - acc: 0.6594\n",
            "Epoch 1/1\n",
            "32/32 [==============================] - 1s 22ms/step - loss: 2.0661 - acc: 0.6625\n",
            "Epoch 1/1\n",
            "32/32 [==============================] - 1s 22ms/step - loss: 2.1181 - acc: 0.6672\n",
            "Epoch 1/1\n",
            "32/32 [==============================] - 1s 22ms/step - loss: 2.1738 - acc: 0.6703\n",
            "Epoch 1/1\n",
            "32/32 [==============================] - 1s 23ms/step - loss: 2.1925 - acc: 0.6422\n",
            "Epoch 1/1\n",
            "32/32 [==============================] - 1s 22ms/step - loss: 2.1054 - acc: 0.6672\n",
            "Epoch 1/1\n",
            "32/32 [==============================] - 1s 22ms/step - loss: 2.0480 - acc: 0.6703\n",
            "Epoch 1/1\n",
            "32/32 [==============================] - 1s 23ms/step - loss: 2.1905 - acc: 0.6562\n",
            "Epoch 1/1\n",
            "32/32 [==============================] - 1s 22ms/step - loss: 1.9911 - acc: 0.6875\n",
            "Epoch 1/1\n",
            "32/32 [==============================] - 1s 23ms/step - loss: 2.1910 - acc: 0.6531\n",
            "Epoch 1/1\n",
            "32/32 [==============================] - 1s 22ms/step - loss: 2.1341 - acc: 0.6797\n",
            "Epoch 1/1\n",
            "32/32 [==============================] - 1s 22ms/step - loss: 2.0508 - acc: 0.6609\n",
            "Epoch 1/1\n",
            "32/32 [==============================] - 1s 22ms/step - loss: 2.4836 - acc: 0.6203\n",
            "Epoch 1/1\n",
            "32/32 [==============================] - 1s 22ms/step - loss: 2.4036 - acc: 0.6344\n",
            "Epoch 1/1\n",
            "32/32 [==============================] - 1s 22ms/step - loss: 2.1465 - acc: 0.6641\n",
            "Epoch 1/1\n",
            "32/32 [==============================] - 1s 22ms/step - loss: 2.2136 - acc: 0.6531\n",
            "Epoch 1/1\n",
            "32/32 [==============================] - 1s 22ms/step - loss: 2.2683 - acc: 0.6313\n",
            "Epoch 1/1\n",
            "32/32 [==============================] - 1s 22ms/step - loss: 2.2643 - acc: 0.6328\n",
            "Epoch 1/1\n",
            "32/32 [==============================] - 1s 23ms/step - loss: 2.1709 - acc: 0.6547\n",
            "Epoch 1/1\n",
            "32/32 [==============================] - 1s 22ms/step - loss: 2.1455 - acc: 0.6578\n",
            "Epoch 1/1\n",
            "32/32 [==============================] - 1s 22ms/step - loss: 1.9768 - acc: 0.6828\n",
            "Epoch 1/1\n",
            "32/32 [==============================] - 1s 22ms/step - loss: 2.0562 - acc: 0.6687\n",
            "Epoch 1/1\n",
            "32/32 [==============================] - 1s 22ms/step - loss: 2.2771 - acc: 0.6250\n",
            "Epoch 1/1\n",
            "32/32 [==============================] - 1s 22ms/step - loss: 2.2860 - acc: 0.6297\n",
            "Epoch 1/1\n",
            "32/32 [==============================] - 1s 22ms/step - loss: 2.1219 - acc: 0.6672\n",
            "Epoch 1/1\n",
            "32/32 [==============================] - 1s 22ms/step - loss: 2.1783 - acc: 0.6609\n",
            "Epoch 1/1\n",
            "32/32 [==============================] - 1s 22ms/step - loss: 2.2169 - acc: 0.6406\n",
            "Epoch 1/1\n",
            "32/32 [==============================] - 1s 22ms/step - loss: 1.9994 - acc: 0.6859\n",
            "Epoch 1/1\n",
            "32/32 [==============================] - 1s 22ms/step - loss: 2.1032 - acc: 0.6687\n",
            "Epoch 1/1\n",
            "32/32 [==============================] - 1s 22ms/step - loss: 2.1664 - acc: 0.6578\n",
            "Epoch 1/1\n",
            "32/32 [==============================] - 1s 22ms/step - loss: 2.2197 - acc: 0.6406\n",
            "Epoch 1/1\n",
            "32/32 [==============================] - 1s 23ms/step - loss: 2.1800 - acc: 0.6469\n",
            "Epoch 1/1\n",
            "32/32 [==============================] - 1s 22ms/step - loss: 2.1846 - acc: 0.6453\n",
            "Epoch 1/1\n",
            "32/32 [==============================] - 1s 23ms/step - loss: 2.3541 - acc: 0.6094\n",
            "Epoch 1/1\n",
            "32/32 [==============================] - 1s 22ms/step - loss: 2.1304 - acc: 0.6328\n",
            "Epoch 1/1\n",
            "32/32 [==============================] - 1s 22ms/step - loss: 2.2290 - acc: 0.6578\n",
            "Epoch 1/1\n",
            "32/32 [==============================] - 1s 23ms/step - loss: 2.2710 - acc: 0.6313\n",
            "Epoch 1/1\n",
            "32/32 [==============================] - 1s 22ms/step - loss: 2.2753 - acc: 0.6562\n",
            "Epoch 1/1\n",
            "32/32 [==============================] - 1s 23ms/step - loss: 2.2270 - acc: 0.6500\n",
            "Epoch 1/1\n",
            "32/32 [==============================] - 1s 23ms/step - loss: 2.1294 - acc: 0.6609\n",
            "Epoch 1/1\n",
            "32/32 [==============================] - 1s 22ms/step - loss: 1.9267 - acc: 0.6844\n",
            "Epoch 1/1\n",
            "32/32 [==============================] - 1s 22ms/step - loss: 1.9715 - acc: 0.6812\n",
            "Epoch 1/1\n",
            "32/32 [==============================] - 1s 22ms/step - loss: 2.1583 - acc: 0.6594\n",
            "Epoch 1/1\n",
            "32/32 [==============================] - 1s 22ms/step - loss: 2.3092 - acc: 0.6219\n",
            "Epoch 1/1\n",
            "32/32 [==============================] - 1s 23ms/step - loss: 2.1381 - acc: 0.6719\n",
            "Epoch 1/1\n",
            "32/32 [==============================] - 1s 22ms/step - loss: 2.1954 - acc: 0.6375\n",
            "Epoch 1/1\n",
            "32/32 [==============================] - 1s 22ms/step - loss: 2.1992 - acc: 0.6391\n",
            "Epoch 1/1\n",
            "32/32 [==============================] - 1s 22ms/step - loss: 2.3324 - acc: 0.6219\n",
            "Epoch 1/1\n",
            "32/32 [==============================] - 1s 22ms/step - loss: 2.2060 - acc: 0.6500\n",
            "Epoch 1/1\n",
            "32/32 [==============================] - 1s 23ms/step - loss: 2.1552 - acc: 0.6328\n",
            "Epoch 1/1\n",
            "32/32 [==============================] - 1s 23ms/step - loss: 2.1353 - acc: 0.6484\n",
            "Epoch 1/1\n",
            "32/32 [==============================] - 1s 22ms/step - loss: 2.0959 - acc: 0.6609\n",
            "Epoch 1/1\n",
            "32/32 [==============================] - 1s 22ms/step - loss: 2.1456 - acc: 0.6516\n",
            "Epoch 1/1\n",
            "32/32 [==============================] - 1s 22ms/step - loss: 2.1352 - acc: 0.6500\n",
            "Epoch 1/1\n",
            "32/32 [==============================] - 1s 23ms/step - loss: 2.3348 - acc: 0.6406\n",
            "Epoch 1/1\n",
            "32/32 [==============================] - 1s 22ms/step - loss: 2.3208 - acc: 0.6281\n",
            "Epoch 1/1\n",
            "32/32 [==============================] - 1s 22ms/step - loss: 2.3723 - acc: 0.6328\n",
            "Epoch 1/1\n",
            "32/32 [==============================] - 1s 22ms/step - loss: 2.0108 - acc: 0.6875\n",
            "Epoch 1/1\n",
            "32/32 [==============================] - 1s 23ms/step - loss: 2.3162 - acc: 0.6328\n",
            "Epoch 1/1\n",
            "32/32 [==============================] - 1s 22ms/step - loss: 2.4079 - acc: 0.6203\n",
            "Epoch 1/1\n",
            "32/32 [==============================] - 1s 22ms/step - loss: 2.1299 - acc: 0.6641\n",
            "Epoch 1/1\n",
            "32/32 [==============================] - 1s 22ms/step - loss: 2.2732 - acc: 0.6438\n",
            "Epoch 1/1\n",
            "32/32 [==============================] - 1s 22ms/step - loss: 2.2012 - acc: 0.6500\n",
            "Epoch 1/1\n",
            "32/32 [==============================] - 1s 22ms/step - loss: 2.3115 - acc: 0.6391\n",
            "Epoch 1/1\n",
            "32/32 [==============================] - 1s 22ms/step - loss: 2.0664 - acc: 0.6594\n",
            "Epoch 1/1\n",
            "32/32 [==============================] - 1s 22ms/step - loss: 2.2111 - acc: 0.6391\n",
            "Epoch 1/1\n",
            "32/32 [==============================] - 1s 22ms/step - loss: 2.2490 - acc: 0.6328\n",
            "Epoch 1/1\n",
            "32/32 [==============================] - 1s 23ms/step - loss: 2.1461 - acc: 0.6438\n",
            "Epoch 1/1\n",
            "32/32 [==============================] - 1s 23ms/step - loss: 2.4063 - acc: 0.6359\n",
            "Epoch 1/1\n",
            "32/32 [==============================] - 1s 22ms/step - loss: 2.3304 - acc: 0.6281\n",
            "Epoch 1/1\n",
            "32/32 [==============================] - 1s 22ms/step - loss: 2.0299 - acc: 0.6906\n",
            "Epoch 1/1\n",
            "32/32 [==============================] - 1s 22ms/step - loss: 2.0749 - acc: 0.6750\n",
            "Epoch 1/1\n",
            "32/32 [==============================] - 1s 23ms/step - loss: 2.1149 - acc: 0.6656\n",
            "Epoch 1/1\n",
            "32/32 [==============================] - 1s 22ms/step - loss: 2.1109 - acc: 0.6578\n",
            "Epoch 1/1\n",
            "32/32 [==============================] - 1s 23ms/step - loss: 2.3043 - acc: 0.6438\n",
            "Epoch 1/1\n",
            "32/32 [==============================] - 1s 22ms/step - loss: 2.2735 - acc: 0.6531\n",
            "Epoch 1/1\n",
            "32/32 [==============================] - 1s 22ms/step - loss: 2.1788 - acc: 0.6516\n",
            "Epoch 1/1\n",
            "32/32 [==============================] - 1s 22ms/step - loss: 2.0432 - acc: 0.6641\n",
            "Epoch 1/1\n",
            "32/32 [==============================] - 1s 22ms/step - loss: 2.1306 - acc: 0.6453\n",
            "Epoch 1/1\n",
            "32/32 [==============================] - 1s 22ms/step - loss: 2.1627 - acc: 0.6516\n",
            "Epoch 1/1\n",
            "32/32 [==============================] - 1s 22ms/step - loss: 2.1377 - acc: 0.6453\n",
            "Epoch 1/1\n",
            "32/32 [==============================] - 1s 22ms/step - loss: 2.1024 - acc: 0.6484\n",
            "Epoch 1/1\n",
            "32/32 [==============================] - 1s 23ms/step - loss: 1.9901 - acc: 0.6766\n",
            "Epoch 1/1\n",
            "32/32 [==============================] - 1s 22ms/step - loss: 1.8951 - acc: 0.6969\n",
            "Epoch 1/1\n",
            "32/32 [==============================] - 1s 23ms/step - loss: 2.2339 - acc: 0.6500\n",
            "Epoch 1/1\n",
            "32/32 [==============================] - 1s 23ms/step - loss: 2.0929 - acc: 0.6594\n",
            "Epoch 1/1\n",
            "32/32 [==============================] - 1s 22ms/step - loss: 2.2524 - acc: 0.6406\n",
            "Epoch 1/1\n",
            "32/32 [==============================] - 1s 23ms/step - loss: 2.2581 - acc: 0.6313\n",
            "Epoch 1/1\n",
            "32/32 [==============================] - 1s 22ms/step - loss: 1.9631 - acc: 0.6859\n",
            "Epoch 1/1\n",
            "32/32 [==============================] - 1s 22ms/step - loss: 2.0121 - acc: 0.6812\n",
            "Epoch 1/1\n",
            "32/32 [==============================] - 1s 23ms/step - loss: 2.1281 - acc: 0.6625\n",
            "Epoch 1/1\n",
            "32/32 [==============================] - 1s 22ms/step - loss: 2.2323 - acc: 0.6328\n",
            "Epoch 1/1\n",
            "32/32 [==============================] - 1s 22ms/step - loss: 2.1642 - acc: 0.6453\n",
            "Epoch 1/1\n",
            "32/32 [==============================] - 1s 22ms/step - loss: 2.3439 - acc: 0.6250\n",
            "Epoch 1/1\n",
            "32/32 [==============================] - 1s 22ms/step - loss: 2.3009 - acc: 0.6250\n",
            "Epoch 1/1\n",
            "32/32 [==============================] - 1s 22ms/step - loss: 2.2332 - acc: 0.6344\n",
            "Epoch 1/1\n",
            "32/32 [==============================] - 1s 22ms/step - loss: 2.2527 - acc: 0.6328\n",
            "Epoch 1/1\n",
            "32/32 [==============================] - 1s 22ms/step - loss: 2.1735 - acc: 0.6547\n",
            "Epoch 1/1\n",
            "32/32 [==============================] - 1s 23ms/step - loss: 2.2794 - acc: 0.6469\n",
            "Epoch 1/1\n",
            "32/32 [==============================] - 1s 22ms/step - loss: 2.0587 - acc: 0.6734\n",
            "Epoch 1/1\n",
            "32/32 [==============================] - 1s 23ms/step - loss: 2.3040 - acc: 0.6375\n",
            "Epoch 1/1\n",
            "32/32 [==============================] - 1s 22ms/step - loss: 2.2307 - acc: 0.6469\n",
            "Epoch 1/1\n",
            "32/32 [==============================] - 1s 22ms/step - loss: 2.3276 - acc: 0.6172\n",
            "Epoch 1/1\n",
            "32/32 [==============================] - 1s 22ms/step - loss: 2.1398 - acc: 0.6484\n",
            "Epoch 1/1\n",
            "32/32 [==============================] - 1s 22ms/step - loss: 2.1452 - acc: 0.6734\n",
            "Epoch 1/1\n",
            "32/32 [==============================] - 1s 22ms/step - loss: 2.0505 - acc: 0.6797\n",
            "Epoch 1/1\n",
            "32/32 [==============================] - 1s 22ms/step - loss: 2.0325 - acc: 0.6703\n",
            "Epoch 1/1\n",
            "32/32 [==============================] - 1s 22ms/step - loss: 2.1529 - acc: 0.6766\n",
            "Epoch 1/1\n",
            "32/32 [==============================] - 1s 22ms/step - loss: 2.2978 - acc: 0.6359\n",
            "Epoch 1/1\n",
            "32/32 [==============================] - 1s 22ms/step - loss: 2.0977 - acc: 0.6500\n",
            "Epoch 1/1\n",
            "32/32 [==============================] - 1s 22ms/step - loss: 2.1425 - acc: 0.6500\n",
            "Epoch 1/1\n",
            "32/32 [==============================] - 1s 22ms/step - loss: 2.1850 - acc: 0.6453\n",
            "Epoch 1/1\n",
            "32/32 [==============================] - 1s 23ms/step - loss: 2.1289 - acc: 0.6609\n",
            "Epoch 1/1\n",
            "32/32 [==============================] - 1s 22ms/step - loss: 2.1831 - acc: 0.6594\n",
            "Epoch 1/1\n",
            "32/32 [==============================] - 1s 22ms/step - loss: 2.1306 - acc: 0.6609\n",
            "Epoch 1/1\n",
            "32/32 [==============================] - 1s 22ms/step - loss: 2.2207 - acc: 0.6453\n",
            "Epoch 1/1\n",
            "32/32 [==============================] - 1s 22ms/step - loss: 2.1216 - acc: 0.6547\n",
            "Epoch 1/1\n",
            "32/32 [==============================] - 1s 23ms/step - loss: 2.1771 - acc: 0.6594\n",
            "Epoch 1/1\n",
            "32/32 [==============================] - 1s 23ms/step - loss: 2.1338 - acc: 0.6672\n",
            "Epoch 1/1\n",
            "32/32 [==============================] - 1s 24ms/step - loss: 2.0130 - acc: 0.6703\n",
            "Epoch 1/1\n",
            "32/32 [==============================] - 1s 24ms/step - loss: 2.3692 - acc: 0.6234\n",
            "Epoch 1/1\n",
            "32/32 [==============================] - 1s 24ms/step - loss: 2.1772 - acc: 0.6406\n",
            "Epoch 1/1\n",
            "32/32 [==============================] - 1s 24ms/step - loss: 2.3347 - acc: 0.6375\n",
            "Epoch 1/1\n",
            "32/32 [==============================] - 1s 23ms/step - loss: 2.2086 - acc: 0.6375\n",
            "Epoch 1/1\n",
            "32/32 [==============================] - 1s 23ms/step - loss: 2.0761 - acc: 0.6781\n",
            "Epoch 1/1\n",
            "32/32 [==============================] - 1s 23ms/step - loss: 2.1311 - acc: 0.6672\n",
            "Epoch 1/1\n",
            "32/32 [==============================] - 1s 24ms/step - loss: 2.2320 - acc: 0.6609\n",
            "Epoch 1/1\n",
            "32/32 [==============================] - 1s 24ms/step - loss: 2.3068 - acc: 0.6438\n",
            "Epoch 1/1\n",
            "32/32 [==============================] - 1s 24ms/step - loss: 2.2911 - acc: 0.6500\n",
            "Epoch 1/1\n",
            "32/32 [==============================] - 1s 24ms/step - loss: 2.3642 - acc: 0.6266\n",
            "Epoch 1/1\n",
            "32/32 [==============================] - 1s 23ms/step - loss: 2.1046 - acc: 0.6609\n",
            "Epoch 1/1\n",
            "32/32 [==============================] - 1s 23ms/step - loss: 2.2573 - acc: 0.6359\n",
            "Epoch 1/1\n",
            "32/32 [==============================] - 1s 24ms/step - loss: 2.1138 - acc: 0.6625\n",
            "Epoch 1/1\n",
            "32/32 [==============================] - 1s 23ms/step - loss: 2.0265 - acc: 0.6687\n",
            "Epoch 1/1\n",
            "32/32 [==============================] - 1s 24ms/step - loss: 2.0355 - acc: 0.6750\n",
            "Epoch 1/1\n",
            "32/32 [==============================] - 1s 23ms/step - loss: 2.1228 - acc: 0.6547\n",
            "Epoch 1/1\n",
            "32/32 [==============================] - 1s 24ms/step - loss: 2.1874 - acc: 0.6313\n",
            "Epoch 1/1\n",
            "32/32 [==============================] - 1s 24ms/step - loss: 2.0481 - acc: 0.6734\n",
            "Epoch 1/1\n",
            "32/32 [==============================] - 1s 24ms/step - loss: 2.0591 - acc: 0.6750\n",
            "Epoch 1/1\n",
            "32/32 [==============================] - 1s 23ms/step - loss: 2.2091 - acc: 0.6469\n",
            "Epoch 1/1\n",
            "32/32 [==============================] - 1s 22ms/step - loss: 2.0211 - acc: 0.6922\n",
            "Epoch 1/1\n",
            "32/32 [==============================] - 1s 23ms/step - loss: 2.2368 - acc: 0.6375\n",
            "Epoch 1/1\n",
            "32/32 [==============================] - 1s 22ms/step - loss: 2.0804 - acc: 0.6719\n",
            "Epoch 1/1\n",
            "32/32 [==============================] - 1s 22ms/step - loss: 2.2759 - acc: 0.6281\n",
            "Epoch 1/1\n",
            "32/32 [==============================] - 1s 22ms/step - loss: 2.0765 - acc: 0.6750\n",
            "Epoch 1/1\n",
            "32/32 [==============================] - 1s 22ms/step - loss: 2.1737 - acc: 0.6375\n",
            "Epoch 1/1\n",
            "32/32 [==============================] - 1s 22ms/step - loss: 2.2574 - acc: 0.6313\n",
            "Epoch 1/1\n",
            "32/32 [==============================] - 1s 22ms/step - loss: 2.0759 - acc: 0.6625\n",
            "Epoch 1/1\n",
            "32/32 [==============================] - 1s 23ms/step - loss: 2.0386 - acc: 0.6625\n",
            "Epoch 1/1\n",
            "32/32 [==============================] - 1s 22ms/step - loss: 1.9899 - acc: 0.6828\n",
            "Epoch 1/1\n",
            "32/32 [==============================] - 1s 23ms/step - loss: 2.3032 - acc: 0.6422\n",
            "Epoch 1/1\n",
            "32/32 [==============================] - 1s 23ms/step - loss: 2.2608 - acc: 0.6344\n",
            "Epoch 1/1\n",
            "32/32 [==============================] - 1s 22ms/step - loss: 2.1135 - acc: 0.6641\n",
            "Epoch 1/1\n",
            "32/32 [==============================] - 1s 22ms/step - loss: 2.1185 - acc: 0.6531\n",
            "Epoch 1/1\n",
            "32/32 [==============================] - 1s 22ms/step - loss: 2.4223 - acc: 0.6141\n",
            "Epoch 1/1\n",
            "32/32 [==============================] - 1s 22ms/step - loss: 2.2212 - acc: 0.6453\n",
            "Epoch 1/1\n",
            "32/32 [==============================] - 1s 22ms/step - loss: 2.2410 - acc: 0.6469\n",
            "Epoch 1/1\n",
            "32/32 [==============================] - 1s 22ms/step - loss: 2.1888 - acc: 0.6406\n",
            "Epoch 1/1\n",
            "32/32 [==============================] - 1s 22ms/step - loss: 2.2816 - acc: 0.6562\n",
            "Epoch 1/1\n",
            "32/32 [==============================] - 1s 22ms/step - loss: 2.2196 - acc: 0.6344\n",
            "Epoch 1/1\n",
            "32/32 [==============================] - 1s 23ms/step - loss: 2.1928 - acc: 0.6469\n",
            "Epoch 1/1\n",
            "32/32 [==============================] - 1s 22ms/step - loss: 2.2669 - acc: 0.6266\n",
            "Epoch 1/1\n",
            "32/32 [==============================] - 1s 22ms/step - loss: 2.0700 - acc: 0.6656\n",
            "Epoch 1/1\n",
            "32/32 [==============================] - 1s 22ms/step - loss: 2.1232 - acc: 0.6656\n",
            "Epoch 1/1\n",
            "32/32 [==============================] - 1s 23ms/step - loss: 2.1172 - acc: 0.6750\n",
            "Epoch 1/1\n",
            "32/32 [==============================] - 1s 23ms/step - loss: 1.9408 - acc: 0.6844\n",
            "Epoch 1/1\n",
            "32/32 [==============================] - 1s 22ms/step - loss: 2.0309 - acc: 0.6531\n",
            "Epoch 1/1\n",
            "32/32 [==============================] - 1s 22ms/step - loss: 2.1203 - acc: 0.6562\n",
            "Epoch 1/1\n",
            "32/32 [==============================] - 1s 22ms/step - loss: 2.1956 - acc: 0.6359\n",
            "Epoch 1/1\n",
            "32/32 [==============================] - 1s 22ms/step - loss: 2.3294 - acc: 0.6141\n",
            "Epoch 1/1\n",
            "32/32 [==============================] - 1s 22ms/step - loss: 2.2753 - acc: 0.6219\n",
            "Epoch 1/1\n",
            "32/32 [==============================] - 1s 22ms/step - loss: 2.1887 - acc: 0.6609\n",
            "Epoch 1/1\n",
            "32/32 [==============================] - 1s 23ms/step - loss: 2.2261 - acc: 0.6250\n",
            "Epoch 1/1\n",
            "32/32 [==============================] - 1s 22ms/step - loss: 2.2858 - acc: 0.6187\n",
            "Epoch 1/1\n",
            "32/32 [==============================] - 1s 22ms/step - loss: 2.1894 - acc: 0.6375\n",
            "Epoch 1/1\n",
            "32/32 [==============================] - 1s 22ms/step - loss: 2.0805 - acc: 0.6703\n",
            "Epoch 1/1\n",
            "32/32 [==============================] - 1s 22ms/step - loss: 2.1738 - acc: 0.6500\n",
            "Epoch 1/1\n",
            "32/32 [==============================] - 1s 22ms/step - loss: 2.2677 - acc: 0.6406\n",
            "Epoch 1/1\n",
            "32/32 [==============================] - 1s 22ms/step - loss: 2.0663 - acc: 0.6703\n",
            "Epoch 1/1\n",
            "32/32 [==============================] - 1s 22ms/step - loss: 2.1811 - acc: 0.6578\n",
            "Epoch 1/1\n",
            "32/32 [==============================] - 1s 22ms/step - loss: 2.0154 - acc: 0.6906\n",
            "Epoch 1/1\n",
            "32/32 [==============================] - 1s 22ms/step - loss: 1.9768 - acc: 0.6906\n",
            "Epoch 1/1\n",
            "32/32 [==============================] - 1s 22ms/step - loss: 2.5363 - acc: 0.6062\n",
            "Epoch 1/1\n",
            "32/32 [==============================] - 1s 22ms/step - loss: 2.1980 - acc: 0.6500\n",
            "Epoch 1/1\n",
            "32/32 [==============================] - 1s 22ms/step - loss: 2.1029 - acc: 0.6641\n",
            "Epoch 1/1\n",
            "32/32 [==============================] - 1s 23ms/step - loss: 2.1746 - acc: 0.6594\n",
            "Epoch 1/1\n",
            "32/32 [==============================] - 1s 22ms/step - loss: 2.2731 - acc: 0.6281\n",
            "Epoch 1/1\n",
            "32/32 [==============================] - 1s 22ms/step - loss: 2.1795 - acc: 0.6484\n",
            "Epoch 1/1\n",
            "32/32 [==============================] - 1s 23ms/step - loss: 2.0235 - acc: 0.6687\n",
            "Epoch 1/1\n",
            "32/32 [==============================] - 1s 22ms/step - loss: 2.2152 - acc: 0.6422\n",
            "Epoch 1/1\n",
            "32/32 [==============================] - 1s 22ms/step - loss: 2.2246 - acc: 0.6469\n",
            "Epoch 1/1\n",
            "32/32 [==============================] - 1s 23ms/step - loss: 2.1630 - acc: 0.6609\n",
            "Epoch 1/1\n",
            "32/32 [==============================] - 1s 22ms/step - loss: 2.1753 - acc: 0.6594\n",
            "Epoch 1/1\n",
            "32/32 [==============================] - 1s 22ms/step - loss: 2.2362 - acc: 0.6391\n",
            "Epoch 1/1\n",
            "32/32 [==============================] - 1s 22ms/step - loss: 2.1725 - acc: 0.6562\n",
            "Epoch 1/1\n",
            "32/32 [==============================] - 1s 22ms/step - loss: 2.2472 - acc: 0.6391\n",
            "Epoch 1/1\n",
            "32/32 [==============================] - 1s 22ms/step - loss: 2.1512 - acc: 0.6547\n",
            "Epoch 1/1\n",
            "32/32 [==============================] - 1s 22ms/step - loss: 2.2771 - acc: 0.6453\n",
            "Epoch 1/1\n",
            "32/32 [==============================] - 1s 22ms/step - loss: 2.0886 - acc: 0.6703\n",
            "Epoch 1/1\n",
            "32/32 [==============================] - 1s 22ms/step - loss: 2.2326 - acc: 0.6516\n",
            "Epoch 1/1\n",
            "32/32 [==============================] - 1s 22ms/step - loss: 2.1816 - acc: 0.6453\n",
            "Epoch 1/1\n",
            "32/32 [==============================] - 1s 22ms/step - loss: 2.2106 - acc: 0.6500\n",
            "Epoch 1/1\n",
            "32/32 [==============================] - 1s 23ms/step - loss: 2.0552 - acc: 0.6703\n",
            "Epoch 1/1\n",
            "32/32 [==============================] - 1s 23ms/step - loss: 2.2161 - acc: 0.6406\n",
            "Epoch 1/1\n",
            "32/32 [==============================] - 1s 23ms/step - loss: 2.0839 - acc: 0.6656\n",
            "Epoch 1/1\n",
            "32/32 [==============================] - 1s 22ms/step - loss: 2.1245 - acc: 0.6562\n",
            "Epoch 1/1\n",
            "32/32 [==============================] - 1s 22ms/step - loss: 2.2822 - acc: 0.6594\n",
            "Epoch 1/1\n",
            "32/32 [==============================] - 1s 22ms/step - loss: 2.1531 - acc: 0.6500\n",
            "Epoch 1/1\n",
            "32/32 [==============================] - 1s 22ms/step - loss: 2.0284 - acc: 0.6531\n",
            "Epoch 1/1\n",
            "32/32 [==============================] - 1s 22ms/step - loss: 2.1814 - acc: 0.6453\n",
            "Epoch 1/1\n",
            "32/32 [==============================] - 1s 22ms/step - loss: 1.8651 - acc: 0.6906\n",
            "Epoch 1/1\n",
            "32/32 [==============================] - 1s 22ms/step - loss: 2.0377 - acc: 0.6906\n",
            "Epoch 1/1\n",
            "32/32 [==============================] - 1s 23ms/step - loss: 2.2654 - acc: 0.6406\n",
            "Epoch 1/1\n",
            "32/32 [==============================] - 1s 22ms/step - loss: 2.2587 - acc: 0.6375\n",
            "Epoch 1/1\n",
            "32/32 [==============================] - 1s 22ms/step - loss: 2.0108 - acc: 0.6828\n",
            "Epoch 1/1\n",
            "32/32 [==============================] - 1s 22ms/step - loss: 1.9872 - acc: 0.6812\n",
            "Epoch 1/1\n",
            "32/32 [==============================] - 1s 22ms/step - loss: 2.0987 - acc: 0.6625\n",
            "Epoch 1/1\n",
            "32/32 [==============================] - 1s 22ms/step - loss: 2.2141 - acc: 0.6469\n",
            "Epoch 1/1\n",
            "32/32 [==============================] - 1s 22ms/step - loss: 2.3259 - acc: 0.6359\n",
            "Epoch 1/1\n",
            "32/32 [==============================] - 1s 22ms/step - loss: 1.9766 - acc: 0.6703\n",
            "Epoch 1/1\n",
            "32/32 [==============================] - 1s 22ms/step - loss: 2.1389 - acc: 0.6594\n",
            "Epoch 1/1\n",
            "32/32 [==============================] - 1s 22ms/step - loss: 2.1606 - acc: 0.6406\n",
            "Epoch 1/1\n",
            "32/32 [==============================] - 1s 22ms/step - loss: 2.1195 - acc: 0.6609\n",
            "Epoch 1/1\n",
            "32/32 [==============================] - 1s 23ms/step - loss: 1.9869 - acc: 0.6703\n",
            "Epoch 1/1\n",
            "32/32 [==============================] - 1s 22ms/step - loss: 2.0574 - acc: 0.6750\n",
            "Epoch 1/1\n",
            "32/32 [==============================] - 1s 22ms/step - loss: 2.2676 - acc: 0.6531\n",
            "Epoch 1/1\n",
            "32/32 [==============================] - 1s 23ms/step - loss: 2.1936 - acc: 0.6391\n",
            "Epoch 1/1\n",
            "32/32 [==============================] - 1s 23ms/step - loss: 2.1053 - acc: 0.6500\n",
            "Epoch 1/1\n",
            "32/32 [==============================] - 1s 23ms/step - loss: 2.2265 - acc: 0.6562\n",
            "Epoch 1/1\n",
            "32/32 [==============================] - 1s 22ms/step - loss: 2.1388 - acc: 0.6578\n",
            "Epoch 1/1\n",
            "32/32 [==============================] - 1s 22ms/step - loss: 2.1755 - acc: 0.6516\n",
            "Epoch 1/1\n",
            "32/32 [==============================] - 1s 23ms/step - loss: 2.3163 - acc: 0.6328\n",
            "Epoch 1/1\n",
            "32/32 [==============================] - 1s 23ms/step - loss: 2.1075 - acc: 0.6609\n",
            "Epoch 1/1\n",
            "32/32 [==============================] - 1s 22ms/step - loss: 2.0150 - acc: 0.6656\n",
            "Epoch 1/1\n",
            "32/32 [==============================] - 1s 23ms/step - loss: 2.0953 - acc: 0.6672\n",
            "Epoch 1/1\n",
            "32/32 [==============================] - 1s 22ms/step - loss: 2.2015 - acc: 0.6656\n",
            "Epoch 1/1\n",
            "32/32 [==============================] - 1s 22ms/step - loss: 2.1133 - acc: 0.6734\n",
            "Epoch 1/1\n",
            "32/32 [==============================] - 1s 22ms/step - loss: 2.1553 - acc: 0.6406\n",
            "Epoch 1/1\n",
            "32/32 [==============================] - 1s 23ms/step - loss: 2.0498 - acc: 0.6781\n",
            "Epoch 1/1\n",
            "32/32 [==============================] - 1s 22ms/step - loss: 2.0818 - acc: 0.6500\n",
            "Epoch 1/1\n",
            "32/32 [==============================] - 1s 23ms/step - loss: 2.0663 - acc: 0.6641\n",
            "Epoch 1/1\n",
            "32/32 [==============================] - 1s 23ms/step - loss: 2.1109 - acc: 0.6375\n",
            "Epoch 1/1\n",
            "32/32 [==============================] - 1s 22ms/step - loss: 2.1921 - acc: 0.6609\n",
            "Epoch 1/1\n",
            "32/32 [==============================] - 1s 22ms/step - loss: 2.1945 - acc: 0.6625\n",
            "Epoch 1/1\n",
            "32/32 [==============================] - 1s 23ms/step - loss: 2.3257 - acc: 0.6031\n",
            "Epoch 1/1\n",
            "32/32 [==============================] - 1s 22ms/step - loss: 1.9991 - acc: 0.6781\n",
            "Epoch 1/1\n",
            "32/32 [==============================] - 1s 22ms/step - loss: 2.2107 - acc: 0.6391\n",
            "Epoch 1/1\n",
            "32/32 [==============================] - 1s 23ms/step - loss: 2.2386 - acc: 0.6328\n",
            "Epoch 1/1\n",
            "32/32 [==============================] - 1s 22ms/step - loss: 2.2733 - acc: 0.6250\n",
            "Epoch 1/1\n",
            "32/32 [==============================] - 1s 22ms/step - loss: 2.1076 - acc: 0.6656\n",
            "Epoch 1/1\n",
            "32/32 [==============================] - 1s 22ms/step - loss: 2.2021 - acc: 0.6359\n",
            "Epoch 1/1\n",
            "32/32 [==============================] - 1s 22ms/step - loss: 2.1838 - acc: 0.6438\n",
            "Epoch 1/1\n",
            "32/32 [==============================] - 1s 23ms/step - loss: 2.1729 - acc: 0.6359\n",
            "Epoch 1/1\n",
            "32/32 [==============================] - 1s 23ms/step - loss: 2.0350 - acc: 0.6906\n",
            "Epoch 1/1\n",
            "32/32 [==============================] - 1s 22ms/step - loss: 2.2095 - acc: 0.6375\n",
            "Epoch 1/1\n",
            "32/32 [==============================] - 1s 22ms/step - loss: 2.2724 - acc: 0.6516\n",
            "Epoch 1/1\n",
            "32/32 [==============================] - 1s 22ms/step - loss: 2.0368 - acc: 0.6750\n",
            "Epoch 1/1\n",
            "32/32 [==============================] - 1s 22ms/step - loss: 2.1464 - acc: 0.6766\n",
            "Epoch 1/1\n",
            "32/32 [==============================] - 1s 22ms/step - loss: 1.9226 - acc: 0.6859\n",
            "Epoch 1/1\n",
            "32/32 [==============================] - 1s 22ms/step - loss: 2.1827 - acc: 0.6547\n",
            "Epoch 1/1\n",
            "32/32 [==============================] - 1s 22ms/step - loss: 2.1624 - acc: 0.6531\n",
            "Epoch 1/1\n",
            "32/32 [==============================] - 1s 22ms/step - loss: 1.8411 - acc: 0.6969\n",
            "Epoch 1/1\n",
            "32/32 [==============================] - 1s 22ms/step - loss: 2.0817 - acc: 0.6484\n",
            "Epoch 1/1\n",
            "32/32 [==============================] - 1s 22ms/step - loss: 2.0724 - acc: 0.6609\n",
            "Epoch 1/1\n",
            "32/32 [==============================] - 1s 22ms/step - loss: 2.1856 - acc: 0.6516\n",
            "Epoch 1/1\n",
            "32/32 [==============================] - 1s 22ms/step - loss: 2.2178 - acc: 0.6562\n",
            "Epoch 1/1\n",
            "32/32 [==============================] - 1s 23ms/step - loss: 2.1960 - acc: 0.6469\n",
            "Epoch 1/1\n",
            "32/32 [==============================] - 1s 23ms/step - loss: 2.1073 - acc: 0.6500\n",
            "Epoch 1/1\n",
            "32/32 [==============================] - 1s 22ms/step - loss: 2.1235 - acc: 0.6719\n",
            "Epoch 1/1\n",
            "32/32 [==============================] - 1s 22ms/step - loss: 2.1923 - acc: 0.6313\n",
            "Epoch 1/1\n",
            "32/32 [==============================] - 1s 22ms/step - loss: 2.1838 - acc: 0.6406\n",
            "Epoch 1/1\n",
            "32/32 [==============================] - 1s 22ms/step - loss: 2.1525 - acc: 0.6438\n",
            "Epoch 1/1\n",
            "32/32 [==============================] - 1s 23ms/step - loss: 2.2770 - acc: 0.6547\n",
            "Epoch 1/1\n",
            "32/32 [==============================] - 1s 22ms/step - loss: 1.9817 - acc: 0.6750\n",
            "Epoch 1/1\n",
            "32/32 [==============================] - 1s 22ms/step - loss: 2.1898 - acc: 0.6516\n",
            "Epoch 1/1\n",
            "32/32 [==============================] - 1s 22ms/step - loss: 2.2924 - acc: 0.6547\n",
            "Epoch 1/1\n",
            "32/32 [==============================] - 1s 22ms/step - loss: 2.1739 - acc: 0.6453\n",
            "Epoch 1/1\n",
            "32/32 [==============================] - 1s 22ms/step - loss: 1.8768 - acc: 0.6844\n",
            "Epoch 1/1\n",
            "32/32 [==============================] - 1s 22ms/step - loss: 2.0060 - acc: 0.6687\n",
            "Epoch 1/1\n",
            "32/32 [==============================] - 1s 23ms/step - loss: 2.3711 - acc: 0.6313\n",
            "Epoch 1/1\n",
            "32/32 [==============================] - 1s 22ms/step - loss: 2.1703 - acc: 0.6422\n",
            "Epoch 1/1\n",
            "32/32 [==============================] - 1s 22ms/step - loss: 2.1939 - acc: 0.6453\n",
            "Epoch 1/1\n",
            "32/32 [==============================] - 1s 23ms/step - loss: 2.1820 - acc: 0.6719\n",
            "Epoch 1/1\n",
            "32/32 [==============================] - 1s 23ms/step - loss: 1.9359 - acc: 0.6812\n",
            "Epoch 1/1\n",
            "32/32 [==============================] - 1s 23ms/step - loss: 2.1414 - acc: 0.6656\n",
            "Epoch 1/1\n",
            "32/32 [==============================] - 1s 23ms/step - loss: 2.2812 - acc: 0.6375\n",
            "Epoch 1/1\n",
            "32/32 [==============================] - 1s 23ms/step - loss: 2.3460 - acc: 0.6187\n",
            "Epoch 1/1\n",
            "32/32 [==============================] - 1s 23ms/step - loss: 2.0982 - acc: 0.6594\n",
            "Epoch 1/1\n",
            "32/32 [==============================] - 1s 22ms/step - loss: 2.3051 - acc: 0.6422\n",
            "Epoch 1/1\n",
            "32/32 [==============================] - 1s 23ms/step - loss: 1.9827 - acc: 0.6797\n",
            "Epoch 1/1\n",
            "32/32 [==============================] - 1s 22ms/step - loss: 2.3751 - acc: 0.6297\n",
            "Epoch 1/1\n",
            "32/32 [==============================] - 1s 22ms/step - loss: 2.3143 - acc: 0.6266\n",
            "Epoch 1/1\n",
            "32/32 [==============================] - 1s 22ms/step - loss: 2.1428 - acc: 0.6609\n",
            "Epoch 1/1\n",
            "32/32 [==============================] - 1s 22ms/step - loss: 2.0998 - acc: 0.6500\n",
            "Epoch 1/1\n",
            "32/32 [==============================] - 1s 22ms/step - loss: 2.1888 - acc: 0.6469\n",
            "Epoch 1/1\n",
            "32/32 [==============================] - 1s 23ms/step - loss: 1.9012 - acc: 0.6953\n",
            "Epoch 1/1\n",
            "32/32 [==============================] - 1s 22ms/step - loss: 2.3103 - acc: 0.6266\n",
            "Epoch 1/1\n",
            "32/32 [==============================] - 1s 22ms/step - loss: 2.0817 - acc: 0.6594\n",
            "Epoch 1/1\n",
            "32/32 [==============================] - 1s 22ms/step - loss: 2.1337 - acc: 0.6531\n",
            "Epoch 1/1\n",
            "32/32 [==============================] - 1s 22ms/step - loss: 2.2609 - acc: 0.6187\n",
            "Epoch 1/1\n",
            "32/32 [==============================] - 1s 22ms/step - loss: 2.1870 - acc: 0.6438\n",
            "Epoch 1/1\n",
            "32/32 [==============================] - 1s 22ms/step - loss: 2.1505 - acc: 0.6578\n",
            "Epoch 1/1\n",
            "32/32 [==============================] - 1s 23ms/step - loss: 2.0596 - acc: 0.6781\n",
            "Epoch 1/1\n",
            "32/32 [==============================] - 1s 23ms/step - loss: 2.1882 - acc: 0.6422\n",
            "Epoch 1/1\n",
            "32/32 [==============================] - 1s 22ms/step - loss: 2.2246 - acc: 0.6406\n",
            "Epoch 1/1\n",
            "32/32 [==============================] - 1s 23ms/step - loss: 2.1640 - acc: 0.6594\n",
            "Epoch 1/1\n",
            "32/32 [==============================] - 1s 23ms/step - loss: 2.1467 - acc: 0.6531\n",
            "Epoch 1/1\n",
            "32/32 [==============================] - 1s 22ms/step - loss: 2.2204 - acc: 0.6406\n",
            "Epoch 1/1\n",
            "32/32 [==============================] - 1s 22ms/step - loss: 1.9932 - acc: 0.6656\n",
            "Epoch 1/1\n",
            "32/32 [==============================] - 1s 22ms/step - loss: 2.4394 - acc: 0.6125\n",
            "Epoch 1/1\n",
            "32/32 [==============================] - 1s 22ms/step - loss: 1.8628 - acc: 0.6922\n",
            "Epoch 1/1\n",
            "32/32 [==============================] - 1s 22ms/step - loss: 2.0060 - acc: 0.6687\n",
            "Epoch 1/1\n",
            "32/32 [==============================] - 1s 23ms/step - loss: 1.9797 - acc: 0.6781\n",
            "Epoch 1/1\n",
            "32/32 [==============================] - 1s 22ms/step - loss: 2.0374 - acc: 0.6750\n",
            "Epoch 1/1\n",
            "32/32 [==============================] - 1s 22ms/step - loss: 2.1143 - acc: 0.6781\n",
            "Epoch 1/1\n",
            "32/32 [==============================] - 1s 22ms/step - loss: 2.1654 - acc: 0.6469\n",
            "Epoch 1/1\n",
            "32/32 [==============================] - 1s 22ms/step - loss: 2.0691 - acc: 0.6484\n",
            "Epoch 1/1\n",
            "32/32 [==============================] - 1s 23ms/step - loss: 2.2663 - acc: 0.6531\n",
            "Epoch 1/1\n",
            "32/32 [==============================] - 1s 23ms/step - loss: 2.0635 - acc: 0.6625\n",
            "Epoch 1/1\n",
            "32/32 [==============================] - 1s 22ms/step - loss: 2.0037 - acc: 0.6781\n",
            "Epoch 1/1\n",
            "32/32 [==============================] - 1s 22ms/step - loss: 2.0604 - acc: 0.6609\n",
            "Epoch 1/1\n",
            "32/32 [==============================] - 1s 22ms/step - loss: 2.1291 - acc: 0.6469\n",
            "Epoch 1/1\n",
            "32/32 [==============================] - 1s 22ms/step - loss: 2.0572 - acc: 0.6781\n",
            "Epoch 1/1\n",
            "32/32 [==============================] - 1s 22ms/step - loss: 2.1598 - acc: 0.6484\n",
            "Epoch 1/1\n",
            "32/32 [==============================] - 1s 22ms/step - loss: 2.3497 - acc: 0.6344\n",
            "Epoch 1/1\n",
            "32/32 [==============================] - 1s 22ms/step - loss: 1.9901 - acc: 0.6938\n",
            "Epoch 1/1\n",
            "32/32 [==============================] - 1s 22ms/step - loss: 2.0506 - acc: 0.6766\n",
            "Epoch 1/1\n",
            "32/32 [==============================] - 1s 23ms/step - loss: 2.2052 - acc: 0.6609\n",
            "Epoch 1/1\n",
            "32/32 [==============================] - 1s 22ms/step - loss: 2.2302 - acc: 0.6469\n",
            "Epoch 1/1\n",
            "32/32 [==============================] - 1s 22ms/step - loss: 2.1873 - acc: 0.6578\n",
            "Epoch 1/1\n",
            "32/32 [==============================] - 1s 23ms/step - loss: 2.1849 - acc: 0.6609\n",
            "Epoch 1/1\n",
            "32/32 [==============================] - 1s 22ms/step - loss: 2.0643 - acc: 0.6719\n",
            "Epoch 1/1\n",
            "32/32 [==============================] - 1s 22ms/step - loss: 2.0239 - acc: 0.6656\n",
            "Epoch 1/1\n",
            "32/32 [==============================] - 1s 23ms/step - loss: 2.1165 - acc: 0.6578\n",
            "Epoch 1/1\n",
            "32/32 [==============================] - 1s 23ms/step - loss: 2.0458 - acc: 0.6766\n",
            "Epoch 1/1\n",
            "32/32 [==============================] - 1s 22ms/step - loss: 2.2539 - acc: 0.6453\n",
            "Epoch 1/1\n",
            "32/32 [==============================] - 1s 22ms/step - loss: 2.0372 - acc: 0.6734\n",
            "Epoch 1/1\n",
            "32/32 [==============================] - 1s 22ms/step - loss: 2.1656 - acc: 0.6484\n",
            "Epoch 1/1\n",
            "32/32 [==============================] - 1s 22ms/step - loss: 2.1096 - acc: 0.6547\n",
            "Epoch 1/1\n",
            "32/32 [==============================] - 1s 22ms/step - loss: 2.2218 - acc: 0.6297\n",
            "Epoch 1/1\n",
            "32/32 [==============================] - 1s 22ms/step - loss: 2.0653 - acc: 0.6594\n",
            "Epoch 1/1\n",
            "32/32 [==============================] - 1s 22ms/step - loss: 2.2119 - acc: 0.6531\n",
            "Epoch 1/1\n",
            "32/32 [==============================] - 1s 22ms/step - loss: 2.3569 - acc: 0.6313\n",
            "Epoch 1/1\n",
            "32/32 [==============================] - 1s 22ms/step - loss: 2.0468 - acc: 0.6500\n",
            "Epoch 1/1\n",
            "32/32 [==============================] - 1s 23ms/step - loss: 1.9338 - acc: 0.6938\n",
            "Epoch 1/1\n",
            "32/32 [==============================] - 1s 23ms/step - loss: 2.0980 - acc: 0.6578\n",
            "Epoch 1/1\n",
            "32/32 [==============================] - 1s 23ms/step - loss: 2.3692 - acc: 0.6297\n",
            "Epoch 1/1\n",
            "32/32 [==============================] - 1s 23ms/step - loss: 2.0962 - acc: 0.6547\n",
            "Epoch 1/1\n",
            "32/32 [==============================] - 1s 22ms/step - loss: 2.0879 - acc: 0.6625\n",
            "Epoch 1/1\n",
            "32/32 [==============================] - 1s 23ms/step - loss: 2.0672 - acc: 0.6656\n",
            "Epoch 1/1\n",
            "32/32 [==============================] - 1s 22ms/step - loss: 2.1873 - acc: 0.6531\n",
            "Epoch 1/1\n",
            "32/32 [==============================] - 1s 22ms/step - loss: 2.0470 - acc: 0.6687\n",
            "Epoch 1/1\n",
            "32/32 [==============================] - 1s 23ms/step - loss: 2.1557 - acc: 0.6438\n",
            "Epoch 1/1\n",
            "32/32 [==============================] - 1s 22ms/step - loss: 2.0421 - acc: 0.6812\n",
            "Epoch 1/1\n",
            "32/32 [==============================] - 1s 23ms/step - loss: 2.0199 - acc: 0.6797\n",
            "Epoch 1/1\n",
            "32/32 [==============================] - 1s 22ms/step - loss: 2.2950 - acc: 0.6422\n",
            "Epoch 1/1\n",
            "32/32 [==============================] - 1s 22ms/step - loss: 2.1107 - acc: 0.6578\n",
            "Epoch 1/1\n",
            "32/32 [==============================] - 1s 22ms/step - loss: 2.0069 - acc: 0.6547\n",
            "Epoch 1/1\n",
            "32/32 [==============================] - 1s 23ms/step - loss: 2.1590 - acc: 0.6641\n",
            "Epoch 1/1\n",
            "32/32 [==============================] - 1s 23ms/step - loss: 2.2301 - acc: 0.6641\n",
            "Epoch 1/1\n",
            "32/32 [==============================] - 1s 23ms/step - loss: 2.2599 - acc: 0.6453\n",
            "Epoch 1/1\n",
            "32/32 [==============================] - 1s 22ms/step - loss: 2.1346 - acc: 0.6641\n",
            "Epoch 1/1\n",
            "32/32 [==============================] - 1s 23ms/step - loss: 2.1288 - acc: 0.6594\n",
            "Epoch 1/1\n",
            "32/32 [==============================] - 1s 22ms/step - loss: 2.1025 - acc: 0.6547\n",
            "Epoch 1/1\n",
            "32/32 [==============================] - 1s 22ms/step - loss: 2.1191 - acc: 0.6609\n",
            "Epoch 1/1\n",
            "32/32 [==============================] - 1s 23ms/step - loss: 2.0985 - acc: 0.6766\n",
            "Epoch 1/1\n",
            "32/32 [==============================] - 1s 22ms/step - loss: 2.0459 - acc: 0.6891\n",
            "Epoch 1/1\n",
            "32/32 [==============================] - 1s 23ms/step - loss: 1.9229 - acc: 0.6875\n",
            "Epoch 1/1\n",
            "32/32 [==============================] - 1s 23ms/step - loss: 2.1043 - acc: 0.6625\n",
            "Epoch 1/1\n",
            "32/32 [==============================] - 1s 22ms/step - loss: 2.3215 - acc: 0.6219\n",
            "Epoch 1/1\n",
            "32/32 [==============================] - 1s 22ms/step - loss: 2.0955 - acc: 0.6719\n",
            "Epoch 1/1\n",
            "32/32 [==============================] - 1s 22ms/step - loss: 2.2155 - acc: 0.6531\n",
            "Epoch 1/1\n",
            "32/32 [==============================] - 1s 22ms/step - loss: 2.1798 - acc: 0.6531\n",
            "Epoch 1/1\n",
            "32/32 [==============================] - 1s 22ms/step - loss: 2.0703 - acc: 0.6687\n",
            "Epoch 1/1\n",
            "32/32 [==============================] - 1s 22ms/step - loss: 2.0837 - acc: 0.6594\n",
            "Epoch 1/1\n",
            "32/32 [==============================] - 1s 23ms/step - loss: 2.1243 - acc: 0.6594\n",
            "Epoch 1/1\n",
            "32/32 [==============================] - 1s 22ms/step - loss: 2.1623 - acc: 0.6516\n",
            "Epoch 1/1\n",
            "32/32 [==============================] - 1s 22ms/step - loss: 2.3056 - acc: 0.6187\n",
            "Epoch 1/1\n",
            "32/32 [==============================] - 1s 22ms/step - loss: 1.9712 - acc: 0.6984\n",
            "Epoch 1/1\n",
            "32/32 [==============================] - 1s 22ms/step - loss: 2.1794 - acc: 0.6578\n",
            "Epoch 1/1\n",
            "32/32 [==============================] - 1s 23ms/step - loss: 2.1328 - acc: 0.6547\n",
            "Epoch 1/1\n",
            "32/32 [==============================] - 1s 23ms/step - loss: 2.0063 - acc: 0.6781\n",
            "Epoch 1/1\n",
            "32/32 [==============================] - 1s 23ms/step - loss: 2.1288 - acc: 0.6641\n",
            "Epoch 1/1\n",
            "32/32 [==============================] - 1s 23ms/step - loss: 2.3175 - acc: 0.6438\n",
            "Epoch 1/1\n",
            "32/32 [==============================] - 1s 23ms/step - loss: 2.2831 - acc: 0.6391\n",
            "Epoch 1/1\n",
            "32/32 [==============================] - 1s 22ms/step - loss: 1.9294 - acc: 0.7000\n",
            "Epoch 1/1\n",
            "32/32 [==============================] - 1s 22ms/step - loss: 2.1737 - acc: 0.6422\n",
            "Epoch 1/1\n",
            "32/32 [==============================] - 1s 23ms/step - loss: 2.1524 - acc: 0.6391\n",
            "Epoch 1/1\n",
            "32/32 [==============================] - 1s 22ms/step - loss: 2.2629 - acc: 0.6484\n",
            "Epoch 1/1\n",
            "32/32 [==============================] - 1s 23ms/step - loss: 2.1257 - acc: 0.6609\n",
            "Epoch 1/1\n",
            "32/32 [==============================] - 1s 22ms/step - loss: 2.1684 - acc: 0.6656\n",
            "Epoch 1/1\n",
            "32/32 [==============================] - 1s 22ms/step - loss: 2.1463 - acc: 0.6469\n",
            "Epoch 1/1\n",
            "32/32 [==============================] - 1s 22ms/step - loss: 2.0280 - acc: 0.6703\n",
            "Epoch 1/1\n",
            "32/32 [==============================] - 1s 23ms/step - loss: 2.0629 - acc: 0.6578\n",
            "Epoch 1/1\n",
            "32/32 [==============================] - 1s 22ms/step - loss: 2.0936 - acc: 0.6500\n",
            "Epoch 1/1\n",
            "32/32 [==============================] - 1s 22ms/step - loss: 2.1269 - acc: 0.6672\n",
            "Epoch 1/1\n",
            "32/32 [==============================] - 1s 22ms/step - loss: 2.2401 - acc: 0.6344\n",
            "Epoch 1/1\n",
            "32/32 [==============================] - 1s 23ms/step - loss: 2.1674 - acc: 0.6594\n",
            "Epoch 1/1\n",
            "32/32 [==============================] - 1s 22ms/step - loss: 2.2544 - acc: 0.6641\n",
            "Epoch 1/1\n",
            "32/32 [==============================] - 1s 22ms/step - loss: 2.3472 - acc: 0.6109\n",
            "Epoch 1/1\n",
            "32/32 [==============================] - 1s 22ms/step - loss: 2.1156 - acc: 0.6625\n",
            "Epoch 1/1\n",
            "32/32 [==============================] - 1s 22ms/step - loss: 2.2535 - acc: 0.6297\n",
            "Epoch 1/1\n",
            "32/32 [==============================] - 1s 23ms/step - loss: 2.1633 - acc: 0.6625\n",
            "Epoch 1/1\n",
            "32/32 [==============================] - 1s 22ms/step - loss: 2.0874 - acc: 0.6828\n",
            "Epoch 1/1\n",
            "32/32 [==============================] - 1s 22ms/step - loss: 2.1309 - acc: 0.6641\n",
            "Epoch 1/1\n",
            "32/32 [==============================] - 1s 22ms/step - loss: 2.0133 - acc: 0.6516\n",
            "Epoch 1/1\n",
            "32/32 [==============================] - 1s 22ms/step - loss: 2.3715 - acc: 0.6484\n",
            "Epoch 1/1\n",
            "32/32 [==============================] - 1s 22ms/step - loss: 2.2365 - acc: 0.6562\n",
            "Epoch 1/1\n",
            "32/32 [==============================] - 1s 22ms/step - loss: 2.1617 - acc: 0.6625\n",
            "Epoch 1/1\n",
            "32/32 [==============================] - 1s 23ms/step - loss: 2.0980 - acc: 0.6891\n",
            "Epoch 1/1\n",
            "32/32 [==============================] - 1s 23ms/step - loss: 2.1774 - acc: 0.6797\n",
            "Epoch 1/1\n",
            "32/32 [==============================] - 1s 22ms/step - loss: 2.3154 - acc: 0.6375\n",
            "Epoch 1/1\n",
            "32/32 [==============================] - 1s 23ms/step - loss: 2.0397 - acc: 0.6797\n",
            "Epoch 1/1\n",
            "32/32 [==============================] - 1s 22ms/step - loss: 2.1217 - acc: 0.6609\n",
            "Epoch 1/1\n",
            "32/32 [==============================] - 1s 22ms/step - loss: 2.2423 - acc: 0.6484\n",
            "Epoch 1/1\n",
            "32/32 [==============================] - 1s 22ms/step - loss: 1.9993 - acc: 0.6875\n",
            "Epoch 1/1\n",
            "32/32 [==============================] - 1s 23ms/step - loss: 1.9377 - acc: 0.6969\n",
            "Epoch 1/1\n",
            "32/32 [==============================] - 1s 22ms/step - loss: 2.0473 - acc: 0.6797\n",
            "Epoch 1/1\n",
            "32/32 [==============================] - 1s 22ms/step - loss: 2.2172 - acc: 0.6578\n",
            "Epoch 1/1\n",
            "32/32 [==============================] - 1s 22ms/step - loss: 1.9516 - acc: 0.6938\n",
            "Epoch 1/1\n",
            "32/32 [==============================] - 1s 22ms/step - loss: 2.0285 - acc: 0.6781\n",
            "Epoch 1/1\n",
            "32/32 [==============================] - 1s 22ms/step - loss: 2.0796 - acc: 0.6766\n",
            "Epoch 1/1\n",
            "32/32 [==============================] - 1s 22ms/step - loss: 1.8374 - acc: 0.7063\n",
            "Epoch 1/1\n",
            "32/32 [==============================] - 1s 23ms/step - loss: 2.1069 - acc: 0.6656\n",
            "Epoch 1/1\n",
            "32/32 [==============================] - 1s 23ms/step - loss: 2.0444 - acc: 0.6687\n",
            "Epoch 1/1\n",
            "32/32 [==============================] - 1s 22ms/step - loss: 2.1675 - acc: 0.6641\n",
            "Epoch 1/1\n",
            "32/32 [==============================] - 1s 22ms/step - loss: 2.2439 - acc: 0.6438\n",
            "Epoch 1/1\n",
            "32/32 [==============================] - 1s 22ms/step - loss: 1.8763 - acc: 0.6844\n",
            "Epoch 1/1\n",
            "32/32 [==============================] - 1s 23ms/step - loss: 2.2464 - acc: 0.6594\n",
            "Epoch 1/1\n",
            "32/32 [==============================] - 1s 22ms/step - loss: 2.1960 - acc: 0.6609\n",
            "Epoch 1/1\n",
            "32/32 [==============================] - 1s 22ms/step - loss: 1.9016 - acc: 0.6906\n",
            "Epoch 1/1\n",
            "32/32 [==============================] - 1s 22ms/step - loss: 2.1353 - acc: 0.6547\n",
            "Epoch 1/1\n",
            "32/32 [==============================] - 1s 22ms/step - loss: 2.1651 - acc: 0.6406\n",
            "Epoch 1/1\n",
            "32/32 [==============================] - 1s 22ms/step - loss: 2.0593 - acc: 0.6828\n",
            "Epoch 1/1\n",
            "32/32 [==============================] - 1s 22ms/step - loss: 2.1789 - acc: 0.6625\n",
            "Epoch 1/1\n",
            "32/32 [==============================] - 1s 23ms/step - loss: 2.1894 - acc: 0.6703\n",
            "Epoch 1/1\n",
            "32/32 [==============================] - 1s 22ms/step - loss: 2.1108 - acc: 0.6516\n",
            "Epoch 1/1\n",
            "32/32 [==============================] - 1s 22ms/step - loss: 2.0600 - acc: 0.6797\n",
            "Epoch 1/1\n",
            "32/32 [==============================] - 1s 22ms/step - loss: 2.2511 - acc: 0.6703\n",
            "Epoch 1/1\n",
            "32/32 [==============================] - 1s 22ms/step - loss: 2.3414 - acc: 0.6313\n",
            "Epoch 1/1\n",
            "32/32 [==============================] - 1s 22ms/step - loss: 2.1742 - acc: 0.6641\n",
            "Epoch 1/1\n",
            "32/32 [==============================] - 1s 22ms/step - loss: 2.0765 - acc: 0.6750\n",
            "Epoch 1/1\n",
            "32/32 [==============================] - 1s 22ms/step - loss: 1.9992 - acc: 0.6828\n",
            "Epoch 1/1\n",
            "32/32 [==============================] - 1s 22ms/step - loss: 2.1436 - acc: 0.6594\n",
            "Epoch 1/1\n",
            "32/32 [==============================] - 1s 22ms/step - loss: 2.0952 - acc: 0.6750\n",
            "Epoch 1/1\n",
            "32/32 [==============================] - 1s 22ms/step - loss: 2.0323 - acc: 0.6719\n",
            "Epoch 1/1\n",
            "32/32 [==============================] - 1s 22ms/step - loss: 2.0439 - acc: 0.6797\n",
            "Epoch 1/1\n",
            "32/32 [==============================] - 1s 23ms/step - loss: 1.8628 - acc: 0.6891\n",
            "Epoch 1/1\n",
            "32/32 [==============================] - 1s 22ms/step - loss: 2.1704 - acc: 0.6516\n",
            "Epoch 1/1\n",
            "32/32 [==============================] - 1s 22ms/step - loss: 2.1189 - acc: 0.6672\n",
            "Epoch 1/1\n",
            "32/32 [==============================] - 1s 23ms/step - loss: 2.0032 - acc: 0.6953\n",
            "Epoch 1/1\n",
            "32/32 [==============================] - 1s 22ms/step - loss: 2.2150 - acc: 0.6562\n",
            "Epoch 1/1\n",
            "32/32 [==============================] - 1s 22ms/step - loss: 2.2083 - acc: 0.6625\n",
            "Epoch 1/1\n",
            "32/32 [==============================] - 1s 22ms/step - loss: 2.3101 - acc: 0.6375\n",
            "Epoch 1/1\n",
            "32/32 [==============================] - 1s 22ms/step - loss: 2.2422 - acc: 0.6656\n",
            "Epoch 1/1\n",
            "32/32 [==============================] - 1s 22ms/step - loss: 2.0013 - acc: 0.6766\n",
            "Epoch 1/1\n",
            "32/32 [==============================] - 1s 23ms/step - loss: 2.0895 - acc: 0.6625\n",
            "Epoch 1/1\n",
            "32/32 [==============================] - 1s 22ms/step - loss: 2.1668 - acc: 0.6656\n",
            "Epoch 1/1\n",
            "32/32 [==============================] - 1s 22ms/step - loss: 2.1521 - acc: 0.6469\n",
            "Epoch 1/1\n",
            "32/32 [==============================] - 1s 22ms/step - loss: 2.2944 - acc: 0.6266\n",
            "Epoch 1/1\n",
            "32/32 [==============================] - 1s 22ms/step - loss: 2.1914 - acc: 0.6766\n",
            "Epoch 1/1\n",
            "32/32 [==============================] - 1s 22ms/step - loss: 2.1119 - acc: 0.6516\n",
            "Epoch 1/1\n",
            "32/32 [==============================] - 1s 22ms/step - loss: 2.2477 - acc: 0.6562\n",
            "Epoch 1/1\n",
            "32/32 [==============================] - 1s 22ms/step - loss: 2.1511 - acc: 0.6656\n",
            "Epoch 1/1\n",
            "32/32 [==============================] - 1s 22ms/step - loss: 2.1985 - acc: 0.6578\n",
            "Epoch 1/1\n",
            "32/32 [==============================] - 1s 22ms/step - loss: 2.1625 - acc: 0.6656\n",
            "Epoch 1/1\n",
            "32/32 [==============================] - 1s 23ms/step - loss: 2.0798 - acc: 0.6750\n",
            "Epoch 1/1\n",
            "32/32 [==============================] - 1s 22ms/step - loss: 2.0660 - acc: 0.6734\n",
            "Epoch 1/1\n",
            "32/32 [==============================] - 1s 22ms/step - loss: 2.0287 - acc: 0.6812\n",
            "Epoch 1/1\n",
            "32/32 [==============================] - 1s 22ms/step - loss: 2.0382 - acc: 0.6609\n",
            "Epoch 1/1\n",
            "32/32 [==============================] - 1s 22ms/step - loss: 2.1571 - acc: 0.6609\n",
            "Epoch 1/1\n",
            "32/32 [==============================] - 1s 22ms/step - loss: 2.0479 - acc: 0.6844\n",
            "Epoch 1/1\n",
            "32/32 [==============================] - 1s 23ms/step - loss: 2.1393 - acc: 0.6812\n",
            "Epoch 1/1\n",
            "32/32 [==============================] - 1s 23ms/step - loss: 2.2057 - acc: 0.6734\n",
            "Epoch 1/1\n",
            "32/32 [==============================] - 1s 22ms/step - loss: 2.1440 - acc: 0.6781\n",
            "Epoch 1/1\n",
            "32/32 [==============================] - 1s 22ms/step - loss: 2.1266 - acc: 0.6609\n",
            "Epoch 1/1\n",
            "32/32 [==============================] - 1s 22ms/step - loss: 2.1320 - acc: 0.6641\n",
            "Epoch 1/1\n",
            "32/32 [==============================] - 1s 22ms/step - loss: 2.1385 - acc: 0.6656\n",
            "Epoch 1/1\n",
            "32/32 [==============================] - 1s 22ms/step - loss: 2.0027 - acc: 0.6781\n",
            "Epoch 1/1\n",
            "32/32 [==============================] - 1s 22ms/step - loss: 2.1153 - acc: 0.6703\n",
            "Epoch 1/1\n",
            "32/32 [==============================] - 1s 22ms/step - loss: 2.0667 - acc: 0.6766\n",
            "Epoch 1/1\n",
            "32/32 [==============================] - 1s 22ms/step - loss: 2.1545 - acc: 0.6641\n",
            "Epoch 1/1\n",
            "32/32 [==============================] - 1s 22ms/step - loss: 2.0361 - acc: 0.6547\n",
            "Epoch 1/1\n",
            "32/32 [==============================] - 1s 22ms/step - loss: 2.4455 - acc: 0.6344\n",
            "Epoch 1/1\n",
            "32/32 [==============================] - 1s 22ms/step - loss: 2.2746 - acc: 0.6594\n",
            "Epoch 1/1\n",
            "32/32 [==============================] - 1s 22ms/step - loss: 2.0876 - acc: 0.6719\n",
            "Epoch 1/1\n",
            "32/32 [==============================] - 1s 22ms/step - loss: 2.0061 - acc: 0.6828\n",
            "Epoch 1/1\n",
            "32/32 [==============================] - 1s 22ms/step - loss: 2.1052 - acc: 0.6672\n",
            "Epoch 1/1\n",
            "32/32 [==============================] - 1s 22ms/step - loss: 2.2101 - acc: 0.6687\n",
            "Epoch 1/1\n",
            "32/32 [==============================] - 1s 22ms/step - loss: 2.1260 - acc: 0.6609\n",
            "Epoch 1/1\n",
            "32/32 [==============================] - 1s 22ms/step - loss: 2.1470 - acc: 0.6656\n",
            "Epoch 1/1\n",
            "32/32 [==============================] - 1s 22ms/step - loss: 2.0485 - acc: 0.6703\n",
            "Epoch 1/1\n",
            "32/32 [==============================] - 1s 22ms/step - loss: 2.1426 - acc: 0.6609\n",
            "Epoch 1/1\n",
            "32/32 [==============================] - 1s 22ms/step - loss: 2.1819 - acc: 0.6531\n",
            "Epoch 1/1\n",
            "32/32 [==============================] - 1s 22ms/step - loss: 2.1927 - acc: 0.6484\n",
            "Epoch 1/1\n",
            "32/32 [==============================] - 1s 22ms/step - loss: 2.0883 - acc: 0.6734\n",
            "Epoch 1/1\n",
            "32/32 [==============================] - 1s 23ms/step - loss: 2.3736 - acc: 0.6328\n",
            "Epoch 1/1\n",
            "32/32 [==============================] - 1s 22ms/step - loss: 2.4267 - acc: 0.6234\n",
            "Epoch 1/1\n",
            "32/32 [==============================] - 1s 22ms/step - loss: 2.1072 - acc: 0.6703\n",
            "Epoch 1/1\n",
            "32/32 [==============================] - 1s 22ms/step - loss: 2.1000 - acc: 0.6703\n",
            "Epoch 1/1\n",
            "32/32 [==============================] - 1s 22ms/step - loss: 2.1909 - acc: 0.6531\n",
            "Epoch 1/1\n",
            "32/32 [==============================] - 1s 22ms/step - loss: 2.1178 - acc: 0.6734\n",
            "Epoch 1/1\n",
            "32/32 [==============================] - 1s 23ms/step - loss: 2.1750 - acc: 0.6578\n",
            "Epoch 1/1\n",
            "32/32 [==============================] - 1s 22ms/step - loss: 2.1632 - acc: 0.6656\n",
            "Epoch 1/1\n",
            "32/32 [==============================] - 1s 22ms/step - loss: 2.2935 - acc: 0.6313\n",
            "Epoch 1/1\n",
            "32/32 [==============================] - 1s 22ms/step - loss: 2.1831 - acc: 0.6625\n",
            "Epoch 1/1\n",
            "32/32 [==============================] - 1s 22ms/step - loss: 2.1964 - acc: 0.6703\n",
            "Epoch 1/1\n",
            "32/32 [==============================] - 1s 22ms/step - loss: 2.1937 - acc: 0.6609\n",
            "Epoch 1/1\n",
            "32/32 [==============================] - 1s 22ms/step - loss: 1.9392 - acc: 0.7078\n",
            "Epoch 1/1\n",
            "32/32 [==============================] - 1s 22ms/step - loss: 1.9225 - acc: 0.7000\n",
            "Epoch 1/1\n",
            "32/32 [==============================] - 1s 23ms/step - loss: 2.1461 - acc: 0.6531\n",
            "Epoch 1/1\n",
            "32/32 [==============================] - 1s 22ms/step - loss: 2.2296 - acc: 0.6484\n",
            "Epoch 1/1\n",
            "32/32 [==============================] - 1s 23ms/step - loss: 2.1792 - acc: 0.6562\n",
            "Epoch 1/1\n",
            "32/32 [==============================] - 1s 22ms/step - loss: 2.0805 - acc: 0.6719\n",
            "Epoch 1/1\n",
            "32/32 [==============================] - 1s 22ms/step - loss: 1.8960 - acc: 0.7094\n",
            "Epoch 1/1\n",
            "32/32 [==============================] - 1s 23ms/step - loss: 2.3036 - acc: 0.6422\n",
            "Epoch 1/1\n",
            "32/32 [==============================] - 1s 22ms/step - loss: 2.2732 - acc: 0.6500\n",
            "Epoch 1/1\n",
            "32/32 [==============================] - 1s 23ms/step - loss: 2.2079 - acc: 0.6562\n",
            "Epoch 1/1\n",
            "32/32 [==============================] - 1s 23ms/step - loss: 2.4195 - acc: 0.6313\n",
            "Epoch 1/1\n",
            "32/32 [==============================] - 1s 22ms/step - loss: 2.1789 - acc: 0.6719\n",
            "Epoch 1/1\n",
            "32/32 [==============================] - 1s 22ms/step - loss: 2.0311 - acc: 0.6844\n",
            "Epoch 1/1\n",
            "32/32 [==============================] - 1s 22ms/step - loss: 1.9530 - acc: 0.6969\n",
            "Epoch 1/1\n",
            "32/32 [==============================] - 1s 22ms/step - loss: 2.1264 - acc: 0.6641\n",
            "Epoch 1/1\n",
            "32/32 [==============================] - 1s 22ms/step - loss: 2.2056 - acc: 0.6797\n",
            "Epoch 1/1\n",
            "32/32 [==============================] - 1s 22ms/step - loss: 2.2015 - acc: 0.6328\n",
            "Epoch 1/1\n",
            "32/32 [==============================] - 1s 22ms/step - loss: 2.3527 - acc: 0.6469\n",
            "Epoch 1/1\n",
            "32/32 [==============================] - 1s 22ms/step - loss: 2.0758 - acc: 0.6625\n",
            "Epoch 1/1\n",
            "32/32 [==============================] - 1s 22ms/step - loss: 2.1324 - acc: 0.6625\n",
            "Epoch 1/1\n",
            "32/32 [==============================] - 1s 23ms/step - loss: 2.1155 - acc: 0.6422\n",
            "Epoch 1/1\n",
            "32/32 [==============================] - 1s 23ms/step - loss: 2.1036 - acc: 0.6625\n",
            "Epoch 1/1\n",
            "32/32 [==============================] - 1s 22ms/step - loss: 2.2837 - acc: 0.6344\n",
            "Epoch 1/1\n",
            "32/32 [==============================] - 1s 23ms/step - loss: 2.1468 - acc: 0.6672\n",
            "Epoch 1/1\n",
            "32/32 [==============================] - 1s 22ms/step - loss: 2.0077 - acc: 0.6891\n",
            "Epoch 1/1\n",
            "32/32 [==============================] - 1s 22ms/step - loss: 1.9835 - acc: 0.6891\n",
            "Epoch 1/1\n",
            "32/32 [==============================] - 1s 23ms/step - loss: 2.1551 - acc: 0.6578\n",
            "Epoch 1/1\n",
            "32/32 [==============================] - 1s 23ms/step - loss: 2.2241 - acc: 0.6609\n",
            "Epoch 1/1\n",
            "32/32 [==============================] - 1s 24ms/step - loss: 2.0864 - acc: 0.6672\n",
            "Epoch 1/1\n",
            "32/32 [==============================] - 1s 24ms/step - loss: 2.0340 - acc: 0.6766\n",
            "Epoch 1/1\n",
            "32/32 [==============================] - 1s 23ms/step - loss: 2.1541 - acc: 0.6687\n",
            "Epoch 1/1\n",
            "32/32 [==============================] - 1s 24ms/step - loss: 2.2135 - acc: 0.6422\n",
            "Epoch 1/1\n",
            "32/32 [==============================] - 1s 23ms/step - loss: 2.3011 - acc: 0.6438\n",
            "Epoch 1/1\n",
            "32/32 [==============================] - 1s 23ms/step - loss: 2.0504 - acc: 0.6766\n",
            "Epoch 1/1\n",
            "32/32 [==============================] - 1s 23ms/step - loss: 2.1551 - acc: 0.6719\n",
            "Epoch 1/1\n",
            "32/32 [==============================] - 1s 24ms/step - loss: 2.3085 - acc: 0.6406\n",
            "Epoch 1/1\n",
            "32/32 [==============================] - 1s 24ms/step - loss: 2.2120 - acc: 0.6484\n",
            "Epoch 1/1\n",
            "32/32 [==============================] - 1s 23ms/step - loss: 2.1713 - acc: 0.6625\n",
            "Epoch 1/1\n",
            "32/32 [==============================] - 1s 23ms/step - loss: 2.1331 - acc: 0.6672\n",
            "Epoch 1/1\n",
            "32/32 [==============================] - 1s 23ms/step - loss: 2.1686 - acc: 0.6687\n",
            "Epoch 1/1\n",
            "32/32 [==============================] - 1s 23ms/step - loss: 2.1501 - acc: 0.6625\n",
            "Epoch 1/1\n",
            "32/32 [==============================] - 1s 24ms/step - loss: 2.1271 - acc: 0.6750\n",
            "Epoch 1/1\n",
            "32/32 [==============================] - 1s 24ms/step - loss: 2.0858 - acc: 0.6656\n",
            "Epoch 1/1\n",
            "32/32 [==============================] - 1s 24ms/step - loss: 2.3156 - acc: 0.6422\n",
            "Epoch 1/1\n",
            "32/32 [==============================] - 1s 24ms/step - loss: 2.1894 - acc: 0.6594\n",
            "Epoch 1/1\n",
            "32/32 [==============================] - 1s 24ms/step - loss: 2.1314 - acc: 0.6656\n",
            "Epoch 1/1\n",
            "32/32 [==============================] - 1s 23ms/step - loss: 1.9397 - acc: 0.6922\n",
            "Epoch 1/1\n",
            "32/32 [==============================] - 1s 22ms/step - loss: 2.1472 - acc: 0.6687\n",
            "Epoch 1/1\n",
            "32/32 [==============================] - 1s 22ms/step - loss: 2.1082 - acc: 0.6641\n",
            "Epoch 1/1\n",
            "32/32 [==============================] - 1s 22ms/step - loss: 2.0989 - acc: 0.6625\n",
            "Epoch 1/1\n",
            "32/32 [==============================] - 1s 22ms/step - loss: 2.1217 - acc: 0.6734\n",
            "Epoch 1/1\n",
            "32/32 [==============================] - 1s 22ms/step - loss: 2.1486 - acc: 0.6656\n",
            "Epoch 1/1\n",
            "32/32 [==============================] - 1s 23ms/step - loss: 2.0526 - acc: 0.7016\n",
            "Epoch 1/1\n",
            "32/32 [==============================] - 1s 22ms/step - loss: 2.2279 - acc: 0.6703\n",
            "Epoch 1/1\n",
            "32/32 [==============================] - 1s 22ms/step - loss: 2.0340 - acc: 0.6750\n",
            "Epoch 1/1\n",
            "32/32 [==============================] - 1s 22ms/step - loss: 2.1364 - acc: 0.6641\n",
            "Epoch 1/1\n",
            "32/32 [==============================] - 1s 22ms/step - loss: 2.0371 - acc: 0.6859\n",
            "Epoch 1/1\n",
            "32/32 [==============================] - 1s 22ms/step - loss: 2.4101 - acc: 0.6281\n",
            "Epoch 1/1\n",
            "32/32 [==============================] - 1s 23ms/step - loss: 2.2154 - acc: 0.6516\n",
            "Epoch 1/1\n",
            "32/32 [==============================] - 1s 22ms/step - loss: 2.0714 - acc: 0.6578\n",
            "Epoch 1/1\n",
            "32/32 [==============================] - 1s 22ms/step - loss: 2.1805 - acc: 0.6578\n",
            "Epoch 1/1\n",
            "32/32 [==============================] - 1s 22ms/step - loss: 2.1481 - acc: 0.6609\n",
            "Epoch 1/1\n",
            "32/32 [==============================] - 1s 22ms/step - loss: 2.1155 - acc: 0.6781\n",
            "Epoch 1/1\n",
            "32/32 [==============================] - 1s 22ms/step - loss: 2.0377 - acc: 0.6719\n",
            "Epoch 1/1\n",
            "32/32 [==============================] - 1s 23ms/step - loss: 2.2757 - acc: 0.6562\n",
            "Epoch 1/1\n",
            "32/32 [==============================] - 1s 22ms/step - loss: 2.2370 - acc: 0.6391\n",
            "Epoch 1/1\n",
            "32/32 [==============================] - 1s 22ms/step - loss: 1.9677 - acc: 0.6844\n",
            "Epoch 1/1\n",
            "32/32 [==============================] - 1s 22ms/step - loss: 2.2424 - acc: 0.6328\n",
            "Epoch 1/1\n",
            "32/32 [==============================] - 1s 23ms/step - loss: 2.0503 - acc: 0.6703\n",
            "Epoch 1/1\n",
            "32/32 [==============================] - 1s 22ms/step - loss: 2.1857 - acc: 0.6453\n",
            "Epoch 1/1\n",
            "32/32 [==============================] - 1s 22ms/step - loss: 2.2431 - acc: 0.6469\n",
            "Epoch 1/1\n",
            "32/32 [==============================] - 1s 22ms/step - loss: 2.2013 - acc: 0.6422\n",
            "Epoch 1/1\n",
            "32/32 [==============================] - 1s 23ms/step - loss: 2.3295 - acc: 0.6313\n",
            "Epoch 1/1\n",
            "32/32 [==============================] - 1s 22ms/step - loss: 1.9552 - acc: 0.6984\n",
            "Epoch 1/1\n",
            "32/32 [==============================] - 1s 22ms/step - loss: 2.0548 - acc: 0.6781\n",
            "Epoch 1/1\n",
            "32/32 [==============================] - 1s 22ms/step - loss: 2.0613 - acc: 0.6797\n",
            "Epoch 1/1\n",
            "32/32 [==============================] - 1s 22ms/step - loss: 2.1469 - acc: 0.6797\n",
            "Epoch 1/1\n",
            "32/32 [==============================] - 1s 22ms/step - loss: 2.0341 - acc: 0.6594\n",
            "Epoch 1/1\n",
            "32/32 [==============================] - 1s 22ms/step - loss: 2.2568 - acc: 0.6375\n",
            "Epoch 1/1\n",
            "32/32 [==============================] - 1s 23ms/step - loss: 2.1741 - acc: 0.6531\n",
            "Epoch 1/1\n",
            "32/32 [==============================] - 1s 22ms/step - loss: 2.1302 - acc: 0.6469\n",
            "Epoch 1/1\n",
            "32/32 [==============================] - 1s 23ms/step - loss: 2.3022 - acc: 0.6266\n",
            "Epoch 1/1\n",
            "32/32 [==============================] - 1s 23ms/step - loss: 2.0317 - acc: 0.6781\n",
            "Epoch 1/1\n",
            "32/32 [==============================] - 1s 22ms/step - loss: 2.2026 - acc: 0.6391\n",
            "Epoch 1/1\n",
            "32/32 [==============================] - 1s 23ms/step - loss: 1.9521 - acc: 0.6828\n",
            "Epoch 1/1\n",
            "32/32 [==============================] - 1s 22ms/step - loss: 2.1666 - acc: 0.6531\n",
            "Epoch 1/1\n",
            "32/32 [==============================] - 1s 22ms/step - loss: 2.0586 - acc: 0.6641\n",
            "Epoch 1/1\n",
            "32/32 [==============================] - 1s 22ms/step - loss: 2.0144 - acc: 0.6844\n",
            "Epoch 1/1\n",
            "32/32 [==============================] - 1s 22ms/step - loss: 2.0802 - acc: 0.6625\n",
            "Epoch 1/1\n",
            "32/32 [==============================] - 1s 22ms/step - loss: 2.1847 - acc: 0.6516\n",
            "Epoch 1/1\n",
            "32/32 [==============================] - 1s 22ms/step - loss: 2.0243 - acc: 0.6891\n",
            "Epoch 1/1\n",
            "32/32 [==============================] - 1s 22ms/step - loss: 2.1768 - acc: 0.6453\n",
            "Epoch 1/1\n",
            "32/32 [==============================] - 1s 22ms/step - loss: 2.3063 - acc: 0.6531\n",
            "Epoch 1/1\n",
            "32/32 [==============================] - 1s 22ms/step - loss: 2.1718 - acc: 0.6516\n",
            "Epoch 1/1\n",
            "32/32 [==============================] - 1s 22ms/step - loss: 1.8754 - acc: 0.7125\n",
            "Epoch 1/1\n",
            "32/32 [==============================] - 1s 22ms/step - loss: 2.0092 - acc: 0.6734\n",
            "Epoch 1/1\n",
            "32/32 [==============================] - 1s 22ms/step - loss: 2.3647 - acc: 0.6266\n",
            "Epoch 1/1\n",
            "32/32 [==============================] - 1s 22ms/step - loss: 2.0346 - acc: 0.6875\n",
            "Epoch 1/1\n",
            "32/32 [==============================] - 1s 22ms/step - loss: 2.1503 - acc: 0.6469\n",
            "Epoch 1/1\n",
            "32/32 [==============================] - 1s 22ms/step - loss: 2.2987 - acc: 0.6547\n",
            "Epoch 1/1\n",
            "32/32 [==============================] - 1s 22ms/step - loss: 2.0739 - acc: 0.6781\n",
            "Epoch 1/1\n",
            "32/32 [==============================] - 1s 22ms/step - loss: 2.1331 - acc: 0.6703\n",
            "Epoch 1/1\n",
            "32/32 [==============================] - 1s 23ms/step - loss: 2.1911 - acc: 0.6391\n",
            "Epoch 1/1\n",
            "32/32 [==============================] - 1s 22ms/step - loss: 2.2847 - acc: 0.6516\n",
            "Epoch 1/1\n",
            "32/32 [==============================] - 1s 22ms/step - loss: 2.1799 - acc: 0.6562\n",
            "Epoch 1/1\n",
            "32/32 [==============================] - 1s 22ms/step - loss: 2.0084 - acc: 0.6859\n",
            "Epoch 1/1\n",
            "32/32 [==============================] - 1s 22ms/step - loss: 2.2465 - acc: 0.6391\n",
            "Epoch 1/1\n",
            "32/32 [==============================] - 1s 23ms/step - loss: 2.1261 - acc: 0.6687\n",
            "Epoch 1/1\n",
            "32/32 [==============================] - 1s 23ms/step - loss: 1.9512 - acc: 0.6953\n",
            "Epoch 1/1\n",
            "32/32 [==============================] - 1s 22ms/step - loss: 2.0892 - acc: 0.6781\n",
            "Epoch 1/1\n",
            "32/32 [==============================] - 1s 23ms/step - loss: 2.0923 - acc: 0.6656\n",
            "Epoch 1/1\n",
            "32/32 [==============================] - 1s 23ms/step - loss: 2.0335 - acc: 0.6891\n",
            "Epoch 1/1\n",
            "32/32 [==============================] - 1s 22ms/step - loss: 2.1480 - acc: 0.6641\n",
            "Epoch 1/1\n",
            "32/32 [==============================] - 1s 22ms/step - loss: 2.1034 - acc: 0.6703\n",
            "Epoch 1/1\n",
            "32/32 [==============================] - 1s 23ms/step - loss: 2.0920 - acc: 0.6828\n",
            "Epoch 1/1\n",
            "32/32 [==============================] - 1s 22ms/step - loss: 2.0263 - acc: 0.6750\n",
            "Epoch 1/1\n",
            "32/32 [==============================] - 1s 22ms/step - loss: 1.9954 - acc: 0.6797\n",
            "Epoch 1/1\n",
            "32/32 [==============================] - 1s 22ms/step - loss: 2.1296 - acc: 0.6516\n",
            "Epoch 1/1\n",
            "32/32 [==============================] - 1s 22ms/step - loss: 2.0684 - acc: 0.6547\n",
            "Epoch 1/1\n",
            "32/32 [==============================] - 1s 22ms/step - loss: 2.0318 - acc: 0.6922\n",
            "Epoch 1/1\n",
            "32/32 [==============================] - 1s 22ms/step - loss: 2.0745 - acc: 0.6859\n",
            "Epoch 1/1\n",
            "32/32 [==============================] - 1s 22ms/step - loss: 2.1527 - acc: 0.6562\n",
            "Epoch 1/1\n",
            "32/32 [==============================] - 1s 22ms/step - loss: 2.0467 - acc: 0.6891\n",
            "Epoch 1/1\n",
            "32/32 [==============================] - 1s 22ms/step - loss: 2.2514 - acc: 0.6625\n",
            "Epoch 1/1\n",
            "32/32 [==============================] - 1s 22ms/step - loss: 2.0929 - acc: 0.6687\n",
            "Epoch 1/1\n",
            "32/32 [==============================] - 1s 22ms/step - loss: 2.2994 - acc: 0.6406\n",
            "Epoch 1/1\n",
            "32/32 [==============================] - 1s 22ms/step - loss: 2.0735 - acc: 0.6734\n",
            "Epoch 1/1\n",
            "32/32 [==============================] - 1s 22ms/step - loss: 2.0995 - acc: 0.6812\n",
            "Epoch 1/1\n",
            "32/32 [==============================] - 1s 22ms/step - loss: 2.0636 - acc: 0.6781\n",
            "Epoch 1/1\n",
            "32/32 [==============================] - 1s 22ms/step - loss: 2.2193 - acc: 0.6609\n",
            "Epoch 1/1\n",
            "32/32 [==============================] - 1s 22ms/step - loss: 2.1056 - acc: 0.6844\n",
            "Epoch 1/1\n",
            "32/32 [==============================] - 1s 22ms/step - loss: 2.1793 - acc: 0.6531\n",
            "Epoch 1/1\n",
            "32/32 [==============================] - 1s 23ms/step - loss: 2.2044 - acc: 0.6531\n",
            "Epoch 1/1\n",
            "32/32 [==============================] - 1s 22ms/step - loss: 1.8544 - acc: 0.7109\n",
            "Epoch 1/1\n",
            "32/32 [==============================] - 1s 22ms/step - loss: 2.2104 - acc: 0.6359\n",
            "Epoch 1/1\n",
            "32/32 [==============================] - 1s 22ms/step - loss: 2.2089 - acc: 0.6500\n",
            "Epoch 1/1\n",
            "32/32 [==============================] - 1s 22ms/step - loss: 2.2711 - acc: 0.6422\n",
            "Epoch 1/1\n",
            "32/32 [==============================] - 1s 22ms/step - loss: 2.0513 - acc: 0.6719\n",
            "Epoch 1/1\n",
            "32/32 [==============================] - 1s 22ms/step - loss: 2.1521 - acc: 0.6422\n"
          ],
          "name": "stdout"
        }
      ]
    },
    {
      "metadata": {
        "id": "KGDyjFUjeUEM",
        "colab_type": "code",
        "colab": {}
      },
      "cell_type": "code",
      "source": [
        ""
      ],
      "execution_count": 0,
      "outputs": []
    },
    {
      "metadata": {
        "id": "K78551ofc-cY",
        "colab_type": "code",
        "colab": {}
      },
      "cell_type": "code",
      "source": [
        "\n",
        "\n",
        "history = model.fit(X2, y4, batch_size=32, epochs=5, validation_split = 0.2, verbose=1)"
      ],
      "execution_count": 0,
      "outputs": []
    },
    {
      "metadata": {
        "id": "F0xWaIiQc-ZD",
        "colab_type": "code",
        "colab": {}
      },
      "cell_type": "code",
      "source": [
        ""
      ],
      "execution_count": 0,
      "outputs": []
    },
    {
      "metadata": {
        "id": "eb2QTe-2cxNF",
        "colab_type": "code",
        "colab": {}
      },
      "cell_type": "code",
      "source": [
        ""
      ],
      "execution_count": 0,
      "outputs": []
    },
    {
      "metadata": {
        "id": "wacArBrHMEbG",
        "colab_type": "code",
        "colab": {}
      },
      "cell_type": "code",
      "source": [
        "from keras.utils import to_categorical\n",
        "y3 = [to_categorical(i, num_classes=3575) for i in y]"
      ],
      "execution_count": 0,
      "outputs": []
    },
    {
      "metadata": {
        "id": "C4r0ZvRIMxmm",
        "colab_type": "code",
        "colab": {}
      },
      "cell_type": "code",
      "source": [
        "y4 = np.array(y3)"
      ],
      "execution_count": 0,
      "outputs": []
    },
    {
      "metadata": {
        "id": "tYcbGWqjM4gM",
        "colab_type": "code",
        "outputId": "e78f5b32-795b-4ec9-dc7b-c56d6169c429",
        "colab": {
          "base_uri": "https://localhost:8080/",
          "height": 34
        }
      },
      "cell_type": "code",
      "source": [
        "y4.shape"
      ],
      "execution_count": 0,
      "outputs": [
        {
          "output_type": "execute_result",
          "data": {
            "text/plain": [
              "(10000, 13, 3575)"
            ]
          },
          "metadata": {
            "tags": []
          },
          "execution_count": 88
        }
      ]
    },
    {
      "metadata": {
        "id": "k4ndpGQXJc9b",
        "colab_type": "code",
        "colab": {}
      },
      "cell_type": "code",
      "source": [
        "from keras.models import Model, Input\n",
        "from keras.layers import LSTM, Embedding, Dense, TimeDistributed, Dropout, Bidirectional"
      ],
      "execution_count": 0,
      "outputs": []
    },
    {
      "metadata": {
        "id": "YQ4ukfzzJdAh",
        "colab_type": "code",
        "colab": {}
      },
      "cell_type": "code",
      "source": [
        "input = Input(shape=(13,))\n",
        "model = Embedding(input_dim=2114, output_dim=32, input_length=13)(input)\n",
        "model = Dropout(0.1)(model)\n",
        "model = (LSTM(units=100, return_sequences=True, recurrent_dropout=0.1))(model)\n",
        "out = TimeDistributed(Dense(3575, activation=\"softmax\"))(model)  # softmax output layer"
      ],
      "execution_count": 0,
      "outputs": []
    },
    {
      "metadata": {
        "id": "TB0RdLtaJdDl",
        "colab_type": "code",
        "outputId": "97710349-05a6-4c7a-cd4e-e81a50dac430",
        "colab": {
          "base_uri": "https://localhost:8080/",
          "height": 318
        }
      },
      "cell_type": "code",
      "source": [
        "model = Model(input, out)\n",
        "model.summary()"
      ],
      "execution_count": 0,
      "outputs": [
        {
          "output_type": "stream",
          "text": [
            "_________________________________________________________________\n",
            "Layer (type)                 Output Shape              Param #   \n",
            "=================================================================\n",
            "input_6 (InputLayer)         (None, 13)                0         \n",
            "_________________________________________________________________\n",
            "embedding_6 (Embedding)      (None, 13, 32)            67648     \n",
            "_________________________________________________________________\n",
            "dropout_6 (Dropout)          (None, 13, 32)            0         \n",
            "_________________________________________________________________\n",
            "lstm_6 (LSTM)                (None, 13, 100)           53200     \n",
            "_________________________________________________________________\n",
            "time_distributed_6 (TimeDist (None, 13, 3575)          361075    \n",
            "=================================================================\n",
            "Total params: 481,923\n",
            "Trainable params: 481,923\n",
            "Non-trainable params: 0\n",
            "_________________________________________________________________\n"
          ],
          "name": "stdout"
        }
      ]
    },
    {
      "metadata": {
        "id": "UazhyG1QJdHH",
        "colab_type": "code",
        "colab": {}
      },
      "cell_type": "code",
      "source": [
        "model.compile(optimizer=\"adam\", loss=\"categorical_crossentropy\", metrics=[\"accuracy\"])"
      ],
      "execution_count": 0,
      "outputs": []
    },
    {
      "metadata": {
        "id": "yC6_c77ZbzWU",
        "colab_type": "code",
        "outputId": "2227668f-1124-468e-a2e1-4fdc0ac5c707",
        "colab": {
          "base_uri": "https://localhost:8080/",
          "height": 34
        }
      },
      "cell_type": "code",
      "source": [
        "X.shape"
      ],
      "execution_count": 0,
      "outputs": [
        {
          "output_type": "execute_result",
          "data": {
            "text/plain": [
              "(10000, 13)"
            ]
          },
          "metadata": {
            "tags": []
          },
          "execution_count": 97
        }
      ]
    },
    {
      "metadata": {
        "id": "hcl-TmCkLb9b",
        "colab_type": "code",
        "colab": {}
      },
      "cell_type": "code",
      "source": [
        "from sklearn.cross_validation import train_test_split\n",
        "X_train, X_test, y_train, y_test = train_test_split(X,y4, test_size=0.30,random_state=10)"
      ],
      "execution_count": 0,
      "outputs": []
    },
    {
      "metadata": {
        "id": "zmr2eoMvcWUQ",
        "colab_type": "code",
        "outputId": "7ff59447-6d59-4de9-e6c2-ca018866bef7",
        "colab": {
          "base_uri": "https://localhost:8080/",
          "height": 34
        }
      },
      "cell_type": "code",
      "source": [
        "X[0]"
      ],
      "execution_count": 0,
      "outputs": [
        {
          "output_type": "execute_result",
          "data": {
            "text/plain": [
              "array([16,  0,  0,  0,  0,  0,  0,  0,  0,  0,  0,  0,  0], dtype=int32)"
            ]
          },
          "metadata": {
            "tags": []
          },
          "execution_count": 99
        }
      ]
    },
    {
      "metadata": {
        "id": "_nIi2Oo0ct68",
        "colab_type": "code",
        "outputId": "ad434a39-bdce-447d-e13e-8e43ae21ef4b",
        "colab": {
          "base_uri": "https://localhost:8080/",
          "height": 70
        }
      },
      "cell_type": "code",
      "source": [
        "lines.loc[0]"
      ],
      "execution_count": 0,
      "outputs": [
        {
          "output_type": "execute_result",
          "data": {
            "text/plain": [
              "eng    go\n",
              "fr     va\n",
              "Name: 0, dtype: object"
            ]
          },
          "metadata": {
            "tags": []
          },
          "execution_count": 52
        }
      ]
    },
    {
      "metadata": {
        "id": "tEv07bjZWGUl",
        "colab_type": "code",
        "outputId": "0a336cf9-9013-4b82-902e-2eb747779d9e",
        "colab": {
          "base_uri": "https://localhost:8080/",
          "height": 1101
        }
      },
      "cell_type": "code",
      "source": [
        "history = model.fit(X_train, y_train, batch_size=32, epochs=30, validation_data = (X_test, y_test), verbose=1)"
      ],
      "execution_count": 0,
      "outputs": [
        {
          "output_type": "stream",
          "text": [
            "Train on 7000 samples, validate on 3000 samples\n",
            "Epoch 1/30\n",
            "7000/7000 [==============================] - 31s 4ms/step - loss: 3.2245 - acc: 0.6929 - val_loss: 2.3143 - val_acc: 0.7003\n",
            "Epoch 2/30\n",
            "7000/7000 [==============================] - 29s 4ms/step - loss: 2.1621 - acc: 0.7047 - val_loss: 1.9864 - val_acc: 0.7161\n",
            "Epoch 3/30\n",
            "7000/7000 [==============================] - 29s 4ms/step - loss: 1.8462 - acc: 0.7203 - val_loss: 1.8012 - val_acc: 0.7299\n",
            "Epoch 4/30\n",
            "7000/7000 [==============================] - 29s 4ms/step - loss: 1.7412 - acc: 0.7282 - val_loss: 1.7487 - val_acc: 0.7317\n",
            "Epoch 5/30\n",
            "7000/7000 [==============================] - 29s 4ms/step - loss: 1.6849 - acc: 0.7335 - val_loss: 1.7117 - val_acc: 0.7401\n",
            "Epoch 6/30\n",
            "7000/7000 [==============================] - 29s 4ms/step - loss: 1.6404 - acc: 0.7379 - val_loss: 1.6840 - val_acc: 0.7383\n",
            "Epoch 7/30\n",
            "7000/7000 [==============================] - 29s 4ms/step - loss: 1.6010 - acc: 0.7413 - val_loss: 1.6603 - val_acc: 0.7434\n",
            "Epoch 8/30\n",
            "7000/7000 [==============================] - 29s 4ms/step - loss: 1.5602 - acc: 0.7460 - val_loss: 1.6291 - val_acc: 0.7522\n",
            "Epoch 9/30\n",
            "7000/7000 [==============================] - 29s 4ms/step - loss: 1.5168 - acc: 0.7548 - val_loss: 1.6008 - val_acc: 0.7598\n",
            "Epoch 10/30\n",
            "7000/7000 [==============================] - 29s 4ms/step - loss: 1.4697 - acc: 0.7610 - val_loss: 1.5634 - val_acc: 0.7620\n",
            "Epoch 11/30\n",
            "7000/7000 [==============================] - 29s 4ms/step - loss: 1.4253 - acc: 0.7639 - val_loss: 1.5343 - val_acc: 0.7649\n",
            "Epoch 12/30\n",
            "7000/7000 [==============================] - 28s 4ms/step - loss: 1.3823 - acc: 0.7691 - val_loss: 1.5051 - val_acc: 0.7715\n",
            "Epoch 13/30\n",
            "7000/7000 [==============================] - 28s 4ms/step - loss: 1.3389 - acc: 0.7745 - val_loss: 1.4797 - val_acc: 0.7761\n",
            "Epoch 14/30\n",
            "7000/7000 [==============================] - 28s 4ms/step - loss: 1.2988 - acc: 0.7784 - val_loss: 1.4577 - val_acc: 0.7782\n",
            "Epoch 15/30\n",
            "7000/7000 [==============================] - 28s 4ms/step - loss: 1.2627 - acc: 0.7810 - val_loss: 1.4366 - val_acc: 0.7807\n",
            "Epoch 16/30\n",
            "7000/7000 [==============================] - 28s 4ms/step - loss: 1.2272 - acc: 0.7833 - val_loss: 1.4176 - val_acc: 0.7834\n",
            "Epoch 17/30\n",
            "7000/7000 [==============================] - 28s 4ms/step - loss: 1.1916 - acc: 0.7865 - val_loss: 1.4065 - val_acc: 0.7848\n",
            "Epoch 18/30\n",
            "7000/7000 [==============================] - 28s 4ms/step - loss: 1.1609 - acc: 0.7879 - val_loss: 1.3872 - val_acc: 0.7873\n",
            "Epoch 19/30\n",
            "7000/7000 [==============================] - 28s 4ms/step - loss: 1.1289 - acc: 0.7911 - val_loss: 1.3734 - val_acc: 0.7881\n",
            "Epoch 20/30\n",
            "7000/7000 [==============================] - 28s 4ms/step - loss: 1.0972 - acc: 0.7933 - val_loss: 1.3589 - val_acc: 0.7902\n",
            "Epoch 21/30\n",
            "7000/7000 [==============================] - 28s 4ms/step - loss: 1.0668 - acc: 0.7961 - val_loss: 1.3459 - val_acc: 0.7901\n",
            "Epoch 22/30\n",
            "7000/7000 [==============================] - 28s 4ms/step - loss: 1.0384 - acc: 0.7982 - val_loss: 1.3336 - val_acc: 0.7927\n",
            "Epoch 23/30\n",
            "7000/7000 [==============================] - 28s 4ms/step - loss: 1.0107 - acc: 0.8004 - val_loss: 1.3246 - val_acc: 0.7936\n",
            "Epoch 24/30\n",
            "7000/7000 [==============================] - 28s 4ms/step - loss: 0.9843 - acc: 0.8021 - val_loss: 1.3117 - val_acc: 0.7944\n",
            "Epoch 25/30\n",
            "7000/7000 [==============================] - 28s 4ms/step - loss: 0.9598 - acc: 0.8044 - val_loss: 1.3028 - val_acc: 0.7955\n",
            "Epoch 26/30\n",
            "7000/7000 [==============================] - 28s 4ms/step - loss: 0.9348 - acc: 0.8075 - val_loss: 1.2930 - val_acc: 0.7963\n",
            "Epoch 27/30\n",
            "7000/7000 [==============================] - 28s 4ms/step - loss: 0.9119 - acc: 0.8091 - val_loss: 1.2860 - val_acc: 0.7968\n",
            "Epoch 28/30\n",
            "7000/7000 [==============================] - 28s 4ms/step - loss: 0.8907 - acc: 0.8111 - val_loss: 1.2768 - val_acc: 0.7989\n",
            "Epoch 29/30\n",
            "7000/7000 [==============================] - 28s 4ms/step - loss: 0.8703 - acc: 0.8129 - val_loss: 1.2701 - val_acc: 0.7999\n",
            "Epoch 30/30\n",
            "7000/7000 [==============================] - 28s 4ms/step - loss: 0.8492 - acc: 0.8150 - val_loss: 1.2634 - val_acc: 0.8005\n"
          ],
          "name": "stdout"
        }
      ]
    },
    {
      "metadata": {
        "id": "bk8w_DhkekQz",
        "colab_type": "code",
        "colab": {}
      },
      "cell_type": "code",
      "source": [
        ""
      ],
      "execution_count": 0,
      "outputs": []
    },
    {
      "metadata": {
        "id": "hvXntI1YekNk",
        "colab_type": "code",
        "colab": {}
      },
      "cell_type": "code",
      "source": [
        ""
      ],
      "execution_count": 0,
      "outputs": []
    },
    {
      "metadata": {
        "id": "H4dHtGUFeksM",
        "colab_type": "code",
        "colab": {}
      },
      "cell_type": "code",
      "source": [
        "input = Input(shape=(13,))\n",
        "model = Embedding(input_dim=2114, output_dim=32, input_length=13)(input)\n",
        "model = Dropout(0.1)(model)\n",
        "model = Bidirectional(LSTM(units=100, return_sequences=True, recurrent_dropout=0.1))(model)\n",
        "out = TimeDistributed(Dense(3575, activation=\"softmax\"))(model)  # softmax output layer"
      ],
      "execution_count": 0,
      "outputs": []
    },
    {
      "metadata": {
        "id": "7pvJB08SeksV",
        "colab_type": "code",
        "outputId": "3b9805ad-137d-4c87-dcc7-617163b9e0d0",
        "colab": {
          "base_uri": "https://localhost:8080/",
          "height": 318
        }
      },
      "cell_type": "code",
      "source": [
        "model = Model(input, out)\n",
        "model.summary()"
      ],
      "execution_count": 0,
      "outputs": [
        {
          "output_type": "stream",
          "text": [
            "_________________________________________________________________\n",
            "Layer (type)                 Output Shape              Param #   \n",
            "=================================================================\n",
            "input_5 (InputLayer)         (None, 13)                0         \n",
            "_________________________________________________________________\n",
            "embedding_5 (Embedding)      (None, 13, 32)            67648     \n",
            "_________________________________________________________________\n",
            "dropout_5 (Dropout)          (None, 13, 32)            0         \n",
            "_________________________________________________________________\n",
            "bidirectional_2 (Bidirection (None, 13, 200)           106400    \n",
            "_________________________________________________________________\n",
            "time_distributed_5 (TimeDist (None, 13, 3575)          718575    \n",
            "=================================================================\n",
            "Total params: 892,623\n",
            "Trainable params: 892,623\n",
            "Non-trainable params: 0\n",
            "_________________________________________________________________\n"
          ],
          "name": "stdout"
        }
      ]
    },
    {
      "metadata": {
        "id": "DSffeb2mekKF",
        "colab_type": "code",
        "outputId": "5d49ae07-62ca-499a-ee46-70f4eda8230e",
        "colab": {
          "base_uri": "https://localhost:8080/",
          "height": 390
        }
      },
      "cell_type": "code",
      "source": [
        "#model.compile(optimizer=\"adam\", loss=\"categorical_crossentropy\", metrics=[\"accuracy\"])\n",
        "history = model.fit(X_train, y_train, batch_size=32, epochs=10, validation_data = (X_test, y_test), verbose=1)"
      ],
      "execution_count": 0,
      "outputs": [
        {
          "output_type": "stream",
          "text": [
            "Train on 7000 samples, validate on 3000 samples\n",
            "Epoch 1/10\n",
            "7000/7000 [==============================] - 37s 5ms/step - loss: 0.8785 - acc: 0.8169 - val_loss: 1.2724 - val_acc: 0.8050\n",
            "Epoch 2/10\n",
            "7000/7000 [==============================] - 37s 5ms/step - loss: 0.8478 - acc: 0.8213 - val_loss: 1.2639 - val_acc: 0.8055\n",
            "Epoch 3/10\n",
            "7000/7000 [==============================] - 37s 5ms/step - loss: 0.8203 - acc: 0.8238 - val_loss: 1.2547 - val_acc: 0.8064\n",
            "Epoch 4/10\n",
            "7000/7000 [==============================] - 37s 5ms/step - loss: 0.7967 - acc: 0.8267 - val_loss: 1.2464 - val_acc: 0.8078\n",
            "Epoch 5/10\n",
            "7000/7000 [==============================] - 36s 5ms/step - loss: 0.7715 - acc: 0.8296 - val_loss: 1.2356 - val_acc: 0.8081\n",
            "Epoch 6/10\n",
            "7000/7000 [==============================] - 36s 5ms/step - loss: 0.7503 - acc: 0.8320 - val_loss: 1.2298 - val_acc: 0.8087\n",
            "Epoch 7/10\n",
            "7000/7000 [==============================] - 36s 5ms/step - loss: 0.7288 - acc: 0.8350 - val_loss: 1.2242 - val_acc: 0.8111\n",
            "Epoch 8/10\n",
            "7000/7000 [==============================] - 36s 5ms/step - loss: 0.7076 - acc: 0.8384 - val_loss: 1.2188 - val_acc: 0.8106\n",
            "Epoch 9/10\n",
            "7000/7000 [==============================] - 37s 5ms/step - loss: 0.6895 - acc: 0.8405 - val_loss: 1.2128 - val_acc: 0.8115\n",
            "Epoch 10/10\n",
            "7000/7000 [==============================] - 37s 5ms/step - loss: 0.6713 - acc: 0.8430 - val_loss: 1.2072 - val_acc: 0.8133\n"
          ],
          "name": "stdout"
        }
      ]
    },
    {
      "metadata": {
        "id": "IXMKvYdrfuHO",
        "colab_type": "code",
        "outputId": "83cee3c7-f6ba-41ce-e6b4-4824776e39d7",
        "colab": {
          "base_uri": "https://localhost:8080/",
          "height": 34
        }
      },
      "cell_type": "code",
      "source": [
        "np.argmax(model.predict(X_train[4].reshape(1,13)).reshape(13,3575),axis=1)"
      ],
      "execution_count": 0,
      "outputs": [
        {
          "output_type": "execute_result",
          "data": {
            "text/plain": [
              "array([ 4,  8, 10, 10,  0,  0,  0,  0,  0,  0,  0,  0,  0])"
            ]
          },
          "metadata": {
            "tags": []
          },
          "execution_count": 163
        }
      ]
    },
    {
      "metadata": {
        "id": "HQeSn1qpghDR",
        "colab_type": "code",
        "outputId": "da1b3ad3-500d-47e2-e54f-c142faa4e18d",
        "colab": {
          "base_uri": "https://localhost:8080/",
          "height": 34
        }
      },
      "cell_type": "code",
      "source": [
        "np.argmax(y_train[4],axis=1)"
      ],
      "execution_count": 0,
      "outputs": [
        {
          "output_type": "execute_result",
          "data": {
            "text/plain": [
              "array([  4,   8, 283,  10,   0,   0,   0,   0,   0,   0,   0,   0,   0])"
            ]
          },
          "metadata": {
            "tags": []
          },
          "execution_count": 164
        }
      ]
    },
    {
      "metadata": {
        "id": "0xvIa9cqOu4e",
        "colab_type": "code",
        "outputId": "f6073867-9867-4c65-fba5-06b5330577a5",
        "colab": {
          "base_uri": "https://localhost:8080/",
          "height": 52
        }
      },
      "cell_type": "code",
      "source": [
        "X_train[2]"
      ],
      "execution_count": 0,
      "outputs": [
        {
          "output_type": "execute_result",
          "data": {
            "text/plain": [
              "array([ 20,   3, 110, 442,   0,   0,   0,   0,   0,   0,   0,   0,   0],\n",
              "      dtype=int32)"
            ]
          },
          "metadata": {
            "tags": []
          },
          "execution_count": 146
        }
      ]
    },
    {
      "metadata": {
        "id": "Guzlm1GctiIP",
        "colab_type": "code",
        "colab": {}
      },
      "cell_type": "code",
      "source": [
        "from keras.models import Model, Input\n",
        "from keras.layers import LSTM, Embedding, Dense, TimeDistributed, Dropout, Bidirectional"
      ],
      "execution_count": 0,
      "outputs": []
    },
    {
      "metadata": {
        "id": "Q12SSbTWtiE4",
        "colab_type": "code",
        "colab": {}
      },
      "cell_type": "code",
      "source": [
        "input = Input(shape=(5,))\n",
        "encoder_input = Embedding(input_dim=2114, output_dim=32, input_length=5)(input)\n",
        "#encoder_input = Input(shape=(None,2113))\n",
        "encoder_LSTM = (LSTM(100,return_state = True))\n",
        "encoder_outputs, encoder_h, encoder_c = encoder_LSTM (encoder_input)\n",
        "encoder_states = [encoder_h, encoder_c]"
      ],
      "execution_count": 0,
      "outputs": []
    },
    {
      "metadata": {
        "id": "kp3LfmYatiCG",
        "colab_type": "code",
        "colab": {}
      },
      "cell_type": "code",
      "source": [
        "\n",
        "decoder_input = Input(shape=(15,))\n",
        "decoder_input2 = Embedding(input_dim=3577, output_dim=32, input_length=15)(decoder_input)\n",
        "decoder_LSTM = LSTM(100,return_sequences=True, return_state = True)\n",
        "decoder_out, _ , _ = decoder_LSTM(decoder_input2, initial_state=encoder_states)\n",
        "decoder_dense = Dense(3576,activation='softmax')\n",
        "decoder_out = decoder_dense (decoder_out)"
      ],
      "execution_count": 0,
      "outputs": []
    },
    {
      "metadata": {
        "id": "3tJeTG3hth-I",
        "colab_type": "code",
        "outputId": "4064fadb-ecb7-4c6a-ab3d-9684de4f2ddc",
        "colab": {
          "base_uri": "https://localhost:8080/",
          "height": 425
        }
      },
      "cell_type": "code",
      "source": [
        "model = Model(inputs=[input, decoder_input],outputs=[decoder_out])\n",
        "model.summary()"
      ],
      "execution_count": 0,
      "outputs": [
        {
          "output_type": "stream",
          "text": [
            "__________________________________________________________________________________________________\n",
            "Layer (type)                    Output Shape         Param #     Connected to                     \n",
            "==================================================================================================\n",
            "input_1 (InputLayer)            (None, 5)            0                                            \n",
            "__________________________________________________________________________________________________\n",
            "input_3 (InputLayer)            (None, 15)           0                                            \n",
            "__________________________________________________________________________________________________\n",
            "embedding_1 (Embedding)         (None, 5, 32)        67648       input_1[0][0]                    \n",
            "__________________________________________________________________________________________________\n",
            "embedding_3 (Embedding)         (None, 15, 32)       114464      input_3[0][0]                    \n",
            "__________________________________________________________________________________________________\n",
            "lstm_1 (LSTM)                   [(None, 100), (None, 53200       embedding_1[0][0]                \n",
            "__________________________________________________________________________________________________\n",
            "lstm_3 (LSTM)                   [(None, 15, 100), (N 53200       embedding_3[0][0]                \n",
            "                                                                 lstm_1[0][1]                     \n",
            "                                                                 lstm_1[0][2]                     \n",
            "__________________________________________________________________________________________________\n",
            "dense_2 (Dense)                 (None, 15, 3576)     361176      lstm_3[0][0]                     \n",
            "==================================================================================================\n",
            "Total params: 649,688\n",
            "Trainable params: 649,688\n",
            "Non-trainable params: 0\n",
            "__________________________________________________________________________________________________\n"
          ],
          "name": "stdout"
        }
      ]
    },
    {
      "metadata": {
        "id": "5my6Zh6sx9sO",
        "colab_type": "code",
        "outputId": "0902a0d1-b558-4385-ed32-a41af5c7cd9f",
        "colab": {
          "base_uri": "https://localhost:8080/",
          "height": 34
        }
      },
      "cell_type": "code",
      "source": [
        "X[0]"
      ],
      "execution_count": 0,
      "outputs": [
        {
          "output_type": "execute_result",
          "data": {
            "text/plain": [
              "array([16,  0,  0,  0,  0], dtype=int32)"
            ]
          },
          "metadata": {
            "tags": []
          },
          "execution_count": 39
        }
      ]
    },
    {
      "metadata": {
        "id": "yJ7qvJXayXlm",
        "colab_type": "code",
        "outputId": "a858d6fc-bd3d-41f0-f1cf-4689cdd0602c",
        "colab": {
          "base_uri": "https://localhost:8080/",
          "height": 52
        }
      },
      "cell_type": "code",
      "source": [
        "y[0]"
      ],
      "execution_count": 0,
      "outputs": [
        {
          "output_type": "execute_result",
          "data": {
            "text/plain": [
              "array([ 1, 55,  2,  0,  0,  0,  0,  0,  0,  0,  0,  0,  0,  0,  0],\n",
              "      dtype=int32)"
            ]
          },
          "metadata": {
            "tags": []
          },
          "execution_count": 40
        }
      ]
    },
    {
      "metadata": {
        "id": "eAugyXR6ymWz",
        "colab_type": "code",
        "outputId": "b43fa459-8fe9-4999-e505-c77f394e1f27",
        "colab": {
          "base_uri": "https://localhost:8080/",
          "height": 34
        }
      },
      "cell_type": "code",
      "source": [
        "X_train1[0]"
      ],
      "execution_count": 0,
      "outputs": [
        {
          "output_type": "execute_result",
          "data": {
            "text/plain": [
              "array([52, 30, 84,  0,  0], dtype=int32)"
            ]
          },
          "metadata": {
            "tags": []
          },
          "execution_count": 51
        }
      ]
    },
    {
      "metadata": {
        "id": "poq53YhczYSy",
        "colab_type": "code",
        "outputId": "e1b5022c-27c6-43ac-9667-f39ae96fc53c",
        "colab": {
          "base_uri": "https://localhost:8080/",
          "height": 34
        }
      },
      "cell_type": "code",
      "source": [
        "np.argmax(target_data[0],axis=1)"
      ],
      "execution_count": 0,
      "outputs": [
        {
          "output_type": "execute_result",
          "data": {
            "text/plain": [
              "array([54,  1,  0,  0,  0,  0,  0,  0,  0,  0,  0,  0,  0,  0,  0])"
            ]
          },
          "metadata": {
            "tags": []
          },
          "execution_count": 53
        }
      ]
    },
    {
      "metadata": {
        "id": "qHZJ2TIqtweH",
        "colab_type": "code",
        "colab": {}
      },
      "cell_type": "code",
      "source": [
        "from sklearn.cross_validation import train_test_split\n",
        "X_train1, X_test1, y_train1, y_test1 = train_test_split(X,y, test_size=0.30,random_state=10)\n",
        "X_train2, X_test2, y_train2, y_test2 = train_test_split(y,target_data, test_size=0.30,random_state=10)"
      ],
      "execution_count": 0,
      "outputs": []
    },
    {
      "metadata": {
        "id": "WBEV4kchtwba",
        "colab_type": "code",
        "outputId": "921069fe-db7a-4631-e126-6e947576f3ed",
        "colab": {
          "base_uri": "https://localhost:8080/",
          "height": 1414
        }
      },
      "cell_type": "code",
      "source": [
        "model.compile(optimizer='adam', loss='categorical_crossentropy',metrics = ['accuracy'])\n",
        "model.fit(x=[X_train1,X_train2], \n",
        "          y=y_train2,\n",
        "          batch_size=64,\n",
        "          epochs=5,\n",
        "          verbose =1)"
      ],
      "execution_count": 0,
      "outputs": [
        {
          "output_type": "stream",
          "text": [
            "Epoch 1/5\n",
            "7000/7000 [==============================] - 54s 8ms/step - loss: 1.7165 - acc: 0.0743\n",
            "Epoch 2/5\n",
            "2048/7000 [=======>......................] - ETA: 37s - loss: 1.5756 - acc: 0.0802"
          ],
          "name": "stdout"
        },
        {
          "output_type": "error",
          "ename": "KeyboardInterrupt",
          "evalue": "ignored",
          "traceback": [
            "\u001b[0;31m---------------------------------------------------------------------------\u001b[0m",
            "\u001b[0;31mKeyboardInterrupt\u001b[0m                         Traceback (most recent call last)",
            "\u001b[0;32m<ipython-input-49-447b5321e9b6>\u001b[0m in \u001b[0;36m<module>\u001b[0;34m()\u001b[0m\n\u001b[1;32m      4\u001b[0m           \u001b[0mbatch_size\u001b[0m\u001b[0;34m=\u001b[0m\u001b[0;36m64\u001b[0m\u001b[0;34m,\u001b[0m\u001b[0;34m\u001b[0m\u001b[0m\n\u001b[1;32m      5\u001b[0m           \u001b[0mepochs\u001b[0m\u001b[0;34m=\u001b[0m\u001b[0;36m5\u001b[0m\u001b[0;34m,\u001b[0m\u001b[0;34m\u001b[0m\u001b[0m\n\u001b[0;32m----> 6\u001b[0;31m           verbose =1)\n\u001b[0m",
            "\u001b[0;32m/usr/local/lib/python3.6/dist-packages/keras/engine/training.py\u001b[0m in \u001b[0;36mfit\u001b[0;34m(self, x, y, batch_size, epochs, verbose, callbacks, validation_split, validation_data, shuffle, class_weight, sample_weight, initial_epoch, steps_per_epoch, validation_steps, **kwargs)\u001b[0m\n\u001b[1;32m   1703\u001b[0m                               \u001b[0minitial_epoch\u001b[0m\u001b[0;34m=\u001b[0m\u001b[0minitial_epoch\u001b[0m\u001b[0;34m,\u001b[0m\u001b[0;34m\u001b[0m\u001b[0m\n\u001b[1;32m   1704\u001b[0m                               \u001b[0msteps_per_epoch\u001b[0m\u001b[0;34m=\u001b[0m\u001b[0msteps_per_epoch\u001b[0m\u001b[0;34m,\u001b[0m\u001b[0;34m\u001b[0m\u001b[0m\n\u001b[0;32m-> 1705\u001b[0;31m                               validation_steps=validation_steps)\n\u001b[0m\u001b[1;32m   1706\u001b[0m \u001b[0;34m\u001b[0m\u001b[0m\n\u001b[1;32m   1707\u001b[0m     def evaluate(self, x=None, y=None,\n",
            "\u001b[0;32m/usr/local/lib/python3.6/dist-packages/keras/engine/training.py\u001b[0m in \u001b[0;36m_fit_loop\u001b[0;34m(self, f, ins, out_labels, batch_size, epochs, verbose, callbacks, val_f, val_ins, shuffle, callback_metrics, initial_epoch, steps_per_epoch, validation_steps)\u001b[0m\n\u001b[1;32m   1234\u001b[0m                         \u001b[0mins_batch\u001b[0m\u001b[0;34m[\u001b[0m\u001b[0mi\u001b[0m\u001b[0;34m]\u001b[0m \u001b[0;34m=\u001b[0m \u001b[0mins_batch\u001b[0m\u001b[0;34m[\u001b[0m\u001b[0mi\u001b[0m\u001b[0;34m]\u001b[0m\u001b[0;34m.\u001b[0m\u001b[0mtoarray\u001b[0m\u001b[0;34m(\u001b[0m\u001b[0;34m)\u001b[0m\u001b[0;34m\u001b[0m\u001b[0m\n\u001b[1;32m   1235\u001b[0m \u001b[0;34m\u001b[0m\u001b[0m\n\u001b[0;32m-> 1236\u001b[0;31m                     \u001b[0mouts\u001b[0m \u001b[0;34m=\u001b[0m \u001b[0mf\u001b[0m\u001b[0;34m(\u001b[0m\u001b[0mins_batch\u001b[0m\u001b[0;34m)\u001b[0m\u001b[0;34m\u001b[0m\u001b[0m\n\u001b[0m\u001b[1;32m   1237\u001b[0m                     \u001b[0;32mif\u001b[0m \u001b[0;32mnot\u001b[0m \u001b[0misinstance\u001b[0m\u001b[0;34m(\u001b[0m\u001b[0mouts\u001b[0m\u001b[0;34m,\u001b[0m \u001b[0mlist\u001b[0m\u001b[0;34m)\u001b[0m\u001b[0;34m:\u001b[0m\u001b[0;34m\u001b[0m\u001b[0m\n\u001b[1;32m   1238\u001b[0m                         \u001b[0mouts\u001b[0m \u001b[0;34m=\u001b[0m \u001b[0;34m[\u001b[0m\u001b[0mouts\u001b[0m\u001b[0;34m]\u001b[0m\u001b[0;34m\u001b[0m\u001b[0m\n",
            "\u001b[0;32m/usr/local/lib/python3.6/dist-packages/keras/backend/tensorflow_backend.py\u001b[0m in \u001b[0;36m__call__\u001b[0;34m(self, inputs)\u001b[0m\n\u001b[1;32m   2480\u001b[0m         \u001b[0msession\u001b[0m \u001b[0;34m=\u001b[0m \u001b[0mget_session\u001b[0m\u001b[0;34m(\u001b[0m\u001b[0;34m)\u001b[0m\u001b[0;34m\u001b[0m\u001b[0m\n\u001b[1;32m   2481\u001b[0m         updated = session.run(fetches=fetches, feed_dict=feed_dict,\n\u001b[0;32m-> 2482\u001b[0;31m                               **self.session_kwargs)\n\u001b[0m\u001b[1;32m   2483\u001b[0m         \u001b[0;32mreturn\u001b[0m \u001b[0mupdated\u001b[0m\u001b[0;34m[\u001b[0m\u001b[0;34m:\u001b[0m\u001b[0mlen\u001b[0m\u001b[0;34m(\u001b[0m\u001b[0mself\u001b[0m\u001b[0;34m.\u001b[0m\u001b[0moutputs\u001b[0m\u001b[0;34m)\u001b[0m\u001b[0;34m]\u001b[0m\u001b[0;34m\u001b[0m\u001b[0m\n\u001b[1;32m   2484\u001b[0m \u001b[0;34m\u001b[0m\u001b[0m\n",
            "\u001b[0;32m/usr/local/lib/python3.6/dist-packages/tensorflow/python/client/session.py\u001b[0m in \u001b[0;36mrun\u001b[0;34m(self, fetches, feed_dict, options, run_metadata)\u001b[0m\n\u001b[1;32m    875\u001b[0m     \u001b[0;32mtry\u001b[0m\u001b[0;34m:\u001b[0m\u001b[0;34m\u001b[0m\u001b[0m\n\u001b[1;32m    876\u001b[0m       result = self._run(None, fetches, feed_dict, options_ptr,\n\u001b[0;32m--> 877\u001b[0;31m                          run_metadata_ptr)\n\u001b[0m\u001b[1;32m    878\u001b[0m       \u001b[0;32mif\u001b[0m \u001b[0mrun_metadata\u001b[0m\u001b[0;34m:\u001b[0m\u001b[0;34m\u001b[0m\u001b[0m\n\u001b[1;32m    879\u001b[0m         \u001b[0mproto_data\u001b[0m \u001b[0;34m=\u001b[0m \u001b[0mtf_session\u001b[0m\u001b[0;34m.\u001b[0m\u001b[0mTF_GetBuffer\u001b[0m\u001b[0;34m(\u001b[0m\u001b[0mrun_metadata_ptr\u001b[0m\u001b[0;34m)\u001b[0m\u001b[0;34m\u001b[0m\u001b[0m\n",
            "\u001b[0;32m/usr/local/lib/python3.6/dist-packages/tensorflow/python/client/session.py\u001b[0m in \u001b[0;36m_run\u001b[0;34m(self, handle, fetches, feed_dict, options, run_metadata)\u001b[0m\n\u001b[1;32m   1098\u001b[0m     \u001b[0;32mif\u001b[0m \u001b[0mfinal_fetches\u001b[0m \u001b[0;32mor\u001b[0m \u001b[0mfinal_targets\u001b[0m \u001b[0;32mor\u001b[0m \u001b[0;34m(\u001b[0m\u001b[0mhandle\u001b[0m \u001b[0;32mand\u001b[0m \u001b[0mfeed_dict_tensor\u001b[0m\u001b[0;34m)\u001b[0m\u001b[0;34m:\u001b[0m\u001b[0;34m\u001b[0m\u001b[0m\n\u001b[1;32m   1099\u001b[0m       results = self._do_run(handle, final_targets, final_fetches,\n\u001b[0;32m-> 1100\u001b[0;31m                              feed_dict_tensor, options, run_metadata)\n\u001b[0m\u001b[1;32m   1101\u001b[0m     \u001b[0;32melse\u001b[0m\u001b[0;34m:\u001b[0m\u001b[0;34m\u001b[0m\u001b[0m\n\u001b[1;32m   1102\u001b[0m       \u001b[0mresults\u001b[0m \u001b[0;34m=\u001b[0m \u001b[0;34m[\u001b[0m\u001b[0;34m]\u001b[0m\u001b[0;34m\u001b[0m\u001b[0m\n",
            "\u001b[0;32m/usr/local/lib/python3.6/dist-packages/tensorflow/python/client/session.py\u001b[0m in \u001b[0;36m_do_run\u001b[0;34m(self, handle, target_list, fetch_list, feed_dict, options, run_metadata)\u001b[0m\n\u001b[1;32m   1270\u001b[0m     \u001b[0;32mif\u001b[0m \u001b[0mhandle\u001b[0m \u001b[0;32mis\u001b[0m \u001b[0;32mNone\u001b[0m\u001b[0;34m:\u001b[0m\u001b[0;34m\u001b[0m\u001b[0m\n\u001b[1;32m   1271\u001b[0m       return self._do_call(_run_fn, feeds, fetches, targets, options,\n\u001b[0;32m-> 1272\u001b[0;31m                            run_metadata)\n\u001b[0m\u001b[1;32m   1273\u001b[0m     \u001b[0;32melse\u001b[0m\u001b[0;34m:\u001b[0m\u001b[0;34m\u001b[0m\u001b[0m\n\u001b[1;32m   1274\u001b[0m       \u001b[0;32mreturn\u001b[0m \u001b[0mself\u001b[0m\u001b[0;34m.\u001b[0m\u001b[0m_do_call\u001b[0m\u001b[0;34m(\u001b[0m\u001b[0m_prun_fn\u001b[0m\u001b[0;34m,\u001b[0m \u001b[0mhandle\u001b[0m\u001b[0;34m,\u001b[0m \u001b[0mfeeds\u001b[0m\u001b[0;34m,\u001b[0m \u001b[0mfetches\u001b[0m\u001b[0;34m)\u001b[0m\u001b[0;34m\u001b[0m\u001b[0m\n",
            "\u001b[0;32m/usr/local/lib/python3.6/dist-packages/tensorflow/python/client/session.py\u001b[0m in \u001b[0;36m_do_call\u001b[0;34m(self, fn, *args)\u001b[0m\n\u001b[1;32m   1276\u001b[0m   \u001b[0;32mdef\u001b[0m \u001b[0m_do_call\u001b[0m\u001b[0;34m(\u001b[0m\u001b[0mself\u001b[0m\u001b[0;34m,\u001b[0m \u001b[0mfn\u001b[0m\u001b[0;34m,\u001b[0m \u001b[0;34m*\u001b[0m\u001b[0margs\u001b[0m\u001b[0;34m)\u001b[0m\u001b[0;34m:\u001b[0m\u001b[0;34m\u001b[0m\u001b[0m\n\u001b[1;32m   1277\u001b[0m     \u001b[0;32mtry\u001b[0m\u001b[0;34m:\u001b[0m\u001b[0;34m\u001b[0m\u001b[0m\n\u001b[0;32m-> 1278\u001b[0;31m       \u001b[0;32mreturn\u001b[0m \u001b[0mfn\u001b[0m\u001b[0;34m(\u001b[0m\u001b[0;34m*\u001b[0m\u001b[0margs\u001b[0m\u001b[0;34m)\u001b[0m\u001b[0;34m\u001b[0m\u001b[0m\n\u001b[0m\u001b[1;32m   1279\u001b[0m     \u001b[0;32mexcept\u001b[0m \u001b[0merrors\u001b[0m\u001b[0;34m.\u001b[0m\u001b[0mOpError\u001b[0m \u001b[0;32mas\u001b[0m \u001b[0me\u001b[0m\u001b[0;34m:\u001b[0m\u001b[0;34m\u001b[0m\u001b[0m\n\u001b[1;32m   1280\u001b[0m       \u001b[0mmessage\u001b[0m \u001b[0;34m=\u001b[0m \u001b[0mcompat\u001b[0m\u001b[0;34m.\u001b[0m\u001b[0mas_text\u001b[0m\u001b[0;34m(\u001b[0m\u001b[0me\u001b[0m\u001b[0;34m.\u001b[0m\u001b[0mmessage\u001b[0m\u001b[0;34m)\u001b[0m\u001b[0;34m\u001b[0m\u001b[0m\n",
            "\u001b[0;32m/usr/local/lib/python3.6/dist-packages/tensorflow/python/client/session.py\u001b[0m in \u001b[0;36m_run_fn\u001b[0;34m(feed_dict, fetch_list, target_list, options, run_metadata)\u001b[0m\n\u001b[1;32m   1261\u001b[0m       \u001b[0mself\u001b[0m\u001b[0;34m.\u001b[0m\u001b[0m_extend_graph\u001b[0m\u001b[0;34m(\u001b[0m\u001b[0;34m)\u001b[0m\u001b[0;34m\u001b[0m\u001b[0m\n\u001b[1;32m   1262\u001b[0m       return self._call_tf_sessionrun(\n\u001b[0;32m-> 1263\u001b[0;31m           options, feed_dict, fetch_list, target_list, run_metadata)\n\u001b[0m\u001b[1;32m   1264\u001b[0m \u001b[0;34m\u001b[0m\u001b[0m\n\u001b[1;32m   1265\u001b[0m     \u001b[0;32mdef\u001b[0m \u001b[0m_prun_fn\u001b[0m\u001b[0;34m(\u001b[0m\u001b[0mhandle\u001b[0m\u001b[0;34m,\u001b[0m \u001b[0mfeed_dict\u001b[0m\u001b[0;34m,\u001b[0m \u001b[0mfetch_list\u001b[0m\u001b[0;34m)\u001b[0m\u001b[0;34m:\u001b[0m\u001b[0;34m\u001b[0m\u001b[0m\n",
            "\u001b[0;32m/usr/local/lib/python3.6/dist-packages/tensorflow/python/client/session.py\u001b[0m in \u001b[0;36m_call_tf_sessionrun\u001b[0;34m(self, options, feed_dict, fetch_list, target_list, run_metadata)\u001b[0m\n\u001b[1;32m   1348\u001b[0m     return tf_session.TF_SessionRun_wrapper(\n\u001b[1;32m   1349\u001b[0m         \u001b[0mself\u001b[0m\u001b[0;34m.\u001b[0m\u001b[0m_session\u001b[0m\u001b[0;34m,\u001b[0m \u001b[0moptions\u001b[0m\u001b[0;34m,\u001b[0m \u001b[0mfeed_dict\u001b[0m\u001b[0;34m,\u001b[0m \u001b[0mfetch_list\u001b[0m\u001b[0;34m,\u001b[0m \u001b[0mtarget_list\u001b[0m\u001b[0;34m,\u001b[0m\u001b[0;34m\u001b[0m\u001b[0m\n\u001b[0;32m-> 1350\u001b[0;31m         run_metadata)\n\u001b[0m\u001b[1;32m   1351\u001b[0m \u001b[0;34m\u001b[0m\u001b[0m\n\u001b[1;32m   1352\u001b[0m   \u001b[0;32mdef\u001b[0m \u001b[0m_call_tf_sessionprun\u001b[0m\u001b[0;34m(\u001b[0m\u001b[0mself\u001b[0m\u001b[0;34m,\u001b[0m \u001b[0mhandle\u001b[0m\u001b[0;34m,\u001b[0m \u001b[0mfeed_dict\u001b[0m\u001b[0;34m,\u001b[0m \u001b[0mfetch_list\u001b[0m\u001b[0;34m)\u001b[0m\u001b[0;34m:\u001b[0m\u001b[0;34m\u001b[0m\u001b[0m\n",
            "\u001b[0;31mKeyboardInterrupt\u001b[0m: "
          ]
        }
      ]
    },
    {
      "metadata": {
        "id": "iQxUNeIytwXm",
        "colab_type": "code",
        "colab": {}
      },
      "cell_type": "code",
      "source": [
        ""
      ],
      "execution_count": 0,
      "outputs": []
    },
    {
      "metadata": {
        "id": "qG5YJkZGptUm",
        "colab_type": "code",
        "outputId": "e3368208-9333-4b9c-81f7-85c5a1cd169c",
        "colab": {
          "base_uri": "https://localhost:8080/",
          "height": 34
        }
      },
      "cell_type": "code",
      "source": [
        "fr_int_to_word[2]"
      ],
      "execution_count": 0,
      "outputs": [
        {
          "output_type": "execute_result",
          "data": {
            "text/plain": [
              "'est'"
            ]
          },
          "metadata": {
            "tags": []
          },
          "execution_count": 149
        }
      ]
    },
    {
      "metadata": {
        "id": "nr6FBCBzjauE",
        "colab_type": "code",
        "outputId": "e50032a4-c335-479a-9dc3-6eb75bd18bee",
        "colab": {
          "base_uri": "https://localhost:8080/",
          "height": 34
        }
      },
      "cell_type": "code",
      "source": [
        "fr_int_to_word[61]"
      ],
      "execution_count": 0,
      "outputs": [
        {
          "output_type": "execute_result",
          "data": {
            "text/plain": [
              "'fais'"
            ]
          },
          "metadata": {
            "tags": []
          },
          "execution_count": 148
        }
      ]
    },
    {
      "metadata": {
        "id": "bknzRE6i-yW_",
        "colab_type": "code",
        "outputId": "cc16b878-67f1-4d5a-ae9f-106a85e9e087",
        "colab": {
          "base_uri": "https://localhost:8080/",
          "height": 34
        }
      },
      "cell_type": "code",
      "source": [
        "y4.shape"
      ],
      "execution_count": 0,
      "outputs": [
        {
          "output_type": "execute_result",
          "data": {
            "text/plain": [
              "(10000, 15, 3577)"
            ]
          },
          "metadata": {
            "tags": []
          },
          "execution_count": 267
        }
      ]
    },
    {
      "metadata": {
        "id": "_VeHQx51_qP3",
        "colab_type": "code",
        "outputId": "85e661c4-fa92-430b-fe0d-1cb99072f3be",
        "colab": {
          "base_uri": "https://localhost:8080/",
          "height": 52
        }
      },
      "cell_type": "code",
      "source": [
        "X2[20]"
      ],
      "execution_count": 0,
      "outputs": [
        {
          "output_type": "execute_result",
          "data": {
            "text/plain": [
              "array([529,   0,   0,   0,   0,   0,   0,   0,   0,   0,   0,   0,   0,\n",
              "         0,   0], dtype=int32)"
            ]
          },
          "metadata": {
            "tags": []
          },
          "execution_count": 276
        }
      ]
    },
    {
      "metadata": {
        "id": "fXN7P_O-_teJ",
        "colab_type": "code",
        "outputId": "43d8eb8a-9f26-4d9d-8daa-b4b98a7a4b6e",
        "colab": {
          "base_uri": "https://localhost:8080/",
          "height": 34
        }
      },
      "cell_type": "code",
      "source": [
        "int_to_word[529]"
      ],
      "execution_count": 0,
      "outputs": [
        {
          "output_type": "execute_result",
          "data": {
            "text/plain": [
              "'serais'"
            ]
          },
          "metadata": {
            "tags": []
          },
          "execution_count": 277
        }
      ]
    },
    {
      "metadata": {
        "id": "Uz16X9owOylo",
        "colab_type": "code",
        "outputId": "b968a6dd-df47-413a-a122-11cbf511355a",
        "colab": {
          "base_uri": "https://localhost:8080/",
          "height": 52
        }
      },
      "cell_type": "code",
      "source": [
        "np.argmax(model.predict(X_test[20].reshape(1,15)),axis=2)"
      ],
      "execution_count": 0,
      "outputs": [
        {
          "output_type": "execute_result",
          "data": {
            "text/plain": [
              "array([[ 24,   4, 441,   0,   0,   0,   0,   0,   0,   0,   0,   0,   0,\n",
              "          0,   0]])"
            ]
          },
          "metadata": {
            "tags": []
          },
          "execution_count": 350
        }
      ]
    },
    {
      "metadata": {
        "id": "Rr5ca77SPAxq",
        "colab_type": "code",
        "outputId": "a4590255-db70-47b8-b1a5-09b66e387645",
        "colab": {
          "base_uri": "https://localhost:8080/",
          "height": 52
        }
      },
      "cell_type": "code",
      "source": [
        "np.argmax(y_test[20],axis=1)"
      ],
      "execution_count": 0,
      "outputs": [
        {
          "output_type": "execute_result",
          "data": {
            "text/plain": [
              "array([ 72,   4, 441,   0,   0,   0,   0,   0,   0,   0,   0,   0,   0,\n",
              "         0,   0])"
            ]
          },
          "metadata": {
            "tags": []
          },
          "execution_count": 351
        }
      ]
    },
    {
      "metadata": {
        "id": "Ivaq8osIqC1a",
        "colab_type": "code",
        "outputId": "f3220c51-6587-450b-cff2-bbfaebcdb92d",
        "colab": {
          "base_uri": "https://localhost:8080/",
          "height": 34
        }
      },
      "cell_type": "code",
      "source": [
        "mapped_targets[2]"
      ],
      "execution_count": 0,
      "outputs": [
        {
          "output_type": "execute_result",
          "data": {
            "text/plain": [
              "[1, 1047, 2]"
            ]
          },
          "metadata": {
            "tags": []
          },
          "execution_count": 270
        }
      ]
    },
    {
      "metadata": {
        "id": "r6wcbl3rPBNF",
        "colab_type": "code",
        "outputId": "a14ed556-fda8-488c-f123-369ae0cdbb6f",
        "colab": {
          "base_uri": "https://localhost:8080/",
          "height": 34
        }
      },
      "cell_type": "code",
      "source": [
        "fr_int_to_word[24]"
      ],
      "execution_count": 0,
      "outputs": [
        {
          "output_type": "execute_result",
          "data": {
            "text/plain": [
              "'tes'"
            ]
          },
          "metadata": {
            "tags": []
          },
          "execution_count": 352
        }
      ]
    },
    {
      "metadata": {
        "id": "Qo3ISZzmPSm1",
        "colab_type": "code",
        "outputId": "228470c3-7f39-4422-d32a-b3ae511abba8",
        "colab": {
          "base_uri": "https://localhost:8080/",
          "height": 34
        }
      },
      "cell_type": "code",
      "source": [
        "fr_int_to_word[72]"
      ],
      "execution_count": 0,
      "outputs": [
        {
          "output_type": "execute_result",
          "data": {
            "text/plain": [
              "'avez'"
            ]
          },
          "metadata": {
            "tags": []
          },
          "execution_count": 353
        }
      ]
    },
    {
      "metadata": {
        "id": "1yAHyV4NuvFh",
        "colab_type": "code",
        "outputId": "39bc80c4-66dc-404c-93f8-dd67bcc37444",
        "colab": {
          "base_uri": "https://localhost:8080/",
          "height": 70
        }
      },
      "cell_type": "code",
      "source": [
        "lines.loc[3]"
      ],
      "execution_count": 0,
      "outputs": [
        {
          "output_type": "execute_result",
          "data": {
            "text/plain": [
              "eng            wow\n",
              "fr     - a alors _\n",
              "Name: 3, dtype: object"
            ]
          },
          "metadata": {
            "tags": []
          },
          "execution_count": 227
        }
      ]
    },
    {
      "metadata": {
        "id": "QRzZC0dxt8oQ",
        "colab_type": "code",
        "outputId": "bbf6623d-9a15-478c-c4c1-087ad6b0e7c1",
        "colab": {
          "base_uri": "https://localhost:8080/",
          "height": 34
        }
      },
      "cell_type": "code",
      "source": [
        "fra_index_to_char_dict[55]"
      ],
      "execution_count": 0,
      "outputs": [
        {
          "output_type": "execute_result",
          "data": {
            "text/plain": [
              "'adorais'"
            ]
          },
          "metadata": {
            "tags": []
          },
          "execution_count": 209
        }
      ]
    },
    {
      "metadata": {
        "id": "FzYelFvrPS1f",
        "colab_type": "code",
        "outputId": "14a4f5e9-96cb-4e2f-ef24-e32525ef6c30",
        "colab": {
          "base_uri": "https://localhost:8080/",
          "height": 17812
        }
      },
      "cell_type": "code",
      "source": [
        "fra_index_to_char_dict"
      ],
      "execution_count": 0,
      "outputs": [
        {
          "output_type": "execute_result",
          "data": {
            "text/plain": [
              "{0: '-',\n",
              " 1: '_',\n",
              " 2: 'a',\n",
              " 3: 'abandonn',\n",
              " 4: 'abandonna',\n",
              " 5: 'abandonne',\n",
              " 6: 'abandonner',\n",
              " 7: 'abandonnerai',\n",
              " 8: 'abandonnez',\n",
              " 9: 'abandonnons',\n",
              " 10: 'abeilles',\n",
              " 11: 'able',\n",
              " 12: 'aboient',\n",
              " 13: 'abord',\n",
              " 14: 'aboyait',\n",
              " 15: 'abri',\n",
              " 16: 'abruti',\n",
              " 17: 'abrutie',\n",
              " 18: 'absent',\n",
              " 19: 'absente',\n",
              " 20: 'abstiens',\n",
              " 21: 'absurde',\n",
              " 22: 'accepterais',\n",
              " 23: 'accident',\n",
              " 24: 'accises',\n",
              " 25: 'acclam',\n",
              " 26: 'accompagner',\n",
              " 27: 'accompli',\n",
              " 28: 'accord',\n",
              " 29: 'accoutum',\n",
              " 30: 'accro',\n",
              " 31: 'accroche',\n",
              " 32: 'accrochez',\n",
              " 33: 'ach',\n",
              " 34: 'achet',\n",
              " 35: 'acheta',\n",
              " 36: 'acheter',\n",
              " 37: 'achetons',\n",
              " 38: 'acqu',\n",
              " 39: 'acquisition',\n",
              " 40: 'acteur',\n",
              " 41: 'action',\n",
              " 42: 'active',\n",
              " 43: 'actuellement',\n",
              " 44: 'adapte',\n",
              " 45: 'adaptera',\n",
              " 46: 'addition',\n",
              " 47: 'admets',\n",
              " 48: 'admettre',\n",
              " 49: 'admirateurs',\n",
              " 50: 'admire',\n",
              " 51: 'admirons',\n",
              " 52: 'adopt',\n",
              " 53: 'ador',\n",
              " 54: 'adorable',\n",
              " 55: 'adorais',\n",
              " 56: 'adorait',\n",
              " 57: 'adore',\n",
              " 58: 'adorent',\n",
              " 59: 'adorerais',\n",
              " 60: 'adorons',\n",
              " 61: 'adulte',\n",
              " 62: 'adultes',\n",
              " 63: 'aff',\n",
              " 64: 'affaiblie',\n",
              " 65: 'affair',\n",
              " 66: 'affaire',\n",
              " 67: 'affaires',\n",
              " 68: 'affam',\n",
              " 69: 'affol',\n",
              " 70: 'affreusement',\n",
              " 71: 'affreux',\n",
              " 72: 'agace',\n",
              " 73: 'agent',\n",
              " 74: 'aggrave',\n",
              " 75: 'agir',\n",
              " 76: 'agis',\n",
              " 77: 'agissait',\n",
              " 78: 'agissez',\n",
              " 79: 'agit',\n",
              " 80: 'agr',\n",
              " 81: 'agriculteur',\n",
              " 82: 'ah',\n",
              " 83: 'ai',\n",
              " 84: 'aid',\n",
              " 85: 'aida',\n",
              " 86: 'aide',\n",
              " 87: 'aider',\n",
              " 88: 'aiderai',\n",
              " 89: 'aiderons',\n",
              " 90: 'aidez',\n",
              " 91: 'aie',\n",
              " 92: 'aille',\n",
              " 93: 'ailles',\n",
              " 94: 'ailleurs',\n",
              " 95: 'aim',\n",
              " 96: 'aima',\n",
              " 97: 'aimaient',\n",
              " 98: 'aimais',\n",
              " 99: 'aime',\n",
              " 100: 'aiment',\n",
              " 101: 'aimerais',\n",
              " 102: 'aimeriez',\n",
              " 103: 'aimes',\n",
              " 104: 'aimez',\n",
              " 105: 'aimons',\n",
              " 106: 'ainsi',\n",
              " 107: 'air',\n",
              " 108: 'airs',\n",
              " 109: 'ais',\n",
              " 110: 'aise',\n",
              " 111: 'ajuste',\n",
              " 112: 'ajustez',\n",
              " 113: 'alentour',\n",
              " 114: 'alibi',\n",
              " 115: 'aliste',\n",
              " 116: 'alit',\n",
              " 117: 'all',\n",
              " 118: 'alla',\n",
              " 119: 'allais',\n",
              " 120: 'aller',\n",
              " 121: 'allez',\n",
              " 122: 'allong',\n",
              " 123: 'allons',\n",
              " 124: 'allum',\n",
              " 125: 'allume',\n",
              " 126: 'allumette',\n",
              " 127: 'allumez',\n",
              " 128: 'alors',\n",
              " 129: 'am',\n",
              " 130: 'ambitieuse',\n",
              " 131: 'ambitieux',\n",
              " 132: 'ambition',\n",
              " 133: 'amend',\n",
              " 134: 'amende',\n",
              " 135: 'amenez',\n",
              " 136: 'amer',\n",
              " 137: 'ami',\n",
              " 138: 'amical',\n",
              " 139: 'amicale',\n",
              " 140: 'amicales',\n",
              " 141: 'amicaux',\n",
              " 142: 'amies',\n",
              " 143: 'amis',\n",
              " 144: 'amn',\n",
              " 145: 'amour',\n",
              " 146: 'amoureuse',\n",
              " 147: 'amoureuses',\n",
              " 148: 'amoureux',\n",
              " 149: 'amus',\n",
              " 150: 'amusant',\n",
              " 151: 'amusante',\n",
              " 152: 'amuse',\n",
              " 153: 'amuses',\n",
              " 154: 'amusez',\n",
              " 155: 'amusons',\n",
              " 156: 'an',\n",
              " 157: 'analphab',\n",
              " 158: 'ance',\n",
              " 159: 'ancien',\n",
              " 160: 'andouille',\n",
              " 161: 'ange',\n",
              " 162: 'anglais',\n",
              " 163: 'anim',\n",
              " 164: 'animaux',\n",
              " 165: 'ann',\n",
              " 166: 'anniversaire',\n",
              " 167: 'annul',\n",
              " 168: 'annuler',\n",
              " 169: 'annulerai',\n",
              " 170: 'ans',\n",
              " 171: 'ant',\n",
              " 172: 'ante',\n",
              " 173: 'antes',\n",
              " 174: 'anti',\n",
              " 175: 'antie',\n",
              " 176: 'antipathie',\n",
              " 177: 'anxieux',\n",
              " 178: 'apeur',\n",
              " 179: 'app',\n",
              " 180: 'appareil',\n",
              " 181: 'appartement',\n",
              " 182: 'appartient',\n",
              " 183: 'apparut',\n",
              " 184: 'appel',\n",
              " 185: 'appela',\n",
              " 186: 'appeler',\n",
              " 187: 'appelez',\n",
              " 188: 'appelle',\n",
              " 189: 'appellera',\n",
              " 190: 'appellerai',\n",
              " 191: 'appellerons',\n",
              " 192: 'appellez',\n",
              " 193: 'appelons',\n",
              " 194: 'application',\n",
              " 195: 'apport',\n",
              " 196: 'apporte',\n",
              " 197: 'apporterons',\n",
              " 198: 'apportez',\n",
              " 199: 'appr',\n",
              " 200: 'apprendrai',\n",
              " 201: 'apprends',\n",
              " 202: 'appris',\n",
              " 203: 'approche',\n",
              " 204: 'approchez',\n",
              " 205: 'approuvent',\n",
              " 206: 'apr',\n",
              " 207: 'arabe',\n",
              " 208: 'arabes',\n",
              " 209: 'araign',\n",
              " 210: 'arbre',\n",
              " 211: 'arde',\n",
              " 212: 'argent',\n",
              " 213: 'arm',\n",
              " 214: 'arme',\n",
              " 215: 'arnaqu',\n",
              " 216: 'arnaque',\n",
              " 217: 'arr',\n",
              " 218: 'arrange',\n",
              " 219: 'arranger',\n",
              " 220: 'arri',\n",
              " 221: 'arriv',\n",
              " 222: 'arrive',\n",
              " 223: 'arrivent',\n",
              " 224: 'arriver',\n",
              " 225: 'arrivera',\n",
              " 226: 'arriverai',\n",
              " 227: 'arriverons',\n",
              " 228: 'arrives',\n",
              " 229: 'arrivez',\n",
              " 230: 'art',\n",
              " 231: 'articulations',\n",
              " 232: 'artiste',\n",
              " 233: 'as',\n",
              " 234: 'asiatiques',\n",
              " 235: 'asseoir',\n",
              " 236: 'asseyez',\n",
              " 237: 'asseyons',\n",
              " 238: 'assez',\n",
              " 239: 'assieds',\n",
              " 240: 'assis',\n",
              " 241: 'assisterai',\n",
              " 242: 'assisterons',\n",
              " 243: 'associ',\n",
              " 244: 'assu',\n",
              " 245: 'assur',\n",
              " 246: 'asticoter',\n",
              " 247: 'astucieuse',\n",
              " 248: 'astucieux',\n",
              " 249: 'atif',\n",
              " 250: 'atifs',\n",
              " 251: 'ative',\n",
              " 252: 'atives',\n",
              " 253: 'attache',\n",
              " 254: 'attachez',\n",
              " 255: 'attaqu',\n",
              " 256: 'attaque',\n",
              " 257: 'attaquer',\n",
              " 258: 'attaquerons',\n",
              " 259: 'attaquez',\n",
              " 260: 'attard',\n",
              " 261: 'attend',\n",
              " 262: 'attendais',\n",
              " 263: 'attendez',\n",
              " 264: 'attendit',\n",
              " 265: 'attendons',\n",
              " 266: 'attendra',\n",
              " 267: 'attendrai',\n",
              " 268: 'attendre',\n",
              " 269: 'attendrons',\n",
              " 270: 'attends',\n",
              " 271: 'attendu',\n",
              " 272: 'attentif',\n",
              " 273: 'attention',\n",
              " 274: 'attentive',\n",
              " 275: 'attentivement',\n",
              " 276: 'atterrir',\n",
              " 277: 'attirante',\n",
              " 278: 'attrap',\n",
              " 279: 'attrape',\n",
              " 280: 'attrapent',\n",
              " 281: 'attraper',\n",
              " 282: 'attraperai',\n",
              " 283: 'attrapez',\n",
              " 284: 'attrist',\n",
              " 285: 'au',\n",
              " 286: 'aucun',\n",
              " 287: 'aucune',\n",
              " 288: 'augment',\n",
              " 289: 'augmentation',\n",
              " 290: 'augmente',\n",
              " 291: 'augmentez',\n",
              " 292: 'aujourd',\n",
              " 293: 'auparavant',\n",
              " 294: 'aura',\n",
              " 295: 'aurai',\n",
              " 296: 'aussi',\n",
              " 297: 'auteur',\n",
              " 298: 'auto',\n",
              " 299: 'automne',\n",
              " 300: 'autour',\n",
              " 301: 'autre',\n",
              " 302: 'aux',\n",
              " 303: 'avais',\n",
              " 304: 'avait',\n",
              " 305: 'avance',\n",
              " 306: 'avancez',\n",
              " 307: 'avant',\n",
              " 308: 'avc',\n",
              " 309: 'avec',\n",
              " 310: 'avenir',\n",
              " 311: 'aversion',\n",
              " 312: 'avertis',\n",
              " 313: 'aveugle',\n",
              " 314: 'avez',\n",
              " 315: 'avide',\n",
              " 316: 'avides',\n",
              " 317: 'aviez',\n",
              " 318: 'avion',\n",
              " 319: 'avions',\n",
              " 320: 'avis',\n",
              " 321: 'avise',\n",
              " 322: 'avocat',\n",
              " 323: 'avocate',\n",
              " 324: 'avocats',\n",
              " 325: 'avoir',\n",
              " 326: 'avons',\n",
              " 327: 'avou',\n",
              " 328: 'ayez',\n",
              " 329: 'b',\n",
              " 330: 'bach',\n",
              " 331: 'bagages',\n",
              " 332: 'bagarre',\n",
              " 333: 'bagnole',\n",
              " 334: 'bague',\n",
              " 335: 'bagues',\n",
              " 336: 'bailla',\n",
              " 337: 'bain',\n",
              " 338: 'baiser',\n",
              " 339: 'baiss',\n",
              " 340: 'baissai',\n",
              " 341: 'baisse',\n",
              " 342: 'balle',\n",
              " 343: 'balles',\n",
              " 344: 'ballon',\n",
              " 345: 'banane',\n",
              " 346: 'bananes',\n",
              " 347: 'barbant',\n",
              " 348: 'barbe',\n",
              " 349: 'bargeots',\n",
              " 350: 'barqu',\n",
              " 351: 'barr',\n",
              " 352: 'barrass',\n",
              " 353: 'barrassai',\n",
              " 354: 'barrasse',\n",
              " 355: 'barrassez',\n",
              " 356: 'bas',\n",
              " 357: 'basse',\n",
              " 358: 'bateau',\n",
              " 359: 'bateaux',\n",
              " 360: 'bats',\n",
              " 361: 'battez',\n",
              " 362: 'battrai',\n",
              " 363: 'battre',\n",
              " 364: 'battu',\n",
              " 365: 'battues',\n",
              " 366: 'battus',\n",
              " 367: 'bayer',\n",
              " 368: 'beau',\n",
              " 369: 'beaucoup',\n",
              " 370: 'beaut',\n",
              " 371: 'beaux',\n",
              " 372: 'beignet',\n",
              " 373: 'belle',\n",
              " 374: 'bern',\n",
              " 375: 'berna',\n",
              " 376: 'besoin',\n",
              " 377: 'besoins',\n",
              " 378: 'bi',\n",
              " 379: 'biais',\n",
              " 380: 'bibi',\n",
              " 381: 'bicyclette',\n",
              " 382: 'bide',\n",
              " 383: 'bien',\n",
              " 384: 'bient',\n",
              " 385: 'bienvenu',\n",
              " 386: 'bienvenue',\n",
              " 387: 'bigot',\n",
              " 388: 'bile',\n",
              " 389: 'binoclard',\n",
              " 390: 'biscuit',\n",
              " 391: 'biscuits',\n",
              " 392: 'bisou',\n",
              " 393: 'bizarre',\n",
              " 394: 'bizarres',\n",
              " 395: 'bizuth',\n",
              " 396: 'blaguais',\n",
              " 397: 'blague',\n",
              " 398: 'blagues',\n",
              " 399: 'blanc',\n",
              " 400: 'bless',\n",
              " 401: 'blesse',\n",
              " 402: 'bleu',\n",
              " 403: 'blind',\n",
              " 404: 'bluffer',\n",
              " 405: 'bo',\n",
              " 406: 'boire',\n",
              " 407: 'bois',\n",
              " 408: 'boisson',\n",
              " 409: 'boissons',\n",
              " 410: 'boit',\n",
              " 411: 'bol',\n",
              " 412: 'bombe',\n",
              " 413: 'bon',\n",
              " 414: 'bonbons',\n",
              " 415: 'bonjour',\n",
              " 416: 'bonne',\n",
              " 417: 'bonnes',\n",
              " 418: 'bons',\n",
              " 419: 'bord',\n",
              " 420: 'bordel',\n",
              " 421: 'boston',\n",
              " 422: 'bouch',\n",
              " 423: 'bouche',\n",
              " 424: 'bouchon',\n",
              " 425: 'bouff',\n",
              " 426: 'boug',\n",
              " 427: 'bouge',\n",
              " 428: 'bougea',\n",
              " 429: 'bouger',\n",
              " 430: 'bougez',\n",
              " 431: 'bougon',\n",
              " 432: 'bougonne',\n",
              " 433: 'bouillir',\n",
              " 434: 'boulang',\n",
              " 435: 'boulanger',\n",
              " 436: 'boulet',\n",
              " 437: 'boulot',\n",
              " 438: 'boulots',\n",
              " 439: 'bourr',\n",
              " 440: 'bourse',\n",
              " 441: 'br',\n",
              " 442: 'bral',\n",
              " 443: 'bras',\n",
              " 444: 'brave',\n",
              " 445: 'bravo',\n",
              " 446: 'bre',\n",
              " 447: 'bref',\n",
              " 448: 'bres',\n",
              " 449: 'bretelles',\n",
              " 450: 'brillant',\n",
              " 451: 'brillante',\n",
              " 452: 'brillantes',\n",
              " 453: 'brillants',\n",
              " 454: 'bris',\n",
              " 455: 'britannique',\n",
              " 456: 'brons',\n",
              " 457: 'bronze',\n",
              " 458: 'brouillard',\n",
              " 459: 'brouiller',\n",
              " 460: 'brouillerai',\n",
              " 461: 'brouillerons',\n",
              " 462: 'bruit',\n",
              " 463: 'bruyant',\n",
              " 464: 'bruyante',\n",
              " 465: 'bu',\n",
              " 466: 'buch',\n",
              " 467: 'bureau',\n",
              " 468: 'burent',\n",
              " 469: 'bus',\n",
              " 470: 'but',\n",
              " 471: 'buvais',\n",
              " 472: 'buvez',\n",
              " 473: 'buvons',\n",
              " 474: 'c',\n",
              " 475: 'cache',\n",
              " 476: 'cacher',\n",
              " 477: 'cachons',\n",
              " 478: 'cadeau',\n",
              " 479: 'caf',\n",
              " 480: 'cal',\n",
              " 481: 'calcul',\n",
              " 482: 'calme',\n",
              " 483: 'calmes',\n",
              " 484: 'calmez',\n",
              " 485: 'camionnette',\n",
              " 486: 'camouflez',\n",
              " 487: 'camp',\n",
              " 488: 'canadien',\n",
              " 489: 'canadienne',\n",
              " 490: 'cancer',\n",
              " 491: 'canon',\n",
              " 492: 'canular',\n",
              " 493: 'capable',\n",
              " 494: 'capt',\n",
              " 495: 'capte',\n",
              " 496: 'captes',\n",
              " 497: 'captez',\n",
              " 498: 'carabine',\n",
              " 499: 'cardiaque',\n",
              " 500: 'cart',\n",
              " 501: 'carte',\n",
              " 502: 'cartez',\n",
              " 503: 'cas',\n",
              " 504: 'cass',\n",
              " 505: 'casse',\n",
              " 506: 'caus',\n",
              " 507: 'cause',\n",
              " 508: 'causer',\n",
              " 509: 'causes',\n",
              " 510: 'caviar',\n",
              " 511: 'cd',\n",
              " 512: 'ce',\n",
              " 513: 'ceci',\n",
              " 514: 'cela',\n",
              " 515: 'celle',\n",
              " 516: 'celles',\n",
              " 517: 'celui',\n",
              " 518: 'ception',\n",
              " 519: 'cercle',\n",
              " 520: 'cerf',\n",
              " 521: 'certain',\n",
              " 522: 'certaine',\n",
              " 523: 'certaines',\n",
              " 524: 'certains',\n",
              " 525: 'ces',\n",
              " 526: 'cess',\n",
              " 527: 'cesse',\n",
              " 528: 'cesser',\n",
              " 529: 'cessez',\n",
              " 530: 'cessions',\n",
              " 531: 'cet',\n",
              " 532: 'cette',\n",
              " 533: 'ceux',\n",
              " 534: 'ch',\n",
              " 535: 'cha',\n",
              " 536: 'chaise',\n",
              " 537: 'chambre',\n",
              " 538: 'chameaux',\n",
              " 539: 'chan',\n",
              " 540: 'chance',\n",
              " 541: 'chanceuse',\n",
              " 542: 'chanceuses',\n",
              " 543: 'chanceux',\n",
              " 544: 'chandelle',\n",
              " 545: 'chang',\n",
              " 546: 'change',\n",
              " 547: 'changement',\n",
              " 548: 'changeons',\n",
              " 549: 'changer',\n",
              " 550: 'changerai',\n",
              " 551: 'chanson',\n",
              " 552: 'chant',\n",
              " 553: 'chantaient',\n",
              " 554: 'chante',\n",
              " 555: 'chantent',\n",
              " 556: 'chanter',\n",
              " 557: 'chanterai',\n",
              " 558: 'chantes',\n",
              " 559: 'chantez',\n",
              " 560: 'chants',\n",
              " 561: 'chapeau',\n",
              " 562: 'chapp',\n",
              " 563: 'chappa',\n",
              " 564: 'chappe',\n",
              " 565: 'chapper',\n",
              " 566: 'chappons',\n",
              " 567: 'chaque',\n",
              " 568: 'char',\n",
              " 569: 'charg',\n",
              " 570: 'charger',\n",
              " 571: 'chargerai',\n",
              " 572: 'charlatan',\n",
              " 573: 'charmant',\n",
              " 574: 'charmante',\n",
              " 575: 'charme',\n",
              " 576: 'charrie',\n",
              " 577: 'charriez',\n",
              " 578: 'chat',\n",
              " 579: 'chatouilleuse',\n",
              " 580: 'chatouilleux',\n",
              " 581: 'chats',\n",
              " 582: 'chatte',\n",
              " 583: 'chaud',\n",
              " 584: 'chaude',\n",
              " 585: 'chauffe',\n",
              " 586: 'chauffer',\n",
              " 587: 'chauffeur',\n",
              " 588: 'chauffez',\n",
              " 589: 'chaussure',\n",
              " 590: 'chaussures',\n",
              " 591: 'chauve',\n",
              " 592: 'chauves',\n",
              " 593: 'chavir',\n",
              " 594: 'chavira',\n",
              " 595: 'che',\n",
              " 596: 'checs',\n",
              " 597: 'chef',\n",
              " 598: 'chemin',\n",
              " 599: 'cher',\n",
              " 600: 'cherai',\n",
              " 601: 'cherche',\n",
              " 602: 'chercher',\n",
              " 603: 'cherchez',\n",
              " 604: 'cherons',\n",
              " 605: 'cheval',\n",
              " 606: 'chevaux',\n",
              " 607: 'cheveux',\n",
              " 608: 'chez',\n",
              " 609: 'chic',\n",
              " 610: 'chien',\n",
              " 611: 'chienne',\n",
              " 612: 'chiens',\n",
              " 613: 'chine',\n",
              " 614: 'chinois',\n",
              " 615: 'chiot',\n",
              " 616: 'chiqu',\n",
              " 617: 'chir',\n",
              " 618: 'chis',\n",
              " 619: 'choc',\n",
              " 620: 'chocottes',\n",
              " 621: 'choisis',\n",
              " 622: 'choisissez',\n",
              " 623: 'choix',\n",
              " 624: 'chons',\n",
              " 625: 'choqu',\n",
              " 626: 'chose',\n",
              " 627: 'choses',\n",
              " 628: 'chou',\n",
              " 629: 'choue',\n",
              " 630: 'chouer',\n",
              " 631: 'chouerons',\n",
              " 632: 'chouette',\n",
              " 633: 'chouettes',\n",
              " 634: 'ci',\n",
              " 635: 'cia',\n",
              " 636: 'cial',\n",
              " 637: 'ciaux',\n",
              " 638: 'cid',\n",
              " 639: 'cide',\n",
              " 640: 'cider',\n",
              " 641: 'ciderai',\n",
              " 642: 'ciderons',\n",
              " 643: 'cidez',\n",
              " 644: 'cie',\n",
              " 645: 'cile',\n",
              " 646: 'cin',\n",
              " 647: 'cingl',\n",
              " 648: 'cinq',\n",
              " 649: 'cions',\n",
              " 650: 'cipit',\n",
              " 651: 'cipite',\n",
              " 652: 'cipitez',\n",
              " 653: 'cis',\n",
              " 654: 'cise',\n",
              " 655: 'cits',\n",
              " 656: 'cl',\n",
              " 657: 'clair',\n",
              " 658: 'claire',\n",
              " 659: 'clairement',\n",
              " 660: 'clairs',\n",
              " 661: 'claque',\n",
              " 662: 'classe',\n",
              " 663: 'classique',\n",
              " 664: 'clat',\n",
              " 665: 'clef',\n",
              " 666: 'clign',\n",
              " 667: 'cliner',\n",
              " 668: 'clips',\n",
              " 669: 'cloche',\n",
              " 670: 'clou',\n",
              " 671: 'co',\n",
              " 672: 'coca',\n",
              " 673: 'cochons',\n",
              " 674: 'cocufi',\n",
              " 675: 'coffre',\n",
              " 676: 'coin',\n",
              " 677: 'coinc',\n",
              " 678: 'col',\n",
              " 679: 'cole',\n",
              " 680: 'coll',\n",
              " 681: 'collant',\n",
              " 682: 'collation',\n",
              " 683: 'colle',\n",
              " 684: 'com',\n",
              " 685: 'combattrons',\n",
              " 686: 'combien',\n",
              " 687: 'comm',\n",
              " 688: 'commande',\n",
              " 689: 'comme',\n",
              " 690: 'commen',\n",
              " 691: 'commenc',\n",
              " 692: 'commence',\n",
              " 693: 'commencer',\n",
              " 694: 'commencerai',\n",
              " 695: 'commencerons',\n",
              " 696: 'commences',\n",
              " 697: 'commencez',\n",
              " 698: 'comment',\n",
              " 699: 'commentaire',\n",
              " 700: 'compagnon',\n",
              " 701: 'compatis',\n",
              " 702: 'compl',\n",
              " 703: 'complexe',\n",
              " 704: 'compliqu',\n",
              " 705: 'comporte',\n",
              " 706: 'comprends',\n",
              " 707: 'comprenons',\n",
              " 708: 'compris',\n",
              " 709: 'compte',\n",
              " 710: 'compter',\n",
              " 711: 'con',\n",
              " 712: 'conclu',\n",
              " 713: 'conclue',\n",
              " 714: 'condamn',\n",
              " 715: 'conditionnelle',\n",
              " 716: 'conduirai',\n",
              " 717: 'conduire',\n",
              " 718: 'conduirons',\n",
              " 719: 'conduis',\n",
              " 720: 'conduisez',\n",
              " 721: 'conduit',\n",
              " 722: 'confectionn',\n",
              " 723: 'confess',\n",
              " 724: 'confiance',\n",
              " 725: 'confiant',\n",
              " 726: 'confiante',\n",
              " 727: 'confiantes',\n",
              " 728: 'confiants',\n",
              " 729: 'confus',\n",
              " 730: 'cong',\n",
              " 731: 'conjure',\n",
              " 732: 'conna',\n",
              " 733: 'connais',\n",
              " 734: 'connaissais',\n",
              " 735: 'connaissance',\n",
              " 736: 'connaissent',\n",
              " 737: 'connaissez',\n",
              " 738: 'connaissons',\n",
              " 739: 'connait',\n",
              " 740: 'conneries',\n",
              " 741: 'connu',\n",
              " 742: 'connue',\n",
              " 743: 'connues',\n",
              " 744: 'connus',\n",
              " 745: 'consciencieuse',\n",
              " 746: 'consciencieux',\n",
              " 747: 'conseil',\n",
              " 748: 'conseils',\n",
              " 749: 'construit',\n",
              " 750: 'construite',\n",
              " 751: 'contact',\n",
              " 752: 'contagieuse',\n",
              " 753: 'contagieux',\n",
              " 754: 'conte',\n",
              " 755: 'content',\n",
              " 756: 'contente',\n",
              " 757: 'contentes',\n",
              " 758: 'contents',\n",
              " 759: 'continu',\n",
              " 760: 'continuait',\n",
              " 761: 'continue',\n",
              " 762: 'continuer',\n",
              " 763: 'continuerai',\n",
              " 764: 'continuerons',\n",
              " 765: 'continuez',\n",
              " 766: 'continuons',\n",
              " 767: 'contr',\n",
              " 768: 'contract',\n",
              " 769: 'contractai',\n",
              " 770: 'contrari',\n",
              " 771: 'contrat',\n",
              " 772: 'contravention',\n",
              " 773: 'contre',\n",
              " 774: 'contredanse',\n",
              " 775: 'contribu',\n",
              " 776: 'convaincu',\n",
              " 777: 'convenez',\n",
              " 778: 'conviens',\n",
              " 779: 'convient',\n",
              " 780: 'cookies',\n",
              " 781: 'cool',\n",
              " 782: 'coop',\n",
              " 783: 'copi',\n",
              " 784: 'copie',\n",
              " 785: 'copine',\n",
              " 786: 'cor',\n",
              " 787: 'corde',\n",
              " 788: 'corneilles',\n",
              " 789: 'corps',\n",
              " 790: 'correct',\n",
              " 791: 'correctement',\n",
              " 792: 'corrig',\n",
              " 793: 'corrigez',\n",
              " 794: 'cou',\n",
              " 795: 'couard',\n",
              " 796: 'coucher',\n",
              " 797: 'couchers',\n",
              " 798: 'couillon',\n",
              " 799: 'coul',\n",
              " 800: 'coule',\n",
              " 801: 'couler',\n",
              " 802: 'coulons',\n",
              " 803: 'coup',\n",
              " 804: 'coupable',\n",
              " 805: 'coupai',\n",
              " 806: 'coupe',\n",
              " 807: 'couper',\n",
              " 808: 'couple',\n",
              " 809: 'coups',\n",
              " 810: 'courage',\n",
              " 811: 'courageuses',\n",
              " 812: 'courageux',\n",
              " 813: 'courant',\n",
              " 814: 'coureur',\n",
              " 815: 'courez',\n",
              " 816: 'courir',\n",
              " 817: 'courrier',\n",
              " 818: 'cours',\n",
              " 819: 'courses',\n",
              " 820: 'court',\n",
              " 821: 'courte',\n",
              " 822: 'courtise',\n",
              " 823: 'couru',\n",
              " 824: 'courus',\n",
              " 825: 'cous',\n",
              " 826: 'cousines',\n",
              " 827: 'cousue',\n",
              " 828: 'cout',\n",
              " 829: 'couta',\n",
              " 830: 'coute',\n",
              " 831: 'couteau',\n",
              " 832: 'couter',\n",
              " 833: 'coutez',\n",
              " 834: 'coutons',\n",
              " 835: 'couvert',\n",
              " 836: 'couvrez',\n",
              " 837: 'cr',\n",
              " 838: 'crains',\n",
              " 839: 'craquai',\n",
              " 840: 'craques',\n",
              " 841: 'cras',\n",
              " 842: 'craser',\n",
              " 843: 'cravate',\n",
              " 844: 'creus',\n",
              " 845: 'creuse',\n",
              " 846: 'crev',\n",
              " 847: 'crevais',\n",
              " 848: 'cri',\n",
              " 849: 'cria',\n",
              " 850: 'crie',\n",
              " 851: 'crier',\n",
              " 852: 'crierai',\n",
              " 853: 'criminalit',\n",
              " 854: 'crire',\n",
              " 855: 'cris',\n",
              " 856: 'crit',\n",
              " 857: 'criteau',\n",
              " 858: 'crivain',\n",
              " 859: 'crivez',\n",
              " 860: 'crivis',\n",
              " 861: 'croch',\n",
              " 862: 'croche',\n",
              " 863: 'crocs',\n",
              " 864: 'crois',\n",
              " 865: 'croissent',\n",
              " 866: 'croque',\n",
              " 867: 'croquez',\n",
              " 868: 'cru',\n",
              " 869: 'crue',\n",
              " 870: 'cruel',\n",
              " 871: 'cruelle',\n",
              " 872: 'cruelles',\n",
              " 873: 'cruels',\n",
              " 874: 'crues',\n",
              " 875: 'crus',\n",
              " 876: 'cu',\n",
              " 877: 'cuill',\n",
              " 878: 'cuire',\n",
              " 879: 'cuis',\n",
              " 880: 'cuisez',\n",
              " 881: 'cuisine',\n",
              " 882: 'cuisiner',\n",
              " 883: 'cuisinerai',\n",
              " 884: 'cuisinez',\n",
              " 885: 'cuisinier',\n",
              " 886: 'cuit',\n",
              " 887: 'cuits',\n",
              " 888: 'cultiv',\n",
              " 889: 'cultive',\n",
              " 890: 'cupide',\n",
              " 891: 'curieuse',\n",
              " 892: 'curieux',\n",
              " 893: 'curis',\n",
              " 894: 'curit',\n",
              " 895: 'd',\n",
              " 896: 'da',\n",
              " 897: 'dab',\n",
              " 898: 'dalle',\n",
              " 899: 'danger',\n",
              " 900: 'dangereux',\n",
              " 901: 'dans',\n",
              " 902: 'danse',\n",
              " 903: 'danser',\n",
              " 904: 'danserons',\n",
              " 905: 'dansez',\n",
              " 906: 'dansons',\n",
              " 907: 'date',\n",
              " 908: 'daube',\n",
              " 909: 'davantage',\n",
              " 910: 'de',\n",
              " 911: 'debout',\n",
              " 912: 'decin',\n",
              " 913: 'decins',\n",
              " 914: 'dedans',\n",
              " 915: 'dehors',\n",
              " 916: 'demain',\n",
              " 917: 'demand',\n",
              " 918: 'demande',\n",
              " 919: 'demander',\n",
              " 920: 'demanderai',\n",
              " 921: 'demandes',\n",
              " 922: 'demandez',\n",
              " 923: 'demandons',\n",
              " 924: 'demeure',\n",
              " 925: 'demeurez',\n",
              " 926: 'demi',\n",
              " 927: 'demie',\n",
              " 928: 'dent',\n",
              " 929: 'dentaires',\n",
              " 930: 'der',\n",
              " 931: 'derni',\n",
              " 932: 'dernier',\n",
              " 933: 'derniers',\n",
              " 934: 'derri',\n",
              " 935: 'des',\n",
              " 936: 'descendez',\n",
              " 937: 'descendit',\n",
              " 938: 'descends',\n",
              " 939: 'dessin',\n",
              " 940: 'dessine',\n",
              " 941: 'dessins',\n",
              " 942: 'dessous',\n",
              " 943: 'dessus',\n",
              " 944: 'deux',\n",
              " 945: 'devais',\n",
              " 946: 'devant',\n",
              " 947: 'devenu',\n",
              " 948: 'devenue',\n",
              " 949: 'devez',\n",
              " 950: 'deviens',\n",
              " 951: 'devient',\n",
              " 952: 'devin',\n",
              " 953: 'devine',\n",
              " 954: 'devinez',\n",
              " 955: 'devins',\n",
              " 956: 'devint',\n",
              " 957: 'devoir',\n",
              " 958: 'devoirs',\n",
              " 959: 'devons',\n",
              " 960: 'devrais',\n",
              " 961: 'devrait',\n",
              " 962: 'devriez',\n",
              " 963: 'devrions',\n",
              " 964: 'dez',\n",
              " 965: 'di',\n",
              " 966: 'diab',\n",
              " 967: 'diable',\n",
              " 968: 'diatement',\n",
              " 969: 'dible',\n",
              " 970: 'diction',\n",
              " 971: 'die',\n",
              " 972: 'dien',\n",
              " 973: 'dieu',\n",
              " 974: 'diff',\n",
              " 975: 'difficile',\n",
              " 976: 'dimanche',\n",
              " 977: 'dingue',\n",
              " 978: 'dingues',\n",
              " 979: 'dira',\n",
              " 980: 'dirai',\n",
              " 981: 'dirais',\n",
              " 982: 'dirait',\n",
              " 983: 'dire',\n",
              " 984: 'direct',\n",
              " 985: 'directe',\n",
              " 986: 'dirent',\n",
              " 987: 'diriez',\n",
              " 988: 'dis',\n",
              " 989: 'discr',\n",
              " 990: 'discret',\n",
              " 991: 'discrets',\n",
              " 992: 'discut',\n",
              " 993: 'discuter',\n",
              " 994: 'discutions',\n",
              " 995: 'discutons',\n",
              " 996: 'disjonct',\n",
              " 997: 'disparais',\n",
              " 998: 'disparu',\n",
              " 999: 'disponible',\n",
              " ...}"
            ]
          },
          "metadata": {
            "tags": []
          },
          "execution_count": 204
        }
      ]
    },
    {
      "metadata": {
        "id": "E8BX8UmgPSvQ",
        "colab_type": "code",
        "colab": {}
      },
      "cell_type": "code",
      "source": [
        ""
      ],
      "execution_count": 0,
      "outputs": []
    },
    {
      "metadata": {
        "id": "YKeRAC1PPSs4",
        "colab_type": "code",
        "colab": {}
      },
      "cell_type": "code",
      "source": [
        ""
      ],
      "execution_count": 0,
      "outputs": []
    },
    {
      "metadata": {
        "id": "DeVYfzWgPSqu",
        "colab_type": "code",
        "colab": {}
      },
      "cell_type": "code",
      "source": [
        ""
      ],
      "execution_count": 0,
      "outputs": []
    },
    {
      "metadata": {
        "id": "2JBGLqAkANZk",
        "colab_type": "code",
        "colab": {}
      },
      "cell_type": "code",
      "source": [
        "from keras.preprocessing.sequence import pad_sequences\n",
        "y = pad_sequences(maxlen=200, sequences=mapped_targets, padding=\"post\", value=0)"
      ],
      "execution_count": 0,
      "outputs": []
    },
    {
      "metadata": {
        "id": "yUSkXvtoAc3J",
        "colab_type": "code",
        "colab": {}
      },
      "cell_type": "code",
      "source": [
        "from keras.utils import to_categorical\n",
        "y2 = [to_categorical(i, num_classes=19194) for i in y]"
      ],
      "execution_count": 0,
      "outputs": []
    },
    {
      "metadata": {
        "id": "aSgEOeNVAc6T",
        "colab_type": "code",
        "colab": {}
      },
      "cell_type": "code",
      "source": [
        ""
      ],
      "execution_count": 0,
      "outputs": []
    },
    {
      "metadata": {
        "id": "QZuqTrGfAc9N",
        "colab_type": "code",
        "colab": {}
      },
      "cell_type": "code",
      "source": [
        ""
      ],
      "execution_count": 0,
      "outputs": []
    },
    {
      "metadata": {
        "id": "nHm3C6TGPgnE",
        "colab_type": "code",
        "colab": {}
      },
      "cell_type": "code",
      "source": [
        "max_len_eng_sent = 5\n",
        "max_len_fra_sent = 13"
      ],
      "execution_count": 0,
      "outputs": []
    },
    {
      "metadata": {
        "id": "nonZzWBDP0uk",
        "colab_type": "code",
        "colab": {}
      },
      "cell_type": "code",
      "source": [
        "tokenized_eng_sentences = np.zeros(shape = (nb_samples,max_len_eng_sent,len(eng_chars)), dtype='float32')\n",
        "tokenized_fra_sentences = np.zeros(shape = (nb_samples,max_len_fra_sent,len(fra_chars)), dtype='float32')\n",
        "target_data = np.zeros((nb_samples, max_len_fra_sent, len(fra_chars)),dtype='float32')"
      ],
      "execution_count": 0,
      "outputs": []
    },
    {
      "metadata": {
        "id": "-x0VUjB1P2c2",
        "colab_type": "code",
        "colab": {}
      },
      "cell_type": "code",
      "source": [
        "for i in range(nb_samples):\n",
        "    for k,ch in enumerate(eng_sent[i].split()):\n",
        "        tokenized_eng_sentences[i,k,eng_char_to_index_dict[ch]] = 1\n",
        "        \n",
        "    for k,ch in enumerate(fra_sent[i].split()):\n",
        "        tokenized_fra_sentences[i,k,fra_char_to_index_dict[ch]] = 1\n",
        "\n",
        "        # decoder_target_data will be ahead by one timestep and will not include the start character.\n",
        "        if k > 0:\n",
        "            target_data[i,k-1,fra_char_to_index_dict[ch]] = 1"
      ],
      "execution_count": 0,
      "outputs": []
    },
    {
      "metadata": {
        "id": "8Bgt2yYV7QkO",
        "colab_type": "code",
        "colab": {}
      },
      "cell_type": "code",
      "source": [
        "from keras.models import Model, Input\n",
        "from keras.layers import LSTM, Embedding, Dense, TimeDistributed, Dropout, Bidirectional"
      ],
      "execution_count": 0,
      "outputs": []
    },
    {
      "metadata": {
        "id": "JPEg203UP6a-",
        "colab_type": "code",
        "outputId": "943c7d91-01d8-4008-840a-be3fffd3033b",
        "colab": {
          "base_uri": "https://localhost:8080/",
          "height": 221
        }
      },
      "cell_type": "code",
      "source": [
        "encoder_input = Input(shape=(None,len(eng_chars)))\n",
        "encoder_LSTM = Bidirectional(LSTM(256,return_state = True))\n",
        "encoder_outputs, encoder_h, encoder_c = encoder_LSTM (encoder_input)\n",
        "encoder_states = [encoder_h, encoder_c]"
      ],
      "execution_count": 0,
      "outputs": [
        {
          "output_type": "error",
          "ename": "ValueError",
          "evalue": "ignored",
          "traceback": [
            "\u001b[0;31m---------------------------------------------------------------------------\u001b[0m",
            "\u001b[0;31mValueError\u001b[0m                                Traceback (most recent call last)",
            "\u001b[0;32m<ipython-input-68-a869d86a20e9>\u001b[0m in \u001b[0;36m<module>\u001b[0;34m()\u001b[0m\n\u001b[1;32m      1\u001b[0m \u001b[0mencoder_input\u001b[0m \u001b[0;34m=\u001b[0m \u001b[0mInput\u001b[0m\u001b[0;34m(\u001b[0m\u001b[0mshape\u001b[0m\u001b[0;34m=\u001b[0m\u001b[0;34m(\u001b[0m\u001b[0;32mNone\u001b[0m\u001b[0;34m,\u001b[0m\u001b[0mlen\u001b[0m\u001b[0;34m(\u001b[0m\u001b[0meng_chars\u001b[0m\u001b[0;34m)\u001b[0m\u001b[0;34m)\u001b[0m\u001b[0;34m)\u001b[0m\u001b[0;34m\u001b[0m\u001b[0m\n\u001b[1;32m      2\u001b[0m \u001b[0mencoder_LSTM\u001b[0m \u001b[0;34m=\u001b[0m \u001b[0mBidirectional\u001b[0m\u001b[0;34m(\u001b[0m\u001b[0mLSTM\u001b[0m\u001b[0;34m(\u001b[0m\u001b[0;36m256\u001b[0m\u001b[0;34m,\u001b[0m\u001b[0mreturn_state\u001b[0m \u001b[0;34m=\u001b[0m \u001b[0;32mTrue\u001b[0m\u001b[0;34m)\u001b[0m\u001b[0;34m)\u001b[0m\u001b[0;34m\u001b[0m\u001b[0m\n\u001b[0;32m----> 3\u001b[0;31m \u001b[0mencoder_outputs\u001b[0m\u001b[0;34m,\u001b[0m \u001b[0mencoder_h\u001b[0m\u001b[0;34m,\u001b[0m \u001b[0mencoder_c\u001b[0m \u001b[0;34m=\u001b[0m \u001b[0mencoder_LSTM\u001b[0m \u001b[0;34m(\u001b[0m\u001b[0mencoder_input\u001b[0m\u001b[0;34m)\u001b[0m\u001b[0;34m\u001b[0m\u001b[0m\n\u001b[0m\u001b[1;32m      4\u001b[0m \u001b[0mencoder_states\u001b[0m \u001b[0;34m=\u001b[0m \u001b[0;34m[\u001b[0m\u001b[0mencoder_h\u001b[0m\u001b[0;34m,\u001b[0m \u001b[0mencoder_c\u001b[0m\u001b[0;34m]\u001b[0m\u001b[0;34m\u001b[0m\u001b[0m\n",
            "\u001b[0;31mValueError\u001b[0m: too many values to unpack (expected 3)"
          ]
        }
      ]
    },
    {
      "metadata": {
        "id": "Cpe6HlP3Qb4J",
        "colab_type": "code",
        "colab": {}
      },
      "cell_type": "code",
      "source": [
        "decoder_input = Input(shape=(None,len(fra_chars)))\n",
        "decoder_LSTM = LSTM(256,return_sequences=True, return_state = True)\n",
        "decoder_out, _ , _ = decoder_LSTM(decoder_input, initial_state=encoder_states)\n",
        "decoder_dense = Dense(len(fra_chars),activation='softmax')\n",
        "decoder_out = decoder_dense (decoder_out)"
      ],
      "execution_count": 0,
      "outputs": []
    },
    {
      "metadata": {
        "id": "3OgwAIDgQdUK",
        "colab_type": "code",
        "outputId": "745ea832-0df5-4bfc-a3ca-2c5bc6f4fc2e",
        "colab": {
          "base_uri": "https://localhost:8080/",
          "height": 354
        }
      },
      "cell_type": "code",
      "source": [
        "model = Model(inputs=[encoder_input, decoder_input],outputs=[decoder_out])\n",
        "model.summary()"
      ],
      "execution_count": 0,
      "outputs": [
        {
          "output_type": "stream",
          "text": [
            "__________________________________________________________________________________________________\n",
            "Layer (type)                    Output Shape         Param #     Connected to                     \n",
            "==================================================================================================\n",
            "input_1 (InputLayer)            (None, None, 2113)   0                                            \n",
            "__________________________________________________________________________________________________\n",
            "input_2 (InputLayer)            (None, None, 3576)   0                                            \n",
            "__________________________________________________________________________________________________\n",
            "lstm_1 (LSTM)                   [(None, 256), (None, 2426880     input_1[0][0]                    \n",
            "__________________________________________________________________________________________________\n",
            "lstm_2 (LSTM)                   [(None, None, 256),  3924992     input_2[0][0]                    \n",
            "                                                                 lstm_1[0][1]                     \n",
            "                                                                 lstm_1[0][2]                     \n",
            "__________________________________________________________________________________________________\n",
            "dense_1 (Dense)                 (None, None, 3576)   919032      lstm_2[0][0]                     \n",
            "==================================================================================================\n",
            "Total params: 7,270,904\n",
            "Trainable params: 7,270,904\n",
            "Non-trainable params: 0\n",
            "__________________________________________________________________________________________________\n"
          ],
          "name": "stdout"
        }
      ]
    },
    {
      "metadata": {
        "id": "dS45DND9Qeyl",
        "colab_type": "code",
        "outputId": "91fc5149-1ce6-4bb2-d8a0-d41d23ab0f25",
        "colab": {
          "base_uri": "https://localhost:8080/",
          "height": 230
        }
      },
      "cell_type": "code",
      "source": [
        "#model.compile(optimizer='rmsprop', loss='categorical_crossentropy')\n",
        "model.fit(x=[tokenized_eng_sentences,tokenized_fra_sentences], \n",
        "          y=target_data,\n",
        "          batch_size=64,\n",
        "          epochs=5,\n",
        "          validation_split=0.2)"
      ],
      "execution_count": 0,
      "outputs": [
        {
          "output_type": "stream",
          "text": [
            "Train on 8000 samples, validate on 2000 samples\n",
            "Epoch 1/5\n",
            "8000/8000 [==============================] - 163s 20ms/step - loss: 0.7915 - val_loss: 1.3313\n",
            "Epoch 2/5\n",
            "8000/8000 [==============================] - 163s 20ms/step - loss: 0.7552 - val_loss: 1.3184\n",
            "Epoch 3/5\n",
            "8000/8000 [==============================] - 163s 20ms/step - loss: 0.7201 - val_loss: 1.2989\n",
            "Epoch 4/5\n",
            "8000/8000 [==============================] - 164s 21ms/step - loss: 0.6859 - val_loss: 1.2958\n",
            "Epoch 5/5\n",
            "8000/8000 [==============================] - 164s 20ms/step - loss: 0.6528 - val_loss: 1.2775\n"
          ],
          "name": "stdout"
        },
        {
          "output_type": "execute_result",
          "data": {
            "text/plain": [
              "<keras.callbacks.History at 0x7ff3175a1240>"
            ]
          },
          "metadata": {
            "tags": []
          },
          "execution_count": 72
        }
      ]
    },
    {
      "metadata": {
        "id": "xTCVMHDfQhEc",
        "colab_type": "code",
        "colab": {}
      },
      "cell_type": "code",
      "source": [
        "# Inference models for testing\n",
        "\n",
        "# Encoder inference model\n",
        "encoder_model_inf = Model(encoder_input, encoder_states)\n",
        "\n",
        "# Decoder inference model\n",
        "decoder_state_input_h = Input(shape=(256,))\n",
        "decoder_state_input_c = Input(shape=(256,))\n",
        "decoder_input_states = [decoder_state_input_h, decoder_state_input_c]\n",
        "\n",
        "decoder_out, decoder_h, decoder_c = decoder_LSTM(decoder_input, \n",
        "                                                 initial_state=decoder_input_states)\n",
        "\n",
        "decoder_states = [decoder_h , decoder_c]\n",
        "\n",
        "decoder_out = decoder_dense(decoder_out)\n",
        "\n",
        "decoder_model_inf = Model(inputs=[decoder_input] + decoder_input_states,\n",
        "                          outputs=[decoder_out] + decoder_states )"
      ],
      "execution_count": 0,
      "outputs": []
    },
    {
      "metadata": {
        "id": "jlQWPXSpQmWT",
        "colab_type": "code",
        "colab": {}
      },
      "cell_type": "code",
      "source": [
        "def decode_seq(inp_seq):\n",
        "    \n",
        "    # Initial states value is coming from the encoder \n",
        "    states_val = encoder_model_inf.predict(inp_seq)\n",
        "    \n",
        "    target_seq = np.zeros((1, 1, len(fra_chars)))\n",
        "    target_seq[0, 0, fra_char_to_index_dict['-']] = 1\n",
        "    \n",
        "    translated_sent = ''\n",
        "    stop_condition = False\n",
        "    \n",
        "    while not stop_condition:\n",
        "        \n",
        "        decoder_out, decoder_h, decoder_c = decoder_model_inf.predict(x=[target_seq] + states_val)\n",
        "        \n",
        "        max_val_index = np.argmax(decoder_out[0,-1,:])\n",
        "        sampled_fra_char = fra_index_to_char_dict[max_val_index]\n",
        "        sampled_fra_char = ' ' + sampled_fra_char\n",
        "        translated_sent += sampled_fra_char\n",
        "        \n",
        "        if ( (sampled_fra_char == '_') or (len(translated_sent) > max_len_fra_sent)) :\n",
        "            stop_condition = True\n",
        "        \n",
        "        target_seq = np.zeros((1, 1, len(fra_chars)))\n",
        "        target_seq[0, 0, max_val_index] = 1\n",
        "        \n",
        "        states_val = [decoder_h, decoder_c]\n",
        "        \n",
        "    return translated_sent"
      ],
      "execution_count": 0,
      "outputs": []
    },
    {
      "metadata": {
        "id": "d3B_MTZTVnnM",
        "colab_type": "code",
        "outputId": "65c1024c-3b9a-4823-fd6c-bc7903686add",
        "colab": {
          "base_uri": "https://localhost:8080/",
          "height": 34
        }
      },
      "cell_type": "code",
      "source": [
        "tokenized_eng_sentences[0].shape"
      ],
      "execution_count": 0,
      "outputs": [
        {
          "output_type": "execute_result",
          "data": {
            "text/plain": [
              "(5, 2113)"
            ]
          },
          "metadata": {
            "tags": []
          },
          "execution_count": 75
        }
      ]
    },
    {
      "metadata": {
        "id": "XkUQVngXV6ej",
        "colab_type": "code",
        "outputId": "73a24bd9-9300-48a0-b795-1417df45a4b9",
        "colab": {
          "base_uri": "https://localhost:8080/",
          "height": 34
        }
      },
      "cell_type": "code",
      "source": [
        "eng_sent[0]"
      ],
      "execution_count": 0,
      "outputs": [
        {
          "output_type": "execute_result",
          "data": {
            "text/plain": [
              "'go'"
            ]
          },
          "metadata": {
            "tags": []
          },
          "execution_count": 76
        }
      ]
    },
    {
      "metadata": {
        "id": "S1uOGtBkV0Ty",
        "colab_type": "code",
        "outputId": "5f10b6a1-9afb-452f-88c4-093425dbf823",
        "colab": {
          "base_uri": "https://localhost:8080/",
          "height": 70
        }
      },
      "cell_type": "code",
      "source": [
        "inp_seq = tokenized_eng_sentences[1]\n",
        "translated_sent = decode_seq(inp_seq.reshape(1,5,2113))\n",
        "print('-')\n",
        "print('Input sentence:', eng_sent[seq_index])\n",
        "print('Decoded sentence:', translated_sent)"
      ],
      "execution_count": 0,
      "outputs": [
        {
          "output_type": "stream",
          "text": [
            "-\n",
            "Input sentence: stop\n",
            "Decoded sentence:  d p toi _ _ _ _\n"
          ],
          "name": "stdout"
        }
      ]
    },
    {
      "metadata": {
        "id": "rmc_yz7qUEeI",
        "colab_type": "code",
        "outputId": "503eb72c-0c2f-4fb9-f6a7-6961fd0f842e",
        "colab": {
          "base_uri": "https://localhost:8080/",
          "height": 550
        }
      },
      "cell_type": "code",
      "source": [
        "for seq_index in range(10):\n",
        "    inp_seq = tokenized_eng_sentences[seq_index]\n",
        "    translated_sent = decode_seq(inp_seq.reshape(1,5,2113))\n",
        "    print('-')\n",
        "    print('Input sentence:', eng_sent[seq_index])\n",
        "    print('Decoded sentence:', translated_sent)"
      ],
      "execution_count": 0,
      "outputs": [
        {
          "output_type": "stream",
          "text": [
            "-\n",
            "Input sentence: go\n",
            "Decoded sentence:  allez y aller _\n",
            "-\n",
            "Input sentence: run\n",
            "Decoded sentence:  d p toi _ _ _ _\n",
            "-\n",
            "Input sentence: run\n",
            "Decoded sentence:  d p toi _ _ _ _\n",
            "-\n",
            "Input sentence: wow\n",
            "Decoded sentence:  a va t il _ _ _\n",
            "-\n",
            "Input sentence: fire\n",
            "Decoded sentence:  s il est il _ _\n",
            "-\n",
            "Input sentence: help\n",
            "Decoded sentence:  r toi s _ _ _ _\n",
            "-\n",
            "Input sentence: jump\n",
            "Decoded sentence:  merci _ _ _ _ _\n",
            "-\n",
            "Input sentence: stop\n",
            "Decoded sentence:  arr te de hurler\n",
            "-\n",
            "Input sentence: stop\n",
            "Decoded sentence:  arr te de hurler\n",
            "-\n",
            "Input sentence: stop\n",
            "Decoded sentence:  arr te de hurler\n"
          ],
          "name": "stdout"
        }
      ]
    },
    {
      "metadata": {
        "id": "mxLxT30ZUHfO",
        "colab_type": "code",
        "outputId": "b9701e28-da56-445a-f077-d79afca0abf8",
        "colab": {
          "base_uri": "https://localhost:8080/",
          "height": 197
        }
      },
      "cell_type": "code",
      "source": [
        "lines.head()"
      ],
      "execution_count": 0,
      "outputs": [
        {
          "output_type": "execute_result",
          "data": {
            "text/html": [
              "<div>\n",
              "<style scoped>\n",
              "    .dataframe tbody tr th:only-of-type {\n",
              "        vertical-align: middle;\n",
              "    }\n",
              "\n",
              "    .dataframe tbody tr th {\n",
              "        vertical-align: top;\n",
              "    }\n",
              "\n",
              "    .dataframe thead th {\n",
              "        text-align: right;\n",
              "    }\n",
              "</style>\n",
              "<table border=\"1\" class=\"dataframe\">\n",
              "  <thead>\n",
              "    <tr style=\"text-align: right;\">\n",
              "      <th></th>\n",
              "      <th>eng</th>\n",
              "      <th>fr</th>\n",
              "    </tr>\n",
              "  </thead>\n",
              "  <tbody>\n",
              "    <tr>\n",
              "      <th>0</th>\n",
              "      <td>go</td>\n",
              "      <td>- va _</td>\n",
              "    </tr>\n",
              "    <tr>\n",
              "      <th>1</th>\n",
              "      <td>run</td>\n",
              "      <td>- cours _</td>\n",
              "    </tr>\n",
              "    <tr>\n",
              "      <th>2</th>\n",
              "      <td>run</td>\n",
              "      <td>- courez _</td>\n",
              "    </tr>\n",
              "    <tr>\n",
              "      <th>3</th>\n",
              "      <td>wow</td>\n",
              "      <td>- a alors _</td>\n",
              "    </tr>\n",
              "    <tr>\n",
              "      <th>4</th>\n",
              "      <td>fire</td>\n",
              "      <td>- au feu _</td>\n",
              "    </tr>\n",
              "  </tbody>\n",
              "</table>\n",
              "</div>"
            ],
            "text/plain": [
              "    eng           fr\n",
              "0    go       - va _\n",
              "1   run    - cours _\n",
              "2   run   - courez _\n",
              "3   wow  - a alors _\n",
              "4  fire   - au feu _"
            ]
          },
          "metadata": {
            "tags": []
          },
          "execution_count": 39
        }
      ]
    },
    {
      "metadata": {
        "id": "jOPdmPy6Wssw",
        "colab_type": "code",
        "outputId": "da02839d-9941-4d3a-e9cb-f845e509d984",
        "colab": {
          "base_uri": "https://localhost:8080/",
          "height": 1906
        }
      },
      "cell_type": "code",
      "source": [
        "lines[lines['fr'].str.contains(' toi')]"
      ],
      "execution_count": 0,
      "outputs": [
        {
          "output_type": "execute_result",
          "data": {
            "text/html": [
              "<div>\n",
              "<style scoped>\n",
              "    .dataframe tbody tr th:only-of-type {\n",
              "        vertical-align: middle;\n",
              "    }\n",
              "\n",
              "    .dataframe tbody tr th {\n",
              "        vertical-align: top;\n",
              "    }\n",
              "\n",
              "    .dataframe thead th {\n",
              "        text-align: right;\n",
              "    }\n",
              "</style>\n",
              "<table border=\"1\" class=\"dataframe\">\n",
              "  <thead>\n",
              "    <tr style=\"text-align: right;\">\n",
              "      <th></th>\n",
              "      <th>eng</th>\n",
              "      <th>fr</th>\n",
              "    </tr>\n",
              "  </thead>\n",
              "  <tbody>\n",
              "    <tr>\n",
              "      <th>9</th>\n",
              "      <td>stop</td>\n",
              "      <td>- arr te toi _</td>\n",
              "    </tr>\n",
              "    <tr>\n",
              "      <th>26</th>\n",
              "      <td>get up</td>\n",
              "      <td>- l ve toi _</td>\n",
              "    </tr>\n",
              "    <tr>\n",
              "      <th>107</th>\n",
              "      <td>get out</td>\n",
              "      <td>- casse toi _</td>\n",
              "    </tr>\n",
              "    <tr>\n",
              "      <th>168</th>\n",
              "      <td>shut up</td>\n",
              "      <td>- tais toi _</td>\n",
              "    </tr>\n",
              "    <tr>\n",
              "      <th>177</th>\n",
              "      <td>wake up</td>\n",
              "      <td>- r veille toi _</td>\n",
              "    </tr>\n",
              "    <tr>\n",
              "      <th>178</th>\n",
              "      <td>wake up</td>\n",
              "      <td>- r veille toi _</td>\n",
              "    </tr>\n",
              "    <tr>\n",
              "      <th>180</th>\n",
              "      <td>wake up</td>\n",
              "      <td>- r veille toi _</td>\n",
              "    </tr>\n",
              "    <tr>\n",
              "      <th>182</th>\n",
              "      <td>wash up</td>\n",
              "      <td>- lave toi _</td>\n",
              "    </tr>\n",
              "    <tr>\n",
              "      <th>206</th>\n",
              "      <td>back off</td>\n",
              "      <td>- retire toi _</td>\n",
              "    </tr>\n",
              "    <tr>\n",
              "      <th>218</th>\n",
              "      <td>cool off</td>\n",
              "      <td>- d tends toi _</td>\n",
              "    </tr>\n",
              "    <tr>\n",
              "      <th>226</th>\n",
              "      <td>get down</td>\n",
              "      <td>- l che toi _</td>\n",
              "    </tr>\n",
              "    <tr>\n",
              "      <th>229</th>\n",
              "      <td>get down</td>\n",
              "      <td>- l che toi _</td>\n",
              "    </tr>\n",
              "    <tr>\n",
              "      <th>244</th>\n",
              "      <td>have fun</td>\n",
              "      <td>- amuse toi bien _</td>\n",
              "    </tr>\n",
              "    <tr>\n",
              "      <th>258</th>\n",
              "      <td>hurry up</td>\n",
              "      <td>- d p che toi _</td>\n",
              "    </tr>\n",
              "    <tr>\n",
              "      <th>365</th>\n",
              "      <td>sit down</td>\n",
              "      <td>- assieds toi _</td>\n",
              "    </tr>\n",
              "    <tr>\n",
              "      <th>367</th>\n",
              "      <td>sit here</td>\n",
              "      <td>- assieds toi ici _</td>\n",
              "    </tr>\n",
              "    <tr>\n",
              "      <th>427</th>\n",
              "      <td>be seated</td>\n",
              "      <td>- assieds toi _</td>\n",
              "    </tr>\n",
              "    <tr>\n",
              "      <th>433</th>\n",
              "      <td>calm down</td>\n",
              "      <td>- calme toi _</td>\n",
              "    </tr>\n",
              "    <tr>\n",
              "      <th>486</th>\n",
              "      <td>get ready</td>\n",
              "      <td>- pr pare toi _</td>\n",
              "    </tr>\n",
              "    <tr>\n",
              "      <th>497</th>\n",
              "      <td>grab that</td>\n",
              "      <td>- saisis toi de a _</td>\n",
              "    </tr>\n",
              "    <tr>\n",
              "      <th>678</th>\n",
              "      <td>i m yours</td>\n",
              "      <td>- je suis toi _</td>\n",
              "    </tr>\n",
              "    <tr>\n",
              "      <th>687</th>\n",
              "      <td>is it you</td>\n",
              "      <td>- est ce toi _</td>\n",
              "    </tr>\n",
              "    <tr>\n",
              "      <th>752</th>\n",
              "      <td>look back</td>\n",
              "      <td>- regarde derri re toi _</td>\n",
              "    </tr>\n",
              "    <tr>\n",
              "      <th>756</th>\n",
              "      <td>loosen up</td>\n",
              "      <td>- chauffe toi _</td>\n",
              "    </tr>\n",
              "    <tr>\n",
              "      <th>758</th>\n",
              "      <td>loosen up</td>\n",
              "      <td>- d tends toi _</td>\n",
              "    </tr>\n",
              "    <tr>\n",
              "      <th>759</th>\n",
              "      <td>loosen up</td>\n",
              "      <td>- laisse toi aller _</td>\n",
              "    </tr>\n",
              "    <tr>\n",
              "      <th>763</th>\n",
              "      <td>move over</td>\n",
              "      <td>- pousse toi _</td>\n",
              "    </tr>\n",
              "    <tr>\n",
              "      <th>814</th>\n",
              "      <td>take care</td>\n",
              "      <td>- prends soin de toi _</td>\n",
              "    </tr>\n",
              "    <tr>\n",
              "      <th>816</th>\n",
              "      <td>take care</td>\n",
              "      <td>- prends soin de toi _</td>\n",
              "    </tr>\n",
              "    <tr>\n",
              "      <th>911</th>\n",
              "      <td>you drive</td>\n",
              "      <td>- toi conduis _</td>\n",
              "    </tr>\n",
              "    <tr>\n",
              "      <th>...</th>\n",
              "      <td>...</td>\n",
              "      <td>...</td>\n",
              "    </tr>\n",
              "    <tr>\n",
              "      <th>147494</th>\n",
              "      <td>i told you before that i m not interested in h...</td>\n",
              "      <td>- je t ai dit auparavant que je ne suis pas in...</td>\n",
              "    </tr>\n",
              "    <tr>\n",
              "      <th>147632</th>\n",
              "      <td>we ll all be hungry so be sure to bring enough...</td>\n",
              "      <td>- nous aurons tous faim alors assure toi d app...</td>\n",
              "    </tr>\n",
              "    <tr>\n",
              "      <th>147634</th>\n",
              "      <td>we re counting on you to wake us up in time so...</td>\n",
              "      <td>- on compte sur toi pour nous r veiller l heur...</td>\n",
              "    </tr>\n",
              "    <tr>\n",
              "      <th>147647</th>\n",
              "      <td>whenever you re in trouble or feeling down i l...</td>\n",
              "      <td>- qu importe le moment o tu te trouves en diff...</td>\n",
              "    </tr>\n",
              "    <tr>\n",
              "      <th>147735</th>\n",
              "      <td>i think that you and i should probably be able...</td>\n",
              "      <td>- je pense que toi et moi devrions probablemen...</td>\n",
              "    </tr>\n",
              "    <tr>\n",
              "      <th>147806</th>\n",
              "      <td>she looks young but as a matter of fact she is...</td>\n",
              "      <td>- elle semble jeune mais en fait elle est plus...</td>\n",
              "    </tr>\n",
              "    <tr>\n",
              "      <th>147879</th>\n",
              "      <td>you speak french very well i wish i could spea...</td>\n",
              "      <td>- tu parles tr s bien fran ais je souhaiterais...</td>\n",
              "    </tr>\n",
              "    <tr>\n",
              "      <th>147885</th>\n",
              "      <td>a poor school record will count against you wh...</td>\n",
              "      <td>- un mauvais parcours scolaire jouera contre t...</td>\n",
              "    </tr>\n",
              "    <tr>\n",
              "      <th>147935</th>\n",
              "      <td>i thought it would be an opportunity for you t...</td>\n",
              "      <td>- j ai pens que ce serait une occasion pour to...</td>\n",
              "    </tr>\n",
              "    <tr>\n",
              "      <th>147955</th>\n",
              "      <td>if there s anything i can do for you don t hes...</td>\n",
              "      <td>- si je peux faire quelque chose pour toi n h ...</td>\n",
              "    </tr>\n",
              "    <tr>\n",
              "      <th>148021</th>\n",
              "      <td>who s the gorgeous girl i saw wandering around...</td>\n",
              "      <td>- qui est la magnifique nana que j ai vue d am...</td>\n",
              "    </tr>\n",
              "    <tr>\n",
              "      <th>148290</th>\n",
              "      <td>didn t you tell me yesterday that you and your...</td>\n",
              "      <td>- ne m as tu pas dit hier que toi et ton petit...</td>\n",
              "    </tr>\n",
              "    <tr>\n",
              "      <th>148454</th>\n",
              "      <td>i don t plan to get divorced from you unless y...</td>\n",
              "      <td>- je n ai pas l intention de divorcer d avec t...</td>\n",
              "    </tr>\n",
              "    <tr>\n",
              "      <th>148466</th>\n",
              "      <td>i ll keep my fingers crossed that everything w...</td>\n",
              "      <td>- je croise les doigts pour que tout aille bie...</td>\n",
              "    </tr>\n",
              "    <tr>\n",
              "      <th>148983</th>\n",
              "      <td>what happened to that friend of yours that you...</td>\n",
              "      <td>- qu est il arriv cet ami toi auquel tu m as p...</td>\n",
              "    </tr>\n",
              "    <tr>\n",
              "      <th>149007</th>\n",
              "      <td>i m sorry that i haven t been able to be here ...</td>\n",
              "      <td>- je suis d sol d avoir t dans l incapacit d t...</td>\n",
              "    </tr>\n",
              "    <tr>\n",
              "      <th>149008</th>\n",
              "      <td>i m sorry that i haven t been able to be here ...</td>\n",
              "      <td>- je suis d sol e d avoir t dans l incapacit d...</td>\n",
              "    </tr>\n",
              "    <tr>\n",
              "      <th>149172</th>\n",
              "      <td>do you think your parents spent enough time wi...</td>\n",
              "      <td>- penses tu que tes parents ont pass suffisamm...</td>\n",
              "    </tr>\n",
              "    <tr>\n",
              "      <th>149173</th>\n",
              "      <td>do you think your parents spent enough time wi...</td>\n",
              "      <td>- penses tu que tes parents ont pass suffisamm...</td>\n",
              "    </tr>\n",
              "    <tr>\n",
              "      <th>149266</th>\n",
              "      <td>i wanted to discuss this with you yesterday bu...</td>\n",
              "      <td>- je voulais en discuter avec toi hier mais tu...</td>\n",
              "    </tr>\n",
              "    <tr>\n",
              "      <th>149267</th>\n",
              "      <td>i wanted to discuss this with you yesterday bu...</td>\n",
              "      <td>- je voulais en discuter avec toi hier mais tu...</td>\n",
              "    </tr>\n",
              "    <tr>\n",
              "      <th>149273</th>\n",
              "      <td>i wanted to discuss this with you yesterday bu...</td>\n",
              "      <td>- je voulais en discuter avec toi hier mais tu...</td>\n",
              "    </tr>\n",
              "    <tr>\n",
              "      <th>149339</th>\n",
              "      <td>whether you believe it or not i want to get th...</td>\n",
              "      <td>- que tu le croies ou non je veux en finir aut...</td>\n",
              "    </tr>\n",
              "    <tr>\n",
              "      <th>149347</th>\n",
              "      <td>all things considered i think you should go ba...</td>\n",
              "      <td>- tout bien consid r je pense que tu devrais r...</td>\n",
              "    </tr>\n",
              "    <tr>\n",
              "      <th>149527</th>\n",
              "      <td>good friends are like stars you don t always s...</td>\n",
              "      <td>- les bons amis sont comme les toiles on ne le...</td>\n",
              "    </tr>\n",
              "    <tr>\n",
              "      <th>149592</th>\n",
              "      <td>it looks like the question was too easy for yo...</td>\n",
              "      <td>- il semble que la question tait trop facile p...</td>\n",
              "    </tr>\n",
              "    <tr>\n",
              "      <th>149623</th>\n",
              "      <td>going to church doesn t make you a christian a...</td>\n",
              "      <td>- aller l glise ne fait pas davantage de toi u...</td>\n",
              "    </tr>\n",
              "    <tr>\n",
              "      <th>149628</th>\n",
              "      <td>mozart wrote brilliant complex musical composi...</td>\n",
              "      <td>- mozart a crit de brillantes et complexes com...</td>\n",
              "    </tr>\n",
              "    <tr>\n",
              "      <th>149754</th>\n",
              "      <td>i know it s kind of late but would you mind if...</td>\n",
              "      <td>- je sais qu il est assez tard mais cela te d ...</td>\n",
              "    </tr>\n",
              "    <tr>\n",
              "      <th>149851</th>\n",
              "      <td>no matter how much you try to convince people ...</td>\n",
              "      <td>- peu importe le temps que tu passeras essayer...</td>\n",
              "    </tr>\n",
              "  </tbody>\n",
              "</table>\n",
              "<p>2125 rows × 2 columns</p>\n",
              "</div>"
            ],
            "text/plain": [
              "                                                      eng  \\\n",
              "9                                                    stop   \n",
              "26                                                 get up   \n",
              "107                                               get out   \n",
              "168                                               shut up   \n",
              "177                                               wake up   \n",
              "178                                               wake up   \n",
              "180                                               wake up   \n",
              "182                                               wash up   \n",
              "206                                              back off   \n",
              "218                                              cool off   \n",
              "226                                              get down   \n",
              "229                                              get down   \n",
              "244                                              have fun   \n",
              "258                                              hurry up   \n",
              "365                                              sit down   \n",
              "367                                              sit here   \n",
              "427                                             be seated   \n",
              "433                                             calm down   \n",
              "486                                             get ready   \n",
              "497                                             grab that   \n",
              "678                                             i m yours   \n",
              "687                                             is it you   \n",
              "752                                             look back   \n",
              "756                                             loosen up   \n",
              "758                                             loosen up   \n",
              "759                                             loosen up   \n",
              "763                                             move over   \n",
              "814                                             take care   \n",
              "816                                             take care   \n",
              "911                                             you drive   \n",
              "...                                                   ...   \n",
              "147494  i told you before that i m not interested in h...   \n",
              "147632  we ll all be hungry so be sure to bring enough...   \n",
              "147634  we re counting on you to wake us up in time so...   \n",
              "147647  whenever you re in trouble or feeling down i l...   \n",
              "147735  i think that you and i should probably be able...   \n",
              "147806  she looks young but as a matter of fact she is...   \n",
              "147879  you speak french very well i wish i could spea...   \n",
              "147885  a poor school record will count against you wh...   \n",
              "147935  i thought it would be an opportunity for you t...   \n",
              "147955  if there s anything i can do for you don t hes...   \n",
              "148021  who s the gorgeous girl i saw wandering around...   \n",
              "148290  didn t you tell me yesterday that you and your...   \n",
              "148454  i don t plan to get divorced from you unless y...   \n",
              "148466  i ll keep my fingers crossed that everything w...   \n",
              "148983  what happened to that friend of yours that you...   \n",
              "149007  i m sorry that i haven t been able to be here ...   \n",
              "149008  i m sorry that i haven t been able to be here ...   \n",
              "149172  do you think your parents spent enough time wi...   \n",
              "149173  do you think your parents spent enough time wi...   \n",
              "149266  i wanted to discuss this with you yesterday bu...   \n",
              "149267  i wanted to discuss this with you yesterday bu...   \n",
              "149273  i wanted to discuss this with you yesterday bu...   \n",
              "149339  whether you believe it or not i want to get th...   \n",
              "149347  all things considered i think you should go ba...   \n",
              "149527  good friends are like stars you don t always s...   \n",
              "149592  it looks like the question was too easy for yo...   \n",
              "149623  going to church doesn t make you a christian a...   \n",
              "149628  mozart wrote brilliant complex musical composi...   \n",
              "149754  i know it s kind of late but would you mind if...   \n",
              "149851  no matter how much you try to convince people ...   \n",
              "\n",
              "                                                       fr  \n",
              "9                                          - arr te toi _  \n",
              "26                                           - l ve toi _  \n",
              "107                                         - casse toi _  \n",
              "168                                          - tais toi _  \n",
              "177                                      - r veille toi _  \n",
              "178                                      - r veille toi _  \n",
              "180                                      - r veille toi _  \n",
              "182                                          - lave toi _  \n",
              "206                                        - retire toi _  \n",
              "218                                       - d tends toi _  \n",
              "226                                         - l che toi _  \n",
              "229                                         - l che toi _  \n",
              "244                                    - amuse toi bien _  \n",
              "258                                       - d p che toi _  \n",
              "365                                       - assieds toi _  \n",
              "367                                   - assieds toi ici _  \n",
              "427                                       - assieds toi _  \n",
              "433                                         - calme toi _  \n",
              "486                                       - pr pare toi _  \n",
              "497                                   - saisis toi de a _  \n",
              "678                                       - je suis toi _  \n",
              "687                                        - est ce toi _  \n",
              "752                              - regarde derri re toi _  \n",
              "756                                       - chauffe toi _  \n",
              "758                                       - d tends toi _  \n",
              "759                                  - laisse toi aller _  \n",
              "763                                        - pousse toi _  \n",
              "814                                - prends soin de toi _  \n",
              "816                                - prends soin de toi _  \n",
              "911                                       - toi conduis _  \n",
              "...                                                   ...  \n",
              "147494  - je t ai dit auparavant que je ne suis pas in...  \n",
              "147632  - nous aurons tous faim alors assure toi d app...  \n",
              "147634  - on compte sur toi pour nous r veiller l heur...  \n",
              "147647  - qu importe le moment o tu te trouves en diff...  \n",
              "147735  - je pense que toi et moi devrions probablemen...  \n",
              "147806  - elle semble jeune mais en fait elle est plus...  \n",
              "147879  - tu parles tr s bien fran ais je souhaiterais...  \n",
              "147885  - un mauvais parcours scolaire jouera contre t...  \n",
              "147935  - j ai pens que ce serait une occasion pour to...  \n",
              "147955  - si je peux faire quelque chose pour toi n h ...  \n",
              "148021  - qui est la magnifique nana que j ai vue d am...  \n",
              "148290  - ne m as tu pas dit hier que toi et ton petit...  \n",
              "148454  - je n ai pas l intention de divorcer d avec t...  \n",
              "148466  - je croise les doigts pour que tout aille bie...  \n",
              "148983  - qu est il arriv cet ami toi auquel tu m as p...  \n",
              "149007  - je suis d sol d avoir t dans l incapacit d t...  \n",
              "149008  - je suis d sol e d avoir t dans l incapacit d...  \n",
              "149172  - penses tu que tes parents ont pass suffisamm...  \n",
              "149173  - penses tu que tes parents ont pass suffisamm...  \n",
              "149266  - je voulais en discuter avec toi hier mais tu...  \n",
              "149267  - je voulais en discuter avec toi hier mais tu...  \n",
              "149273  - je voulais en discuter avec toi hier mais tu...  \n",
              "149339  - que tu le croies ou non je veux en finir aut...  \n",
              "149347  - tout bien consid r je pense que tu devrais r...  \n",
              "149527  - les bons amis sont comme les toiles on ne le...  \n",
              "149592  - il semble que la question tait trop facile p...  \n",
              "149623  - aller l glise ne fait pas davantage de toi u...  \n",
              "149628  - mozart a crit de brillantes et complexes com...  \n",
              "149754  - je sais qu il est assez tard mais cela te d ...  \n",
              "149851  - peu importe le temps que tu passeras essayer...  \n",
              "\n",
              "[2125 rows x 2 columns]"
            ]
          },
          "metadata": {
            "tags": []
          },
          "execution_count": 71
        }
      ]
    },
    {
      "metadata": {
        "id": "F5v55ForWrz5",
        "colab_type": "code",
        "outputId": "573f349a-fb00-482d-cc5d-82944e6dbe4d",
        "colab": {
          "base_uri": "https://localhost:8080/",
          "height": 34
        }
      },
      "cell_type": "code",
      "source": [
        "fra_index_to_char_dict[fra_char_to_index_dict['toi']]"
      ],
      "execution_count": 0,
      "outputs": [
        {
          "output_type": "execute_result",
          "data": {
            "text/plain": [
              "'toi'"
            ]
          },
          "metadata": {
            "tags": []
          },
          "execution_count": 70
        }
      ]
    }
  ]
}