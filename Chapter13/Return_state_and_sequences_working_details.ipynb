{
  "nbformat": 4,
  "nbformat_minor": 0,
  "metadata": {
    "colab": {
      "name": "Return state and sequences working details.ipynb",
      "version": "0.3.2",
      "provenance": [],
      "collapsed_sections": []
    },
    "kernelspec": {
      "name": "python3",
      "display_name": "Python 3"
    },
    "accelerator": "GPU"
  },
  "cells": [
    {
      "metadata": {
        "id": "lnPfT55rwNZI",
        "colab_type": "code",
        "outputId": "4d605121-a9e8-418d-cd28-8775bd58183c",
        "colab": {
          "base_uri": "https://localhost:8080/",
          "height": 34
        }
      },
      "cell_type": "code",
      "source": [
        "from keras.preprocessing.text import one_hot\n",
        "from keras.preprocessing.sequence import pad_sequences\n",
        "from keras.models import Sequential\n",
        "from keras.layers import Dense\n",
        "from keras.layers import Flatten\n",
        "from keras.layers.recurrent import SimpleRNN\n",
        "from keras.layers.embeddings import Embedding\n",
        "from keras.layers import LSTM\n",
        "import numpy as np\n",
        "from keras.utils import to_categorical"
      ],
      "execution_count": 0,
      "outputs": [
        {
          "output_type": "stream",
          "text": [
            "Using TensorFlow backend.\n"
          ],
          "name": "stderr"
        }
      ]
    },
    {
      "metadata": {
        "id": "Xy-jRML97efe",
        "colab_type": "code",
        "colab": {}
      },
      "cell_type": "code",
      "source": [
        "from keras.layers import RepeatVector"
      ],
      "execution_count": 0,
      "outputs": []
    },
    {
      "metadata": {
        "id": "ZtTg9wMDNXok",
        "colab_type": "code",
        "colab": {}
      },
      "cell_type": "code",
      "source": [
        "input_data = np.array([[1,2],[3,4]])\n",
        "output_data = np.array([[3,4],[5,6]])"
      ],
      "execution_count": 0,
      "outputs": []
    },
    {
      "metadata": {
        "id": "hGiYT9ws3MfY",
        "colab_type": "code",
        "outputId": "b99adc0a-0dc9-46df-f0f4-d033bd46eb36",
        "colab": {
          "base_uri": "https://localhost:8080/",
          "height": 238
        }
      },
      "cell_type": "code",
      "source": [
        "from keras.models import Model\n",
        "from keras.layers import Input\n",
        "from keras.layers import LSTM\n",
        "from numpy import array\n",
        "# define model\n",
        "inputs1 = Input(shape=(2,1))\n",
        "lstm1 = LSTM(1, activation = 'tanh', return_sequences=False,recurrent_initializer='Zeros',recurrent_activation='sigmoid')(inputs1)\n",
        "#repvec = RepeatVector(2) (lstm1)\n",
        "out= Dense(2, activation='linear')(lstm1)\n",
        "#repvec = RepeatVector(2) (state_h)\n",
        "#model = Model(inputs=inputs1, outputs=[lstm1, state_h, state_c])\n",
        "model = Model(inputs=inputs1, outputs=out)\n",
        "model.summary()"
      ],
      "execution_count": 0,
      "outputs": [
        {
          "output_type": "stream",
          "text": [
            "_________________________________________________________________\n",
            "Layer (type)                 Output Shape              Param #   \n",
            "=================================================================\n",
            "input_1 (InputLayer)         (None, 2, 1)              0         \n",
            "_________________________________________________________________\n",
            "lstm_1 (LSTM)                (None, 1)                 12        \n",
            "_________________________________________________________________\n",
            "dense_1 (Dense)              (None, 2)                 4         \n",
            "=================================================================\n",
            "Total params: 16\n",
            "Trainable params: 16\n",
            "Non-trainable params: 0\n",
            "_________________________________________________________________\n"
          ],
          "name": "stdout"
        }
      ]
    },
    {
      "metadata": {
        "id": "7RLSZ-QM3d5V",
        "colab_type": "code",
        "colab": {}
      },
      "cell_type": "code",
      "source": [
        "model.compile(optimizer='adam',loss='mean_squared_error')\n",
        "model.fit(input_data.reshape(2,2,1), output_data,epochs=1000)"
      ],
      "execution_count": 0,
      "outputs": []
    },
    {
      "metadata": {
        "id": "QyuuvMCH3t70",
        "colab_type": "code",
        "outputId": "794c1145-c13a-4afb-c0be-e76354af7e79",
        "colab": {
          "base_uri": "https://localhost:8080/",
          "height": 34
        }
      },
      "cell_type": "code",
      "source": [
        "print(model.predict(input_data[0].reshape(1,2,1)))"
      ],
      "execution_count": 0,
      "outputs": [
        {
          "output_type": "stream",
          "text": [
            "[[2.079641  1.8290598]]\n"
          ],
          "name": "stdout"
        }
      ]
    },
    {
      "metadata": {
        "id": "SAsLEGHv4vY0",
        "colab_type": "code",
        "colab": {}
      },
      "cell_type": "code",
      "source": [
        "input_t0 = 1\n",
        "cell_state0 = 0\n",
        "forget0 = input_t0*model.get_weights()[0][0][1] + model.get_weights()[2][1]\n",
        "forget1 = 1/(1+np.exp(-(forget0)))\n",
        "cell_state1 = forget1 * cell_state0\n",
        "input_t0_1 = input_t0*model.get_weights()[0][0][0] + model.get_weights()[2][0]\n",
        "input_t0_2 = 1/(1+np.exp(-(input_t0_1)))\n",
        "input_t0_cell1 = input_t0*model.get_weights()[0][0][2] + model.get_weights()[2][2]\n",
        "input_t0_cell2 = np.tanh(input_t0_cell1)\n",
        "input_t0_cell3 = input_t0_cell2*input_t0_2\n",
        "input_t0_cell4 = input_t0_cell3 + cell_state1\n",
        "output_t0_1 = input_t0*model.get_weights()[0][0][3] + model.get_weights()[2][3]\n",
        "output_t0_2 = 1/(1+np.exp(-output_t0_1))\n",
        "hidden_layer_1 = np.tanh(input_t0_cell4)*output_t0_2"
      ],
      "execution_count": 0,
      "outputs": []
    },
    {
      "metadata": {
        "id": "KRg7fvzw4vc_",
        "colab_type": "code",
        "colab": {}
      },
      "cell_type": "code",
      "source": [
        "input_t1 = 2\n",
        "cell_state1 = input_t0_cell4\n",
        "forget21 = hidden_layer_1*model.get_weights()[1][0][1] + model.get_weights()[2][1] + input_t1*model.get_weights()[0][0][1]\n",
        "forget_22 = 1/(1+np.exp(-(forget21)))\n",
        "cell_state2 = cell_state1 * forget_22\n",
        "input_t1_1 = input_t1*model.get_weights()[0][0][0] + model.get_weights()[2][0] + hidden_layer_1*model.get_weights()[1][0][0]\n",
        "input_t1_2 = 1/(1+np.exp(-(input_t1_1)))\n",
        "input_t1_cell1 = input_t1*model.get_weights()[0][0][2] + model.get_weights()[2][2]+ hidden_layer_1*model.get_weights()[1][0][2]\n",
        "input_t1_cell2 = np.tanh(input_t1_cell1)\n",
        "input_t1_cell3 = input_t1_cell2*input_t1_2\n",
        "input_t1_cell4 = input_t1_cell3 + cell_state2\n",
        "output_t1_1 = input_t1*model.get_weights()[0][0][3] + model.get_weights()[2][3]+ hidden_layer_1*model.get_weights()[1][0][3]\n",
        "output_t1_2 = 1/(1+np.exp(-output_t1_1))\n",
        "hidden_layer_2 = np.tanh(input_t1_cell4)*output_t1_2\n",
        "final_output = hidden_layer_2 * model.get_weights()[3][0] + model.get_weights()[4]"
      ],
      "execution_count": 0,
      "outputs": []
    },
    {
      "metadata": {
        "id": "2JrPDjEw4vhA",
        "colab_type": "code",
        "outputId": "1ceffe7a-5736-4a5a-a155-9fca86d75c9e",
        "colab": {
          "base_uri": "https://localhost:8080/",
          "height": 34
        }
      },
      "cell_type": "code",
      "source": [
        "final_output"
      ],
      "execution_count": 0,
      "outputs": [
        {
          "output_type": "execute_result",
          "data": {
            "text/plain": [
              "array([2.079641 , 1.8290597], dtype=float32)"
            ]
          },
          "metadata": {
            "tags": []
          },
          "execution_count": 9
        }
      ]
    },
    {
      "metadata": {
        "id": "GM-paEjM_Wfj",
        "colab_type": "code",
        "colab": {}
      },
      "cell_type": "code",
      "source": [
        ""
      ],
      "execution_count": 0,
      "outputs": []
    },
    {
      "metadata": {
        "id": "3QQCGtcj_WiS",
        "colab_type": "code",
        "colab": {}
      },
      "cell_type": "code",
      "source": [
        ""
      ],
      "execution_count": 0,
      "outputs": []
    },
    {
      "metadata": {
        "id": "4PwUqE7F_WoG",
        "colab_type": "code",
        "outputId": "a51d1e49-1ae1-4939-98da-de359e6bd3cb",
        "colab": {
          "base_uri": "https://localhost:8080/",
          "height": 238
        }
      },
      "cell_type": "code",
      "source": [
        "from keras.models import Model\n",
        "from keras.layers import Input\n",
        "from keras.layers import LSTM\n",
        "from numpy import array\n",
        "# define model\n",
        "inputs1 = Input(shape=(2,1))\n",
        "lstm1 = LSTM(1, activation = 'tanh', return_sequences=True,recurrent_initializer='Zeros',recurrent_activation='sigmoid')(inputs1)\n",
        "#repvec = RepeatVector(2) (lstm1)\n",
        "out= Dense(1, activation='linear')(lstm1)\n",
        "#repvec = RepeatVector(2) (state_h)\n",
        "#model = Model(inputs=inputs1, outputs=[lstm1, state_h, state_c])\n",
        "model = Model(inputs=inputs1, outputs=out)\n",
        "model.summary()"
      ],
      "execution_count": 0,
      "outputs": [
        {
          "output_type": "stream",
          "text": [
            "_________________________________________________________________\n",
            "Layer (type)                 Output Shape              Param #   \n",
            "=================================================================\n",
            "input_3 (InputLayer)         (None, 2, 1)              0         \n",
            "_________________________________________________________________\n",
            "lstm_3 (LSTM)                (None, 2, 1)              12        \n",
            "_________________________________________________________________\n",
            "dense_3 (Dense)              (None, 2, 1)              2         \n",
            "=================================================================\n",
            "Total params: 14\n",
            "Trainable params: 14\n",
            "Non-trainable params: 0\n",
            "_________________________________________________________________\n"
          ],
          "name": "stdout"
        }
      ]
    },
    {
      "metadata": {
        "id": "qX9d_DnQ_Wra",
        "colab_type": "code",
        "colab": {}
      },
      "cell_type": "code",
      "source": [
        "model.compile(optimizer='adam',loss='mean_squared_error')\n",
        "model.fit(input_data.reshape(2,2,1), output_data.reshape(2,2,1),epochs=1000)"
      ],
      "execution_count": 0,
      "outputs": []
    },
    {
      "metadata": {
        "id": "ViElszYK_WmD",
        "colab_type": "code",
        "outputId": "97b0fa95-1835-4b17-b941-b7d30672dd2a",
        "colab": {
          "base_uri": "https://localhost:8080/",
          "height": 51
        }
      },
      "cell_type": "code",
      "source": [
        "print(model.predict(input_data[0].reshape(1,2,1)))"
      ],
      "execution_count": 0,
      "outputs": [
        {
          "output_type": "stream",
          "text": [
            "[[[1.7584195]\n",
            "  [2.2500749]]]\n"
          ],
          "name": "stdout"
        }
      ]
    },
    {
      "metadata": {
        "id": "pq3u0pTC5Omb",
        "colab_type": "code",
        "outputId": "d1119932-e3d9-4289-a9e9-c7962a0c5ab1",
        "colab": {
          "base_uri": "https://localhost:8080/",
          "height": 34
        }
      },
      "cell_type": "code",
      "source": [
        "input_t0 = 1\n",
        "cell_state0 = 0\n",
        "forget0 = input_t0*model.get_weights()[0][0][1] + model.get_weights()[2][1]\n",
        "forget1 = 1/(1+np.exp(-(forget0)))\n",
        "cell_state1 = forget1 * cell_state0\n",
        "input_t0_1 = input_t0*model.get_weights()[0][0][0] + model.get_weights()[2][0]\n",
        "input_t0_2 = 1/(1+np.exp(-(input_t0_1)))\n",
        "input_t0_cell1 = input_t0*model.get_weights()[0][0][2] + model.get_weights()[2][2]\n",
        "input_t0_cell2 = np.tanh(input_t0_cell1)\n",
        "input_t0_cell3 = input_t0_cell2*input_t0_2\n",
        "input_t0_cell4 = input_t0_cell3 + cell_state1\n",
        "output_t0_1 = input_t0*model.get_weights()[0][0][3] + model.get_weights()[2][3]\n",
        "output_t0_2 = 1/(1+np.exp(-output_t0_1))\n",
        "hidden_layer_1 = np.tanh(input_t0_cell4)*output_t0_2\n",
        "final_output_1 = hidden_layer_1 * model.get_weights()[3][0] + model.get_weights()[4]\n",
        "final_output_1"
      ],
      "execution_count": 0,
      "outputs": [
        {
          "output_type": "execute_result",
          "data": {
            "text/plain": [
              "array([1.7584196], dtype=float32)"
            ]
          },
          "metadata": {
            "tags": []
          },
          "execution_count": 15
        }
      ]
    },
    {
      "metadata": {
        "id": "cktGbG4S5Ose",
        "colab_type": "code",
        "outputId": "693bdeb5-d15e-4ebb-aaf2-c87a4d9dfd6c",
        "colab": {
          "base_uri": "https://localhost:8080/",
          "height": 34
        }
      },
      "cell_type": "code",
      "source": [
        "input_t1 = 2\n",
        "cell_state1 = input_t0_cell4\n",
        "forget21 = hidden_layer_1*model.get_weights()[1][0][1] + model.get_weights()[2][1] + input_t1*model.get_weights()[0][0][1]\n",
        "forget_22 = 1/(1+np.exp(-(forget21)))\n",
        "cell_state2 = cell_state1 * forget_22\n",
        "input_t1_1 = input_t1*model.get_weights()[0][0][0] + model.get_weights()[2][0] + hidden_layer_1*model.get_weights()[1][0][0]\n",
        "input_t1_2 = 1/(1+np.exp(-(input_t1_1)))\n",
        "input_t1_cell1 = input_t1*model.get_weights()[0][0][2] + model.get_weights()[2][2]+ hidden_layer_1*model.get_weights()[1][0][2]\n",
        "input_t1_cell2 = np.tanh(input_t1_cell1)\n",
        "input_t1_cell3 = input_t1_cell2*input_t1_2\n",
        "input_t1_cell4 = input_t1_cell3 + cell_state2\n",
        "output_t1_1 = input_t1*model.get_weights()[0][0][3] + model.get_weights()[2][3]+ hidden_layer_1*model.get_weights()[1][0][3]\n",
        "output_t1_2 = 1/(1+np.exp(-output_t1_1))\n",
        "hidden_layer_2 = np.tanh(input_t1_cell4)*output_t1_2\n",
        "final_output_2 = hidden_layer_2 * model.get_weights()[3][0] + model.get_weights()[4]\n",
        "final_output_2"
      ],
      "execution_count": 0,
      "outputs": [
        {
          "output_type": "execute_result",
          "data": {
            "text/plain": [
              "array([2.2500749], dtype=float32)"
            ]
          },
          "metadata": {
            "tags": []
          },
          "execution_count": 16
        }
      ]
    },
    {
      "metadata": {
        "id": "FDGhf8z35OwJ",
        "colab_type": "code",
        "colab": {}
      },
      "cell_type": "code",
      "source": [
        ""
      ],
      "execution_count": 0,
      "outputs": []
    },
    {
      "metadata": {
        "id": "OYgySjTUE2Mh",
        "colab_type": "code",
        "colab": {}
      },
      "cell_type": "code",
      "source": [
        ""
      ],
      "execution_count": 0,
      "outputs": []
    },
    {
      "metadata": {
        "id": "aNuu6UzqE2Te",
        "colab_type": "code",
        "colab": {}
      },
      "cell_type": "code",
      "source": [
        ""
      ],
      "execution_count": 0,
      "outputs": []
    },
    {
      "metadata": {
        "id": "-gK-f5RqE2QZ",
        "colab_type": "code",
        "colab": {}
      },
      "cell_type": "code",
      "source": [
        ""
      ],
      "execution_count": 0,
      "outputs": []
    },
    {
      "metadata": {
        "id": "5Ik_YYi05Oz8",
        "colab_type": "code",
        "colab": {}
      },
      "cell_type": "code",
      "source": [
        ""
      ],
      "execution_count": 0,
      "outputs": []
    },
    {
      "metadata": {
        "id": "zC9vOP4V5Oq_",
        "colab_type": "code",
        "colab": {}
      },
      "cell_type": "code",
      "source": [
        ""
      ],
      "execution_count": 0,
      "outputs": []
    },
    {
      "metadata": {
        "id": "hRP1qrYrESm3",
        "colab_type": "code",
        "outputId": "d77b1b6e-3b86-4284-f184-a796e7300240",
        "colab": {
          "base_uri": "https://localhost:8080/",
          "height": 204
        }
      },
      "cell_type": "code",
      "source": [
        "from keras.models import Model\n",
        "from keras.layers import Input\n",
        "from keras.layers import LSTM\n",
        "from numpy import array\n",
        "# define model\n",
        "inputs1 = Input(shape=(2,1))\n",
        "lstm1,state_h,state_c = LSTM(1, activation = 'tanh', return_sequences=True, return_state = True, recurrent_initializer='Zeros',recurrent_activation='sigmoid')(inputs1)\n",
        "#repvec = RepeatVector(2) (lstm1)\n",
        "#out= Dense(1, activation='linear')(lstm1)\n",
        "#repvec = RepeatVector(2) (state_h)\n",
        "model = Model(inputs=inputs1, outputs=[lstm1, state_h, state_c])\n",
        "#model = Model(inputs=inputs1, outputs=out)\n",
        "model.summary()"
      ],
      "execution_count": 0,
      "outputs": [
        {
          "output_type": "stream",
          "text": [
            "_________________________________________________________________\n",
            "Layer (type)                 Output Shape              Param #   \n",
            "=================================================================\n",
            "input_6 (InputLayer)         (None, 2, 1)              0         \n",
            "_________________________________________________________________\n",
            "lstm_6 (LSTM)                [(None, 2, 1), (None, 1), 12        \n",
            "=================================================================\n",
            "Total params: 12\n",
            "Trainable params: 12\n",
            "Non-trainable params: 0\n",
            "_________________________________________________________________\n"
          ],
          "name": "stdout"
        }
      ]
    },
    {
      "metadata": {
        "id": "vmX662mwESqA",
        "colab_type": "code",
        "colab": {}
      },
      "cell_type": "code",
      "source": [
        "model.compile(optimizer='adam',loss='mean_squared_error')\n",
        "#model.fit(input_data.reshape(2,2,1), output_data.reshape(2,2,1),epochs=1)"
      ],
      "execution_count": 0,
      "outputs": []
    },
    {
      "metadata": {
        "id": "z6rvxL2yEStM",
        "colab_type": "code",
        "outputId": "73625847-b641-4347-aa0f-e628dbe92d38",
        "colab": {
          "base_uri": "https://localhost:8080/",
          "height": 51
        }
      },
      "cell_type": "code",
      "source": [
        "print(model.predict(input_data[0].reshape(1,2,1)))"
      ],
      "execution_count": 0,
      "outputs": [
        {
          "output_type": "stream",
          "text": [
            "[array([[[-0.256911 ],\n",
            "        [-0.6683883]]], dtype=float32), array([[-0.6683883]], dtype=float32), array([[-0.96862674]], dtype=float32)]\n"
          ],
          "name": "stdout"
        }
      ]
    },
    {
      "metadata": {
        "id": "Te7N0PVY5Oj8",
        "colab_type": "code",
        "outputId": "2313854a-9ded-4107-8dd2-db3926363b99",
        "colab": {
          "base_uri": "https://localhost:8080/",
          "height": 34
        }
      },
      "cell_type": "code",
      "source": [
        "input_t0 = 1\n",
        "cell_state0 = 0\n",
        "forget0 = input_t0*model.get_weights()[0][0][1] + model.get_weights()[2][1]\n",
        "forget1 = 1/(1+np.exp(-(forget0)))\n",
        "cell_state1 = forget1 * cell_state0\n",
        "input_t0_1 = input_t0*model.get_weights()[0][0][0] + model.get_weights()[2][0]\n",
        "input_t0_2 = 1/(1+np.exp(-(input_t0_1)))\n",
        "input_t0_cell1 = input_t0*model.get_weights()[0][0][2] + model.get_weights()[2][2]\n",
        "input_t0_cell2 = np.tanh(input_t0_cell1)\n",
        "input_t0_cell3 = input_t0_cell2*input_t0_2\n",
        "input_t0_cell4 = input_t0_cell3 + cell_state1\n",
        "output_t0_1 = input_t0*model.get_weights()[0][0][3] + model.get_weights()[2][3]\n",
        "output_t0_2 = 1/(1+np.exp(-output_t0_1))\n",
        "hidden_layer_1 = np.tanh(input_t0_cell4)*output_t0_2\n",
        "print(hidden_layer_1)"
      ],
      "execution_count": 0,
      "outputs": [
        {
          "output_type": "stream",
          "text": [
            "-0.256911018092609\n"
          ],
          "name": "stdout"
        }
      ]
    },
    {
      "metadata": {
        "id": "2YjUWFmcEyDc",
        "colab_type": "code",
        "outputId": "b7f33fd4-8e49-4c39-9a45-75de2f14ba58",
        "colab": {
          "base_uri": "https://localhost:8080/",
          "height": 34
        }
      },
      "cell_type": "code",
      "source": [
        "input_t1 = 2\n",
        "cell_state1 = input_t0_cell4\n",
        "forget21 = hidden_layer_1*model.get_weights()[1][0][1] + model.get_weights()[2][1] + input_t1*model.get_weights()[0][0][1]\n",
        "forget_22 = 1/(1+np.exp(-(forget21)))\n",
        "cell_state2 = cell_state1 * forget_22\n",
        "input_t1_1 = input_t1*model.get_weights()[0][0][0] + model.get_weights()[2][0] + hidden_layer_1*model.get_weights()[1][0][0]\n",
        "input_t1_2 = 1/(1+np.exp(-(input_t1_1)))\n",
        "input_t1_cell1 = input_t1*model.get_weights()[0][0][2] + model.get_weights()[2][2]+ hidden_layer_1*model.get_weights()[1][0][2]\n",
        "input_t1_cell2 = np.tanh(input_t1_cell1)\n",
        "input_t1_cell3 = input_t1_cell2*input_t1_2\n",
        "input_t1_cell4 = input_t1_cell3 + cell_state2\n",
        "output_t1_1 = input_t1*model.get_weights()[0][0][3] + model.get_weights()[2][3]+ hidden_layer_1*model.get_weights()[1][0][3]\n",
        "output_t1_2 = 1/(1+np.exp(-output_t1_1))\n",
        "hidden_layer_2 = np.tanh(input_t1_cell4)*output_t1_2\n",
        "print(hidden_layer_2, input_t1_cell4)"
      ],
      "execution_count": 0,
      "outputs": [
        {
          "output_type": "stream",
          "text": [
            "-0.6683882766811402 -0.9686266609109275\n"
          ],
          "name": "stdout"
        }
      ]
    },
    {
      "metadata": {
        "id": "_XQfQg-jEyHZ",
        "colab_type": "code",
        "colab": {}
      },
      "cell_type": "code",
      "source": [
        ""
      ],
      "execution_count": 0,
      "outputs": []
    },
    {
      "metadata": {
        "id": "Ky4GtmfNLr1x",
        "colab_type": "code",
        "colab": {}
      },
      "cell_type": "code",
      "source": [
        ""
      ],
      "execution_count": 0,
      "outputs": []
    },
    {
      "metadata": {
        "id": "jLtLE3c9Lr5V",
        "colab_type": "code",
        "outputId": "a61a45e6-bcec-4d38-bf66-b75e60bf06fd",
        "colab": {
          "base_uri": "https://localhost:8080/",
          "height": 204
        }
      },
      "cell_type": "code",
      "source": [
        "from keras.models import Model\n",
        "from keras.layers import Input\n",
        "from keras.layers import LSTM,Bidirectional\n",
        "from numpy import array\n",
        "# define model\n",
        "inputs1 = Input(shape=(2,1))\n",
        "lstm1,state_fh,state_fc,state_bh,state_bc = Bidirectional(LSTM(1, activation = 'tanh', return_sequences=True, return_state = True, recurrent_initializer='Zeros',recurrent_activation='sigmoid'))(inputs1)\n",
        "#repvec = RepeatVector(2) (lstm1)\n",
        "#out= Dense(1, activation='linear')(lstm1)\n",
        "#repvec = RepeatVector(2) (state_h)\n",
        "model = Model(inputs=inputs1, outputs=[lstm1, state_fh,state_fc,state_bh,state_bc])\n",
        "#model = Model(inputs=inputs1, outputs=out)\n",
        "model.summary()"
      ],
      "execution_count": 0,
      "outputs": [
        {
          "output_type": "stream",
          "text": [
            "_________________________________________________________________\n",
            "Layer (type)                 Output Shape              Param #   \n",
            "=================================================================\n",
            "input_10 (InputLayer)        (None, 2, 1)              0         \n",
            "_________________________________________________________________\n",
            "bidirectional_1 (Bidirection [(None, 2, 2), (None, 1), 24        \n",
            "=================================================================\n",
            "Total params: 24\n",
            "Trainable params: 24\n",
            "Non-trainable params: 0\n",
            "_________________________________________________________________\n"
          ],
          "name": "stdout"
        }
      ]
    },
    {
      "metadata": {
        "id": "uFli-M7TLsBj",
        "colab_type": "code",
        "outputId": "e4ad60c7-790a-4bf2-85cc-77d34ad16518",
        "colab": {
          "base_uri": "https://localhost:8080/",
          "height": 119
        }
      },
      "cell_type": "code",
      "source": [
        "model.weights"
      ],
      "execution_count": 0,
      "outputs": [
        {
          "output_type": "execute_result",
          "data": {
            "text/plain": [
              "[<tf.Variable 'bidirectional_1/forward_lstm_9/kernel:0' shape=(1, 4) dtype=float32_ref>,\n",
              " <tf.Variable 'bidirectional_1/forward_lstm_9/recurrent_kernel:0' shape=(1, 4) dtype=float32_ref>,\n",
              " <tf.Variable 'bidirectional_1/forward_lstm_9/bias:0' shape=(4,) dtype=float32_ref>,\n",
              " <tf.Variable 'bidirectional_1/backward_lstm_9/kernel:0' shape=(1, 4) dtype=float32_ref>,\n",
              " <tf.Variable 'bidirectional_1/backward_lstm_9/recurrent_kernel:0' shape=(1, 4) dtype=float32_ref>,\n",
              " <tf.Variable 'bidirectional_1/backward_lstm_9/bias:0' shape=(4,) dtype=float32_ref>]"
            ]
          },
          "metadata": {
            "tags": []
          },
          "execution_count": 38
        }
      ]
    },
    {
      "metadata": {
        "id": "q5CCjORILr_I",
        "colab_type": "code",
        "outputId": "06c72805-f6e1-48b7-8f8a-83cf1583097c",
        "colab": {
          "base_uri": "https://localhost:8080/",
          "height": 71
        }
      },
      "cell_type": "code",
      "source": [
        "print(model.predict(input_data[0].reshape(1,2,1)))"
      ],
      "execution_count": 0,
      "outputs": [
        {
          "output_type": "stream",
          "text": [
            "[array([[[-0.07460772, -0.05100038],\n",
            "        [-0.06609192, -0.02083384]]], dtype=float32), array([[-0.06609192]], dtype=float32), array([[-0.23189402]], dtype=float32), array([[-0.05100038]], dtype=float32), array([[-0.19136184]], dtype=float32)]\n"
          ],
          "name": "stdout"
        }
      ]
    },
    {
      "metadata": {
        "id": "P4jB5DOHLr8w",
        "colab_type": "code",
        "outputId": "08e8c682-4ddd-47af-9e8f-6c40ff7cf8f0",
        "colab": {
          "base_uri": "https://localhost:8080/",
          "height": 34
        }
      },
      "cell_type": "code",
      "source": [
        "input_t0 = 1\n",
        "cell_state0 = 0\n",
        "forget0 = input_t0*model.get_weights()[0][0][1] + model.get_weights()[2][1]\n",
        "forget1 = 1/(1+np.exp(-(forget0)))\n",
        "cell_state1 = forget1 * cell_state0\n",
        "input_t0_1 = input_t0*model.get_weights()[0][0][0] + model.get_weights()[2][0]\n",
        "input_t0_2 = 1/(1+np.exp(-(input_t0_1)))\n",
        "input_t0_cell1 = input_t0*model.get_weights()[0][0][2] + model.get_weights()[2][2]\n",
        "input_t0_cell2 = np.tanh(input_t0_cell1)\n",
        "input_t0_cell3 = input_t0_cell2*input_t0_2\n",
        "input_t0_cell4 = input_t0_cell3 + cell_state1\n",
        "output_t0_1 = input_t0*model.get_weights()[0][0][3] + model.get_weights()[2][3]\n",
        "output_t0_2 = 1/(1+np.exp(-output_t0_1))\n",
        "hidden_layer_1 = np.tanh(input_t0_cell4)*output_t0_2\n",
        "print(hidden_layer_1)"
      ],
      "execution_count": 0,
      "outputs": [
        {
          "output_type": "stream",
          "text": [
            "-0.0746077078148003\n"
          ],
          "name": "stdout"
        }
      ]
    },
    {
      "metadata": {
        "id": "w_zguWEd4vjq",
        "colab_type": "code",
        "outputId": "416e4eec-b733-4a7c-c751-2c199e676303",
        "colab": {
          "base_uri": "https://localhost:8080/",
          "height": 34
        }
      },
      "cell_type": "code",
      "source": [
        "input_t1 = 2\n",
        "cell_state1 = input_t0_cell4\n",
        "forget21 = hidden_layer_1*model.get_weights()[1][0][1] + model.get_weights()[2][1] + input_t1*model.get_weights()[0][0][1]\n",
        "forget_22 = 1/(1+np.exp(-(forget21)))\n",
        "cell_state2 = cell_state1 * forget_22\n",
        "input_t1_1 = input_t1*model.get_weights()[0][0][0] + model.get_weights()[2][0] + hidden_layer_1*model.get_weights()[1][0][0]\n",
        "input_t1_2 = 1/(1+np.exp(-(input_t1_1)))\n",
        "input_t1_cell1 = input_t1*model.get_weights()[0][0][2] + model.get_weights()[2][2]+ hidden_layer_1*model.get_weights()[1][0][2]\n",
        "input_t1_cell2 = np.tanh(input_t1_cell1)\n",
        "input_t1_cell3 = input_t1_cell2*input_t1_2\n",
        "input_t1_cell4 = input_t1_cell3 + cell_state2\n",
        "output_t1_1 = input_t1*model.get_weights()[0][0][3] + model.get_weights()[2][3]+ hidden_layer_1*model.get_weights()[1][0][3]\n",
        "output_t1_2 = 1/(1+np.exp(-output_t1_1))\n",
        "hidden_layer_2 = np.tanh(input_t1_cell4)*output_t1_2\n",
        "print(hidden_layer_2, input_t1_cell4)"
      ],
      "execution_count": 0,
      "outputs": [
        {
          "output_type": "stream",
          "text": [
            "-0.06609191847032114 -0.23189399858181528\n"
          ],
          "name": "stdout"
        }
      ]
    },
    {
      "metadata": {
        "id": "SNCNmbPwNNpz",
        "colab_type": "code",
        "colab": {}
      },
      "cell_type": "code",
      "source": [
        ""
      ],
      "execution_count": 0,
      "outputs": []
    },
    {
      "metadata": {
        "id": "A3jxYBRJNv-r",
        "colab_type": "code",
        "colab": {}
      },
      "cell_type": "code",
      "source": [
        ""
      ],
      "execution_count": 0,
      "outputs": []
    },
    {
      "metadata": {
        "id": "sUFKNT4hNNta",
        "colab_type": "code",
        "outputId": "9d728d5f-ef0d-49f5-a928-d6cff700a6c9",
        "colab": {
          "base_uri": "https://localhost:8080/",
          "height": 34
        }
      },
      "cell_type": "code",
      "source": [
        "input_t0 = 2\n",
        "cell_state0 = 0\n",
        "forget0 = input_t0*model.get_weights()[3][0][1] + model.get_weights()[5][1]\n",
        "forget1 = 1/(1+np.exp(-(forget0)))\n",
        "cell_state1 = forget1 * cell_state0\n",
        "input_t0_1 = input_t0*model.get_weights()[3][0][0] + model.get_weights()[5][0]\n",
        "input_t0_2 = 1/(1+np.exp(-(input_t0_1)))\n",
        "input_t0_cell1 = input_t0*model.get_weights()[3][0][2] + model.get_weights()[5][2]\n",
        "input_t0_cell2 = np.tanh(input_t0_cell1)\n",
        "input_t0_cell3 = input_t0_cell2*input_t0_2\n",
        "input_t0_cell4 = input_t0_cell3 + cell_state1\n",
        "output_t0_1 = input_t0*model.get_weights()[3][0][3] + model.get_weights()[5][3]\n",
        "output_t0_2 = 1/(1+np.exp(-output_t0_1))\n",
        "hidden_layer_1 = np.tanh(input_t0_cell4)*output_t0_2\n",
        "print(hidden_layer_1)"
      ],
      "execution_count": 0,
      "outputs": [
        {
          "output_type": "stream",
          "text": [
            "-0.020833835423206527\n"
          ],
          "name": "stdout"
        }
      ]
    },
    {
      "metadata": {
        "id": "yim0xRamNNzD",
        "colab_type": "code",
        "outputId": "0dd3722a-f828-4208-bdb5-72d31266473f",
        "colab": {
          "base_uri": "https://localhost:8080/",
          "height": 34
        }
      },
      "cell_type": "code",
      "source": [
        "input_t1 = 1\n",
        "cell_state1 = input_t0_cell4\n",
        "forget21 = hidden_layer_1*model.get_weights()[4][0][1] + model.get_weights()[5][1] + input_t1*model.get_weights()[3][0][1]\n",
        "forget_22 = 1/(1+np.exp(-(forget21)))\n",
        "cell_state2 = cell_state1 * forget_22\n",
        "input_t1_1 = input_t1*model.get_weights()[3][0][0] + model.get_weights()[5][0] + hidden_layer_1*model.get_weights()[4][0][0]\n",
        "input_t1_2 = 1/(1+np.exp(-(input_t1_1)))\n",
        "input_t1_cell1 = input_t1*model.get_weights()[3][0][2] + model.get_weights()[5][2]+ hidden_layer_1*model.get_weights()[4][0][2]\n",
        "input_t1_cell2 = np.tanh(input_t1_cell1)\n",
        "input_t1_cell3 = input_t1_cell2*input_t1_2\n",
        "input_t1_cell4 = input_t1_cell3 + cell_state2\n",
        "output_t1_1 = input_t1*model.get_weights()[3][0][3] + model.get_weights()[5][3]+ hidden_layer_1*model.get_weights()[4][0][3]\n",
        "output_t1_2 = 1/(1+np.exp(-output_t1_1))\n",
        "hidden_layer_2 = np.tanh(input_t1_cell4)*output_t1_2\n",
        "print(hidden_layer_2, input_t1_cell4)"
      ],
      "execution_count": 0,
      "outputs": [
        {
          "output_type": "stream",
          "text": [
            "-0.05100036776625001 -0.191361832062391\n"
          ],
          "name": "stdout"
        }
      ]
    },
    {
      "metadata": {
        "id": "O2ahvp60NUhH",
        "colab_type": "code",
        "colab": {}
      },
      "cell_type": "code",
      "source": [
        ""
      ],
      "execution_count": 0,
      "outputs": []
    },
    {
      "metadata": {
        "id": "6I_LOjf-NUnU",
        "colab_type": "code",
        "colab": {}
      },
      "cell_type": "code",
      "source": [
        ""
      ],
      "execution_count": 0,
      "outputs": []
    },
    {
      "metadata": {
        "id": "Hy1LR5LkNUkz",
        "colab_type": "code",
        "colab": {}
      },
      "cell_type": "code",
      "source": [
        ""
      ],
      "execution_count": 0,
      "outputs": []
    },
    {
      "metadata": {
        "id": "xizt7xvJNNw-",
        "colab_type": "code",
        "colab": {}
      },
      "cell_type": "code",
      "source": [
        ""
      ],
      "execution_count": 0,
      "outputs": []
    },
    {
      "metadata": {
        "id": "gqHxLy6ewcsU",
        "colab_type": "code",
        "outputId": "f2da516d-890d-41b4-bde9-e616fc913d7d",
        "colab": {
          "base_uri": "https://localhost:8080/",
          "height": 221
        }
      },
      "cell_type": "code",
      "source": [
        "from numpy import array\n",
        "from keras.models import Sequential\n",
        "from keras.layers import Dense\n",
        "from keras.layers import TimeDistributed\n",
        "from keras.layers import LSTM\n",
        "# prepare sequence\n",
        "length = 2\n",
        "seq = array([(i+1)/float(length) for i in range(length)])\n",
        "X = seq.reshape(1, length, 1)\n",
        "y = seq.reshape(1, length, 1)\n",
        "# define LSTM configuration\n",
        "n_neurons = length\n",
        "n_batch = 1\n",
        "n_epoch = 1000\n",
        "# create LSTM\n",
        "model = Sequential()\n",
        "model.add(LSTM(5, activation = 'tanh',input_shape=(length, 1), return_sequences=True,recurrent_initializer='Zeros',recurrent_activation='sigmoid'))\n",
        "model.add((Dense(1, activation='linear')))\n",
        "model.compile(loss='mean_squared_error', optimizer='adam')\n",
        "print(model.summary())"
      ],
      "execution_count": 0,
      "outputs": [
        {
          "output_type": "stream",
          "text": [
            "_________________________________________________________________\n",
            "Layer (type)                 Output Shape              Param #   \n",
            "=================================================================\n",
            "lstm_23 (LSTM)               (None, 2, 5)              140       \n",
            "_________________________________________________________________\n",
            "dense_15 (Dense)             (None, 2, 1)              6         \n",
            "=================================================================\n",
            "Total params: 146\n",
            "Trainable params: 146\n",
            "Non-trainable params: 0\n",
            "_________________________________________________________________\n",
            "None\n"
          ],
          "name": "stdout"
        }
      ]
    },
    {
      "metadata": {
        "id": "MqvAuCS1_C-n",
        "colab_type": "code",
        "outputId": "ebcf61f4-88ca-4e39-c3ae-694a566ad997",
        "colab": {
          "base_uri": "https://localhost:8080/",
          "height": 374
        }
      },
      "cell_type": "code",
      "source": [
        "# train LSTM\n",
        "model.fit(X, y, epochs=10, batch_size=n_batch, verbose=2)"
      ],
      "execution_count": 0,
      "outputs": [
        {
          "output_type": "stream",
          "text": [
            "Epoch 1/10\n",
            " - 2s - loss: 0.6035\n",
            "Epoch 2/10\n",
            " - 0s - loss: 0.6011\n",
            "Epoch 3/10\n",
            " - 0s - loss: 0.5987\n",
            "Epoch 4/10\n",
            " - 0s - loss: 0.5962\n",
            "Epoch 5/10\n",
            " - 0s - loss: 0.5938\n",
            "Epoch 6/10\n",
            " - 0s - loss: 0.5914\n",
            "Epoch 7/10\n",
            " - 0s - loss: 0.5890\n",
            "Epoch 8/10\n",
            " - 0s - loss: 0.5866\n",
            "Epoch 9/10\n",
            " - 0s - loss: 0.5842\n",
            "Epoch 10/10\n",
            " - 0s - loss: 0.5818\n"
          ],
          "name": "stdout"
        },
        {
          "output_type": "execute_result",
          "data": {
            "text/plain": [
              "<keras.callbacks.History at 0x7f30124c17b8>"
            ]
          },
          "metadata": {
            "tags": []
          },
          "execution_count": 80
        }
      ]
    },
    {
      "metadata": {
        "id": "q8mmMdLAA9yY",
        "colab_type": "code",
        "outputId": "a50f400b-51eb-4066-a03a-4e8b6f2ff22a",
        "colab": {
          "base_uri": "https://localhost:8080/",
          "height": 102
        }
      },
      "cell_type": "code",
      "source": [
        "model.weights"
      ],
      "execution_count": 0,
      "outputs": [
        {
          "output_type": "execute_result",
          "data": {
            "text/plain": [
              "[<tf.Variable 'lstm_22/kernel:0' shape=(1, 4) dtype=float32_ref>,\n",
              " <tf.Variable 'lstm_22/recurrent_kernel:0' shape=(1, 4) dtype=float32_ref>,\n",
              " <tf.Variable 'lstm_22/bias:0' shape=(4,) dtype=float32_ref>,\n",
              " <tf.Variable 'dense_14/kernel:0' shape=(1, 1) dtype=float32_ref>,\n",
              " <tf.Variable 'dense_14/bias:0' shape=(1,) dtype=float32_ref>]"
            ]
          },
          "metadata": {
            "tags": []
          },
          "execution_count": 81
        }
      ]
    },
    {
      "metadata": {
        "id": "dqY5rHTTA_0E",
        "colab_type": "code",
        "outputId": "fe8d0364-55ee-4348-bd03-9e1c2ff29d1a",
        "colab": {
          "base_uri": "https://localhost:8080/",
          "height": 51
        }
      },
      "cell_type": "code",
      "source": [
        "X[0]"
      ],
      "execution_count": 0,
      "outputs": [
        {
          "output_type": "execute_result",
          "data": {
            "text/plain": [
              "array([[0.5],\n",
              "       [1. ]])"
            ]
          },
          "metadata": {
            "tags": []
          },
          "execution_count": 82
        }
      ]
    },
    {
      "metadata": {
        "id": "QOlJWnFwBYQk",
        "colab_type": "code",
        "colab": {}
      },
      "cell_type": "code",
      "source": [
        "input_t0 = 0.5\n",
        "cell_state0 = 0\n",
        "forget0 = input_t0*model.get_weights()[0][0][1] + model.get_weights()[2][1]\n",
        "forget1 = 1/(1+np.exp(-(forget0)))\n",
        "cell_state1 = forget1 * cell_state0\n",
        "input_t0_1 = input_t0*model.get_weights()[0][0][0] + model.get_weights()[2][0]\n",
        "input_t0_2 = 1/(1+np.exp(-(input_t0_1)))\n",
        "input_t0_cell1 = input_t0*model.get_weights()[0][0][2] + model.get_weights()[2][2]\n",
        "input_t0_cell2 = np.tanh(input_t0_cell1)\n",
        "input_t0_cell3 = input_t0_cell2*input_t0_2\n",
        "input_t0_cell4 = input_t0_cell3 + cell_state1\n",
        "output_t0_1 = input_t0*model.get_weights()[0][0][3] + model.get_weights()[2][3]\n",
        "output_t0_2 = 1/(1+np.exp(-output_t0_1))\n",
        "hidden_layer_1 = np.tanh(input_t0_cell4)*output_t0_2"
      ],
      "execution_count": 0,
      "outputs": []
    },
    {
      "metadata": {
        "id": "LLnq9eMAB9yi",
        "colab_type": "code",
        "colab": {}
      },
      "cell_type": "code",
      "source": [
        "input_t1 = 1\n",
        "cell_state1 = input_t0_cell4\n",
        "forget21 = hidden_layer_1*model.get_weights()[1][0][1] + model.get_weights()[2][1] + input_t1*model.get_weights()[0][0][1]\n",
        "forget_22 = 1/(1+np.exp(-(forget21)))\n",
        "cell_state2 = cell_state1 * forget_22\n",
        "input_t1_1 = input_t1*model.get_weights()[0][0][0] + model.get_weights()[2][0] + hidden_layer_1*model.get_weights()[1][0][0]\n",
        "input_t1_2 = 1/(1+np.exp(-(input_t1_1)))\n",
        "input_t1_cell1 = input_t1*model.get_weights()[0][0][2] + model.get_weights()[2][2]+ hidden_layer_1*model.get_weights()[1][0][2]\n",
        "input_t1_cell2 = np.tanh(input_t1_cell1)\n",
        "input_t1_cell3 = input_t1_cell2*input_t1_2\n",
        "input_t1_cell4 = input_t1_cell3 + cell_state2\n",
        "output_t1_1 = input_t1*model.get_weights()[0][0][3] + model.get_weights()[2][3]+ hidden_layer_1*model.get_weights()[1][0][3]\n",
        "output_t1_2 = 1/(1+np.exp(-output_t1_1))\n",
        "hidden_layer_2 = np.tanh(input_t1_cell4)*output_t1_2\n",
        "final_output = hidden_layer_2 * model.get_weights()[3][0] + model.get_weights()[4]"
      ],
      "execution_count": 0,
      "outputs": []
    },
    {
      "metadata": {
        "id": "bwRRvK7xB93Q",
        "colab_type": "code",
        "outputId": "2b359c7b-e55c-4249-82fa-7fd626da303e",
        "colab": {
          "base_uri": "https://localhost:8080/",
          "height": 51
        }
      },
      "cell_type": "code",
      "source": [
        "model.predict(X[0].reshape(1,2,1))"
      ],
      "execution_count": 0,
      "outputs": [
        {
          "output_type": "execute_result",
          "data": {
            "text/plain": [
              "array([[[0.02046466],\n",
              "        [0.03626223]]], dtype=float32)"
            ]
          },
          "metadata": {
            "tags": []
          },
          "execution_count": 85
        }
      ]
    },
    {
      "metadata": {
        "id": "YP2oSBQjB96P",
        "colab_type": "code",
        "outputId": "0139cc0e-30a6-4a84-a38e-d22948520c72",
        "colab": {
          "base_uri": "https://localhost:8080/",
          "height": 34
        }
      },
      "cell_type": "code",
      "source": [
        "final_output"
      ],
      "execution_count": 0,
      "outputs": [
        {
          "output_type": "execute_result",
          "data": {
            "text/plain": [
              "array([0.03626223], dtype=float32)"
            ]
          },
          "metadata": {
            "tags": []
          },
          "execution_count": 86
        }
      ]
    },
    {
      "metadata": {
        "id": "owVoUNOxB99D",
        "colab_type": "code",
        "outputId": "b3836635-cf4f-416b-83a6-53e5cce7f758",
        "colab": {
          "base_uri": "https://localhost:8080/",
          "height": 34
        }
      },
      "cell_type": "code",
      "source": [
        "hidden_layer_1 * model.get_weights()[3][0] + model.get_weights()[4]"
      ],
      "execution_count": 0,
      "outputs": [
        {
          "output_type": "execute_result",
          "data": {
            "text/plain": [
              "array([0.02046467], dtype=float32)"
            ]
          },
          "metadata": {
            "tags": []
          },
          "execution_count": 87
        }
      ]
    },
    {
      "metadata": {
        "id": "4OhH4K1PB91c",
        "colab_type": "code",
        "colab": {}
      },
      "cell_type": "code",
      "source": [
        ""
      ],
      "execution_count": 0,
      "outputs": []
    },
    {
      "metadata": {
        "id": "FC_0oo9kBYXP",
        "colab_type": "code",
        "outputId": "08785ac6-f66a-4580-c3af-a605aa644cea",
        "colab": {
          "base_uri": "https://localhost:8080/",
          "height": 51
        }
      },
      "cell_type": "code",
      "source": [
        "y"
      ],
      "execution_count": 0,
      "outputs": [
        {
          "output_type": "execute_result",
          "data": {
            "text/plain": [
              "array([[[0. ],\n",
              "        [0.5]]])"
            ]
          },
          "metadata": {
            "tags": []
          },
          "execution_count": 49
        }
      ]
    },
    {
      "metadata": {
        "id": "l31P73RrA_8u",
        "colab_type": "code",
        "colab": {}
      },
      "cell_type": "code",
      "source": [
        ""
      ],
      "execution_count": 0,
      "outputs": []
    },
    {
      "metadata": {
        "id": "J0R9ZrhhA_xe",
        "colab_type": "code",
        "colab": {}
      },
      "cell_type": "code",
      "source": [
        ""
      ],
      "execution_count": 0,
      "outputs": []
    },
    {
      "metadata": {
        "id": "MiyfgNOWAEjx",
        "colab_type": "code",
        "outputId": "ae02d191-ff2b-48c5-9901-5af0510baa40",
        "colab": {
          "base_uri": "https://localhost:8080/",
          "height": 34
        }
      },
      "cell_type": "code",
      "source": [
        "result.shape"
      ],
      "execution_count": 0,
      "outputs": [
        {
          "output_type": "execute_result",
          "data": {
            "text/plain": [
              "(1, 5, 1)"
            ]
          },
          "metadata": {
            "tags": []
          },
          "execution_count": 33
        }
      ]
    },
    {
      "metadata": {
        "id": "qo1Kezl7-ji_",
        "colab_type": "code",
        "outputId": "99765038-8d8b-42cf-a074-8b08e4ced636",
        "colab": {
          "base_uri": "https://localhost:8080/",
          "height": 442
        }
      },
      "cell_type": "code",
      "source": [
        "# train LSTM\n",
        "model.fit(X, y, epochs=10, batch_size=n_batch, verbose=2)\n",
        "# evaluate\n",
        "result = model.predict(X, batch_size=n_batch, verbose=0)\n",
        "for value in result[0,:,0]:\n",
        "\tprint('%.1f' % value)"
      ],
      "execution_count": 0,
      "outputs": [
        {
          "output_type": "stream",
          "text": [
            "Epoch 1/10\n",
            " - 1s - loss: 0.2982\n",
            "Epoch 2/10\n",
            " - 0s - loss: 0.2943\n",
            "Epoch 3/10\n",
            " - 0s - loss: 0.2905\n",
            "Epoch 4/10\n",
            " - 0s - loss: 0.2866\n",
            "Epoch 5/10\n",
            " - 0s - loss: 0.2828\n",
            "Epoch 6/10\n",
            " - 0s - loss: 0.2791\n",
            "Epoch 7/10\n",
            " - 0s - loss: 0.2753\n",
            "Epoch 8/10\n",
            " - 0s - loss: 0.2716\n",
            "Epoch 9/10\n",
            " - 0s - loss: 0.2679\n",
            "Epoch 10/10\n",
            " - 0s - loss: 0.2642\n",
            "0.0\n",
            "0.0\n",
            "-0.0\n",
            "-0.0\n",
            "-0.0\n"
          ],
          "name": "stdout"
        }
      ]
    },
    {
      "metadata": {
        "id": "OONYVnKY-rTv",
        "colab_type": "code",
        "outputId": "6a006ba4-9cdc-4cc7-a3dd-c0617bc20241",
        "colab": {
          "base_uri": "https://localhost:8080/",
          "height": 102
        }
      },
      "cell_type": "code",
      "source": [
        "model.weights"
      ],
      "execution_count": 0,
      "outputs": [
        {
          "output_type": "execute_result",
          "data": {
            "text/plain": [
              "[<tf.Variable 'lstm_11/kernel:0' shape=(1, 20) dtype=float32_ref>,\n",
              " <tf.Variable 'lstm_11/recurrent_kernel:0' shape=(5, 20) dtype=float32_ref>,\n",
              " <tf.Variable 'lstm_11/bias:0' shape=(20,) dtype=float32_ref>,\n",
              " <tf.Variable 'dense_3/kernel:0' shape=(5, 1) dtype=float32_ref>,\n",
              " <tf.Variable 'dense_3/bias:0' shape=(1,) dtype=float32_ref>]"
            ]
          },
          "metadata": {
            "tags": []
          },
          "execution_count": 28
        }
      ]
    },
    {
      "metadata": {
        "id": "O4fKIUBE-xot",
        "colab_type": "code",
        "outputId": "07bb663a-af8e-428a-b11a-59bdc228b87d",
        "colab": {
          "base_uri": "https://localhost:8080/",
          "height": 731
        }
      },
      "cell_type": "code",
      "source": [
        "model.get_weights()"
      ],
      "execution_count": 0,
      "outputs": [
        {
          "output_type": "execute_result",
          "data": {
            "text/plain": [
              "[array([[-0.4062789 , -0.19615704,  0.3040961 ,  0.04107479,  0.418955  ,\n",
              "          0.20863643,  0.2202466 , -0.45922732,  0.42719266,  0.10439701,\n",
              "         -0.37499163, -0.10766914, -0.4079143 ,  0.26807642, -0.14095676,\n",
              "         -0.15014175, -0.21194729,  0.31018722,  0.02566439,  0.2411718 ]],\n",
              "       dtype=float32),\n",
              " array([[-3.3847085e-01, -4.1197088e-01,  3.9774144e-01, -3.2600041e-02,\n",
              "         -2.9357016e-01,  2.4165198e-01, -1.9913433e-01, -1.5972325e-01,\n",
              "         -4.7611341e-02, -2.1787867e-01, -1.6926934e-01,  8.1794180e-02,\n",
              "         -1.7449659e-01, -2.4008021e-01, -2.4328016e-02, -3.1740549e-01,\n",
              "          1.7650011e-01,  1.7581573e-01,  7.7375181e-02,  1.6153188e-02],\n",
              "        [ 8.5580356e-02, -2.7733675e-01, -1.0733363e-01, -7.7101134e-02,\n",
              "         -3.3647496e-02,  2.1752062e-01,  5.8931813e-02,  1.5544024e-01,\n",
              "          5.3394157e-02, -1.4351451e-01,  3.0157241e-01,  6.4627632e-02,\n",
              "         -6.5746047e-02, -2.7889735e-01,  5.2349913e-01,  1.9322208e-01,\n",
              "          8.0057524e-02, -4.0228957e-01, -6.6045925e-02,  3.8477859e-01],\n",
              "        [-1.8806862e-02, -8.7531313e-02,  2.1320222e-01,  1.4910036e-01,\n",
              "          1.2888430e-01, -1.9712198e-01, -2.2221580e-01, -6.1177798e-02,\n",
              "          1.8979424e-01,  2.5314930e-01,  2.2367382e-01, -1.9590713e-01,\n",
              "          2.1770845e-01, -3.0181622e-02,  7.3148340e-02, -4.0173346e-01,\n",
              "         -1.6477364e-01, -4.1490683e-01,  4.6617523e-01, -4.3161709e-02],\n",
              "        [-1.1455747e-01, -1.7031517e-02, -1.9863047e-01,  7.5937927e-02,\n",
              "          1.2690116e-01,  2.0736282e-01,  7.0808694e-02,  3.9050430e-02,\n",
              "          2.5849310e-01,  8.4839769e-02, -5.0932342e-01, -2.3031929e-01,\n",
              "         -2.4299026e-02, -2.4049273e-01, -1.4205178e-02,  3.4341264e-01,\n",
              "          1.1661166e-01,  2.3718962e-02,  5.2403152e-01,  4.8005894e-02],\n",
              "        [ 2.5888196e-01, -5.2430239e-02,  1.3103883e-01, -2.8252869e-04,\n",
              "         -4.3428233e-01, -3.9863741e-01, -9.8831072e-02,  5.8398370e-02,\n",
              "          4.6666744e-01,  8.6050760e-03, -1.7804541e-01, -1.8038471e-01,\n",
              "         -7.7420563e-02,  6.8266004e-02, -2.0973800e-01,  9.7055703e-02,\n",
              "          2.7561179e-01, -1.7108373e-01, -2.0241408e-01,  2.4231707e-01]],\n",
              "       dtype=float32),\n",
              " array([-0.0099371 ,  0.0100765 ,  0.0100213 , -0.00991808,  0.01006315,\n",
              "         0.9900903 ,  1.0100906 ,  1.0100329 ,  0.9901183 ,  1.0100896 ,\n",
              "         0.00996346, -0.01006048, -0.01000069, -0.00995862, -0.00998743,\n",
              "        -0.00993385,  0.01007718,  0.01002258, -0.00991727,  0.01006347],\n",
              "       dtype=float32),\n",
              " array([[ 0.86689943],\n",
              "        [-0.15901507],\n",
              "        [-0.41040102],\n",
              "        [-0.72578794],\n",
              "        [-0.64009833]], dtype=float32),\n",
              " array([0.00997326], dtype=float32)]"
            ]
          },
          "metadata": {
            "tags": []
          },
          "execution_count": 29
        }
      ]
    },
    {
      "metadata": {
        "id": "rcE-UFZm-0HZ",
        "colab_type": "code",
        "colab": {}
      },
      "cell_type": "code",
      "source": [
        ""
      ],
      "execution_count": 0,
      "outputs": []
    }
  ]
}