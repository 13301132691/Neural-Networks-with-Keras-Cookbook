{
  "nbformat": 4,
  "nbformat_minor": 0,
  "metadata": {
    "colab": {
      "name": "Audio classification.ipynb",
      "version": "0.3.2",
      "provenance": [],
      "collapsed_sections": []
    },
    "kernelspec": {
      "name": "python3",
      "display_name": "Python 3"
    },
    "accelerator": "GPU"
  },
  "cells": [
    {
      "metadata": {
        "id": "PzEC15se0Koz",
        "colab_type": "text"
      },
      "cell_type": "markdown",
      "source": [
        "The recommened dataset to work is available here: https://urbansounddataset.weebly.com/urbansound8k.html"
      ]
    },
    {
      "metadata": {
        "id": "v0HyBumuEi1E",
        "colab_type": "code",
        "colab": {}
      },
      "cell_type": "code",
      "source": [
        "import pandas as pd\n",
        "data = pd.read_csv('...') # Refer to the location of downloaded file here"
      ],
      "execution_count": 0,
      "outputs": []
    },
    {
      "metadata": {
        "id": "KEXdWSqqCRf-",
        "colab_type": "code",
        "colab": {}
      },
      "cell_type": "code",
      "source": [
        "import librosa\n",
        "import numpy as np"
      ],
      "execution_count": 0,
      "outputs": []
    },
    {
      "metadata": {
        "id": "GUJjfbLBCXny",
        "colab_type": "code",
        "colab": {}
      },
      "cell_type": "code",
      "source": [
        "def extract_feature(file_name):\n",
        "    X, sample_rate = librosa.load(file_name)\n",
        "    stft = np.abs(librosa.stft(X))\n",
        "    mfccs = np.mean(librosa.feature.mfcc(y=X, sr=sample_rate, n_mfcc=40).T,axis=0)\n",
        "    chroma = np.mean(librosa.feature.chroma_stft(S=stft, sr=sample_rate).T,axis=0)\n",
        "    mel = np.mean(librosa.feature.melspectrogram(X, sr=sample_rate).T,axis=0)\n",
        "    contrast = np.mean(librosa.feature.spectral_contrast(S=stft, sr=sample_rate).T,axis=0)\n",
        "    tonnetz = np.mean(librosa.feature.tonnetz(y=librosa.effects.harmonic(X),\n",
        "    sr=sample_rate).T,axis=0)\n",
        "    return np.hstack([mfccs,chroma,mel,contrast,tonnetz])"
      ],
      "execution_count": 0,
      "outputs": []
    },
    {
      "metadata": {
        "id": "MR5V4veSFl_j",
        "colab_type": "code",
        "colab": {}
      },
      "cell_type": "code",
      "source": [
        "from glob import glob\n",
        "import numpy as np\n",
        "filenames = np.array(glob('/content/Train/*.wav'))"
      ],
      "execution_count": 0,
      "outputs": []
    },
    {
      "metadata": {
        "id": "CVoxeIgYJbTr",
        "colab_type": "code",
        "colab": {}
      },
      "cell_type": "code",
      "source": [
        "ids = data['ID'].values"
      ],
      "execution_count": 0,
      "outputs": []
    },
    {
      "metadata": {
        "id": "Dqzqa9D1HsXD",
        "colab_type": "code",
        "colab": {}
      },
      "cell_type": "code",
      "source": [
        "def extract_feature(file_name):\n",
        "    X, sample_rate = librosa.load(file_name)\n",
        "    stft = np.abs(librosa.stft(X))\n",
        "    mfccs = np.mean(librosa.feature.mfcc(y=X, sr=sample_rate, n_mfcc=40).T,axis=0)\n",
        "    return mfccs"
      ],
      "execution_count": 0,
      "outputs": []
    },
    {
      "metadata": {
        "id": "egnPK_nIFmCF",
        "colab_type": "code",
        "outputId": "0690a7d8-2e3d-4fa2-89c1-e72c28063b33",
        "colab": {
          "base_uri": "https://localhost:8080/",
          "height": 952
        }
      },
      "cell_type": "code",
      "source": [
        "x = []\n",
        "y = []\n",
        "for i in range(len(ids)):\n",
        "  if(i%100==0):\n",
        "    print(i)\n",
        "  try:\n",
        "    filename = '/content/Train/'+str(ids[i])+'.wav'\n",
        "    y.append(data[data['ID']==ids[i]]['Class'].values)\n",
        "    x.append(extract_feature(filename))\n",
        "  except:\n",
        "    continue\n",
        "  "
      ],
      "execution_count": 0,
      "outputs": [
        {
          "output_type": "stream",
          "text": [
            "0\n",
            "100\n",
            "200\n",
            "300\n",
            "400\n",
            "500\n",
            "600\n",
            "700\n",
            "800\n",
            "900\n",
            "1000\n",
            "1100\n",
            "1200\n",
            "1300\n",
            "1400\n",
            "1500\n",
            "1600\n",
            "1700\n",
            "1800\n",
            "1900\n",
            "2000\n",
            "2100\n",
            "2200\n",
            "2300\n",
            "2400\n",
            "2500\n",
            "2600\n",
            "2700\n",
            "2800\n",
            "2900\n",
            "3000\n",
            "3100\n",
            "3200\n",
            "3300\n",
            "3400\n",
            "3500\n",
            "3600\n",
            "3700\n",
            "3800\n",
            "3900\n",
            "4000\n",
            "4100\n",
            "4200\n",
            "4300\n",
            "4400\n",
            "4500\n",
            "4600\n",
            "4700\n",
            "4800\n",
            "4900\n",
            "5000\n",
            "5100\n",
            "5200\n",
            "5300\n",
            "5400\n"
          ],
          "name": "stdout"
        }
      ]
    },
    {
      "metadata": {
        "id": "OvhjtQigHfVj",
        "colab_type": "code",
        "outputId": "3bc16280-c1bf-4b8e-abc3-2427e83a2788",
        "colab": {
          "base_uri": "https://localhost:8080/",
          "height": 34
        }
      },
      "cell_type": "code",
      "source": [
        "np.array(x).shape"
      ],
      "execution_count": 0,
      "outputs": [
        {
          "output_type": "execute_result",
          "data": {
            "text/plain": [
              "(5435, 40)"
            ]
          },
          "metadata": {
            "tags": []
          },
          "execution_count": 11
        }
      ]
    },
    {
      "metadata": {
        "id": "QajCiV2jZLEb",
        "colab_type": "code",
        "colab": {}
      },
      "cell_type": "code",
      "source": [
        "y2 = []\n",
        "for i in range(len(y)):\n",
        "  y2.append(y[i][0])"
      ],
      "execution_count": 0,
      "outputs": []
    },
    {
      "metadata": {
        "id": "KdxCDKpAFGvV",
        "colab_type": "code",
        "outputId": "bcc98045-94ff-470f-99eb-ae8a86b687d4",
        "colab": {
          "base_uri": "https://localhost:8080/",
          "height": 34
        }
      },
      "cell_type": "code",
      "source": [
        "from keras.utils import to_categorical"
      ],
      "execution_count": 0,
      "outputs": [
        {
          "output_type": "stream",
          "text": [
            "Using TensorFlow backend.\n"
          ],
          "name": "stderr"
        }
      ]
    },
    {
      "metadata": {
        "id": "vtoZWrCdaTTk",
        "colab_type": "code",
        "colab": {}
      },
      "cell_type": "code",
      "source": [
        "y3 = np.array(pd.get_dummies(y2))"
      ],
      "execution_count": 0,
      "outputs": []
    },
    {
      "metadata": {
        "id": "DCp-jnM3Zygz",
        "colab_type": "code",
        "colab": {}
      },
      "cell_type": "code",
      "source": [
        "x = np.array(x)"
      ],
      "execution_count": 0,
      "outputs": []
    },
    {
      "metadata": {
        "id": "0AHqAGOmafy2",
        "colab_type": "code",
        "outputId": "46ac9f47-ae92-4506-8400-ec67ce99311c",
        "colab": {
          "base_uri": "https://localhost:8080/",
          "height": 34
        }
      },
      "cell_type": "code",
      "source": [
        "print(x.shape, y3.shape)"
      ],
      "execution_count": 0,
      "outputs": [
        {
          "output_type": "stream",
          "text": [
            "(5435, 40) (5435, 10)\n"
          ],
          "name": "stdout"
        }
      ]
    },
    {
      "metadata": {
        "id": "7nzzHWxuaxpM",
        "colab_type": "code",
        "colab": {}
      },
      "cell_type": "code",
      "source": [
        "x = x.reshape(x.shape[0],x.shape[1],1)"
      ],
      "execution_count": 0,
      "outputs": []
    },
    {
      "metadata": {
        "id": "ay8iWPt-86yH",
        "colab_type": "code",
        "colab": {}
      },
      "cell_type": "code",
      "source": [
        "x = x.reshape(x.shape[0],x.shape[1])"
      ],
      "execution_count": 0,
      "outputs": []
    },
    {
      "metadata": {
        "id": "ztOR8YddaiwD",
        "colab_type": "code",
        "colab": {}
      },
      "cell_type": "code",
      "source": [
        "import os\n",
        "import keras.backend as K\n",
        "from keras.models import Sequential, Model\n",
        "from keras.layers import Conv2D, ZeroPadding2D, BatchNormalization, Input, Dropout\n",
        "from keras.layers import Conv2DTranspose, Reshape, Activation, Cropping2D, Flatten\n",
        "from keras.layers import Concatenate\n",
        "from keras.layers.advanced_activations import LeakyReLU\n",
        "from keras.activations import relu\n",
        "from keras.initializers import RandomNormal\n",
        "from keras.layers import Embedding\n",
        "from keras.layers import LSTM, RepeatVector, TimeDistributed, Dense, Bidirectional"
      ],
      "execution_count": 0,
      "outputs": []
    },
    {
      "metadata": {
        "id": "Kah3J6pv89tt",
        "colab_type": "code",
        "outputId": "041a9c12-34ad-4d43-fe5e-338cf781ec01",
        "colab": {
          "base_uri": "https://localhost:8080/",
          "height": 204
        }
      },
      "cell_type": "code",
      "source": [
        "model = Sequential()\n",
        "model.add(Dense(1000, input_shape = (40,), activation = 'relu'))\n",
        "#model.add(Dense(1000,activation='relu'))\n",
        "model.add(Dense(10,activation='sigmoid'))\n",
        "model.summary()"
      ],
      "execution_count": 0,
      "outputs": [
        {
          "output_type": "stream",
          "text": [
            "_________________________________________________________________\n",
            "Layer (type)                 Output Shape              Param #   \n",
            "=================================================================\n",
            "dense_1 (Dense)              (None, 1000)              41000     \n",
            "_________________________________________________________________\n",
            "dense_2 (Dense)              (None, 10)                10010     \n",
            "=================================================================\n",
            "Total params: 51,010\n",
            "Trainable params: 51,010\n",
            "Non-trainable params: 0\n",
            "_________________________________________________________________\n"
          ],
          "name": "stdout"
        }
      ]
    },
    {
      "metadata": {
        "id": "JBjKDb5casMy",
        "colab_type": "code",
        "outputId": "52e7b8cb-9b2f-4bcf-8297-1998085c699c",
        "colab": {
          "base_uri": "https://localhost:8080/",
          "height": 272
        }
      },
      "cell_type": "code",
      "source": [
        "model = Sequential()\n",
        "model.add(Dense(1000, input_shape = (193,1), activation = 'relu'))\n",
        "model.add((LSTM(100)))\n",
        "model.add(Dense(1000,activation='relu'))\n",
        "model.add(Dense(10,activation='sigmoid'))\n",
        "model.summary()"
      ],
      "execution_count": 0,
      "outputs": [
        {
          "output_type": "stream",
          "text": [
            "_________________________________________________________________\n",
            "Layer (type)                 Output Shape              Param #   \n",
            "=================================================================\n",
            "dense_13 (Dense)             (None, 193, 1000)         2000      \n",
            "_________________________________________________________________\n",
            "lstm_5 (LSTM)                (None, 100)               440400    \n",
            "_________________________________________________________________\n",
            "dense_14 (Dense)             (None, 1000)              101000    \n",
            "_________________________________________________________________\n",
            "dense_15 (Dense)             (None, 10)                10010     \n",
            "=================================================================\n",
            "Total params: 553,410\n",
            "Trainable params: 553,410\n",
            "Non-trainable params: 0\n",
            "_________________________________________________________________\n"
          ],
          "name": "stdout"
        }
      ]
    },
    {
      "metadata": {
        "id": "7BIsWDhTa5Su",
        "colab_type": "code",
        "colab": {}
      },
      "cell_type": "code",
      "source": [
        "from keras.optimizers import Adam\n",
        "adam = Adam(lr=0.0001)\n",
        "model.compile(optimizer=adam, loss='categorical_crossentropy', metrics=['acc'])"
      ],
      "execution_count": 0,
      "outputs": []
    },
    {
      "metadata": {
        "id": "2OA88qoBCDrm",
        "colab_type": "code",
        "outputId": "12e810c4-3cb5-4bdd-dbc9-06998b7c9fb5",
        "colab": {
          "base_uri": "https://localhost:8080/",
          "height": 34
        }
      },
      "cell_type": "code",
      "source": [
        "np.max(x)"
      ],
      "execution_count": 0,
      "outputs": [
        {
          "output_type": "execute_result",
          "data": {
            "text/plain": [
              "263.54005695096265"
            ]
          },
          "metadata": {
            "tags": []
          },
          "execution_count": 23
        }
      ]
    },
    {
      "metadata": {
        "id": "UHlxxlyQa8rj",
        "colab_type": "code",
        "colab": {}
      },
      "cell_type": "code",
      "source": [
        "from sklearn.model_selection import train_test_split\n",
        "X_train, X_test, y_train, y_test = train_test_split(x, y3, test_size=0.30,random_state=10)"
      ],
      "execution_count": 0,
      "outputs": []
    },
    {
      "metadata": {
        "id": "SljPO6_CbB_-",
        "colab_type": "code",
        "outputId": "e7b977b1-5763-481e-8359-c7dd12b868b8",
        "colab": {
          "base_uri": "https://localhost:8080/",
          "height": 3451
        }
      },
      "cell_type": "code",
      "source": [
        "model.fit(X_train, y_train, epochs=100, batch_size=32, validation_data=(X_test, y_test), verbose = 1)"
      ],
      "execution_count": 0,
      "outputs": [
        {
          "output_type": "stream",
          "text": [
            "Train on 3804 samples, validate on 1631 samples\n",
            "Epoch 1/100\n",
            "3804/3804 [==============================] - 3s 750us/step - loss: 2.6400 - acc: 0.1207 - val_loss: 2.0312 - val_acc: 0.1337\n",
            "Epoch 2/100\n",
            "3804/3804 [==============================] - 1s 155us/step - loss: 1.9418 - acc: 0.1296 - val_loss: 1.8246 - val_acc: 0.1527\n",
            "Epoch 3/100\n",
            "3804/3804 [==============================] - 1s 158us/step - loss: 1.7654 - acc: 0.1562 - val_loss: 1.6738 - val_acc: 0.1717\n",
            "Epoch 4/100\n",
            "3804/3804 [==============================] - 1s 166us/step - loss: 1.5467 - acc: 0.2581 - val_loss: 1.3530 - val_acc: 0.4316\n",
            "Epoch 5/100\n",
            "3804/3804 [==============================] - 1s 166us/step - loss: 1.2187 - acc: 0.5602 - val_loss: 1.0379 - val_acc: 0.6383\n",
            "Epoch 6/100\n",
            "3804/3804 [==============================] - 1s 168us/step - loss: 1.0041 - acc: 0.6485 - val_loss: 0.9501 - val_acc: 0.6824\n",
            "Epoch 7/100\n",
            "3804/3804 [==============================] - 1s 165us/step - loss: 0.8735 - acc: 0.7095 - val_loss: 0.8983 - val_acc: 0.7124\n",
            "Epoch 8/100\n",
            "3804/3804 [==============================] - 1s 167us/step - loss: 0.8231 - acc: 0.7234 - val_loss: 0.8740 - val_acc: 0.7149\n",
            "Epoch 9/100\n",
            "3804/3804 [==============================] - 1s 165us/step - loss: 0.7773 - acc: 0.7432 - val_loss: 0.8079 - val_acc: 0.7155\n",
            "Epoch 10/100\n",
            "3804/3804 [==============================] - 1s 165us/step - loss: 0.7071 - acc: 0.7737 - val_loss: 0.8203 - val_acc: 0.7143\n",
            "Epoch 11/100\n",
            "3804/3804 [==============================] - 1s 166us/step - loss: 0.6724 - acc: 0.7818 - val_loss: 0.7514 - val_acc: 0.7609\n",
            "Epoch 12/100\n",
            "3804/3804 [==============================] - 1s 163us/step - loss: 0.6462 - acc: 0.7821 - val_loss: 0.7583 - val_acc: 0.7498\n",
            "Epoch 13/100\n",
            "3804/3804 [==============================] - 1s 166us/step - loss: 0.6023 - acc: 0.8039 - val_loss: 0.7182 - val_acc: 0.7468\n",
            "Epoch 14/100\n",
            "3804/3804 [==============================] - 1s 166us/step - loss: 0.5821 - acc: 0.8099 - val_loss: 0.6525 - val_acc: 0.7891\n",
            "Epoch 15/100\n",
            "3804/3804 [==============================] - 1s 163us/step - loss: 0.5447 - acc: 0.8291 - val_loss: 0.6563 - val_acc: 0.8007\n",
            "Epoch 16/100\n",
            "3804/3804 [==============================] - 1s 168us/step - loss: 0.5327 - acc: 0.8312 - val_loss: 0.6576 - val_acc: 0.7842\n",
            "Epoch 17/100\n",
            "3804/3804 [==============================] - 1s 162us/step - loss: 0.5034 - acc: 0.8423 - val_loss: 0.6209 - val_acc: 0.8020\n",
            "Epoch 18/100\n",
            "3804/3804 [==============================] - 1s 167us/step - loss: 0.4856 - acc: 0.8486 - val_loss: 0.5902 - val_acc: 0.8155\n",
            "Epoch 19/100\n",
            "3804/3804 [==============================] - 1s 166us/step - loss: 0.4659 - acc: 0.8525 - val_loss: 0.6071 - val_acc: 0.8032\n",
            "Epoch 20/100\n",
            "3804/3804 [==============================] - 1s 162us/step - loss: 0.4731 - acc: 0.8530 - val_loss: 0.5861 - val_acc: 0.8130\n",
            "Epoch 21/100\n",
            "3804/3804 [==============================] - 1s 167us/step - loss: 0.4426 - acc: 0.8565 - val_loss: 0.5714 - val_acc: 0.8240\n",
            "Epoch 22/100\n",
            "3804/3804 [==============================] - 1s 166us/step - loss: 0.4192 - acc: 0.8641 - val_loss: 0.5432 - val_acc: 0.8381\n",
            "Epoch 23/100\n",
            "3804/3804 [==============================] - 1s 165us/step - loss: 0.4122 - acc: 0.8707 - val_loss: 0.5972 - val_acc: 0.8081\n",
            "Epoch 24/100\n",
            "3804/3804 [==============================] - 1s 167us/step - loss: 0.3843 - acc: 0.8833 - val_loss: 0.5224 - val_acc: 0.8320\n",
            "Epoch 25/100\n",
            "3804/3804 [==============================] - 1s 165us/step - loss: 0.3793 - acc: 0.8820 - val_loss: 0.5270 - val_acc: 0.8400\n",
            "Epoch 26/100\n",
            "3804/3804 [==============================] - 1s 164us/step - loss: 0.3700 - acc: 0.8906 - val_loss: 0.6158 - val_acc: 0.7946\n",
            "Epoch 27/100\n",
            "3804/3804 [==============================] - 1s 166us/step - loss: 0.3646 - acc: 0.8938 - val_loss: 0.5034 - val_acc: 0.8510\n",
            "Epoch 28/100\n",
            "3804/3804 [==============================] - 1s 165us/step - loss: 0.3453 - acc: 0.8983 - val_loss: 0.4940 - val_acc: 0.8492\n",
            "Epoch 29/100\n",
            "3804/3804 [==============================] - 1s 167us/step - loss: 0.3432 - acc: 0.8977 - val_loss: 0.5019 - val_acc: 0.8400\n",
            "Epoch 30/100\n",
            "3804/3804 [==============================] - 1s 163us/step - loss: 0.3386 - acc: 0.8985 - val_loss: 0.5715 - val_acc: 0.8283\n",
            "Epoch 31/100\n",
            "3804/3804 [==============================] - 1s 169us/step - loss: 0.3539 - acc: 0.8870 - val_loss: 0.4787 - val_acc: 0.8522\n",
            "Epoch 32/100\n",
            "3804/3804 [==============================] - 1s 173us/step - loss: 0.3096 - acc: 0.9093 - val_loss: 0.4695 - val_acc: 0.8504\n",
            "Epoch 33/100\n",
            "3804/3804 [==============================] - 1s 165us/step - loss: 0.3061 - acc: 0.9146 - val_loss: 0.5120 - val_acc: 0.8443\n",
            "Epoch 34/100\n",
            "3804/3804 [==============================] - 1s 168us/step - loss: 0.3153 - acc: 0.9006 - val_loss: 0.5041 - val_acc: 0.8351\n",
            "Epoch 35/100\n",
            "3804/3804 [==============================] - 1s 168us/step - loss: 0.2912 - acc: 0.9135 - val_loss: 0.4850 - val_acc: 0.8492\n",
            "Epoch 36/100\n",
            "3804/3804 [==============================] - 1s 167us/step - loss: 0.2711 - acc: 0.9227 - val_loss: 0.4493 - val_acc: 0.8627\n",
            "Epoch 37/100\n",
            "3804/3804 [==============================] - 1s 168us/step - loss: 0.2782 - acc: 0.9138 - val_loss: 0.4416 - val_acc: 0.8676\n",
            "Epoch 38/100\n",
            "3804/3804 [==============================] - 1s 167us/step - loss: 0.2554 - acc: 0.9290 - val_loss: 0.4598 - val_acc: 0.8645\n",
            "Epoch 39/100\n",
            "3804/3804 [==============================] - 1s 165us/step - loss: 0.2555 - acc: 0.9272 - val_loss: 0.4570 - val_acc: 0.8700\n",
            "Epoch 40/100\n",
            "3804/3804 [==============================] - 1s 167us/step - loss: 0.2434 - acc: 0.9338 - val_loss: 0.4397 - val_acc: 0.8651\n",
            "Epoch 41/100\n",
            "3804/3804 [==============================] - 1s 166us/step - loss: 0.2449 - acc: 0.9256 - val_loss: 0.4543 - val_acc: 0.8719\n",
            "Epoch 42/100\n",
            "3804/3804 [==============================] - 1s 168us/step - loss: 0.2332 - acc: 0.9351 - val_loss: 0.4236 - val_acc: 0.8761\n",
            "Epoch 43/100\n",
            "3804/3804 [==============================] - 1s 167us/step - loss: 0.2229 - acc: 0.9411 - val_loss: 0.4117 - val_acc: 0.8749\n",
            "Epoch 44/100\n",
            "3804/3804 [==============================] - 1s 162us/step - loss: 0.2170 - acc: 0.9374 - val_loss: 0.4121 - val_acc: 0.8829\n",
            "Epoch 45/100\n",
            "3804/3804 [==============================] - 1s 166us/step - loss: 0.2138 - acc: 0.9409 - val_loss: 0.4342 - val_acc: 0.8627\n",
            "Epoch 46/100\n",
            "3804/3804 [==============================] - 1s 163us/step - loss: 0.2152 - acc: 0.9382 - val_loss: 0.4490 - val_acc: 0.8657\n",
            "Epoch 47/100\n",
            "3804/3804 [==============================] - 1s 166us/step - loss: 0.2101 - acc: 0.9398 - val_loss: 0.4177 - val_acc: 0.8700\n",
            "Epoch 48/100\n",
            "3804/3804 [==============================] - 1s 168us/step - loss: 0.2139 - acc: 0.9351 - val_loss: 0.4071 - val_acc: 0.8780\n",
            "Epoch 49/100\n",
            "3804/3804 [==============================] - 1s 163us/step - loss: 0.1966 - acc: 0.9466 - val_loss: 0.4175 - val_acc: 0.8798\n",
            "Epoch 50/100\n",
            "3804/3804 [==============================] - 1s 167us/step - loss: 0.1902 - acc: 0.9487 - val_loss: 0.4157 - val_acc: 0.8755\n",
            "Epoch 51/100\n",
            "3804/3804 [==============================] - 1s 164us/step - loss: 0.1851 - acc: 0.9516 - val_loss: 0.3971 - val_acc: 0.8835\n",
            "Epoch 52/100\n",
            "3804/3804 [==============================] - 1s 167us/step - loss: 0.1831 - acc: 0.9485 - val_loss: 0.3999 - val_acc: 0.8823\n",
            "Epoch 53/100\n",
            "3804/3804 [==============================] - 1s 165us/step - loss: 0.1724 - acc: 0.9543 - val_loss: 0.3874 - val_acc: 0.8872\n",
            "Epoch 54/100\n",
            "3804/3804 [==============================] - 1s 166us/step - loss: 0.1764 - acc: 0.9543 - val_loss: 0.3966 - val_acc: 0.8835\n",
            "Epoch 55/100\n",
            "3804/3804 [==============================] - 1s 167us/step - loss: 0.1784 - acc: 0.9482 - val_loss: 0.3980 - val_acc: 0.8927\n",
            "Epoch 56/100\n",
            "3804/3804 [==============================] - 1s 168us/step - loss: 0.1660 - acc: 0.9566 - val_loss: 0.3758 - val_acc: 0.8933\n",
            "Epoch 57/100\n",
            "3804/3804 [==============================] - 1s 166us/step - loss: 0.1566 - acc: 0.9574 - val_loss: 0.3785 - val_acc: 0.8878\n",
            "Epoch 58/100\n",
            "3804/3804 [==============================] - 1s 168us/step - loss: 0.1697 - acc: 0.9503 - val_loss: 0.4016 - val_acc: 0.8811\n",
            "Epoch 59/100\n",
            "3804/3804 [==============================] - 1s 164us/step - loss: 0.1521 - acc: 0.9598 - val_loss: 0.3717 - val_acc: 0.8958\n",
            "Epoch 60/100\n",
            "3804/3804 [==============================] - 1s 167us/step - loss: 0.1509 - acc: 0.9595 - val_loss: 0.3921 - val_acc: 0.8866\n",
            "Epoch 61/100\n",
            "3804/3804 [==============================] - 1s 166us/step - loss: 0.1543 - acc: 0.9606 - val_loss: 0.3790 - val_acc: 0.8933\n",
            "Epoch 62/100\n",
            "3804/3804 [==============================] - 1s 167us/step - loss: 0.1400 - acc: 0.9632 - val_loss: 0.3873 - val_acc: 0.8903\n",
            "Epoch 63/100\n",
            "3804/3804 [==============================] - 1s 164us/step - loss: 0.1437 - acc: 0.9611 - val_loss: 0.3739 - val_acc: 0.8958\n",
            "Epoch 64/100\n",
            "3804/3804 [==============================] - 1s 167us/step - loss: 0.1353 - acc: 0.9637 - val_loss: 0.4057 - val_acc: 0.8817\n",
            "Epoch 65/100\n",
            "3804/3804 [==============================] - 1s 168us/step - loss: 0.1308 - acc: 0.9687 - val_loss: 0.3896 - val_acc: 0.8878\n",
            "Epoch 66/100\n",
            "3804/3804 [==============================] - 1s 167us/step - loss: 0.1247 - acc: 0.9698 - val_loss: 0.3812 - val_acc: 0.8921\n",
            "Epoch 67/100\n",
            "3804/3804 [==============================] - 1s 164us/step - loss: 0.1210 - acc: 0.9703 - val_loss: 0.3805 - val_acc: 0.8964\n",
            "Epoch 68/100\n",
            "3804/3804 [==============================] - 1s 167us/step - loss: 0.1208 - acc: 0.9695 - val_loss: 0.3648 - val_acc: 0.8921\n",
            "Epoch 69/100\n",
            "3804/3804 [==============================] - 1s 167us/step - loss: 0.1152 - acc: 0.9698 - val_loss: 0.3606 - val_acc: 0.9007\n",
            "Epoch 70/100\n",
            "3804/3804 [==============================] - 1s 166us/step - loss: 0.1115 - acc: 0.9737 - val_loss: 0.3620 - val_acc: 0.8958\n",
            "Epoch 71/100\n",
            "3804/3804 [==============================] - 1s 167us/step - loss: 0.1113 - acc: 0.9727 - val_loss: 0.3429 - val_acc: 0.9044\n",
            "Epoch 72/100\n",
            "3804/3804 [==============================] - 1s 162us/step - loss: 0.1020 - acc: 0.9769 - val_loss: 0.3496 - val_acc: 0.9013\n",
            "Epoch 73/100\n",
            "3804/3804 [==============================] - 1s 167us/step - loss: 0.1191 - acc: 0.9687 - val_loss: 0.3373 - val_acc: 0.9037\n",
            "Epoch 74/100\n",
            "3804/3804 [==============================] - 1s 166us/step - loss: 0.1062 - acc: 0.9729 - val_loss: 0.3711 - val_acc: 0.8896\n",
            "Epoch 75/100\n",
            "3804/3804 [==============================] - 1s 162us/step - loss: 0.1010 - acc: 0.9737 - val_loss: 0.3289 - val_acc: 0.9031\n",
            "Epoch 76/100\n",
            "3804/3804 [==============================] - 1s 166us/step - loss: 0.0979 - acc: 0.9763 - val_loss: 0.3396 - val_acc: 0.8988\n",
            "Epoch 77/100\n",
            "3804/3804 [==============================] - 1s 172us/step - loss: 0.0978 - acc: 0.9750 - val_loss: 0.3535 - val_acc: 0.8988\n",
            "Epoch 78/100\n",
            "3804/3804 [==============================] - 1s 165us/step - loss: 0.0909 - acc: 0.9792 - val_loss: 0.3362 - val_acc: 0.9068\n",
            "Epoch 79/100\n",
            "3804/3804 [==============================] - 1s 163us/step - loss: 0.0842 - acc: 0.9826 - val_loss: 0.3458 - val_acc: 0.9007\n",
            "Epoch 80/100\n",
            "3804/3804 [==============================] - 1s 163us/step - loss: 0.0951 - acc: 0.9779 - val_loss: 0.3327 - val_acc: 0.9025\n",
            "Epoch 81/100\n",
            "3804/3804 [==============================] - 1s 167us/step - loss: 0.0819 - acc: 0.9811 - val_loss: 0.3289 - val_acc: 0.9050\n",
            "Epoch 82/100\n",
            "3804/3804 [==============================] - 1s 167us/step - loss: 0.0836 - acc: 0.9805 - val_loss: 0.3457 - val_acc: 0.8933\n",
            "Epoch 83/100\n",
            "3804/3804 [==============================] - 1s 164us/step - loss: 0.0903 - acc: 0.9784 - val_loss: 0.3501 - val_acc: 0.9031\n",
            "Epoch 84/100\n",
            "3804/3804 [==============================] - 1s 168us/step - loss: 0.0853 - acc: 0.9795 - val_loss: 0.3514 - val_acc: 0.9050\n",
            "Epoch 85/100\n",
            "3804/3804 [==============================] - 1s 164us/step - loss: 0.0857 - acc: 0.9792 - val_loss: 0.3204 - val_acc: 0.9099\n",
            "Epoch 86/100\n",
            "3804/3804 [==============================] - 1s 167us/step - loss: 0.0727 - acc: 0.9848 - val_loss: 0.3213 - val_acc: 0.9142\n",
            "Epoch 87/100\n",
            "3804/3804 [==============================] - 1s 164us/step - loss: 0.0782 - acc: 0.9813 - val_loss: 0.3393 - val_acc: 0.9074\n",
            "Epoch 88/100\n",
            "3804/3804 [==============================] - 1s 165us/step - loss: 0.0761 - acc: 0.9829 - val_loss: 0.3218 - val_acc: 0.9086\n",
            "Epoch 89/100\n",
            "3804/3804 [==============================] - 1s 165us/step - loss: 0.0678 - acc: 0.9858 - val_loss: 0.3276 - val_acc: 0.9111\n",
            "Epoch 90/100\n",
            "3804/3804 [==============================] - 1s 166us/step - loss: 0.0749 - acc: 0.9816 - val_loss: 0.3391 - val_acc: 0.9080\n",
            "Epoch 91/100\n",
            "3804/3804 [==============================] - 1s 163us/step - loss: 0.0679 - acc: 0.9853 - val_loss: 0.3423 - val_acc: 0.9050\n",
            "Epoch 92/100\n",
            "3804/3804 [==============================] - 1s 168us/step - loss: 0.0681 - acc: 0.9837 - val_loss: 0.3293 - val_acc: 0.9056\n",
            "Epoch 93/100\n",
            "3804/3804 [==============================] - 1s 165us/step - loss: 0.0637 - acc: 0.9869 - val_loss: 0.3166 - val_acc: 0.9129\n",
            "Epoch 94/100\n",
            "3804/3804 [==============================] - 1s 165us/step - loss: 0.0621 - acc: 0.9876 - val_loss: 0.3616 - val_acc: 0.9013\n",
            "Epoch 95/100\n",
            "3804/3804 [==============================] - 1s 169us/step - loss: 0.0586 - acc: 0.9882 - val_loss: 0.3351 - val_acc: 0.9068\n",
            "Epoch 96/100\n",
            "3804/3804 [==============================] - 1s 163us/step - loss: 0.0725 - acc: 0.9811 - val_loss: 0.3572 - val_acc: 0.9013\n",
            "Epoch 97/100\n",
            "3804/3804 [==============================] - 1s 170us/step - loss: 0.0574 - acc: 0.9874 - val_loss: 0.3280 - val_acc: 0.9172\n",
            "Epoch 98/100\n",
            "3804/3804 [==============================] - 1s 163us/step - loss: 0.0560 - acc: 0.9895 - val_loss: 0.3076 - val_acc: 0.9209\n",
            "Epoch 99/100\n",
            "3804/3804 [==============================] - 1s 166us/step - loss: 0.0562 - acc: 0.9879 - val_loss: 0.3326 - val_acc: 0.9050\n",
            "Epoch 100/100\n",
            "3804/3804 [==============================] - 1s 165us/step - loss: 0.0524 - acc: 0.9890 - val_loss: 0.3256 - val_acc: 0.9111\n"
          ],
          "name": "stdout"
        },
        {
          "output_type": "execute_result",
          "data": {
            "text/plain": [
              "<keras.callbacks.History at 0x7fdc2d35d9e8>"
            ]
          },
          "metadata": {
            "tags": []
          },
          "execution_count": 26
        }
      ]
    },
    {
      "metadata": {
        "id": "3sLZY8aT9bu6",
        "colab_type": "code",
        "colab": {}
      },
      "cell_type": "code",
      "source": [
        ""
      ],
      "execution_count": 0,
      "outputs": []
    }
  ]
}