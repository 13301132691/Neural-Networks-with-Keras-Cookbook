{
  "nbformat": 4,
  "nbformat_minor": 0,
  "metadata": {
    "colab": {
      "name": "Chapter 3 - stock price prediction.ipynb",
      "version": "0.3.2",
      "provenance": [],
      "collapsed_sections": []
    },
    "kernelspec": {
      "name": "python3",
      "display_name": "Python 3"
    },
    "accelerator": "GPU"
  },
  "cells": [
    {
      "metadata": {
        "id": "5Y3bHRRwG66w",
        "colab_type": "code",
        "outputId": "9b1c741e-6650-4ae9-ba22-05609f19352c",
        "colab": {
          "base_uri": "https://localhost:8080/",
          "height": 377
        }
      },
      "cell_type": "code",
      "source": [
        "!wget https://www.dropbox.com/s/6fab2uqje8e5bf5/stock_data.csv"
      ],
      "execution_count": 0,
      "outputs": [
        {
          "output_type": "stream",
          "text": [
            "--2019-01-04 05:48:13--  https://www.dropbox.com/s/6fab2uqje8e5bf5/stock_data.csv\n",
            "Resolving www.dropbox.com (www.dropbox.com)... 162.125.65.1, 2620:100:6021:1::a27d:4101\n",
            "Connecting to www.dropbox.com (www.dropbox.com)|162.125.65.1|:443... connected.\n",
            "HTTP request sent, awaiting response... 301 Moved Permanently\n",
            "Location: /s/raw/6fab2uqje8e5bf5/stock_data.csv [following]\n",
            "--2019-01-04 05:48:13--  https://www.dropbox.com/s/raw/6fab2uqje8e5bf5/stock_data.csv\n",
            "Reusing existing connection to www.dropbox.com:443.\n",
            "HTTP request sent, awaiting response... 302 Found\n",
            "Location: https://uce517c10fd655eed4d393f3fd66.dl.dropboxusercontent.com/cd/0/inline/AYvmD-eJiN-yAP6GDyus8JrwgSdjDCVvN5jF7XhRlwb5RT97Qwo2fps6qhaIfQGa4beKlLXwaVDdS8Q8VintPed_uIbMQMcaCjybbtmZQ5y0lSpsESRv2J1yoDcDm7kcQtaMRtIWW3EZpJKkYrlNLwFOABJd66fYSGFxdVQrUgLpavVYbwCkENLtbg8J3ZIUNao/file [following]\n",
            "--2019-01-04 05:48:13--  https://uce517c10fd655eed4d393f3fd66.dl.dropboxusercontent.com/cd/0/inline/AYvmD-eJiN-yAP6GDyus8JrwgSdjDCVvN5jF7XhRlwb5RT97Qwo2fps6qhaIfQGa4beKlLXwaVDdS8Q8VintPed_uIbMQMcaCjybbtmZQ5y0lSpsESRv2J1yoDcDm7kcQtaMRtIWW3EZpJKkYrlNLwFOABJd66fYSGFxdVQrUgLpavVYbwCkENLtbg8J3ZIUNao/file\n",
            "Resolving uce517c10fd655eed4d393f3fd66.dl.dropboxusercontent.com (uce517c10fd655eed4d393f3fd66.dl.dropboxusercontent.com)... 162.125.65.6, 2620:100:6021:6::a27d:4106\n",
            "Connecting to uce517c10fd655eed4d393f3fd66.dl.dropboxusercontent.com (uce517c10fd655eed4d393f3fd66.dl.dropboxusercontent.com)|162.125.65.6|:443... connected.\n",
            "HTTP request sent, awaiting response... 200 OK\n",
            "Length: 169042 (165K) [text/plain]\n",
            "Saving to: ‘stock_data.csv’\n",
            "\n",
            "\rstock_data.csv        0%[                    ]       0  --.-KB/s               \rstock_data.csv       91%[=================>  ] 150.91K   721KB/s               \rstock_data.csv      100%[===================>] 165.08K   786KB/s    in 0.2s    \n",
            "\n",
            "2019-01-04 05:48:14 (786 KB/s) - ‘stock_data.csv’ saved [169042/169042]\n",
            "\n"
          ],
          "name": "stdout"
        }
      ]
    },
    {
      "metadata": {
        "id": "PwDDtBaaG9yk",
        "colab_type": "code",
        "colab": {}
      },
      "cell_type": "code",
      "source": [
        "import pandas as pd\n",
        "data2 = pd.read_csv('/content/stock_data.csv')"
      ],
      "execution_count": 0,
      "outputs": []
    },
    {
      "metadata": {
        "id": "YNeCh6WaHAUI",
        "colab_type": "code",
        "colab": {}
      },
      "cell_type": "code",
      "source": [
        "x= []\n",
        "y = []\n",
        "for i in range(data2.shape[0]-5):\n",
        " x.append(data2.loc[i:(i+4)]['Close'].values)\n",
        " y.append(data2.loc[i+5]['Close'])"
      ],
      "execution_count": 0,
      "outputs": []
    },
    {
      "metadata": {
        "id": "gKy5nnl2HCSs",
        "colab_type": "code",
        "colab": {}
      },
      "cell_type": "code",
      "source": [
        "import numpy as np\n",
        "x = np.array(x)\n",
        "y = np.array(y)"
      ],
      "execution_count": 0,
      "outputs": []
    },
    {
      "metadata": {
        "id": "_n6WsLHeHG05",
        "colab_type": "code",
        "colab": {}
      },
      "cell_type": "code",
      "source": [
        "from sklearn.model_selection import train_test_split\n",
        "X_train, X_test, y_train, y_test = train_test_split(x, y, test_size=0.30,random_state=10)"
      ],
      "execution_count": 0,
      "outputs": []
    },
    {
      "metadata": {
        "id": "K3LPeDekHKEo",
        "colab_type": "code",
        "outputId": "8e78cd55-f7b5-47f2-b324-dc21b2cfb1cf",
        "colab": {
          "base_uri": "https://localhost:8080/",
          "height": 221
        }
      },
      "cell_type": "code",
      "source": [
        "from keras.layers import Dense\n",
        "from keras.models import Sequential, Model\n",
        "model = Sequential()\n",
        "model.add(Dense(100, input_dim = 5, activation = 'relu'))\n",
        "model.add(Dense(1,activation='linear'))\n",
        "model.summary()"
      ],
      "execution_count": 0,
      "outputs": [
        {
          "output_type": "stream",
          "text": [
            "Using TensorFlow backend.\n"
          ],
          "name": "stderr"
        },
        {
          "output_type": "stream",
          "text": [
            "_________________________________________________________________\n",
            "Layer (type)                 Output Shape              Param #   \n",
            "=================================================================\n",
            "dense_1 (Dense)              (None, 100)               600       \n",
            "_________________________________________________________________\n",
            "dense_2 (Dense)              (None, 1)                 101       \n",
            "=================================================================\n",
            "Total params: 701\n",
            "Trainable params: 701\n",
            "Non-trainable params: 0\n",
            "_________________________________________________________________\n"
          ],
          "name": "stdout"
        }
      ]
    },
    {
      "metadata": {
        "id": "aQTaFw1QH2PT",
        "colab_type": "code",
        "colab": {}
      },
      "cell_type": "code",
      "source": [
        "model.compile(optimizer='adam', loss='mean_squared_error')"
      ],
      "execution_count": 0,
      "outputs": []
    },
    {
      "metadata": {
        "id": "0VH_MaksHOsQ",
        "colab_type": "code",
        "outputId": "f68f7d45-db8c-434f-ca6d-86a5e66cd4ff",
        "colab": {
          "base_uri": "https://localhost:8080/",
          "height": 3451
        }
      },
      "cell_type": "code",
      "source": [
        "model.fit(X_train, y_train, epochs=100, batch_size=64, validation_data=(X_test, y_test), verbose = 1)"
      ],
      "execution_count": 0,
      "outputs": [
        {
          "output_type": "stream",
          "text": [
            "Train on 1579 samples, validate on 677 samples\n",
            "Epoch 1/100\n",
            "1579/1579 [==============================] - 2s 1ms/step - loss: 133650.8578 - val_loss: 1510.8221\n",
            "Epoch 2/100\n",
            "1579/1579 [==============================] - 0s 71us/step - loss: 3386.9168 - val_loss: 1551.8139\n",
            "Epoch 3/100\n",
            "1579/1579 [==============================] - 0s 77us/step - loss: 646.6516 - val_loss: 546.1717\n",
            "Epoch 4/100\n",
            "1579/1579 [==============================] - 0s 71us/step - loss: 451.7747 - val_loss: 476.3091\n",
            "Epoch 5/100\n",
            "1579/1579 [==============================] - 0s 74us/step - loss: 441.2901 - val_loss: 455.9048\n",
            "Epoch 6/100\n",
            "1579/1579 [==============================] - 0s 69us/step - loss: 436.7432 - val_loss: 458.0513\n",
            "Epoch 7/100\n",
            "1579/1579 [==============================] - 0s 72us/step - loss: 437.3226 - val_loss: 454.5097\n",
            "Epoch 8/100\n",
            "1579/1579 [==============================] - 0s 70us/step - loss: 439.4474 - val_loss: 452.7269\n",
            "Epoch 9/100\n",
            "1579/1579 [==============================] - 0s 70us/step - loss: 437.5184 - val_loss: 452.0548\n",
            "Epoch 10/100\n",
            "1579/1579 [==============================] - 0s 71us/step - loss: 435.6988 - val_loss: 453.1925\n",
            "Epoch 11/100\n",
            "1579/1579 [==============================] - 0s 69us/step - loss: 435.2134 - val_loss: 461.5284\n",
            "Epoch 12/100\n",
            "1579/1579 [==============================] - 0s 77us/step - loss: 432.4928 - val_loss: 449.8396\n",
            "Epoch 13/100\n",
            "1579/1579 [==============================] - 0s 70us/step - loss: 442.0190 - val_loss: 451.4050\n",
            "Epoch 14/100\n",
            "1579/1579 [==============================] - 0s 72us/step - loss: 436.9298 - val_loss: 449.3152\n",
            "Epoch 15/100\n",
            "1579/1579 [==============================] - 0s 71us/step - loss: 433.2715 - val_loss: 453.3328\n",
            "Epoch 16/100\n",
            "1579/1579 [==============================] - 0s 70us/step - loss: 434.5904 - val_loss: 446.9849\n",
            "Epoch 17/100\n",
            "1579/1579 [==============================] - 0s 70us/step - loss: 429.9436 - val_loss: 445.6353\n",
            "Epoch 18/100\n",
            "1579/1579 [==============================] - 0s 73us/step - loss: 441.7538 - val_loss: 451.9210\n",
            "Epoch 19/100\n",
            "1579/1579 [==============================] - 0s 72us/step - loss: 427.4274 - val_loss: 447.8052\n",
            "Epoch 20/100\n",
            "1579/1579 [==============================] - 0s 70us/step - loss: 427.0232 - val_loss: 442.5060\n",
            "Epoch 21/100\n",
            "1579/1579 [==============================] - 0s 75us/step - loss: 427.2419 - val_loss: 441.7420\n",
            "Epoch 22/100\n",
            "1579/1579 [==============================] - 0s 71us/step - loss: 431.5513 - val_loss: 446.0585\n",
            "Epoch 23/100\n",
            "1579/1579 [==============================] - 0s 70us/step - loss: 424.3902 - val_loss: 448.1073\n",
            "Epoch 24/100\n",
            "1579/1579 [==============================] - 0s 70us/step - loss: 425.7798 - val_loss: 448.4024\n",
            "Epoch 25/100\n",
            "1579/1579 [==============================] - 0s 68us/step - loss: 422.7132 - val_loss: 438.2285\n",
            "Epoch 26/100\n",
            "1579/1579 [==============================] - 0s 71us/step - loss: 420.3980 - val_loss: 444.9930\n",
            "Epoch 27/100\n",
            "1579/1579 [==============================] - 0s 69us/step - loss: 419.8926 - val_loss: 435.4774\n",
            "Epoch 28/100\n",
            "1579/1579 [==============================] - 0s 68us/step - loss: 431.3184 - val_loss: 433.5421\n",
            "Epoch 29/100\n",
            "1579/1579 [==============================] - 0s 69us/step - loss: 433.2942 - val_loss: 433.4200\n",
            "Epoch 30/100\n",
            "1579/1579 [==============================] - 0s 78us/step - loss: 414.1037 - val_loss: 431.3870\n",
            "Epoch 31/100\n",
            "1579/1579 [==============================] - 0s 69us/step - loss: 414.9156 - val_loss: 434.8269\n",
            "Epoch 32/100\n",
            "1579/1579 [==============================] - 0s 70us/step - loss: 417.6392 - val_loss: 442.2685\n",
            "Epoch 33/100\n",
            "1579/1579 [==============================] - 0s 71us/step - loss: 421.7497 - val_loss: 436.9423\n",
            "Epoch 34/100\n",
            "1579/1579 [==============================] - 0s 71us/step - loss: 412.1415 - val_loss: 426.5017\n",
            "Epoch 35/100\n",
            "1579/1579 [==============================] - 0s 70us/step - loss: 424.6894 - val_loss: 428.0960\n",
            "Epoch 36/100\n",
            "1579/1579 [==============================] - 0s 70us/step - loss: 408.5096 - val_loss: 425.5900\n",
            "Epoch 37/100\n",
            "1579/1579 [==============================] - 0s 71us/step - loss: 411.5949 - val_loss: 422.1814\n",
            "Epoch 38/100\n",
            "1579/1579 [==============================] - 0s 69us/step - loss: 404.6171 - val_loss: 425.9592\n",
            "Epoch 39/100\n",
            "1579/1579 [==============================] - 0s 76us/step - loss: 406.9442 - val_loss: 422.2326\n",
            "Epoch 40/100\n",
            "1579/1579 [==============================] - 0s 69us/step - loss: 401.7351 - val_loss: 423.2380\n",
            "Epoch 41/100\n",
            "1579/1579 [==============================] - 0s 69us/step - loss: 403.3018 - val_loss: 420.6035\n",
            "Epoch 42/100\n",
            "1579/1579 [==============================] - 0s 69us/step - loss: 398.6120 - val_loss: 422.2842\n",
            "Epoch 43/100\n",
            "1579/1579 [==============================] - 0s 76us/step - loss: 405.0983 - val_loss: 429.0688\n",
            "Epoch 44/100\n",
            "1579/1579 [==============================] - 0s 68us/step - loss: 420.0243 - val_loss: 468.0874\n",
            "Epoch 45/100\n",
            "1579/1579 [==============================] - 0s 70us/step - loss: 408.5792 - val_loss: 414.7596\n",
            "Epoch 46/100\n",
            "1579/1579 [==============================] - 0s 71us/step - loss: 400.4951 - val_loss: 411.1755\n",
            "Epoch 47/100\n",
            "1579/1579 [==============================] - 0s 69us/step - loss: 407.7053 - val_loss: 409.0062\n",
            "Epoch 48/100\n",
            "1579/1579 [==============================] - 0s 74us/step - loss: 404.2607 - val_loss: 444.5736\n",
            "Epoch 49/100\n",
            "1579/1579 [==============================] - 0s 70us/step - loss: 397.7020 - val_loss: 404.5672\n",
            "Epoch 50/100\n",
            "1579/1579 [==============================] - 0s 69us/step - loss: 388.8078 - val_loss: 403.1042\n",
            "Epoch 51/100\n",
            "1579/1579 [==============================] - 0s 69us/step - loss: 385.0304 - val_loss: 410.0703\n",
            "Epoch 52/100\n",
            "1579/1579 [==============================] - 0s 69us/step - loss: 388.1916 - val_loss: 400.9763\n",
            "Epoch 53/100\n",
            "1579/1579 [==============================] - 0s 70us/step - loss: 396.7685 - val_loss: 427.8689\n",
            "Epoch 54/100\n",
            "1579/1579 [==============================] - 0s 72us/step - loss: 407.0858 - val_loss: 438.0123\n",
            "Epoch 55/100\n",
            "1579/1579 [==============================] - 0s 74us/step - loss: 386.7115 - val_loss: 407.2497\n",
            "Epoch 56/100\n",
            "1579/1579 [==============================] - 0s 69us/step - loss: 379.5385 - val_loss: 393.7500\n",
            "Epoch 57/100\n",
            "1579/1579 [==============================] - 0s 75us/step - loss: 376.9245 - val_loss: 395.2604\n",
            "Epoch 58/100\n",
            "1579/1579 [==============================] - 0s 72us/step - loss: 380.3180 - val_loss: 410.2576\n",
            "Epoch 59/100\n",
            "1579/1579 [==============================] - 0s 69us/step - loss: 380.2616 - val_loss: 407.5248\n",
            "Epoch 60/100\n",
            "1579/1579 [==============================] - 0s 70us/step - loss: 376.2925 - val_loss: 389.0748\n",
            "Epoch 61/100\n",
            "1579/1579 [==============================] - 0s 71us/step - loss: 373.3638 - val_loss: 390.5302\n",
            "Epoch 62/100\n",
            "1579/1579 [==============================] - 0s 70us/step - loss: 390.6439 - val_loss: 386.5832\n",
            "Epoch 63/100\n",
            "1579/1579 [==============================] - 0s 71us/step - loss: 368.2027 - val_loss: 382.6256\n",
            "Epoch 64/100\n",
            "1579/1579 [==============================] - 0s 70us/step - loss: 377.6834 - val_loss: 393.8082\n",
            "Epoch 65/100\n",
            "1579/1579 [==============================] - 0s 72us/step - loss: 367.6053 - val_loss: 390.0003\n",
            "Epoch 66/100\n",
            "1579/1579 [==============================] - 0s 75us/step - loss: 372.1332 - val_loss: 426.3332\n",
            "Epoch 67/100\n",
            "1579/1579 [==============================] - 0s 71us/step - loss: 383.7296 - val_loss: 379.1772\n",
            "Epoch 68/100\n",
            "1579/1579 [==============================] - 0s 70us/step - loss: 361.5856 - val_loss: 374.4878\n",
            "Epoch 69/100\n",
            "1579/1579 [==============================] - 0s 71us/step - loss: 359.2942 - val_loss: 383.8835\n",
            "Epoch 70/100\n",
            "1579/1579 [==============================] - 0s 71us/step - loss: 362.3635 - val_loss: 372.0698\n",
            "Epoch 71/100\n",
            "1579/1579 [==============================] - 0s 72us/step - loss: 367.2990 - val_loss: 392.1939\n",
            "Epoch 72/100\n",
            "1579/1579 [==============================] - 0s 76us/step - loss: 357.2127 - val_loss: 386.6843\n",
            "Epoch 73/100\n",
            "1579/1579 [==============================] - 0s 71us/step - loss: 366.2038 - val_loss: 382.5771\n",
            "Epoch 74/100\n",
            "1579/1579 [==============================] - 0s 70us/step - loss: 358.9135 - val_loss: 366.3847\n",
            "Epoch 75/100\n",
            "1579/1579 [==============================] - 0s 78us/step - loss: 364.2960 - val_loss: 370.4916\n",
            "Epoch 76/100\n",
            "1579/1579 [==============================] - 0s 70us/step - loss: 355.7650 - val_loss: 370.1797\n",
            "Epoch 77/100\n",
            "1579/1579 [==============================] - 0s 70us/step - loss: 360.4167 - val_loss: 383.5847\n",
            "Epoch 78/100\n",
            "1579/1579 [==============================] - 0s 71us/step - loss: 374.7228 - val_loss: 365.5864\n",
            "Epoch 79/100\n",
            "1579/1579 [==============================] - 0s 69us/step - loss: 343.1749 - val_loss: 357.5013\n",
            "Epoch 80/100\n",
            "1579/1579 [==============================] - 0s 69us/step - loss: 338.7155 - val_loss: 387.3912\n",
            "Epoch 81/100\n",
            "1579/1579 [==============================] - 0s 71us/step - loss: 350.0892 - val_loss: 356.3809\n",
            "Epoch 82/100\n",
            "1579/1579 [==============================] - 0s 69us/step - loss: 339.7124 - val_loss: 369.2696\n",
            "Epoch 83/100\n",
            "1579/1579 [==============================] - 0s 70us/step - loss: 355.7055 - val_loss: 365.0375\n",
            "Epoch 84/100\n",
            "1579/1579 [==============================] - 0s 75us/step - loss: 351.3070 - val_loss: 348.9002\n",
            "Epoch 85/100\n",
            "1579/1579 [==============================] - 0s 72us/step - loss: 352.8751 - val_loss: 372.9102\n",
            "Epoch 86/100\n",
            "1579/1579 [==============================] - 0s 70us/step - loss: 331.6297 - val_loss: 348.1086\n",
            "Epoch 87/100\n",
            "1579/1579 [==============================] - 0s 68us/step - loss: 329.9319 - val_loss: 345.6823\n",
            "Epoch 88/100\n",
            "1579/1579 [==============================] - 0s 70us/step - loss: 340.0103 - val_loss: 448.1846\n",
            "Epoch 89/100\n",
            "1579/1579 [==============================] - 0s 70us/step - loss: 336.7051 - val_loss: 345.1589\n",
            "Epoch 90/100\n",
            "1579/1579 [==============================] - 0s 71us/step - loss: 330.4092 - val_loss: 388.6053\n",
            "Epoch 91/100\n",
            "1579/1579 [==============================] - 0s 71us/step - loss: 351.8183 - val_loss: 349.1328\n",
            "Epoch 92/100\n",
            "1579/1579 [==============================] - 0s 71us/step - loss: 329.5237 - val_loss: 339.7139\n",
            "Epoch 93/100\n",
            "1579/1579 [==============================] - 0s 76us/step - loss: 339.8800 - val_loss: 340.8454\n",
            "Epoch 94/100\n",
            "1579/1579 [==============================] - 0s 69us/step - loss: 321.5222 - val_loss: 360.4169\n",
            "Epoch 95/100\n",
            "1579/1579 [==============================] - 0s 69us/step - loss: 317.1154 - val_loss: 331.8280\n",
            "Epoch 96/100\n",
            "1579/1579 [==============================] - 0s 73us/step - loss: 322.7872 - val_loss: 336.0511\n",
            "Epoch 97/100\n",
            "1579/1579 [==============================] - 0s 71us/step - loss: 324.9110 - val_loss: 330.6499\n",
            "Epoch 98/100\n",
            "1579/1579 [==============================] - 0s 71us/step - loss: 329.2064 - val_loss: 339.2840\n",
            "Epoch 99/100\n",
            "1579/1579 [==============================] - 0s 70us/step - loss: 323.5034 - val_loss: 375.0005\n",
            "Epoch 100/100\n",
            "1579/1579 [==============================] - 0s 73us/step - loss: 319.5919 - val_loss: 329.0416\n"
          ],
          "name": "stdout"
        },
        {
          "output_type": "execute_result",
          "data": {
            "text/plain": [
              "<keras.callbacks.History at 0x7ffacbaa1f98>"
            ]
          },
          "metadata": {
            "tags": []
          },
          "execution_count": 8
        }
      ]
    },
    {
      "metadata": {
        "id": "YpUeH2ENZ4Bq",
        "colab_type": "code",
        "colab": {}
      },
      "cell_type": "code",
      "source": [
        "from bs4 import BeautifulSoup\n",
        "import urllib, json"
      ],
      "execution_count": 0,
      "outputs": []
    },
    {
      "metadata": {
        "id": "h4pquNhuZ6kv",
        "colab_type": "code",
        "outputId": "a3af0127-ffe1-4930-d6df-edd33ce38358",
        "colab": {
          "base_uri": "https://localhost:8080/",
          "height": 136
        }
      },
      "cell_type": "code",
      "source": [
        "dates = []\n",
        "titles = []\n",
        "for i in range(100):\n",
        "  try:\n",
        "    url = 'https://content.guardianapis.com/search?from-date=2010-01-01&section=business&page-size=200&order-by=newest&page='+str(i+1)+'&q=amazon&api-key=207b6047-a2a6-4dd2-813b-5cd006b780d7'\n",
        "    response = urllib.request.urlopen(url)\n",
        "    encoding = response.info().get_content_charset('utf8')\n",
        "    data = json.loads(response.read().decode(encoding))\n",
        "    print(i)\n",
        "    for j in range(len(data['response']['results'])):\n",
        "      dates.append(data['response']['results'][j]['webPublicationDate'])\n",
        "      titles.append(data['response']['results'][j]['webTitle'])  \n",
        "  except:\n",
        "    break"
      ],
      "execution_count": 0,
      "outputs": [
        {
          "output_type": "stream",
          "text": [
            "0\n",
            "1\n",
            "2\n",
            "3\n",
            "4\n",
            "5\n",
            "6\n"
          ],
          "name": "stdout"
        }
      ]
    },
    {
      "metadata": {
        "id": "jOxK0c5rZ9aH",
        "colab_type": "code",
        "colab": {}
      },
      "cell_type": "code",
      "source": [
        "import pandas as pd\n",
        "data = pd.DataFrame(dates, titles)"
      ],
      "execution_count": 0,
      "outputs": []
    },
    {
      "metadata": {
        "id": "ulAYpE87Z_a5",
        "colab_type": "code",
        "colab": {}
      },
      "cell_type": "code",
      "source": [
        "data = data.reset_index()\n",
        "data.columns = ['title','date']"
      ],
      "execution_count": 0,
      "outputs": []
    },
    {
      "metadata": {
        "id": "VbnScL2uaDG3",
        "colab_type": "code",
        "colab": {}
      },
      "cell_type": "code",
      "source": [
        "data['date']=data['date'].str[:10]"
      ],
      "execution_count": 0,
      "outputs": []
    },
    {
      "metadata": {
        "id": "3Rjxkad6aFAD",
        "colab_type": "code",
        "colab": {}
      },
      "cell_type": "code",
      "source": [
        "data['date']=pd.to_datetime(data['date'], format = '%Y-%m-%d')"
      ],
      "execution_count": 0,
      "outputs": []
    },
    {
      "metadata": {
        "id": "hHoLTUIhaGeE",
        "colab_type": "code",
        "colab": {}
      },
      "cell_type": "code",
      "source": [
        "data = data.sort_values(by='date')"
      ],
      "execution_count": 0,
      "outputs": []
    },
    {
      "metadata": {
        "id": "pbNMjcyyaIIM",
        "colab_type": "code",
        "colab": {}
      },
      "cell_type": "code",
      "source": [
        "data_final = data.groupby('date').first().reset_index()"
      ],
      "execution_count": 0,
      "outputs": []
    },
    {
      "metadata": {
        "id": "fBH0--RFaJjG",
        "colab_type": "code",
        "colab": {}
      },
      "cell_type": "code",
      "source": [
        "data2['Date'] = pd.to_datetime(data2['Date'],format='%Y-%m-%d')"
      ],
      "execution_count": 0,
      "outputs": []
    },
    {
      "metadata": {
        "id": "uHfaYdCYaP6Y",
        "colab_type": "code",
        "colab": {}
      },
      "cell_type": "code",
      "source": [
        "data3 = pd.merge(data2,data_final, left_on = 'Date', right_on = 'date', how='left')"
      ],
      "execution_count": 0,
      "outputs": []
    },
    {
      "metadata": {
        "id": "6Aarus3_eJJU",
        "colab_type": "code",
        "outputId": "192a541d-1ee1-44ac-fa97-4b52b1e862ca",
        "colab": {
          "base_uri": "https://localhost:8080/",
          "height": 34
        }
      },
      "cell_type": "code",
      "source": [
        "data2.shape"
      ],
      "execution_count": 0,
      "outputs": [
        {
          "output_type": "execute_result",
          "data": {
            "text/plain": [
              "(2261, 7)"
            ]
          },
          "metadata": {
            "tags": []
          },
          "execution_count": 72
        }
      ]
    },
    {
      "metadata": {
        "id": "HQAqIWeEd7Eb",
        "colab_type": "code",
        "outputId": "fb1d4cb8-313b-4113-d329-2aa53f02a42b",
        "colab": {
          "base_uri": "https://localhost:8080/",
          "height": 34
        }
      },
      "cell_type": "code",
      "source": [
        "data3.shape"
      ],
      "execution_count": 0,
      "outputs": [
        {
          "output_type": "execute_result",
          "data": {
            "text/plain": [
              "(2261, 9)"
            ]
          },
          "metadata": {
            "tags": []
          },
          "execution_count": 67
        }
      ]
    },
    {
      "metadata": {
        "id": "jolqiCJ2aRY_",
        "colab_type": "code",
        "outputId": "dd4ee5f2-88df-4fb6-982a-e63ae460ee40",
        "colab": {
          "base_uri": "https://localhost:8080/",
          "height": 51
        }
      },
      "cell_type": "code",
      "source": [
        "import nltk\n",
        "import re\n",
        "nltk.download('stopwords')\n",
        "stop = nltk.corpus.stopwords.words('english')\n",
        "def preprocess(text):\n",
        "    text = str(text)\n",
        "    text=text.lower()\n",
        "    text=re.sub('[^0-9a-zA-Z]+',' ',text)\n",
        "    words = text.split()\n",
        "    words2=[w for w in words if (w not in stop)]\n",
        "    #words3=[ps.stem(w) for w in words]\n",
        "    words4=' '.join(words2)\n",
        "    return(words4)\n",
        "data3['title'] = data3['title'].apply(preprocess)"
      ],
      "execution_count": 0,
      "outputs": [
        {
          "output_type": "stream",
          "text": [
            "[nltk_data] Downloading package stopwords to /root/nltk_data...\n",
            "[nltk_data]   Package stopwords is already up-to-date!\n"
          ],
          "name": "stdout"
        }
      ]
    },
    {
      "metadata": {
        "id": "9OjIfVIwaS5t",
        "colab_type": "code",
        "colab": {}
      },
      "cell_type": "code",
      "source": [
        "data3['title']=np.where(data3['title'].isnull(),'-','-'+data3['title'])"
      ],
      "execution_count": 0,
      "outputs": []
    },
    {
      "metadata": {
        "id": "pRF-4hRxaUro",
        "colab_type": "code",
        "colab": {}
      },
      "cell_type": "code",
      "source": [
        "docs = data3['title'].values"
      ],
      "execution_count": 0,
      "outputs": []
    },
    {
      "metadata": {
        "id": "0KwD59MXaWil",
        "colab_type": "code",
        "colab": {}
      },
      "cell_type": "code",
      "source": [
        "from collections import Counter\n",
        "counts = Counter()\n",
        "for i,review in enumerate(docs):\n",
        "  counts.update(review.split())\n",
        "words = sorted(counts, key=counts.get, reverse=True)\n",
        "vocab_size=len(words)\n",
        "word_to_int = {word: i for i, word in enumerate(words, 1)}\n",
        "encoded_docs = []\n",
        "for doc in docs:\n",
        "  encoded_docs.append([word_to_int[word] for word in doc.split()])"
      ],
      "execution_count": 0,
      "outputs": []
    },
    {
      "metadata": {
        "id": "36tz3BW7d2K6",
        "colab_type": "code",
        "outputId": "41b30d20-1d29-46ef-9c6d-ddd3f2dba2ac",
        "colab": {
          "base_uri": "https://localhost:8080/",
          "height": 34
        }
      },
      "cell_type": "code",
      "source": [
        "docs.shape"
      ],
      "execution_count": 0,
      "outputs": [
        {
          "output_type": "execute_result",
          "data": {
            "text/plain": [
              "(2261,)"
            ]
          },
          "metadata": {
            "tags": []
          },
          "execution_count": 66
        }
      ]
    },
    {
      "metadata": {
        "id": "BUxiFUexaX8S",
        "colab_type": "code",
        "outputId": "10a42157-8c59-4fc8-8c59-78770cd426cd",
        "colab": {
          "base_uri": "https://localhost:8080/",
          "height": 34
        }
      },
      "cell_type": "code",
      "source": [
        "vocab_size"
      ],
      "execution_count": 0,
      "outputs": [
        {
          "output_type": "execute_result",
          "data": {
            "text/plain": [
              "2405"
            ]
          },
          "metadata": {
            "tags": []
          },
          "execution_count": 36
        }
      ]
    },
    {
      "metadata": {
        "id": "wYP4h4XGaaQp",
        "colab_type": "code",
        "colab": {}
      },
      "cell_type": "code",
      "source": [
        "import numpy as np\n",
        "def vectorize_sequences(sequences, dimension=vocab_size):\n",
        "     results = np.zeros((len(sequences), dimension+1))\n",
        "     for i, sequence in enumerate(sequences):\n",
        "         results[i, sequence] = 1.\n",
        "     return results"
      ],
      "execution_count": 0,
      "outputs": []
    },
    {
      "metadata": {
        "id": "bFLitTu1ajnL",
        "colab_type": "code",
        "colab": {}
      },
      "cell_type": "code",
      "source": [
        "vectorized_docs = vectorize_sequences(encoded_docs)"
      ],
      "execution_count": 0,
      "outputs": []
    },
    {
      "metadata": {
        "id": "iWHyW9D5ar7H",
        "colab_type": "code",
        "outputId": "714740bd-46af-46d0-c9d1-d9678ea86e8e",
        "colab": {
          "base_uri": "https://localhost:8080/",
          "height": 34
        }
      },
      "cell_type": "code",
      "source": [
        "vectorized_docs.shape"
      ],
      "execution_count": 0,
      "outputs": [
        {
          "output_type": "execute_result",
          "data": {
            "text/plain": [
              "(2261, 2406)"
            ]
          },
          "metadata": {
            "tags": []
          },
          "execution_count": 39
        }
      ]
    },
    {
      "metadata": {
        "id": "nwHdv-PAb4qA",
        "colab_type": "code",
        "colab": {
          "base_uri": "https://localhost:8080/",
          "height": 34
        },
        "outputId": "6c37f425-6c14-4799-ccf2-8aad5b6453f3"
      },
      "cell_type": "code",
      "source": [
        "from keras.layers import Dense, Input\n",
        "from keras import Model\n",
        "import keras.backend as K"
      ],
      "execution_count": 1,
      "outputs": [
        {
          "output_type": "stream",
          "text": [
            "Using TensorFlow backend.\n"
          ],
          "name": "stderr"
        }
      ]
    },
    {
      "metadata": {
        "id": "wL6QyRrJbPYk",
        "colab_type": "code",
        "colab": {
          "base_uri": "https://localhost:8080/",
          "height": 88
        },
        "outputId": "c8dddcf8-835c-4b3d-f32e-bebad4f4c1ef"
      },
      "cell_type": "code",
      "source": [
        "input1 = Input(shape=(2406,))\n",
        "model = (Dense(100, activation='relu'))(input1)\n",
        "model = (Dense(1, activation='tanh'))(model)"
      ],
      "execution_count": 2,
      "outputs": [
        {
          "output_type": "stream",
          "text": [
            "WARNING:tensorflow:From /usr/local/lib/python3.6/dist-packages/tensorflow/python/framework/op_def_library.py:263: colocate_with (from tensorflow.python.framework.ops) is deprecated and will be removed in a future version.\n",
            "Instructions for updating:\n",
            "Colocations handled automatically by placer.\n"
          ],
          "name": "stdout"
        }
      ]
    },
    {
      "metadata": {
        "id": "1RTER7subvX8",
        "colab_type": "code",
        "colab": {}
      },
      "cell_type": "code",
      "source": [
        "input2 = Input(shape=(5,))\n",
        "model2 = (Dense(100, activation='relu'))(input2)\n",
        "model2 = (Dense(1, activation='linear'))(model2)"
      ],
      "execution_count": 0,
      "outputs": []
    },
    {
      "metadata": {
        "id": "jnfQR81fb_hf",
        "colab_type": "code",
        "colab": {}
      },
      "cell_type": "code",
      "source": [
        "from keras.layers import multiply\n",
        "out = multiply([model, model2])"
      ],
      "execution_count": 0,
      "outputs": []
    },
    {
      "metadata": {
        "id": "qs6MEvjUcNJm",
        "colab_type": "code",
        "outputId": "5e370681-65c5-401e-8f33-0f817a70db57",
        "colab": {
          "base_uri": "https://localhost:8080/",
          "height": 391
        }
      },
      "cell_type": "code",
      "source": [
        "model = Model([input1, input2], out)\n",
        "model.summary()"
      ],
      "execution_count": 5,
      "outputs": [
        {
          "output_type": "stream",
          "text": [
            "__________________________________________________________________________________________________\n",
            "Layer (type)                    Output Shape         Param #     Connected to                     \n",
            "==================================================================================================\n",
            "input_1 (InputLayer)            (None, 2406)         0                                            \n",
            "__________________________________________________________________________________________________\n",
            "input_2 (InputLayer)            (None, 5)            0                                            \n",
            "__________________________________________________________________________________________________\n",
            "dense_1 (Dense)                 (None, 100)          240700      input_1[0][0]                    \n",
            "__________________________________________________________________________________________________\n",
            "dense_3 (Dense)                 (None, 100)          600         input_2[0][0]                    \n",
            "__________________________________________________________________________________________________\n",
            "dense_2 (Dense)                 (None, 1)            101         dense_1[0][0]                    \n",
            "__________________________________________________________________________________________________\n",
            "dense_4 (Dense)                 (None, 1)            101         dense_3[0][0]                    \n",
            "__________________________________________________________________________________________________\n",
            "multiply_1 (Multiply)           (None, 1)            0           dense_2[0][0]                    \n",
            "                                                                 dense_4[0][0]                    \n",
            "==================================================================================================\n",
            "Total params: 241,502\n",
            "Trainable params: 241,502\n",
            "Non-trainable params: 0\n",
            "__________________________________________________________________________________________________\n"
          ],
          "name": "stdout"
        }
      ]
    },
    {
      "metadata": {
        "id": "FlrwKERH5JtD",
        "colab_type": "code",
        "colab": {
          "base_uri": "https://localhost:8080/",
          "height": 151
        },
        "outputId": "a9c2009c-e1ac-4d9e-979d-391503445d8e"
      },
      "cell_type": "code",
      "source": [
        "!apt install graphviz\n",
        "!pip install pydot pydot-ng"
      ],
      "execution_count": 6,
      "outputs": [
        {
          "output_type": "stream",
          "text": [
            "Reading package lists... Done\n",
            "Building dependency tree       \n",
            "Reading state information... Done\n",
            "graphviz is already the newest version (2.40.1-2).\n",
            "0 upgraded, 0 newly installed, 0 to remove and 8 not upgraded.\n",
            "Requirement already satisfied: pydot in /usr/local/lib/python3.6/dist-packages (1.3.0)\n",
            "Requirement already satisfied: pydot-ng in /usr/local/lib/python3.6/dist-packages (2.0.0)\n",
            "Requirement already satisfied: pyparsing>=2.1.4 in /usr/local/lib/python3.6/dist-packages (from pydot) (2.3.1)\n"
          ],
          "name": "stdout"
        }
      ]
    },
    {
      "metadata": {
        "id": "ZXmn76ne52U9",
        "colab_type": "code",
        "colab": {}
      },
      "cell_type": "code",
      "source": [
        "from keras.models import Model\n",
        "from keras.layers import Input, Dense\n",
        "from keras.utils import plot_model"
      ],
      "execution_count": 0,
      "outputs": []
    },
    {
      "metadata": {
        "id": "XwkonZju542n",
        "colab_type": "code",
        "colab": {
          "base_uri": "https://localhost:8080/",
          "height": 219
        },
        "outputId": "1c63e454-7172-40e0-c7e8-d7d235bc9645"
      },
      "cell_type": "code",
      "source": [
        "plot_model(model, show_shapes=True, show_layer_names=True, to_file='model.png')\n",
        "from IPython.display import Image\n",
        "Image(retina=True, filename='model.png')"
      ],
      "execution_count": 8,
      "outputs": [
        {
          "output_type": "execute_result",
          "data": {
            "image/png": "[encoded data removed]",
            "text/plain": [
              "<IPython.core.display.Image object>"
            ]
          },
          "metadata": {
            "tags": [],
            "image/png": {
              "width": 383,
              "height": 202
            }
          },
          "execution_count": 8
        }
      ]
    },
    {
      "metadata": {
        "id": "VkrmrAutcP4-",
        "colab_type": "code",
        "colab": {}
      },
      "cell_type": "code",
      "source": [
        "x1 = np.array(x)\n",
        "x2 = np.array(vectorized_docs[5:])\n",
        "y = np.array(y)"
      ],
      "execution_count": 0,
      "outputs": []
    },
    {
      "metadata": {
        "id": "NE7-M__VcvBt",
        "colab_type": "code",
        "outputId": "f88a6f18-5a27-4829-9098-c8445cf9862b",
        "colab": {
          "base_uri": "https://localhost:8080/",
          "height": 34
        }
      },
      "cell_type": "code",
      "source": [
        "print(x1.shape, x2.shape, y.shape)"
      ],
      "execution_count": 0,
      "outputs": [
        {
          "output_type": "stream",
          "text": [
            "(2256, 5) (2256, 2406) (2256,)\n"
          ],
          "name": "stdout"
        }
      ]
    },
    {
      "metadata": {
        "id": "DOjQJVBacqXu",
        "colab_type": "code",
        "colab": {}
      },
      "cell_type": "code",
      "source": [
        "X1_train = x1[:2100,:]\n",
        "X2_train = x2[:2100, :]\n",
        "y_train = y[:2100]\n",
        "\n",
        "X1_test = x1[2100:,:]\n",
        "X2_test = x2[2100:,:]\n",
        "y_test = y[2100:]"
      ],
      "execution_count": 0,
      "outputs": []
    },
    {
      "metadata": {
        "id": "-4FFPDHndnbU",
        "colab_type": "code",
        "outputId": "a4583c98-06fe-424d-e20f-2c3985af876d",
        "colab": {
          "base_uri": "https://localhost:8080/",
          "height": 34
        }
      },
      "cell_type": "code",
      "source": [
        "print(X1_test.shape, X2_test.shape, y_test.shape)"
      ],
      "execution_count": 0,
      "outputs": [
        {
          "output_type": "stream",
          "text": [
            "(156, 5) (156, 2406) (156,)\n"
          ],
          "name": "stdout"
        }
      ]
    },
    {
      "metadata": {
        "id": "RwuITD_-dGni",
        "colab_type": "code",
        "colab": {}
      },
      "cell_type": "code",
      "source": [
        "model.compile(optimizer='adam', loss='mean_squared_error', metrics=['acc'])"
      ],
      "execution_count": 0,
      "outputs": []
    },
    {
      "metadata": {
        "id": "YTo70qGWc1fJ",
        "colab_type": "code",
        "outputId": "34cd4a5f-7525-43b5-f36b-5b97880921c2",
        "colab": {
          "base_uri": "https://localhost:8080/",
          "height": 13651
        }
      },
      "cell_type": "code",
      "source": [
        "model.fit(x=[X2_train, X1_train], y=y_train, epochs=400,batch_size = 32, validation_data = ([X2_test, X1_test], y_test))"
      ],
      "execution_count": 0,
      "outputs": [
        {
          "output_type": "stream",
          "text": [
            "Train on 2100 samples, validate on 156 samples\n",
            "Epoch 1/400\n",
            "2100/2100 [==============================] - 0s 205us/step - loss: 82.9811 - acc: 0.0019 - val_loss: 5740.7854 - val_acc: 0.0000e+00\n",
            "Epoch 2/400\n",
            "2100/2100 [==============================] - 0s 200us/step - loss: 83.9892 - acc: 0.0014 - val_loss: 5148.0213 - val_acc: 0.0000e+00\n",
            "Epoch 3/400\n",
            "2100/2100 [==============================] - 0s 202us/step - loss: 90.1018 - acc: 0.0038 - val_loss: 4459.2365 - val_acc: 0.0000e+00\n",
            "Epoch 4/400\n",
            "2100/2100 [==============================] - 0s 183us/step - loss: 97.0022 - acc: 0.0014 - val_loss: 4608.7379 - val_acc: 0.0000e+00\n",
            "Epoch 5/400\n",
            "2100/2100 [==============================] - 0s 213us/step - loss: 109.7494 - acc: 0.0019 - val_loss: 4663.9670 - val_acc: 0.0000e+00\n",
            "Epoch 6/400\n",
            "2100/2100 [==============================] - 0s 186us/step - loss: 147.1527 - acc: 4.7619e-04 - val_loss: 4358.9167 - val_acc: 0.0000e+00\n",
            "Epoch 7/400\n",
            "2100/2100 [==============================] - 0s 192us/step - loss: 108.1919 - acc: 4.7619e-04 - val_loss: 3542.6667 - val_acc: 0.0000e+00\n",
            "Epoch 8/400\n",
            "2100/2100 [==============================] - 0s 199us/step - loss: 101.3732 - acc: 0.0019 - val_loss: 4723.8136 - val_acc: 0.0000e+00\n",
            "Epoch 9/400\n",
            "2100/2100 [==============================] - 0s 195us/step - loss: 93.0963 - acc: 9.5238e-04 - val_loss: 7377.1325 - val_acc: 0.0000e+00\n",
            "Epoch 10/400\n",
            "2100/2100 [==============================] - 0s 200us/step - loss: 103.7798 - acc: 0.0014 - val_loss: 3533.8353 - val_acc: 0.0000e+00\n",
            "Epoch 11/400\n",
            "2100/2100 [==============================] - 0s 197us/step - loss: 98.3825 - acc: 9.5238e-04 - val_loss: 3609.1093 - val_acc: 0.0000e+00\n",
            "Epoch 12/400\n",
            "2100/2100 [==============================] - 0s 193us/step - loss: 98.7600 - acc: 4.7619e-04 - val_loss: 3277.4988 - val_acc: 0.0000e+00\n",
            "Epoch 13/400\n",
            "2100/2100 [==============================] - 0s 198us/step - loss: 105.2152 - acc: 0.0019 - val_loss: 2932.0433 - val_acc: 0.0000e+00\n",
            "Epoch 14/400\n",
            "2100/2100 [==============================] - 0s 195us/step - loss: 113.8619 - acc: 0.0019 - val_loss: 3236.5358 - val_acc: 0.0000e+00\n",
            "Epoch 15/400\n",
            "2100/2100 [==============================] - 0s 198us/step - loss: 100.9791 - acc: 0.0019 - val_loss: 3522.6784 - val_acc: 0.0000e+00\n",
            "Epoch 16/400\n",
            "2100/2100 [==============================] - 0s 197us/step - loss: 88.9747 - acc: 0.0014 - val_loss: 3244.0333 - val_acc: 0.0000e+00\n",
            "Epoch 17/400\n",
            "2100/2100 [==============================] - 0s 196us/step - loss: 88.1675 - acc: 9.5238e-04 - val_loss: 3424.5743 - val_acc: 0.0000e+00\n",
            "Epoch 18/400\n",
            "2100/2100 [==============================] - 0s 205us/step - loss: 95.2298 - acc: 0.0019 - val_loss: 3008.0201 - val_acc: 0.0000e+00\n",
            "Epoch 19/400\n",
            "2100/2100 [==============================] - 0s 194us/step - loss: 86.4176 - acc: 0.0029 - val_loss: 3193.6300 - val_acc: 0.0000e+00\n",
            "Epoch 20/400\n",
            "2100/2100 [==============================] - 0s 201us/step - loss: 134.5867 - acc: 0.0019 - val_loss: 4116.0256 - val_acc: 0.0000e+00\n",
            "Epoch 21/400\n",
            "2100/2100 [==============================] - 0s 196us/step - loss: 118.9950 - acc: 0.0014 - val_loss: 2662.6922 - val_acc: 0.0000e+00\n",
            "Epoch 22/400\n",
            "2100/2100 [==============================] - 0s 197us/step - loss: 101.8420 - acc: 0.0029 - val_loss: 2340.2723 - val_acc: 0.0000e+00\n",
            "Epoch 23/400\n",
            "2100/2100 [==============================] - 0s 202us/step - loss: 108.6767 - acc: 0.0000e+00 - val_loss: 2642.2679 - val_acc: 0.0000e+00\n",
            "Epoch 24/400\n",
            "2100/2100 [==============================] - 0s 196us/step - loss: 102.4133 - acc: 4.7619e-04 - val_loss: 2536.4146 - val_acc: 0.0000e+00\n",
            "Epoch 25/400\n",
            "2100/2100 [==============================] - 0s 199us/step - loss: 127.6099 - acc: 9.5238e-04 - val_loss: 2707.3639 - val_acc: 0.0000e+00\n",
            "Epoch 26/400\n",
            "2100/2100 [==============================] - 0s 196us/step - loss: 102.5419 - acc: 0.0014 - val_loss: 2905.0220 - val_acc: 0.0000e+00\n",
            "Epoch 27/400\n",
            "2100/2100 [==============================] - 0s 195us/step - loss: 100.8738 - acc: 0.0014 - val_loss: 2385.0834 - val_acc: 0.0000e+00\n",
            "Epoch 28/400\n",
            "2100/2100 [==============================] - 0s 200us/step - loss: 91.7689 - acc: 0.0019 - val_loss: 3326.0161 - val_acc: 0.0000e+00\n",
            "Epoch 29/400\n",
            "2100/2100 [==============================] - 0s 193us/step - loss: 108.3045 - acc: 9.5238e-04 - val_loss: 2625.1041 - val_acc: 0.0000e+00\n",
            "Epoch 30/400\n",
            "2100/2100 [==============================] - 0s 198us/step - loss: 113.9558 - acc: 0.0000e+00 - val_loss: 2936.9531 - val_acc: 0.0000e+00\n",
            "Epoch 31/400\n",
            "2100/2100 [==============================] - 0s 197us/step - loss: 101.7804 - acc: 0.0033 - val_loss: 3198.2782 - val_acc: 0.0000e+00\n",
            "Epoch 32/400\n",
            "2100/2100 [==============================] - 0s 195us/step - loss: 113.3120 - acc: 9.5238e-04 - val_loss: 2737.0921 - val_acc: 0.0000e+00\n",
            "Epoch 33/400\n",
            "2100/2100 [==============================] - 0s 196us/step - loss: 108.8201 - acc: 0.0014 - val_loss: 2297.6815 - val_acc: 0.0000e+00\n",
            "Epoch 34/400\n",
            "2100/2100 [==============================] - 0s 193us/step - loss: 88.8018 - acc: 0.0038 - val_loss: 2540.3211 - val_acc: 0.0000e+00\n",
            "Epoch 35/400\n",
            "2100/2100 [==============================] - 0s 198us/step - loss: 120.1431 - acc: 9.5238e-04 - val_loss: 2437.6209 - val_acc: 0.0000e+00\n",
            "Epoch 36/400\n",
            "2100/2100 [==============================] - 0s 196us/step - loss: 109.4877 - acc: 0.0019 - val_loss: 2159.3915 - val_acc: 0.0000e+00\n",
            "Epoch 37/400\n",
            "2100/2100 [==============================] - 0s 199us/step - loss: 100.0945 - acc: 0.0033 - val_loss: 2289.9006 - val_acc: 0.0000e+00\n",
            "Epoch 38/400\n",
            "2100/2100 [==============================] - 0s 194us/step - loss: 107.1205 - acc: 0.0019 - val_loss: 2649.5222 - val_acc: 0.0064\n",
            "Epoch 39/400\n",
            "2100/2100 [==============================] - 0s 199us/step - loss: 95.2192 - acc: 4.7619e-04 - val_loss: 2441.4032 - val_acc: 0.0000e+00\n",
            "Epoch 40/400\n",
            "2100/2100 [==============================] - 0s 202us/step - loss: 93.8933 - acc: 0.0029 - val_loss: 2397.4318 - val_acc: 0.0000e+00\n",
            "Epoch 41/400\n",
            "2100/2100 [==============================] - 0s 202us/step - loss: 108.7577 - acc: 9.5238e-04 - val_loss: 2400.5862 - val_acc: 0.0000e+00\n",
            "Epoch 42/400\n",
            "2100/2100 [==============================] - 0s 198us/step - loss: 88.1261 - acc: 0.0029 - val_loss: 2456.9057 - val_acc: 0.0000e+00\n",
            "Epoch 43/400\n",
            "2100/2100 [==============================] - 0s 194us/step - loss: 92.4196 - acc: 0.0029 - val_loss: 2472.0769 - val_acc: 0.0000e+00\n",
            "Epoch 44/400\n",
            "2100/2100 [==============================] - 0s 199us/step - loss: 116.9585 - acc: 0.0029 - val_loss: 2221.4739 - val_acc: 0.0000e+00\n",
            "Epoch 45/400\n",
            "2100/2100 [==============================] - 0s 200us/step - loss: 111.9966 - acc: 0.0019 - val_loss: 2323.6821 - val_acc: 0.0000e+00\n",
            "Epoch 46/400\n",
            "2100/2100 [==============================] - 0s 198us/step - loss: 133.8138 - acc: 9.5238e-04 - val_loss: 2007.1319 - val_acc: 0.0000e+00\n",
            "Epoch 47/400\n",
            "2100/2100 [==============================] - 0s 199us/step - loss: 110.8924 - acc: 4.7619e-04 - val_loss: 1975.6752 - val_acc: 0.0064\n",
            "Epoch 48/400\n",
            "2100/2100 [==============================] - 0s 196us/step - loss: 95.6222 - acc: 0.0024 - val_loss: 2118.2813 - val_acc: 0.0000e+00\n",
            "Epoch 49/400\n",
            "2100/2100 [==============================] - 0s 197us/step - loss: 96.2599 - acc: 0.0043 - val_loss: 2291.1696 - val_acc: 0.0000e+00\n",
            "Epoch 50/400\n",
            "2100/2100 [==============================] - 0s 203us/step - loss: 100.9949 - acc: 4.7619e-04 - val_loss: 2148.4898 - val_acc: 0.0000e+00\n",
            "Epoch 51/400\n",
            "2100/2100 [==============================] - 0s 197us/step - loss: 118.5618 - acc: 0.0014 - val_loss: 2000.1215 - val_acc: 0.0000e+00\n",
            "Epoch 52/400\n",
            "2100/2100 [==============================] - 0s 200us/step - loss: 95.5542 - acc: 9.5238e-04 - val_loss: 2016.7867 - val_acc: 0.0000e+00\n",
            "Epoch 53/400\n",
            "2100/2100 [==============================] - 0s 198us/step - loss: 97.3824 - acc: 0.0019 - val_loss: 2732.1851 - val_acc: 0.0000e+00\n",
            "Epoch 54/400\n",
            "2100/2100 [==============================] - 0s 197us/step - loss: 98.4690 - acc: 0.0024 - val_loss: 2314.5640 - val_acc: 0.0000e+00\n",
            "Epoch 55/400\n",
            "2100/2100 [==============================] - 0s 201us/step - loss: 92.2052 - acc: 0.0029 - val_loss: 2551.4354 - val_acc: 0.0000e+00\n",
            "Epoch 56/400\n",
            "2100/2100 [==============================] - 0s 197us/step - loss: 102.0041 - acc: 0.0024 - val_loss: 2570.9994 - val_acc: 0.0000e+00\n",
            "Epoch 57/400\n",
            "2100/2100 [==============================] - 0s 209us/step - loss: 92.7357 - acc: 0.0019 - val_loss: 3598.8362 - val_acc: 0.0000e+00\n",
            "Epoch 58/400\n",
            "2100/2100 [==============================] - 0s 203us/step - loss: 99.6892 - acc: 0.0014 - val_loss: 2914.5225 - val_acc: 0.0000e+00\n",
            "Epoch 59/400\n",
            "2100/2100 [==============================] - 0s 206us/step - loss: 84.5109 - acc: 0.0029 - val_loss: 2072.7830 - val_acc: 0.0000e+00\n",
            "Epoch 60/400\n",
            "2100/2100 [==============================] - 0s 203us/step - loss: 88.9042 - acc: 0.0024 - val_loss: 2203.8776 - val_acc: 0.0000e+00\n",
            "Epoch 61/400\n",
            "2100/2100 [==============================] - 0s 205us/step - loss: 102.9236 - acc: 0.0029 - val_loss: 2064.3377 - val_acc: 0.0000e+00\n",
            "Epoch 62/400\n",
            "2100/2100 [==============================] - 0s 209us/step - loss: 98.9124 - acc: 0.0014 - val_loss: 2482.2947 - val_acc: 0.0000e+00\n",
            "Epoch 63/400\n",
            "2100/2100 [==============================] - 0s 205us/step - loss: 99.3430 - acc: 0.0024 - val_loss: 2254.7266 - val_acc: 0.0000e+00\n",
            "Epoch 64/400\n",
            "2100/2100 [==============================] - 0s 206us/step - loss: 117.3446 - acc: 9.5238e-04 - val_loss: 2406.7409 - val_acc: 0.0000e+00\n",
            "Epoch 65/400\n",
            "2100/2100 [==============================] - 0s 201us/step - loss: 93.2241 - acc: 0.0014 - val_loss: 2219.0973 - val_acc: 0.0000e+00\n",
            "Epoch 66/400\n",
            "2100/2100 [==============================] - 0s 207us/step - loss: 127.2413 - acc: 9.5238e-04 - val_loss: 2739.8510 - val_acc: 0.0000e+00\n",
            "Epoch 67/400\n",
            "2100/2100 [==============================] - 0s 213us/step - loss: 108.9696 - acc: 0.0024 - val_loss: 1926.3959 - val_acc: 0.0000e+00\n",
            "Epoch 68/400\n",
            "2100/2100 [==============================] - 0s 203us/step - loss: 86.6950 - acc: 0.0014 - val_loss: 2701.0644 - val_acc: 0.0000e+00\n",
            "Epoch 69/400\n",
            "2100/2100 [==============================] - 0s 207us/step - loss: 84.9055 - acc: 4.7619e-04 - val_loss: 2238.7085 - val_acc: 0.0000e+00\n",
            "Epoch 70/400\n",
            "2100/2100 [==============================] - 0s 206us/step - loss: 85.0402 - acc: 0.0038 - val_loss: 2317.2271 - val_acc: 0.0000e+00\n",
            "Epoch 71/400\n",
            "2100/2100 [==============================] - 0s 206us/step - loss: 115.2963 - acc: 4.7619e-04 - val_loss: 2643.6246 - val_acc: 0.0000e+00\n",
            "Epoch 72/400\n",
            "2100/2100 [==============================] - 0s 203us/step - loss: 100.7579 - acc: 4.7619e-04 - val_loss: 2068.8780 - val_acc: 0.0000e+00\n",
            "Epoch 73/400\n",
            "2100/2100 [==============================] - 0s 202us/step - loss: 102.2507 - acc: 9.5238e-04 - val_loss: 2285.1019 - val_acc: 0.0000e+00\n",
            "Epoch 74/400\n",
            "2100/2100 [==============================] - 0s 208us/step - loss: 82.0812 - acc: 0.0024 - val_loss: 2213.3571 - val_acc: 0.0000e+00\n",
            "Epoch 75/400\n",
            "2100/2100 [==============================] - 0s 200us/step - loss: 93.2712 - acc: 4.7619e-04 - val_loss: 3127.9326 - val_acc: 0.0000e+00\n",
            "Epoch 76/400\n",
            "2100/2100 [==============================] - 0s 213us/step - loss: 101.2866 - acc: 0.0019 - val_loss: 2292.3916 - val_acc: 0.0000e+00\n",
            "Epoch 77/400\n",
            "2100/2100 [==============================] - 0s 201us/step - loss: 95.2541 - acc: 0.0024 - val_loss: 3117.0568 - val_acc: 0.0000e+00\n",
            "Epoch 78/400\n",
            "2100/2100 [==============================] - 0s 206us/step - loss: 86.2549 - acc: 0.0029 - val_loss: 2413.8551 - val_acc: 0.0000e+00\n",
            "Epoch 79/400\n",
            "2100/2100 [==============================] - 0s 206us/step - loss: 83.9556 - acc: 0.0014 - val_loss: 2148.3559 - val_acc: 0.0000e+00\n",
            "Epoch 80/400\n",
            "2100/2100 [==============================] - 0s 198us/step - loss: 87.8334 - acc: 0.0014 - val_loss: 2341.7811 - val_acc: 0.0000e+00\n",
            "Epoch 81/400\n",
            "2100/2100 [==============================] - 0s 201us/step - loss: 85.5529 - acc: 0.0024 - val_loss: 2583.5965 - val_acc: 0.0000e+00\n",
            "Epoch 82/400\n",
            "2100/2100 [==============================] - 0s 199us/step - loss: 87.9358 - acc: 0.0014 - val_loss: 2453.2484 - val_acc: 0.0000e+00\n",
            "Epoch 83/400\n",
            "2100/2100 [==============================] - 0s 196us/step - loss: 109.3832 - acc: 0.0029 - val_loss: 2705.9200 - val_acc: 0.0000e+00\n",
            "Epoch 84/400\n",
            "2100/2100 [==============================] - 0s 200us/step - loss: 96.4932 - acc: 0.0024 - val_loss: 2332.2836 - val_acc: 0.0000e+00\n",
            "Epoch 85/400\n",
            "2100/2100 [==============================] - 0s 197us/step - loss: 98.0853 - acc: 0.0019 - val_loss: 2980.8370 - val_acc: 0.0000e+00\n",
            "Epoch 86/400\n",
            "2100/2100 [==============================] - 0s 205us/step - loss: 129.5553 - acc: 0.0000e+00 - val_loss: 2269.5902 - val_acc: 0.0000e+00\n",
            "Epoch 87/400\n",
            "2100/2100 [==============================] - 0s 197us/step - loss: 99.0240 - acc: 0.0019 - val_loss: 2604.3782 - val_acc: 0.0000e+00\n",
            "Epoch 88/400\n",
            "2100/2100 [==============================] - 0s 199us/step - loss: 92.0677 - acc: 9.5238e-04 - val_loss: 2155.1512 - val_acc: 0.0000e+00\n",
            "Epoch 89/400\n",
            "2100/2100 [==============================] - 0s 199us/step - loss: 85.9732 - acc: 0.0019 - val_loss: 2232.2840 - val_acc: 0.0000e+00\n",
            "Epoch 90/400\n",
            "2100/2100 [==============================] - 0s 194us/step - loss: 86.4434 - acc: 0.0029 - val_loss: 2444.0830 - val_acc: 0.0000e+00\n",
            "Epoch 91/400\n",
            "2100/2100 [==============================] - 0s 196us/step - loss: 79.8705 - acc: 0.0029 - val_loss: 2683.6242 - val_acc: 0.0000e+00\n",
            "Epoch 92/400\n",
            "2100/2100 [==============================] - 0s 195us/step - loss: 81.0581 - acc: 9.5238e-04 - val_loss: 2299.2052 - val_acc: 0.0000e+00\n",
            "Epoch 93/400\n",
            "2100/2100 [==============================] - 0s 205us/step - loss: 83.9100 - acc: 0.0033 - val_loss: 2500.0306 - val_acc: 0.0000e+00\n",
            "Epoch 94/400\n",
            "2100/2100 [==============================] - 0s 196us/step - loss: 78.2063 - acc: 9.5238e-04 - val_loss: 2451.2783 - val_acc: 0.0000e+00\n",
            "Epoch 95/400\n",
            "2100/2100 [==============================] - 0s 192us/step - loss: 74.3266 - acc: 0.0029 - val_loss: 2307.2701 - val_acc: 0.0000e+00\n",
            "Epoch 96/400\n",
            "2100/2100 [==============================] - 0s 199us/step - loss: 75.5593 - acc: 0.0019 - val_loss: 2790.5456 - val_acc: 0.0000e+00\n",
            "Epoch 97/400\n",
            "2100/2100 [==============================] - 0s 197us/step - loss: 118.3756 - acc: 0.0029 - val_loss: 2554.8412 - val_acc: 0.0000e+00\n",
            "Epoch 98/400\n",
            "2100/2100 [==============================] - 0s 199us/step - loss: 86.8490 - acc: 0.0019 - val_loss: 2422.0397 - val_acc: 0.0000e+00\n",
            "Epoch 99/400\n",
            "2100/2100 [==============================] - 0s 197us/step - loss: 84.7805 - acc: 0.0019 - val_loss: 2300.9531 - val_acc: 0.0000e+00\n",
            "Epoch 100/400\n",
            "2100/2100 [==============================] - 0s 210us/step - loss: 82.1268 - acc: 0.0014 - val_loss: 2558.5672 - val_acc: 0.0000e+00\n",
            "Epoch 101/400\n",
            "2100/2100 [==============================] - 0s 193us/step - loss: 111.2345 - acc: 0.0024 - val_loss: 3276.9647 - val_acc: 0.0000e+00\n",
            "Epoch 102/400\n",
            "2100/2100 [==============================] - 0s 193us/step - loss: 111.3519 - acc: 9.5238e-04 - val_loss: 3002.2354 - val_acc: 0.0000e+00\n",
            "Epoch 103/400\n",
            "2100/2100 [==============================] - 0s 198us/step - loss: 95.0979 - acc: 0.0029 - val_loss: 2554.7432 - val_acc: 0.0000e+00\n",
            "Epoch 104/400\n",
            "2100/2100 [==============================] - 0s 198us/step - loss: 85.9431 - acc: 0.0024 - val_loss: 3264.8945 - val_acc: 0.0000e+00\n",
            "Epoch 105/400\n",
            "2100/2100 [==============================] - 0s 202us/step - loss: 90.7005 - acc: 4.7619e-04 - val_loss: 2460.9881 - val_acc: 0.0000e+00\n",
            "Epoch 106/400\n",
            "2100/2100 [==============================] - 0s 197us/step - loss: 81.1787 - acc: 0.0014 - val_loss: 2349.7870 - val_acc: 0.0000e+00\n",
            "Epoch 107/400\n",
            "2100/2100 [==============================] - 0s 193us/step - loss: 97.4093 - acc: 0.0024 - val_loss: 2494.3749 - val_acc: 0.0000e+00\n",
            "Epoch 108/400\n",
            "2100/2100 [==============================] - 0s 199us/step - loss: 82.9936 - acc: 0.0033 - val_loss: 2464.4738 - val_acc: 0.0000e+00\n",
            "Epoch 109/400\n",
            "2100/2100 [==============================] - 0s 194us/step - loss: 87.8276 - acc: 0.0014 - val_loss: 2701.9011 - val_acc: 0.0000e+00\n",
            "Epoch 110/400\n",
            "2100/2100 [==============================] - 0s 200us/step - loss: 98.2628 - acc: 0.0014 - val_loss: 2292.7144 - val_acc: 0.0000e+00\n",
            "Epoch 111/400\n",
            "2100/2100 [==============================] - 0s 192us/step - loss: 89.1870 - acc: 0.0014 - val_loss: 2282.6742 - val_acc: 0.0000e+00\n",
            "Epoch 112/400\n",
            "2100/2100 [==============================] - 0s 192us/step - loss: 81.7038 - acc: 0.0014 - val_loss: 2609.7367 - val_acc: 0.0000e+00\n",
            "Epoch 113/400\n",
            "2100/2100 [==============================] - 0s 199us/step - loss: 84.9912 - acc: 9.5238e-04 - val_loss: 2365.9470 - val_acc: 0.0000e+00\n",
            "Epoch 114/400\n",
            "2100/2100 [==============================] - 0s 197us/step - loss: 96.4139 - acc: 0.0019 - val_loss: 2164.5118 - val_acc: 0.0000e+00\n",
            "Epoch 115/400\n",
            "2100/2100 [==============================] - 0s 198us/step - loss: 89.5249 - acc: 9.5238e-04 - val_loss: 3013.7105 - val_acc: 0.0000e+00\n",
            "Epoch 116/400\n",
            "2100/2100 [==============================] - 0s 197us/step - loss: 125.5850 - acc: 0.0014 - val_loss: 3778.2691 - val_acc: 0.0000e+00\n",
            "Epoch 117/400\n",
            "2100/2100 [==============================] - 0s 198us/step - loss: 121.7819 - acc: 0.0024 - val_loss: 2426.8540 - val_acc: 0.0000e+00\n",
            "Epoch 118/400\n",
            "2100/2100 [==============================] - 0s 201us/step - loss: 116.8468 - acc: 9.5238e-04 - val_loss: 2157.4091 - val_acc: 0.0064\n",
            "Epoch 119/400\n",
            "2100/2100 [==============================] - 0s 191us/step - loss: 83.4945 - acc: 0.0019 - val_loss: 2162.4130 - val_acc: 0.0000e+00\n",
            "Epoch 120/400\n",
            "2100/2100 [==============================] - 0s 200us/step - loss: 87.7213 - acc: 4.7619e-04 - val_loss: 2468.0555 - val_acc: 0.0000e+00\n",
            "Epoch 121/400\n",
            "2100/2100 [==============================] - 0s 202us/step - loss: 73.9294 - acc: 0.0014 - val_loss: 2370.0683 - val_acc: 0.0000e+00\n",
            "Epoch 122/400\n",
            "2100/2100 [==============================] - 0s 192us/step - loss: 72.8639 - acc: 0.0033 - val_loss: 2672.8008 - val_acc: 0.0000e+00\n",
            "Epoch 123/400\n",
            "2100/2100 [==============================] - 0s 198us/step - loss: 73.8761 - acc: 9.5238e-04 - val_loss: 2535.7596 - val_acc: 0.0000e+00\n",
            "Epoch 124/400\n",
            "2100/2100 [==============================] - 0s 194us/step - loss: 71.2023 - acc: 0.0014 - val_loss: 2945.5461 - val_acc: 0.0000e+00\n",
            "Epoch 125/400\n",
            "2100/2100 [==============================] - 0s 199us/step - loss: 77.6869 - acc: 9.5238e-04 - val_loss: 2989.8188 - val_acc: 0.0000e+00\n",
            "Epoch 126/400\n",
            "2100/2100 [==============================] - 0s 197us/step - loss: 72.3432 - acc: 0.0024 - val_loss: 2671.0355 - val_acc: 0.0000e+00\n",
            "Epoch 127/400\n",
            "2100/2100 [==============================] - 0s 197us/step - loss: 70.7266 - acc: 0.0019 - val_loss: 2608.6735 - val_acc: 0.0000e+00\n",
            "Epoch 128/400\n",
            "2100/2100 [==============================] - 0s 203us/step - loss: 70.6825 - acc: 4.7619e-04 - val_loss: 2685.6325 - val_acc: 0.0000e+00\n",
            "Epoch 129/400\n",
            "2100/2100 [==============================] - 0s 195us/step - loss: 85.8128 - acc: 0.0014 - val_loss: 2759.8774 - val_acc: 0.0000e+00\n",
            "Epoch 130/400\n",
            "2100/2100 [==============================] - 0s 201us/step - loss: 84.8318 - acc: 0.0024 - val_loss: 2568.4359 - val_acc: 0.0000e+00\n",
            "Epoch 131/400\n",
            "2100/2100 [==============================] - 0s 193us/step - loss: 80.9974 - acc: 0.0019 - val_loss: 2321.4793 - val_acc: 0.0000e+00\n",
            "Epoch 132/400\n",
            "2100/2100 [==============================] - 0s 195us/step - loss: 75.7388 - acc: 4.7619e-04 - val_loss: 2383.5552 - val_acc: 0.0000e+00\n",
            "Epoch 133/400\n",
            "2100/2100 [==============================] - 0s 199us/step - loss: 78.3103 - acc: 0.0019 - val_loss: 2656.3442 - val_acc: 0.0000e+00\n",
            "Epoch 134/400\n",
            "2100/2100 [==============================] - 0s 196us/step - loss: 77.1662 - acc: 0.0024 - val_loss: 2707.8203 - val_acc: 0.0000e+00\n",
            "Epoch 135/400\n",
            "2100/2100 [==============================] - 0s 197us/step - loss: 70.1864 - acc: 0.0029 - val_loss: 3116.1006 - val_acc: 0.0000e+00\n",
            "Epoch 136/400\n",
            "2100/2100 [==============================] - 0s 195us/step - loss: 80.6740 - acc: 0.0014 - val_loss: 2779.1245 - val_acc: 0.0000e+00\n",
            "Epoch 137/400\n",
            "2100/2100 [==============================] - 0s 195us/step - loss: 83.0187 - acc: 9.5238e-04 - val_loss: 2499.7967 - val_acc: 0.0000e+00\n",
            "Epoch 138/400\n",
            "2100/2100 [==============================] - 0s 198us/step - loss: 85.0185 - acc: 0.0029 - val_loss: 2524.7489 - val_acc: 0.0000e+00\n",
            "Epoch 139/400\n",
            "2100/2100 [==============================] - 0s 196us/step - loss: 93.1226 - acc: 0.0024 - val_loss: 2822.5697 - val_acc: 0.0000e+00\n",
            "Epoch 140/400\n",
            "2100/2100 [==============================] - 0s 199us/step - loss: 106.6621 - acc: 9.5238e-04 - val_loss: 2883.7071 - val_acc: 0.0000e+00\n",
            "Epoch 141/400\n",
            "2100/2100 [==============================] - 0s 195us/step - loss: 96.1850 - acc: 0.0019 - val_loss: 2292.0132 - val_acc: 0.0000e+00\n",
            "Epoch 142/400\n",
            "2100/2100 [==============================] - 0s 202us/step - loss: 83.7094 - acc: 4.7619e-04 - val_loss: 2516.3146 - val_acc: 0.0000e+00\n",
            "Epoch 143/400\n",
            "2100/2100 [==============================] - 0s 189us/step - loss: 81.4818 - acc: 0.0019 - val_loss: 2427.6871 - val_acc: 0.0000e+00\n",
            "Epoch 144/400\n",
            "2100/2100 [==============================] - 0s 193us/step - loss: 70.7452 - acc: 9.5238e-04 - val_loss: 2439.3720 - val_acc: 0.0000e+00\n",
            "Epoch 145/400\n",
            "2100/2100 [==============================] - 0s 197us/step - loss: 67.0913 - acc: 9.5238e-04 - val_loss: 2625.5698 - val_acc: 0.0000e+00\n",
            "Epoch 146/400\n",
            "2100/2100 [==============================] - 0s 195us/step - loss: 69.5978 - acc: 0.0014 - val_loss: 2933.7739 - val_acc: 0.0064\n",
            "Epoch 147/400\n",
            "2100/2100 [==============================] - 0s 196us/step - loss: 67.1976 - acc: 0.0029 - val_loss: 3142.9022 - val_acc: 0.0000e+00\n",
            "Epoch 148/400\n",
            "2100/2100 [==============================] - 0s 200us/step - loss: 72.0006 - acc: 9.5238e-04 - val_loss: 2632.6619 - val_acc: 0.0000e+00\n",
            "Epoch 149/400\n",
            "2100/2100 [==============================] - 0s 199us/step - loss: 79.5392 - acc: 0.0014 - val_loss: 2783.6428 - val_acc: 0.0000e+00\n",
            "Epoch 150/400\n",
            "2100/2100 [==============================] - 0s 199us/step - loss: 69.9136 - acc: 0.0019 - val_loss: 2474.8368 - val_acc: 0.0000e+00\n",
            "Epoch 151/400\n",
            "2100/2100 [==============================] - 0s 197us/step - loss: 77.3535 - acc: 9.5238e-04 - val_loss: 2781.4932 - val_acc: 0.0000e+00\n",
            "Epoch 152/400\n",
            "2100/2100 [==============================] - 0s 204us/step - loss: 77.2710 - acc: 0.0029 - val_loss: 2823.9027 - val_acc: 0.0000e+00\n",
            "Epoch 153/400\n",
            "2100/2100 [==============================] - 0s 197us/step - loss: 85.1186 - acc: 0.0024 - val_loss: 2935.9471 - val_acc: 0.0000e+00\n",
            "Epoch 154/400\n",
            "2100/2100 [==============================] - 0s 197us/step - loss: 91.1417 - acc: 9.5238e-04 - val_loss: 3634.8839 - val_acc: 0.0000e+00\n",
            "Epoch 155/400\n",
            "2100/2100 [==============================] - 0s 197us/step - loss: 74.6995 - acc: 0.0014 - val_loss: 2805.5084 - val_acc: 0.0000e+00\n",
            "Epoch 156/400\n",
            "2100/2100 [==============================] - 0s 198us/step - loss: 78.9148 - acc: 0.0014 - val_loss: 2544.4105 - val_acc: 0.0000e+00\n",
            "Epoch 157/400\n",
            "2100/2100 [==============================] - 0s 201us/step - loss: 82.3468 - acc: 0.0014 - val_loss: 3360.0521 - val_acc: 0.0000e+00\n",
            "Epoch 158/400\n",
            "2100/2100 [==============================] - 0s 193us/step - loss: 96.4803 - acc: 9.5238e-04 - val_loss: 2754.3193 - val_acc: 0.0064\n",
            "Epoch 159/400\n",
            "2100/2100 [==============================] - 0s 194us/step - loss: 84.4311 - acc: 0.0019 - val_loss: 2633.9496 - val_acc: 0.0000e+00\n",
            "Epoch 160/400\n",
            "2100/2100 [==============================] - 0s 198us/step - loss: 105.5810 - acc: 9.5238e-04 - val_loss: 2588.1117 - val_acc: 0.0000e+00\n",
            "Epoch 161/400\n",
            "2100/2100 [==============================] - 0s 198us/step - loss: 77.6260 - acc: 0.0019 - val_loss: 3035.6919 - val_acc: 0.0000e+00\n",
            "Epoch 162/400\n",
            "2100/2100 [==============================] - 0s 202us/step - loss: 80.3339 - acc: 0.0014 - val_loss: 2552.9913 - val_acc: 0.0000e+00\n",
            "Epoch 163/400\n",
            "2100/2100 [==============================] - 0s 196us/step - loss: 71.1978 - acc: 0.0014 - val_loss: 3130.7139 - val_acc: 0.0000e+00\n",
            "Epoch 164/400\n",
            "2100/2100 [==============================] - 0s 196us/step - loss: 71.5100 - acc: 0.0024 - val_loss: 2637.4498 - val_acc: 0.0000e+00\n",
            "Epoch 165/400\n",
            "2100/2100 [==============================] - 0s 197us/step - loss: 92.2325 - acc: 0.0014 - val_loss: 3320.9153 - val_acc: 0.0000e+00\n",
            "Epoch 166/400\n",
            "2100/2100 [==============================] - 0s 200us/step - loss: 95.4551 - acc: 0.0019 - val_loss: 3686.2740 - val_acc: 0.0000e+00\n",
            "Epoch 167/400\n",
            "2100/2100 [==============================] - 0s 201us/step - loss: 134.4016 - acc: 4.7619e-04 - val_loss: 3082.9221 - val_acc: 0.0000e+00\n",
            "Epoch 168/400\n",
            "2100/2100 [==============================] - 0s 198us/step - loss: 95.2238 - acc: 0.0014 - val_loss: 2569.2637 - val_acc: 0.0000e+00\n",
            "Epoch 169/400\n",
            "2100/2100 [==============================] - 0s 194us/step - loss: 97.1219 - acc: 0.0024 - val_loss: 2260.1451 - val_acc: 0.0000e+00\n",
            "Epoch 170/400\n",
            "2100/2100 [==============================] - 0s 200us/step - loss: 83.5278 - acc: 0.0029 - val_loss: 2549.2578 - val_acc: 0.0000e+00\n",
            "Epoch 171/400\n",
            "2100/2100 [==============================] - 0s 194us/step - loss: 76.0477 - acc: 0.0014 - val_loss: 2618.4778 - val_acc: 0.0000e+00\n",
            "Epoch 172/400\n",
            "2100/2100 [==============================] - 0s 200us/step - loss: 74.9265 - acc: 0.0024 - val_loss: 2638.9480 - val_acc: 0.0000e+00\n",
            "Epoch 173/400\n",
            "2100/2100 [==============================] - 0s 194us/step - loss: 69.2869 - acc: 0.0019 - val_loss: 2751.2976 - val_acc: 0.0000e+00\n",
            "Epoch 174/400\n",
            "2100/2100 [==============================] - 0s 193us/step - loss: 65.7299 - acc: 0.0029 - val_loss: 2758.0535 - val_acc: 0.0000e+00\n",
            "Epoch 175/400\n",
            "2100/2100 [==============================] - 0s 202us/step - loss: 89.6867 - acc: 0.0014 - val_loss: 3796.8349 - val_acc: 0.0000e+00\n",
            "Epoch 176/400\n",
            "2100/2100 [==============================] - 0s 195us/step - loss: 87.9802 - acc: 0.0014 - val_loss: 2717.4288 - val_acc: 0.0000e+00\n",
            "Epoch 177/400\n",
            "2100/2100 [==============================] - 0s 199us/step - loss: 78.6806 - acc: 4.7619e-04 - val_loss: 2538.3451 - val_acc: 0.0000e+00\n",
            "Epoch 178/400\n",
            "2100/2100 [==============================] - 0s 196us/step - loss: 83.4830 - acc: 0.0019 - val_loss: 2693.4007 - val_acc: 0.0000e+00\n",
            "Epoch 179/400\n",
            "2100/2100 [==============================] - 0s 199us/step - loss: 82.5213 - acc: 0.0033 - val_loss: 3052.9261 - val_acc: 0.0000e+00\n",
            "Epoch 180/400\n",
            "2100/2100 [==============================] - 0s 197us/step - loss: 66.6764 - acc: 9.5238e-04 - val_loss: 3026.0521 - val_acc: 0.0000e+00\n",
            "Epoch 181/400\n",
            "2100/2100 [==============================] - 0s 199us/step - loss: 70.7115 - acc: 4.7619e-04 - val_loss: 2984.7116 - val_acc: 0.0000e+00\n",
            "Epoch 182/400\n",
            "2100/2100 [==============================] - 0s 202us/step - loss: 76.4109 - acc: 0.0024 - val_loss: 2918.8641 - val_acc: 0.0000e+00\n",
            "Epoch 183/400\n",
            "2100/2100 [==============================] - 0s 197us/step - loss: 81.0442 - acc: 4.7619e-04 - val_loss: 2761.2539 - val_acc: 0.0000e+00\n",
            "Epoch 184/400\n",
            "2100/2100 [==============================] - 0s 199us/step - loss: 75.5535 - acc: 0.0033 - val_loss: 3695.0761 - val_acc: 0.0000e+00\n",
            "Epoch 185/400\n",
            "2100/2100 [==============================] - 0s 194us/step - loss: 71.9579 - acc: 0.0033 - val_loss: 2726.1998 - val_acc: 0.0000e+00\n",
            "Epoch 186/400\n",
            "2100/2100 [==============================] - 0s 192us/step - loss: 75.4893 - acc: 0.0019 - val_loss: 3164.2760 - val_acc: 0.0000e+00\n",
            "Epoch 187/400\n",
            "2100/2100 [==============================] - 0s 199us/step - loss: 82.2512 - acc: 0.0014 - val_loss: 2860.2871 - val_acc: 0.0000e+00\n",
            "Epoch 188/400\n",
            "2100/2100 [==============================] - 0s 195us/step - loss: 70.4692 - acc: 0.0019 - val_loss: 2566.9537 - val_acc: 0.0000e+00\n",
            "Epoch 189/400\n",
            "2100/2100 [==============================] - 0s 200us/step - loss: 69.4313 - acc: 0.0024 - val_loss: 2572.3900 - val_acc: 0.0000e+00\n",
            "Epoch 190/400\n",
            "2100/2100 [==============================] - 0s 195us/step - loss: 66.8961 - acc: 0.0029 - val_loss: 2893.2284 - val_acc: 0.0000e+00\n",
            "Epoch 191/400\n",
            "2100/2100 [==============================] - 0s 195us/step - loss: 72.0080 - acc: 0.0043 - val_loss: 3095.5242 - val_acc: 0.0000e+00\n",
            "Epoch 192/400\n",
            "2100/2100 [==============================] - 0s 200us/step - loss: 95.9521 - acc: 0.0014 - val_loss: 3276.0764 - val_acc: 0.0000e+00\n",
            "Epoch 193/400\n",
            "2100/2100 [==============================] - 0s 199us/step - loss: 77.5008 - acc: 9.5238e-04 - val_loss: 2503.3825 - val_acc: 0.0000e+00\n",
            "Epoch 194/400\n",
            "2100/2100 [==============================] - 0s 205us/step - loss: 80.0781 - acc: 0.0024 - val_loss: 2749.7788 - val_acc: 0.0000e+00\n",
            "Epoch 195/400\n",
            "2100/2100 [==============================] - 0s 196us/step - loss: 78.4642 - acc: 0.0014 - val_loss: 2639.5644 - val_acc: 0.0000e+00\n",
            "Epoch 196/400\n",
            "2100/2100 [==============================] - 0s 199us/step - loss: 75.6150 - acc: 0.0014 - val_loss: 2750.9514 - val_acc: 0.0000e+00\n",
            "Epoch 197/400\n",
            "2100/2100 [==============================] - 0s 200us/step - loss: 83.1294 - acc: 0.0000e+00 - val_loss: 2864.2837 - val_acc: 0.0000e+00\n",
            "Epoch 198/400\n",
            "2100/2100 [==============================] - 0s 195us/step - loss: 74.8405 - acc: 0.0019 - val_loss: 2933.8098 - val_acc: 0.0000e+00\n",
            "Epoch 199/400\n",
            "2100/2100 [==============================] - 0s 201us/step - loss: 69.8815 - acc: 0.0024 - val_loss: 2761.8214 - val_acc: 0.0000e+00\n",
            "Epoch 200/400\n",
            "2100/2100 [==============================] - 0s 191us/step - loss: 72.6159 - acc: 0.0014 - val_loss: 2769.5888 - val_acc: 0.0000e+00\n",
            "Epoch 201/400\n",
            "2100/2100 [==============================] - 0s 194us/step - loss: 67.1852 - acc: 0.0024 - val_loss: 2944.2622 - val_acc: 0.0000e+00\n",
            "Epoch 202/400\n",
            "2100/2100 [==============================] - 0s 201us/step - loss: 63.0030 - acc: 0.0019 - val_loss: 3113.0231 - val_acc: 0.0000e+00\n",
            "Epoch 203/400\n",
            "2100/2100 [==============================] - 0s 195us/step - loss: 77.2172 - acc: 4.7619e-04 - val_loss: 2918.2634 - val_acc: 0.0000e+00\n",
            "Epoch 204/400\n",
            "2100/2100 [==============================] - 0s 202us/step - loss: 73.3035 - acc: 0.0024 - val_loss: 2648.6403 - val_acc: 0.0000e+00\n",
            "Epoch 205/400\n",
            "2100/2100 [==============================] - 0s 195us/step - loss: 70.1843 - acc: 9.5238e-04 - val_loss: 2923.6353 - val_acc: 0.0000e+00\n",
            "Epoch 206/400\n",
            "2100/2100 [==============================] - 0s 199us/step - loss: 82.6267 - acc: 9.5238e-04 - val_loss: 3412.0976 - val_acc: 0.0000e+00\n",
            "Epoch 207/400\n",
            "2100/2100 [==============================] - 0s 201us/step - loss: 70.1045 - acc: 0.0019 - val_loss: 3145.3328 - val_acc: 0.0000e+00\n",
            "Epoch 208/400\n",
            "2100/2100 [==============================] - 0s 194us/step - loss: 92.8884 - acc: 0.0014 - val_loss: 2769.9438 - val_acc: 0.0000e+00\n",
            "Epoch 209/400\n",
            "2100/2100 [==============================] - 0s 201us/step - loss: 82.9278 - acc: 9.5238e-04 - val_loss: 2670.0387 - val_acc: 0.0000e+00\n",
            "Epoch 210/400\n",
            "2100/2100 [==============================] - 0s 193us/step - loss: 69.8700 - acc: 0.0038 - val_loss: 2634.2551 - val_acc: 0.0000e+00\n",
            "Epoch 211/400\n",
            "2100/2100 [==============================] - 0s 200us/step - loss: 97.5490 - acc: 0.0014 - val_loss: 2799.3875 - val_acc: 0.0000e+00\n",
            "Epoch 212/400\n",
            "2100/2100 [==============================] - 0s 194us/step - loss: 77.5366 - acc: 0.0019 - val_loss: 2646.7288 - val_acc: 0.0000e+00\n",
            "Epoch 213/400\n",
            "2100/2100 [==============================] - 0s 194us/step - loss: 79.1804 - acc: 0.0019 - val_loss: 2748.3281 - val_acc: 0.0000e+00\n",
            "Epoch 214/400\n",
            "2100/2100 [==============================] - 0s 203us/step - loss: 75.3112 - acc: 9.5238e-04 - val_loss: 2834.1276 - val_acc: 0.0000e+00\n",
            "Epoch 215/400\n",
            "2100/2100 [==============================] - 0s 196us/step - loss: 75.8811 - acc: 4.7619e-04 - val_loss: 2803.1349 - val_acc: 0.0000e+00\n",
            "Epoch 216/400\n",
            "2100/2100 [==============================] - 0s 200us/step - loss: 74.3361 - acc: 9.5238e-04 - val_loss: 2717.1449 - val_acc: 0.0000e+00\n",
            "Epoch 217/400\n",
            "2100/2100 [==============================] - 0s 195us/step - loss: 69.5789 - acc: 0.0033 - val_loss: 2718.3348 - val_acc: 0.0000e+00\n",
            "Epoch 218/400\n",
            "2100/2100 [==============================] - 0s 193us/step - loss: 70.5744 - acc: 9.5238e-04 - val_loss: 2876.5901 - val_acc: 0.0000e+00\n",
            "Epoch 219/400\n",
            "2100/2100 [==============================] - 0s 202us/step - loss: 69.2075 - acc: 9.5238e-04 - val_loss: 3172.9845 - val_acc: 0.0000e+00\n",
            "Epoch 220/400\n",
            "2100/2100 [==============================] - 0s 192us/step - loss: 88.4454 - acc: 0.0024 - val_loss: 3016.5746 - val_acc: 0.0000e+00\n",
            "Epoch 221/400\n",
            "2100/2100 [==============================] - 0s 199us/step - loss: 73.8725 - acc: 0.0014 - val_loss: 2830.7955 - val_acc: 0.0000e+00\n",
            "Epoch 222/400\n",
            "2100/2100 [==============================] - 0s 195us/step - loss: 70.7351 - acc: 0.0024 - val_loss: 3111.4495 - val_acc: 0.0000e+00\n",
            "Epoch 223/400\n",
            "2100/2100 [==============================] - 0s 196us/step - loss: 72.9937 - acc: 4.7619e-04 - val_loss: 3096.4142 - val_acc: 0.0000e+00\n",
            "Epoch 224/400\n",
            "2100/2100 [==============================] - 0s 199us/step - loss: 66.3863 - acc: 0.0019 - val_loss: 2852.4338 - val_acc: 0.0064\n",
            "Epoch 225/400\n",
            "2100/2100 [==============================] - 0s 194us/step - loss: 80.6246 - acc: 0.0014 - val_loss: 2772.2702 - val_acc: 0.0000e+00\n",
            "Epoch 226/400\n",
            "2100/2100 [==============================] - 0s 200us/step - loss: 78.2613 - acc: 9.5238e-04 - val_loss: 3188.3519 - val_acc: 0.0000e+00\n",
            "Epoch 227/400\n",
            "2100/2100 [==============================] - 0s 195us/step - loss: 80.4562 - acc: 9.5238e-04 - val_loss: 3108.5062 - val_acc: 0.0000e+00\n",
            "Epoch 228/400\n",
            "2100/2100 [==============================] - 0s 197us/step - loss: 81.9966 - acc: 0.0024 - val_loss: 2947.9905 - val_acc: 0.0000e+00\n",
            "Epoch 229/400\n",
            "2100/2100 [==============================] - 0s 199us/step - loss: 68.7604 - acc: 0.0019 - val_loss: 2830.3486 - val_acc: 0.0000e+00\n",
            "Epoch 230/400\n",
            "2100/2100 [==============================] - 0s 199us/step - loss: 66.4070 - acc: 0.0029 - val_loss: 3151.9808 - val_acc: 0.0000e+00\n",
            "Epoch 231/400\n",
            "2100/2100 [==============================] - 0s 200us/step - loss: 71.6041 - acc: 0.0019 - val_loss: 2940.3962 - val_acc: 0.0000e+00\n",
            "Epoch 232/400\n",
            "2100/2100 [==============================] - 0s 197us/step - loss: 64.9507 - acc: 0.0024 - val_loss: 2992.4963 - val_acc: 0.0000e+00\n",
            "Epoch 233/400\n",
            "2100/2100 [==============================] - 0s 198us/step - loss: 64.2164 - acc: 0.0014 - val_loss: 3073.2804 - val_acc: 0.0000e+00\n",
            "Epoch 234/400\n",
            "2100/2100 [==============================] - 0s 199us/step - loss: 71.4964 - acc: 0.0038 - val_loss: 2912.4224 - val_acc: 0.0000e+00\n",
            "Epoch 235/400\n",
            "2100/2100 [==============================] - 0s 196us/step - loss: 84.5545 - acc: 0.0014 - val_loss: 3005.0754 - val_acc: 0.0000e+00\n",
            "Epoch 236/400\n",
            "2100/2100 [==============================] - 0s 202us/step - loss: 73.3993 - acc: 9.5238e-04 - val_loss: 2656.6292 - val_acc: 0.0000e+00\n",
            "Epoch 237/400\n",
            "2100/2100 [==============================] - 0s 192us/step - loss: 90.4544 - acc: 0.0029 - val_loss: 2904.6952 - val_acc: 0.0000e+00\n",
            "Epoch 238/400\n",
            "2100/2100 [==============================] - 0s 195us/step - loss: 78.6354 - acc: 0.0024 - val_loss: 2533.8522 - val_acc: 0.0000e+00\n",
            "Epoch 239/400\n",
            "2100/2100 [==============================] - 0s 200us/step - loss: 66.9214 - acc: 0.0014 - val_loss: 3072.6607 - val_acc: 0.0000e+00\n",
            "Epoch 240/400\n",
            "2100/2100 [==============================] - 0s 198us/step - loss: 65.3868 - acc: 0.0019 - val_loss: 3109.7918 - val_acc: 0.0000e+00\n",
            "Epoch 241/400\n",
            "2100/2100 [==============================] - 0s 197us/step - loss: 78.0270 - acc: 0.0029 - val_loss: 3259.9686 - val_acc: 0.0000e+00\n",
            "Epoch 242/400\n",
            "2100/2100 [==============================] - 0s 198us/step - loss: 68.2826 - acc: 0.0024 - val_loss: 3100.4630 - val_acc: 0.0000e+00\n",
            "Epoch 243/400\n",
            "2100/2100 [==============================] - 0s 197us/step - loss: 71.2806 - acc: 0.0024 - val_loss: 2868.0158 - val_acc: 0.0000e+00\n",
            "Epoch 244/400\n",
            "2100/2100 [==============================] - 0s 204us/step - loss: 72.4900 - acc: 0.0014 - val_loss: 2676.8384 - val_acc: 0.0000e+00\n",
            "Epoch 245/400\n",
            "2100/2100 [==============================] - 0s 198us/step - loss: 64.4231 - acc: 0.0029 - val_loss: 2898.3848 - val_acc: 0.0000e+00\n",
            "Epoch 246/400\n",
            "2100/2100 [==============================] - 0s 199us/step - loss: 66.3055 - acc: 0.0019 - val_loss: 2914.2024 - val_acc: 0.0000e+00\n",
            "Epoch 247/400\n",
            "2100/2100 [==============================] - 0s 195us/step - loss: 72.1641 - acc: 4.7619e-04 - val_loss: 3107.3361 - val_acc: 0.0000e+00\n",
            "Epoch 248/400\n",
            "2100/2100 [==============================] - 0s 198us/step - loss: 67.0398 - acc: 0.0029 - val_loss: 2808.9785 - val_acc: 0.0000e+00\n",
            "Epoch 249/400\n",
            "2100/2100 [==============================] - 0s 194us/step - loss: 69.5304 - acc: 0.0014 - val_loss: 2960.4213 - val_acc: 0.0000e+00\n",
            "Epoch 250/400\n",
            "2100/2100 [==============================] - 0s 192us/step - loss: 79.4521 - acc: 0.0024 - val_loss: 2941.3322 - val_acc: 0.0000e+00\n",
            "Epoch 251/400\n",
            "2100/2100 [==============================] - 0s 199us/step - loss: 77.5676 - acc: 0.0014 - val_loss: 2996.9446 - val_acc: 0.0000e+00\n",
            "Epoch 252/400\n",
            "2100/2100 [==============================] - 0s 194us/step - loss: 73.5712 - acc: 0.0019 - val_loss: 3259.1763 - val_acc: 0.0000e+00\n",
            "Epoch 253/400\n",
            "2100/2100 [==============================] - 0s 204us/step - loss: 107.2486 - acc: 9.5238e-04 - val_loss: 2546.5578 - val_acc: 0.0000e+00\n",
            "Epoch 254/400\n",
            "2100/2100 [==============================] - 0s 194us/step - loss: 76.7281 - acc: 0.0033 - val_loss: 2607.8908 - val_acc: 0.0000e+00\n",
            "Epoch 255/400\n",
            "2100/2100 [==============================] - 0s 195us/step - loss: 66.8177 - acc: 0.0024 - val_loss: 2816.8979 - val_acc: 0.0000e+00\n",
            "Epoch 256/400\n",
            "2100/2100 [==============================] - 0s 201us/step - loss: 64.5171 - acc: 0.0033 - val_loss: 2911.7562 - val_acc: 0.0000e+00\n",
            "Epoch 257/400\n",
            "2100/2100 [==============================] - 0s 198us/step - loss: 71.6208 - acc: 0.0024 - val_loss: 2949.2360 - val_acc: 0.0000e+00\n",
            "Epoch 258/400\n",
            "2100/2100 [==============================] - 0s 197us/step - loss: 72.9807 - acc: 0.0014 - val_loss: 2929.3921 - val_acc: 0.0000e+00\n",
            "Epoch 259/400\n",
            "2100/2100 [==============================] - 0s 199us/step - loss: 107.1332 - acc: 4.7619e-04 - val_loss: 3111.6270 - val_acc: 0.0000e+00\n",
            "Epoch 260/400\n",
            "2100/2100 [==============================] - 0s 197us/step - loss: 77.8587 - acc: 9.5238e-04 - val_loss: 2559.4451 - val_acc: 0.0000e+00\n",
            "Epoch 261/400\n",
            "2100/2100 [==============================] - 0s 208us/step - loss: 74.7760 - acc: 0.0029 - val_loss: 2918.1676 - val_acc: 0.0000e+00\n",
            "Epoch 262/400\n",
            "2100/2100 [==============================] - 0s 197us/step - loss: 69.0692 - acc: 0.0019 - val_loss: 2993.6943 - val_acc: 0.0000e+00\n",
            "Epoch 263/400\n",
            "2100/2100 [==============================] - 0s 198us/step - loss: 80.3015 - acc: 0.0019 - val_loss: 2892.8819 - val_acc: 0.0000e+00\n",
            "Epoch 264/400\n",
            "2100/2100 [==============================] - 0s 200us/step - loss: 79.9268 - acc: 0.0024 - val_loss: 2785.6902 - val_acc: 0.0000e+00\n",
            "Epoch 265/400\n",
            "2100/2100 [==============================] - 0s 195us/step - loss: 68.2008 - acc: 0.0014 - val_loss: 2839.6073 - val_acc: 0.0000e+00\n",
            "Epoch 266/400\n",
            "2100/2100 [==============================] - 0s 205us/step - loss: 69.6060 - acc: 0.0019 - val_loss: 2956.8717 - val_acc: 0.0000e+00\n",
            "Epoch 267/400\n",
            "2100/2100 [==============================] - 0s 199us/step - loss: 69.0483 - acc: 0.0014 - val_loss: 3310.3485 - val_acc: 0.0000e+00\n",
            "Epoch 268/400\n",
            "2100/2100 [==============================] - 0s 201us/step - loss: 78.3295 - acc: 0.0019 - val_loss: 3156.1729 - val_acc: 0.0000e+00\n",
            "Epoch 269/400\n",
            "2100/2100 [==============================] - 0s 193us/step - loss: 67.3221 - acc: 0.0019 - val_loss: 3011.1563 - val_acc: 0.0000e+00\n",
            "Epoch 270/400\n",
            "2100/2100 [==============================] - 0s 195us/step - loss: 69.2762 - acc: 0.0019 - val_loss: 3312.4259 - val_acc: 0.0000e+00\n",
            "Epoch 271/400\n",
            "2100/2100 [==============================] - 0s 200us/step - loss: 62.9322 - acc: 0.0033 - val_loss: 3411.8890 - val_acc: 0.0000e+00\n",
            "Epoch 272/400\n",
            "2100/2100 [==============================] - 0s 194us/step - loss: 72.6821 - acc: 0.0019 - val_loss: 2857.7782 - val_acc: 0.0000e+00\n",
            "Epoch 273/400\n",
            "2100/2100 [==============================] - 0s 196us/step - loss: 68.8469 - acc: 9.5238e-04 - val_loss: 3184.0440 - val_acc: 0.0064\n",
            "Epoch 274/400\n",
            "2100/2100 [==============================] - 0s 196us/step - loss: 70.0047 - acc: 0.0019 - val_loss: 2925.9025 - val_acc: 0.0000e+00\n",
            "Epoch 275/400\n",
            "2100/2100 [==============================] - 0s 197us/step - loss: 73.5849 - acc: 0.0024 - val_loss: 3011.9419 - val_acc: 0.0000e+00\n",
            "Epoch 276/400\n",
            "2100/2100 [==============================] - 0s 197us/step - loss: 74.0106 - acc: 0.0014 - val_loss: 2849.2860 - val_acc: 0.0000e+00\n",
            "Epoch 277/400\n",
            "2100/2100 [==============================] - 0s 191us/step - loss: 76.2219 - acc: 0.0014 - val_loss: 2633.9917 - val_acc: 0.0000e+00\n",
            "Epoch 278/400\n",
            "2100/2100 [==============================] - 0s 201us/step - loss: 75.7327 - acc: 0.0019 - val_loss: 3068.5252 - val_acc: 0.0000e+00\n",
            "Epoch 279/400\n",
            "2100/2100 [==============================] - 0s 195us/step - loss: 82.8556 - acc: 0.0019 - val_loss: 2734.3979 - val_acc: 0.0000e+00\n",
            "Epoch 280/400\n",
            "2100/2100 [==============================] - 0s 198us/step - loss: 70.5554 - acc: 0.0033 - val_loss: 2716.5847 - val_acc: 0.0000e+00\n",
            "Epoch 281/400\n",
            "2100/2100 [==============================] - 0s 195us/step - loss: 66.5977 - acc: 9.5238e-04 - val_loss: 2870.8797 - val_acc: 0.0000e+00\n",
            "Epoch 282/400\n",
            "2100/2100 [==============================] - 0s 196us/step - loss: 66.9070 - acc: 0.0014 - val_loss: 2816.4311 - val_acc: 0.0000e+00\n",
            "Epoch 283/400\n",
            "2100/2100 [==============================] - 0s 202us/step - loss: 74.0288 - acc: 0.0014 - val_loss: 2821.0199 - val_acc: 0.0000e+00\n",
            "Epoch 284/400\n",
            "2100/2100 [==============================] - 0s 196us/step - loss: 74.9620 - acc: 4.7619e-04 - val_loss: 2958.5028 - val_acc: 0.0000e+00\n",
            "Epoch 285/400\n",
            "2100/2100 [==============================] - 0s 203us/step - loss: 87.7346 - acc: 0.0024 - val_loss: 2725.1073 - val_acc: 0.0000e+00\n",
            "Epoch 286/400\n",
            "2100/2100 [==============================] - 0s 195us/step - loss: 71.8593 - acc: 9.5238e-04 - val_loss: 2876.3512 - val_acc: 0.0000e+00\n",
            "Epoch 287/400\n",
            "2100/2100 [==============================] - 0s 195us/step - loss: 69.7914 - acc: 9.5238e-04 - val_loss: 2789.4811 - val_acc: 0.0000e+00\n",
            "Epoch 288/400\n",
            "2100/2100 [==============================] - 0s 198us/step - loss: 110.3377 - acc: 4.7619e-04 - val_loss: 2882.7624 - val_acc: 0.0000e+00\n",
            "Epoch 289/400\n",
            "2100/2100 [==============================] - 0s 196us/step - loss: 75.9785 - acc: 0.0043 - val_loss: 2494.3811 - val_acc: 0.0000e+00\n",
            "Epoch 290/400\n",
            "2100/2100 [==============================] - 0s 199us/step - loss: 71.4239 - acc: 0.0014 - val_loss: 2965.5026 - val_acc: 0.0000e+00\n",
            "Epoch 291/400\n",
            "2100/2100 [==============================] - 0s 197us/step - loss: 66.3450 - acc: 9.5238e-04 - val_loss: 3081.3088 - val_acc: 0.0000e+00\n",
            "Epoch 292/400\n",
            "2100/2100 [==============================] - 0s 196us/step - loss: 75.3409 - acc: 9.5238e-04 - val_loss: 2899.6230 - val_acc: 0.0000e+00\n",
            "Epoch 293/400\n",
            "2100/2100 [==============================] - 0s 202us/step - loss: 71.9384 - acc: 9.5238e-04 - val_loss: 2927.2418 - val_acc: 0.0000e+00\n",
            "Epoch 294/400\n",
            "2100/2100 [==============================] - 0s 194us/step - loss: 64.9043 - acc: 0.0014 - val_loss: 2808.9041 - val_acc: 0.0000e+00\n",
            "Epoch 295/400\n",
            "2100/2100 [==============================] - 0s 200us/step - loss: 68.7487 - acc: 0.0014 - val_loss: 3032.1168 - val_acc: 0.0000e+00\n",
            "Epoch 296/400\n",
            "2100/2100 [==============================] - 0s 191us/step - loss: 62.3490 - acc: 9.5238e-04 - val_loss: 3167.0013 - val_acc: 0.0000e+00\n",
            "Epoch 297/400\n",
            "2100/2100 [==============================] - 0s 196us/step - loss: 65.9654 - acc: 0.0029 - val_loss: 3040.2109 - val_acc: 0.0000e+00\n",
            "Epoch 298/400\n",
            "2100/2100 [==============================] - 0s 201us/step - loss: 70.0610 - acc: 9.5238e-04 - val_loss: 2905.7384 - val_acc: 0.0000e+00\n",
            "Epoch 299/400\n",
            "2100/2100 [==============================] - 0s 194us/step - loss: 68.0930 - acc: 0.0014 - val_loss: 4176.9894 - val_acc: 0.0000e+00\n",
            "Epoch 300/400\n",
            "2100/2100 [==============================] - 0s 201us/step - loss: 71.5188 - acc: 0.0048 - val_loss: 2849.8605 - val_acc: 0.0000e+00\n",
            "Epoch 301/400\n",
            "2100/2100 [==============================] - 0s 194us/step - loss: 86.8013 - acc: 0.0024 - val_loss: 2798.2857 - val_acc: 0.0000e+00\n",
            "Epoch 302/400\n",
            "2100/2100 [==============================] - 0s 197us/step - loss: 69.5027 - acc: 0.0014 - val_loss: 3178.9146 - val_acc: 0.0000e+00\n",
            "Epoch 303/400\n",
            "2100/2100 [==============================] - 0s 201us/step - loss: 100.3824 - acc: 9.5238e-04 - val_loss: 2768.6476 - val_acc: 0.0000e+00\n",
            "Epoch 304/400\n",
            "2100/2100 [==============================] - 0s 194us/step - loss: 84.9145 - acc: 0.0029 - val_loss: 2563.5916 - val_acc: 0.0000e+00\n",
            "Epoch 305/400\n",
            "2100/2100 [==============================] - 0s 201us/step - loss: 69.0967 - acc: 0.0014 - val_loss: 2763.4097 - val_acc: 0.0000e+00\n",
            "Epoch 306/400\n",
            "2100/2100 [==============================] - 0s 193us/step - loss: 62.3254 - acc: 0.0029 - val_loss: 2992.0857 - val_acc: 0.0000e+00\n",
            "Epoch 307/400\n",
            "2100/2100 [==============================] - 0s 192us/step - loss: 62.0226 - acc: 0.0029 - val_loss: 2857.4995 - val_acc: 0.0000e+00\n",
            "Epoch 308/400\n",
            "2100/2100 [==============================] - 0s 195us/step - loss: 82.8652 - acc: 0.0019 - val_loss: 3050.3670 - val_acc: 0.0000e+00\n",
            "Epoch 309/400\n",
            "2100/2100 [==============================] - 0s 196us/step - loss: 75.7168 - acc: 0.0019 - val_loss: 2809.0165 - val_acc: 0.0000e+00\n",
            "Epoch 310/400\n",
            "2100/2100 [==============================] - 0s 198us/step - loss: 63.5938 - acc: 9.5238e-04 - val_loss: 2838.4738 - val_acc: 0.0000e+00\n",
            "Epoch 311/400\n",
            "2100/2100 [==============================] - 0s 196us/step - loss: 82.2097 - acc: 0.0014 - val_loss: 3367.4034 - val_acc: 0.0000e+00\n",
            "Epoch 312/400\n",
            "2100/2100 [==============================] - 0s 198us/step - loss: 73.6972 - acc: 0.0014 - val_loss: 2729.8729 - val_acc: 0.0000e+00\n",
            "Epoch 313/400\n",
            "2100/2100 [==============================] - 0s 200us/step - loss: 64.6243 - acc: 9.5238e-04 - val_loss: 2980.5179 - val_acc: 0.0064\n",
            "Epoch 314/400\n",
            "2100/2100 [==============================] - 0s 197us/step - loss: 63.3832 - acc: 0.0043 - val_loss: 3157.8221 - val_acc: 0.0000e+00\n",
            "Epoch 315/400\n",
            "2100/2100 [==============================] - 0s 199us/step - loss: 80.2912 - acc: 0.0019 - val_loss: 3007.0245 - val_acc: 0.0064\n",
            "Epoch 316/400\n",
            "2100/2100 [==============================] - 0s 195us/step - loss: 69.2282 - acc: 0.0019 - val_loss: 2709.3895 - val_acc: 0.0000e+00\n",
            "Epoch 317/400\n",
            "2100/2100 [==============================] - 0s 200us/step - loss: 64.7288 - acc: 0.0033 - val_loss: 3276.1169 - val_acc: 0.0000e+00\n",
            "Epoch 318/400\n",
            "2100/2100 [==============================] - 0s 197us/step - loss: 73.3023 - acc: 0.0033 - val_loss: 2695.6919 - val_acc: 0.0000e+00\n",
            "Epoch 319/400\n",
            "2100/2100 [==============================] - 0s 200us/step - loss: 72.7125 - acc: 0.0014 - val_loss: 2684.0103 - val_acc: 0.0000e+00\n",
            "Epoch 320/400\n",
            "2100/2100 [==============================] - 0s 201us/step - loss: 63.2224 - acc: 0.0019 - val_loss: 2929.1300 - val_acc: 0.0000e+00\n",
            "Epoch 321/400\n",
            "2100/2100 [==============================] - 0s 197us/step - loss: 62.5846 - acc: 0.0019 - val_loss: 2690.0932 - val_acc: 0.0000e+00\n",
            "Epoch 322/400\n",
            "2100/2100 [==============================] - 0s 203us/step - loss: 66.5259 - acc: 0.0014 - val_loss: 3611.0896 - val_acc: 0.0000e+00\n",
            "Epoch 323/400\n",
            "2100/2100 [==============================] - 0s 195us/step - loss: 77.5754 - acc: 0.0019 - val_loss: 3291.9431 - val_acc: 0.0000e+00\n",
            "Epoch 324/400\n",
            "2100/2100 [==============================] - 0s 191us/step - loss: 88.4016 - acc: 0.0019 - val_loss: 3471.6727 - val_acc: 0.0000e+00\n",
            "Epoch 325/400\n",
            "2100/2100 [==============================] - 0s 195us/step - loss: 79.2365 - acc: 0.0024 - val_loss: 2839.4052 - val_acc: 0.0000e+00\n",
            "Epoch 326/400\n",
            "2100/2100 [==============================] - 0s 202us/step - loss: 86.1934 - acc: 9.5238e-04 - val_loss: 3650.1841 - val_acc: 0.0000e+00\n",
            "Epoch 327/400\n",
            "2100/2100 [==============================] - 0s 198us/step - loss: 79.3158 - acc: 0.0029 - val_loss: 2966.6114 - val_acc: 0.0000e+00\n",
            "Epoch 328/400\n",
            "2100/2100 [==============================] - 0s 194us/step - loss: 71.0134 - acc: 0.0014 - val_loss: 2754.2486 - val_acc: 0.0000e+00\n",
            "Epoch 329/400\n",
            "2100/2100 [==============================] - 0s 193us/step - loss: 69.6578 - acc: 0.0029 - val_loss: 3348.9425 - val_acc: 0.0000e+00\n",
            "Epoch 330/400\n",
            "2100/2100 [==============================] - 0s 200us/step - loss: 66.9329 - acc: 9.5238e-04 - val_loss: 2839.9788 - val_acc: 0.0000e+00\n",
            "Epoch 331/400\n",
            "2100/2100 [==============================] - 0s 194us/step - loss: 69.9453 - acc: 0.0014 - val_loss: 2963.9564 - val_acc: 0.0000e+00\n",
            "Epoch 332/400\n",
            "2100/2100 [==============================] - 0s 195us/step - loss: 65.2129 - acc: 0.0014 - val_loss: 3209.5286 - val_acc: 0.0000e+00\n",
            "Epoch 333/400\n",
            "2100/2100 [==============================] - 0s 196us/step - loss: 64.6464 - acc: 0.0033 - val_loss: 2830.8775 - val_acc: 0.0000e+00\n",
            "Epoch 334/400\n",
            "2100/2100 [==============================] - 0s 195us/step - loss: 67.5072 - acc: 0.0024 - val_loss: 2769.5682 - val_acc: 0.0000e+00\n",
            "Epoch 335/400\n",
            "2100/2100 [==============================] - 0s 197us/step - loss: 81.0295 - acc: 0.0024 - val_loss: 2957.1333 - val_acc: 0.0000e+00\n",
            "Epoch 336/400\n",
            "2100/2100 [==============================] - 0s 196us/step - loss: 67.9019 - acc: 0.0019 - val_loss: 3874.0331 - val_acc: 0.0000e+00\n",
            "Epoch 337/400\n",
            "2100/2100 [==============================] - 0s 199us/step - loss: 77.0050 - acc: 0.0019 - val_loss: 2807.9315 - val_acc: 0.0000e+00\n",
            "Epoch 338/400\n",
            "2100/2100 [==============================] - 0s 198us/step - loss: 84.5173 - acc: 4.7619e-04 - val_loss: 2704.3553 - val_acc: 0.0000e+00\n",
            "Epoch 339/400\n",
            "2100/2100 [==============================] - 0s 197us/step - loss: 66.2816 - acc: 0.0019 - val_loss: 2920.2157 - val_acc: 0.0000e+00\n",
            "Epoch 340/400\n",
            "2100/2100 [==============================] - 0s 203us/step - loss: 68.0424 - acc: 9.5238e-04 - val_loss: 2969.0644 - val_acc: 0.0000e+00\n",
            "Epoch 341/400\n",
            "2100/2100 [==============================] - 0s 196us/step - loss: 68.7022 - acc: 9.5238e-04 - val_loss: 2834.6311 - val_acc: 0.0000e+00\n",
            "Epoch 342/400\n",
            "2100/2100 [==============================] - 0s 199us/step - loss: 65.4376 - acc: 0.0019 - val_loss: 2894.4813 - val_acc: 0.0000e+00\n",
            "Epoch 343/400\n",
            "2100/2100 [==============================] - 0s 193us/step - loss: 71.5312 - acc: 0.0014 - val_loss: 3156.0579 - val_acc: 0.0000e+00\n",
            "Epoch 344/400\n",
            "2100/2100 [==============================] - 0s 193us/step - loss: 68.7414 - acc: 0.0014 - val_loss: 2692.6594 - val_acc: 0.0000e+00\n",
            "Epoch 345/400\n",
            "2100/2100 [==============================] - 0s 199us/step - loss: 67.6194 - acc: 9.5238e-04 - val_loss: 2785.5286 - val_acc: 0.0000e+00\n",
            "Epoch 346/400\n",
            "2100/2100 [==============================] - 0s 196us/step - loss: 88.1354 - acc: 0.0014 - val_loss: 2932.5901 - val_acc: 0.0000e+00\n",
            "Epoch 347/400\n",
            "2100/2100 [==============================] - 0s 200us/step - loss: 67.3791 - acc: 4.7619e-04 - val_loss: 2789.1814 - val_acc: 0.0000e+00\n",
            "Epoch 348/400\n",
            "2100/2100 [==============================] - 0s 195us/step - loss: 72.8836 - acc: 0.0019 - val_loss: 2973.8959 - val_acc: 0.0000e+00\n",
            "Epoch 349/400\n",
            "2100/2100 [==============================] - 0s 195us/step - loss: 64.3955 - acc: 0.0019 - val_loss: 2741.6526 - val_acc: 0.0000e+00\n",
            "Epoch 350/400\n",
            "2100/2100 [==============================] - 0s 197us/step - loss: 62.8130 - acc: 0.0029 - val_loss: 2978.8895 - val_acc: 0.0000e+00\n",
            "Epoch 351/400\n",
            "2100/2100 [==============================] - 0s 195us/step - loss: 62.0363 - acc: 0.0024 - val_loss: 2785.1570 - val_acc: 0.0000e+00\n",
            "Epoch 352/400\n",
            "2100/2100 [==============================] - 0s 203us/step - loss: 73.0239 - acc: 0.0033 - val_loss: 3555.4584 - val_acc: 0.0000e+00\n",
            "Epoch 353/400\n",
            "2100/2100 [==============================] - 0s 196us/step - loss: 72.2799 - acc: 4.7619e-04 - val_loss: 3211.4481 - val_acc: 0.0000e+00\n",
            "Epoch 354/400\n",
            "2100/2100 [==============================] - 0s 195us/step - loss: 80.5838 - acc: 0.0019 - val_loss: 3698.6108 - val_acc: 0.0000e+00\n",
            "Epoch 355/400\n",
            "2100/2100 [==============================] - 0s 198us/step - loss: 92.3386 - acc: 0.0024 - val_loss: 2808.8726 - val_acc: 0.0000e+00\n",
            "Epoch 356/400\n",
            "2100/2100 [==============================] - 0s 195us/step - loss: 88.2756 - acc: 0.0019 - val_loss: 2711.5361 - val_acc: 0.0000e+00\n",
            "Epoch 357/400\n",
            "2100/2100 [==============================] - 0s 201us/step - loss: 67.2757 - acc: 9.5238e-04 - val_loss: 3001.9267 - val_acc: 0.0000e+00\n",
            "Epoch 358/400\n",
            "2100/2100 [==============================] - 0s 199us/step - loss: 62.0235 - acc: 0.0024 - val_loss: 3092.3411 - val_acc: 0.0000e+00\n",
            "Epoch 359/400\n",
            "2100/2100 [==============================] - 0s 200us/step - loss: 65.5608 - acc: 0.0043 - val_loss: 3150.3053 - val_acc: 0.0000e+00\n",
            "Epoch 360/400\n",
            "2100/2100 [==============================] - 0s 197us/step - loss: 64.3771 - acc: 9.5238e-04 - val_loss: 2838.6439 - val_acc: 0.0000e+00\n",
            "Epoch 361/400\n",
            "2100/2100 [==============================] - 0s 195us/step - loss: 68.1728 - acc: 0.0024 - val_loss: 2997.2632 - val_acc: 0.0000e+00\n",
            "Epoch 362/400\n",
            "2100/2100 [==============================] - 0s 199us/step - loss: 77.1754 - acc: 0.0024 - val_loss: 2732.0391 - val_acc: 0.0000e+00\n",
            "Epoch 363/400\n",
            "2100/2100 [==============================] - 0s 194us/step - loss: 72.9473 - acc: 4.7619e-04 - val_loss: 2739.4321 - val_acc: 0.0000e+00\n",
            "Epoch 364/400\n",
            "2100/2100 [==============================] - 0s 197us/step - loss: 68.3843 - acc: 0.0019 - val_loss: 2832.5168 - val_acc: 0.0000e+00\n",
            "Epoch 365/400\n",
            "2100/2100 [==============================] - 0s 198us/step - loss: 66.9147 - acc: 0.0019 - val_loss: 3149.2871 - val_acc: 0.0000e+00\n",
            "Epoch 366/400\n",
            "2100/2100 [==============================] - 0s 196us/step - loss: 67.9910 - acc: 0.0014 - val_loss: 2912.2876 - val_acc: 0.0000e+00\n",
            "Epoch 367/400\n",
            "2100/2100 [==============================] - 0s 200us/step - loss: 76.8072 - acc: 0.0019 - val_loss: 2927.2812 - val_acc: 0.0000e+00\n",
            "Epoch 368/400\n",
            "2100/2100 [==============================] - 0s 199us/step - loss: 72.0955 - acc: 9.5238e-04 - val_loss: 2818.5646 - val_acc: 0.0000e+00\n",
            "Epoch 369/400\n",
            "2100/2100 [==============================] - 0s 200us/step - loss: 73.0643 - acc: 9.5238e-04 - val_loss: 2600.1598 - val_acc: 0.0000e+00\n",
            "Epoch 370/400\n",
            "2100/2100 [==============================] - 0s 197us/step - loss: 68.7307 - acc: 0.0038 - val_loss: 2648.3847 - val_acc: 0.0000e+00\n",
            "Epoch 371/400\n",
            "2100/2100 [==============================] - 0s 194us/step - loss: 61.3227 - acc: 0.0019 - val_loss: 2762.7990 - val_acc: 0.0000e+00\n",
            "Epoch 372/400\n",
            "2100/2100 [==============================] - 0s 201us/step - loss: 63.4792 - acc: 0.0019 - val_loss: 3789.6673 - val_acc: 0.0000e+00\n",
            "Epoch 373/400\n",
            "2100/2100 [==============================] - 0s 195us/step - loss: 70.5360 - acc: 0.0000e+00 - val_loss: 2720.6420 - val_acc: 0.0000e+00\n",
            "Epoch 374/400\n",
            "2100/2100 [==============================] - 0s 200us/step - loss: 70.8781 - acc: 0.0014 - val_loss: 2779.4099 - val_acc: 0.0000e+00\n",
            "Epoch 375/400\n",
            "2100/2100 [==============================] - 0s 198us/step - loss: 73.9985 - acc: 0.0014 - val_loss: 2764.1558 - val_acc: 0.0000e+00\n",
            "Epoch 376/400\n",
            "2100/2100 [==============================] - 0s 195us/step - loss: 74.6997 - acc: 0.0019 - val_loss: 3605.9913 - val_acc: 0.0000e+00\n",
            "Epoch 377/400\n",
            "2100/2100 [==============================] - 0s 200us/step - loss: 66.0722 - acc: 0.0019 - val_loss: 2853.7398 - val_acc: 0.0000e+00\n",
            "Epoch 378/400\n",
            "2100/2100 [==============================] - 0s 198us/step - loss: 67.1152 - acc: 0.0014 - val_loss: 3161.0130 - val_acc: 0.0000e+00\n",
            "Epoch 379/400\n",
            "2100/2100 [==============================] - 0s 205us/step - loss: 71.1451 - acc: 9.5238e-04 - val_loss: 3130.3426 - val_acc: 0.0000e+00\n",
            "Epoch 380/400\n",
            "2100/2100 [==============================] - 0s 197us/step - loss: 70.2514 - acc: 0.0033 - val_loss: 2680.5708 - val_acc: 0.0000e+00\n",
            "Epoch 381/400\n",
            "2100/2100 [==============================] - 0s 198us/step - loss: 78.0377 - acc: 0.0019 - val_loss: 2777.0612 - val_acc: 0.0000e+00\n",
            "Epoch 382/400\n",
            "2100/2100 [==============================] - 0s 198us/step - loss: 71.0558 - acc: 9.5238e-04 - val_loss: 2710.4527 - val_acc: 0.0000e+00\n",
            "Epoch 383/400\n",
            "2100/2100 [==============================] - 0s 196us/step - loss: 61.4551 - acc: 0.0024 - val_loss: 2854.5087 - val_acc: 0.0000e+00\n",
            "Epoch 384/400\n",
            "2100/2100 [==============================] - 0s 198us/step - loss: 70.6361 - acc: 0.0019 - val_loss: 2895.0349 - val_acc: 0.0000e+00\n",
            "Epoch 385/400\n",
            "2100/2100 [==============================] - 0s 197us/step - loss: 74.7897 - acc: 0.0014 - val_loss: 2821.0557 - val_acc: 0.0000e+00\n",
            "Epoch 386/400\n",
            "2100/2100 [==============================] - 0s 206us/step - loss: 72.3131 - acc: 0.0019 - val_loss: 2809.9495 - val_acc: 0.0000e+00\n",
            "Epoch 387/400\n",
            "2100/2100 [==============================] - 0s 193us/step - loss: 67.9426 - acc: 0.0014 - val_loss: 3230.0677 - val_acc: 0.0000e+00\n",
            "Epoch 388/400\n",
            "2100/2100 [==============================] - 0s 196us/step - loss: 73.1690 - acc: 0.0019 - val_loss: 3414.0537 - val_acc: 0.0000e+00\n",
            "Epoch 389/400\n",
            "2100/2100 [==============================] - 0s 198us/step - loss: 71.1061 - acc: 0.0019 - val_loss: 3018.1244 - val_acc: 0.0000e+00\n",
            "Epoch 390/400\n",
            "2100/2100 [==============================] - 0s 194us/step - loss: 69.0468 - acc: 9.5238e-04 - val_loss: 3113.5476 - val_acc: 0.0000e+00\n",
            "Epoch 391/400\n",
            "2100/2100 [==============================] - 0s 195us/step - loss: 73.2045 - acc: 9.5238e-04 - val_loss: 2831.1478 - val_acc: 0.0000e+00\n",
            "Epoch 392/400\n",
            "2100/2100 [==============================] - 0s 197us/step - loss: 65.2417 - acc: 0.0024 - val_loss: 2898.5166 - val_acc: 0.0000e+00\n",
            "Epoch 393/400\n",
            "2100/2100 [==============================] - 0s 200us/step - loss: 65.8655 - acc: 9.5238e-04 - val_loss: 3029.7869 - val_acc: 0.0000e+00\n",
            "Epoch 394/400\n",
            "2100/2100 [==============================] - 0s 200us/step - loss: 63.6503 - acc: 0.0014 - val_loss: 3109.3966 - val_acc: 0.0000e+00\n",
            "Epoch 395/400\n",
            "2100/2100 [==============================] - 0s 192us/step - loss: 69.2097 - acc: 0.0043 - val_loss: 2967.1233 - val_acc: 0.0000e+00\n",
            "Epoch 396/400\n",
            "2100/2100 [==============================] - 0s 199us/step - loss: 70.9111 - acc: 0.0019 - val_loss: 3382.1836 - val_acc: 0.0000e+00\n",
            "Epoch 397/400\n",
            "2100/2100 [==============================] - 0s 195us/step - loss: 77.2524 - acc: 0.0024 - val_loss: 2988.6400 - val_acc: 0.0000e+00\n",
            "Epoch 398/400\n",
            "2100/2100 [==============================] - 0s 191us/step - loss: 62.9797 - acc: 0.0024 - val_loss: 2790.2058 - val_acc: 0.0000e+00\n",
            "Epoch 399/400\n",
            "2100/2100 [==============================] - 0s 199us/step - loss: 59.2518 - acc: 0.0019 - val_loss: 2863.1020 - val_acc: 0.0000e+00\n",
            "Epoch 400/400\n",
            "2100/2100 [==============================] - 0s 200us/step - loss: 67.1472 - acc: 0.0024 - val_loss: 3383.6247 - val_acc: 0.0000e+00\n"
          ],
          "name": "stdout"
        },
        {
          "output_type": "execute_result",
          "data": {
            "text/plain": [
              "<keras.callbacks.History at 0x7ffa6e3b3320>"
            ]
          },
          "metadata": {
            "tags": []
          },
          "execution_count": 79
        }
      ]
    }
  ]
}