{
  "nbformat": 4,
  "nbformat_minor": 0,
  "metadata": {
    "colab": {
      "name": "RNN and LSTM sentiment classification.ipynb",
      "version": "0.3.2",
      "provenance": [],
      "collapsed_sections": []
    },
    "kernelspec": {
      "display_name": "Python [Root]",
      "language": "python",
      "name": "Python [Root]"
    }
  },
  "cells": [
    {
      "metadata": {
        "id": "gxe7ZnfzWgkf",
        "colab_type": "code",
        "colab": {
          "base_uri": "https://localhost:8080/",
          "height": 34
        },
        "outputId": "d19b3c5b-028d-43a7-b6e9-d8b2d286812b"
      },
      "cell_type": "code",
      "source": [
        "#import relevant packages\n",
        "from keras.layers import Dense, Activation\n",
        "from keras.layers.recurrent import SimpleRNN\n",
        "from keras.models import Sequential\n",
        "from keras.utils import to_categorical\n",
        "from keras.layers.embeddings import Embedding\n",
        "from sklearn.model_selection import train_test_split\n",
        "import numpy as np\n",
        "import nltk\n",
        "from nltk.corpus import stopwords\n",
        "import re\n",
        "import pandas as pd"
      ],
      "execution_count": 1,
      "outputs": [
        {
          "output_type": "stream",
          "text": [
            "Using TensorFlow backend.\n"
          ],
          "name": "stderr"
        }
      ]
    },
    {
      "metadata": {
        "id": "KN4HuZTy9oW1",
        "colab_type": "code",
        "outputId": "342b3373-3933-4982-f878-794b1a2ef4ce",
        "colab": {
          "base_uri": "https://localhost:8080/",
          "height": 377
        }
      },
      "cell_type": "code",
      "source": [
        "!wget https://www.dropbox.com/s/8yq0edd4q908xqw/airline_sentiment.csv?dl=1"
      ],
      "execution_count": 2,
      "outputs": [
        {
          "output_type": "stream",
          "text": [
            "--2019-02-27 06:12:22--  https://www.dropbox.com/s/8yq0edd4q908xqw/airline_sentiment.csv?dl=1\n",
            "Resolving www.dropbox.com (www.dropbox.com)... 162.125.8.1, 2620:100:601f:1::a27d:901\n",
            "Connecting to www.dropbox.com (www.dropbox.com)|162.125.8.1|:443... connected.\n",
            "HTTP request sent, awaiting response... 301 Moved Permanently\n",
            "Location: /s/dl/8yq0edd4q908xqw/airline_sentiment.csv [following]\n",
            "--2019-02-27 06:12:22--  https://www.dropbox.com/s/dl/8yq0edd4q908xqw/airline_sentiment.csv\n",
            "Reusing existing connection to www.dropbox.com:443.\n",
            "HTTP request sent, awaiting response... 302 Found\n",
            "Location: https://uce0141764994f5074f72c6de0c5.dl.dropboxusercontent.com/cd/0/get/AcHSCltBGrhxPTCTZiy4gdjzY0ju2DIDvZk9L3CWU9URbQHkBreAj5lMk4isxTEEKpdwMDmiYnoVMvJtV5l1WoSg910VfOCq21GWGWh99fwl8WDyjlnvj5Zc4VCu7tinxC4/file?dl=1# [following]\n",
            "--2019-02-27 06:12:23--  https://uce0141764994f5074f72c6de0c5.dl.dropboxusercontent.com/cd/0/get/AcHSCltBGrhxPTCTZiy4gdjzY0ju2DIDvZk9L3CWU9URbQHkBreAj5lMk4isxTEEKpdwMDmiYnoVMvJtV5l1WoSg910VfOCq21GWGWh99fwl8WDyjlnvj5Zc4VCu7tinxC4/file?dl=1\n",
            "Resolving uce0141764994f5074f72c6de0c5.dl.dropboxusercontent.com (uce0141764994f5074f72c6de0c5.dl.dropboxusercontent.com)... 162.125.81.6, 2620:100:601f:6::a27d:906\n",
            "Connecting to uce0141764994f5074f72c6de0c5.dl.dropboxusercontent.com (uce0141764994f5074f72c6de0c5.dl.dropboxusercontent.com)|162.125.81.6|:443... connected.\n",
            "HTTP request sent, awaiting response... 200 OK\n",
            "Length: 1305250 (1.2M) [application/binary]\n",
            "Saving to: ‘airline_sentiment.csv?dl=1’\n",
            "\n",
            "airline_sentiment.c 100%[===================>]   1.24M   821KB/s    in 1.6s    \n",
            "\n",
            "2019-02-27 06:12:26 (821 KB/s) - ‘airline_sentiment.csv?dl=1’ saved [1305250/1305250]\n",
            "\n"
          ],
          "name": "stdout"
        }
      ]
    },
    {
      "metadata": {
        "id": "b-obchM192WH",
        "colab_type": "code",
        "outputId": "702ba49b-4403-4f2a-acd8-1a20f065b46a",
        "colab": {
          "base_uri": "https://localhost:8080/",
          "height": 34
        }
      },
      "cell_type": "code",
      "source": [
        "!ls"
      ],
      "execution_count": 3,
      "outputs": [
        {
          "output_type": "stream",
          "text": [
            "'airline_sentiment.csv?dl=1'   sample_data\n"
          ],
          "name": "stdout"
        }
      ]
    },
    {
      "metadata": {
        "id": "WY4zhjQpWgkr",
        "colab_type": "code",
        "outputId": "e802a55a-2a77-40db-9b7e-8a0b69582f13",
        "colab": {
          "base_uri": "https://localhost:8080/",
          "height": 204
        }
      },
      "cell_type": "code",
      "source": [
        "t=pd.read_csv('/content/airline_sentiment.csv?dl=1')\n",
        "t.head()"
      ],
      "execution_count": 5,
      "outputs": [
        {
          "output_type": "execute_result",
          "data": {
            "text/html": [
              "<div>\n",
              "<style scoped>\n",
              "    .dataframe tbody tr th:only-of-type {\n",
              "        vertical-align: middle;\n",
              "    }\n",
              "\n",
              "    .dataframe tbody tr th {\n",
              "        vertical-align: top;\n",
              "    }\n",
              "\n",
              "    .dataframe thead th {\n",
              "        text-align: right;\n",
              "    }\n",
              "</style>\n",
              "<table border=\"1\" class=\"dataframe\">\n",
              "  <thead>\n",
              "    <tr style=\"text-align: right;\">\n",
              "      <th></th>\n",
              "      <th>airline_sentiment</th>\n",
              "      <th>text</th>\n",
              "    </tr>\n",
              "  </thead>\n",
              "  <tbody>\n",
              "    <tr>\n",
              "      <th>0</th>\n",
              "      <td>1</td>\n",
              "      <td>@VirginAmerica plus you've added commercials t...</td>\n",
              "    </tr>\n",
              "    <tr>\n",
              "      <th>1</th>\n",
              "      <td>0</td>\n",
              "      <td>@VirginAmerica it's really aggressive to blast...</td>\n",
              "    </tr>\n",
              "    <tr>\n",
              "      <th>2</th>\n",
              "      <td>0</td>\n",
              "      <td>@VirginAmerica and it's a really big bad thing...</td>\n",
              "    </tr>\n",
              "    <tr>\n",
              "      <th>3</th>\n",
              "      <td>0</td>\n",
              "      <td>@VirginAmerica seriously would pay $30 a fligh...</td>\n",
              "    </tr>\n",
              "    <tr>\n",
              "      <th>4</th>\n",
              "      <td>1</td>\n",
              "      <td>@VirginAmerica yes, nearly every time I fly VX...</td>\n",
              "    </tr>\n",
              "  </tbody>\n",
              "</table>\n",
              "</div>"
            ],
            "text/plain": [
              "   airline_sentiment                                               text\n",
              "0                  1  @VirginAmerica plus you've added commercials t...\n",
              "1                  0  @VirginAmerica it's really aggressive to blast...\n",
              "2                  0  @VirginAmerica and it's a really big bad thing...\n",
              "3                  0  @VirginAmerica seriously would pay $30 a fligh...\n",
              "4                  1  @VirginAmerica yes, nearly every time I fly VX..."
            ]
          },
          "metadata": {
            "tags": []
          },
          "execution_count": 5
        }
      ]
    },
    {
      "metadata": {
        "id": "L3MHa68uWgkz",
        "colab_type": "code",
        "outputId": "8706ecd4-b206-4ff7-f1b4-d68558e6f105",
        "colab": {
          "base_uri": "https://localhost:8080/",
          "height": 51
        }
      },
      "cell_type": "code",
      "source": [
        "import nltk\n",
        "nltk.download('stopwords')\n",
        "stop = nltk.corpus.stopwords.words('english')"
      ],
      "execution_count": 6,
      "outputs": [
        {
          "output_type": "stream",
          "text": [
            "[nltk_data] Downloading package stopwords to /root/nltk_data...\n",
            "[nltk_data]   Unzipping corpora/stopwords.zip.\n"
          ],
          "name": "stdout"
        }
      ]
    },
    {
      "metadata": {
        "id": "9Wb3M6jIWgk2",
        "colab_type": "code",
        "colab": {}
      },
      "cell_type": "code",
      "source": [
        "def preprocess(text):\n",
        "    text=text.lower()\n",
        "    text=re.sub('[^0-9a-zA-Z]+',' ',text)\n",
        "    words = text.split()\n",
        "    words2=[w for w in words if (w not in stop)]\n",
        "    #words3=[ps.stem(w) for w in words]\n",
        "    words4=' '.join(words2)\n",
        "    return(words4)"
      ],
      "execution_count": 0,
      "outputs": []
    },
    {
      "metadata": {
        "id": "t2gXWeDTWgk4",
        "colab_type": "code",
        "colab": {}
      },
      "cell_type": "code",
      "source": [
        "t['text'] = t['text'].apply(preprocess)"
      ],
      "execution_count": 0,
      "outputs": []
    },
    {
      "metadata": {
        "id": "Jq2mz7dMWgk6",
        "colab_type": "code",
        "colab": {}
      },
      "cell_type": "code",
      "source": [
        "from collections import Counter\n",
        "counts = Counter()\n",
        "for i,review in enumerate(t['text']):\n",
        "    counts.update(review.split())"
      ],
      "execution_count": 0,
      "outputs": []
    },
    {
      "metadata": {
        "id": "vUoKXQksWgk9",
        "colab_type": "code",
        "outputId": "442cd48a-7a54-4be8-bac6-bab8fc02f1d6",
        "colab": {
          "base_uri": "https://localhost:8080/",
          "height": 187
        }
      },
      "cell_type": "code",
      "source": [
        "words = sorted(counts, key=counts.get, reverse=True)\n",
        "words[0:10]"
      ],
      "execution_count": 10,
      "outputs": [
        {
          "output_type": "execute_result",
          "data": {
            "text/plain": [
              "['united',\n",
              " 'flight',\n",
              " 'usairways',\n",
              " 'americanair',\n",
              " 'southwestair',\n",
              " 'jetblue',\n",
              " 'get',\n",
              " 'cancelled',\n",
              " 'thanks',\n",
              " 'service']"
            ]
          },
          "metadata": {
            "tags": []
          },
          "execution_count": 10
        }
      ]
    },
    {
      "metadata": {
        "id": "003q10B4WglA",
        "colab_type": "code",
        "outputId": "39fb74fa-9dbd-4942-a235-f7d1852d1700",
        "colab": {
          "base_uri": "https://localhost:8080/",
          "height": 34
        }
      },
      "cell_type": "code",
      "source": [
        "chars = words\n",
        "nb_chars = len(words)\n",
        "nb_chars"
      ],
      "execution_count": 11,
      "outputs": [
        {
          "output_type": "execute_result",
          "data": {
            "text/plain": [
              "12532"
            ]
          },
          "metadata": {
            "tags": []
          },
          "execution_count": 11
        }
      ]
    },
    {
      "metadata": {
        "id": "LobcZ4HEWglE",
        "colab_type": "code",
        "colab": {}
      },
      "cell_type": "code",
      "source": [
        "word_to_int = {word: i for i, word in enumerate(words, 1)}\n",
        "int_to_word = {i: word for i, word in enumerate(words, 1)}"
      ],
      "execution_count": 0,
      "outputs": []
    },
    {
      "metadata": {
        "id": "SewigN-_l0FF",
        "colab_type": "code",
        "colab": {}
      },
      "cell_type": "code",
      "source": [
        "int_to_word"
      ],
      "execution_count": 0,
      "outputs": []
    },
    {
      "metadata": {
        "id": "5hM8Ka3IWglP",
        "colab_type": "code",
        "colab": {}
      },
      "cell_type": "code",
      "source": [
        "mapped_reviews = []\n",
        "for review in t['text']:\n",
        "    mapped_reviews.append([word_to_int[word] for word in review.split()])"
      ],
      "execution_count": 0,
      "outputs": []
    },
    {
      "metadata": {
        "id": "ZMVkpTt2mIRq",
        "colab_type": "code",
        "colab": {
          "base_uri": "https://localhost:8080/",
          "height": 51
        },
        "outputId": "bee8c977-d746-4330-a797-42574722e9b0"
      },
      "cell_type": "code",
      "source": [
        "print('Original text:',t.loc[0]['text'])\n",
        "print('Mapped text:',mapped_reviews[0])"
      ],
      "execution_count": 17,
      "outputs": [
        {
          "output_type": "stream",
          "text": [
            "('Original text:', 'virginamerica plus added commercials experience tacky')\n",
            "('Mapped text:', [44, 459, 1198, 2482, 100, 9958])\n"
          ],
          "name": "stdout"
        }
      ]
    },
    {
      "metadata": {
        "id": "bewMIqLVWglT",
        "colab_type": "code",
        "outputId": "f799d33e-b0a9-4a2d-8177-00c22ca50f5e",
        "colab": {
          "base_uri": "https://localhost:8080/",
          "height": 68
        }
      },
      "cell_type": "code",
      "source": [
        "t.loc[0:1]['text']"
      ],
      "execution_count": 18,
      "outputs": [
        {
          "output_type": "execute_result",
          "data": {
            "text/plain": [
              "0    virginamerica plus added commercials experienc...\n",
              "1    virginamerica really aggressive blast obnoxiou...\n",
              "Name: text, dtype: object"
            ]
          },
          "metadata": {
            "tags": []
          },
          "execution_count": 18
        }
      ]
    },
    {
      "metadata": {
        "id": "Zn_nkiQWWglX",
        "colab_type": "code",
        "outputId": "dea68fc9-d3b6-4486-f370-a315f4ca1651",
        "colab": {
          "base_uri": "https://localhost:8080/",
          "height": 51
        }
      },
      "cell_type": "code",
      "source": [
        "mapped_reviews[0:2]"
      ],
      "execution_count": 19,
      "outputs": [
        {
          "output_type": "execute_result",
          "data": {
            "text/plain": [
              "[[44, 459, 1198, 2482, 100, 9958],\n",
              " [44, 57, 3111, 4323, 4791, 831, 3445, 5090, 20, 371, 2457]]"
            ]
          },
          "metadata": {
            "tags": []
          },
          "execution_count": 19
        }
      ]
    },
    {
      "metadata": {
        "id": "3Cd32eGeCz9K",
        "colab_type": "code",
        "outputId": "d521e0ac-2f48-4367-d92e-10b176641cba",
        "colab": {
          "base_uri": "https://localhost:8080/",
          "height": 34
        }
      },
      "cell_type": "code",
      "source": [
        "length_sent = []\n",
        "for i in range(len(mapped_reviews)):\n",
        "  length_sent.append(len(mapped_reviews[i]))\n",
        "max(length_sent)"
      ],
      "execution_count": 20,
      "outputs": [
        {
          "output_type": "execute_result",
          "data": {
            "text/plain": [
              "26"
            ]
          },
          "metadata": {
            "tags": []
          },
          "execution_count": 20
        }
      ]
    },
    {
      "metadata": {
        "id": "hHCBcPejWglb",
        "colab_type": "code",
        "colab": {}
      },
      "cell_type": "code",
      "source": [
        "sequence_length = max(length_sent)\n",
        "from keras.preprocessing.sequence import pad_sequences\n",
        "X = pad_sequences(maxlen=sequence_length, sequences=mapped_reviews, padding=\"post\", value=0)"
      ],
      "execution_count": 0,
      "outputs": []
    },
    {
      "metadata": {
        "id": "EpDc9SCaWgld",
        "colab_type": "code",
        "outputId": "cd788312-674a-43e9-fdfa-86a3c87e1dd0",
        "colab": {
          "base_uri": "https://localhost:8080/",
          "height": 34
        }
      },
      "cell_type": "code",
      "source": [
        "X.shape"
      ],
      "execution_count": 22,
      "outputs": [
        {
          "output_type": "execute_result",
          "data": {
            "text/plain": [
              "(11541, 26)"
            ]
          },
          "metadata": {
            "tags": []
          },
          "execution_count": 22
        }
      ]
    },
    {
      "metadata": {
        "id": "rZXXQr5OWglh",
        "colab_type": "code",
        "colab": {}
      },
      "cell_type": "code",
      "source": [
        "y=t['airline_sentiment'].values"
      ],
      "execution_count": 0,
      "outputs": []
    },
    {
      "metadata": {
        "id": "NZVO0ey8Wglj",
        "colab_type": "code",
        "colab": {}
      },
      "cell_type": "code",
      "source": [
        "X_train, X_test, y_train, y_test = train_test_split(X, y, test_size=0.30,random_state=10)\n",
        "y_train2 = to_categorical(y_train)\n",
        "y_test2 = to_categorical(y_test)"
      ],
      "execution_count": 0,
      "outputs": []
    },
    {
      "metadata": {
        "id": "8e-ylS_HDemx",
        "colab_type": "code",
        "outputId": "07c80af4-a393-47d4-dd19-3d8add9bd782",
        "colab": {
          "base_uri": "https://localhost:8080/",
          "height": 255
        }
      },
      "cell_type": "code",
      "source": [
        "embedding_vecor_length=32\n",
        "max_review_length=26\n",
        "model = Sequential()\n",
        "model.add(Embedding(input_dim=12533, output_dim=32, input_length = 26))\n",
        "model.add(SimpleRNN(40, return_sequences=False))\n",
        "model.add(Dense(2, activation='softmax'))\n",
        "model.compile(loss='categorical_crossentropy', optimizer='adam', metrics=['accuracy'])\n",
        "print(model.summary())"
      ],
      "execution_count": 30,
      "outputs": [
        {
          "output_type": "stream",
          "text": [
            "_________________________________________________________________\n",
            "Layer (type)                 Output Shape              Param #   \n",
            "=================================================================\n",
            "embedding_2 (Embedding)      (None, 26, 32)            401056    \n",
            "_________________________________________________________________\n",
            "simple_rnn_2 (SimpleRNN)     (None, 40)                2920      \n",
            "_________________________________________________________________\n",
            "dense_2 (Dense)              (None, 2)                 82        \n",
            "=================================================================\n",
            "Total params: 404,058\n",
            "Trainable params: 404,058\n",
            "Non-trainable params: 0\n",
            "_________________________________________________________________\n",
            "None\n"
          ],
          "name": "stdout"
        }
      ]
    },
    {
      "metadata": {
        "id": "rGEL7t71LX4k",
        "colab_type": "code",
        "outputId": "5509ca7f-c25b-40d9-8ec2-c08792b8f022",
        "colab": {
          "base_uri": "https://localhost:8080/",
          "height": 34
        }
      },
      "cell_type": "code",
      "source": [
        "12533*32"
      ],
      "execution_count": 31,
      "outputs": [
        {
          "output_type": "execute_result",
          "data": {
            "text/plain": [
              "401056"
            ]
          },
          "metadata": {
            "tags": []
          },
          "execution_count": 31
        }
      ]
    },
    {
      "metadata": {
        "id": "yLUYOUubLZpB",
        "colab_type": "code",
        "outputId": "7b35bc47-1ff9-43f9-e795-9f57753af117",
        "colab": {
          "base_uri": "https://localhost:8080/",
          "height": 34
        }
      },
      "cell_type": "code",
      "source": [
        "(32+40)*40+40"
      ],
      "execution_count": 32,
      "outputs": [
        {
          "output_type": "execute_result",
          "data": {
            "text/plain": [
              "2920"
            ]
          },
          "metadata": {
            "tags": []
          },
          "execution_count": 32
        }
      ]
    },
    {
      "metadata": {
        "id": "v5avYiY8Wgll",
        "colab_type": "code",
        "outputId": "656f10e2-4426-4406-e12e-0fdf11336371",
        "colab": {
          "base_uri": "https://localhost:8080/",
          "height": 374
        }
      },
      "cell_type": "code",
      "source": [
        "history = model.fit(X_train, y_train2, validation_data=(X_test, y_test2), epochs=10, batch_size=32)"
      ],
      "execution_count": 33,
      "outputs": [
        {
          "output_type": "stream",
          "text": [
            "Train on 8078 samples, validate on 3463 samples\n",
            "Epoch 1/10\n",
            "8078/8078 [==============================] - 3s 408us/step - loss: 0.3510 - acc: 0.8557 - val_loss: 0.2750 - val_acc: 0.8906\n",
            "Epoch 2/10\n",
            "8078/8078 [==============================] - 3s 340us/step - loss: 0.1408 - acc: 0.9511 - val_loss: 0.2780 - val_acc: 0.8989\n",
            "Epoch 3/10\n",
            "8078/8078 [==============================] - 3s 334us/step - loss: 0.0476 - acc: 0.9848 - val_loss: 0.3681 - val_acc: 0.8937\n",
            "Epoch 4/10\n",
            "8078/8078 [==============================] - 2s 301us/step - loss: 0.0192 - acc: 0.9949 - val_loss: 0.4388 - val_acc: 0.8900\n",
            "Epoch 5/10\n",
            "8078/8078 [==============================] - 2s 282us/step - loss: 0.0095 - acc: 0.9981 - val_loss: 0.4780 - val_acc: 0.8880\n",
            "Epoch 6/10\n",
            "8078/8078 [==============================] - 3s 333us/step - loss: 0.0110 - acc: 0.9972 - val_loss: 0.4537 - val_acc: 0.8868\n",
            "Epoch 7/10\n",
            "8078/8078 [==============================] - 3s 355us/step - loss: 0.0089 - acc: 0.9969 - val_loss: 0.4820 - val_acc: 0.8877\n",
            "Epoch 8/10\n",
            "8078/8078 [==============================] - 3s 351us/step - loss: 0.0069 - acc: 0.9983 - val_loss: 0.5249 - val_acc: 0.8666\n",
            "Epoch 9/10\n",
            "8078/8078 [==============================] - 3s 359us/step - loss: 0.0029 - acc: 0.9995 - val_loss: 0.5299 - val_acc: 0.8787\n",
            "Epoch 10/10\n",
            "8078/8078 [==============================] - 3s 349us/step - loss: 0.0066 - acc: 0.9974 - val_loss: 0.6295 - val_acc: 0.8282\n"
          ],
          "name": "stdout"
        }
      ]
    },
    {
      "metadata": {
        "id": "Fhd0ZOIlpU6B",
        "colab_type": "code",
        "colab": {
          "base_uri": "https://localhost:8080/",
          "height": 389
        },
        "outputId": "b73b5f8c-3884-4e02-fbca-9019a41498fb"
      },
      "cell_type": "code",
      "source": [
        "import matplotlib.pyplot as plt\n",
        "%matplotlib inline\n",
        "history_dict = history.history\n",
        "loss_values = history_dict['loss']\n",
        "val_loss_values = history_dict['val_loss']\n",
        "acc_values = history_dict['acc']\n",
        "val_acc_values = history_dict['val_acc']\n",
        "epochs = range(1, len(val_loss_values) + 1)\n",
        "import matplotlib.ticker as mtick\n",
        "plt.subplot(211)\n",
        "plt.plot(epochs, history.history['loss'], 'bo', label='Training loss')\n",
        "plt.plot(epochs, val_loss_values, 'r', label='Test loss')\n",
        "plt.title('Training and test loss')\n",
        "plt.xlabel('Epochs')\n",
        "plt.ylabel('Loss')\n",
        "plt.legend()\n",
        "plt.grid('off')\n",
        "plt.show()\n",
        "plt.subplot(212)\n",
        "plt.plot(epochs, history.history['acc'], 'bo', label='Training accuracy')\n",
        "plt.plot(epochs, val_acc_values, 'r', label='Test accuracy')\n",
        "plt.title('Training and test accuracy')\n",
        "plt.xlabel('Epochs')\n",
        "plt.ylabel('Accuracy')\n",
        "plt.gca().set_yticklabels(['{:.0f}%'.format(x*100) for x in plt.gca().get_yticks()]) \n",
        "plt.legend()\n",
        "plt.grid('off')\n",
        "plt.show()"
      ],
      "execution_count": 34,
      "outputs": [
        {
          "output_type": "stream",
          "text": [
            "/usr/local/lib/python2.7/dist-packages/matplotlib/cbook/deprecation.py:107: MatplotlibDeprecationWarning: Passing one of 'on', 'true', 'off', 'false' as a boolean is deprecated; use an actual boolean (True/False) instead.\n",
            "  warnings.warn(message, mplDeprecation, stacklevel=1)\n"
          ],
          "name": "stderr"
        },
        {
          "output_type": "display_data",
          "data": {
            "image/png": "[encoded data removed]",
            "text/plain": [
              "<Figure size 432x288 with 1 Axes>"
            ]
          },
          "metadata": {
            "tags": []
          }
        },
        {
          "output_type": "display_data",
          "data": {
            "image/png": "[encoded data removed]",
            "text/plain": [
              "<Figure size 432x288 with 1 Axes>"
            ]
          },
          "metadata": {
            "tags": []
          }
        }
      ]
    },
    {
      "metadata": {
        "id": "3q4DmF3S4Yt_",
        "colab_type": "text"
      },
      "cell_type": "markdown",
      "source": [
        "# Sentiment classification using LSTM"
      ]
    },
    {
      "metadata": {
        "id": "x6WQWjDWUHXG",
        "colab_type": "code",
        "colab": {}
      },
      "cell_type": "code",
      "source": [
        "from keras.layers import LSTM"
      ],
      "execution_count": 0,
      "outputs": []
    },
    {
      "metadata": {
        "id": "InBmUQ_7UHa5",
        "colab_type": "code",
        "outputId": "5d68834b-9519-4460-a61a-a7a1d7a45b0a",
        "colab": {
          "base_uri": "https://localhost:8080/",
          "height": 255
        }
      },
      "cell_type": "code",
      "source": [
        "embedding_vecor_length=32\n",
        "max_review_length=26\n",
        "model = Sequential()\n",
        "model.add(Embedding(input_dim=12533, output_dim=32, input_length = 26))\n",
        "model.add(LSTM(40, return_sequences=False))\n",
        "model.add(Dense(2, activation='softmax'))\n",
        "model.compile(loss='categorical_crossentropy', optimizer='adam', metrics=['accuracy'])\n",
        "print(model.summary())"
      ],
      "execution_count": 36,
      "outputs": [
        {
          "output_type": "stream",
          "text": [
            "_________________________________________________________________\n",
            "Layer (type)                 Output Shape              Param #   \n",
            "=================================================================\n",
            "embedding_3 (Embedding)      (None, 26, 32)            401056    \n",
            "_________________________________________________________________\n",
            "lstm_1 (LSTM)                (None, 40)                11680     \n",
            "_________________________________________________________________\n",
            "dense_3 (Dense)              (None, 2)                 82        \n",
            "=================================================================\n",
            "Total params: 412,818\n",
            "Trainable params: 412,818\n",
            "Non-trainable params: 0\n",
            "_________________________________________________________________\n",
            "None\n"
          ],
          "name": "stdout"
        }
      ]
    },
    {
      "metadata": {
        "id": "2O-MJwWZUHd6",
        "colab_type": "code",
        "outputId": "d3c9b475-d62f-44f3-dbb0-fe42eae8f117",
        "colab": {
          "base_uri": "https://localhost:8080/",
          "height": 34
        }
      },
      "cell_type": "code",
      "source": [
        "W = model.layers[1].get_weights()[0]\n",
        "U = model.layers[1].get_weights()[1]\n",
        "b = model.layers[1].get_weights()[2]\n",
        "print(W.shape,U.shape,b.shape)"
      ],
      "execution_count": 37,
      "outputs": [
        {
          "output_type": "stream",
          "text": [
            "((32, 160), (40, 160), (160,))\n"
          ],
          "name": "stdout"
        }
      ]
    },
    {
      "metadata": {
        "id": "2SyoKOB8c_8-",
        "colab_type": "code",
        "colab": {}
      },
      "cell_type": "code",
      "source": [
        "units = 40\n",
        "W_i = W[:, :units]\n",
        "W_f = W[:, units: units * 2]\n",
        "W_c = W[:, units * 2: units * 3]\n",
        "W_o = W[:, units * 3:]\n",
        "\n",
        "U_i = U[:, :units]\n",
        "U_f = U[:, units: units * 2]\n",
        "U_c = U[:, units * 2: units * 3]\n",
        "U_o = U[:, units * 3:]\n",
        "\n",
        "b_i = b[:units]\n",
        "b_f = b[units: units * 2]\n",
        "b_c = b[units * 2: units * 3]\n",
        "b_o = b[units * 3:]"
      ],
      "execution_count": 0,
      "outputs": []
    },
    {
      "metadata": {
        "id": "lZRG6VMbdITu",
        "colab_type": "code",
        "outputId": "90c75adf-6151-4f0c-8208-e1d8f32a1754",
        "colab": {
          "base_uri": "https://localhost:8080/",
          "height": 34
        }
      },
      "cell_type": "code",
      "source": [
        "W.shape"
      ],
      "execution_count": 39,
      "outputs": [
        {
          "output_type": "execute_result",
          "data": {
            "text/plain": [
              "(32, 160)"
            ]
          },
          "metadata": {
            "tags": []
          },
          "execution_count": 39
        }
      ]
    },
    {
      "metadata": {
        "id": "E9yZtdGqWnpQ",
        "colab_type": "code",
        "outputId": "f954866e-dca1-4a53-f58a-50a9d87db703",
        "colab": {
          "base_uri": "https://localhost:8080/",
          "height": 34
        }
      },
      "cell_type": "code",
      "source": [
        "73*160"
      ],
      "execution_count": 40,
      "outputs": [
        {
          "output_type": "execute_result",
          "data": {
            "text/plain": [
              "11680"
            ]
          },
          "metadata": {
            "tags": []
          },
          "execution_count": 40
        }
      ]
    },
    {
      "metadata": {
        "id": "hVD0t2Y5V7Cz",
        "colab_type": "code",
        "outputId": "5dcc7201-b593-46c3-a73c-0f737f2d9e91",
        "colab": {
          "base_uri": "https://localhost:8080/",
          "height": 374
        }
      },
      "cell_type": "code",
      "source": [
        "history = model.fit(X_train, y_train2, validation_data=(X_test, y_test2), epochs=10, batch_size=32)"
      ],
      "execution_count": 41,
      "outputs": [
        {
          "output_type": "stream",
          "text": [
            "Train on 8078 samples, validate on 3463 samples\n",
            "Epoch 1/10\n",
            "8078/8078 [==============================] - 7s 846us/step - loss: 0.4206 - acc: 0.8300 - val_loss: 0.2294 - val_acc: 0.9076\n",
            "Epoch 2/10\n",
            "8078/8078 [==============================] - 6s 704us/step - loss: 0.1601 - acc: 0.9410 - val_loss: 0.2091 - val_acc: 0.9220\n",
            "Epoch 3/10\n",
            "8078/8078 [==============================] - 6s 723us/step - loss: 0.0898 - acc: 0.9694 - val_loss: 0.2126 - val_acc: 0.9111\n",
            "Epoch 4/10\n",
            "8078/8078 [==============================] - 6s 729us/step - loss: 0.0532 - acc: 0.9835 - val_loss: 0.2873 - val_acc: 0.9125\n",
            "Epoch 5/10\n",
            "8078/8078 [==============================] - 6s 713us/step - loss: 0.0317 - acc: 0.9911 - val_loss: 0.3744 - val_acc: 0.9070\n",
            "Epoch 6/10\n",
            "8078/8078 [==============================] - 6s 789us/step - loss: 0.0216 - acc: 0.9946 - val_loss: 0.4088 - val_acc: 0.9012\n",
            "Epoch 7/10\n",
            "8078/8078 [==============================] - 5s 667us/step - loss: 0.0200 - acc: 0.9953 - val_loss: 0.3917 - val_acc: 0.9064\n",
            "Epoch 8/10\n",
            "8078/8078 [==============================] - 6s 719us/step - loss: 0.0156 - acc: 0.9963 - val_loss: 0.4006 - val_acc: 0.9082\n",
            "Epoch 9/10\n",
            "8078/8078 [==============================] - 6s 728us/step - loss: 0.0213 - acc: 0.9934 - val_loss: 0.3460 - val_acc: 0.9038\n",
            "Epoch 10/10\n",
            "8078/8078 [==============================] - 6s 740us/step - loss: 0.0121 - acc: 0.9969 - val_loss: 0.4840 - val_acc: 0.9059\n"
          ],
          "name": "stdout"
        }
      ]
    },
    {
      "metadata": {
        "id": "a3di0orBd8_9",
        "colab_type": "code",
        "colab": {
          "base_uri": "https://localhost:8080/",
          "height": 335
        },
        "outputId": "865e8037-567b-409e-8c32-e6772861542b"
      },
      "cell_type": "code",
      "source": [
        "import matplotlib.pyplot as plt\n",
        "%matplotlib inline\n",
        "history_dict = history.history\n",
        "loss_values = history_dict['loss']\n",
        "val_loss_values = history_dict['val_loss']\n",
        "acc_values = history_dict['acc']\n",
        "val_acc_values = history_dict['val_acc']\n",
        "epochs = range(1, len(val_loss_values) + 1)\n",
        "import matplotlib.ticker as mtick\n",
        "plt.subplot(211)\n",
        "plt.plot(epochs, history.history['loss'], 'bo', label='Training loss')\n",
        "plt.plot(epochs, val_loss_values, 'r', label='Test loss')\n",
        "plt.title('Training and test loss')\n",
        "plt.xlabel('Epochs')\n",
        "plt.ylabel('Loss')\n",
        "plt.legend()\n",
        "plt.grid('off')\n",
        "plt.show()\n",
        "plt.subplot(212)\n",
        "plt.plot(epochs, history.history['acc'], 'bo', label='Training accuracy')\n",
        "plt.plot(epochs, val_acc_values, 'r', label='Test accuracy')\n",
        "plt.title('Training and test accuracy')\n",
        "plt.xlabel('Epochs')\n",
        "plt.ylabel('Accuracy')\n",
        "plt.gca().set_yticklabels(['{:.0f}%'.format(x*100) for x in plt.gca().get_yticks()]) \n",
        "plt.legend()\n",
        "plt.grid('off')\n",
        "plt.show()"
      ],
      "execution_count": 42,
      "outputs": [
        {
          "output_type": "display_data",
          "data": {
            "image/png": "[encoded data removed]",
            "text/plain": [
              "<Figure size 432x288 with 1 Axes>"
            ]
          },
          "metadata": {
            "tags": []
          }
        },
        {
          "output_type": "display_data",
          "data": {
            "image/png": "[encoded data removed]",
            "text/plain": [
              "<Figure size 432x288 with 1 Axes>"
            ]
          },
          "metadata": {
            "tags": []
          }
        }
      ]
    },
    {
      "metadata": {
        "id": "8weruo6U4bzv",
        "colab_type": "text"
      },
      "cell_type": "markdown",
      "source": [
        "# Sentiment classification using stacked LSTM"
      ]
    },
    {
      "metadata": {
        "id": "7tJE43vLd_Ng",
        "colab_type": "code",
        "outputId": "d9a35622-da05-4191-f31c-80787633c963",
        "colab": {
          "base_uri": "https://localhost:8080/",
          "height": 289
        }
      },
      "cell_type": "code",
      "source": [
        "embedding_vecor_length=32\n",
        "max_review_length=26\n",
        "model = Sequential()\n",
        "model.add(Embedding(input_dim=12533, output_dim=32, input_length = 26))\n",
        "model.add(LSTM(40, return_sequences=True,name='lstm1'))\n",
        "model.add(LSTM(40, return_sequences=False,name='lstm2'))\n",
        "model.add(Dense(2, activation='softmax'))\n",
        "model.compile(loss='categorical_crossentropy', optimizer='adam', metrics=['accuracy'])\n",
        "print(model.summary())"
      ],
      "execution_count": 43,
      "outputs": [
        {
          "output_type": "stream",
          "text": [
            "_________________________________________________________________\n",
            "Layer (type)                 Output Shape              Param #   \n",
            "=================================================================\n",
            "embedding_4 (Embedding)      (None, 26, 32)            401056    \n",
            "_________________________________________________________________\n",
            "lstm1 (LSTM)                 (None, 26, 40)            11680     \n",
            "_________________________________________________________________\n",
            "lstm2 (LSTM)                 (None, 40)                12960     \n",
            "_________________________________________________________________\n",
            "dense_4 (Dense)              (None, 2)                 82        \n",
            "=================================================================\n",
            "Total params: 425,778\n",
            "Trainable params: 425,778\n",
            "Non-trainable params: 0\n",
            "_________________________________________________________________\n",
            "None\n"
          ],
          "name": "stdout"
        }
      ]
    },
    {
      "metadata": {
        "id": "TCDn0s8GkRKo",
        "colab_type": "code",
        "outputId": "069d95e9-744e-4f1e-f586-258e59893ec0",
        "colab": {
          "base_uri": "https://localhost:8080/",
          "height": 34
        }
      },
      "cell_type": "code",
      "source": [
        "X_train[0].shape"
      ],
      "execution_count": 44,
      "outputs": [
        {
          "output_type": "execute_result",
          "data": {
            "text/plain": [
              "(26,)"
            ]
          },
          "metadata": {
            "tags": []
          },
          "execution_count": 44
        }
      ]
    },
    {
      "metadata": {
        "id": "z2Xj0eamkH1z",
        "colab_type": "code",
        "outputId": "6bf89a4a-8f39-4fe4-ce23-5cdd2763a019",
        "colab": {
          "base_uri": "https://localhost:8080/",
          "height": 34
        }
      },
      "cell_type": "code",
      "source": [
        "from keras.models import Model\n",
        "\n",
        "XX = model.input \n",
        "YY = model.layers[1].output\n",
        "new_model = Model(XX, YY)\n",
        "Xresult = new_model.predict(X_train[0].reshape(1,26))\n",
        "Xresult.shape"
      ],
      "execution_count": 45,
      "outputs": [
        {
          "output_type": "execute_result",
          "data": {
            "text/plain": [
              "(1, 26, 40)"
            ]
          },
          "metadata": {
            "tags": []
          },
          "execution_count": 45
        }
      ]
    },
    {
      "metadata": {
        "id": "1d3tEUKOi4Dm",
        "colab_type": "code",
        "outputId": "943aa1a9-98b3-44a6-9858-a9b333cd45b3",
        "colab": {
          "base_uri": "https://localhost:8080/",
          "height": 34
        }
      },
      "cell_type": "code",
      "source": [
        "model.get_layer(\"lstm1\").output"
      ],
      "execution_count": 46,
      "outputs": [
        {
          "output_type": "execute_result",
          "data": {
            "text/plain": [
              "<tf.Tensor 'lstm1/transpose_1:0' shape=(?, ?, 40) dtype=float32>"
            ]
          },
          "metadata": {
            "tags": []
          },
          "execution_count": 46
        }
      ]
    },
    {
      "metadata": {
        "id": "MhXYrpmWgAel",
        "colab_type": "code",
        "outputId": "23b1aff6-d457-4b07-c12c-d621d6f2e39a",
        "colab": {
          "base_uri": "https://localhost:8080/",
          "height": 34
        }
      },
      "cell_type": "code",
      "source": [
        "W = model.layers[2].get_weights()[0]\n",
        "U = model.layers[2].get_weights()[1]\n",
        "b = model.layers[2].get_weights()[2]\n",
        "print(W.shape,U.shape,b.shape)"
      ],
      "execution_count": 48,
      "outputs": [
        {
          "output_type": "stream",
          "text": [
            "((40, 160), (40, 160), (160,))\n"
          ],
          "name": "stdout"
        }
      ]
    },
    {
      "metadata": {
        "id": "_N9kQBP3d_TN",
        "colab_type": "code",
        "outputId": "368557b8-8c3e-4bcd-b1c6-fe2fa760573e",
        "colab": {
          "base_uri": "https://localhost:8080/",
          "height": 374
        }
      },
      "cell_type": "code",
      "source": [
        "history = model.fit(X_train, y_train2, validation_data=(X_test, y_test2), epochs=10, batch_size=32)"
      ],
      "execution_count": 49,
      "outputs": [
        {
          "output_type": "stream",
          "text": [
            "Train on 8078 samples, validate on 3463 samples\n",
            "Epoch 1/10\n",
            "8078/8078 [==============================] - 12s 2ms/step - loss: 0.3787 - acc: 0.8498 - val_loss: 0.2181 - val_acc: 0.9131\n",
            "Epoch 2/10\n",
            "8078/8078 [==============================] - 11s 1ms/step - loss: 0.1472 - acc: 0.9487 - val_loss: 0.2127 - val_acc: 0.9180\n",
            "Epoch 3/10\n",
            "8078/8078 [==============================] - 11s 1ms/step - loss: 0.0872 - acc: 0.9708 - val_loss: 0.2555 - val_acc: 0.9157\n",
            "Epoch 4/10\n",
            "8078/8078 [==============================] - 10s 1ms/step - loss: 0.0544 - acc: 0.9824 - val_loss: 0.2655 - val_acc: 0.9093\n",
            "Epoch 5/10\n",
            "8078/8078 [==============================] - 10s 1ms/step - loss: 0.0365 - acc: 0.9894 - val_loss: 0.3109 - val_acc: 0.9099\n",
            "Epoch 6/10\n",
            "8078/8078 [==============================] - 11s 1ms/step - loss: 0.0270 - acc: 0.9922 - val_loss: 0.3401 - val_acc: 0.9062\n",
            "Epoch 7/10\n",
            "8078/8078 [==============================] - 11s 1ms/step - loss: 0.0188 - acc: 0.9953 - val_loss: 0.4535 - val_acc: 0.9021\n",
            "Epoch 8/10\n",
            "8078/8078 [==============================] - 11s 1ms/step - loss: 0.0213 - acc: 0.9949 - val_loss: 0.4468 - val_acc: 0.9062\n",
            "Epoch 9/10\n",
            "8078/8078 [==============================] - 10s 1ms/step - loss: 0.0126 - acc: 0.9975 - val_loss: 0.4677 - val_acc: 0.9059\n",
            "Epoch 10/10\n",
            "8078/8078 [==============================] - 10s 1ms/step - loss: 0.0174 - acc: 0.9952 - val_loss: 0.4250 - val_acc: 0.8917\n"
          ],
          "name": "stdout"
        }
      ]
    },
    {
      "metadata": {
        "id": "UgpFeoOmssdv",
        "colab_type": "code",
        "colab": {
          "base_uri": "https://localhost:8080/",
          "height": 335
        },
        "outputId": "91211efa-6151-456a-c3b9-fc0bbfb3cd16"
      },
      "cell_type": "code",
      "source": [
        "import matplotlib.pyplot as plt\n",
        "%matplotlib inline\n",
        "history_dict = history.history\n",
        "loss_values = history_dict['loss']\n",
        "val_loss_values = history_dict['val_loss']\n",
        "acc_values = history_dict['acc']\n",
        "val_acc_values = history_dict['val_acc']\n",
        "epochs = range(1, len(val_loss_values) + 1)\n",
        "import matplotlib.ticker as mtick\n",
        "plt.subplot(211)\n",
        "plt.plot(epochs, history.history['loss'], 'bo', label='Training loss')\n",
        "plt.plot(epochs, val_loss_values, 'r', label='Test loss')\n",
        "plt.title('Training and test loss')\n",
        "plt.xlabel('Epochs')\n",
        "plt.ylabel('Loss')\n",
        "plt.legend()\n",
        "plt.grid('off')\n",
        "plt.show()\n",
        "plt.subplot(212)\n",
        "plt.plot(epochs, history.history['acc'], 'bo', label='Training accuracy')\n",
        "plt.plot(epochs, val_acc_values, 'r', label='Test accuracy')\n",
        "plt.title('Training and test accuracy')\n",
        "plt.xlabel('Epochs')\n",
        "plt.ylabel('Accuracy')\n",
        "plt.gca().set_yticklabels(['{:.0f}%'.format(x*100) for x in plt.gca().get_yticks()]) \n",
        "plt.legend()\n",
        "plt.grid('off')\n",
        "plt.show()"
      ],
      "execution_count": 50,
      "outputs": [
        {
          "output_type": "display_data",
          "data": {
            "image/png": "[encoded data removed]",
            "text/plain": [
              "<Figure size 432x288 with 1 Axes>"
            ]
          },
          "metadata": {
            "tags": []
          }
        },
        {
          "output_type": "display_data",
          "data": {
            "image/png": "[encoded data removed]",
            "text/plain": [
              "<Figure size 432x288 with 1 Axes>"
            ]
          },
          "metadata": {
            "tags": []
          }
        }
      ]
    },
    {
      "metadata": {
        "id": "iPZNXCCRUwIu",
        "colab_type": "code",
        "colab": {}
      },
      "cell_type": "code",
      "source": [
        ""
      ],
      "execution_count": 0,
      "outputs": []
    },
    {
      "metadata": {
        "id": "A85HyO2pWgmh",
        "colab_type": "code",
        "colab": {}
      },
      "cell_type": "code",
      "source": [
        ""
      ],
      "execution_count": 0,
      "outputs": []
    }
  ]
}