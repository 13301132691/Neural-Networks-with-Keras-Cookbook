{
  "nbformat": 4,
  "nbformat_minor": 0,
  "metadata": {
    "colab": {
      "name": "Chapter 12 - Recommender systems.ipynb",
      "version": "0.3.2",
      "provenance": [],
      "collapsed_sections": []
    },
    "kernelspec": {
      "name": "python3",
      "display_name": "Python 3"
    },
    "accelerator": "GPU"
  },
  "cells": [
    {
      "metadata": {
        "id": "7WK19kvhMrCy",
        "colab_type": "text"
      },
      "cell_type": "markdown",
      "source": [
        "The recommended dataset for this code is available here: https://grouplens.org/datasets/movielens/100k/"
      ]
    },
    {
      "metadata": {
        "id": "Hx0tPAI0cefn",
        "colab_type": "code",
        "colab": {}
      },
      "cell_type": "code",
      "source": [
        "import numpy as np\n",
        "import pandas as pd"
      ],
      "execution_count": 0,
      "outputs": []
    },
    {
      "metadata": {
        "id": "yHX_GvMXchIS",
        "colab_type": "code",
        "colab": {}
      },
      "cell_type": "code",
      "source": [
        "column_names = ['User', 'Movies', 'rating', 'timestamp']\n",
        "ratings = pd.read_csv('...', sep='\\t', names=column_names)   # Path to downloaded file"
      ],
      "execution_count": 0,
      "outputs": []
    },
    {
      "metadata": {
        "id": "Bkj1vnL1Bsep",
        "colab_type": "code",
        "colab": {}
      },
      "cell_type": "code",
      "source": [
        "ratings = ratings[ratings['rating']>3]\n",
        "ratings = ratings.sort_values(by='timestamp')\n",
        "ratings.reset_index(inplace=True)\n",
        "ratings = ratings.drop(['index'],axis=1)\n",
        "ratings.head()"
      ],
      "execution_count": 0,
      "outputs": []
    },
    {
      "metadata": {
        "id": "BpBRW1tCB0iv",
        "colab_type": "code",
        "colab": {}
      },
      "cell_type": "code",
      "source": [
        "user_movie_count = ratings.groupby('User').agg({'Movies':'nunique'}).reset_index()\n",
        "user_movie_count.head()"
      ],
      "execution_count": 0,
      "outputs": []
    },
    {
      "metadata": {
        "id": "Dqd78epZCEZQ",
        "colab_type": "code",
        "colab": {}
      },
      "cell_type": "code",
      "source": [
        "user_movie_count.columns = ['User','User_Movie_count']"
      ],
      "execution_count": 0,
      "outputs": []
    },
    {
      "metadata": {
        "id": "6NT8GbCsCAj8",
        "colab_type": "code",
        "colab": {}
      },
      "cell_type": "code",
      "source": [
        "ratings2 = ratings.merge(user_movie_count,on='User',how='inner')\n",
        "ratings2.head()"
      ],
      "execution_count": 0,
      "outputs": []
    },
    {
      "metadata": {
        "id": "YqYrswayCPg5",
        "colab_type": "code",
        "colab": {}
      },
      "cell_type": "code",
      "source": [
        "movie_count = ratings2[ratings2['User_Movie_count']>5]\n",
        "movie_count = movie_count.sort_values('timestamp')\n",
        "movie_count.reset_index(inplace=True)\n",
        "movie_count = movie_count.drop(['index'],axis=1)\n",
        "movie_count.head()"
      ],
      "execution_count": 0,
      "outputs": []
    },
    {
      "metadata": {
        "id": "8CpnxvrxSsP2",
        "colab_type": "code",
        "colab": {}
      },
      "cell_type": "code",
      "source": [
        "ratings = movie_count\n",
        "users = ratings.User.unique()\n",
        "movies = ratings.Movies.unique()\n",
        "userid2idx = {o:i for i,o in enumerate(users)}\n",
        "moviesid2idx = {o:i for i,o in enumerate(movies)}\n",
        "idx2userid = {i:o for i,o in enumerate(users)}\n",
        "idx2moviesid = {i:o for i,o in enumerate(movies)}"
      ],
      "execution_count": 0,
      "outputs": []
    },
    {
      "metadata": {
        "id": "_6stsuR7Qzmk",
        "colab_type": "code",
        "colab": {}
      },
      "cell_type": "code",
      "source": [
        "l = list(moviesid2idx.keys())\n",
        "print(len(l))\n",
        "set([x for x in l if l.count(x) > 1])"
      ],
      "execution_count": 0,
      "outputs": []
    },
    {
      "metadata": {
        "id": "q_-rmgF7SzZ8",
        "colab_type": "code",
        "colab": {}
      },
      "cell_type": "code",
      "source": [
        "ratings['Movies2'] = ratings.Movies.apply(lambda x: moviesid2idx[x])\n",
        "ratings['User2'] = ratings.User.apply(lambda x: userid2idx[x])\n",
        "ratings.describe()"
      ],
      "execution_count": 0,
      "outputs": []
    },
    {
      "metadata": {
        "id": "CU9F5JULCm59",
        "colab_type": "code",
        "colab": {}
      },
      "cell_type": "code",
      "source": [
        "user_list = movie_count['User2'].unique()"
      ],
      "execution_count": 0,
      "outputs": []
    },
    {
      "metadata": {
        "id": "twJMIZsqCm9y",
        "colab_type": "code",
        "outputId": "9bbbabd5-82e5-4297-e62d-6d9a33bcbde5",
        "colab": {
          "base_uri": "https://localhost:8080/",
          "height": 187
        }
      },
      "cell_type": "code",
      "source": [
        "x = []\n",
        "y = []\n",
        "for i in range(len(user_list)):\n",
        "  if(i%100 == 0):\n",
        "    print(i)\n",
        "  total_user_movies = movie_count[movie_count['User2']==user_list[i]].copy()\n",
        "  total_user_movies.reset_index(inplace=True)\n",
        "  total_user_movies = total_user_movies.drop(['index'],axis=1)\n",
        "  #print(total_user_movies.shape[0])\n",
        "  for j in range(total_user_movies.shape[0]-6):\n",
        "    x.append(total_user_movies.loc[j:(j+4),'Movies2'].tolist())\n",
        "    y.append(total_user_movies.loc[(j+5),'Movies2'].tolist())"
      ],
      "execution_count": 0,
      "outputs": [
        {
          "output_type": "stream",
          "text": [
            "0\n",
            "100\n",
            "200\n",
            "300\n",
            "400\n",
            "500\n",
            "600\n",
            "700\n",
            "800\n",
            "900\n"
          ],
          "name": "stdout"
        }
      ]
    },
    {
      "metadata": {
        "id": "ebBII6PuTTiv",
        "colab_type": "code",
        "outputId": "89f679d9-f558-46a0-9616-69c9a240c0a7",
        "colab": {
          "base_uri": "https://localhost:8080/",
          "height": 34
        }
      },
      "cell_type": "code",
      "source": [
        "max(x)"
      ],
      "execution_count": 0,
      "outputs": [
        {
          "output_type": "execute_result",
          "data": {
            "text/plain": [
              "[1446, 476, 427, 29, 1010]"
            ]
          },
          "metadata": {
            "tags": []
          },
          "execution_count": 21
        }
      ]
    },
    {
      "metadata": {
        "id": "RHnHT3OsHoIQ",
        "colab_type": "code",
        "colab": {}
      },
      "cell_type": "code",
      "source": [
        "src_vocab = ratings['Movies2'].nunique()\n",
        "n_units = 32\n",
        "src_timesteps = 5\n",
        "tar_vocab = len(set(y))"
      ],
      "execution_count": 0,
      "outputs": []
    },
    {
      "metadata": {
        "id": "qWLu18dcJH76",
        "colab_type": "code",
        "outputId": "536d92c2-b963-4d98-916e-d1f8b8938ad4",
        "colab": {
          "base_uri": "https://localhost:8080/",
          "height": 34
        }
      },
      "cell_type": "code",
      "source": [
        "from keras.models import Sequential, Model\n",
        "from keras.layers import Embedding\n",
        "from keras.layers import LSTM, RepeatVector, TimeDistributed, Dense, Bidirectional"
      ],
      "execution_count": 0,
      "outputs": [
        {
          "output_type": "stream",
          "text": [
            "Using TensorFlow backend.\n"
          ],
          "name": "stderr"
        }
      ]
    },
    {
      "metadata": {
        "id": "7Bt7V2MXFp9Y",
        "colab_type": "code",
        "outputId": "a464b9bf-659c-4426-ca86-f414ecdeb665",
        "colab": {
          "base_uri": "https://localhost:8080/",
          "height": 343
        }
      },
      "cell_type": "code",
      "source": [
        "model = Sequential()\n",
        "model.add(Embedding(src_vocab, n_units, input_length=src_timesteps))\n",
        "model.add((LSTM(100)))\n",
        "model.add(Dense(1000,activation='relu'))\n",
        "model.add(Dense(max(y)+1,activation='softmax'))\n",
        "model.summary()"
      ],
      "execution_count": 0,
      "outputs": [
        {
          "output_type": "stream",
          "text": [
            "WARNING:tensorflow:From /usr/local/lib/python3.6/dist-packages/tensorflow/python/framework/op_def_library.py:263: colocate_with (from tensorflow.python.framework.ops) is deprecated and will be removed in a future version.\n",
            "Instructions for updating:\n",
            "Colocations handled automatically by placer.\n",
            "_________________________________________________________________\n",
            "Layer (type)                 Output Shape              Param #   \n",
            "=================================================================\n",
            "embedding_1 (Embedding)      (None, 5, 32)             46304     \n",
            "_________________________________________________________________\n",
            "lstm_1 (LSTM)                (None, 100)               53200     \n",
            "_________________________________________________________________\n",
            "dense_1 (Dense)              (None, 1000)              101000    \n",
            "_________________________________________________________________\n",
            "dense_2 (Dense)              (None, 1447)              1448447   \n",
            "=================================================================\n",
            "Total params: 1,648,951\n",
            "Trainable params: 1,648,951\n",
            "Non-trainable params: 0\n",
            "_________________________________________________________________\n"
          ],
          "name": "stdout"
        }
      ]
    },
    {
      "metadata": {
        "id": "fZYOu9gPJ_Rq",
        "colab_type": "code",
        "colab": {}
      },
      "cell_type": "code",
      "source": [
        "from keras.utils import to_categorical"
      ],
      "execution_count": 0,
      "outputs": []
    },
    {
      "metadata": {
        "id": "iYUt6nLWKZyU",
        "colab_type": "code",
        "outputId": "1319e6de-a4fb-4d9c-9f3a-e3f5492e6c4d",
        "colab": {
          "base_uri": "https://localhost:8080/",
          "height": 34
        }
      },
      "cell_type": "code",
      "source": [
        "max(y)"
      ],
      "execution_count": 0,
      "outputs": [
        {
          "output_type": "execute_result",
          "data": {
            "text/plain": [
              "1446"
            ]
          },
          "metadata": {
            "tags": []
          },
          "execution_count": 27
        }
      ]
    },
    {
      "metadata": {
        "id": "Q-R8r79oKJ7K",
        "colab_type": "code",
        "colab": {}
      },
      "cell_type": "code",
      "source": [
        "y2 = to_categorical(y, num_classes = max(y)+1)"
      ],
      "execution_count": 0,
      "outputs": []
    },
    {
      "metadata": {
        "id": "hLG1NYznKdSj",
        "colab_type": "code",
        "outputId": "c58964ac-4893-46fc-b169-0cd2a64ea7c7",
        "colab": {
          "base_uri": "https://localhost:8080/",
          "height": 34
        }
      },
      "cell_type": "code",
      "source": [
        "y2.shape"
      ],
      "execution_count": 0,
      "outputs": [
        {
          "output_type": "execute_result",
          "data": {
            "text/plain": [
              "(49737, 1447)"
            ]
          },
          "metadata": {
            "tags": []
          },
          "execution_count": 29
        }
      ]
    },
    {
      "metadata": {
        "id": "vzXCooHoXPTl",
        "colab_type": "code",
        "colab": {}
      },
      "cell_type": "code",
      "source": [
        "from keras.optimizers import Adam\n",
        "adam = Adam(lr=0.0001)"
      ],
      "execution_count": 0,
      "outputs": []
    },
    {
      "metadata": {
        "id": "Z9tCzUC3FqAd",
        "colab_type": "code",
        "colab": {}
      },
      "cell_type": "code",
      "source": [
        "model.compile(optimizer=adam, loss='categorical_crossentropy', metrics = ['acc'])"
      ],
      "execution_count": 0,
      "outputs": []
    },
    {
      "metadata": {
        "id": "Z55mKOFiC93T",
        "colab_type": "code",
        "colab": {}
      },
      "cell_type": "code",
      "source": [
        "trainX = np.array(x[:40000])\n",
        "testX = np.array(x[40000:])\n",
        "trainY = np.array(y2[:40000])\n",
        "testY = np.array(y2[40000:])"
      ],
      "execution_count": 0,
      "outputs": []
    },
    {
      "metadata": {
        "id": "BKK-4NOYNjTM",
        "colab_type": "code",
        "outputId": "590306b3-70a2-48ed-8f04-cfd344997cb1",
        "colab": {
          "base_uri": "https://localhost:8080/",
          "height": 34
        }
      },
      "cell_type": "code",
      "source": [
        "print(trainX.shape,trainY.shape,testX.shape,testY.shape)"
      ],
      "execution_count": 0,
      "outputs": [
        {
          "output_type": "stream",
          "text": [
            "(40000, 5) (40000, 1447) (9737, 5) (9737, 1447)\n"
          ],
          "name": "stdout"
        }
      ]
    },
    {
      "metadata": {
        "id": "ebw5Wmr-JRGw",
        "colab_type": "code",
        "outputId": "8b579ddd-5478-4006-8b03-6b335e695b08",
        "colab": {
          "base_uri": "https://localhost:8080/",
          "height": 292
        }
      },
      "cell_type": "code",
      "source": [
        "model.fit(trainX, trainY, epochs=5, batch_size=32, validation_data=(testX, testY), verbose = 1)"
      ],
      "execution_count": 0,
      "outputs": [
        {
          "output_type": "stream",
          "text": [
            "WARNING:tensorflow:From /usr/local/lib/python3.6/dist-packages/tensorflow/python/ops/math_ops.py:3066: to_int32 (from tensorflow.python.ops.math_ops) is deprecated and will be removed in a future version.\n",
            "Instructions for updating:\n",
            "Use tf.cast instead.\n",
            "Train on 40000 samples, validate on 9737 samples\n",
            "Epoch 1/5\n",
            "40000/40000 [==============================] - 36s 893us/step - loss: 6.5870 - acc: 0.0070 - val_loss: 6.5420 - val_acc: 0.0085\n",
            "Epoch 2/5\n",
            "40000/40000 [==============================] - 34s 853us/step - loss: 6.4031 - acc: 0.0074 - val_loss: 6.5275 - val_acc: 0.0066\n",
            "Epoch 3/5\n",
            "40000/40000 [==============================] - 34s 851us/step - loss: 6.3787 - acc: 0.0079 - val_loss: 6.4809 - val_acc: 0.0086\n",
            "Epoch 4/5\n",
            "40000/40000 [==============================] - 34s 839us/step - loss: 6.2840 - acc: 0.0098 - val_loss: 6.3236 - val_acc: 0.0109\n",
            "Epoch 5/5\n",
            "40000/40000 [==============================] - 34s 842us/step - loss: 6.1454 - acc: 0.0116 - val_loss: 6.2125 - val_acc: 0.0116\n"
          ],
          "name": "stdout"
        },
        {
          "output_type": "execute_result",
          "data": {
            "text/plain": [
              "<keras.callbacks.History at 0x7f7ac87f5208>"
            ]
          },
          "metadata": {
            "tags": []
          },
          "execution_count": 34
        }
      ]
    },
    {
      "metadata": {
        "id": "y_a-HIpAJRME",
        "colab_type": "code",
        "outputId": "77776714-0e36-4226-de17-f87fd4783839",
        "colab": {
          "base_uri": "https://localhost:8080/",
          "height": 34
        }
      },
      "cell_type": "code",
      "source": [
        "np.argmax(reversed(np.argsort(model.predict(testX[0].reshape(1,5)),axis=1)==213))"
      ],
      "execution_count": 0,
      "outputs": [
        {
          "output_type": "execute_result",
          "data": {
            "text/plain": [
              "0"
            ]
          },
          "metadata": {
            "tags": []
          },
          "execution_count": 35
        }
      ]
    },
    {
      "metadata": {
        "id": "BmWIcUWccbsU",
        "colab_type": "code",
        "outputId": "1a94a8d8-3956-4995-ee61-94847c5b0df5",
        "colab": {
          "base_uri": "https://localhost:8080/",
          "height": 34
        }
      },
      "cell_type": "code",
      "source": [
        "np.argmax(np.argsort(pred[i])[::-1]==np.argmax(testY[i]))"
      ],
      "execution_count": 0,
      "outputs": [
        {
          "output_type": "execute_result",
          "data": {
            "text/plain": [
              "124"
            ]
          },
          "metadata": {
            "tags": []
          },
          "execution_count": 43
        }
      ]
    },
    {
      "metadata": {
        "id": "eRN7sVlxar_E",
        "colab_type": "code",
        "colab": {}
      },
      "cell_type": "code",
      "source": [
        "pred = model.predict(testX)"
      ],
      "execution_count": 0,
      "outputs": []
    },
    {
      "metadata": {
        "id": "6n0L0cLZawFz",
        "colab_type": "code",
        "colab": {}
      },
      "cell_type": "code",
      "source": [
        "count = 0\n",
        "for i in range(testX.shape[0]):\n",
        "  rank = np.argmax(np.argsort(pred[i])[::-1]==np.argmax(testY[i]))\n",
        "  if rank<12:\n",
        "    count+=1"
      ],
      "execution_count": 0,
      "outputs": []
    },
    {
      "metadata": {
        "id": "yr5B-iBpbJW6",
        "colab_type": "code",
        "outputId": "e7abf3f9-02dc-4864-af59-39f7307d9aff",
        "colab": {
          "base_uri": "https://localhost:8080/",
          "height": 34
        }
      },
      "cell_type": "code",
      "source": [
        "count/testX.shape[0]"
      ],
      "execution_count": 0,
      "outputs": [
        {
          "output_type": "execute_result",
          "data": {
            "text/plain": [
              "0.10393344972784226"
            ]
          },
          "metadata": {
            "tags": []
          },
          "execution_count": 99
        }
      ]
    },
    {
      "metadata": {
        "id": "m_mroObxvjMk",
        "colab_type": "code",
        "outputId": "9c1550d2-3385-4af7-c4a1-4c3651f1f7c3",
        "colab": {
          "base_uri": "https://localhost:8080/",
          "height": 187
        }
      },
      "cell_type": "code",
      "source": [
        "historically_watched = []\n",
        "x = []\n",
        "y = []\n",
        "for i in range(len(user_list)):\n",
        "  if(i%100 == 0):\n",
        "    print(i)\n",
        "  total_user_movies = movie_count[movie_count['User2']==user_list[i]].copy()\n",
        "  total_user_movies.reset_index(inplace=True)\n",
        "  total_user_movies = total_user_movies.drop(['index'],axis=1)\n",
        "  for j in range(total_user_movies.shape[0]-6):\n",
        "    historically_watched.append(total_user_movies.loc[0:(j+4),'Movies2'].tolist())\n",
        "    x.append(total_user_movies.loc[j:(j+4),'Movies2'].tolist())\n",
        "    y.append(total_user_movies.loc[(j+5),'Movies2'].tolist())"
      ],
      "execution_count": 0,
      "outputs": [
        {
          "output_type": "stream",
          "text": [
            "0\n",
            "100\n",
            "200\n",
            "300\n",
            "400\n",
            "500\n",
            "600\n",
            "700\n",
            "800\n",
            "900\n"
          ],
          "name": "stdout"
        }
      ]
    },
    {
      "metadata": {
        "id": "mZvUidfFvjKA",
        "colab_type": "code",
        "colab": {}
      },
      "cell_type": "code",
      "source": [
        "test_hist = x[40000:]\n",
        "test_historically_watched = historically_watched[40000:]"
      ],
      "execution_count": 0,
      "outputs": []
    },
    {
      "metadata": {
        "id": "eCQukHTSwgVg",
        "colab_type": "code",
        "outputId": "83ad196f-d9a9-4cfe-d4ea-21af818a3d6c",
        "colab": {
          "base_uri": "https://localhost:8080/",
          "height": 34
        }
      },
      "cell_type": "code",
      "source": [
        "testX.shape"
      ],
      "execution_count": 0,
      "outputs": [
        {
          "output_type": "execute_result",
          "data": {
            "text/plain": [
              "(9737, 5)"
            ]
          },
          "metadata": {
            "tags": []
          },
          "execution_count": 117
        }
      ]
    },
    {
      "metadata": {
        "id": "1gQVQT7Xx-2d",
        "colab_type": "code",
        "outputId": "c285162f-ca0a-4962-9dfc-18c00ded257e",
        "colab": {
          "base_uri": "https://localhost:8080/",
          "height": 34
        }
      },
      "cell_type": "code",
      "source": [
        "pred.shape"
      ],
      "execution_count": 0,
      "outputs": [
        {
          "output_type": "execute_result",
          "data": {
            "text/plain": [
              "(9737, 1447)"
            ]
          },
          "metadata": {
            "tags": []
          },
          "execution_count": 118
        }
      ]
    },
    {
      "metadata": {
        "id": "6WlLivf1y36M",
        "colab_type": "code",
        "outputId": "0b6506e8-f20a-4ab1-b12e-3962001a4c49",
        "colab": {
          "base_uri": "https://localhost:8080/",
          "height": 34
        }
      },
      "cell_type": "code",
      "source": [
        "len(test_hist)"
      ],
      "execution_count": 0,
      "outputs": [
        {
          "output_type": "execute_result",
          "data": {
            "text/plain": [
              "9737"
            ]
          },
          "metadata": {
            "tags": []
          },
          "execution_count": 119
        }
      ]
    },
    {
      "metadata": {
        "id": "621wgkzExIxz",
        "colab_type": "code",
        "colab": {}
      },
      "cell_type": "code",
      "source": [
        "for j in range(pred.shape[0]):\n",
        "  if(j%100==0):\n",
        "    print(j)\n",
        "  for i in range(pred.shape[1]):\n",
        "    pred[j][i]= np.where(i in test_historically_watched[j], 0 , pred[j][i])"
      ],
      "execution_count": 0,
      "outputs": []
    },
    {
      "metadata": {
        "id": "EGMR8f1yxuB-",
        "colab_type": "code",
        "colab": {}
      },
      "cell_type": "code",
      "source": [
        "count = 0\n",
        "for i in range(testX.shape[0]):\n",
        "  rank = np.argmax(np.argsort(pred[i])[::-1]==np.argmax(testY[i]))\n",
        "  if rank<12:\n",
        "    count+=1"
      ],
      "execution_count": 0,
      "outputs": []
    },
    {
      "metadata": {
        "id": "zkHxbB4EyWsR",
        "colab_type": "code",
        "outputId": "65dd40ac-1c83-42db-99c7-27cc230c186a",
        "colab": {
          "base_uri": "https://localhost:8080/",
          "height": 34
        }
      },
      "cell_type": "code",
      "source": [
        "count/testX.shape[0]"
      ],
      "execution_count": 0,
      "outputs": [
        {
          "output_type": "execute_result",
          "data": {
            "text/plain": [
              "0.1260141727431447"
            ]
          },
          "metadata": {
            "tags": []
          },
          "execution_count": 123
        }
      ]
    },
    {
      "metadata": {
        "id": "6MicCtjpw0ME",
        "colab_type": "code",
        "outputId": "19f01be6-26e8-4473-9440-afe5adedd854",
        "colab": {
          "base_uri": "https://localhost:8080/",
          "height": 34
        }
      },
      "cell_type": "code",
      "source": [
        "np.mean(pred[:,0])"
      ],
      "execution_count": 0,
      "outputs": [
        {
          "output_type": "execute_result",
          "data": {
            "text/plain": [
              "0.0010644234"
            ]
          },
          "metadata": {
            "tags": []
          },
          "execution_count": 239
        }
      ]
    },
    {
      "metadata": {
        "id": "Gjcge6sCvjD6",
        "colab_type": "code",
        "colab": {}
      },
      "cell_type": "code",
      "source": [
        ""
      ],
      "execution_count": 0,
      "outputs": []
    },
    {
      "metadata": {
        "id": "r8p9hTZUg5LH",
        "colab_type": "code",
        "colab": {}
      },
      "cell_type": "code",
      "source": [
        "!pip install gensim"
      ],
      "execution_count": 0,
      "outputs": []
    },
    {
      "metadata": {
        "id": "dfTgTYgKNuIG",
        "colab_type": "code",
        "colab": {}
      },
      "cell_type": "code",
      "source": [
        "import gensim"
      ],
      "execution_count": 0,
      "outputs": []
    },
    {
      "metadata": {
        "id": "jSBzwbSbOzv6",
        "colab_type": "code",
        "outputId": "b198730e-79d5-4803-a407-198f665b6bd1",
        "colab": {
          "base_uri": "https://localhost:8080/",
          "height": 272
        }
      },
      "cell_type": "code",
      "source": [
        "user_movies = []\n",
        "for i in range(len(movie_list)):\n",
        "  if(i%100 == 0):\n",
        "    print(i)\n",
        "  total_user_movies = movie_count[movie_count['Movies2']==movie_list[i]].copy()\n",
        "  total_user_movies.reset_index(inplace=True)\n",
        "  total_user_movies = total_user_movies.drop(['index'],axis=1)\n",
        "  total_user_movies['User3'] = total_user_movies['User2'].astype(str)\n",
        "  user_movies.append(total_user_movies['User3'].tolist())"
      ],
      "execution_count": 0,
      "outputs": [
        {
          "output_type": "stream",
          "text": [
            "0\n",
            "100\n",
            "200\n",
            "300\n",
            "400\n",
            "500\n",
            "600\n",
            "700\n",
            "800\n",
            "900\n",
            "1000\n",
            "1100\n",
            "1200\n",
            "1300\n",
            "1400\n"
          ],
          "name": "stdout"
        }
      ]
    },
    {
      "metadata": {
        "id": "at4loFEePSWw",
        "colab_type": "code",
        "colab": {}
      },
      "cell_type": "code",
      "source": [
        "movie_list = movie_count['Movies2'].unique()"
      ],
      "execution_count": 0,
      "outputs": []
    },
    {
      "metadata": {
        "id": "-iHQvpH3eXf1",
        "colab_type": "code",
        "colab": {}
      },
      "cell_type": "code",
      "source": [
        "user_list = movie_count['User2'].unique()"
      ],
      "execution_count": 0,
      "outputs": []
    },
    {
      "metadata": {
        "id": "0TZ5iwHCOEDR",
        "colab_type": "code",
        "colab": {}
      },
      "cell_type": "code",
      "source": [
        "user_movies = []\n",
        "for i in range(len(user_list)):\n",
        "  total_user_movies = movie_count[movie_count['User2']==user_list[i]].copy()\n",
        "  total_user_movies.reset_index(inplace=True)\n",
        "  total_user_movies = total_user_movies.drop(['index'],axis=1)\n",
        "  total_user_movies['Movies3'] = total_user_movies['Movies2'].astype(str)\n",
        "  user_movies.append(total_user_movies['Movies3'].tolist())"
      ],
      "execution_count": 0,
      "outputs": []
    },
    {
      "metadata": {
        "id": "fQt2oCQQQI0Y",
        "colab_type": "code",
        "outputId": "8bc662cc-f6e4-41e6-bd83-aefff6734eec",
        "colab": {
          "base_uri": "https://localhost:8080/",
          "height": 34
        }
      },
      "cell_type": "code",
      "source": [
        "len(user_movies)"
      ],
      "execution_count": 0,
      "outputs": [
        {
          "output_type": "execute_result",
          "data": {
            "text/plain": [
              "934"
            ]
          },
          "metadata": {
            "tags": []
          },
          "execution_count": 243
        }
      ]
    },
    {
      "metadata": {
        "id": "DtE8cCYcN8Wp",
        "colab_type": "code",
        "colab": {}
      },
      "cell_type": "code",
      "source": [
        "from gensim.models import Word2Vec\n",
        "w2v_model = Word2Vec(user_movies,size=100,window=5,min_count=5, iter = 500)"
      ],
      "execution_count": 0,
      "outputs": []
    },
    {
      "metadata": {
        "id": "JNVWhvu-N8Tp",
        "colab_type": "code",
        "outputId": "24b6a435-e2a2-48a3-efb0-8eea1af3dda9",
        "colab": {
          "base_uri": "https://localhost:8080/",
          "height": 88
        }
      },
      "cell_type": "code",
      "source": [
        "w2v_model.wv.syn0.shape"
      ],
      "execution_count": 0,
      "outputs": [
        {
          "output_type": "stream",
          "text": [
            "/usr/local/lib/python3.6/dist-packages/ipykernel_launcher.py:1: DeprecationWarning: Call to deprecated `syn0` (Attribute will be removed in 4.0.0, use self.wv.vectors instead).\n",
            "  \"\"\"Entry point for launching an IPython kernel.\n"
          ],
          "name": "stderr"
        },
        {
          "output_type": "execute_result",
          "data": {
            "text/plain": [
              "(1008, 100)"
            ]
          },
          "metadata": {
            "tags": []
          },
          "execution_count": 247
        }
      ]
    },
    {
      "metadata": {
        "id": "bLgy18FxN8Qr",
        "colab_type": "code",
        "outputId": "fe17274f-d3c8-43fd-b46f-d440e27b2d23",
        "colab": {
          "base_uri": "https://localhost:8080/",
          "height": 207
        }
      },
      "cell_type": "code",
      "source": [
        "from sklearn.manifold import TSNE\n",
        "tsne_model = TSNE(n_components=2, verbose=1, random_state=0)\n",
        "tsne_img_label = tsne_model.fit_transform(w2v_model.wv.syn0)\n",
        "tsne_df = pd.DataFrame(tsne_img_label, columns=['x', 'y'])\n"
      ],
      "execution_count": 0,
      "outputs": [
        {
          "output_type": "stream",
          "text": [
            "/usr/local/lib/python3.6/dist-packages/ipykernel_launcher.py:3: DeprecationWarning: Call to deprecated `syn0` (Attribute will be removed in 4.0.0, use self.wv.vectors instead).\n",
            "  This is separate from the ipykernel package so we can avoid doing imports until\n"
          ],
          "name": "stderr"
        },
        {
          "output_type": "stream",
          "text": [
            "[t-SNE] Computing 91 nearest neighbors...\n",
            "[t-SNE] Indexed 1008 samples in 0.007s...\n",
            "[t-SNE] Computed neighbors for 1008 samples in 0.369s...\n",
            "[t-SNE] Computed conditional probabilities for sample 1000 / 1008\n",
            "[t-SNE] Computed conditional probabilities for sample 1008 / 1008\n",
            "[t-SNE] Mean sigma: 6.362085\n",
            "[t-SNE] KL divergence after 250 iterations with early exaggeration: 124.444023\n",
            "[t-SNE] KL divergence after 1000 iterations: 2.253800\n"
          ],
          "name": "stdout"
        }
      ]
    },
    {
      "metadata": {
        "id": "Z_PKxOjwS5ND",
        "colab_type": "code",
        "colab": {}
      },
      "cell_type": "code",
      "source": [
        "tsne_df['image_label'] = list(w2v_model.wv.vocab.keys())"
      ],
      "execution_count": 0,
      "outputs": []
    },
    {
      "metadata": {
        "id": "u_UmzhKNNuFP",
        "colab_type": "code",
        "outputId": "98db7c56-e931-4989-83a1-592aac454362",
        "colab": {
          "base_uri": "https://localhost:8080/",
          "height": 529
        }
      },
      "cell_type": "code",
      "source": [
        "from ggplot import *\n",
        "chart = ggplot(tsne_df, aes(x='x', y='y'))+geom_point(size=70,alpha=0.5)\n",
        "chart"
      ],
      "execution_count": 0,
      "outputs": [
        {
          "output_type": "display_data",
          "data": {
            "image/png": "[encoded data removed]",
            "text/plain": [
              "<Figure size 792x576 with 1 Axes>"
            ]
          },
          "metadata": {
            "tags": []
          }
        },
        {
          "output_type": "execute_result",
          "data": {
            "text/plain": [
              "<ggplot: (-9223363276564716263)>"
            ]
          },
          "metadata": {
            "tags": []
          },
          "execution_count": 250
        }
      ]
    },
    {
      "metadata": {
        "id": "5Tt24UzYMy4y",
        "colab_type": "code",
        "outputId": "baf1208a-ce0d-4bd9-c669-4497d20226f0",
        "colab": {
          "base_uri": "https://localhost:8080/",
          "height": 377
        }
      },
      "cell_type": "code",
      "source": [
        "!pip install ggplot"
      ],
      "execution_count": 0,
      "outputs": [
        {
          "output_type": "stream",
          "text": [
            "Collecting ggplot\n",
            "\u001b[?25l  Downloading https://files.pythonhosted.org/packages/48/04/5c88cc51c6713583f2dc78a5296adb9741505348c323d5875bc976143db2/ggplot-0.11.5-py2.py3-none-any.whl (2.2MB)\n",
            "\u001b[K    100% |████████████████████████████████| 2.2MB 9.0MB/s \n",
            "\u001b[?25hRequirement already satisfied: six in /usr/local/lib/python3.6/dist-packages (from ggplot) (1.11.0)\n",
            "Requirement already satisfied: matplotlib in /usr/local/lib/python3.6/dist-packages (from ggplot) (3.0.2)\n",
            "Requirement already satisfied: patsy>=0.4 in /usr/local/lib/python3.6/dist-packages (from ggplot) (0.5.1)\n",
            "Requirement already satisfied: statsmodels in /usr/local/lib/python3.6/dist-packages (from ggplot) (0.8.0)\n",
            "Requirement already satisfied: cycler in /usr/local/lib/python3.6/dist-packages (from ggplot) (0.10.0)\n",
            "Requirement already satisfied: pandas in /usr/local/lib/python3.6/dist-packages (from ggplot) (0.22.0)\n",
            "Collecting brewer2mpl (from ggplot)\n",
            "  Downloading https://files.pythonhosted.org/packages/84/57/00c45a199719e617db0875181134fcb3aeef701deae346547ac722eaaf5e/brewer2mpl-1.4.1-py2.py3-none-any.whl\n",
            "Requirement already satisfied: scipy in /usr/local/lib/python3.6/dist-packages (from ggplot) (1.1.0)\n",
            "Requirement already satisfied: numpy in /usr/local/lib/python3.6/dist-packages (from ggplot) (1.14.6)\n",
            "Requirement already satisfied: kiwisolver>=1.0.1 in /usr/local/lib/python3.6/dist-packages (from matplotlib->ggplot) (1.0.1)\n",
            "Requirement already satisfied: pyparsing!=2.0.4,!=2.1.2,!=2.1.6,>=2.0.1 in /usr/local/lib/python3.6/dist-packages (from matplotlib->ggplot) (2.3.1)\n",
            "Requirement already satisfied: python-dateutil>=2.1 in /usr/local/lib/python3.6/dist-packages (from matplotlib->ggplot) (2.5.3)\n",
            "Requirement already satisfied: pytz>=2011k in /usr/local/lib/python3.6/dist-packages (from pandas->ggplot) (2018.9)\n",
            "Requirement already satisfied: setuptools in /usr/local/lib/python3.6/dist-packages (from kiwisolver>=1.0.1->matplotlib->ggplot) (40.8.0)\n",
            "Installing collected packages: brewer2mpl, ggplot\n",
            "Successfully installed brewer2mpl-1.4.1 ggplot-0.11.5\n"
          ],
          "name": "stdout"
        }
      ]
    },
    {
      "metadata": {
        "id": "-GJHIaJcjnV3",
        "colab_type": "code",
        "colab": {}
      },
      "cell_type": "code",
      "source": [
        "idx2movie = pd.DataFrame([idx2moviesid.keys(), idx2moviesid.values()]).T\n",
        "idx2movie.columns = ['image_label','movieId']\n",
        "idx2movie.head()"
      ],
      "execution_count": 0,
      "outputs": []
    },
    {
      "metadata": {
        "id": "nInbIz-dXsG3",
        "colab_type": "code",
        "colab": {}
      },
      "cell_type": "code",
      "source": [
        "tsne_df['image_label'] = tsne_df['image_label'].astype(int)"
      ],
      "execution_count": 0,
      "outputs": []
    },
    {
      "metadata": {
        "id": "9qYu2IjfXl0Q",
        "colab_type": "code",
        "colab": {}
      },
      "cell_type": "code",
      "source": [
        "tsne_df.head()"
      ],
      "execution_count": 0,
      "outputs": []
    },
    {
      "metadata": {
        "id": "_-UZiQSBk9Qi",
        "colab_type": "code",
        "colab": {}
      },
      "cell_type": "code",
      "source": [
        "tsne_df2 = pd.merge(tsne_df, idx2movie, on='image_label', how='right')\n",
        "tsne_df2.head()"
      ],
      "execution_count": 0,
      "outputs": []
    },
    {
      "metadata": {
        "id": "GjAKK4MzlPX6",
        "colab_type": "code",
        "colab": {}
      },
      "cell_type": "code",
      "source": [
        "movies = pd.read_csv('...', sep='|',encoding='latin1',header=None)  # Path to movies file"
      ],
      "execution_count": 0,
      "outputs": []
    },
    {
      "metadata": {
        "id": "26XUZzCunIRN",
        "colab_type": "code",
        "colab": {}
      },
      "cell_type": "code",
      "source": [
        "tsne_df3 = pd.merge(tsne_df2, movies, left_on='movieId', right_on = 0, how='inner')"
      ],
      "execution_count": 0,
      "outputs": []
    },
    {
      "metadata": {
        "id": "8zzRwuLVlPhf",
        "colab_type": "code",
        "colab": {}
      },
      "cell_type": "code",
      "source": [
        "tsne_df3.head()"
      ],
      "execution_count": 0,
      "outputs": []
    },
    {
      "metadata": {
        "id": "C9MpSl3_o_YL",
        "colab_type": "code",
        "outputId": "dd057456-ab44-4556-a701-d9999d6236d2",
        "colab": {
          "base_uri": "https://localhost:8080/",
          "height": 34
        }
      },
      "cell_type": "code",
      "source": [
        "tsne_df3.shape"
      ],
      "execution_count": 0,
      "outputs": [
        {
          "output_type": "execute_result",
          "data": {
            "text/plain": [
              "(1447, 28)"
            ]
          },
          "metadata": {
            "tags": []
          },
          "execution_count": 192
        }
      ]
    },
    {
      "metadata": {
        "id": "YkG6BBHAn5gS",
        "colab_type": "code",
        "colab": {}
      },
      "cell_type": "code",
      "source": [
        "tsne_df4 = tsne_df3.drop([2,3,4],axis=1)"
      ],
      "execution_count": 0,
      "outputs": []
    },
    {
      "metadata": {
        "id": "CQyruOgRpl-6",
        "colab_type": "code",
        "colab": {}
      },
      "cell_type": "code",
      "source": [
        "tsne_df4.rename(columns={1:'movie_name'}, inplace=True)"
      ],
      "execution_count": 0,
      "outputs": []
    },
    {
      "metadata": {
        "id": "G5rYp9wcYJWn",
        "colab_type": "code",
        "colab": {}
      },
      "cell_type": "code",
      "source": [
        "tsne_df4.describe()"
      ],
      "execution_count": 0,
      "outputs": []
    },
    {
      "metadata": {
        "id": "d_amdYZCogQY",
        "colab_type": "code",
        "outputId": "0b70a589-7ece-4fd1-9c6a-e2a88aacd97e",
        "colab": {
          "base_uri": "https://localhost:8080/",
          "height": 34
        }
      },
      "cell_type": "code",
      "source": [
        "tsne_df4.shape"
      ],
      "execution_count": 0,
      "outputs": [
        {
          "output_type": "execute_result",
          "data": {
            "text/plain": [
              "(1447, 25)"
            ]
          },
          "metadata": {
            "tags": []
          },
          "execution_count": 196
        }
      ]
    },
    {
      "metadata": {
        "id": "37LonHh0qagv",
        "colab_type": "code",
        "colab": {}
      },
      "cell_type": "code",
      "source": [
        "from sklearn.cluster import KMeans"
      ],
      "execution_count": 0,
      "outputs": []
    },
    {
      "metadata": {
        "id": "uIW3-FaTYzEE",
        "colab_type": "code",
        "colab": {}
      },
      "cell_type": "code",
      "source": [
        "tsne_df5 = tsne_df4.loc[~np.isnan(tsne_df4['x']),]"
      ],
      "execution_count": 0,
      "outputs": []
    },
    {
      "metadata": {
        "id": "5WQJj048qaqq",
        "colab_type": "code",
        "colab": {}
      },
      "cell_type": "code",
      "source": [
        "X = tsne_df5.loc[:,['x','y']]"
      ],
      "execution_count": 0,
      "outputs": []
    },
    {
      "metadata": {
        "id": "0T0ZLOfViTLc",
        "colab_type": "code",
        "outputId": "ed86a4eb-ce7a-4a87-d67a-97ee94f2113e",
        "colab": {
          "base_uri": "https://localhost:8080/",
          "height": 187
        }
      },
      "cell_type": "code",
      "source": [
        "inertia = []\n",
        "for i in range(10):\n",
        "  km = KMeans((i+1)*10)\n",
        "  km.fit(X)\n",
        "  inertia.append(km.inertia_)\n",
        "  print(i)"
      ],
      "execution_count": 0,
      "outputs": [
        {
          "output_type": "stream",
          "text": [
            "0\n",
            "1\n",
            "2\n",
            "3\n",
            "4\n",
            "5\n",
            "6\n",
            "7\n",
            "8\n",
            "9\n"
          ],
          "name": "stdout"
        }
      ]
    },
    {
      "metadata": {
        "id": "FxiT-LPulM1G",
        "colab_type": "code",
        "outputId": "935aab1f-1a79-415f-a13e-ab6290ceec21",
        "colab": {
          "base_uri": "https://localhost:8080/",
          "height": 311
        }
      },
      "cell_type": "code",
      "source": [
        "import matplotlib.pyplot as plt\n",
        "%matplotlib inline\n",
        "plt.plot((np.arange(10)+1)*10,inertia)\n",
        "plt.title('Variation of inertia over different number of clusters')\n",
        "plt.xlabel('Number of clusters')\n",
        "plt.ylabel('Inertia')"
      ],
      "execution_count": 0,
      "outputs": [
        {
          "output_type": "execute_result",
          "data": {
            "text/plain": [
              "Text(0, 0.5, 'Inertia')"
            ]
          },
          "metadata": {
            "tags": []
          },
          "execution_count": 210
        },
        {
          "output_type": "display_data",
          "data": {
            "image/png": "[encoded data removed]",
            "text/plain": [
              "<Figure size 432x288 with 1 Axes>"
            ]
          },
          "metadata": {
            "tags": []
          }
        }
      ]
    },
    {
      "metadata": {
        "id": "J_5MQeqrZZF8",
        "colab_type": "code",
        "outputId": "5690f104-44ad-4451-c573-4aef5d696885",
        "colab": {
          "base_uri": "https://localhost:8080/",
          "height": 68
        }
      },
      "cell_type": "code",
      "source": [
        "km = KMeans(40)\n",
        "km.fit(X)"
      ],
      "execution_count": 0,
      "outputs": [
        {
          "output_type": "execute_result",
          "data": {
            "text/plain": [
              "KMeans(algorithm='auto', copy_x=True, init='k-means++', max_iter=300,\n",
              "    n_clusters=40, n_init=10, n_jobs=None, precompute_distances='auto',\n",
              "    random_state=None, tol=0.0001, verbose=0)"
            ]
          },
          "metadata": {
            "tags": []
          },
          "execution_count": 219
        }
      ]
    },
    {
      "metadata": {
        "id": "u5jWHkQWrMyD",
        "colab_type": "code",
        "outputId": "052f91f0-f68c-4078-96a4-6f4790c84d45",
        "colab": {
          "base_uri": "https://localhost:8080/",
          "height": 119
        }
      },
      "cell_type": "code",
      "source": [
        "tsne_df5['cluster_label'] = km.labels_"
      ],
      "execution_count": 0,
      "outputs": [
        {
          "output_type": "stream",
          "text": [
            "/usr/local/lib/python3.6/dist-packages/ipykernel_launcher.py:1: SettingWithCopyWarning: \n",
            "A value is trying to be set on a copy of a slice from a DataFrame.\n",
            "Try using .loc[row_indexer,col_indexer] = value instead\n",
            "\n",
            "See the caveats in the documentation: http://pandas.pydata.org/pandas-docs/stable/indexing.html#indexing-view-versus-copy\n",
            "  \"\"\"Entry point for launching an IPython kernel.\n"
          ],
          "name": "stderr"
        }
      ]
    },
    {
      "metadata": {
        "id": "dUyUM5MNlPcq",
        "colab_type": "code",
        "colab": {}
      },
      "cell_type": "code",
      "source": [
        "tsne_df5[tsne_df5['cluster_label']==0].head()"
      ],
      "execution_count": 0,
      "outputs": []
    },
    {
      "metadata": {
        "id": "wccWd8W13TFG",
        "colab_type": "code",
        "colab": {}
      },
      "cell_type": "code",
      "source": [
        "movie_cluster_id = tsne_df5[['image_label','cluster_label']]"
      ],
      "execution_count": 0,
      "outputs": []
    },
    {
      "metadata": {
        "id": "nJgntB1A3tt-",
        "colab_type": "code",
        "colab": {}
      },
      "cell_type": "code",
      "source": [
        "pred = model.predict(testX)"
      ],
      "execution_count": 0,
      "outputs": []
    },
    {
      "metadata": {
        "id": "h0V73N596R0d",
        "colab_type": "code",
        "outputId": "fc9d5196-b335-4554-fa62-95aa95d36413",
        "colab": {
          "base_uri": "https://localhost:8080/",
          "height": 34
        }
      },
      "cell_type": "code",
      "source": [
        "pred.shape"
      ],
      "execution_count": 0,
      "outputs": [
        {
          "output_type": "execute_result",
          "data": {
            "text/plain": [
              "(9737, 1447)"
            ]
          },
          "metadata": {
            "tags": []
          },
          "execution_count": 230
        }
      ]
    },
    {
      "metadata": {
        "id": "6Z3qfVKD3tzs",
        "colab_type": "code",
        "outputId": "6b5c941e-5fd3-4510-a411-15de1b383862",
        "colab": {
          "base_uri": "https://localhost:8080/",
          "height": 187
        }
      },
      "cell_type": "code",
      "source": [
        "for j in range(pred.shape[0]):\n",
        "  if(j%1000==0):\n",
        "    print(j)\n",
        "  for i in range(pred.shape[1]):\n",
        "    pred[j][i]= np.where(i in test_historically_watched[j], 0 , pred[j][i])"
      ],
      "execution_count": 0,
      "outputs": [
        {
          "output_type": "stream",
          "text": [
            "0\n",
            "1000\n",
            "2000\n",
            "3000\n",
            "4000\n",
            "5000\n",
            "6000\n",
            "7000\n",
            "8000\n",
            "9000\n"
          ],
          "name": "stdout"
        }
      ]
    },
    {
      "metadata": {
        "id": "-0_UoIpea4t1",
        "colab_type": "code",
        "outputId": "ff5fae72-51b2-4a6e-f73d-bebef5efbc6c",
        "colab": {
          "base_uri": "https://localhost:8080/",
          "height": 34
        }
      },
      "cell_type": "code",
      "source": [
        "pred.shape"
      ],
      "execution_count": 0,
      "outputs": [
        {
          "output_type": "execute_result",
          "data": {
            "text/plain": [
              "(9737, 1447)"
            ]
          },
          "metadata": {
            "tags": []
          },
          "execution_count": 232
        }
      ]
    },
    {
      "metadata": {
        "id": "O87FW0gza7fK",
        "colab_type": "code",
        "colab": {}
      },
      "cell_type": "code",
      "source": [
        "movie_cluster_id.head()"
      ],
      "execution_count": 0,
      "outputs": []
    },
    {
      "metadata": {
        "id": "B6mumpn7bRsZ",
        "colab_type": "code",
        "colab": {}
      },
      "cell_type": "code",
      "source": [
        "list(movie_cluster_id['image_label'])"
      ],
      "execution_count": 0,
      "outputs": []
    },
    {
      "metadata": {
        "id": "wwB7chy-bKA7",
        "colab_type": "code",
        "outputId": "b1e8829a-fd70-4615-f243-d85adde61eca",
        "colab": {
          "base_uri": "https://localhost:8080/",
          "height": 51
        }
      },
      "cell_type": "code",
      "source": [
        "pred[0,list(movie_cluster_id['image_label'])]"
      ],
      "execution_count": 0,
      "outputs": [
        {
          "output_type": "execute_result",
          "data": {
            "text/plain": [
              "array([2.6576780e-03, 1.5723570e-03, 0.0000000e+00, ..., 2.3026960e-05,\n",
              "       1.1034694e-05, 4.5954261e-05], dtype=float32)"
            ]
          },
          "metadata": {
            "tags": []
          },
          "execution_count": 238
        }
      ]
    },
    {
      "metadata": {
        "id": "d38bO90E3t76",
        "colab_type": "code",
        "outputId": "77d9190c-34bf-448a-95d3-dd65c21f6fc4",
        "colab": {
          "base_uri": "https://localhost:8080/",
          "height": 357
        }
      },
      "cell_type": "code",
      "source": [
        "count = 0\n",
        "for j in range(pred.shape[0]):\n",
        "  if(j%500==0):\n",
        "    print(j)\n",
        "  t = movie_cluster_id.copy()\n",
        "  t['pred']=pred[j,list(movie_cluster_id['image_label'])]\n",
        "  t2= t.sort_values(by='pred',ascending=False).groupby('cluster_label').first().reset_index()\n",
        "  #xx2 = t2.groupby('cluster_label').head(1).reset_index()\n",
        "  t3 = t2.sort_values(by='pred',ascending=False).reset_index()\n",
        "  final_top_preds = t3.loc[:11]['image_label'].values\n",
        "  if (np.argmax(testY[j]) in final_top_preds):\n",
        "    count+=1\n",
        "    "
      ],
      "execution_count": 0,
      "outputs": [
        {
          "output_type": "stream",
          "text": [
            "0\n",
            "500\n",
            "1000\n",
            "1500\n",
            "2000\n",
            "2500\n",
            "3000\n",
            "3500\n",
            "4000\n",
            "4500\n",
            "5000\n",
            "5500\n",
            "6000\n",
            "6500\n",
            "7000\n",
            "7500\n",
            "8000\n",
            "8500\n",
            "9000\n",
            "9500\n"
          ],
          "name": "stdout"
        }
      ]
    },
    {
      "metadata": {
        "id": "B80D1yZL8gbP",
        "colab_type": "code",
        "outputId": "08d6322c-67a5-4964-b143-24613c560314",
        "colab": {
          "base_uri": "https://localhost:8080/",
          "height": 34
        }
      },
      "cell_type": "code",
      "source": [
        "count/testX.shape[0]"
      ],
      "execution_count": 0,
      "outputs": [
        {
          "output_type": "execute_result",
          "data": {
            "text/plain": [
              "0.13546266817294855"
            ]
          },
          "metadata": {
            "tags": []
          },
          "execution_count": 240
        }
      ]
    }
  ]
}