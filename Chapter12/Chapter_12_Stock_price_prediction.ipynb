{
  "nbformat": 4,
  "nbformat_minor": 0,
  "metadata": {
    "colab": {
      "name": "Chapter 12 - Stock price prediction.ipynb",
      "version": "0.3.2",
      "provenance": [],
      "collapsed_sections": []
    },
    "kernelspec": {
      "name": "python3",
      "display_name": "Python 3"
    },
    "accelerator": "GPU"
  },
  "cells": [
    {
      "metadata": {
        "id": "8j6OCu0MM_Sj",
        "colab_type": "code",
        "colab": {}
      },
      "cell_type": "code",
      "source": [
        "from bs4 import BeautifulSoup\n",
        "from bs4 import BeautifulSoup\n",
        "import urllib, json"
      ],
      "execution_count": 0,
      "outputs": []
    },
    {
      "metadata": {
        "id": "LETNp4F8NyeH",
        "colab_type": "code",
        "outputId": "8f8167f0-5639-4d91-905e-a452c627ae48",
        "colab": {
          "base_uri": "https://localhost:8080/",
          "height": 136
        }
      },
      "cell_type": "code",
      "source": [
        "dates = []\n",
        "titles = []\n",
        "for i in range(100):\n",
        "  try:\n",
        "    url = 'https://content.guardianapis.com/search?from-date=2010-01-01&section=business&page-size=200&order-by=newest&page='+str(i+1)+'&q=amazon&api-key=207b6047-a2a6-4dd2-813b-5cd006b780d7'\n",
        "    response = urllib.request.urlopen(url)\n",
        "    encoding = response.info().get_content_charset('utf8')\n",
        "    data = json.loads(response.read().decode(encoding))\n",
        "    print(i)\n",
        "    for j in range(len(data['response']['results'])):\n",
        "      dates.append(data['response']['results'][j]['webPublicationDate'])\n",
        "      titles.append(data['response']['results'][j]['webTitle'])  \n",
        "  except:\n",
        "    break"
      ],
      "execution_count": 0,
      "outputs": [
        {
          "output_type": "stream",
          "text": [
            "0\n",
            "1\n",
            "2\n",
            "3\n",
            "4\n",
            "5\n",
            "6\n"
          ],
          "name": "stdout"
        }
      ]
    },
    {
      "metadata": {
        "id": "9w_GPHj7QB8h",
        "colab_type": "code",
        "outputId": "2c3a8a37-c001-481e-cebb-3659874fb9be",
        "colab": {
          "base_uri": "https://localhost:8080/",
          "height": 34
        }
      },
      "cell_type": "code",
      "source": [
        "len(set(dates))"
      ],
      "execution_count": 0,
      "outputs": [
        {
          "output_type": "execute_result",
          "data": {
            "text/plain": [
              "1271"
            ]
          },
          "metadata": {
            "tags": []
          },
          "execution_count": 3
        }
      ]
    },
    {
      "metadata": {
        "id": "24EE_UpvQXOG",
        "colab_type": "code",
        "outputId": "0d2b8ae8-fe23-407c-ef8d-75dc9982a878",
        "colab": {
          "base_uri": "https://localhost:8080/",
          "height": 34
        }
      },
      "cell_type": "code",
      "source": [
        "dates[-1]"
      ],
      "execution_count": 0,
      "outputs": [
        {
          "output_type": "execute_result",
          "data": {
            "text/plain": [
              "'2010-01-01T16:27:51Z'"
            ]
          },
          "metadata": {
            "tags": []
          },
          "execution_count": 4
        }
      ]
    },
    {
      "metadata": {
        "id": "aHJR0N7GQkDY",
        "colab_type": "code",
        "colab": {}
      },
      "cell_type": "code",
      "source": [
        "import pandas as pd\n",
        "data = pd.DataFrame(dates, titles)"
      ],
      "execution_count": 0,
      "outputs": []
    },
    {
      "metadata": {
        "id": "vZ0-BDZNOUVS",
        "colab_type": "code",
        "outputId": "3b33363b-960e-4d7b-81f7-7fcc151de30f",
        "colab": {
          "base_uri": "https://localhost:8080/",
          "height": 204
        }
      },
      "cell_type": "code",
      "source": [
        "data.head()"
      ],
      "execution_count": 0,
      "outputs": [
        {
          "output_type": "execute_result",
          "data": {
            "text/html": [
              "<div>\n",
              "<style scoped>\n",
              "    .dataframe tbody tr th:only-of-type {\n",
              "        vertical-align: middle;\n",
              "    }\n",
              "\n",
              "    .dataframe tbody tr th {\n",
              "        vertical-align: top;\n",
              "    }\n",
              "\n",
              "    .dataframe thead th {\n",
              "        text-align: right;\n",
              "    }\n",
              "</style>\n",
              "<table border=\"1\" class=\"dataframe\">\n",
              "  <thead>\n",
              "    <tr style=\"text-align: right;\">\n",
              "      <th></th>\n",
              "      <th>0</th>\n",
              "    </tr>\n",
              "  </thead>\n",
              "  <tbody>\n",
              "    <tr>\n",
              "      <th>Debenhams hopes rise as major supplier adds support to cash fillip</th>\n",
              "      <td>2019-02-12T19:22:39Z</td>\n",
              "    </tr>\n",
              "    <tr>\n",
              "      <th>Ocado prays warehouse blaze won’t douse its hopes for a hi-tech future</th>\n",
              "      <td>2019-02-09T19:00:57Z</td>\n",
              "    </tr>\n",
              "    <tr>\n",
              "      <th>HMV's new voice is relishing the fight to save all the stores</th>\n",
              "      <td>2019-02-08T15:38:59Z</td>\n",
              "    </tr>\n",
              "    <tr>\n",
              "      <th>Trade war fears mount as Trump says China meeting 'unlikely' - as it happened</th>\n",
              "      <td>2019-02-08T14:54:22Z</td>\n",
              "    </tr>\n",
              "    <tr>\n",
              "      <th>Huge fire at Ocado's Hampshire warehouse brought under control</th>\n",
              "      <td>2019-02-06T08:00:06Z</td>\n",
              "    </tr>\n",
              "  </tbody>\n",
              "</table>\n",
              "</div>"
            ],
            "text/plain": [
              "                                                                       0\n",
              "Debenhams hopes rise as major supplier adds sup...  2019-02-12T19:22:39Z\n",
              "Ocado prays warehouse blaze won’t douse its hop...  2019-02-09T19:00:57Z\n",
              "HMV's new voice is relishing the fight to save ...  2019-02-08T15:38:59Z\n",
              "Trade war fears mount as Trump says China meeti...  2019-02-08T14:54:22Z\n",
              "Huge fire at Ocado's Hampshire warehouse brough...  2019-02-06T08:00:06Z"
            ]
          },
          "metadata": {
            "tags": []
          },
          "execution_count": 6
        }
      ]
    },
    {
      "metadata": {
        "id": "3sN2TmXmOXs7",
        "colab_type": "code",
        "outputId": "7936512f-978a-4e24-f87b-c37bcabc8705",
        "colab": {
          "base_uri": "https://localhost:8080/",
          "height": 204
        }
      },
      "cell_type": "code",
      "source": [
        "data = data.reset_index()\n",
        "data.columns = ['title','date']\n",
        "data.head()"
      ],
      "execution_count": 0,
      "outputs": [
        {
          "output_type": "execute_result",
          "data": {
            "text/html": [
              "<div>\n",
              "<style scoped>\n",
              "    .dataframe tbody tr th:only-of-type {\n",
              "        vertical-align: middle;\n",
              "    }\n",
              "\n",
              "    .dataframe tbody tr th {\n",
              "        vertical-align: top;\n",
              "    }\n",
              "\n",
              "    .dataframe thead th {\n",
              "        text-align: right;\n",
              "    }\n",
              "</style>\n",
              "<table border=\"1\" class=\"dataframe\">\n",
              "  <thead>\n",
              "    <tr style=\"text-align: right;\">\n",
              "      <th></th>\n",
              "      <th>title</th>\n",
              "      <th>date</th>\n",
              "    </tr>\n",
              "  </thead>\n",
              "  <tbody>\n",
              "    <tr>\n",
              "      <th>0</th>\n",
              "      <td>Debenhams hopes rise as major supplier adds su...</td>\n",
              "      <td>2019-02-12T19:22:39Z</td>\n",
              "    </tr>\n",
              "    <tr>\n",
              "      <th>1</th>\n",
              "      <td>Ocado prays warehouse blaze won’t douse its ho...</td>\n",
              "      <td>2019-02-09T19:00:57Z</td>\n",
              "    </tr>\n",
              "    <tr>\n",
              "      <th>2</th>\n",
              "      <td>HMV's new voice is relishing the fight to save...</td>\n",
              "      <td>2019-02-08T15:38:59Z</td>\n",
              "    </tr>\n",
              "    <tr>\n",
              "      <th>3</th>\n",
              "      <td>Trade war fears mount as Trump says China meet...</td>\n",
              "      <td>2019-02-08T14:54:22Z</td>\n",
              "    </tr>\n",
              "    <tr>\n",
              "      <th>4</th>\n",
              "      <td>Huge fire at Ocado's Hampshire warehouse broug...</td>\n",
              "      <td>2019-02-06T08:00:06Z</td>\n",
              "    </tr>\n",
              "  </tbody>\n",
              "</table>\n",
              "</div>"
            ],
            "text/plain": [
              "                                               title                  date\n",
              "0  Debenhams hopes rise as major supplier adds su...  2019-02-12T19:22:39Z\n",
              "1  Ocado prays warehouse blaze won’t douse its ho...  2019-02-09T19:00:57Z\n",
              "2  HMV's new voice is relishing the fight to save...  2019-02-08T15:38:59Z\n",
              "3  Trade war fears mount as Trump says China meet...  2019-02-08T14:54:22Z\n",
              "4  Huge fire at Ocado's Hampshire warehouse broug...  2019-02-06T08:00:06Z"
            ]
          },
          "metadata": {
            "tags": []
          },
          "execution_count": 7
        }
      ]
    },
    {
      "metadata": {
        "id": "c3FpI9iHOfwR",
        "colab_type": "code",
        "colab": {}
      },
      "cell_type": "code",
      "source": [
        "data['date']=data['date'].str[:10]"
      ],
      "execution_count": 0,
      "outputs": []
    },
    {
      "metadata": {
        "id": "XxCrkBheOrEz",
        "colab_type": "code",
        "outputId": "550aca32-c2e0-4400-bc9d-c4ce50c4dffe",
        "colab": {
          "base_uri": "https://localhost:8080/",
          "height": 204
        }
      },
      "cell_type": "code",
      "source": [
        "data.head()"
      ],
      "execution_count": 0,
      "outputs": [
        {
          "output_type": "execute_result",
          "data": {
            "text/html": [
              "<div>\n",
              "<style scoped>\n",
              "    .dataframe tbody tr th:only-of-type {\n",
              "        vertical-align: middle;\n",
              "    }\n",
              "\n",
              "    .dataframe tbody tr th {\n",
              "        vertical-align: top;\n",
              "    }\n",
              "\n",
              "    .dataframe thead th {\n",
              "        text-align: right;\n",
              "    }\n",
              "</style>\n",
              "<table border=\"1\" class=\"dataframe\">\n",
              "  <thead>\n",
              "    <tr style=\"text-align: right;\">\n",
              "      <th></th>\n",
              "      <th>title</th>\n",
              "      <th>date</th>\n",
              "    </tr>\n",
              "  </thead>\n",
              "  <tbody>\n",
              "    <tr>\n",
              "      <th>0</th>\n",
              "      <td>Debenhams hopes rise as major supplier adds su...</td>\n",
              "      <td>2019-02-12</td>\n",
              "    </tr>\n",
              "    <tr>\n",
              "      <th>1</th>\n",
              "      <td>Ocado prays warehouse blaze won’t douse its ho...</td>\n",
              "      <td>2019-02-09</td>\n",
              "    </tr>\n",
              "    <tr>\n",
              "      <th>2</th>\n",
              "      <td>HMV's new voice is relishing the fight to save...</td>\n",
              "      <td>2019-02-08</td>\n",
              "    </tr>\n",
              "    <tr>\n",
              "      <th>3</th>\n",
              "      <td>Trade war fears mount as Trump says China meet...</td>\n",
              "      <td>2019-02-08</td>\n",
              "    </tr>\n",
              "    <tr>\n",
              "      <th>4</th>\n",
              "      <td>Huge fire at Ocado's Hampshire warehouse broug...</td>\n",
              "      <td>2019-02-06</td>\n",
              "    </tr>\n",
              "  </tbody>\n",
              "</table>\n",
              "</div>"
            ],
            "text/plain": [
              "                                               title        date\n",
              "0  Debenhams hopes rise as major supplier adds su...  2019-02-12\n",
              "1  Ocado prays warehouse blaze won’t douse its ho...  2019-02-09\n",
              "2  HMV's new voice is relishing the fight to save...  2019-02-08\n",
              "3  Trade war fears mount as Trump says China meet...  2019-02-08\n",
              "4  Huge fire at Ocado's Hampshire warehouse broug...  2019-02-06"
            ]
          },
          "metadata": {
            "tags": []
          },
          "execution_count": 9
        }
      ]
    },
    {
      "metadata": {
        "id": "oRBu1GEuXWTA",
        "colab_type": "code",
        "outputId": "ee32a67d-7836-4b29-e476-768b60275d74",
        "colab": {
          "base_uri": "https://localhost:8080/",
          "height": 204
        }
      },
      "cell_type": "code",
      "source": [
        "data['date']=pd.to_datetime(data['date'], format = '%Y-%m-%d')\n",
        "data.head()"
      ],
      "execution_count": 0,
      "outputs": [
        {
          "output_type": "execute_result",
          "data": {
            "text/html": [
              "<div>\n",
              "<style scoped>\n",
              "    .dataframe tbody tr th:only-of-type {\n",
              "        vertical-align: middle;\n",
              "    }\n",
              "\n",
              "    .dataframe tbody tr th {\n",
              "        vertical-align: top;\n",
              "    }\n",
              "\n",
              "    .dataframe thead th {\n",
              "        text-align: right;\n",
              "    }\n",
              "</style>\n",
              "<table border=\"1\" class=\"dataframe\">\n",
              "  <thead>\n",
              "    <tr style=\"text-align: right;\">\n",
              "      <th></th>\n",
              "      <th>title</th>\n",
              "      <th>date</th>\n",
              "    </tr>\n",
              "  </thead>\n",
              "  <tbody>\n",
              "    <tr>\n",
              "      <th>0</th>\n",
              "      <td>Debenhams hopes rise as major supplier adds su...</td>\n",
              "      <td>2019-02-12</td>\n",
              "    </tr>\n",
              "    <tr>\n",
              "      <th>1</th>\n",
              "      <td>Ocado prays warehouse blaze won’t douse its ho...</td>\n",
              "      <td>2019-02-09</td>\n",
              "    </tr>\n",
              "    <tr>\n",
              "      <th>2</th>\n",
              "      <td>HMV's new voice is relishing the fight to save...</td>\n",
              "      <td>2019-02-08</td>\n",
              "    </tr>\n",
              "    <tr>\n",
              "      <th>3</th>\n",
              "      <td>Trade war fears mount as Trump says China meet...</td>\n",
              "      <td>2019-02-08</td>\n",
              "    </tr>\n",
              "    <tr>\n",
              "      <th>4</th>\n",
              "      <td>Huge fire at Ocado's Hampshire warehouse broug...</td>\n",
              "      <td>2019-02-06</td>\n",
              "    </tr>\n",
              "  </tbody>\n",
              "</table>\n",
              "</div>"
            ],
            "text/plain": [
              "                                               title       date\n",
              "0  Debenhams hopes rise as major supplier adds su... 2019-02-12\n",
              "1  Ocado prays warehouse blaze won’t douse its ho... 2019-02-09\n",
              "2  HMV's new voice is relishing the fight to save... 2019-02-08\n",
              "3  Trade war fears mount as Trump says China meet... 2019-02-08\n",
              "4  Huge fire at Ocado's Hampshire warehouse broug... 2019-02-06"
            ]
          },
          "metadata": {
            "tags": []
          },
          "execution_count": 10
        }
      ]
    },
    {
      "metadata": {
        "id": "Cap49TEZXSvr",
        "colab_type": "code",
        "outputId": "aeb8c384-00c0-484d-de41-2cb168ebf470",
        "colab": {
          "base_uri": "https://localhost:8080/",
          "height": 204
        }
      },
      "cell_type": "code",
      "source": [
        "data = data.sort_values(by='date')\n",
        "data.head()"
      ],
      "execution_count": 0,
      "outputs": [
        {
          "output_type": "execute_result",
          "data": {
            "text/html": [
              "<div>\n",
              "<style scoped>\n",
              "    .dataframe tbody tr th:only-of-type {\n",
              "        vertical-align: middle;\n",
              "    }\n",
              "\n",
              "    .dataframe tbody tr th {\n",
              "        vertical-align: top;\n",
              "    }\n",
              "\n",
              "    .dataframe thead th {\n",
              "        text-align: right;\n",
              "    }\n",
              "</style>\n",
              "<table border=\"1\" class=\"dataframe\">\n",
              "  <thead>\n",
              "    <tr style=\"text-align: right;\">\n",
              "      <th></th>\n",
              "      <th>title</th>\n",
              "      <th>date</th>\n",
              "    </tr>\n",
              "  </thead>\n",
              "  <tbody>\n",
              "    <tr>\n",
              "      <th>1272</th>\n",
              "      <td>Private post operators clean up as customers s...</td>\n",
              "      <td>2010-01-01</td>\n",
              "    </tr>\n",
              "    <tr>\n",
              "      <th>1271</th>\n",
              "      <td>Waterstone's chief pays the price for poor Chr...</td>\n",
              "      <td>2010-01-14</td>\n",
              "    </tr>\n",
              "    <tr>\n",
              "      <th>1270</th>\n",
              "      <td>TalentPuzzle can work out recruitment answers</td>\n",
              "      <td>2010-01-14</td>\n",
              "    </tr>\n",
              "    <tr>\n",
              "      <th>1269</th>\n",
              "      <td>Apple looks for iSlate mobile partner</td>\n",
              "      <td>2010-01-19</td>\n",
              "    </tr>\n",
              "    <tr>\n",
              "      <th>1268</th>\n",
              "      <td>Amazon shelves Macmillan titles in ebook row</td>\n",
              "      <td>2010-01-31</td>\n",
              "    </tr>\n",
              "  </tbody>\n",
              "</table>\n",
              "</div>"
            ],
            "text/plain": [
              "                                                  title       date\n",
              "1272  Private post operators clean up as customers s... 2010-01-01\n",
              "1271  Waterstone's chief pays the price for poor Chr... 2010-01-14\n",
              "1270      TalentPuzzle can work out recruitment answers 2010-01-14\n",
              "1269              Apple looks for iSlate mobile partner 2010-01-19\n",
              "1268       Amazon shelves Macmillan titles in ebook row 2010-01-31"
            ]
          },
          "metadata": {
            "tags": []
          },
          "execution_count": 11
        }
      ]
    },
    {
      "metadata": {
        "id": "eURXkTCBXq7x",
        "colab_type": "code",
        "colab": {}
      },
      "cell_type": "code",
      "source": [
        "data_final = data.groupby('date').first().reset_index()"
      ],
      "execution_count": 0,
      "outputs": []
    },
    {
      "metadata": {
        "id": "NP__K4TXOu7i",
        "colab_type": "code",
        "outputId": "7e4552e9-05a6-4ee8-f1b8-0a31ce45af83",
        "colab": {
          "base_uri": "https://localhost:8080/",
          "height": 377
        }
      },
      "cell_type": "code",
      "source": [
        "!wget https://www.dropbox.com/s/6fab2uqje8e5bf5/stock_data.csv"
      ],
      "execution_count": 0,
      "outputs": [
        {
          "output_type": "stream",
          "text": [
            "--2019-02-17 08:53:43--  https://www.dropbox.com/s/6fab2uqje8e5bf5/stock_data.csv\n",
            "Resolving www.dropbox.com (www.dropbox.com)... 162.125.8.1, 2620:100:601b:1::a27d:801\n",
            "Connecting to www.dropbox.com (www.dropbox.com)|162.125.8.1|:443... connected.\n",
            "HTTP request sent, awaiting response... 301 Moved Permanently\n",
            "Location: /s/raw/6fab2uqje8e5bf5/stock_data.csv [following]\n",
            "--2019-02-17 08:53:43--  https://www.dropbox.com/s/raw/6fab2uqje8e5bf5/stock_data.csv\n",
            "Reusing existing connection to www.dropbox.com:443.\n",
            "HTTP request sent, awaiting response... 302 Found\n",
            "Location: https://uc83613d95df21d9befa9b4539a1.dl.dropboxusercontent.com/cd/0/inline/AbfZaBz3MOd8vZSdbYRJbDMESbwbEvx35G91uO13JG_4Ai_b1PCIThqhE2fR2Fsgf_DSX4bUDoqnkY5E4bo6TiV8_1r1hHri9JN_jXsdhvpyC2_zVvEfcyGsz0i2wp1s1q4/file# [following]\n",
            "--2019-02-17 08:53:43--  https://uc83613d95df21d9befa9b4539a1.dl.dropboxusercontent.com/cd/0/inline/AbfZaBz3MOd8vZSdbYRJbDMESbwbEvx35G91uO13JG_4Ai_b1PCIThqhE2fR2Fsgf_DSX4bUDoqnkY5E4bo6TiV8_1r1hHri9JN_jXsdhvpyC2_zVvEfcyGsz0i2wp1s1q4/file\n",
            "Resolving uc83613d95df21d9befa9b4539a1.dl.dropboxusercontent.com (uc83613d95df21d9befa9b4539a1.dl.dropboxusercontent.com)... 162.125.8.6, 2620:100:601b:6::a27d:806\n",
            "Connecting to uc83613d95df21d9befa9b4539a1.dl.dropboxusercontent.com (uc83613d95df21d9befa9b4539a1.dl.dropboxusercontent.com)|162.125.8.6|:443... connected.\n",
            "HTTP request sent, awaiting response... 200 OK\n",
            "Length: 169042 (165K) [text/plain]\n",
            "Saving to: ‘stock_data.csv’\n",
            "\n",
            "\rstock_data.csv        0%[                    ]       0  --.-KB/s               \rstock_data.csv      100%[===================>] 165.08K  --.-KB/s    in 0.07s   \n",
            "\n",
            "2019-02-17 08:53:43 (2.21 MB/s) - ‘stock_data.csv’ saved [169042/169042]\n",
            "\n"
          ],
          "name": "stdout"
        }
      ]
    },
    {
      "metadata": {
        "id": "m73fPMh8QKU1",
        "colab_type": "code",
        "outputId": "8a0318c5-9b40-43a6-f625-ad755cd46ccf",
        "colab": {
          "base_uri": "https://localhost:8080/",
          "height": 34
        }
      },
      "cell_type": "code",
      "source": [
        "!ls"
      ],
      "execution_count": 0,
      "outputs": [
        {
          "output_type": "stream",
          "text": [
            "sample_data  stock_data.csv\n"
          ],
          "name": "stdout"
        }
      ]
    },
    {
      "metadata": {
        "id": "6qblFjagOP0D",
        "colab_type": "text"
      },
      "cell_type": "markdown",
      "source": [
        "# The last 5 days' stock price only"
      ]
    },
    {
      "metadata": {
        "id": "RZcfo_YsQ3rI",
        "colab_type": "code",
        "outputId": "8c4b80b7-3a36-4e34-8106-3de76401c697",
        "colab": {
          "base_uri": "https://localhost:8080/",
          "height": 204
        }
      },
      "cell_type": "code",
      "source": [
        "import pandas as pd\n",
        "data2 = pd.read_csv('/content/stock_data.csv')\n",
        "data2.head()"
      ],
      "execution_count": 0,
      "outputs": [
        {
          "output_type": "execute_result",
          "data": {
            "text/html": [
              "<div>\n",
              "<style scoped>\n",
              "    .dataframe tbody tr th:only-of-type {\n",
              "        vertical-align: middle;\n",
              "    }\n",
              "\n",
              "    .dataframe tbody tr th {\n",
              "        vertical-align: top;\n",
              "    }\n",
              "\n",
              "    .dataframe thead th {\n",
              "        text-align: right;\n",
              "    }\n",
              "</style>\n",
              "<table border=\"1\" class=\"dataframe\">\n",
              "  <thead>\n",
              "    <tr style=\"text-align: right;\">\n",
              "      <th></th>\n",
              "      <th>Date</th>\n",
              "      <th>Open</th>\n",
              "      <th>High</th>\n",
              "      <th>Low</th>\n",
              "      <th>Close</th>\n",
              "      <th>Adj Close</th>\n",
              "      <th>Volume</th>\n",
              "    </tr>\n",
              "  </thead>\n",
              "  <tbody>\n",
              "    <tr>\n",
              "      <th>0</th>\n",
              "      <td>2009-12-31</td>\n",
              "      <td>137.089996</td>\n",
              "      <td>137.279999</td>\n",
              "      <td>134.520004</td>\n",
              "      <td>134.520004</td>\n",
              "      <td>134.520004</td>\n",
              "      <td>4523000</td>\n",
              "    </tr>\n",
              "    <tr>\n",
              "      <th>1</th>\n",
              "      <td>2010-01-04</td>\n",
              "      <td>136.250000</td>\n",
              "      <td>136.610001</td>\n",
              "      <td>133.139999</td>\n",
              "      <td>133.899994</td>\n",
              "      <td>133.899994</td>\n",
              "      <td>7599900</td>\n",
              "    </tr>\n",
              "    <tr>\n",
              "      <th>2</th>\n",
              "      <td>2010-01-05</td>\n",
              "      <td>133.429993</td>\n",
              "      <td>135.479996</td>\n",
              "      <td>131.809998</td>\n",
              "      <td>134.690002</td>\n",
              "      <td>134.690002</td>\n",
              "      <td>8851900</td>\n",
              "    </tr>\n",
              "    <tr>\n",
              "      <th>3</th>\n",
              "      <td>2010-01-06</td>\n",
              "      <td>134.600006</td>\n",
              "      <td>134.729996</td>\n",
              "      <td>131.649994</td>\n",
              "      <td>132.250000</td>\n",
              "      <td>132.250000</td>\n",
              "      <td>7178800</td>\n",
              "    </tr>\n",
              "    <tr>\n",
              "      <th>4</th>\n",
              "      <td>2010-01-07</td>\n",
              "      <td>132.009995</td>\n",
              "      <td>132.320007</td>\n",
              "      <td>128.800003</td>\n",
              "      <td>130.000000</td>\n",
              "      <td>130.000000</td>\n",
              "      <td>11030200</td>\n",
              "    </tr>\n",
              "  </tbody>\n",
              "</table>\n",
              "</div>"
            ],
            "text/plain": [
              "         Date        Open        High         Low       Close   Adj Close  \\\n",
              "0  2009-12-31  137.089996  137.279999  134.520004  134.520004  134.520004   \n",
              "1  2010-01-04  136.250000  136.610001  133.139999  133.899994  133.899994   \n",
              "2  2010-01-05  133.429993  135.479996  131.809998  134.690002  134.690002   \n",
              "3  2010-01-06  134.600006  134.729996  131.649994  132.250000  132.250000   \n",
              "4  2010-01-07  132.009995  132.320007  128.800003  130.000000  130.000000   \n",
              "\n",
              "     Volume  \n",
              "0   4523000  \n",
              "1   7599900  \n",
              "2   8851900  \n",
              "3   7178800  \n",
              "4  11030200  "
            ]
          },
          "metadata": {
            "tags": []
          },
          "execution_count": 15
        }
      ]
    },
    {
      "metadata": {
        "id": "ivM4_Ue2RKhK",
        "colab_type": "code",
        "outputId": "1f1fe6fb-6954-4b9f-f4cc-9fe17e0f13e8",
        "colab": {
          "base_uri": "https://localhost:8080/",
          "height": 51
        }
      },
      "cell_type": "code",
      "source": [
        "data2.loc[0:5]['Close'].values"
      ],
      "execution_count": 0,
      "outputs": [
        {
          "output_type": "execute_result",
          "data": {
            "text/plain": [
              "array([134.520004, 133.899994, 134.690002, 132.25    , 130.      ,\n",
              "       133.520004])"
            ]
          },
          "metadata": {
            "tags": []
          },
          "execution_count": 16
        }
      ]
    },
    {
      "metadata": {
        "id": "wuWVQEYNQ8IH",
        "colab_type": "code",
        "colab": {}
      },
      "cell_type": "code",
      "source": [
        "x= []\n",
        "y = []\n",
        "for i in range(data2.shape[0]-5):\n",
        "  x.append(data2.loc[i:(i+4)]['Close'].values)\n",
        "  y.append(data2.loc[i+5]['Close'])"
      ],
      "execution_count": 0,
      "outputs": []
    },
    {
      "metadata": {
        "id": "OuTREeWtRewC",
        "colab_type": "code",
        "colab": {}
      },
      "cell_type": "code",
      "source": [
        "import numpy as np\n",
        "x = np.array(x)\n",
        "y = np.array(y)"
      ],
      "execution_count": 0,
      "outputs": []
    },
    {
      "metadata": {
        "id": "pB2o1jGORioJ",
        "colab_type": "code",
        "outputId": "11dd688a-268a-4682-96b9-7134698ecd6c",
        "colab": {
          "base_uri": "https://localhost:8080/",
          "height": 34
        }
      },
      "cell_type": "code",
      "source": [
        "print(x.shape, y.shape)"
      ],
      "execution_count": 0,
      "outputs": [
        {
          "output_type": "stream",
          "text": [
            "(2256, 5) (2256,)\n"
          ],
          "name": "stdout"
        }
      ]
    },
    {
      "metadata": {
        "id": "VsplUVAlUdfc",
        "colab_type": "code",
        "colab": {}
      },
      "cell_type": "code",
      "source": [
        "x = x.reshape(x.shape[0],x.shape[1],1)"
      ],
      "execution_count": 0,
      "outputs": []
    },
    {
      "metadata": {
        "id": "Ef0unG81VcmD",
        "colab_type": "code",
        "colab": {}
      },
      "cell_type": "code",
      "source": [
        "from sklearn.model_selection import train_test_split\n",
        "X_train, X_test, y_train, y_test = train_test_split(x, y, test_size=0.30,random_state=10)"
      ],
      "execution_count": 0,
      "outputs": []
    },
    {
      "metadata": {
        "id": "pmRui0IuRrCH",
        "colab_type": "code",
        "outputId": "dc532142-3c24-455b-e977-75d0c4c47ac9",
        "colab": {
          "base_uri": "https://localhost:8080/",
          "height": 34
        }
      },
      "cell_type": "code",
      "source": [
        "import os\n",
        "import keras.backend as K\n",
        "from keras.models import Sequential, Model\n",
        "from keras.layers import Conv2D, ZeroPadding2D, BatchNormalization, Input, Dropout\n",
        "from keras.layers import Conv2DTranspose, Reshape, Activation, Cropping2D, Flatten\n",
        "from keras.layers import Concatenate\n",
        "from keras.layers.advanced_activations import LeakyReLU\n",
        "from keras.activations import relu\n",
        "from keras.initializers import RandomNormal\n",
        "from keras.layers import Embedding\n",
        "from keras.layers import LSTM, RepeatVector, TimeDistributed, Dense, Bidirectional"
      ],
      "execution_count": 0,
      "outputs": [
        {
          "output_type": "stream",
          "text": [
            "Using TensorFlow backend.\n"
          ],
          "name": "stderr"
        }
      ]
    },
    {
      "metadata": {
        "id": "2K-BbBJzqXD5",
        "colab_type": "code",
        "outputId": "80d7673e-a13b-41b6-c7c6-1f1a1783e9af",
        "colab": {
          "base_uri": "https://localhost:8080/",
          "height": 343
        }
      },
      "cell_type": "code",
      "source": [
        "model = Sequential()\n",
        "model.add(Dense(100, input_shape = (5,1), activation = 'relu'))\n",
        "model.add((LSTM(100)))\n",
        "model.add(Dense(1000,activation='relu'))\n",
        "model.add(Dense(1,activation='linear'))\n",
        "model.summary()"
      ],
      "execution_count": 0,
      "outputs": [
        {
          "output_type": "stream",
          "text": [
            "WARNING:tensorflow:From /usr/local/lib/python3.6/dist-packages/tensorflow/python/framework/op_def_library.py:263: colocate_with (from tensorflow.python.framework.ops) is deprecated and will be removed in a future version.\n",
            "Instructions for updating:\n",
            "Colocations handled automatically by placer.\n",
            "_________________________________________________________________\n",
            "Layer (type)                 Output Shape              Param #   \n",
            "=================================================================\n",
            "dense_1 (Dense)              (None, 5, 100)            200       \n",
            "_________________________________________________________________\n",
            "lstm_1 (LSTM)                (None, 100)               80400     \n",
            "_________________________________________________________________\n",
            "dense_2 (Dense)              (None, 1000)              101000    \n",
            "_________________________________________________________________\n",
            "dense_3 (Dense)              (None, 1)                 1001      \n",
            "=================================================================\n",
            "Total params: 182,601\n",
            "Trainable params: 182,601\n",
            "Non-trainable params: 0\n",
            "_________________________________________________________________\n"
          ],
          "name": "stdout"
        }
      ]
    },
    {
      "metadata": {
        "id": "hjcRCWVJANMv",
        "colab_type": "code",
        "colab": {}
      },
      "cell_type": "code",
      "source": [
        "from keras.optimizers import Adam\n",
        "adam = Adam(lr=0.0001)\n",
        "model.compile(optimizer=adam, loss='mean_squared_error')"
      ],
      "execution_count": 0,
      "outputs": []
    },
    {
      "metadata": {
        "id": "1DdFW8FaqdTh",
        "colab_type": "code",
        "outputId": "046a3bbb-5abc-44ff-f896-21d552581431",
        "colab": {
          "base_uri": "https://localhost:8080/",
          "height": 10322
        }
      },
      "cell_type": "code",
      "source": [
        "model.fit(X_train, y_train, epochs=300, batch_size=64, validation_data=(X_test, y_test), verbose = 1)"
      ],
      "execution_count": 0,
      "outputs": [
        {
          "output_type": "stream",
          "text": [
            "WARNING:tensorflow:From /usr/local/lib/python3.6/dist-packages/tensorflow/python/ops/math_ops.py:3066: to_int32 (from tensorflow.python.ops.math_ops) is deprecated and will be removed in a future version.\n",
            "Instructions for updating:\n",
            "Use tf.cast instead.\n",
            "Train on 1579 samples, validate on 677 samples\n",
            "Epoch 1/300\n",
            "1579/1579 [==============================] - 3s 2ms/step - loss: 519486.1102 - val_loss: 526735.2634\n",
            "Epoch 2/300\n",
            "1579/1579 [==============================] - 0s 311us/step - loss: 517622.8930 - val_loss: 524695.0965\n",
            "Epoch 3/300\n",
            "1579/1579 [==============================] - 0s 275us/step - loss: 515647.5467 - val_loss: 522759.3561\n",
            "Epoch 4/300\n",
            "1579/1579 [==============================] - 0s 289us/step - loss: 513658.6844 - val_loss: 520639.0607\n",
            "Epoch 5/300\n",
            "1579/1579 [==============================] - 1s 323us/step - loss: 511181.3763 - val_loss: 517846.2681\n",
            "Epoch 6/300\n",
            "1579/1579 [==============================] - 0s 314us/step - loss: 508224.3434 - val_loss: 514439.6392\n",
            "Epoch 7/300\n",
            "1579/1579 [==============================] - 0s 310us/step - loss: 504452.3644 - val_loss: 510488.5049\n",
            "Epoch 8/300\n",
            "1579/1579 [==============================] - 0s 314us/step - loss: 500392.8210 - val_loss: 506314.0884\n",
            "Epoch 9/300\n",
            "1579/1579 [==============================] - 0s 314us/step - loss: 496078.6406 - val_loss: 501838.7592\n",
            "Epoch 10/300\n",
            "1579/1579 [==============================] - 0s 312us/step - loss: 491482.0629 - val_loss: 497069.5532\n",
            "Epoch 11/300\n",
            "1579/1579 [==============================] - 0s 311us/step - loss: 486573.9158 - val_loss: 491991.4972\n",
            "Epoch 12/300\n",
            "1579/1579 [==============================] - 0s 307us/step - loss: 481174.5260 - val_loss: 486256.7532\n",
            "Epoch 13/300\n",
            "1579/1579 [==============================] - 0s 309us/step - loss: 475366.7508 - val_loss: 480400.4224\n",
            "Epoch 14/300\n",
            "1579/1579 [==============================] - 0s 312us/step - loss: 469360.5877 - val_loss: 474190.8210\n",
            "Epoch 15/300\n",
            "1579/1579 [==============================] - 0s 312us/step - loss: 463072.8638 - val_loss: 467762.7467\n",
            "Epoch 16/300\n",
            "1579/1579 [==============================] - 0s 313us/step - loss: 456548.5122 - val_loss: 461160.1842\n",
            "Epoch 17/300\n",
            "1579/1579 [==============================] - 0s 312us/step - loss: 449868.3380 - val_loss: 454276.0379\n",
            "Epoch 18/300\n",
            "1579/1579 [==============================] - 1s 318us/step - loss: 442919.0126 - val_loss: 447307.4631\n",
            "Epoch 19/300\n",
            "1579/1579 [==============================] - 0s 315us/step - loss: 435835.2925 - val_loss: 440143.1024\n",
            "Epoch 20/300\n",
            "1579/1579 [==============================] - 0s 315us/step - loss: 428652.5711 - val_loss: 432858.1344\n",
            "Epoch 21/300\n",
            "1579/1579 [==============================] - 0s 314us/step - loss: 421287.5000 - val_loss: 425482.3076\n",
            "Epoch 22/300\n",
            "1579/1579 [==============================] - 0s 310us/step - loss: 413844.8879 - val_loss: 418010.8275\n",
            "Epoch 23/300\n",
            "1579/1579 [==============================] - 0s 311us/step - loss: 406336.3275 - val_loss: 410421.1576\n",
            "Epoch 24/300\n",
            "1579/1579 [==============================] - 0s 308us/step - loss: 398767.2457 - val_loss: 402826.7094\n",
            "Epoch 25/300\n",
            "1579/1579 [==============================] - 0s 310us/step - loss: 391156.2773 - val_loss: 395281.4049\n",
            "Epoch 26/300\n",
            "1579/1579 [==============================] - 0s 304us/step - loss: 383593.1445 - val_loss: 387655.2708\n",
            "Epoch 27/300\n",
            "1579/1579 [==============================] - 0s 310us/step - loss: 375966.6342 - val_loss: 380184.5134\n",
            "Epoch 28/300\n",
            "1579/1579 [==============================] - 0s 305us/step - loss: 368466.0731 - val_loss: 372636.7959\n",
            "Epoch 29/300\n",
            "1579/1579 [==============================] - 0s 306us/step - loss: 361007.5827 - val_loss: 365132.3836\n",
            "Epoch 30/300\n",
            "1579/1579 [==============================] - 1s 325us/step - loss: 353580.6330 - val_loss: 357766.2860\n",
            "Epoch 31/300\n",
            "1579/1579 [==============================] - 1s 321us/step - loss: 346355.3123 - val_loss: 350364.6049\n",
            "Epoch 32/300\n",
            "1579/1579 [==============================] - 0s 310us/step - loss: 339020.5236 - val_loss: 343278.8634\n",
            "Epoch 33/300\n",
            "1579/1579 [==============================] - 0s 313us/step - loss: 331945.7746 - val_loss: 336078.1670\n",
            "Epoch 34/300\n",
            "1579/1579 [==============================] - 0s 306us/step - loss: 324829.6147 - val_loss: 328947.3804\n",
            "Epoch 35/300\n",
            "1579/1579 [==============================] - 0s 312us/step - loss: 317687.1545 - val_loss: 321915.6718\n",
            "Epoch 36/300\n",
            "1579/1579 [==============================] - 0s 306us/step - loss: 310769.7619 - val_loss: 314850.5787\n",
            "Epoch 37/300\n",
            "1579/1579 [==============================] - 0s 314us/step - loss: 303734.1185 - val_loss: 308014.0006\n",
            "Epoch 38/300\n",
            "1579/1579 [==============================] - 0s 303us/step - loss: 296927.4523 - val_loss: 301083.6756\n",
            "Epoch 39/300\n",
            "1579/1579 [==============================] - 0s 309us/step - loss: 290072.5747 - val_loss: 294167.2989\n",
            "Epoch 40/300\n",
            "1579/1579 [==============================] - 0s 312us/step - loss: 283295.6754 - val_loss: 287502.5913\n",
            "Epoch 41/300\n",
            "1579/1579 [==============================] - 0s 309us/step - loss: 276625.8011 - val_loss: 280679.1873\n",
            "Epoch 42/300\n",
            "1579/1579 [==============================] - 0s 309us/step - loss: 270030.3482 - val_loss: 274038.8443\n",
            "Epoch 43/300\n",
            "1579/1579 [==============================] - 1s 318us/step - loss: 263494.8299 - val_loss: 267575.3041\n",
            "Epoch 44/300\n",
            "1579/1579 [==============================] - 0s 305us/step - loss: 257125.5649 - val_loss: 260997.9331\n",
            "Epoch 45/300\n",
            "1579/1579 [==============================] - 0s 313us/step - loss: 250779.6080 - val_loss: 254631.5238\n",
            "Epoch 46/300\n",
            "1579/1579 [==============================] - 0s 303us/step - loss: 244567.6745 - val_loss: 248383.3855\n",
            "Epoch 47/300\n",
            "1579/1579 [==============================] - 1s 318us/step - loss: 238383.1601 - val_loss: 242322.3382\n",
            "Epoch 48/300\n",
            "1579/1579 [==============================] - 0s 310us/step - loss: 232390.0653 - val_loss: 236217.8804\n",
            "Epoch 49/300\n",
            "1579/1579 [==============================] - 0s 309us/step - loss: 226494.4317 - val_loss: 230127.6508\n",
            "Epoch 50/300\n",
            "1579/1579 [==============================] - 0s 305us/step - loss: 220545.1975 - val_loss: 224345.3000\n",
            "Epoch 51/300\n",
            "1579/1579 [==============================] - 0s 309us/step - loss: 214762.6491 - val_loss: 218623.0583\n",
            "Epoch 52/300\n",
            "1579/1579 [==============================] - 0s 309us/step - loss: 209145.5139 - val_loss: 212742.4525\n",
            "Epoch 53/300\n",
            "1579/1579 [==============================] - 0s 309us/step - loss: 203453.3329 - val_loss: 207165.4516\n",
            "Epoch 54/300\n",
            "1579/1579 [==============================] - 0s 312us/step - loss: 197966.6426 - val_loss: 201545.3322\n",
            "Epoch 55/300\n",
            "1579/1579 [==============================] - 0s 310us/step - loss: 192492.6297 - val_loss: 196035.4686\n",
            "Epoch 56/300\n",
            "1579/1579 [==============================] - 0s 312us/step - loss: 187134.9603 - val_loss: 190753.7083\n",
            "Epoch 57/300\n",
            "1579/1579 [==============================] - 0s 307us/step - loss: 181991.7612 - val_loss: 185339.1418\n",
            "Epoch 58/300\n",
            "1579/1579 [==============================] - 0s 315us/step - loss: 176817.2339 - val_loss: 180131.9818\n",
            "Epoch 59/300\n",
            "1579/1579 [==============================] - 0s 307us/step - loss: 171769.7245 - val_loss: 175245.1370\n",
            "Epoch 60/300\n",
            "1579/1579 [==============================] - 0s 314us/step - loss: 166880.1841 - val_loss: 170354.8659\n",
            "Epoch 61/300\n",
            "1579/1579 [==============================] - 0s 314us/step - loss: 162182.0874 - val_loss: 165349.9989\n",
            "Epoch 62/300\n",
            "1579/1579 [==============================] - 0s 309us/step - loss: 157430.5189 - val_loss: 160634.6430\n",
            "Epoch 63/300\n",
            "1579/1579 [==============================] - 0s 310us/step - loss: 152858.2668 - val_loss: 156070.4888\n",
            "Epoch 64/300\n",
            "1579/1579 [==============================] - 0s 310us/step - loss: 148389.2698 - val_loss: 151729.4186\n",
            "Epoch 65/300\n",
            "1579/1579 [==============================] - 0s 312us/step - loss: 144125.3681 - val_loss: 147254.7101\n",
            "Epoch 66/300\n",
            "1579/1579 [==============================] - 0s 314us/step - loss: 139849.9569 - val_loss: 142924.9854\n",
            "Epoch 67/300\n",
            "1579/1579 [==============================] - 0s 308us/step - loss: 135697.9038 - val_loss: 138874.1649\n",
            "Epoch 68/300\n",
            "1579/1579 [==============================] - 0s 313us/step - loss: 131747.6932 - val_loss: 134808.9678\n",
            "Epoch 69/300\n",
            "1579/1579 [==============================] - 0s 309us/step - loss: 127871.9555 - val_loss: 130880.5678\n",
            "Epoch 70/300\n",
            "1579/1579 [==============================] - 0s 311us/step - loss: 124066.0461 - val_loss: 126986.1893\n",
            "Epoch 71/300\n",
            "1579/1579 [==============================] - 0s 313us/step - loss: 120317.8294 - val_loss: 123236.9046\n",
            "Epoch 72/300\n",
            "1579/1579 [==============================] - 0s 314us/step - loss: 116699.4502 - val_loss: 119617.5095\n",
            "Epoch 73/300\n",
            "1579/1579 [==============================] - 0s 302us/step - loss: 113199.2209 - val_loss: 116066.3432\n",
            "Epoch 74/300\n",
            "1579/1579 [==============================] - 0s 307us/step - loss: 109813.1399 - val_loss: 112725.0434\n",
            "Epoch 75/300\n",
            "1579/1579 [==============================] - 0s 309us/step - loss: 106684.1146 - val_loss: 109475.8959\n",
            "Epoch 76/300\n",
            "1579/1579 [==============================] - 0s 311us/step - loss: 103424.6706 - val_loss: 106246.7101\n",
            "Epoch 77/300\n",
            "1579/1579 [==============================] - 0s 313us/step - loss: 100440.2382 - val_loss: 103216.0883\n",
            "Epoch 78/300\n",
            "1579/1579 [==============================] - 0s 312us/step - loss: 97304.1090 - val_loss: 100170.5983\n",
            "Epoch 79/300\n",
            "1579/1579 [==============================] - 0s 311us/step - loss: 94380.9198 - val_loss: 97087.8150\n",
            "Epoch 80/300\n",
            "1579/1579 [==============================] - 0s 304us/step - loss: 91477.7557 - val_loss: 94316.9265\n",
            "Epoch 81/300\n",
            "1579/1579 [==============================] - 0s 316us/step - loss: 88757.0328 - val_loss: 91399.2421\n",
            "Epoch 82/300\n",
            "1579/1579 [==============================] - 0s 303us/step - loss: 86070.7470 - val_loss: 88669.2241\n",
            "Epoch 83/300\n",
            "1579/1579 [==============================] - 0s 315us/step - loss: 83532.9339 - val_loss: 86586.6722\n",
            "Epoch 84/300\n",
            "1579/1579 [==============================] - 0s 306us/step - loss: 81090.6857 - val_loss: 83591.4050\n",
            "Epoch 85/300\n",
            "1579/1579 [==============================] - 0s 314us/step - loss: 78528.3425 - val_loss: 81295.1316\n",
            "Epoch 86/300\n",
            "1579/1579 [==============================] - 0s 304us/step - loss: 76150.7410 - val_loss: 78588.1535\n",
            "Epoch 87/300\n",
            "1579/1579 [==============================] - 0s 312us/step - loss: 73747.6886 - val_loss: 76315.4779\n",
            "Epoch 88/300\n",
            "1579/1579 [==============================] - 0s 313us/step - loss: 71472.6216 - val_loss: 74011.2713\n",
            "Epoch 89/300\n",
            "1579/1579 [==============================] - 1s 321us/step - loss: 69302.5896 - val_loss: 71850.6826\n",
            "Epoch 90/300\n",
            "1579/1579 [==============================] - 0s 305us/step - loss: 67354.7225 - val_loss: 69519.4651\n",
            "Epoch 91/300\n",
            "1579/1579 [==============================] - 0s 312us/step - loss: 65014.5687 - val_loss: 67997.5221\n",
            "Epoch 92/300\n",
            "1579/1579 [==============================] - 0s 314us/step - loss: 62886.1711 - val_loss: 65272.9437\n",
            "Epoch 93/300\n",
            "1579/1579 [==============================] - 0s 310us/step - loss: 60800.1593 - val_loss: 63110.0852\n",
            "Epoch 94/300\n",
            "1579/1579 [==============================] - 0s 313us/step - loss: 58848.1804 - val_loss: 61128.3429\n",
            "Epoch 95/300\n",
            "1579/1579 [==============================] - 0s 309us/step - loss: 56965.3204 - val_loss: 59181.6699\n",
            "Epoch 96/300\n",
            "1579/1579 [==============================] - 0s 308us/step - loss: 55291.4684 - val_loss: 57390.9884\n",
            "Epoch 97/300\n",
            "1579/1579 [==============================] - 0s 310us/step - loss: 53453.9470 - val_loss: 55619.7129\n",
            "Epoch 98/300\n",
            "1579/1579 [==============================] - 0s 306us/step - loss: 51646.9609 - val_loss: 53768.1043\n",
            "Epoch 99/300\n",
            "1579/1579 [==============================] - 1s 324us/step - loss: 50056.9516 - val_loss: 52012.8440\n",
            "Epoch 100/300\n",
            "1579/1579 [==============================] - 0s 307us/step - loss: 48291.5896 - val_loss: 50607.7381\n",
            "Epoch 101/300\n",
            "1579/1579 [==============================] - 0s 301us/step - loss: 46901.3523 - val_loss: 49410.7834\n",
            "Epoch 102/300\n",
            "1579/1579 [==============================] - 0s 310us/step - loss: 45213.4271 - val_loss: 47139.3774\n",
            "Epoch 103/300\n",
            "1579/1579 [==============================] - 0s 312us/step - loss: 43582.8945 - val_loss: 45536.7916\n",
            "Epoch 104/300\n",
            "1579/1579 [==============================] - 0s 315us/step - loss: 42114.9513 - val_loss: 44075.0059\n",
            "Epoch 105/300\n",
            "1579/1579 [==============================] - 0s 300us/step - loss: 40831.5198 - val_loss: 43140.4139\n",
            "Epoch 106/300\n",
            "1579/1579 [==============================] - 0s 311us/step - loss: 39440.6896 - val_loss: 41159.9295\n",
            "Epoch 107/300\n",
            "1579/1579 [==============================] - 0s 307us/step - loss: 37958.1821 - val_loss: 39822.2150\n",
            "Epoch 108/300\n",
            "1579/1579 [==============================] - 1s 317us/step - loss: 36677.0774 - val_loss: 38388.9986\n",
            "Epoch 109/300\n",
            "1579/1579 [==============================] - 0s 304us/step - loss: 35309.3527 - val_loss: 37067.0302\n",
            "Epoch 110/300\n",
            "1579/1579 [==============================] - 0s 315us/step - loss: 34028.1661 - val_loss: 35681.2151\n",
            "Epoch 111/300\n",
            "1579/1579 [==============================] - 0s 304us/step - loss: 32802.3589 - val_loss: 34433.5200\n",
            "Epoch 112/300\n",
            "1579/1579 [==============================] - 1s 318us/step - loss: 31687.1094 - val_loss: 33211.7700\n",
            "Epoch 113/300\n",
            "1579/1579 [==============================] - 0s 304us/step - loss: 30604.4471 - val_loss: 32047.3105\n",
            "Epoch 114/300\n",
            "1579/1579 [==============================] - 0s 310us/step - loss: 29413.0465 - val_loss: 31008.4947\n",
            "Epoch 115/300\n",
            "1579/1579 [==============================] - 0s 306us/step - loss: 28463.1582 - val_loss: 29899.8751\n",
            "Epoch 116/300\n",
            "1579/1579 [==============================] - 0s 310us/step - loss: 27288.7747 - val_loss: 28694.8988\n",
            "Epoch 117/300\n",
            "1579/1579 [==============================] - 0s 310us/step - loss: 26220.7131 - val_loss: 27568.1499\n",
            "Epoch 118/300\n",
            "1579/1579 [==============================] - 0s 305us/step - loss: 25268.4329 - val_loss: 26584.5212\n",
            "Epoch 119/300\n",
            "1579/1579 [==============================] - 0s 305us/step - loss: 24285.5238 - val_loss: 25576.0997\n",
            "Epoch 120/300\n",
            "1579/1579 [==============================] - 0s 312us/step - loss: 23385.8869 - val_loss: 25035.6627\n",
            "Epoch 121/300\n",
            "1579/1579 [==============================] - 0s 310us/step - loss: 22849.5239 - val_loss: 25431.8141\n",
            "Epoch 122/300\n",
            "1579/1579 [==============================] - 1s 318us/step - loss: 28455.0536 - val_loss: 29378.8754\n",
            "Epoch 123/300\n",
            "1579/1579 [==============================] - 0s 302us/step - loss: 26918.1639 - val_loss: 28254.2748\n",
            "Epoch 124/300\n",
            "1579/1579 [==============================] - 0s 304us/step - loss: 25796.2016 - val_loss: 27050.8294\n",
            "Epoch 125/300\n",
            "1579/1579 [==============================] - 0s 309us/step - loss: 24660.5631 - val_loss: 25883.6696\n",
            "Epoch 126/300\n",
            "1579/1579 [==============================] - 0s 311us/step - loss: 23586.1362 - val_loss: 24868.5415\n",
            "Epoch 127/300\n",
            "1579/1579 [==============================] - 1s 324us/step - loss: 22581.3117 - val_loss: 23836.2123\n",
            "Epoch 128/300\n",
            "1579/1579 [==============================] - 0s 313us/step - loss: 21656.7243 - val_loss: 22842.9242\n",
            "Epoch 129/300\n",
            "1579/1579 [==============================] - 0s 315us/step - loss: 20779.9163 - val_loss: 22283.0347\n",
            "Epoch 130/300\n",
            "1579/1579 [==============================] - 0s 309us/step - loss: 19967.4309 - val_loss: 21328.4816\n",
            "Epoch 131/300\n",
            "1579/1579 [==============================] - 0s 313us/step - loss: 19177.3885 - val_loss: 20180.1987\n",
            "Epoch 132/300\n",
            "1579/1579 [==============================] - 0s 311us/step - loss: 18220.4072 - val_loss: 19390.6210\n",
            "Epoch 133/300\n",
            "1579/1579 [==============================] - 0s 312us/step - loss: 17444.8878 - val_loss: 18631.5568\n",
            "Epoch 134/300\n",
            "1579/1579 [==============================] - 0s 307us/step - loss: 16736.7875 - val_loss: 17726.0151\n",
            "Epoch 135/300\n",
            "1579/1579 [==============================] - 0s 312us/step - loss: 16197.4611 - val_loss: 17215.1838\n",
            "Epoch 136/300\n",
            "1579/1579 [==============================] - 0s 310us/step - loss: 15375.8394 - val_loss: 16309.0101\n",
            "Epoch 137/300\n",
            "1579/1579 [==============================] - 0s 313us/step - loss: 14742.9543 - val_loss: 16076.5445\n",
            "Epoch 138/300\n",
            "1579/1579 [==============================] - 0s 307us/step - loss: 14148.9715 - val_loss: 15413.4847\n",
            "Epoch 139/300\n",
            "1579/1579 [==============================] - 1s 322us/step - loss: 13637.6819 - val_loss: 14515.3490\n",
            "Epoch 140/300\n",
            "1579/1579 [==============================] - 1s 343us/step - loss: 12807.2149 - val_loss: 14050.6737\n",
            "Epoch 141/300\n",
            "1579/1579 [==============================] - 1s 350us/step - loss: 12514.4862 - val_loss: 13517.2365\n",
            "Epoch 142/300\n",
            "1579/1579 [==============================] - 1s 334us/step - loss: 12158.9419 - val_loss: 12886.1523\n",
            "Epoch 143/300\n",
            "1579/1579 [==============================] - 1s 337us/step - loss: 11285.1294 - val_loss: 12060.5447\n",
            "Epoch 144/300\n",
            "1579/1579 [==============================] - 1s 340us/step - loss: 10860.0099 - val_loss: 11524.9014\n",
            "Epoch 145/300\n",
            "1579/1579 [==============================] - 1s 341us/step - loss: 10233.7219 - val_loss: 11267.4472\n",
            "Epoch 146/300\n",
            "1579/1579 [==============================] - 1s 333us/step - loss: 9834.9604 - val_loss: 10626.2954\n",
            "Epoch 147/300\n",
            "1579/1579 [==============================] - 1s 342us/step - loss: 9358.1849 - val_loss: 10190.6862\n",
            "Epoch 148/300\n",
            "1579/1579 [==============================] - 1s 338us/step - loss: 9029.5718 - val_loss: 9869.7800\n",
            "Epoch 149/300\n",
            "1579/1579 [==============================] - 1s 328us/step - loss: 8628.5828 - val_loss: 9436.8251\n",
            "Epoch 150/300\n",
            "1579/1579 [==============================] - 0s 309us/step - loss: 8338.5659 - val_loss: 8908.7338\n",
            "Epoch 151/300\n",
            "1579/1579 [==============================] - 1s 323us/step - loss: 7947.8890 - val_loss: 8520.1630\n",
            "Epoch 152/300\n",
            "1579/1579 [==============================] - 0s 314us/step - loss: 7482.3976 - val_loss: 8470.1656\n",
            "Epoch 153/300\n",
            "1579/1579 [==============================] - 1s 322us/step - loss: 7220.5002 - val_loss: 8037.9680\n",
            "Epoch 154/300\n",
            "1579/1579 [==============================] - 0s 303us/step - loss: 6895.9239 - val_loss: 7600.9008\n",
            "Epoch 155/300\n",
            "1579/1579 [==============================] - 0s 306us/step - loss: 6728.4284 - val_loss: 7478.7369\n",
            "Epoch 156/300\n",
            "1579/1579 [==============================] - 0s 309us/step - loss: 6747.7683 - val_loss: 7725.1992\n",
            "Epoch 157/300\n",
            "1579/1579 [==============================] - 0s 310us/step - loss: 6373.9477 - val_loss: 7008.9939\n",
            "Epoch 158/300\n",
            "1579/1579 [==============================] - 0s 305us/step - loss: 6118.4559 - val_loss: 6638.5701\n",
            "Epoch 159/300\n",
            "1579/1579 [==============================] - 0s 312us/step - loss: 5628.4408 - val_loss: 6137.5392\n",
            "Epoch 160/300\n",
            "1579/1579 [==============================] - 0s 308us/step - loss: 5352.9534 - val_loss: 6274.6146\n",
            "Epoch 161/300\n",
            "1579/1579 [==============================] - 0s 313us/step - loss: 5325.7330 - val_loss: 5756.7219\n",
            "Epoch 162/300\n",
            "1579/1579 [==============================] - 0s 306us/step - loss: 4998.7514 - val_loss: 5448.9841\n",
            "Epoch 163/300\n",
            "1579/1579 [==============================] - 0s 312us/step - loss: 4933.1149 - val_loss: 5661.4448\n",
            "Epoch 164/300\n",
            "1579/1579 [==============================] - 0s 303us/step - loss: 4878.6671 - val_loss: 5306.0621\n",
            "Epoch 165/300\n",
            "1579/1579 [==============================] - 0s 313us/step - loss: 4636.3996 - val_loss: 7986.7464\n",
            "Epoch 166/300\n",
            "1579/1579 [==============================] - 0s 311us/step - loss: 10022.9825 - val_loss: 7845.5740\n",
            "Epoch 167/300\n",
            "1579/1579 [==============================] - 0s 315us/step - loss: 6730.7806 - val_loss: 7023.8993\n",
            "Epoch 168/300\n",
            "1579/1579 [==============================] - 0s 312us/step - loss: 6035.7117 - val_loss: 6534.5636\n",
            "Epoch 169/300\n",
            "1579/1579 [==============================] - 0s 310us/step - loss: 5663.9248 - val_loss: 6171.5435\n",
            "Epoch 170/300\n",
            "1579/1579 [==============================] - 0s 312us/step - loss: 5365.7046 - val_loss: 5971.5496\n",
            "Epoch 171/300\n",
            "1579/1579 [==============================] - 0s 310us/step - loss: 5136.3043 - val_loss: 5760.7296\n",
            "Epoch 172/300\n",
            "1579/1579 [==============================] - 0s 308us/step - loss: 4986.7286 - val_loss: 5415.1201\n",
            "Epoch 173/300\n",
            "1579/1579 [==============================] - 0s 312us/step - loss: 4713.3856 - val_loss: 5227.3695\n",
            "Epoch 174/300\n",
            "1579/1579 [==============================] - 0s 303us/step - loss: 4545.6959 - val_loss: 4963.2199\n",
            "Epoch 175/300\n",
            "1579/1579 [==============================] - 0s 309us/step - loss: 4395.3331 - val_loss: 4845.9846\n",
            "Epoch 176/300\n",
            "1579/1579 [==============================] - 0s 311us/step - loss: 4181.6524 - val_loss: 4793.0783\n",
            "Epoch 177/300\n",
            "1579/1579 [==============================] - 0s 309us/step - loss: 4084.9040 - val_loss: 4520.7382\n",
            "Epoch 178/300\n",
            "1579/1579 [==============================] - 0s 304us/step - loss: 3848.9568 - val_loss: 4317.4673\n",
            "Epoch 179/300\n",
            "1579/1579 [==============================] - 0s 308us/step - loss: 3689.9580 - val_loss: 4339.9578\n",
            "Epoch 180/300\n",
            "1579/1579 [==============================] - 0s 306us/step - loss: 3920.9043 - val_loss: 4634.6395\n",
            "Epoch 181/300\n",
            "1579/1579 [==============================] - 0s 302us/step - loss: 3874.4627 - val_loss: 4177.5642\n",
            "Epoch 182/300\n",
            "1579/1579 [==============================] - 0s 312us/step - loss: 3482.3916 - val_loss: 3793.0841\n",
            "Epoch 183/300\n",
            "1579/1579 [==============================] - 0s 306us/step - loss: 3422.3589 - val_loss: 3945.7039\n",
            "Epoch 184/300\n",
            "1579/1579 [==============================] - 0s 312us/step - loss: 3392.1268 - val_loss: 3552.4924\n",
            "Epoch 185/300\n",
            "1579/1579 [==============================] - 0s 309us/step - loss: 3666.1070 - val_loss: 3605.7751\n",
            "Epoch 186/300\n",
            "1579/1579 [==============================] - 0s 315us/step - loss: 3006.2917 - val_loss: 3207.0135\n",
            "Epoch 187/300\n",
            "1579/1579 [==============================] - 0s 310us/step - loss: 2749.3308 - val_loss: 3018.8970\n",
            "Epoch 188/300\n",
            "1579/1579 [==============================] - 0s 313us/step - loss: 2730.5927 - val_loss: 2953.7709\n",
            "Epoch 189/300\n",
            "1579/1579 [==============================] - 0s 306us/step - loss: 2595.8236 - val_loss: 2801.8809\n",
            "Epoch 190/300\n",
            "1579/1579 [==============================] - 0s 313us/step - loss: 2678.2359 - val_loss: 3028.4989\n",
            "Epoch 191/300\n",
            "1579/1579 [==============================] - 0s 302us/step - loss: 2409.5663 - val_loss: 2683.1315\n",
            "Epoch 192/300\n",
            "1579/1579 [==============================] - 0s 310us/step - loss: 2683.9186 - val_loss: 2699.7092\n",
            "Epoch 193/300\n",
            "1579/1579 [==============================] - 0s 306us/step - loss: 2358.2719 - val_loss: 2673.3076\n",
            "Epoch 194/300\n",
            "1579/1579 [==============================] - 0s 307us/step - loss: 2273.6944 - val_loss: 2985.2848\n",
            "Epoch 195/300\n",
            "1579/1579 [==============================] - 0s 305us/step - loss: 2315.1005 - val_loss: 2319.1779\n",
            "Epoch 196/300\n",
            "1579/1579 [==============================] - 0s 312us/step - loss: 2244.6939 - val_loss: 2724.6222\n",
            "Epoch 197/300\n",
            "1579/1579 [==============================] - 0s 305us/step - loss: 2217.7566 - val_loss: 2710.3437\n",
            "Epoch 198/300\n",
            "1579/1579 [==============================] - 0s 306us/step - loss: 2268.8991 - val_loss: 2232.1948\n",
            "Epoch 199/300\n",
            "1579/1579 [==============================] - 0s 313us/step - loss: 2036.3346 - val_loss: 2032.7545\n",
            "Epoch 200/300\n",
            "1579/1579 [==============================] - 0s 308us/step - loss: 1985.4768 - val_loss: 2106.7258\n",
            "Epoch 201/300\n",
            "1579/1579 [==============================] - 0s 312us/step - loss: 1750.2578 - val_loss: 2246.0137\n",
            "Epoch 202/300\n",
            "1579/1579 [==============================] - 0s 304us/step - loss: 1926.3773 - val_loss: 2109.2525\n",
            "Epoch 203/300\n",
            "1579/1579 [==============================] - 0s 309us/step - loss: 1821.4753 - val_loss: 2233.8720\n",
            "Epoch 204/300\n",
            "1579/1579 [==============================] - 0s 303us/step - loss: 2100.0464 - val_loss: 2847.0789\n",
            "Epoch 205/300\n",
            "1579/1579 [==============================] - 0s 312us/step - loss: 2133.5584 - val_loss: 1749.8534\n",
            "Epoch 206/300\n",
            "1579/1579 [==============================] - 0s 301us/step - loss: 1586.6089 - val_loss: 1892.5832\n",
            "Epoch 207/300\n",
            "1579/1579 [==============================] - 0s 310us/step - loss: 1603.8565 - val_loss: 1580.5351\n",
            "Epoch 208/300\n",
            "1579/1579 [==============================] - 0s 306us/step - loss: 1626.5415 - val_loss: 1605.3423\n",
            "Epoch 209/300\n",
            "1579/1579 [==============================] - 0s 309us/step - loss: 1506.9349 - val_loss: 2058.4668\n",
            "Epoch 210/300\n",
            "1579/1579 [==============================] - 0s 309us/step - loss: 1608.2136 - val_loss: 1522.3419\n",
            "Epoch 211/300\n",
            "1579/1579 [==============================] - 0s 313us/step - loss: 1478.6833 - val_loss: 1537.0831\n",
            "Epoch 212/300\n",
            "1579/1579 [==============================] - 0s 306us/step - loss: 1442.6576 - val_loss: 1843.7192\n",
            "Epoch 213/300\n",
            "1579/1579 [==============================] - 0s 308us/step - loss: 1837.2239 - val_loss: 1430.5076\n",
            "Epoch 214/300\n",
            "1579/1579 [==============================] - 0s 305us/step - loss: 1497.9773 - val_loss: 1688.0297\n",
            "Epoch 215/300\n",
            "1579/1579 [==============================] - 1s 326us/step - loss: 2281.2002 - val_loss: 1624.3025\n",
            "Epoch 216/300\n",
            "1579/1579 [==============================] - 0s 303us/step - loss: 1689.4867 - val_loss: 1456.4484\n",
            "Epoch 217/300\n",
            "1579/1579 [==============================] - 0s 312us/step - loss: 1893.3442 - val_loss: 1352.5548\n",
            "Epoch 218/300\n",
            "1579/1579 [==============================] - 0s 304us/step - loss: 1306.5240 - val_loss: 2081.9959\n",
            "Epoch 219/300\n",
            "1579/1579 [==============================] - 0s 309us/step - loss: 1420.2835 - val_loss: 1166.0882\n",
            "Epoch 220/300\n",
            "1579/1579 [==============================] - 0s 308us/step - loss: 1082.1042 - val_loss: 1106.8363\n",
            "Epoch 221/300\n",
            "1579/1579 [==============================] - 0s 305us/step - loss: 1329.6066 - val_loss: 6315.0639\n",
            "Epoch 222/300\n",
            "1579/1579 [==============================] - 0s 312us/step - loss: 1880.7798 - val_loss: 1295.0212\n",
            "Epoch 223/300\n",
            "1579/1579 [==============================] - 0s 308us/step - loss: 1732.2168 - val_loss: 2018.8488\n",
            "Epoch 224/300\n",
            "1579/1579 [==============================] - 0s 305us/step - loss: 1341.0003 - val_loss: 1108.1553\n",
            "Epoch 225/300\n",
            "1579/1579 [==============================] - 0s 308us/step - loss: 1129.8803 - val_loss: 1275.3928\n",
            "Epoch 226/300\n",
            "1579/1579 [==============================] - 1s 321us/step - loss: 1044.8671 - val_loss: 1049.6142\n",
            "Epoch 227/300\n",
            "1579/1579 [==============================] - 0s 302us/step - loss: 1565.6144 - val_loss: 2134.5913\n",
            "Epoch 228/300\n",
            "1579/1579 [==============================] - 0s 312us/step - loss: 2937.6466 - val_loss: 1261.2043\n",
            "Epoch 229/300\n",
            "1579/1579 [==============================] - 0s 310us/step - loss: 1576.7438 - val_loss: 1830.9213\n",
            "Epoch 230/300\n",
            "1579/1579 [==============================] - 0s 310us/step - loss: 1700.5080 - val_loss: 3546.5546\n",
            "Epoch 231/300\n",
            "1579/1579 [==============================] - 0s 303us/step - loss: 3688.2510 - val_loss: 2820.6104\n",
            "Epoch 232/300\n",
            "1579/1579 [==============================] - 0s 314us/step - loss: 2435.3579 - val_loss: 2533.7739\n",
            "Epoch 233/300\n",
            "1579/1579 [==============================] - 0s 305us/step - loss: 2323.0792 - val_loss: 2405.9672\n",
            "Epoch 234/300\n",
            "1579/1579 [==============================] - 0s 314us/step - loss: 2376.2014 - val_loss: 2544.0416\n",
            "Epoch 235/300\n",
            "1579/1579 [==============================] - 0s 311us/step - loss: 2159.7243 - val_loss: 2127.6306\n",
            "Epoch 236/300\n",
            "1579/1579 [==============================] - 0s 315us/step - loss: 2309.1906 - val_loss: 2583.7342\n",
            "Epoch 237/300\n",
            "1579/1579 [==============================] - 0s 309us/step - loss: 2093.9357 - val_loss: 2034.7191\n",
            "Epoch 238/300\n",
            "1579/1579 [==============================] - 0s 312us/step - loss: 2271.6558 - val_loss: 2025.0581\n",
            "Epoch 239/300\n",
            "1579/1579 [==============================] - 0s 310us/step - loss: 1715.9999 - val_loss: 1889.9161\n",
            "Epoch 240/300\n",
            "1579/1579 [==============================] - 0s 311us/step - loss: 1689.7555 - val_loss: 2042.6521\n",
            "Epoch 241/300\n",
            "1579/1579 [==============================] - 0s 309us/step - loss: 1949.4525 - val_loss: 1969.6048\n",
            "Epoch 242/300\n",
            "1579/1579 [==============================] - 0s 313us/step - loss: 1649.1388 - val_loss: 1727.1818\n",
            "Epoch 243/300\n",
            "1579/1579 [==============================] - 0s 314us/step - loss: 1494.4549 - val_loss: 1450.6238\n",
            "Epoch 244/300\n",
            "1579/1579 [==============================] - 0s 310us/step - loss: 1640.6086 - val_loss: 1653.5590\n",
            "Epoch 245/300\n",
            "1579/1579 [==============================] - 0s 311us/step - loss: 2012.5197 - val_loss: 2459.6384\n",
            "Epoch 246/300\n",
            "1579/1579 [==============================] - 0s 307us/step - loss: 1617.2673 - val_loss: 1294.7899\n",
            "Epoch 247/300\n",
            "1579/1579 [==============================] - 0s 311us/step - loss: 1326.0153 - val_loss: 1265.1184\n",
            "Epoch 248/300\n",
            "1579/1579 [==============================] - 1s 317us/step - loss: 1331.2505 - val_loss: 1230.5118\n",
            "Epoch 249/300\n",
            "1579/1579 [==============================] - 1s 317us/step - loss: 1232.6780 - val_loss: 1237.0637\n",
            "Epoch 250/300\n",
            "1579/1579 [==============================] - 0s 314us/step - loss: 1315.2338 - val_loss: 2229.9075\n",
            "Epoch 251/300\n",
            "1579/1579 [==============================] - 0s 313us/step - loss: 1428.0428 - val_loss: 1242.7697\n",
            "Epoch 252/300\n",
            "1579/1579 [==============================] - 0s 308us/step - loss: 1179.3700 - val_loss: 1099.1625\n",
            "Epoch 253/300\n",
            "1579/1579 [==============================] - 0s 309us/step - loss: 1033.7821 - val_loss: 1053.2734\n",
            "Epoch 254/300\n",
            "1579/1579 [==============================] - 0s 306us/step - loss: 1160.1269 - val_loss: 1192.6366\n",
            "Epoch 255/300\n",
            "1579/1579 [==============================] - 0s 312us/step - loss: 1122.9338 - val_loss: 1617.2683\n",
            "Epoch 256/300\n",
            "1579/1579 [==============================] - 0s 306us/step - loss: 1426.2815 - val_loss: 1292.2878\n",
            "Epoch 257/300\n",
            "1579/1579 [==============================] - 0s 311us/step - loss: 1632.4429 - val_loss: 2245.1082\n",
            "Epoch 258/300\n",
            "1579/1579 [==============================] - 0s 304us/step - loss: 1233.1152 - val_loss: 1142.4078\n",
            "Epoch 259/300\n",
            "1579/1579 [==============================] - 0s 308us/step - loss: 1085.9551 - val_loss: 1109.0760\n",
            "Epoch 260/300\n",
            "1579/1579 [==============================] - 0s 311us/step - loss: 895.4190 - val_loss: 1301.9537\n",
            "Epoch 261/300\n",
            "1579/1579 [==============================] - 0s 307us/step - loss: 1655.4802 - val_loss: 1016.6960\n",
            "Epoch 262/300\n",
            "1579/1579 [==============================] - 0s 310us/step - loss: 910.9150 - val_loss: 1382.2072\n",
            "Epoch 263/300\n",
            "1579/1579 [==============================] - 0s 310us/step - loss: 1029.1859 - val_loss: 1785.9553\n",
            "Epoch 264/300\n",
            "1579/1579 [==============================] - 0s 305us/step - loss: 1917.5771 - val_loss: 2424.4309\n",
            "Epoch 265/300\n",
            "1579/1579 [==============================] - 0s 309us/step - loss: 2202.4279 - val_loss: 1996.3390\n",
            "Epoch 266/300\n",
            "1579/1579 [==============================] - 0s 310us/step - loss: 1068.9960 - val_loss: 897.9973\n",
            "Epoch 267/300\n",
            "1579/1579 [==============================] - 0s 316us/step - loss: 1078.4333 - val_loss: 2030.4807\n",
            "Epoch 268/300\n",
            "1579/1579 [==============================] - 0s 298us/step - loss: 1972.3615 - val_loss: 1030.2121\n",
            "Epoch 269/300\n",
            "1579/1579 [==============================] - 0s 308us/step - loss: 1292.5973 - val_loss: 1544.9674\n",
            "Epoch 270/300\n",
            "1579/1579 [==============================] - 0s 311us/step - loss: 1534.9589 - val_loss: 3029.3363\n",
            "Epoch 271/300\n",
            "1579/1579 [==============================] - 0s 310us/step - loss: 1579.2149 - val_loss: 1492.6340\n",
            "Epoch 272/300\n",
            "1579/1579 [==============================] - 0s 310us/step - loss: 828.1024 - val_loss: 687.7910\n",
            "Epoch 273/300\n",
            "1579/1579 [==============================] - 0s 312us/step - loss: 645.2581 - val_loss: 684.2924\n",
            "Epoch 274/300\n",
            "1579/1579 [==============================] - 1s 317us/step - loss: 685.0179 - val_loss: 752.0031\n",
            "Epoch 275/300\n",
            "1579/1579 [==============================] - 0s 312us/step - loss: 732.3976 - val_loss: 1599.7263\n",
            "Epoch 276/300\n",
            "1579/1579 [==============================] - 0s 316us/step - loss: 1226.3939 - val_loss: 906.8715\n",
            "Epoch 277/300\n",
            "1579/1579 [==============================] - 1s 322us/step - loss: 1242.8152 - val_loss: 965.0495\n",
            "Epoch 278/300\n",
            "1579/1579 [==============================] - 0s 312us/step - loss: 617.4609 - val_loss: 573.0528\n",
            "Epoch 279/300\n",
            "1579/1579 [==============================] - 0s 306us/step - loss: 570.4726 - val_loss: 543.2920\n",
            "Epoch 280/300\n",
            "1579/1579 [==============================] - 0s 309us/step - loss: 820.8868 - val_loss: 767.0351\n",
            "Epoch 281/300\n",
            "1579/1579 [==============================] - 0s 304us/step - loss: 670.7899 - val_loss: 854.9075\n",
            "Epoch 282/300\n",
            "1579/1579 [==============================] - 0s 312us/step - loss: 668.2017 - val_loss: 703.5177\n",
            "Epoch 283/300\n",
            "1579/1579 [==============================] - 0s 303us/step - loss: 663.4827 - val_loss: 1549.0461\n",
            "Epoch 284/300\n",
            "1579/1579 [==============================] - 0s 308us/step - loss: 686.2356 - val_loss: 529.8164\n",
            "Epoch 285/300\n",
            "1579/1579 [==============================] - 0s 305us/step - loss: 599.1863 - val_loss: 1202.8267\n",
            "Epoch 286/300\n",
            "1579/1579 [==============================] - 0s 315us/step - loss: 685.5705 - val_loss: 984.6476\n",
            "Epoch 287/300\n",
            "1579/1579 [==============================] - 0s 307us/step - loss: 549.1125 - val_loss: 540.0802\n",
            "Epoch 288/300\n",
            "1579/1579 [==============================] - 0s 309us/step - loss: 664.2577 - val_loss: 646.9503\n",
            "Epoch 289/300\n",
            "1579/1579 [==============================] - 0s 308us/step - loss: 551.6934 - val_loss: 623.1753\n",
            "Epoch 290/300\n",
            "1579/1579 [==============================] - 0s 311us/step - loss: 553.5940 - val_loss: 602.4937\n",
            "Epoch 291/300\n",
            "1579/1579 [==============================] - 0s 307us/step - loss: 1146.3746 - val_loss: 1841.1019\n",
            "Epoch 292/300\n",
            "1579/1579 [==============================] - 0s 307us/step - loss: 1114.0204 - val_loss: 543.3873\n",
            "Epoch 293/300\n",
            "1579/1579 [==============================] - 0s 306us/step - loss: 495.6586 - val_loss: 488.6190\n",
            "Epoch 294/300\n",
            "1579/1579 [==============================] - 0s 307us/step - loss: 707.1016 - val_loss: 623.6799\n",
            "Epoch 295/300\n",
            "1579/1579 [==============================] - 0s 307us/step - loss: 653.1992 - val_loss: 488.1816\n",
            "Epoch 296/300\n",
            "1579/1579 [==============================] - 0s 302us/step - loss: 782.0913 - val_loss: 900.6191\n",
            "Epoch 297/300\n",
            "1579/1579 [==============================] - 0s 304us/step - loss: 629.5047 - val_loss: 615.4822\n",
            "Epoch 298/300\n",
            "1579/1579 [==============================] - 0s 299us/step - loss: 468.4980 - val_loss: 420.3918\n",
            "Epoch 299/300\n",
            "1579/1579 [==============================] - 0s 312us/step - loss: 472.9177 - val_loss: 384.8686\n",
            "Epoch 300/300\n",
            "1579/1579 [==============================] - 0s 303us/step - loss: 1355.6716 - val_loss: 1496.5561\n"
          ],
          "name": "stdout"
        },
        {
          "output_type": "execute_result",
          "data": {
            "text/plain": [
              "<keras.callbacks.History at 0x7f51d5a72518>"
            ]
          },
          "metadata": {
            "tags": []
          },
          "execution_count": 25
        }
      ]
    },
    {
      "metadata": {
        "id": "ySv4my64qnZ7",
        "colab_type": "code",
        "colab": {}
      },
      "cell_type": "code",
      "source": [
        "pred = model.predict(X_test)"
      ],
      "execution_count": 0,
      "outputs": []
    },
    {
      "metadata": {
        "id": "AVzYD8Skqnyg",
        "colab_type": "code",
        "outputId": "e303c34b-a559-48fa-e929-934a99e6d88b",
        "colab": {
          "base_uri": "https://localhost:8080/",
          "height": 297
        }
      },
      "cell_type": "code",
      "source": [
        "import matplotlib.pyplot as plt\n",
        "%matplotlib inline\n",
        "plt.figure(figsize=(10,10))\n",
        "plt.plot(y_test,'r',label='actual')\n",
        "plt.plot(pred,'--', label = 'predicted')\n",
        "\n",
        "plt.title('Variation of actual and predicted stock price')\n",
        "plt.ylabel('Stock price')\n",
        "plt.legend()"
      ],
      "execution_count": 0,
      "outputs": [
        {
          "output_type": "execute_result",
          "data": {
            "text/plain": [
              "<matplotlib.legend.Legend at 0x7f517ef47898>"
            ]
          },
          "metadata": {
            "tags": []
          },
          "execution_count": 27
        },
        {
          "output_type": "display_data",
          "data": {
            "image/png": "[encoded data removed]",
            "text/plain": [
              "<Figure size 432x288 with 1 Axes>"
            ]
          },
          "metadata": {
            "tags": []
          }
        }
      ]
    },
    {
      "metadata": {
        "id": "B90we8N9OVBH",
        "colab_type": "text"
      },
      "cell_type": "markdown",
      "source": [
        "# The pitfall"
      ]
    },
    {
      "metadata": {
        "id": "K4XUjZ7CAGIH",
        "colab_type": "code",
        "colab": {}
      },
      "cell_type": "code",
      "source": [
        "X_train = x[:2100,:,:]\n",
        "y_train = y[:2100]\n",
        "\n",
        "X_test = x[2100:,:,:]\n",
        "y_test = y[2100:]"
      ],
      "execution_count": 0,
      "outputs": []
    },
    {
      "metadata": {
        "id": "i0BROOjZTYjD",
        "colab_type": "code",
        "outputId": "9af88937-3ac2-4fe6-d41d-e3ee17f968b2",
        "colab": {
          "base_uri": "https://localhost:8080/",
          "height": 272
        }
      },
      "cell_type": "code",
      "source": [
        "model = Sequential()\n",
        "model.add(Dense(100, input_shape = (5,1), activation = 'relu'))\n",
        "model.add((LSTM(100)))\n",
        "model.add(Dense(1000,activation='relu'))\n",
        "model.add(Dense(1,activation='linear'))\n",
        "model.summary()"
      ],
      "execution_count": 0,
      "outputs": [
        {
          "output_type": "stream",
          "text": [
            "_________________________________________________________________\n",
            "Layer (type)                 Output Shape              Param #   \n",
            "=================================================================\n",
            "dense_4 (Dense)              (None, 5, 100)            200       \n",
            "_________________________________________________________________\n",
            "lstm_2 (LSTM)                (None, 100)               80400     \n",
            "_________________________________________________________________\n",
            "dense_5 (Dense)              (None, 1000)              101000    \n",
            "_________________________________________________________________\n",
            "dense_6 (Dense)              (None, 1)                 1001      \n",
            "=================================================================\n",
            "Total params: 182,601\n",
            "Trainable params: 182,601\n",
            "Non-trainable params: 0\n",
            "_________________________________________________________________\n"
          ],
          "name": "stdout"
        }
      ]
    },
    {
      "metadata": {
        "id": "kuFvLEMcUFqC",
        "colab_type": "code",
        "colab": {}
      },
      "cell_type": "code",
      "source": [
        "from keras.optimizers import Adam\n",
        "adam = Adam(lr=0.0001)\n",
        "model.compile(optimizer=adam, loss='mean_squared_error')"
      ],
      "execution_count": 0,
      "outputs": []
    },
    {
      "metadata": {
        "id": "zBr8vpxSUSVy",
        "colab_type": "code",
        "outputId": "23007dc0-872c-4eff-eead-3dc37b5123ae",
        "colab": {
          "base_uri": "https://localhost:8080/",
          "height": 10251
        }
      },
      "cell_type": "code",
      "source": [
        "model.fit(X_train, y_train, epochs=300, batch_size=64, validation_data=(X_test, y_test), verbose = 1)"
      ],
      "execution_count": 0,
      "outputs": [
        {
          "output_type": "stream",
          "text": [
            "Train on 2100 samples, validate on 156 samples\n",
            "Epoch 1/300\n",
            "2100/2100 [==============================] - 1s 689us/step - loss: 330456.0585 - val_loss: 3094049.2821\n",
            "Epoch 2/300\n",
            "2100/2100 [==============================] - 1s 284us/step - loss: 328374.2852 - val_loss: 3085698.5577\n",
            "Epoch 3/300\n",
            "2100/2100 [==============================] - 1s 277us/step - loss: 326152.5634 - val_loss: 3076714.2051\n",
            "Epoch 4/300\n",
            "2100/2100 [==============================] - 1s 274us/step - loss: 323618.2336 - val_loss: 3066391.6923\n",
            "Epoch 5/300\n",
            "2100/2100 [==============================] - 1s 279us/step - loss: 320799.4935 - val_loss: 3054782.6090\n",
            "Epoch 6/300\n",
            "2100/2100 [==============================] - 1s 283us/step - loss: 317636.9001 - val_loss: 3041614.7244\n",
            "Epoch 7/300\n",
            "2100/2100 [==============================] - 1s 276us/step - loss: 314079.0817 - val_loss: 3026965.6026\n",
            "Epoch 8/300\n",
            "2100/2100 [==============================] - 1s 277us/step - loss: 310166.9251 - val_loss: 3010588.7051\n",
            "Epoch 9/300\n",
            "2100/2100 [==============================] - 1s 278us/step - loss: 305732.8020 - val_loss: 2992012.2949\n",
            "Epoch 10/300\n",
            "2100/2100 [==============================] - 1s 277us/step - loss: 300892.1662 - val_loss: 2971480.5128\n",
            "Epoch 11/300\n",
            "2100/2100 [==============================] - 1s 283us/step - loss: 295672.4113 - val_loss: 2950028.6218\n",
            "Epoch 12/300\n",
            "2100/2100 [==============================] - 1s 282us/step - loss: 290250.3553 - val_loss: 2926705.0321\n",
            "Epoch 13/300\n",
            "2100/2100 [==============================] - 1s 277us/step - loss: 284483.0844 - val_loss: 2902538.2115\n",
            "Epoch 14/300\n",
            "2100/2100 [==============================] - 1s 279us/step - loss: 278512.2622 - val_loss: 2876996.9359\n",
            "Epoch 15/300\n",
            "2100/2100 [==============================] - 1s 276us/step - loss: 272355.5447 - val_loss: 2849919.7564\n",
            "Epoch 16/300\n",
            "2100/2100 [==============================] - 1s 277us/step - loss: 266008.0941 - val_loss: 2821831.9872\n",
            "Epoch 17/300\n",
            "2100/2100 [==============================] - 1s 281us/step - loss: 259511.1663 - val_loss: 2792859.4551\n",
            "Epoch 18/300\n",
            "2100/2100 [==============================] - 1s 282us/step - loss: 252948.3999 - val_loss: 2762636.7436\n",
            "Epoch 19/300\n",
            "2100/2100 [==============================] - 1s 277us/step - loss: 246284.3500 - val_loss: 2731947.4487\n",
            "Epoch 20/300\n",
            "2100/2100 [==============================] - 1s 278us/step - loss: 239597.9426 - val_loss: 2700546.3141\n",
            "Epoch 21/300\n",
            "2100/2100 [==============================] - 1s 280us/step - loss: 232896.8173 - val_loss: 2668520.5321\n",
            "Epoch 22/300\n",
            "2100/2100 [==============================] - 1s 277us/step - loss: 226242.3033 - val_loss: 2635809.5449\n",
            "Epoch 23/300\n",
            "2100/2100 [==============================] - 1s 283us/step - loss: 219653.4976 - val_loss: 2602446.8013\n",
            "Epoch 24/300\n",
            "2100/2100 [==============================] - 1s 273us/step - loss: 213137.1413 - val_loss: 2568906.5417\n",
            "Epoch 25/300\n",
            "2100/2100 [==============================] - 1s 279us/step - loss: 206750.3376 - val_loss: 2535042.5609\n",
            "Epoch 26/300\n",
            "2100/2100 [==============================] - 1s 278us/step - loss: 200487.9349 - val_loss: 2501340.1955\n",
            "Epoch 27/300\n",
            "2100/2100 [==============================] - 1s 272us/step - loss: 194419.3248 - val_loss: 2467304.0673\n",
            "Epoch 28/300\n",
            "2100/2100 [==============================] - 1s 278us/step - loss: 188570.2984 - val_loss: 2433169.6859\n",
            "Epoch 29/300\n",
            "2100/2100 [==============================] - 1s 276us/step - loss: 182484.7100 - val_loss: 2398331.8878\n",
            "Epoch 30/300\n",
            "2100/2100 [==============================] - 1s 281us/step - loss: 176550.0526 - val_loss: 2363163.8814\n",
            "Epoch 31/300\n",
            "2100/2100 [==============================] - 1s 291us/step - loss: 170739.4621 - val_loss: 2327636.4968\n",
            "Epoch 32/300\n",
            "2100/2100 [==============================] - 1s 277us/step - loss: 164940.4701 - val_loss: 2292024.6571\n",
            "Epoch 33/300\n",
            "2100/2100 [==============================] - 1s 277us/step - loss: 159283.7417 - val_loss: 2256454.5032\n",
            "Epoch 34/300\n",
            "2100/2100 [==============================] - 1s 279us/step - loss: 153793.6673 - val_loss: 2220399.4071\n",
            "Epoch 35/300\n",
            "2100/2100 [==============================] - 1s 286us/step - loss: 148386.6833 - val_loss: 2184719.7981\n",
            "Epoch 36/300\n",
            "2100/2100 [==============================] - 1s 282us/step - loss: 143107.2740 - val_loss: 2149344.9776\n",
            "Epoch 37/300\n",
            "2100/2100 [==============================] - 1s 284us/step - loss: 138027.9097 - val_loss: 2113139.8462\n",
            "Epoch 38/300\n",
            "2100/2100 [==============================] - 1s 287us/step - loss: 133048.0015 - val_loss: 2077419.7340\n",
            "Epoch 39/300\n",
            "2100/2100 [==============================] - 1s 285us/step - loss: 128190.8172 - val_loss: 2041934.6186\n",
            "Epoch 40/300\n",
            "2100/2100 [==============================] - 1s 282us/step - loss: 123471.5466 - val_loss: 2006882.4103\n",
            "Epoch 41/300\n",
            "2100/2100 [==============================] - 1s 277us/step - loss: 118926.1155 - val_loss: 1971025.9551\n",
            "Epoch 42/300\n",
            "2100/2100 [==============================] - 1s 279us/step - loss: 114441.6645 - val_loss: 1936206.0192\n",
            "Epoch 43/300\n",
            "2100/2100 [==============================] - 1s 270us/step - loss: 110110.4036 - val_loss: 1901213.8558\n",
            "Epoch 44/300\n",
            "2100/2100 [==============================] - 1s 279us/step - loss: 105865.5688 - val_loss: 1866620.8782\n",
            "Epoch 45/300\n",
            "2100/2100 [==============================] - 1s 275us/step - loss: 101753.5917 - val_loss: 1832235.8494\n",
            "Epoch 46/300\n",
            "2100/2100 [==============================] - 1s 274us/step - loss: 97727.1426 - val_loss: 1798472.9231\n",
            "Epoch 47/300\n",
            "2100/2100 [==============================] - 1s 279us/step - loss: 93842.5459 - val_loss: 1764115.5385\n",
            "Epoch 48/300\n",
            "2100/2100 [==============================] - 1s 276us/step - loss: 90027.3786 - val_loss: 1729796.4647\n",
            "Epoch 49/300\n",
            "2100/2100 [==============================] - 1s 284us/step - loss: 86330.3823 - val_loss: 1696255.5545\n",
            "Epoch 50/300\n",
            "2100/2100 [==============================] - 1s 278us/step - loss: 82750.8057 - val_loss: 1663353.6442\n",
            "Epoch 51/300\n",
            "2100/2100 [==============================] - 1s 280us/step - loss: 79329.0930 - val_loss: 1630971.2115\n",
            "Epoch 52/300\n",
            "2100/2100 [==============================] - 1s 278us/step - loss: 76009.2510 - val_loss: 1598527.5064\n",
            "Epoch 53/300\n",
            "2100/2100 [==============================] - 1s 288us/step - loss: 72767.6794 - val_loss: 1566081.8205\n",
            "Epoch 54/300\n",
            "2100/2100 [==============================] - 1s 276us/step - loss: 69616.3628 - val_loss: 1534835.2788\n",
            "Epoch 55/300\n",
            "2100/2100 [==============================] - 1s 275us/step - loss: 66628.9766 - val_loss: 1503956.1538\n",
            "Epoch 56/300\n",
            "2100/2100 [==============================] - 1s 277us/step - loss: 63761.7501 - val_loss: 1473286.9968\n",
            "Epoch 57/300\n",
            "2100/2100 [==============================] - 1s 276us/step - loss: 61007.3686 - val_loss: 1443459.5673\n",
            "Epoch 58/300\n",
            "2100/2100 [==============================] - 1s 282us/step - loss: 58339.6769 - val_loss: 1413807.4471\n",
            "Epoch 59/300\n",
            "2100/2100 [==============================] - 1s 280us/step - loss: 55793.1224 - val_loss: 1384520.2003\n",
            "Epoch 60/300\n",
            "2100/2100 [==============================] - 1s 272us/step - loss: 53390.1738 - val_loss: 1356195.7420\n",
            "Epoch 61/300\n",
            "2100/2100 [==============================] - 1s 280us/step - loss: 51025.7790 - val_loss: 1328115.7676\n",
            "Epoch 62/300\n",
            "2100/2100 [==============================] - 1s 274us/step - loss: 48860.0439 - val_loss: 1300155.1426\n",
            "Epoch 63/300\n",
            "2100/2100 [==============================] - 1s 277us/step - loss: 46662.0733 - val_loss: 1273805.2564\n",
            "Epoch 64/300\n",
            "2100/2100 [==============================] - 1s 275us/step - loss: 44669.8407 - val_loss: 1246966.7276\n",
            "Epoch 65/300\n",
            "2100/2100 [==============================] - 1s 280us/step - loss: 42689.1065 - val_loss: 1221467.8862\n",
            "Epoch 66/300\n",
            "2100/2100 [==============================] - 1s 285us/step - loss: 40835.3205 - val_loss: 1195840.4471\n",
            "Epoch 67/300\n",
            "2100/2100 [==============================] - 1s 274us/step - loss: 39050.3540 - val_loss: 1170873.8510\n",
            "Epoch 68/300\n",
            "2100/2100 [==============================] - 1s 276us/step - loss: 37397.7750 - val_loss: 1146480.8301\n",
            "Epoch 69/300\n",
            "2100/2100 [==============================] - 1s 273us/step - loss: 35795.7132 - val_loss: 1123344.1522\n",
            "Epoch 70/300\n",
            "2100/2100 [==============================] - 1s 280us/step - loss: 34436.2923 - val_loss: 1100209.5032\n",
            "Epoch 71/300\n",
            "2100/2100 [==============================] - 1s 277us/step - loss: 33037.5614 - val_loss: 1077352.2003\n",
            "Epoch 72/300\n",
            "2100/2100 [==============================] - 1s 278us/step - loss: 31509.7666 - val_loss: 1055082.3862\n",
            "Epoch 73/300\n",
            "2100/2100 [==============================] - 1s 281us/step - loss: 30163.9862 - val_loss: 1033105.4071\n",
            "Epoch 74/300\n",
            "2100/2100 [==============================] - 1s 279us/step - loss: 28910.9651 - val_loss: 1011587.8478\n",
            "Epoch 75/300\n",
            "2100/2100 [==============================] - 1s 278us/step - loss: 27704.0230 - val_loss: 991351.8478\n",
            "Epoch 76/300\n",
            "2100/2100 [==============================] - 1s 282us/step - loss: 26708.9626 - val_loss: 970989.6442\n",
            "Epoch 77/300\n",
            "2100/2100 [==============================] - 1s 285us/step - loss: 25591.1696 - val_loss: 950835.1410\n",
            "Epoch 78/300\n",
            "2100/2100 [==============================] - 1s 282us/step - loss: 24527.6733 - val_loss: 930962.6715\n",
            "Epoch 79/300\n",
            "2100/2100 [==============================] - 1s 284us/step - loss: 23945.3548 - val_loss: 913085.5737\n",
            "Epoch 80/300\n",
            "2100/2100 [==============================] - 1s 284us/step - loss: 22695.5952 - val_loss: 894277.5641\n",
            "Epoch 81/300\n",
            "2100/2100 [==============================] - 1s 281us/step - loss: 21724.6634 - val_loss: 876375.0881\n",
            "Epoch 82/300\n",
            "2100/2100 [==============================] - 1s 279us/step - loss: 20860.1845 - val_loss: 858113.7228\n",
            "Epoch 83/300\n",
            "2100/2100 [==============================] - 1s 285us/step - loss: 20081.6840 - val_loss: 840944.7468\n",
            "Epoch 84/300\n",
            "2100/2100 [==============================] - 1s 279us/step - loss: 19220.1380 - val_loss: 823842.3990\n",
            "Epoch 85/300\n",
            "2100/2100 [==============================] - 1s 281us/step - loss: 18451.4365 - val_loss: 807468.3966\n",
            "Epoch 86/300\n",
            "2100/2100 [==============================] - 1s 277us/step - loss: 17753.5912 - val_loss: 790822.6338\n",
            "Epoch 87/300\n",
            "2100/2100 [==============================] - 1s 282us/step - loss: 17082.6238 - val_loss: 773971.1715\n",
            "Epoch 88/300\n",
            "2100/2100 [==============================] - 1s 276us/step - loss: 16395.4164 - val_loss: 758735.8446\n",
            "Epoch 89/300\n",
            "2100/2100 [==============================] - 1s 277us/step - loss: 15804.7570 - val_loss: 743571.2316\n",
            "Epoch 90/300\n",
            "2100/2100 [==============================] - 1s 279us/step - loss: 15241.2177 - val_loss: 728238.7179\n",
            "Epoch 91/300\n",
            "2100/2100 [==============================] - 1s 279us/step - loss: 14818.3362 - val_loss: 713877.7332\n",
            "Epoch 92/300\n",
            "2100/2100 [==============================] - 1s 281us/step - loss: 14109.6083 - val_loss: 699312.9663\n",
            "Epoch 93/300\n",
            "2100/2100 [==============================] - 1s 280us/step - loss: 13720.3437 - val_loss: 685500.9335\n",
            "Epoch 94/300\n",
            "2100/2100 [==============================] - 1s 277us/step - loss: 13260.4615 - val_loss: 671237.6795\n",
            "Epoch 95/300\n",
            "2100/2100 [==============================] - 1s 287us/step - loss: 12563.8381 - val_loss: 657931.7091\n",
            "Epoch 96/300\n",
            "2100/2100 [==============================] - 1s 289us/step - loss: 12129.3629 - val_loss: 644897.5849\n",
            "Epoch 97/300\n",
            "2100/2100 [==============================] - 1s 285us/step - loss: 11691.8161 - val_loss: 632045.2524\n",
            "Epoch 98/300\n",
            "2100/2100 [==============================] - 1s 286us/step - loss: 11286.2322 - val_loss: 619374.6530\n",
            "Epoch 99/300\n",
            "2100/2100 [==============================] - 1s 283us/step - loss: 11037.9293 - val_loss: 607160.4607\n",
            "Epoch 100/300\n",
            "2100/2100 [==============================] - 1s 283us/step - loss: 10469.3680 - val_loss: 594466.1675\n",
            "Epoch 101/300\n",
            "2100/2100 [==============================] - 1s 278us/step - loss: 10088.2830 - val_loss: 582694.0665\n",
            "Epoch 102/300\n",
            "2100/2100 [==============================] - 1s 276us/step - loss: 9725.0272 - val_loss: 570289.3742\n",
            "Epoch 103/300\n",
            "2100/2100 [==============================] - 1s 285us/step - loss: 9357.5836 - val_loss: 558844.6995\n",
            "Epoch 104/300\n",
            "2100/2100 [==============================] - 1s 283us/step - loss: 9063.1804 - val_loss: 547100.8397\n",
            "Epoch 105/300\n",
            "2100/2100 [==============================] - 1s 281us/step - loss: 8768.6761 - val_loss: 536702.3958\n",
            "Epoch 106/300\n",
            "2100/2100 [==============================] - 1s 280us/step - loss: 8418.7463 - val_loss: 525028.6434\n",
            "Epoch 107/300\n",
            "2100/2100 [==============================] - 1s 279us/step - loss: 8160.9903 - val_loss: 514804.7364\n",
            "Epoch 108/300\n",
            "2100/2100 [==============================] - 1s 281us/step - loss: 7793.1291 - val_loss: 504170.9038\n",
            "Epoch 109/300\n",
            "2100/2100 [==============================] - 1s 273us/step - loss: 7592.4760 - val_loss: 493252.1466\n",
            "Epoch 110/300\n",
            "2100/2100 [==============================] - 1s 286us/step - loss: 7290.2805 - val_loss: 482725.9992\n",
            "Epoch 111/300\n",
            "2100/2100 [==============================] - 1s 278us/step - loss: 7624.5327 - val_loss: 474277.4551\n",
            "Epoch 112/300\n",
            "2100/2100 [==============================] - 1s 279us/step - loss: 6925.7833 - val_loss: 463979.8257\n",
            "Epoch 113/300\n",
            "2100/2100 [==============================] - 1s 282us/step - loss: 6546.3432 - val_loss: 453490.5966\n",
            "Epoch 114/300\n",
            "2100/2100 [==============================] - 1s 279us/step - loss: 6761.9990 - val_loss: 444983.5962\n",
            "Epoch 115/300\n",
            "2100/2100 [==============================] - 1s 285us/step - loss: 6177.5251 - val_loss: 435508.7937\n",
            "Epoch 116/300\n",
            "2100/2100 [==============================] - 1s 276us/step - loss: 5815.8816 - val_loss: 426040.2941\n",
            "Epoch 117/300\n",
            "2100/2100 [==============================] - 1s 289us/step - loss: 5747.4981 - val_loss: 417612.9387\n",
            "Epoch 118/300\n",
            "2100/2100 [==============================] - 1s 277us/step - loss: 5520.9231 - val_loss: 408158.1518\n",
            "Epoch 119/300\n",
            "2100/2100 [==============================] - 1s 279us/step - loss: 5356.0746 - val_loss: 399762.8522\n",
            "Epoch 120/300\n",
            "2100/2100 [==============================] - 1s 283us/step - loss: 5051.1627 - val_loss: 391193.7817\n",
            "Epoch 121/300\n",
            "2100/2100 [==============================] - 1s 280us/step - loss: 4870.0959 - val_loss: 382795.0457\n",
            "Epoch 122/300\n",
            "2100/2100 [==============================] - 1s 282us/step - loss: 4844.7179 - val_loss: 374463.7288\n",
            "Epoch 123/300\n",
            "2100/2100 [==============================] - 1s 279us/step - loss: 4578.4416 - val_loss: 366585.2364\n",
            "Epoch 124/300\n",
            "2100/2100 [==============================] - 1s 277us/step - loss: 4236.9995 - val_loss: 358490.5745\n",
            "Epoch 125/300\n",
            "2100/2100 [==============================] - 1s 281us/step - loss: 4080.3682 - val_loss: 350582.4159\n",
            "Epoch 126/300\n",
            "2100/2100 [==============================] - 1s 275us/step - loss: 4023.7170 - val_loss: 343208.1859\n",
            "Epoch 127/300\n",
            "2100/2100 [==============================] - 1s 284us/step - loss: 3862.3394 - val_loss: 335833.6210\n",
            "Epoch 128/300\n",
            "2100/2100 [==============================] - 1s 279us/step - loss: 3665.1004 - val_loss: 328961.6014\n",
            "Epoch 129/300\n",
            "2100/2100 [==============================] - 1s 277us/step - loss: 3463.2208 - val_loss: 321245.5581\n",
            "Epoch 130/300\n",
            "2100/2100 [==============================] - 1s 283us/step - loss: 3313.1404 - val_loss: 314149.2752\n",
            "Epoch 131/300\n",
            "2100/2100 [==============================] - 1s 273us/step - loss: 3203.7174 - val_loss: 307160.9243\n",
            "Epoch 132/300\n",
            "2100/2100 [==============================] - 1s 283us/step - loss: 3027.7749 - val_loss: 300517.9419\n",
            "Epoch 133/300\n",
            "2100/2100 [==============================] - 1s 277us/step - loss: 3296.0896 - val_loss: 293931.8862\n",
            "Epoch 134/300\n",
            "2100/2100 [==============================] - 1s 283us/step - loss: 2987.0810 - val_loss: 286464.6508\n",
            "Epoch 135/300\n",
            "2100/2100 [==============================] - 1s 273us/step - loss: 2848.3588 - val_loss: 280057.0481\n",
            "Epoch 136/300\n",
            "2100/2100 [==============================] - 1s 281us/step - loss: 2819.4646 - val_loss: 276080.5481\n",
            "Epoch 137/300\n",
            "2100/2100 [==============================] - 1s 285us/step - loss: 2833.7145 - val_loss: 268618.1713\n",
            "Epoch 138/300\n",
            "2100/2100 [==============================] - 1s 277us/step - loss: 2563.2430 - val_loss: 262414.8948\n",
            "Epoch 139/300\n",
            "2100/2100 [==============================] - 1s 277us/step - loss: 2292.1377 - val_loss: 256408.8876\n",
            "Epoch 140/300\n",
            "2100/2100 [==============================] - 1s 274us/step - loss: 2160.6304 - val_loss: 251085.3820\n",
            "Epoch 141/300\n",
            "2100/2100 [==============================] - 1s 280us/step - loss: 2105.6801 - val_loss: 244801.8668\n",
            "Epoch 142/300\n",
            "2100/2100 [==============================] - 1s 282us/step - loss: 2114.9480 - val_loss: 239862.7905\n",
            "Epoch 143/300\n",
            "2100/2100 [==============================] - 1s 281us/step - loss: 1888.9257 - val_loss: 234935.1342\n",
            "Epoch 144/300\n",
            "2100/2100 [==============================] - 1s 277us/step - loss: 1848.6539 - val_loss: 229608.0593\n",
            "Epoch 145/300\n",
            "2100/2100 [==============================] - 1s 279us/step - loss: 2263.8927 - val_loss: 243031.0036\n",
            "Epoch 146/300\n",
            "2100/2100 [==============================] - 1s 281us/step - loss: 2656.1863 - val_loss: 221046.8920\n",
            "Epoch 147/300\n",
            "2100/2100 [==============================] - 1s 278us/step - loss: 1808.6023 - val_loss: 215288.9359\n",
            "Epoch 148/300\n",
            "2100/2100 [==============================] - 1s 278us/step - loss: 1567.6142 - val_loss: 210175.8558\n",
            "Epoch 149/300\n",
            "2100/2100 [==============================] - 1s 276us/step - loss: 1426.5578 - val_loss: 205630.1188\n",
            "Epoch 150/300\n",
            "2100/2100 [==============================] - 1s 282us/step - loss: 1330.8524 - val_loss: 201402.3435\n",
            "Epoch 151/300\n",
            "2100/2100 [==============================] - 1s 282us/step - loss: 1304.4394 - val_loss: 196841.1332\n",
            "Epoch 152/300\n",
            "2100/2100 [==============================] - 1s 287us/step - loss: 1253.9690 - val_loss: 192061.4357\n",
            "Epoch 153/300\n",
            "2100/2100 [==============================] - 1s 306us/step - loss: 1237.6839 - val_loss: 187752.9770\n",
            "Epoch 154/300\n",
            "2100/2100 [==============================] - 1s 301us/step - loss: 1229.8560 - val_loss: 184110.5232\n",
            "Epoch 155/300\n",
            "2100/2100 [==============================] - 1s 299us/step - loss: 1431.8378 - val_loss: 180958.7887\n",
            "Epoch 156/300\n",
            "2100/2100 [==============================] - 1s 278us/step - loss: 1745.6105 - val_loss: 185428.2490\n",
            "Epoch 157/300\n",
            "2100/2100 [==============================] - 1s 281us/step - loss: 3570.6067 - val_loss: 261703.2005\n",
            "Epoch 158/300\n",
            "2100/2100 [==============================] - 1s 278us/step - loss: 2652.8728 - val_loss: 252892.8255\n",
            "Epoch 159/300\n",
            "2100/2100 [==============================] - 1s 274us/step - loss: 2169.9905 - val_loss: 241836.4097\n",
            "Epoch 160/300\n",
            "2100/2100 [==============================] - 1s 281us/step - loss: 1943.5027 - val_loss: 233745.2408\n",
            "Epoch 161/300\n",
            "2100/2100 [==============================] - 1s 277us/step - loss: 1876.2990 - val_loss: 226597.6857\n",
            "Epoch 162/300\n",
            "2100/2100 [==============================] - 1s 285us/step - loss: 1870.2426 - val_loss: 219100.3321\n",
            "Epoch 163/300\n",
            "2100/2100 [==============================] - 1s 285us/step - loss: 1633.3801 - val_loss: 212994.0228\n",
            "Epoch 164/300\n",
            "2100/2100 [==============================] - 1s 279us/step - loss: 1445.1922 - val_loss: 207436.7121\n",
            "Epoch 165/300\n",
            "2100/2100 [==============================] - 1s 282us/step - loss: 1362.2470 - val_loss: 201566.1276\n",
            "Epoch 166/300\n",
            "2100/2100 [==============================] - 1s 278us/step - loss: 1320.6034 - val_loss: 196119.4904\n",
            "Epoch 167/300\n",
            "2100/2100 [==============================] - 1s 280us/step - loss: 1226.1127 - val_loss: 190495.9032\n",
            "Epoch 168/300\n",
            "2100/2100 [==============================] - 1s 275us/step - loss: 1173.9467 - val_loss: 184998.9934\n",
            "Epoch 169/300\n",
            "2100/2100 [==============================] - 1s 282us/step - loss: 1095.0489 - val_loss: 180509.3888\n",
            "Epoch 170/300\n",
            "2100/2100 [==============================] - 1s 278us/step - loss: 1022.0984 - val_loss: 175361.3268\n",
            "Epoch 171/300\n",
            "2100/2100 [==============================] - 1s 277us/step - loss: 966.3711 - val_loss: 170866.3814\n",
            "Epoch 172/300\n",
            "2100/2100 [==============================] - 1s 279us/step - loss: 897.0520 - val_loss: 166726.8303\n",
            "Epoch 173/300\n",
            "2100/2100 [==============================] - 1s 280us/step - loss: 858.3507 - val_loss: 162221.5755\n",
            "Epoch 174/300\n",
            "2100/2100 [==============================] - 1s 283us/step - loss: 841.4835 - val_loss: 158332.7994\n",
            "Epoch 175/300\n",
            "2100/2100 [==============================] - 1s 277us/step - loss: 864.7839 - val_loss: 154698.9927\n",
            "Epoch 176/300\n",
            "2100/2100 [==============================] - 1s 286us/step - loss: 899.7773 - val_loss: 150650.1709\n",
            "Epoch 177/300\n",
            "2100/2100 [==============================] - 1s 281us/step - loss: 713.0028 - val_loss: 147239.9562\n",
            "Epoch 178/300\n",
            "2100/2100 [==============================] - 1s 295us/step - loss: 792.3517 - val_loss: 143508.2692\n",
            "Epoch 179/300\n",
            "2100/2100 [==============================] - 1s 305us/step - loss: 1575.3668 - val_loss: 142220.3430\n",
            "Epoch 180/300\n",
            "2100/2100 [==============================] - 1s 307us/step - loss: 909.5427 - val_loss: 138169.1267\n",
            "Epoch 181/300\n",
            "2100/2100 [==============================] - 1s 303us/step - loss: 1582.1302 - val_loss: 142934.9840\n",
            "Epoch 182/300\n",
            "2100/2100 [==============================] - 1s 307us/step - loss: 798.9974 - val_loss: 134409.7180\n",
            "Epoch 183/300\n",
            "2100/2100 [==============================] - 1s 302us/step - loss: 636.0333 - val_loss: 129958.5511\n",
            "Epoch 184/300\n",
            "2100/2100 [==============================] - 1s 307us/step - loss: 538.5501 - val_loss: 127835.9186\n",
            "Epoch 185/300\n",
            "2100/2100 [==============================] - 1s 309us/step - loss: 742.0095 - val_loss: 127892.0586\n",
            "Epoch 186/300\n",
            "2100/2100 [==============================] - 1s 303us/step - loss: 831.5972 - val_loss: 122576.4462\n",
            "Epoch 187/300\n",
            "2100/2100 [==============================] - 1s 305us/step - loss: 547.8358 - val_loss: 120415.5169\n",
            "Epoch 188/300\n",
            "2100/2100 [==============================] - 1s 305us/step - loss: 451.6114 - val_loss: 117875.4418\n",
            "Epoch 189/300\n",
            "2100/2100 [==============================] - 1s 301us/step - loss: 458.0340 - val_loss: 115270.1944\n",
            "Epoch 190/300\n",
            "2100/2100 [==============================] - 1s 307us/step - loss: 744.0521 - val_loss: 119092.5009\n",
            "Epoch 191/300\n",
            "2100/2100 [==============================] - 1s 301us/step - loss: 771.0352 - val_loss: 115172.2604\n",
            "Epoch 192/300\n",
            "2100/2100 [==============================] - 1s 313us/step - loss: 611.0310 - val_loss: 109320.1698\n",
            "Epoch 193/300\n",
            "2100/2100 [==============================] - 1s 304us/step - loss: 415.1867 - val_loss: 107725.7732\n",
            "Epoch 194/300\n",
            "2100/2100 [==============================] - 1s 282us/step - loss: 430.6101 - val_loss: 105605.4865\n",
            "Epoch 195/300\n",
            "2100/2100 [==============================] - 1s 281us/step - loss: 448.6445 - val_loss: 104077.8740\n",
            "Epoch 196/300\n",
            "2100/2100 [==============================] - 1s 277us/step - loss: 725.7211 - val_loss: 102706.3017\n",
            "Epoch 197/300\n",
            "2100/2100 [==============================] - 1s 279us/step - loss: 953.4686 - val_loss: 185215.9028\n",
            "Epoch 198/300\n",
            "2100/2100 [==============================] - 1s 279us/step - loss: 1226.0928 - val_loss: 141210.3865\n",
            "Epoch 199/300\n",
            "2100/2100 [==============================] - 1s 277us/step - loss: 348.7498 - val_loss: 92472.1878\n",
            "Epoch 200/300\n",
            "2100/2100 [==============================] - 1s 284us/step - loss: 285.3230 - val_loss: 91098.3562\n",
            "Epoch 201/300\n",
            "2100/2100 [==============================] - 1s 281us/step - loss: 277.6336 - val_loss: 90340.3725\n",
            "Epoch 202/300\n",
            "2100/2100 [==============================] - 1s 281us/step - loss: 262.4884 - val_loss: 88815.0642\n",
            "Epoch 203/300\n",
            "2100/2100 [==============================] - 1s 286us/step - loss: 595.5029 - val_loss: 88119.8051\n",
            "Epoch 204/300\n",
            "2100/2100 [==============================] - 1s 278us/step - loss: 1023.2920 - val_loss: 90103.4681\n",
            "Epoch 205/300\n",
            "2100/2100 [==============================] - 1s 282us/step - loss: 857.0897 - val_loss: 89880.3152\n",
            "Epoch 206/300\n",
            "2100/2100 [==============================] - 1s 283us/step - loss: 422.9439 - val_loss: 86919.1864\n",
            "Epoch 207/300\n",
            "2100/2100 [==============================] - 1s 290us/step - loss: 232.7131 - val_loss: 84727.2227\n",
            "Epoch 208/300\n",
            "2100/2100 [==============================] - 1s 278us/step - loss: 264.6810 - val_loss: 83981.1928\n",
            "Epoch 209/300\n",
            "2100/2100 [==============================] - 1s 284us/step - loss: 282.4230 - val_loss: 83547.6443\n",
            "Epoch 210/300\n",
            "2100/2100 [==============================] - 1s 289us/step - loss: 318.8968 - val_loss: 81999.0269\n",
            "Epoch 211/300\n",
            "2100/2100 [==============================] - 1s 279us/step - loss: 550.4870 - val_loss: 85953.8276\n",
            "Epoch 212/300\n",
            "2100/2100 [==============================] - 1s 285us/step - loss: 320.3288 - val_loss: 81009.1272\n",
            "Epoch 213/300\n",
            "2100/2100 [==============================] - 1s 291us/step - loss: 300.5384 - val_loss: 79528.6219\n",
            "Epoch 214/300\n",
            "2100/2100 [==============================] - 1s 277us/step - loss: 259.2148 - val_loss: 80257.9311\n",
            "Epoch 215/300\n",
            "2100/2100 [==============================] - 1s 289us/step - loss: 244.1091 - val_loss: 77855.2508\n",
            "Epoch 216/300\n",
            "2100/2100 [==============================] - 1s 280us/step - loss: 222.6620 - val_loss: 77577.9642\n",
            "Epoch 217/300\n",
            "2100/2100 [==============================] - 1s 282us/step - loss: 219.2609 - val_loss: 76721.8879\n",
            "Epoch 218/300\n",
            "2100/2100 [==============================] - 1s 279us/step - loss: 289.4195 - val_loss: 80099.3181\n",
            "Epoch 219/300\n",
            "2100/2100 [==============================] - 1s 284us/step - loss: 259.7754 - val_loss: 76399.1402\n",
            "Epoch 220/300\n",
            "2100/2100 [==============================] - 1s 286us/step - loss: 312.3668 - val_loss: 73884.2801\n",
            "Epoch 221/300\n",
            "2100/2100 [==============================] - 1s 281us/step - loss: 855.1392 - val_loss: 76462.3421\n",
            "Epoch 222/300\n",
            "2100/2100 [==============================] - 1s 289us/step - loss: 496.6714 - val_loss: 74150.1907\n",
            "Epoch 223/300\n",
            "2100/2100 [==============================] - 1s 285us/step - loss: 302.5362 - val_loss: 73400.5525\n",
            "Epoch 224/300\n",
            "2100/2100 [==============================] - 1s 289us/step - loss: 305.3286 - val_loss: 72915.4486\n",
            "Epoch 225/300\n",
            "2100/2100 [==============================] - 1s 293us/step - loss: 605.4448 - val_loss: 131781.4995\n",
            "Epoch 226/300\n",
            "2100/2100 [==============================] - 1s 288us/step - loss: 529.8789 - val_loss: 125481.2590\n",
            "Epoch 227/300\n",
            "2100/2100 [==============================] - 1s 284us/step - loss: 749.8586 - val_loss: 123462.9231\n",
            "Epoch 228/300\n",
            "2100/2100 [==============================] - 1s 284us/step - loss: 531.0473 - val_loss: 117990.5010\n",
            "Epoch 229/300\n",
            "2100/2100 [==============================] - 1s 291us/step - loss: 425.9616 - val_loss: 113301.6026\n",
            "Epoch 230/300\n",
            "2100/2100 [==============================] - 1s 288us/step - loss: 456.8204 - val_loss: 110995.0464\n",
            "Epoch 231/300\n",
            "2100/2100 [==============================] - 1s 284us/step - loss: 702.1280 - val_loss: 111524.9006\n",
            "Epoch 232/300\n",
            "2100/2100 [==============================] - 1s 284us/step - loss: 381.2393 - val_loss: 104303.4560\n",
            "Epoch 233/300\n",
            "2100/2100 [==============================] - 1s 291us/step - loss: 316.9099 - val_loss: 100670.1901\n",
            "Epoch 234/300\n",
            "2100/2100 [==============================] - 1s 283us/step - loss: 425.5653 - val_loss: 97606.0963\n",
            "Epoch 235/300\n",
            "2100/2100 [==============================] - 1s 292us/step - loss: 1633.9548 - val_loss: 173495.8089\n",
            "Epoch 236/300\n",
            "2100/2100 [==============================] - 1s 294us/step - loss: 1238.2618 - val_loss: 115078.5927\n",
            "Epoch 237/300\n",
            "2100/2100 [==============================] - 1s 289us/step - loss: 822.2486 - val_loss: 90960.5305\n",
            "Epoch 238/300\n",
            "2100/2100 [==============================] - 1s 292us/step - loss: 604.4206 - val_loss: 88949.6497\n",
            "Epoch 239/300\n",
            "2100/2100 [==============================] - 1s 278us/step - loss: 510.2030 - val_loss: 85238.2787\n",
            "Epoch 240/300\n",
            "2100/2100 [==============================] - 1s 275us/step - loss: 239.3764 - val_loss: 85149.0207\n",
            "Epoch 241/300\n",
            "2100/2100 [==============================] - 1s 285us/step - loss: 288.6800 - val_loss: 83916.4385\n",
            "Epoch 242/300\n",
            "2100/2100 [==============================] - 1s 275us/step - loss: 253.1104 - val_loss: 81510.4298\n",
            "Epoch 243/300\n",
            "2100/2100 [==============================] - 1s 283us/step - loss: 285.1619 - val_loss: 79568.3478\n",
            "Epoch 244/300\n",
            "2100/2100 [==============================] - 1s 271us/step - loss: 919.4229 - val_loss: 78766.8321\n",
            "Epoch 245/300\n",
            "2100/2100 [==============================] - 1s 276us/step - loss: 1352.8880 - val_loss: 156388.5472\n",
            "Epoch 246/300\n",
            "2100/2100 [==============================] - 1s 272us/step - loss: 868.7204 - val_loss: 145961.6886\n",
            "Epoch 247/300\n",
            "2100/2100 [==============================] - 1s 273us/step - loss: 702.0423 - val_loss: 138166.4456\n",
            "Epoch 248/300\n",
            "2100/2100 [==============================] - 1s 280us/step - loss: 631.6055 - val_loss: 126842.7184\n",
            "Epoch 249/300\n",
            "2100/2100 [==============================] - 1s 268us/step - loss: 365.8702 - val_loss: 69190.9340\n",
            "Epoch 250/300\n",
            "2100/2100 [==============================] - 1s 279us/step - loss: 470.2346 - val_loss: 111353.6219\n",
            "Epoch 251/300\n",
            "2100/2100 [==============================] - 1s 279us/step - loss: 354.7295 - val_loss: 65817.4582\n",
            "Epoch 252/300\n",
            "2100/2100 [==============================] - 1s 277us/step - loss: 500.8686 - val_loss: 69836.7841\n",
            "Epoch 253/300\n",
            "2100/2100 [==============================] - 1s 282us/step - loss: 230.5297 - val_loss: 64775.2187\n",
            "Epoch 254/300\n",
            "2100/2100 [==============================] - 1s 284us/step - loss: 242.4223 - val_loss: 67222.0457\n",
            "Epoch 255/300\n",
            "2100/2100 [==============================] - 1s 278us/step - loss: 555.5685 - val_loss: 118618.6451\n",
            "Epoch 256/300\n",
            "2100/2100 [==============================] - 1s 271us/step - loss: 536.5129 - val_loss: 114638.6788\n",
            "Epoch 257/300\n",
            "2100/2100 [==============================] - 1s 281us/step - loss: 420.7080 - val_loss: 108482.6722\n",
            "Epoch 258/300\n",
            "2100/2100 [==============================] - 1s 277us/step - loss: 521.3546 - val_loss: 105814.5368\n",
            "Epoch 259/300\n",
            "2100/2100 [==============================] - 1s 279us/step - loss: 417.3905 - val_loss: 101395.6862\n",
            "Epoch 260/300\n",
            "2100/2100 [==============================] - 1s 275us/step - loss: 487.4560 - val_loss: 98779.7515\n",
            "Epoch 261/300\n",
            "2100/2100 [==============================] - 1s 275us/step - loss: 306.7231 - val_loss: 96138.2388\n",
            "Epoch 262/300\n",
            "2100/2100 [==============================] - 1s 281us/step - loss: 329.1504 - val_loss: 92966.7292\n",
            "Epoch 263/300\n",
            "2100/2100 [==============================] - 1s 271us/step - loss: 299.6859 - val_loss: 89584.8938\n",
            "Epoch 264/300\n",
            "2100/2100 [==============================] - 1s 276us/step - loss: 405.5196 - val_loss: 88723.2359\n",
            "Epoch 265/300\n",
            "2100/2100 [==============================] - 1s 274us/step - loss: 285.7948 - val_loss: 87372.8033\n",
            "Epoch 266/300\n",
            "2100/2100 [==============================] - 1s 277us/step - loss: 371.2282 - val_loss: 85303.9119\n",
            "Epoch 267/300\n",
            "2100/2100 [==============================] - 1s 280us/step - loss: 441.3874 - val_loss: 85082.2144\n",
            "Epoch 268/300\n",
            "2100/2100 [==============================] - 1s 277us/step - loss: 577.9731 - val_loss: 80960.7147\n",
            "Epoch 269/300\n",
            "2100/2100 [==============================] - 1s 276us/step - loss: 386.2387 - val_loss: 79847.8661\n",
            "Epoch 270/300\n",
            "2100/2100 [==============================] - 1s 271us/step - loss: 239.1590 - val_loss: 78439.6691\n",
            "Epoch 271/300\n",
            "2100/2100 [==============================] - 1s 276us/step - loss: 226.0453 - val_loss: 77443.9375\n",
            "Epoch 272/300\n",
            "2100/2100 [==============================] - 1s 274us/step - loss: 214.4196 - val_loss: 76617.2489\n",
            "Epoch 273/300\n",
            "2100/2100 [==============================] - 1s 273us/step - loss: 220.8671 - val_loss: 74614.5690\n",
            "Epoch 274/300\n",
            "2100/2100 [==============================] - 1s 274us/step - loss: 289.8220 - val_loss: 74538.8157\n",
            "Epoch 275/300\n",
            "2100/2100 [==============================] - 1s 272us/step - loss: 459.9279 - val_loss: 73904.6304\n",
            "Epoch 276/300\n",
            "2100/2100 [==============================] - 1s 277us/step - loss: 365.2054 - val_loss: 72234.4488\n",
            "Epoch 277/300\n",
            "2100/2100 [==============================] - 1s 271us/step - loss: 329.8690 - val_loss: 72347.5493\n",
            "Epoch 278/300\n",
            "2100/2100 [==============================] - 1s 280us/step - loss: 219.1611 - val_loss: 70097.8442\n",
            "Epoch 279/300\n",
            "2100/2100 [==============================] - 1s 272us/step - loss: 292.5441 - val_loss: 70643.2946\n",
            "Epoch 280/300\n",
            "2100/2100 [==============================] - 1s 273us/step - loss: 253.2222 - val_loss: 69392.7276\n",
            "Epoch 281/300\n",
            "2100/2100 [==============================] - 1s 272us/step - loss: 375.7208 - val_loss: 71239.8929\n",
            "Epoch 282/300\n",
            "2100/2100 [==============================] - 1s 284us/step - loss: 227.2234 - val_loss: 67171.3120\n",
            "Epoch 283/300\n",
            "2100/2100 [==============================] - 1s 286us/step - loss: 219.7448 - val_loss: 67759.3544\n",
            "Epoch 284/300\n",
            "2100/2100 [==============================] - 1s 286us/step - loss: 201.5757 - val_loss: 67050.6491\n",
            "Epoch 285/300\n",
            "2100/2100 [==============================] - 1s 288us/step - loss: 403.5688 - val_loss: 65577.4896\n",
            "Epoch 286/300\n",
            "2100/2100 [==============================] - 1s 285us/step - loss: 249.1241 - val_loss: 64966.6286\n",
            "Epoch 287/300\n",
            "2100/2100 [==============================] - 1s 297us/step - loss: 213.2243 - val_loss: 67364.2103\n",
            "Epoch 288/300\n",
            "2100/2100 [==============================] - 1s 284us/step - loss: 251.3883 - val_loss: 63171.1488\n",
            "Epoch 289/300\n",
            "2100/2100 [==============================] - 1s 273us/step - loss: 935.6837 - val_loss: 63207.3007\n",
            "Epoch 290/300\n",
            "2100/2100 [==============================] - 1s 274us/step - loss: 517.8864 - val_loss: 65444.4025\n",
            "Epoch 291/300\n",
            "2100/2100 [==============================] - 1s 275us/step - loss: 273.8602 - val_loss: 66393.1174\n",
            "Epoch 292/300\n",
            "2100/2100 [==============================] - 1s 273us/step - loss: 324.2616 - val_loss: 67268.8935\n",
            "Epoch 293/300\n",
            "2100/2100 [==============================] - 1s 273us/step - loss: 295.2559 - val_loss: 64967.9873\n",
            "Epoch 294/300\n",
            "2100/2100 [==============================] - 1s 278us/step - loss: 295.8669 - val_loss: 62207.3681\n",
            "Epoch 295/300\n",
            "2100/2100 [==============================] - 1s 288us/step - loss: 187.1018 - val_loss: 63719.9468\n",
            "Epoch 296/300\n",
            "2100/2100 [==============================] - 1s 287us/step - loss: 208.3267 - val_loss: 62374.3137\n",
            "Epoch 297/300\n",
            "2100/2100 [==============================] - 1s 282us/step - loss: 216.6031 - val_loss: 62249.4652\n",
            "Epoch 298/300\n",
            "2100/2100 [==============================] - 1s 278us/step - loss: 200.2561 - val_loss: 60744.6421\n",
            "Epoch 299/300\n",
            "2100/2100 [==============================] - 1s 272us/step - loss: 196.1277 - val_loss: 60887.6250\n",
            "Epoch 300/300\n",
            "2100/2100 [==============================] - 1s 267us/step - loss: 234.2662 - val_loss: 59847.8633\n"
          ],
          "name": "stdout"
        },
        {
          "output_type": "execute_result",
          "data": {
            "text/plain": [
              "<keras.callbacks.History at 0x7f517d3a3cf8>"
            ]
          },
          "metadata": {
            "tags": []
          },
          "execution_count": 31
        }
      ]
    },
    {
      "metadata": {
        "id": "4P64RrIZ4_jB",
        "colab_type": "code",
        "colab": {}
      },
      "cell_type": "code",
      "source": [
        "pred = model.predict(X_test)"
      ],
      "execution_count": 0,
      "outputs": []
    },
    {
      "metadata": {
        "id": "H7U0m-ey4_0-",
        "colab_type": "code",
        "outputId": "a8fdead1-2990-4189-8c7e-a843cfcc24f7",
        "colab": {
          "base_uri": "https://localhost:8080/",
          "height": 406
        }
      },
      "cell_type": "code",
      "source": [
        "import matplotlib.pyplot as plt\n",
        "%matplotlib inline\n",
        "plt.figure(figsize=(6,6))\n",
        "plt.plot(y_test,'r',label='actual')\n",
        "plt.plot(pred,'--', label = 'predicted')\n",
        "\n",
        "plt.title('Variation of actual and predicted stock price')\n",
        "plt.ylabel('Stock price')\n",
        "plt.legend()"
      ],
      "execution_count": 0,
      "outputs": [
        {
          "output_type": "execute_result",
          "data": {
            "text/plain": [
              "<matplotlib.legend.Legend at 0x7f517c8ce2b0>"
            ]
          },
          "metadata": {
            "tags": []
          },
          "execution_count": 34
        },
        {
          "output_type": "display_data",
          "data": {
            "image/png": "[encoded data removed]",
            "text/plain": [
              "<Figure size 432x432 with 1 Axes>"
            ]
          },
          "metadata": {
            "tags": []
          }
        }
      ]
    },
    {
      "metadata": {
        "id": "RA3Fp9Wp93R-",
        "colab_type": "code",
        "colab": {}
      },
      "cell_type": "code",
      "source": [
        "t = []\n",
        "for i in range(pred.shape[0]):\n",
        "  t.append(pred[i][0])"
      ],
      "execution_count": 0,
      "outputs": []
    },
    {
      "metadata": {
        "id": "7-Sl1gMx5D4c",
        "colab_type": "code",
        "outputId": "4d6a7bff-2451-4eaf-a783-87e2be3b5b1e",
        "colab": {
          "base_uri": "https://localhost:8080/",
          "height": 204
        }
      },
      "cell_type": "code",
      "source": [
        "df = pd.DataFrame([y_test, t]).T\n",
        "df.columns = ['actual','predicted']\n",
        "df.head()"
      ],
      "execution_count": 0,
      "outputs": [
        {
          "output_type": "execute_result",
          "data": {
            "text/html": [
              "<div>\n",
              "<style scoped>\n",
              "    .dataframe tbody tr th:only-of-type {\n",
              "        vertical-align: middle;\n",
              "    }\n",
              "\n",
              "    .dataframe tbody tr th {\n",
              "        vertical-align: top;\n",
              "    }\n",
              "\n",
              "    .dataframe thead th {\n",
              "        text-align: right;\n",
              "    }\n",
              "</style>\n",
              "<table border=\"1\" class=\"dataframe\">\n",
              "  <thead>\n",
              "    <tr style=\"text-align: right;\">\n",
              "      <th></th>\n",
              "      <th>actual</th>\n",
              "      <th>predicted</th>\n",
              "    </tr>\n",
              "  </thead>\n",
              "  <tbody>\n",
              "    <tr>\n",
              "      <th>0</th>\n",
              "      <td>1601.540039</td>\n",
              "      <td>1536.650269</td>\n",
              "    </tr>\n",
              "    <tr>\n",
              "      <th>1</th>\n",
              "      <td>1576.119995</td>\n",
              "      <td>1536.316895</td>\n",
              "    </tr>\n",
              "    <tr>\n",
              "      <th>2</th>\n",
              "      <td>1587.280029</td>\n",
              "      <td>1530.876953</td>\n",
              "    </tr>\n",
              "    <tr>\n",
              "      <th>3</th>\n",
              "      <td>1581.760010</td>\n",
              "      <td>1533.011719</td>\n",
              "    </tr>\n",
              "    <tr>\n",
              "      <th>4</th>\n",
              "      <td>1574.369995</td>\n",
              "      <td>1531.937378</td>\n",
              "    </tr>\n",
              "  </tbody>\n",
              "</table>\n",
              "</div>"
            ],
            "text/plain": [
              "        actual    predicted\n",
              "0  1601.540039  1536.650269\n",
              "1  1576.119995  1536.316895\n",
              "2  1587.280029  1530.876953\n",
              "3  1581.760010  1533.011719\n",
              "4  1574.369995  1531.937378"
            ]
          },
          "metadata": {
            "tags": []
          },
          "execution_count": 36
        }
      ]
    },
    {
      "metadata": {
        "id": "r0ZMchkh-CPm",
        "colab_type": "code",
        "outputId": "2374c468-a26e-44fd-8db8-f4bef0d791c4",
        "colab": {
          "base_uri": "https://localhost:8080/",
          "height": 359
        }
      },
      "cell_type": "code",
      "source": [
        "df['error'] = np.square(df['actual']-df['predicted'])\n",
        "df = df.sort_values(by='error',ascending=False)\n",
        "df.head(10)"
      ],
      "execution_count": 0,
      "outputs": [
        {
          "output_type": "execute_result",
          "data": {
            "text/html": [
              "<div>\n",
              "<style scoped>\n",
              "    .dataframe tbody tr th:only-of-type {\n",
              "        vertical-align: middle;\n",
              "    }\n",
              "\n",
              "    .dataframe tbody tr th {\n",
              "        vertical-align: top;\n",
              "    }\n",
              "\n",
              "    .dataframe thead th {\n",
              "        text-align: right;\n",
              "    }\n",
              "</style>\n",
              "<table border=\"1\" class=\"dataframe\">\n",
              "  <thead>\n",
              "    <tr style=\"text-align: right;\">\n",
              "      <th></th>\n",
              "      <th>actual</th>\n",
              "      <th>predicted</th>\n",
              "      <th>error</th>\n",
              "    </tr>\n",
              "  </thead>\n",
              "  <tbody>\n",
              "    <tr>\n",
              "      <th>78</th>\n",
              "      <td>2039.510010</td>\n",
              "      <td>1564.883667</td>\n",
              "      <td>225270.165477</td>\n",
              "    </tr>\n",
              "    <tr>\n",
              "      <th>95</th>\n",
              "      <td>2012.979980</td>\n",
              "      <td>1564.211304</td>\n",
              "      <td>201393.324818</td>\n",
              "    </tr>\n",
              "    <tr>\n",
              "      <th>77</th>\n",
              "      <td>2012.709961</td>\n",
              "      <td>1564.714844</td>\n",
              "      <td>200699.625080</td>\n",
              "    </tr>\n",
              "    <tr>\n",
              "      <th>97</th>\n",
              "      <td>2004.359985</td>\n",
              "      <td>1564.726807</td>\n",
              "      <td>193277.331514</td>\n",
              "    </tr>\n",
              "    <tr>\n",
              "      <th>96</th>\n",
              "      <td>2003.000000</td>\n",
              "      <td>1564.884888</td>\n",
              "      <td>191944.851630</td>\n",
              "    </tr>\n",
              "    <tr>\n",
              "      <th>76</th>\n",
              "      <td>2002.380005</td>\n",
              "      <td>1564.632812</td>\n",
              "      <td>191622.604542</td>\n",
              "    </tr>\n",
              "    <tr>\n",
              "      <th>75</th>\n",
              "      <td>1998.099976</td>\n",
              "      <td>1563.269287</td>\n",
              "      <td>189077.728001</td>\n",
              "    </tr>\n",
              "    <tr>\n",
              "      <th>79</th>\n",
              "      <td>1994.819946</td>\n",
              "      <td>1565.277832</td>\n",
              "      <td>184506.427673</td>\n",
              "    </tr>\n",
              "    <tr>\n",
              "      <th>84</th>\n",
              "      <td>1990.000000</td>\n",
              "      <td>1564.439087</td>\n",
              "      <td>181102.090747</td>\n",
              "    </tr>\n",
              "    <tr>\n",
              "      <th>85</th>\n",
              "      <td>1989.869995</td>\n",
              "      <td>1564.498047</td>\n",
              "      <td>180941.294252</td>\n",
              "    </tr>\n",
              "  </tbody>\n",
              "</table>\n",
              "</div>"
            ],
            "text/plain": [
              "         actual    predicted          error\n",
              "78  2039.510010  1564.883667  225270.165477\n",
              "95  2012.979980  1564.211304  201393.324818\n",
              "77  2012.709961  1564.714844  200699.625080\n",
              "97  2004.359985  1564.726807  193277.331514\n",
              "96  2003.000000  1564.884888  191944.851630\n",
              "76  2002.380005  1564.632812  191622.604542\n",
              "75  1998.099976  1563.269287  189077.728001\n",
              "79  1994.819946  1565.277832  184506.427673\n",
              "84  1990.000000  1564.439087  181102.090747\n",
              "85  1989.869995  1564.498047  180941.294252"
            ]
          },
          "metadata": {
            "tags": []
          },
          "execution_count": 37
        }
      ]
    },
    {
      "metadata": {
        "id": "QbtD66Ic-bA3",
        "colab_type": "code",
        "outputId": "29e13e1c-9445-4712-ce32-abf7bc2db99e",
        "colab": {
          "base_uri": "https://localhost:8080/",
          "height": 282
        }
      },
      "cell_type": "code",
      "source": [
        "plt.plot(data2['Close'])"
      ],
      "execution_count": 0,
      "outputs": [
        {
          "output_type": "execute_result",
          "data": {
            "text/plain": [
              "[<matplotlib.lines.Line2D at 0x7f517bdc6ba8>]"
            ]
          },
          "metadata": {
            "tags": []
          },
          "execution_count": 38
        },
        {
          "output_type": "display_data",
          "data": {
            "image/png": "[encoded data removed]",
            "text/plain": [
              "<Figure size 432x288 with 1 Axes>"
            ]
          },
          "metadata": {
            "tags": []
          }
        }
      ]
    },
    {
      "metadata": {
        "id": "wIhe31KwOaAK",
        "colab_type": "text"
      },
      "cell_type": "markdown",
      "source": [
        "# Assigning different weights for different time periods"
      ]
    },
    {
      "metadata": {
        "id": "8u7y2NcgMKDo",
        "colab_type": "code",
        "colab": {}
      },
      "cell_type": "code",
      "source": [
        "import numpy as np\n",
        "from keras.layers import Dense, Input\n",
        "from keras import Model\n",
        "import keras.backend as K\n",
        "from functools import partial\n",
        "\n",
        "\n",
        "def custom_loss_4(y_true, y_pred, weights):\n",
        "    return K.square(K.abs(y_true - y_pred) * weights)"
      ],
      "execution_count": 0,
      "outputs": []
    },
    {
      "metadata": {
        "id": "6YWhQgBLMKNx",
        "colab_type": "code",
        "colab": {}
      },
      "cell_type": "code",
      "source": [
        "input_layer = Input(shape=(5,1))\n",
        "weights_tensor = Input(shape=(1,))"
      ],
      "execution_count": 0,
      "outputs": []
    },
    {
      "metadata": {
        "id": "tkf4m7MQMKSG",
        "colab_type": "code",
        "colab": {}
      },
      "cell_type": "code",
      "source": [
        "i1 = Dense(100, activation='relu')(input_layer)\n",
        "i2 = LSTM(100)(i1)\n",
        "i3 = Dense(1000, activation='relu')(i2)\n",
        "out = Dense(1, activation='linear')(i3)\n",
        "model = Model([input_layer, weights_tensor], out)"
      ],
      "execution_count": 0,
      "outputs": []
    },
    {
      "metadata": {
        "id": "362vCuHUOWAQ",
        "colab_type": "code",
        "outputId": "8aeff828-8929-4693-9a98-ff9be1fe180f",
        "colab": {
          "base_uri": "https://localhost:8080/",
          "height": 306
        }
      },
      "cell_type": "code",
      "source": [
        "model.summary()"
      ],
      "execution_count": 0,
      "outputs": [
        {
          "output_type": "stream",
          "text": [
            "_________________________________________________________________\n",
            "Layer (type)                 Output Shape              Param #   \n",
            "=================================================================\n",
            "input_10 (InputLayer)        (None, 5, 1)              0         \n",
            "_________________________________________________________________\n",
            "dense_28 (Dense)             (None, 5, 100)            200       \n",
            "_________________________________________________________________\n",
            "lstm_10 (LSTM)               (None, 100)               80400     \n",
            "_________________________________________________________________\n",
            "dense_29 (Dense)             (None, 1000)              101000    \n",
            "_________________________________________________________________\n",
            "dense_30 (Dense)             (None, 1)                 1001      \n",
            "=================================================================\n",
            "Total params: 182,601\n",
            "Trainable params: 182,601\n",
            "Non-trainable params: 0\n",
            "_________________________________________________________________\n"
          ],
          "name": "stdout"
        }
      ]
    },
    {
      "metadata": {
        "id": "KLPma0TGNHVP",
        "colab_type": "code",
        "colab": {}
      },
      "cell_type": "code",
      "source": [
        "cl4 = partial(custom_loss_4, weights=weights_tensor)"
      ],
      "execution_count": 0,
      "outputs": []
    },
    {
      "metadata": {
        "id": "Y75QRpjGNOPH",
        "colab_type": "code",
        "colab": {}
      },
      "cell_type": "code",
      "source": [
        "weights = np.arange(X_train.shape[0]).reshape((X_train.shape[0]),1)/2100"
      ],
      "execution_count": 0,
      "outputs": []
    },
    {
      "metadata": {
        "id": "6MsVuYrVTN-9",
        "colab_type": "code",
        "outputId": "7a38c8c8-a83c-46be-f9c1-4fe96e9a0a13",
        "colab": {
          "base_uri": "https://localhost:8080/",
          "height": 34
        }
      },
      "cell_type": "code",
      "source": [
        "weights.shape"
      ],
      "execution_count": 0,
      "outputs": [
        {
          "output_type": "execute_result",
          "data": {
            "text/plain": [
              "(2100, 1)"
            ]
          },
          "metadata": {
            "tags": []
          },
          "execution_count": 44
        }
      ]
    },
    {
      "metadata": {
        "id": "bNo8ixLMPe7L",
        "colab_type": "code",
        "colab": {}
      },
      "cell_type": "code",
      "source": [
        "from keras.optimizers import Adam\n",
        "adam = Adam(lr=0.0001)"
      ],
      "execution_count": 0,
      "outputs": []
    },
    {
      "metadata": {
        "id": "mwn4qaNgQEcb",
        "colab_type": "code",
        "outputId": "8538f025-4211-4e8c-ae31-ab4056116219",
        "colab": {
          "base_uri": "https://localhost:8080/",
          "height": 34
        }
      },
      "cell_type": "code",
      "source": [
        "y_test.shape"
      ],
      "execution_count": 0,
      "outputs": [
        {
          "output_type": "execute_result",
          "data": {
            "text/plain": [
              "(156,)"
            ]
          },
          "metadata": {
            "tags": []
          },
          "execution_count": 46
        }
      ]
    },
    {
      "metadata": {
        "id": "2y2WkT4eQQ07",
        "colab_type": "code",
        "outputId": "618fd1cc-ff71-4a2f-a0da-881ee3ec8052",
        "colab": {
          "base_uri": "https://localhost:8080/",
          "height": 34
        }
      },
      "cell_type": "code",
      "source": [
        "test_weights = np.ones((156,1))\n",
        "test_weights.shape"
      ],
      "execution_count": 0,
      "outputs": [
        {
          "output_type": "execute_result",
          "data": {
            "text/plain": [
              "(156, 1)"
            ]
          },
          "metadata": {
            "tags": []
          },
          "execution_count": 47
        }
      ]
    },
    {
      "metadata": {
        "id": "o_O7PycSMKKz",
        "colab_type": "code",
        "outputId": "d0828464-d4a2-4268-f2ba-a32018c03238",
        "colab": {
          "base_uri": "https://localhost:8080/",
          "height": 10251
        }
      },
      "cell_type": "code",
      "source": [
        "model = Model([input_layer, weights_tensor], out)\n",
        "model.compile(adam, cl4)\n",
        "model.fit(x=[X_train, weights], y=y_train, epochs=300,batch_size = 32, validation_data = ([X_test, test_weights], y_test))"
      ],
      "execution_count": 0,
      "outputs": [
        {
          "output_type": "stream",
          "text": [
            "Train on 2100 samples, validate on 156 samples\n",
            "Epoch 1/300\n",
            "2100/2100 [==============================] - 2s 960us/step - loss: 236466.8113 - val_loss: 3083762.0705\n",
            "Epoch 2/300\n",
            "2100/2100 [==============================] - 1s 521us/step - loss: 233634.9988 - val_loss: 3061764.0962\n",
            "Epoch 3/300\n",
            "2100/2100 [==============================] - 1s 517us/step - loss: 230096.6852 - val_loss: 3032969.2756\n",
            "Epoch 4/300\n",
            "2100/2100 [==============================] - 1s 515us/step - loss: 225338.9558 - val_loss: 2994600.8077\n",
            "Epoch 5/300\n",
            "2100/2100 [==============================] - 1s 515us/step - loss: 219153.0303 - val_loss: 2942148.1923\n",
            "Epoch 6/300\n",
            "2100/2100 [==============================] - 1s 520us/step - loss: 210532.6862 - val_loss: 2871940.1410\n",
            "Epoch 7/300\n",
            "2100/2100 [==============================] - 1s 514us/step - loss: 200493.8360 - val_loss: 2794864.3141\n",
            "Epoch 8/300\n",
            "2100/2100 [==============================] - 1s 523us/step - loss: 189755.4265 - val_loss: 2712132.6923\n",
            "Epoch 9/300\n",
            "2100/2100 [==============================] - 1s 522us/step - loss: 178564.5004 - val_loss: 2622258.9519\n",
            "Epoch 10/300\n",
            "2100/2100 [==============================] - 1s 515us/step - loss: 166980.5639 - val_loss: 2529741.4776\n",
            "Epoch 11/300\n",
            "2100/2100 [==============================] - 1s 515us/step - loss: 155297.0780 - val_loss: 2433330.6635\n",
            "Epoch 12/300\n",
            "2100/2100 [==============================] - 1s 515us/step - loss: 143668.9998 - val_loss: 2333797.5353\n",
            "Epoch 13/300\n",
            "2100/2100 [==============================] - 1s 518us/step - loss: 132295.2969 - val_loss: 2234735.4199\n",
            "Epoch 14/300\n",
            "2100/2100 [==============================] - 1s 512us/step - loss: 121309.6137 - val_loss: 2133915.9679\n",
            "Epoch 15/300\n",
            "2100/2100 [==============================] - 1s 520us/step - loss: 110548.0369 - val_loss: 2030317.4519\n",
            "Epoch 16/300\n",
            "2100/2100 [==============================] - 1s 544us/step - loss: 100242.2363 - val_loss: 1931090.2596\n",
            "Epoch 17/300\n",
            "2100/2100 [==============================] - 1s 609us/step - loss: 90757.7605 - val_loss: 1834321.8718\n",
            "Epoch 18/300\n",
            "2100/2100 [==============================] - 1s 527us/step - loss: 81845.1950 - val_loss: 1740171.5128\n",
            "Epoch 19/300\n",
            "2100/2100 [==============================] - 1s 523us/step - loss: 73509.2369 - val_loss: 1644939.9840\n",
            "Epoch 20/300\n",
            "2100/2100 [==============================] - 1s 524us/step - loss: 65746.4843 - val_loss: 1554352.0673\n",
            "Epoch 21/300\n",
            "2100/2100 [==============================] - 1s 523us/step - loss: 58750.7876 - val_loss: 1468848.1506\n",
            "Epoch 22/300\n",
            "2100/2100 [==============================] - 1s 526us/step - loss: 52348.2069 - val_loss: 1385921.3814\n",
            "Epoch 23/300\n",
            "2100/2100 [==============================] - 1s 523us/step - loss: 46664.3912 - val_loss: 1309197.1282\n",
            "Epoch 24/300\n",
            "2100/2100 [==============================] - 1s 531us/step - loss: 41432.0645 - val_loss: 1235882.3574\n",
            "Epoch 25/300\n",
            "2100/2100 [==============================] - 1s 525us/step - loss: 36975.5036 - val_loss: 1162618.1186\n",
            "Epoch 26/300\n",
            "2100/2100 [==============================] - 1s 533us/step - loss: 32794.3341 - val_loss: 1096138.6875\n",
            "Epoch 27/300\n",
            "2100/2100 [==============================] - 1s 532us/step - loss: 29160.2317 - val_loss: 1035535.0849\n",
            "Epoch 28/300\n",
            "2100/2100 [==============================] - 1s 528us/step - loss: 26165.0846 - val_loss: 975823.5401\n",
            "Epoch 29/300\n",
            "2100/2100 [==============================] - 1s 528us/step - loss: 23377.0538 - val_loss: 922151.1667\n",
            "Epoch 30/300\n",
            "2100/2100 [==============================] - 1s 521us/step - loss: 20943.8256 - val_loss: 872901.0657\n",
            "Epoch 31/300\n",
            "2100/2100 [==============================] - 1s 525us/step - loss: 18882.6513 - val_loss: 824775.2548\n",
            "Epoch 32/300\n",
            "2100/2100 [==============================] - 1s 525us/step - loss: 16954.7908 - val_loss: 781029.1130\n",
            "Epoch 33/300\n",
            "2100/2100 [==============================] - 1s 532us/step - loss: 15311.2090 - val_loss: 737224.6178\n",
            "Epoch 34/300\n",
            "2100/2100 [==============================] - 1s 545us/step - loss: 13836.9739 - val_loss: 698960.3349\n",
            "Epoch 35/300\n",
            "2100/2100 [==============================] - 1s 528us/step - loss: 12500.1809 - val_loss: 660995.6226\n",
            "Epoch 36/300\n",
            "2100/2100 [==============================] - 1s 525us/step - loss: 11299.9361 - val_loss: 626404.2804\n",
            "Epoch 37/300\n",
            "2100/2100 [==============================] - 1s 530us/step - loss: 10248.2497 - val_loss: 591535.8654\n",
            "Epoch 38/300\n",
            "2100/2100 [==============================] - 1s 525us/step - loss: 9316.8362 - val_loss: 562016.9223\n",
            "Epoch 39/300\n",
            "2100/2100 [==============================] - 1s 523us/step - loss: 8456.0512 - val_loss: 532113.3702\n",
            "Epoch 40/300\n",
            "2100/2100 [==============================] - 1s 527us/step - loss: 7743.2187 - val_loss: 503662.6755\n",
            "Epoch 41/300\n",
            "2100/2100 [==============================] - 1s 526us/step - loss: 7108.6399 - val_loss: 477635.3421\n",
            "Epoch 42/300\n",
            "2100/2100 [==============================] - 1s 528us/step - loss: 6387.7068 - val_loss: 452202.0841\n",
            "Epoch 43/300\n",
            "2100/2100 [==============================] - 1s 533us/step - loss: 5999.4405 - val_loss: 429228.8962\n",
            "Epoch 44/300\n",
            "2100/2100 [==============================] - 1s 524us/step - loss: 5228.0732 - val_loss: 405102.9563\n",
            "Epoch 45/300\n",
            "2100/2100 [==============================] - 1s 526us/step - loss: 4742.3995 - val_loss: 383652.9355\n",
            "Epoch 46/300\n",
            "2100/2100 [==============================] - 1s 530us/step - loss: 4276.7391 - val_loss: 363324.3217\n",
            "Epoch 47/300\n",
            "2100/2100 [==============================] - 1s 540us/step - loss: 4000.4634 - val_loss: 343185.0601\n",
            "Epoch 48/300\n",
            "2100/2100 [==============================] - 1s 537us/step - loss: 3674.4235 - val_loss: 325803.2488\n",
            "Epoch 49/300\n",
            "2100/2100 [==============================] - 1s 528us/step - loss: 3369.1531 - val_loss: 308909.6575\n",
            "Epoch 50/300\n",
            "2100/2100 [==============================] - 1s 533us/step - loss: 3533.5849 - val_loss: 295673.0869\n",
            "Epoch 51/300\n",
            "2100/2100 [==============================] - 1s 528us/step - loss: 2614.0677 - val_loss: 278697.5481\n",
            "Epoch 52/300\n",
            "2100/2100 [==============================] - 1s 525us/step - loss: 2324.5428 - val_loss: 263888.8628\n",
            "Epoch 53/300\n",
            "2100/2100 [==============================] - 1s 529us/step - loss: 2082.5117 - val_loss: 249340.0964\n",
            "Epoch 54/300\n",
            "2100/2100 [==============================] - 1s 524us/step - loss: 1885.0949 - val_loss: 236136.7210\n",
            "Epoch 55/300\n",
            "2100/2100 [==============================] - 1s 517us/step - loss: 1671.6229 - val_loss: 224545.9876\n",
            "Epoch 56/300\n",
            "2100/2100 [==============================] - 1s 524us/step - loss: 1484.6350 - val_loss: 212274.6673\n",
            "Epoch 57/300\n",
            "2100/2100 [==============================] - 1s 528us/step - loss: 1333.3472 - val_loss: 201936.3564\n",
            "Epoch 58/300\n",
            "2100/2100 [==============================] - 1s 520us/step - loss: 1220.2961 - val_loss: 191018.1508\n",
            "Epoch 59/300\n",
            "2100/2100 [==============================] - 1s 522us/step - loss: 1174.8101 - val_loss: 182369.3862\n",
            "Epoch 60/300\n",
            "2100/2100 [==============================] - 1s 532us/step - loss: 1012.8209 - val_loss: 173645.4599\n",
            "Epoch 61/300\n",
            "2100/2100 [==============================] - 1s 526us/step - loss: 879.4399 - val_loss: 164780.8959\n",
            "Epoch 62/300\n",
            "2100/2100 [==============================] - 1s 529us/step - loss: 846.5285 - val_loss: 157906.4494\n",
            "Epoch 63/300\n",
            "2100/2100 [==============================] - 1s 524us/step - loss: 777.8110 - val_loss: 150415.6630\n",
            "Epoch 64/300\n",
            "2100/2100 [==============================] - 1s 523us/step - loss: 733.8451 - val_loss: 143694.7831\n",
            "Epoch 65/300\n",
            "2100/2100 [==============================] - 1s 528us/step - loss: 729.6064 - val_loss: 138236.6349\n",
            "Epoch 66/300\n",
            "2100/2100 [==============================] - 1s 521us/step - loss: 1092.6011 - val_loss: 182336.6922\n",
            "Epoch 67/300\n",
            "2100/2100 [==============================] - 1s 520us/step - loss: 997.2317 - val_loss: 170334.9282\n",
            "Epoch 68/300\n",
            "2100/2100 [==============================] - 1s 519us/step - loss: 794.1774 - val_loss: 159463.2726\n",
            "Epoch 69/300\n",
            "2100/2100 [==============================] - 1s 527us/step - loss: 743.1609 - val_loss: 150548.4346\n",
            "Epoch 70/300\n",
            "2100/2100 [==============================] - 1s 524us/step - loss: 654.9703 - val_loss: 142841.7871\n",
            "Epoch 71/300\n",
            "2100/2100 [==============================] - 1s 521us/step - loss: 540.2311 - val_loss: 135486.9262\n",
            "Epoch 72/300\n",
            "2100/2100 [==============================] - 1s 523us/step - loss: 486.9828 - val_loss: 129288.2995\n",
            "Epoch 73/300\n",
            "2100/2100 [==============================] - 1s 528us/step - loss: 441.7185 - val_loss: 122686.5749\n",
            "Epoch 74/300\n",
            "2100/2100 [==============================] - 1s 520us/step - loss: 377.9462 - val_loss: 117157.6665\n",
            "Epoch 75/300\n",
            "2100/2100 [==============================] - 1s 523us/step - loss: 368.9361 - val_loss: 112893.1541\n",
            "Epoch 76/300\n",
            "2100/2100 [==============================] - 1s 526us/step - loss: 364.9224 - val_loss: 107872.8710\n",
            "Epoch 77/300\n",
            "2100/2100 [==============================] - 1s 543us/step - loss: 404.6092 - val_loss: 104516.7164\n",
            "Epoch 78/300\n",
            "2100/2100 [==============================] - 1s 538us/step - loss: 610.6967 - val_loss: 110469.9704\n",
            "Epoch 79/300\n",
            "2100/2100 [==============================] - 1s 525us/step - loss: 319.0421 - val_loss: 98250.7594\n",
            "Epoch 80/300\n",
            "2100/2100 [==============================] - 1s 525us/step - loss: 266.2415 - val_loss: 93760.7805\n",
            "Epoch 81/300\n",
            "2100/2100 [==============================] - 1s 539us/step - loss: 452.2349 - val_loss: 90243.4485\n",
            "Epoch 82/300\n",
            "2100/2100 [==============================] - 1s 526us/step - loss: 340.1925 - val_loss: 90549.0800\n",
            "Epoch 83/300\n",
            "2100/2100 [==============================] - 1s 522us/step - loss: 260.0406 - val_loss: 86138.2424\n",
            "Epoch 84/300\n",
            "2100/2100 [==============================] - 1s 528us/step - loss: 216.6733 - val_loss: 83644.0160\n",
            "Epoch 85/300\n",
            "2100/2100 [==============================] - 1s 528us/step - loss: 261.5569 - val_loss: 81741.9220\n",
            "Epoch 86/300\n",
            "2100/2100 [==============================] - 1s 522us/step - loss: 282.8139 - val_loss: 79899.1712\n",
            "Epoch 87/300\n",
            "2100/2100 [==============================] - 1s 552us/step - loss: 329.0389 - val_loss: 78476.0109\n",
            "Epoch 88/300\n",
            "2100/2100 [==============================] - 1s 564us/step - loss: 737.4145 - val_loss: 151244.7916\n",
            "Epoch 89/300\n",
            "2100/2100 [==============================] - 1s 532us/step - loss: 1221.0433 - val_loss: 110343.7183\n",
            "Epoch 90/300\n",
            "2100/2100 [==============================] - 1s 527us/step - loss: 325.3752 - val_loss: 101586.0466\n",
            "Epoch 91/300\n",
            "2100/2100 [==============================] - 1s 523us/step - loss: 245.6960 - val_loss: 96973.5829\n",
            "Epoch 92/300\n",
            "2100/2100 [==============================] - 1s 534us/step - loss: 229.2386 - val_loss: 93581.8789\n",
            "Epoch 93/300\n",
            "2100/2100 [==============================] - 1s 522us/step - loss: 247.5402 - val_loss: 89790.8127\n",
            "Epoch 94/300\n",
            "2100/2100 [==============================] - 1s 527us/step - loss: 252.3632 - val_loss: 95748.2093\n",
            "Epoch 95/300\n",
            "2100/2100 [==============================] - 1s 526us/step - loss: 648.0318 - val_loss: 83667.2332\n",
            "Epoch 96/300\n",
            "2100/2100 [==============================] - 1s 529us/step - loss: 267.0237 - val_loss: 80279.9923\n",
            "Epoch 97/300\n",
            "2100/2100 [==============================] - 1s 522us/step - loss: 244.3597 - val_loss: 79029.2569\n",
            "Epoch 98/300\n",
            "2100/2100 [==============================] - 1s 526us/step - loss: 203.5516 - val_loss: 75451.0054\n",
            "Epoch 99/300\n",
            "2100/2100 [==============================] - 1s 527us/step - loss: 289.6360 - val_loss: 73254.1472\n",
            "Epoch 100/300\n",
            "2100/2100 [==============================] - 1s 537us/step - loss: 313.1628 - val_loss: 111740.1006\n",
            "Epoch 101/300\n",
            "2100/2100 [==============================] - 1s 528us/step - loss: 393.8457 - val_loss: 102848.7300\n",
            "Epoch 102/300\n",
            "2100/2100 [==============================] - 1s 527us/step - loss: 418.9640 - val_loss: 96793.2378\n",
            "Epoch 103/300\n",
            "2100/2100 [==============================] - 1s 529us/step - loss: 368.6375 - val_loss: 91727.9790\n",
            "Epoch 104/300\n",
            "2100/2100 [==============================] - 1s 532us/step - loss: 276.8403 - val_loss: 87170.6044\n",
            "Epoch 105/300\n",
            "2100/2100 [==============================] - 1s 543us/step - loss: 211.2795 - val_loss: 84756.5572\n",
            "Epoch 106/300\n",
            "2100/2100 [==============================] - 1s 529us/step - loss: 227.1093 - val_loss: 79609.8882\n",
            "Epoch 107/300\n",
            "2100/2100 [==============================] - 1s 525us/step - loss: 243.3356 - val_loss: 79026.6932\n",
            "Epoch 108/300\n",
            "2100/2100 [==============================] - 1s 558us/step - loss: 172.8871 - val_loss: 74488.7553\n",
            "Epoch 109/300\n",
            "2100/2100 [==============================] - 1s 544us/step - loss: 425.5373 - val_loss: 103984.4224\n",
            "Epoch 110/300\n",
            "2100/2100 [==============================] - 1s 568us/step - loss: 749.1458 - val_loss: 137841.2206\n",
            "Epoch 111/300\n",
            "2100/2100 [==============================] - 1s 579us/step - loss: 659.1933 - val_loss: 119964.4222\n",
            "Epoch 112/300\n",
            "2100/2100 [==============================] - 1s 581us/step - loss: 427.7284 - val_loss: 106871.5288\n",
            "Epoch 113/300\n",
            "2100/2100 [==============================] - 1s 581us/step - loss: 322.1464 - val_loss: 98209.0518\n",
            "Epoch 114/300\n",
            "2100/2100 [==============================] - 1s 578us/step - loss: 278.8830 - val_loss: 91635.5103\n",
            "Epoch 115/300\n",
            "2100/2100 [==============================] - 1s 586us/step - loss: 224.3691 - val_loss: 84950.6057\n",
            "Epoch 116/300\n",
            "2100/2100 [==============================] - 1s 582us/step - loss: 205.4836 - val_loss: 80487.4709\n",
            "Epoch 117/300\n",
            "2100/2100 [==============================] - 1s 585us/step - loss: 211.0473 - val_loss: 76699.8338\n",
            "Epoch 118/300\n",
            "2100/2100 [==============================] - 1s 558us/step - loss: 187.4422 - val_loss: 73502.2320\n",
            "Epoch 119/300\n",
            "2100/2100 [==============================] - 1s 524us/step - loss: 402.5146 - val_loss: 102011.2316\n",
            "Epoch 120/300\n",
            "2100/2100 [==============================] - 1s 526us/step - loss: 205.2292 - val_loss: 65152.9047\n",
            "Epoch 121/300\n",
            "2100/2100 [==============================] - 1s 533us/step - loss: 226.5859 - val_loss: 62672.2338\n",
            "Epoch 122/300\n",
            "2100/2100 [==============================] - 1s 527us/step - loss: 171.2413 - val_loss: 59757.8847\n",
            "Epoch 123/300\n",
            "2100/2100 [==============================] - 1s 529us/step - loss: 271.1700 - val_loss: 63009.5515\n",
            "Epoch 124/300\n",
            "2100/2100 [==============================] - 1s 531us/step - loss: 192.6451 - val_loss: 60545.3306\n",
            "Epoch 125/300\n",
            "2100/2100 [==============================] - 1s 527us/step - loss: 210.3364 - val_loss: 61024.4150\n",
            "Epoch 126/300\n",
            "2100/2100 [==============================] - 1s 532us/step - loss: 204.1931 - val_loss: 57376.2354\n",
            "Epoch 127/300\n",
            "2100/2100 [==============================] - 1s 529us/step - loss: 173.8879 - val_loss: 59373.7873\n",
            "Epoch 128/300\n",
            "2100/2100 [==============================] - 1s 532us/step - loss: 338.6659 - val_loss: 57058.6471\n",
            "Epoch 129/300\n",
            "2100/2100 [==============================] - 1s 530us/step - loss: 263.6440 - val_loss: 54420.7662\n",
            "Epoch 130/300\n",
            "2100/2100 [==============================] - 1s 528us/step - loss: 224.8444 - val_loss: 54077.5291\n",
            "Epoch 131/300\n",
            "2100/2100 [==============================] - 1s 529us/step - loss: 317.9314 - val_loss: 51148.5729\n",
            "Epoch 132/300\n",
            "2100/2100 [==============================] - 1s 533us/step - loss: 138.7814 - val_loss: 51103.5659\n",
            "Epoch 133/300\n",
            "2100/2100 [==============================] - 1s 524us/step - loss: 179.2038 - val_loss: 63471.8838\n",
            "Epoch 134/300\n",
            "2100/2100 [==============================] - 1s 533us/step - loss: 218.5201 - val_loss: 50512.8720\n",
            "Epoch 135/300\n",
            "2100/2100 [==============================] - 1s 535us/step - loss: 507.2462 - val_loss: 82728.7579\n",
            "Epoch 136/300\n",
            "2100/2100 [==============================] - 1s 526us/step - loss: 177.7823 - val_loss: 75111.7710\n",
            "Epoch 137/300\n",
            "2100/2100 [==============================] - 1s 527us/step - loss: 156.6202 - val_loss: 49387.2884\n",
            "Epoch 138/300\n",
            "2100/2100 [==============================] - 1s 535us/step - loss: 113.7704 - val_loss: 53605.2374\n",
            "Epoch 139/300\n",
            "2100/2100 [==============================] - 1s 548us/step - loss: 162.8442 - val_loss: 46325.3348\n",
            "Epoch 140/300\n",
            "2100/2100 [==============================] - 1s 536us/step - loss: 156.2276 - val_loss: 52554.7904\n",
            "Epoch 141/300\n",
            "2100/2100 [==============================] - 1s 549us/step - loss: 358.7966 - val_loss: 45606.2859\n",
            "Epoch 142/300\n",
            "2100/2100 [==============================] - 1s 527us/step - loss: 190.7434 - val_loss: 45486.4592\n",
            "Epoch 143/300\n",
            "2100/2100 [==============================] - 1s 530us/step - loss: 172.6447 - val_loss: 45988.9113\n",
            "Epoch 144/300\n",
            "2100/2100 [==============================] - 1s 532us/step - loss: 365.0623 - val_loss: 123383.2060\n",
            "Epoch 145/300\n",
            "2100/2100 [==============================] - 1s 531us/step - loss: 472.0737 - val_loss: 102766.5449\n",
            "Epoch 146/300\n",
            "2100/2100 [==============================] - 1s 527us/step - loss: 391.4180 - val_loss: 94290.1727\n",
            "Epoch 147/300\n",
            "2100/2100 [==============================] - 1s 527us/step - loss: 279.4196 - val_loss: 82526.3526\n",
            "Epoch 148/300\n",
            "2100/2100 [==============================] - 1s 530us/step - loss: 199.2046 - val_loss: 77262.2676\n",
            "Epoch 149/300\n",
            "2100/2100 [==============================] - 1s 535us/step - loss: 295.9855 - val_loss: 45951.6662\n",
            "Epoch 150/300\n",
            "2100/2100 [==============================] - 1s 525us/step - loss: 208.1145 - val_loss: 46980.3973\n",
            "Epoch 151/300\n",
            "2100/2100 [==============================] - 1s 529us/step - loss: 208.6415 - val_loss: 45941.9055\n",
            "Epoch 152/300\n",
            "2100/2100 [==============================] - 1s 536us/step - loss: 203.1908 - val_loss: 43810.6084\n",
            "Epoch 153/300\n",
            "2100/2100 [==============================] - 1s 534us/step - loss: 196.1262 - val_loss: 45794.7326\n",
            "Epoch 154/300\n",
            "2100/2100 [==============================] - 1s 526us/step - loss: 186.5966 - val_loss: 45013.5238\n",
            "Epoch 155/300\n",
            "2100/2100 [==============================] - 1s 529us/step - loss: 143.1997 - val_loss: 46192.3637\n",
            "Epoch 156/300\n",
            "2100/2100 [==============================] - 1s 536us/step - loss: 609.0266 - val_loss: 53835.6152\n",
            "Epoch 157/300\n",
            "2100/2100 [==============================] - 1s 529us/step - loss: 361.3270 - val_loss: 46136.1738\n",
            "Epoch 158/300\n",
            "2100/2100 [==============================] - 1s 532us/step - loss: 166.9644 - val_loss: 45617.6701\n",
            "Epoch 159/300\n",
            "2100/2100 [==============================] - 1s 533us/step - loss: 124.1945 - val_loss: 49606.8563\n",
            "Epoch 160/300\n",
            "2100/2100 [==============================] - 1s 527us/step - loss: 186.5320 - val_loss: 45809.4568\n",
            "Epoch 161/300\n",
            "2100/2100 [==============================] - 1s 531us/step - loss: 155.8343 - val_loss: 45008.1394\n",
            "Epoch 162/300\n",
            "2100/2100 [==============================] - 1s 542us/step - loss: 218.6480 - val_loss: 46184.6536\n",
            "Epoch 163/300\n",
            "2100/2100 [==============================] - 1s 531us/step - loss: 234.5851 - val_loss: 46911.5791\n",
            "Epoch 164/300\n",
            "2100/2100 [==============================] - 1s 530us/step - loss: 147.7576 - val_loss: 45737.9928\n",
            "Epoch 165/300\n",
            "2100/2100 [==============================] - 1s 528us/step - loss: 169.2543 - val_loss: 44426.3154\n",
            "Epoch 166/300\n",
            "2100/2100 [==============================] - 1s 526us/step - loss: 132.4737 - val_loss: 44423.6196\n",
            "Epoch 167/300\n",
            "2100/2100 [==============================] - 1s 562us/step - loss: 304.1429 - val_loss: 44605.6016\n",
            "Epoch 168/300\n",
            "2100/2100 [==============================] - 1s 549us/step - loss: 268.8055 - val_loss: 51728.3811\n",
            "Epoch 169/300\n",
            "2100/2100 [==============================] - 1s 558us/step - loss: 544.5089 - val_loss: 68476.6430\n",
            "Epoch 170/300\n",
            "2100/2100 [==============================] - 1s 553us/step - loss: 166.8771 - val_loss: 43948.2367\n",
            "Epoch 171/300\n",
            "2100/2100 [==============================] - 1s 531us/step - loss: 127.1443 - val_loss: 40433.8347\n",
            "Epoch 172/300\n",
            "2100/2100 [==============================] - 1s 529us/step - loss: 142.9345 - val_loss: 40483.5471\n",
            "Epoch 173/300\n",
            "2100/2100 [==============================] - 1s 527us/step - loss: 156.6705 - val_loss: 40763.0095\n",
            "Epoch 174/300\n",
            "2100/2100 [==============================] - 1s 536us/step - loss: 125.3799 - val_loss: 41029.9281\n",
            "Epoch 175/300\n",
            "2100/2100 [==============================] - 1s 551us/step - loss: 161.7923 - val_loss: 41204.8835\n",
            "Epoch 176/300\n",
            "2100/2100 [==============================] - 1s 535us/step - loss: 316.6494 - val_loss: 46945.3788\n",
            "Epoch 177/300\n",
            "2100/2100 [==============================] - 1s 532us/step - loss: 148.1536 - val_loss: 42731.1103\n",
            "Epoch 178/300\n",
            "2100/2100 [==============================] - 1s 526us/step - loss: 265.9883 - val_loss: 38114.5782\n",
            "Epoch 179/300\n",
            "2100/2100 [==============================] - 1s 530us/step - loss: 175.0716 - val_loss: 48908.0853\n",
            "Epoch 180/300\n",
            "2100/2100 [==============================] - 1s 532us/step - loss: 177.9350 - val_loss: 49113.4473\n",
            "Epoch 181/300\n",
            "2100/2100 [==============================] - 1s 533us/step - loss: 209.6424 - val_loss: 44764.8363\n",
            "Epoch 182/300\n",
            "2100/2100 [==============================] - 1s 532us/step - loss: 141.7562 - val_loss: 42780.3624\n",
            "Epoch 183/300\n",
            "2100/2100 [==============================] - 1s 537us/step - loss: 127.8402 - val_loss: 41930.3158\n",
            "Epoch 184/300\n",
            "2100/2100 [==============================] - 1s 531us/step - loss: 204.4927 - val_loss: 48127.7237\n",
            "Epoch 185/300\n",
            "2100/2100 [==============================] - 1s 543us/step - loss: 156.3327 - val_loss: 45742.0281\n",
            "Epoch 186/300\n",
            "2100/2100 [==============================] - 1s 532us/step - loss: 215.8541 - val_loss: 40704.7594\n",
            "Epoch 187/300\n",
            "2100/2100 [==============================] - 1s 542us/step - loss: 178.5702 - val_loss: 42960.6373\n",
            "Epoch 188/300\n",
            "2100/2100 [==============================] - 1s 548us/step - loss: 177.8118 - val_loss: 42038.8827\n",
            "Epoch 189/300\n",
            "2100/2100 [==============================] - 1s 550us/step - loss: 273.3209 - val_loss: 47377.6994\n",
            "Epoch 190/300\n",
            "2100/2100 [==============================] - 1s 534us/step - loss: 231.3290 - val_loss: 41857.5951\n",
            "Epoch 191/300\n",
            "2100/2100 [==============================] - 1s 548us/step - loss: 249.3681 - val_loss: 44973.5882\n",
            "Epoch 192/300\n",
            "2100/2100 [==============================] - 1s 543us/step - loss: 165.4649 - val_loss: 48840.7993\n",
            "Epoch 193/300\n",
            "2100/2100 [==============================] - 1s 559us/step - loss: 142.9569 - val_loss: 67951.7706\n",
            "Epoch 194/300\n",
            "2100/2100 [==============================] - 1s 552us/step - loss: 196.6194 - val_loss: 65599.6335\n",
            "Epoch 195/300\n",
            "2100/2100 [==============================] - 1s 528us/step - loss: 147.9162 - val_loss: 63695.2501\n",
            "Epoch 196/300\n",
            "2100/2100 [==============================] - 1s 530us/step - loss: 177.4603 - val_loss: 61628.1471\n",
            "Epoch 197/300\n",
            "2100/2100 [==============================] - 1s 530us/step - loss: 157.2632 - val_loss: 59190.1556\n",
            "Epoch 198/300\n",
            "2100/2100 [==============================] - 1s 548us/step - loss: 190.5050 - val_loss: 59948.3137\n",
            "Epoch 199/300\n",
            "2100/2100 [==============================] - 1s 534us/step - loss: 256.8039 - val_loss: 65633.4107\n",
            "Epoch 200/300\n",
            "2100/2100 [==============================] - 1s 534us/step - loss: 326.3536 - val_loss: 57338.0624\n",
            "Epoch 201/300\n",
            "2100/2100 [==============================] - 1s 555us/step - loss: 208.3166 - val_loss: 51211.0473\n",
            "Epoch 202/300\n",
            "2100/2100 [==============================] - 1s 547us/step - loss: 405.5514 - val_loss: 82662.3713\n",
            "Epoch 203/300\n",
            "2100/2100 [==============================] - 1s 528us/step - loss: 175.2003 - val_loss: 75736.2015\n",
            "Epoch 204/300\n",
            "2100/2100 [==============================] - 1s 546us/step - loss: 266.3780 - val_loss: 72599.4197\n",
            "Epoch 205/300\n",
            "2100/2100 [==============================] - 1s 539us/step - loss: 153.0187 - val_loss: 69033.2171\n",
            "Epoch 206/300\n",
            "2100/2100 [==============================] - 1s 537us/step - loss: 220.0917 - val_loss: 66704.1735\n",
            "Epoch 207/300\n",
            "2100/2100 [==============================] - 1s 551us/step - loss: 143.4365 - val_loss: 63272.0990\n",
            "Epoch 208/300\n",
            "2100/2100 [==============================] - 1s 564us/step - loss: 194.9419 - val_loss: 62601.2360\n",
            "Epoch 209/300\n",
            "2100/2100 [==============================] - 1s 556us/step - loss: 357.2305 - val_loss: 60316.1618\n",
            "Epoch 210/300\n",
            "2100/2100 [==============================] - 1s 559us/step - loss: 167.8905 - val_loss: 60679.3974\n",
            "Epoch 211/300\n",
            "2100/2100 [==============================] - 1s 566us/step - loss: 244.6056 - val_loss: 59007.9621\n",
            "Epoch 212/300\n",
            "2100/2100 [==============================] - 1s 554us/step - loss: 149.2426 - val_loss: 56870.1517\n",
            "Epoch 213/300\n",
            "2100/2100 [==============================] - 1s 557us/step - loss: 168.5889 - val_loss: 54906.5245\n",
            "Epoch 214/300\n",
            "2100/2100 [==============================] - 1s 541us/step - loss: 232.6074 - val_loss: 54230.7325\n",
            "Epoch 215/300\n",
            "2100/2100 [==============================] - 1s 568us/step - loss: 150.9068 - val_loss: 52767.2172\n",
            "Epoch 216/300\n",
            "2100/2100 [==============================] - 1s 549us/step - loss: 152.8281 - val_loss: 52216.8085\n",
            "Epoch 217/300\n",
            "2100/2100 [==============================] - 1s 551us/step - loss: 152.6254 - val_loss: 40655.4607\n",
            "Epoch 218/300\n",
            "2100/2100 [==============================] - 1s 548us/step - loss: 291.7556 - val_loss: 60710.0784\n",
            "Epoch 219/300\n",
            "2100/2100 [==============================] - 1s 540us/step - loss: 259.1488 - val_loss: 34629.3873\n",
            "Epoch 220/300\n",
            "2100/2100 [==============================] - 1s 544us/step - loss: 379.1801 - val_loss: 83797.9594\n",
            "Epoch 221/300\n",
            "2100/2100 [==============================] - 1s 543us/step - loss: 197.8481 - val_loss: 65249.3005\n",
            "Epoch 222/300\n",
            "2100/2100 [==============================] - 1s 536us/step - loss: 209.1476 - val_loss: 67192.1522\n",
            "Epoch 223/300\n",
            "2100/2100 [==============================] - 1s 526us/step - loss: 173.5685 - val_loss: 62153.1191\n",
            "Epoch 224/300\n",
            "2100/2100 [==============================] - 1s 549us/step - loss: 241.6623 - val_loss: 62557.5781\n",
            "Epoch 225/300\n",
            "2100/2100 [==============================] - 1s 547us/step - loss: 142.5427 - val_loss: 58920.2808\n",
            "Epoch 226/300\n",
            "2100/2100 [==============================] - 1s 540us/step - loss: 116.9488 - val_loss: 54888.4136\n",
            "Epoch 227/300\n",
            "2100/2100 [==============================] - 1s 546us/step - loss: 156.9954 - val_loss: 49086.1654\n",
            "Epoch 228/300\n",
            "2100/2100 [==============================] - 1s 560us/step - loss: 180.3805 - val_loss: 51900.4163\n",
            "Epoch 229/300\n",
            "2100/2100 [==============================] - 1s 535us/step - loss: 136.9857 - val_loss: 45559.5704\n",
            "Epoch 230/300\n",
            "2100/2100 [==============================] - 1s 529us/step - loss: 146.8828 - val_loss: 40295.0051\n",
            "Epoch 231/300\n",
            "2100/2100 [==============================] - 1s 519us/step - loss: 441.6036 - val_loss: 73595.9306\n",
            "Epoch 232/300\n",
            "2100/2100 [==============================] - 1s 516us/step - loss: 249.2264 - val_loss: 64624.8532\n",
            "Epoch 233/300\n",
            "2100/2100 [==============================] - 1s 528us/step - loss: 127.1918 - val_loss: 44006.3767\n",
            "Epoch 234/300\n",
            "2100/2100 [==============================] - 1s 518us/step - loss: 310.6626 - val_loss: 62187.7212\n",
            "Epoch 235/300\n",
            "2100/2100 [==============================] - 1s 516us/step - loss: 156.1455 - val_loss: 38093.2150\n",
            "Epoch 236/300\n",
            "2100/2100 [==============================] - 1s 516us/step - loss: 113.2158 - val_loss: 37507.5475\n",
            "Epoch 237/300\n",
            "2100/2100 [==============================] - 1s 516us/step - loss: 150.0406 - val_loss: 36136.5157\n",
            "Epoch 238/300\n",
            "2100/2100 [==============================] - 1s 516us/step - loss: 146.9535 - val_loss: 34225.8485\n",
            "Epoch 239/300\n",
            "2100/2100 [==============================] - 1s 515us/step - loss: 112.7217 - val_loss: 34540.8124\n",
            "Epoch 240/300\n",
            "2100/2100 [==============================] - 1s 520us/step - loss: 249.5520 - val_loss: 71238.5111\n",
            "Epoch 241/300\n",
            "2100/2100 [==============================] - 1s 523us/step - loss: 209.9290 - val_loss: 76695.4699\n",
            "Epoch 242/300\n",
            "2100/2100 [==============================] - 1s 537us/step - loss: 190.4749 - val_loss: 58450.7501\n",
            "Epoch 243/300\n",
            "2100/2100 [==============================] - 1s 523us/step - loss: 127.1513 - val_loss: 56331.2187\n",
            "Epoch 244/300\n",
            "2100/2100 [==============================] - 1s 523us/step - loss: 193.9184 - val_loss: 55881.1270\n",
            "Epoch 245/300\n",
            "2100/2100 [==============================] - 1s 529us/step - loss: 132.1341 - val_loss: 73697.9161\n",
            "Epoch 246/300\n",
            "2100/2100 [==============================] - 1s 528us/step - loss: 147.3617 - val_loss: 69574.6831\n",
            "Epoch 247/300\n",
            "2100/2100 [==============================] - 1s 537us/step - loss: 560.2162 - val_loss: 73828.4367\n",
            "Epoch 248/300\n",
            "2100/2100 [==============================] - 1s 549us/step - loss: 243.9440 - val_loss: 65698.5984\n",
            "Epoch 249/300\n",
            "2100/2100 [==============================] - 1s 522us/step - loss: 120.5746 - val_loss: 62943.3419\n",
            "Epoch 250/300\n",
            "2100/2100 [==============================] - 1s 514us/step - loss: 111.4778 - val_loss: 61863.1018\n",
            "Epoch 251/300\n",
            "2100/2100 [==============================] - 1s 521us/step - loss: 136.3627 - val_loss: 42491.9487\n",
            "Epoch 252/300\n",
            "2100/2100 [==============================] - 1s 513us/step - loss: 130.5284 - val_loss: 57102.8714\n",
            "Epoch 253/300\n",
            "2100/2100 [==============================] - 1s 524us/step - loss: 174.7613 - val_loss: 48899.0411\n",
            "Epoch 254/300\n",
            "2100/2100 [==============================] - 1s 518us/step - loss: 149.0562 - val_loss: 37160.5510\n",
            "Epoch 255/300\n",
            "2100/2100 [==============================] - 1s 519us/step - loss: 241.0256 - val_loss: 56661.6923\n",
            "Epoch 256/300\n",
            "2100/2100 [==============================] - 1s 513us/step - loss: 208.0134 - val_loss: 40590.0272\n",
            "Epoch 257/300\n",
            "2100/2100 [==============================] - 1s 524us/step - loss: 252.6800 - val_loss: 34792.9817\n",
            "Epoch 258/300\n",
            "2100/2100 [==============================] - 1s 513us/step - loss: 142.1520 - val_loss: 55436.8612\n",
            "Epoch 259/300\n",
            "2100/2100 [==============================] - 1s 531us/step - loss: 147.0250 - val_loss: 54734.5058\n",
            "Epoch 260/300\n",
            "2100/2100 [==============================] - 1s 526us/step - loss: 126.7600 - val_loss: 53672.9221\n",
            "Epoch 261/300\n",
            "2100/2100 [==============================] - 1s 522us/step - loss: 181.8461 - val_loss: 54639.1602\n",
            "Epoch 262/300\n",
            "2100/2100 [==============================] - 1s 524us/step - loss: 130.6836 - val_loss: 53133.6591\n",
            "Epoch 263/300\n",
            "2100/2100 [==============================] - 1s 519us/step - loss: 179.1663 - val_loss: 58073.6262\n",
            "Epoch 264/300\n",
            "2100/2100 [==============================] - 1s 530us/step - loss: 381.6672 - val_loss: 55771.2376\n",
            "Epoch 265/300\n",
            "2100/2100 [==============================] - 1s 523us/step - loss: 213.8050 - val_loss: 54121.5004\n",
            "Epoch 266/300\n",
            "2100/2100 [==============================] - 1s 527us/step - loss: 120.7771 - val_loss: 51329.1686\n",
            "Epoch 267/300\n",
            "2100/2100 [==============================] - 1s 523us/step - loss: 107.4656 - val_loss: 51344.6152\n",
            "Epoch 268/300\n",
            "2100/2100 [==============================] - 1s 580us/step - loss: 156.7441 - val_loss: 50025.3544\n",
            "Epoch 269/300\n",
            "2100/2100 [==============================] - 1s 585us/step - loss: 139.8913 - val_loss: 49782.1623\n",
            "Epoch 270/300\n",
            "2100/2100 [==============================] - 1s 587us/step - loss: 124.1171 - val_loss: 48307.3768\n",
            "Epoch 271/300\n",
            "2100/2100 [==============================] - 1s 590us/step - loss: 154.0853 - val_loss: 49632.7507\n",
            "Epoch 272/300\n",
            "2100/2100 [==============================] - 1s 553us/step - loss: 281.6315 - val_loss: 59728.9652\n",
            "Epoch 273/300\n",
            "2100/2100 [==============================] - 1s 535us/step - loss: 286.6306 - val_loss: 50888.0070\n",
            "Epoch 274/300\n",
            "2100/2100 [==============================] - 1s 527us/step - loss: 114.8454 - val_loss: 47848.7829\n",
            "Epoch 275/300\n",
            "2100/2100 [==============================] - 1s 551us/step - loss: 163.8472 - val_loss: 35101.2650\n",
            "Epoch 276/300\n",
            "2100/2100 [==============================] - 1s 530us/step - loss: 155.9182 - val_loss: 49889.7190\n",
            "Epoch 277/300\n",
            "2100/2100 [==============================] - 1s 530us/step - loss: 124.7085 - val_loss: 48805.4188\n",
            "Epoch 278/300\n",
            "2100/2100 [==============================] - 1s 534us/step - loss: 118.9639 - val_loss: 48916.5024\n",
            "Epoch 279/300\n",
            "2100/2100 [==============================] - 1s 563us/step - loss: 130.2812 - val_loss: 48506.1871\n",
            "Epoch 280/300\n",
            "2100/2100 [==============================] - 1s 554us/step - loss: 184.3506 - val_loss: 48893.9078\n",
            "Epoch 281/300\n",
            "2100/2100 [==============================] - 1s 547us/step - loss: 170.8804 - val_loss: 52776.8604\n",
            "Epoch 282/300\n",
            "2100/2100 [==============================] - 1s 564us/step - loss: 427.2027 - val_loss: 58069.7533\n",
            "Epoch 283/300\n",
            "2100/2100 [==============================] - 1s 557us/step - loss: 132.4296 - val_loss: 51202.1628\n",
            "Epoch 284/300\n",
            "2100/2100 [==============================] - 1s 560us/step - loss: 121.5471 - val_loss: 46903.4414\n",
            "Epoch 285/300\n",
            "2100/2100 [==============================] - 1s 557us/step - loss: 100.8737 - val_loss: 46674.0335\n",
            "Epoch 286/300\n",
            "2100/2100 [==============================] - 1s 548us/step - loss: 217.3415 - val_loss: 46101.4448\n",
            "Epoch 287/300\n",
            "2100/2100 [==============================] - 1s 518us/step - loss: 211.8823 - val_loss: 47748.0344\n",
            "Epoch 288/300\n",
            "2100/2100 [==============================] - 1s 526us/step - loss: 141.6408 - val_loss: 50668.6454\n",
            "Epoch 289/300\n",
            "2100/2100 [==============================] - 1s 554us/step - loss: 168.4625 - val_loss: 60960.9481\n",
            "Epoch 290/300\n",
            "2100/2100 [==============================] - 1s 545us/step - loss: 311.7560 - val_loss: 47607.7387\n",
            "Epoch 291/300\n",
            "2100/2100 [==============================] - 1s 546us/step - loss: 140.5495 - val_loss: 46082.2039\n",
            "Epoch 292/300\n",
            "2100/2100 [==============================] - 1s 562us/step - loss: 386.6984 - val_loss: 83452.5678\n",
            "Epoch 293/300\n",
            "2100/2100 [==============================] - 1s 551us/step - loss: 190.0052 - val_loss: 46857.2994\n",
            "Epoch 294/300\n",
            "2100/2100 [==============================] - 1s 565us/step - loss: 178.2524 - val_loss: 41804.6906\n",
            "Epoch 295/300\n",
            "2100/2100 [==============================] - 1s 563us/step - loss: 105.3031 - val_loss: 40912.1629\n",
            "Epoch 296/300\n",
            "2100/2100 [==============================] - 1s 555us/step - loss: 148.8743 - val_loss: 47201.8051\n",
            "Epoch 297/300\n",
            "2100/2100 [==============================] - 1s 548us/step - loss: 344.7659 - val_loss: 44151.5235\n",
            "Epoch 298/300\n",
            "2100/2100 [==============================] - 1s 554us/step - loss: 190.5048 - val_loss: 46922.0788\n",
            "Epoch 299/300\n",
            "2100/2100 [==============================] - 1s 545us/step - loss: 404.0378 - val_loss: 42650.3039\n",
            "Epoch 300/300\n",
            "2100/2100 [==============================] - 1s 563us/step - loss: 134.3801 - val_loss: 46069.7091\n"
          ],
          "name": "stdout"
        },
        {
          "output_type": "execute_result",
          "data": {
            "text/plain": [
              "<keras.callbacks.History at 0x7f517bb083c8>"
            ]
          },
          "metadata": {
            "tags": []
          },
          "execution_count": 48
        }
      ]
    },
    {
      "metadata": {
        "id": "3r7zkvxDVnvh",
        "colab_type": "code",
        "colab": {}
      },
      "cell_type": "code",
      "source": [
        "pred = model.predict([X_test, test_weights])"
      ],
      "execution_count": 0,
      "outputs": []
    },
    {
      "metadata": {
        "id": "TsQdRUj9MKIo",
        "colab_type": "code",
        "outputId": "307eca52-7303-4710-8403-ee379b99ceda",
        "colab": {
          "base_uri": "https://localhost:8080/",
          "height": 642
        }
      },
      "cell_type": "code",
      "source": [
        "import matplotlib.pyplot as plt\n",
        "%matplotlib inline\n",
        "plt.figure(figsize=(20,10))\n",
        "plt.plot(y_test,'r',label='actual')\n",
        "plt.plot(pred,'--', label = 'predicted')\n",
        "\n",
        "plt.title('Variation of actual and predicted stock price')\n",
        "plt.ylabel('Stock price')\n",
        "plt.legend()"
      ],
      "execution_count": 0,
      "outputs": [
        {
          "output_type": "execute_result",
          "data": {
            "text/plain": [
              "<matplotlib.legend.Legend at 0x7f517a855518>"
            ]
          },
          "metadata": {
            "tags": []
          },
          "execution_count": 50
        },
        {
          "output_type": "display_data",
          "data": {
            "image/png": "[encoded data removed]",
            "text/plain": [
              "<Figure size 1440x720 with 1 Axes>"
            ]
          },
          "metadata": {
            "tags": []
          }
        }
      ]
    },
    {
      "metadata": {
        "id": "c7n8WpbC-bEu",
        "colab_type": "code",
        "colab": {}
      },
      "cell_type": "code",
      "source": [
        ""
      ],
      "execution_count": 0,
      "outputs": []
    },
    {
      "metadata": {
        "id": "knqiUTRF5D71",
        "colab_type": "code",
        "colab": {}
      },
      "cell_type": "code",
      "source": [
        ""
      ],
      "execution_count": 0,
      "outputs": []
    },
    {
      "metadata": {
        "id": "KLhDj8P3Ofxn",
        "colab_type": "text"
      },
      "cell_type": "markdown",
      "source": [
        "# The last 5 days' stock prices plus news title data"
      ]
    },
    {
      "metadata": {
        "id": "IFR8f99CUUIK",
        "colab_type": "code",
        "colab": {}
      },
      "cell_type": "code",
      "source": [
        "data2['Date'] = pd.to_datetime(data2['Date'],format='%Y-%m-%d')"
      ],
      "execution_count": 0,
      "outputs": []
    },
    {
      "metadata": {
        "id": "JNeqxnf9XB0s",
        "colab_type": "code",
        "outputId": "4dff703f-745e-46a3-c9a7-d94a085a6213",
        "colab": {
          "base_uri": "https://localhost:8080/",
          "height": 195
        }
      },
      "cell_type": "code",
      "source": [
        "data3 = pd.merge(data2,data_final, left_on = 'Date', right_on = 'date', how='left')\n",
        "data3.head()"
      ],
      "execution_count": 0,
      "outputs": [
        {
          "output_type": "execute_result",
          "data": {
            "text/html": [
              "<div>\n",
              "<style scoped>\n",
              "    .dataframe tbody tr th:only-of-type {\n",
              "        vertical-align: middle;\n",
              "    }\n",
              "\n",
              "    .dataframe tbody tr th {\n",
              "        vertical-align: top;\n",
              "    }\n",
              "\n",
              "    .dataframe thead th {\n",
              "        text-align: right;\n",
              "    }\n",
              "</style>\n",
              "<table border=\"1\" class=\"dataframe\">\n",
              "  <thead>\n",
              "    <tr style=\"text-align: right;\">\n",
              "      <th></th>\n",
              "      <th>Date</th>\n",
              "      <th>Open</th>\n",
              "      <th>High</th>\n",
              "      <th>Low</th>\n",
              "      <th>Close</th>\n",
              "      <th>Adj Close</th>\n",
              "      <th>Volume</th>\n",
              "      <th>date</th>\n",
              "      <th>title</th>\n",
              "    </tr>\n",
              "  </thead>\n",
              "  <tbody>\n",
              "    <tr>\n",
              "      <th>0</th>\n",
              "      <td>2009-12-31</td>\n",
              "      <td>137.089996</td>\n",
              "      <td>137.279999</td>\n",
              "      <td>134.520004</td>\n",
              "      <td>134.520004</td>\n",
              "      <td>134.520004</td>\n",
              "      <td>4523000</td>\n",
              "      <td>NaT</td>\n",
              "      <td>NaN</td>\n",
              "    </tr>\n",
              "    <tr>\n",
              "      <th>1</th>\n",
              "      <td>2010-01-04</td>\n",
              "      <td>136.250000</td>\n",
              "      <td>136.610001</td>\n",
              "      <td>133.139999</td>\n",
              "      <td>133.899994</td>\n",
              "      <td>133.899994</td>\n",
              "      <td>7599900</td>\n",
              "      <td>NaT</td>\n",
              "      <td>NaN</td>\n",
              "    </tr>\n",
              "    <tr>\n",
              "      <th>2</th>\n",
              "      <td>2010-01-05</td>\n",
              "      <td>133.429993</td>\n",
              "      <td>135.479996</td>\n",
              "      <td>131.809998</td>\n",
              "      <td>134.690002</td>\n",
              "      <td>134.690002</td>\n",
              "      <td>8851900</td>\n",
              "      <td>NaT</td>\n",
              "      <td>NaN</td>\n",
              "    </tr>\n",
              "    <tr>\n",
              "      <th>3</th>\n",
              "      <td>2010-01-06</td>\n",
              "      <td>134.600006</td>\n",
              "      <td>134.729996</td>\n",
              "      <td>131.649994</td>\n",
              "      <td>132.250000</td>\n",
              "      <td>132.250000</td>\n",
              "      <td>7178800</td>\n",
              "      <td>NaT</td>\n",
              "      <td>NaN</td>\n",
              "    </tr>\n",
              "    <tr>\n",
              "      <th>4</th>\n",
              "      <td>2010-01-07</td>\n",
              "      <td>132.009995</td>\n",
              "      <td>132.320007</td>\n",
              "      <td>128.800003</td>\n",
              "      <td>130.000000</td>\n",
              "      <td>130.000000</td>\n",
              "      <td>11030200</td>\n",
              "      <td>NaT</td>\n",
              "      <td>NaN</td>\n",
              "    </tr>\n",
              "  </tbody>\n",
              "</table>\n",
              "</div>"
            ],
            "text/plain": [
              "        Date        Open        High         Low       Close   Adj Close  \\\n",
              "0 2009-12-31  137.089996  137.279999  134.520004  134.520004  134.520004   \n",
              "1 2010-01-04  136.250000  136.610001  133.139999  133.899994  133.899994   \n",
              "2 2010-01-05  133.429993  135.479996  131.809998  134.690002  134.690002   \n",
              "3 2010-01-06  134.600006  134.729996  131.649994  132.250000  132.250000   \n",
              "4 2010-01-07  132.009995  132.320007  128.800003  130.000000  130.000000   \n",
              "\n",
              "     Volume date title  \n",
              "0   4523000  NaT   NaN  \n",
              "1   7599900  NaT   NaN  \n",
              "2   8851900  NaT   NaN  \n",
              "3   7178800  NaT   NaN  \n",
              "4  11030200  NaT   NaN  "
            ]
          },
          "metadata": {
            "tags": []
          },
          "execution_count": 52
        }
      ]
    },
    {
      "metadata": {
        "id": "GmEgI_G3YP4r",
        "colab_type": "code",
        "outputId": "b7d2d52e-5ec8-4f8f-dfd4-bd7764819694",
        "colab": {
          "base_uri": "https://localhost:8080/",
          "height": 34
        }
      },
      "cell_type": "code",
      "source": [
        "data3['title'].nunique()"
      ],
      "execution_count": 0,
      "outputs": [
        {
          "output_type": "execute_result",
          "data": {
            "text/plain": [
              "685"
            ]
          },
          "metadata": {
            "tags": []
          },
          "execution_count": 53
        }
      ]
    },
    {
      "metadata": {
        "id": "QZWFaBfDa0Iz",
        "colab_type": "code",
        "outputId": "97b54899-2bf4-47fe-c65c-829be2ac82e3",
        "colab": {
          "base_uri": "https://localhost:8080/",
          "height": 50
        }
      },
      "cell_type": "code",
      "source": [
        "import nltk\n",
        "import re\n",
        "nltk.download('stopwords')\n",
        "stop = nltk.corpus.stopwords.words('english')\n",
        "def preprocess(text):\n",
        "    text = str(text)\n",
        "    text=text.lower()\n",
        "    text=re.sub('[^0-9a-zA-Z]+',' ',text)\n",
        "    words = text.split()\n",
        "    words2=[w for w in words if (w not in stop)]\n",
        "    #words3=[ps.stem(w) for w in words]\n",
        "    words4=' '.join(words2)\n",
        "    return(words4)\n",
        "data3['title'] = data3['title'].apply(preprocess)"
      ],
      "execution_count": 0,
      "outputs": [
        {
          "output_type": "stream",
          "text": [
            "[nltk_data] Downloading package stopwords to /root/nltk_data...\n",
            "[nltk_data]   Unzipping corpora/stopwords.zip.\n"
          ],
          "name": "stdout"
        }
      ]
    },
    {
      "metadata": {
        "id": "82v920YGaj4t",
        "colab_type": "code",
        "colab": {}
      },
      "cell_type": "code",
      "source": [
        "data3['title']=np.where(data3['title'].isnull(),'-','-'+data3['title'])"
      ],
      "execution_count": 0,
      "outputs": []
    },
    {
      "metadata": {
        "id": "nxMcBAFUau04",
        "colab_type": "code",
        "colab": {}
      },
      "cell_type": "code",
      "source": [
        "docs = data3['title'].values"
      ],
      "execution_count": 0,
      "outputs": []
    },
    {
      "metadata": {
        "id": "Yn3pnFHkZENl",
        "colab_type": "code",
        "colab": {}
      },
      "cell_type": "code",
      "source": [
        "from collections import Counter\n",
        "counts = Counter()\n",
        "for i,review in enumerate(docs):\n",
        "  counts.update(review.split())\n",
        "words = sorted(counts, key=counts.get, reverse=True)\n",
        "vocab_size=len(words)\n",
        "word_to_int = {word: i for i, word in enumerate(words, 1)}\n",
        "encoded_docs = []\n",
        "for doc in docs:\n",
        "  encoded_docs.append([word_to_int[word] for word in doc.split()])"
      ],
      "execution_count": 0,
      "outputs": []
    },
    {
      "metadata": {
        "id": "YgQKA1qrbLeR",
        "colab_type": "code",
        "outputId": "79713100-02e3-4000-8fe6-f054fa3f792e",
        "colab": {
          "base_uri": "https://localhost:8080/",
          "height": 34
        }
      },
      "cell_type": "code",
      "source": [
        "vocab_size"
      ],
      "execution_count": 0,
      "outputs": [
        {
          "output_type": "execute_result",
          "data": {
            "text/plain": [
              "2390"
            ]
          },
          "metadata": {
            "tags": []
          },
          "execution_count": 58
        }
      ]
    },
    {
      "metadata": {
        "id": "earEjhdObYc8",
        "colab_type": "code",
        "colab": {}
      },
      "cell_type": "code",
      "source": [
        "max_length = 20\n",
        "from keras.preprocessing.sequence import pad_sequences\n",
        "padded_docs = pad_sequences(encoded_docs, maxlen=max_length,padding='pre')"
      ],
      "execution_count": 0,
      "outputs": []
    },
    {
      "metadata": {
        "id": "7Y6dRZlxcIPu",
        "colab_type": "code",
        "outputId": "ee8c7e37-e9f9-4ca4-cdab-4368701f7eaa",
        "colab": {
          "base_uri": "https://localhost:8080/",
          "height": 34
        }
      },
      "cell_type": "code",
      "source": [
        "len(padded_docs)"
      ],
      "execution_count": 0,
      "outputs": [
        {
          "output_type": "execute_result",
          "data": {
            "text/plain": [
              "2261"
            ]
          },
          "metadata": {
            "tags": []
          },
          "execution_count": 60
        }
      ]
    },
    {
      "metadata": {
        "id": "Pnn_oJT2bi8M",
        "colab_type": "code",
        "colab": {}
      },
      "cell_type": "code",
      "source": [
        "x1 = []\n",
        "x2 = []\n",
        "y = []\n",
        "for i in range(data3.shape[0]-5):\n",
        "  x1.append(data3.loc[i:(i+4)]['Close'].values)\n",
        "  x2.append(padded_docs[i+5])\n",
        "  y.append(data3.loc[i+5]['Close'])"
      ],
      "execution_count": 0,
      "outputs": []
    },
    {
      "metadata": {
        "id": "ad0eN0ylfaEq",
        "colab_type": "code",
        "outputId": "58bcdfb2-9599-44e9-a0a5-b01d6f79f9b4",
        "colab": {
          "base_uri": "https://localhost:8080/",
          "height": 34
        }
      },
      "cell_type": "code",
      "source": [
        "x2[0].shape"
      ],
      "execution_count": 0,
      "outputs": [
        {
          "output_type": "execute_result",
          "data": {
            "text/plain": [
              "(20,)"
            ]
          },
          "metadata": {
            "tags": []
          },
          "execution_count": 62
        }
      ]
    },
    {
      "metadata": {
        "id": "hvfIaObLcQ8i",
        "colab_type": "code",
        "colab": {}
      },
      "cell_type": "code",
      "source": [
        "input1 = Input(shape=(20,))\n",
        "model = Embedding(input_dim=vocab_size+1, output_dim=32, input_length=20)(input1)\n",
        "model = (LSTM(units=100))(model)\n",
        "model = (Dense(1, activation='tanh'))(model)"
      ],
      "execution_count": 0,
      "outputs": []
    },
    {
      "metadata": {
        "id": "z92FF1bmfjpW",
        "colab_type": "code",
        "colab": {}
      },
      "cell_type": "code",
      "source": [
        "input2 = Input(shape=(5,1))\n",
        "model2 = Dense(100, activation='relu')(input2)\n",
        "model2 = LSTM(units=100)(model2)\n",
        "model2 = (Dense(1000, activation=\"relu\"))(model2)\n",
        "model2 = (Dense(1, activation=\"linear\"))(model2)"
      ],
      "execution_count": 0,
      "outputs": []
    },
    {
      "metadata": {
        "id": "s_8W-UYj3IRe",
        "colab_type": "code",
        "colab": {}
      },
      "cell_type": "code",
      "source": [
        "from keras.layers import multiply\n",
        "conc = multiply([model, model2])"
      ],
      "execution_count": 0,
      "outputs": []
    },
    {
      "metadata": {
        "id": "ykcUj8I6flc1",
        "colab_type": "code",
        "colab": {}
      },
      "cell_type": "code",
      "source": [
        "from keras.layers import concatenate\n",
        "conc = concatenate([model, model2])"
      ],
      "execution_count": 0,
      "outputs": []
    },
    {
      "metadata": {
        "id": "QpJtd1SrgeMz",
        "colab_type": "code",
        "colab": {}
      },
      "cell_type": "code",
      "source": [
        "conc2 = (Dense(1000, activation=\"relu\"))(conc)\n",
        "out = (Dense(1, activation=\"linear\"))(conc2)"
      ],
      "execution_count": 0,
      "outputs": []
    },
    {
      "metadata": {
        "id": "EGx8CRUCgt6L",
        "colab_type": "code",
        "outputId": "b916276b-9a07-4b50-a496-e689fd6c4578",
        "colab": {
          "base_uri": "https://localhost:8080/",
          "height": 561
        }
      },
      "cell_type": "code",
      "source": [
        "model = Model([input1, input2, weights_tensor], out)\n",
        "model.summary()"
      ],
      "execution_count": 0,
      "outputs": [
        {
          "output_type": "stream",
          "text": [
            "__________________________________________________________________________________________________\n",
            "Layer (type)                    Output Shape         Param #     Connected to                     \n",
            "==================================================================================================\n",
            "input_4 (InputLayer)            (None, 5, 1)         0                                            \n",
            "__________________________________________________________________________________________________\n",
            "input_3 (InputLayer)            (None, 20)           0                                            \n",
            "__________________________________________________________________________________________________\n",
            "dense_11 (Dense)                (None, 5, 100)       200         input_4[0][0]                    \n",
            "__________________________________________________________________________________________________\n",
            "embedding_1 (Embedding)         (None, 20, 32)       76512       input_3[0][0]                    \n",
            "__________________________________________________________________________________________________\n",
            "lstm_5 (LSTM)                   (None, 100)          80400       dense_11[0][0]                   \n",
            "__________________________________________________________________________________________________\n",
            "lstm_4 (LSTM)                   (None, 100)          53200       embedding_1[0][0]                \n",
            "__________________________________________________________________________________________________\n",
            "dense_12 (Dense)                (None, 1000)         101000      lstm_5[0][0]                     \n",
            "__________________________________________________________________________________________________\n",
            "dense_10 (Dense)                (None, 1)            101         lstm_4[0][0]                     \n",
            "__________________________________________________________________________________________________\n",
            "dense_13 (Dense)                (None, 1)            1001        dense_12[0][0]                   \n",
            "__________________________________________________________________________________________________\n",
            "concatenate_1 (Concatenate)     (None, 2)            0           dense_10[0][0]                   \n",
            "                                                                 dense_13[0][0]                   \n",
            "__________________________________________________________________________________________________\n",
            "dense_14 (Dense)                (None, 1000)         3000        concatenate_1[0][0]              \n",
            "__________________________________________________________________________________________________\n",
            "dense_15 (Dense)                (None, 1)            1001        dense_14[0][0]                   \n",
            "==================================================================================================\n",
            "Total params: 316,415\n",
            "Trainable params: 316,415\n",
            "Non-trainable params: 0\n",
            "__________________________________________________________________________________________________\n"
          ],
          "name": "stdout"
        }
      ]
    },
    {
      "metadata": {
        "id": "R4Ubz7dRupYe",
        "colab_type": "code",
        "outputId": "a475d570-0335-409f-edf1-fa845deb2be2",
        "colab": {
          "base_uri": "https://localhost:8080/",
          "height": 153
        }
      },
      "cell_type": "code",
      "source": [
        "!apt install graphviz\n",
        "!pip install pydot pydot-ng"
      ],
      "execution_count": 0,
      "outputs": [
        {
          "output_type": "stream",
          "text": [
            "Reading package lists... Done\n",
            "Building dependency tree       \n",
            "Reading state information... Done\n",
            "graphviz is already the newest version (2.40.1-2).\n",
            "0 upgraded, 0 newly installed, 0 to remove and 8 not upgraded.\n",
            "Requirement already satisfied: pydot in /usr/local/lib/python3.6/dist-packages (1.3.0)\n",
            "Requirement already satisfied: pydot-ng in /usr/local/lib/python3.6/dist-packages (2.0.0)\n",
            "Requirement already satisfied: pyparsing>=2.1.4 in /usr/local/lib/python3.6/dist-packages (from pydot) (2.3.1)\n"
          ],
          "name": "stdout"
        }
      ]
    },
    {
      "metadata": {
        "id": "l0-cYTPguqL6",
        "colab_type": "code",
        "outputId": "d0a36a8f-aa49-45c0-90f4-76a0a7ee5cfb",
        "colab": {
          "base_uri": "https://localhost:8080/",
          "height": 441
        }
      },
      "cell_type": "code",
      "source": [
        "from keras.utils import plot_model\n",
        "\n",
        "plot_model(model, show_shapes=True, show_layer_names=True, to_file='model.png')\n",
        "from IPython.display import Image\n",
        "Image(retina=True, filename='model.png')"
      ],
      "execution_count": 0,
      "outputs": [
        {
          "output_type": "execute_result",
          "data": {
            "image/png": "[encoded data removed]",
            "text/plain": [
              "<IPython.core.display.Image object>"
            ]
          },
          "metadata": {
            "tags": [],
            "image/png": {
              "width": 418,
              "height": 424
            }
          },
          "execution_count": 71
        }
      ]
    },
    {
      "metadata": {
        "colab_type": "code",
        "id": "a88357R5XN3w",
        "colab": {}
      },
      "cell_type": "code",
      "source": [
        "x1 = np.array(x1)\n",
        "x2 = np.array(x2)\n",
        "y = np.array(y)"
      ],
      "execution_count": 0,
      "outputs": []
    },
    {
      "metadata": {
        "id": "UrFxvjaciC9Q",
        "colab_type": "code",
        "colab": {}
      },
      "cell_type": "code",
      "source": [
        "x1 = x1.reshape(x1.shape[0],x1.shape[1],1)"
      ],
      "execution_count": 0,
      "outputs": []
    },
    {
      "metadata": {
        "id": "_M5heYc2DF78",
        "colab_type": "code",
        "outputId": "303bf785-4b53-4bd2-ecf2-7f98a2b53d32",
        "colab": {
          "base_uri": "https://localhost:8080/",
          "height": 34
        }
      },
      "cell_type": "code",
      "source": [
        "x2.shape"
      ],
      "execution_count": 0,
      "outputs": [
        {
          "output_type": "execute_result",
          "data": {
            "text/plain": [
              "(2256, 20)"
            ]
          },
          "metadata": {
            "tags": []
          },
          "execution_count": 181
        }
      ]
    },
    {
      "metadata": {
        "id": "e7_5JiUdC_2n",
        "colab_type": "code",
        "colab": {}
      },
      "cell_type": "code",
      "source": [
        "X1_train = x1[:2100,:,:]\n",
        "X2_train = x2[:2100,:]\n",
        "y_train = y[:2100]\n",
        "\n",
        "X1_test = x1[2100:,:,:]\n",
        "X2_test = x2[2100:,:]\n",
        "y_test = y[2100:]"
      ],
      "execution_count": 0,
      "outputs": []
    },
    {
      "metadata": {
        "id": "zGQKy8dMh2wC",
        "colab_type": "code",
        "outputId": "74f2ee1e-30d1-4e65-924d-477c4a6afd8c",
        "colab": {
          "base_uri": "https://localhost:8080/",
          "height": 34
        }
      },
      "cell_type": "code",
      "source": [
        "print(X1_train.shape, X2_train.shape, y_train.shape)"
      ],
      "execution_count": 0,
      "outputs": [
        {
          "output_type": "stream",
          "text": [
            "(2100, 5, 1) (2100, 20) (2100,)\n"
          ],
          "name": "stdout"
        }
      ]
    },
    {
      "metadata": {
        "id": "xCzkFqxtXdVF",
        "colab_type": "code",
        "outputId": "0593e473-e46d-4862-91a5-4d9ec07764b8",
        "colab": {
          "base_uri": "https://localhost:8080/",
          "height": 561
        }
      },
      "cell_type": "code",
      "source": [
        "model = Model([input1, input2, weights_tensor], out)\n",
        "model.compile(adam, cl4)\n",
        "model.summary()"
      ],
      "execution_count": 0,
      "outputs": [
        {
          "output_type": "stream",
          "text": [
            "__________________________________________________________________________________________________\n",
            "Layer (type)                    Output Shape         Param #     Connected to                     \n",
            "==================================================================================================\n",
            "input_15 (InputLayer)           (None, 5, 1)         0                                            \n",
            "__________________________________________________________________________________________________\n",
            "input_14 (InputLayer)           (None, 20)           0                                            \n",
            "__________________________________________________________________________________________________\n",
            "dense_40 (Dense)                (None, 5, 100)       200         input_15[0][0]                   \n",
            "__________________________________________________________________________________________________\n",
            "embedding_3 (Embedding)         (None, 20, 32)       76896       input_14[0][0]                   \n",
            "__________________________________________________________________________________________________\n",
            "lstm_14 (LSTM)                  (None, 100)          80400       dense_40[0][0]                   \n",
            "__________________________________________________________________________________________________\n",
            "lstm_13 (LSTM)                  (None, 100)          53200       embedding_3[0][0]                \n",
            "__________________________________________________________________________________________________\n",
            "dense_41 (Dense)                (None, 1000)         101000      lstm_14[0][0]                    \n",
            "__________________________________________________________________________________________________\n",
            "dense_39 (Dense)                (None, 1)            101         lstm_13[0][0]                    \n",
            "__________________________________________________________________________________________________\n",
            "dense_42 (Dense)                (None, 1)            1001        dense_41[0][0]                   \n",
            "__________________________________________________________________________________________________\n",
            "multiply_5 (Multiply)           (None, 1)            0           dense_39[0][0]                   \n",
            "                                                                 dense_42[0][0]                   \n",
            "__________________________________________________________________________________________________\n",
            "dense_43 (Dense)                (None, 1000)         2000        multiply_5[0][0]                 \n",
            "__________________________________________________________________________________________________\n",
            "dense_44 (Dense)                (None, 1)            1001        dense_43[0][0]                   \n",
            "==================================================================================================\n",
            "Total params: 315,799\n",
            "Trainable params: 315,799\n",
            "Non-trainable params: 0\n",
            "__________________________________________________________________________________________________\n"
          ],
          "name": "stdout"
        }
      ]
    },
    {
      "metadata": {
        "id": "cniOtrdEYEQl",
        "colab_type": "code",
        "outputId": "39099229-30dc-489e-89ae-e9ff16898796",
        "colab": {
          "base_uri": "https://localhost:8080/",
          "height": 2733
        }
      },
      "cell_type": "code",
      "source": [
        "model.fit(x=[X2_train, X1_train, weights], y=y_train, epochs=300,batch_size = 32, validation_data = ([X2_test, X1_test, test_weights], y_test))"
      ],
      "execution_count": 0,
      "outputs": [
        {
          "output_type": "stream",
          "text": [
            "Train on 2100 samples, validate on 156 samples\n",
            "Epoch 1/300\n",
            "2100/2100 [==============================] - 8s 4ms/step - loss: 230478.9033 - val_loss: 2866778.7308\n",
            "Epoch 2/300\n",
            "2100/2100 [==============================] - 2s 1ms/step - loss: 140464.4590 - val_loss: 1733777.6506\n",
            "Epoch 3/300\n",
            "2100/2100 [==============================] - 2s 1ms/step - loss: 55168.2837 - val_loss: 1015164.2099\n",
            "Epoch 4/300\n",
            "2100/2100 [==============================] - 2s 1ms/step - loss: 34133.5545 - val_loss: 904989.6538\n",
            "Epoch 5/300\n",
            "2100/2100 [==============================] - 2s 1ms/step - loss: 27829.3951 - val_loss: 766175.2324\n",
            "Epoch 6/300\n",
            "2100/2100 [==============================] - 2s 1ms/step - loss: 20090.6768 - val_loss: 604526.6667\n",
            "Epoch 7/300\n",
            "2100/2100 [==============================] - 2s 1ms/step - loss: 15044.9645 - val_loss: 548285.6498\n",
            "Epoch 8/300\n",
            "2100/2100 [==============================] - 2s 1ms/step - loss: 10978.0928 - val_loss: 519912.2356\n",
            "Epoch 9/300\n",
            "2100/2100 [==============================] - 2s 1ms/step - loss: 8570.0373 - val_loss: 384622.8834\n",
            "Epoch 10/300\n",
            "2100/2100 [==============================] - 2s 1ms/step - loss: 5430.2653 - val_loss: 322317.2268\n",
            "Epoch 11/300\n",
            "2100/2100 [==============================] - 2s 1ms/step - loss: 4213.1954 - val_loss: 268908.6108\n",
            "Epoch 12/300\n",
            "2100/2100 [==============================] - 2s 1ms/step - loss: 2990.7372 - val_loss: 189192.7556\n",
            "Epoch 13/300\n",
            "2100/2100 [==============================] - 2s 1ms/step - loss: 1628.5711 - val_loss: 148339.1505\n",
            "Epoch 14/300\n",
            "2100/2100 [==============================] - 2s 1ms/step - loss: 1026.7926 - val_loss: 125430.7030\n",
            "Epoch 15/300\n",
            "2100/2100 [==============================] - 2s 1ms/step - loss: 677.4687 - val_loss: 111269.1984\n",
            "Epoch 16/300\n",
            "2100/2100 [==============================] - 2s 1ms/step - loss: 801.7659 - val_loss: 95716.9976\n",
            "Epoch 17/300\n",
            "2100/2100 [==============================] - 2s 1ms/step - loss: 592.1915 - val_loss: 90433.1453\n",
            "Epoch 18/300\n",
            "2100/2100 [==============================] - 2s 1ms/step - loss: 493.5572 - val_loss: 82154.0360\n",
            "Epoch 19/300\n",
            "2100/2100 [==============================] - 2s 1ms/step - loss: 342.9779 - val_loss: 78484.7367\n",
            "Epoch 20/300\n",
            "2100/2100 [==============================] - 2s 1ms/step - loss: 540.7995 - val_loss: 85317.3760\n",
            "Epoch 21/300\n",
            "2100/2100 [==============================] - 2s 1ms/step - loss: 393.3608 - val_loss: 67064.6186\n",
            "Epoch 22/300\n",
            "2100/2100 [==============================] - 2s 1ms/step - loss: 372.4103 - val_loss: 62091.1127\n",
            "Epoch 23/300\n",
            "2100/2100 [==============================] - 2s 1ms/step - loss: 357.2284 - val_loss: 57575.6843\n",
            "Epoch 24/300\n",
            "2100/2100 [==============================] - 2s 1ms/step - loss: 511.7837 - val_loss: 55086.9696\n",
            "Epoch 25/300\n",
            "2100/2100 [==============================] - 2s 1ms/step - loss: 607.5256 - val_loss: 57413.5072\n",
            "Epoch 26/300\n",
            "2100/2100 [==============================] - 2s 1ms/step - loss: 1528.9637 - val_loss: 98180.3930\n",
            "Epoch 27/300\n",
            "2100/2100 [==============================] - 2s 1ms/step - loss: 481.1120 - val_loss: 72074.6069\n",
            "Epoch 28/300\n",
            "2100/2100 [==============================] - 2s 1ms/step - loss: 332.3107 - val_loss: 66173.4476\n",
            "Epoch 29/300\n",
            "2100/2100 [==============================] - 2s 1ms/step - loss: 360.4639 - val_loss: 59741.3493\n",
            "Epoch 30/300\n",
            "2100/2100 [==============================] - 2s 1ms/step - loss: 411.4203 - val_loss: 53180.3178\n",
            "Epoch 31/300\n",
            "2100/2100 [==============================] - 2s 1ms/step - loss: 341.7280 - val_loss: 54419.3372\n",
            "Epoch 32/300\n",
            "2100/2100 [==============================] - 2s 1ms/step - loss: 163.6944 - val_loss: 53683.7925\n",
            "Epoch 33/300\n",
            "2100/2100 [==============================] - 2s 1ms/step - loss: 227.7144 - val_loss: 52771.0185\n",
            "Epoch 34/300\n",
            "2100/2100 [==============================] - 2s 1ms/step - loss: 364.4002 - val_loss: 47745.0132\n",
            "Epoch 35/300\n",
            "2100/2100 [==============================] - 2s 1ms/step - loss: 333.6663 - val_loss: 55794.6725\n",
            "Epoch 36/300\n",
            "2100/2100 [==============================] - 2s 1ms/step - loss: 517.6019 - val_loss: 49557.7128\n",
            "Epoch 37/300\n",
            "2100/2100 [==============================] - 2s 1ms/step - loss: 267.7865 - val_loss: 49163.2780\n",
            "Epoch 38/300\n",
            "2100/2100 [==============================] - 2s 1ms/step - loss: 181.0137 - val_loss: 59715.0788\n",
            "Epoch 39/300\n",
            "2100/2100 [==============================] - 2s 1ms/step - loss: 679.1245 - val_loss: 66574.3893\n",
            "Epoch 40/300\n",
            "2100/2100 [==============================] - 2s 1ms/step - loss: 797.2192 - val_loss: 50274.3972\n",
            "Epoch 41/300\n",
            "2100/2100 [==============================] - 2s 1ms/step - loss: 501.6374 - val_loss: 57220.1641\n",
            "Epoch 42/300\n",
            "2100/2100 [==============================] - 2s 1ms/step - loss: 472.6328 - val_loss: 52245.0416\n",
            "Epoch 43/300\n",
            "2100/2100 [==============================] - 2s 1ms/step - loss: 367.0263 - val_loss: 46085.6597\n",
            "Epoch 44/300\n",
            "2100/2100 [==============================] - 2s 1ms/step - loss: 294.3523 - val_loss: 44300.0339\n",
            "Epoch 45/300\n",
            "2100/2100 [==============================] - 2s 1ms/step - loss: 344.7719 - val_loss: 50256.8463\n",
            "Epoch 46/300\n",
            "2100/2100 [==============================] - 2s 1ms/step - loss: 193.5463 - val_loss: 46370.7292\n",
            "Epoch 47/300\n",
            "2100/2100 [==============================] - 2s 1ms/step - loss: 253.4503 - val_loss: 43679.1900\n",
            "Epoch 48/300\n",
            "2100/2100 [==============================] - 2s 1ms/step - loss: 157.6698 - val_loss: 42864.8187\n",
            "Epoch 49/300\n",
            "2100/2100 [==============================] - 2s 1ms/step - loss: 380.2658 - val_loss: 38507.8082\n",
            "Epoch 50/300\n",
            "2100/2100 [==============================] - 2s 1ms/step - loss: 250.1672 - val_loss: 38367.4018\n",
            "Epoch 51/300\n",
            "2100/2100 [==============================] - 2s 1ms/step - loss: 458.7888 - val_loss: 33810.9663\n",
            "Epoch 52/300\n",
            "2100/2100 [==============================] - 2s 1ms/step - loss: 1722.4967 - val_loss: 34448.3674\n",
            "Epoch 53/300\n",
            "2100/2100 [==============================] - 2s 1ms/step - loss: 240.5413 - val_loss: 36246.7230\n",
            "Epoch 54/300\n",
            "2100/2100 [==============================] - 2s 1ms/step - loss: 234.2515 - val_loss: 44409.6886\n",
            "Epoch 55/300\n",
            "2100/2100 [==============================] - 2s 1ms/step - loss: 273.0281 - val_loss: 35907.2473\n",
            "Epoch 56/300\n",
            "2100/2100 [==============================] - 2s 1ms/step - loss: 348.1678 - val_loss: 36199.6541\n",
            "Epoch 57/300\n",
            "1952/2100 [==========================>...] - ETA: 0s - loss: 318.1881"
          ],
          "name": "stdout"
        },
        {
          "output_type": "error",
          "ename": "KeyboardInterrupt",
          "evalue": "ignored",
          "traceback": [
            "\u001b[0;31m---------------------------------------------------------------------------\u001b[0m",
            "\u001b[0;31mKeyboardInterrupt\u001b[0m                         Traceback (most recent call last)",
            "\u001b[0;32m<ipython-input-200-f8269c7a35af>\u001b[0m in \u001b[0;36m<module>\u001b[0;34m()\u001b[0m\n\u001b[0;32m----> 1\u001b[0;31m \u001b[0mmodel\u001b[0m\u001b[0;34m.\u001b[0m\u001b[0mfit\u001b[0m\u001b[0;34m(\u001b[0m\u001b[0mx\u001b[0m\u001b[0;34m=\u001b[0m\u001b[0;34m[\u001b[0m\u001b[0mX2_train\u001b[0m\u001b[0;34m,\u001b[0m \u001b[0mX1_train\u001b[0m\u001b[0;34m,\u001b[0m \u001b[0mweights\u001b[0m\u001b[0;34m]\u001b[0m\u001b[0;34m,\u001b[0m \u001b[0my\u001b[0m\u001b[0;34m=\u001b[0m\u001b[0my_train\u001b[0m\u001b[0;34m,\u001b[0m \u001b[0mepochs\u001b[0m\u001b[0;34m=\u001b[0m\u001b[0;36m300\u001b[0m\u001b[0;34m,\u001b[0m\u001b[0mbatch_size\u001b[0m \u001b[0;34m=\u001b[0m \u001b[0;36m32\u001b[0m\u001b[0;34m,\u001b[0m \u001b[0mvalidation_data\u001b[0m \u001b[0;34m=\u001b[0m \u001b[0;34m(\u001b[0m\u001b[0;34m[\u001b[0m\u001b[0mX2_test\u001b[0m\u001b[0;34m,\u001b[0m \u001b[0mX1_test\u001b[0m\u001b[0;34m,\u001b[0m \u001b[0mtest_weights\u001b[0m\u001b[0;34m]\u001b[0m\u001b[0;34m,\u001b[0m \u001b[0my_test\u001b[0m\u001b[0;34m)\u001b[0m\u001b[0;34m)\u001b[0m\u001b[0;34m\u001b[0m\u001b[0;34m\u001b[0m\u001b[0m\n\u001b[0m",
            "\u001b[0;32m/usr/local/lib/python3.6/dist-packages/keras/engine/training.py\u001b[0m in \u001b[0;36mfit\u001b[0;34m(self, x, y, batch_size, epochs, verbose, callbacks, validation_split, validation_data, shuffle, class_weight, sample_weight, initial_epoch, steps_per_epoch, validation_steps, **kwargs)\u001b[0m\n\u001b[1;32m   1037\u001b[0m                                         \u001b[0minitial_epoch\u001b[0m\u001b[0;34m=\u001b[0m\u001b[0minitial_epoch\u001b[0m\u001b[0;34m,\u001b[0m\u001b[0;34m\u001b[0m\u001b[0;34m\u001b[0m\u001b[0m\n\u001b[1;32m   1038\u001b[0m                                         \u001b[0msteps_per_epoch\u001b[0m\u001b[0;34m=\u001b[0m\u001b[0msteps_per_epoch\u001b[0m\u001b[0;34m,\u001b[0m\u001b[0;34m\u001b[0m\u001b[0;34m\u001b[0m\u001b[0m\n\u001b[0;32m-> 1039\u001b[0;31m                                         validation_steps=validation_steps)\n\u001b[0m\u001b[1;32m   1040\u001b[0m \u001b[0;34m\u001b[0m\u001b[0m\n\u001b[1;32m   1041\u001b[0m     def evaluate(self, x=None, y=None,\n",
            "\u001b[0;32m/usr/local/lib/python3.6/dist-packages/keras/engine/training_arrays.py\u001b[0m in \u001b[0;36mfit_loop\u001b[0;34m(model, f, ins, out_labels, batch_size, epochs, verbose, callbacks, val_f, val_ins, shuffle, callback_metrics, initial_epoch, steps_per_epoch, validation_steps)\u001b[0m\n\u001b[1;32m    197\u001b[0m                     \u001b[0mins_batch\u001b[0m\u001b[0;34m[\u001b[0m\u001b[0mi\u001b[0m\u001b[0;34m]\u001b[0m \u001b[0;34m=\u001b[0m \u001b[0mins_batch\u001b[0m\u001b[0;34m[\u001b[0m\u001b[0mi\u001b[0m\u001b[0;34m]\u001b[0m\u001b[0;34m.\u001b[0m\u001b[0mtoarray\u001b[0m\u001b[0;34m(\u001b[0m\u001b[0;34m)\u001b[0m\u001b[0;34m\u001b[0m\u001b[0;34m\u001b[0m\u001b[0m\n\u001b[1;32m    198\u001b[0m \u001b[0;34m\u001b[0m\u001b[0m\n\u001b[0;32m--> 199\u001b[0;31m                 \u001b[0mouts\u001b[0m \u001b[0;34m=\u001b[0m \u001b[0mf\u001b[0m\u001b[0;34m(\u001b[0m\u001b[0mins_batch\u001b[0m\u001b[0;34m)\u001b[0m\u001b[0;34m\u001b[0m\u001b[0;34m\u001b[0m\u001b[0m\n\u001b[0m\u001b[1;32m    200\u001b[0m                 \u001b[0mouts\u001b[0m \u001b[0;34m=\u001b[0m \u001b[0mto_list\u001b[0m\u001b[0;34m(\u001b[0m\u001b[0mouts\u001b[0m\u001b[0;34m)\u001b[0m\u001b[0;34m\u001b[0m\u001b[0;34m\u001b[0m\u001b[0m\n\u001b[1;32m    201\u001b[0m                 \u001b[0;32mfor\u001b[0m \u001b[0ml\u001b[0m\u001b[0;34m,\u001b[0m \u001b[0mo\u001b[0m \u001b[0;32min\u001b[0m \u001b[0mzip\u001b[0m\u001b[0;34m(\u001b[0m\u001b[0mout_labels\u001b[0m\u001b[0;34m,\u001b[0m \u001b[0mouts\u001b[0m\u001b[0;34m)\u001b[0m\u001b[0;34m:\u001b[0m\u001b[0;34m\u001b[0m\u001b[0;34m\u001b[0m\u001b[0m\n",
            "\u001b[0;32m/usr/local/lib/python3.6/dist-packages/keras/backend/tensorflow_backend.py\u001b[0m in \u001b[0;36m__call__\u001b[0;34m(self, inputs)\u001b[0m\n\u001b[1;32m   2713\u001b[0m                 \u001b[0;32mreturn\u001b[0m \u001b[0mself\u001b[0m\u001b[0;34m.\u001b[0m\u001b[0m_legacy_call\u001b[0m\u001b[0;34m(\u001b[0m\u001b[0minputs\u001b[0m\u001b[0;34m)\u001b[0m\u001b[0;34m\u001b[0m\u001b[0;34m\u001b[0m\u001b[0m\n\u001b[1;32m   2714\u001b[0m \u001b[0;34m\u001b[0m\u001b[0m\n\u001b[0;32m-> 2715\u001b[0;31m             \u001b[0;32mreturn\u001b[0m \u001b[0mself\u001b[0m\u001b[0;34m.\u001b[0m\u001b[0m_call\u001b[0m\u001b[0;34m(\u001b[0m\u001b[0minputs\u001b[0m\u001b[0;34m)\u001b[0m\u001b[0;34m\u001b[0m\u001b[0;34m\u001b[0m\u001b[0m\n\u001b[0m\u001b[1;32m   2716\u001b[0m         \u001b[0;32melse\u001b[0m\u001b[0;34m:\u001b[0m\u001b[0;34m\u001b[0m\u001b[0;34m\u001b[0m\u001b[0m\n\u001b[1;32m   2717\u001b[0m             \u001b[0;32mif\u001b[0m \u001b[0mpy_any\u001b[0m\u001b[0;34m(\u001b[0m\u001b[0mis_tensor\u001b[0m\u001b[0;34m(\u001b[0m\u001b[0mx\u001b[0m\u001b[0;34m)\u001b[0m \u001b[0;32mfor\u001b[0m \u001b[0mx\u001b[0m \u001b[0;32min\u001b[0m \u001b[0minputs\u001b[0m\u001b[0;34m)\u001b[0m\u001b[0;34m:\u001b[0m\u001b[0;34m\u001b[0m\u001b[0;34m\u001b[0m\u001b[0m\n",
            "\u001b[0;32m/usr/local/lib/python3.6/dist-packages/keras/backend/tensorflow_backend.py\u001b[0m in \u001b[0;36m_call\u001b[0;34m(self, inputs)\u001b[0m\n\u001b[1;32m   2673\u001b[0m             \u001b[0mfetched\u001b[0m \u001b[0;34m=\u001b[0m \u001b[0mself\u001b[0m\u001b[0;34m.\u001b[0m\u001b[0m_callable_fn\u001b[0m\u001b[0;34m(\u001b[0m\u001b[0;34m*\u001b[0m\u001b[0marray_vals\u001b[0m\u001b[0;34m,\u001b[0m \u001b[0mrun_metadata\u001b[0m\u001b[0;34m=\u001b[0m\u001b[0mself\u001b[0m\u001b[0;34m.\u001b[0m\u001b[0mrun_metadata\u001b[0m\u001b[0;34m)\u001b[0m\u001b[0;34m\u001b[0m\u001b[0;34m\u001b[0m\u001b[0m\n\u001b[1;32m   2674\u001b[0m         \u001b[0;32melse\u001b[0m\u001b[0;34m:\u001b[0m\u001b[0;34m\u001b[0m\u001b[0;34m\u001b[0m\u001b[0m\n\u001b[0;32m-> 2675\u001b[0;31m             \u001b[0mfetched\u001b[0m \u001b[0;34m=\u001b[0m \u001b[0mself\u001b[0m\u001b[0;34m.\u001b[0m\u001b[0m_callable_fn\u001b[0m\u001b[0;34m(\u001b[0m\u001b[0;34m*\u001b[0m\u001b[0marray_vals\u001b[0m\u001b[0;34m)\u001b[0m\u001b[0;34m\u001b[0m\u001b[0;34m\u001b[0m\u001b[0m\n\u001b[0m\u001b[1;32m   2676\u001b[0m         \u001b[0;32mreturn\u001b[0m \u001b[0mfetched\u001b[0m\u001b[0;34m[\u001b[0m\u001b[0;34m:\u001b[0m\u001b[0mlen\u001b[0m\u001b[0;34m(\u001b[0m\u001b[0mself\u001b[0m\u001b[0;34m.\u001b[0m\u001b[0moutputs\u001b[0m\u001b[0;34m)\u001b[0m\u001b[0;34m]\u001b[0m\u001b[0;34m\u001b[0m\u001b[0;34m\u001b[0m\u001b[0m\n\u001b[1;32m   2677\u001b[0m \u001b[0;34m\u001b[0m\u001b[0m\n",
            "\u001b[0;32m/usr/local/lib/python3.6/dist-packages/tensorflow/python/client/session.py\u001b[0m in \u001b[0;36m__call__\u001b[0;34m(self, *args, **kwargs)\u001b[0m\n\u001b[1;32m   1437\u001b[0m           ret = tf_session.TF_SessionRunCallable(\n\u001b[1;32m   1438\u001b[0m               \u001b[0mself\u001b[0m\u001b[0;34m.\u001b[0m\u001b[0m_session\u001b[0m\u001b[0;34m.\u001b[0m\u001b[0m_session\u001b[0m\u001b[0;34m,\u001b[0m \u001b[0mself\u001b[0m\u001b[0;34m.\u001b[0m\u001b[0m_handle\u001b[0m\u001b[0;34m,\u001b[0m \u001b[0margs\u001b[0m\u001b[0;34m,\u001b[0m \u001b[0mstatus\u001b[0m\u001b[0;34m,\u001b[0m\u001b[0;34m\u001b[0m\u001b[0;34m\u001b[0m\u001b[0m\n\u001b[0;32m-> 1439\u001b[0;31m               run_metadata_ptr)\n\u001b[0m\u001b[1;32m   1440\u001b[0m         \u001b[0;32mif\u001b[0m \u001b[0mrun_metadata\u001b[0m\u001b[0;34m:\u001b[0m\u001b[0;34m\u001b[0m\u001b[0;34m\u001b[0m\u001b[0m\n\u001b[1;32m   1441\u001b[0m           \u001b[0mproto_data\u001b[0m \u001b[0;34m=\u001b[0m \u001b[0mtf_session\u001b[0m\u001b[0;34m.\u001b[0m\u001b[0mTF_GetBuffer\u001b[0m\u001b[0;34m(\u001b[0m\u001b[0mrun_metadata_ptr\u001b[0m\u001b[0;34m)\u001b[0m\u001b[0;34m\u001b[0m\u001b[0;34m\u001b[0m\u001b[0m\n",
            "\u001b[0;31mKeyboardInterrupt\u001b[0m: "
          ]
        }
      ]
    },
    {
      "metadata": {
        "id": "YeYYVQ1hXdZB",
        "colab_type": "code",
        "colab": {}
      },
      "cell_type": "code",
      "source": [
        "pred = model.predict([X2_test, X1_test, test_weights])"
      ],
      "execution_count": 0,
      "outputs": []
    },
    {
      "metadata": {
        "id": "DDUbas_Ch0a-",
        "colab_type": "code",
        "outputId": "40405c37-77fe-4c3f-ec9a-0fcfa0ea4326",
        "colab": {
          "base_uri": "https://localhost:8080/",
          "height": 623
        }
      },
      "cell_type": "code",
      "source": [
        "import matplotlib.pyplot as plt\n",
        "%matplotlib inline\n",
        "plt.figure(figsize=(20,10))\n",
        "plt.plot(y_test,'r',label='actual')\n",
        "plt.plot(pred,'--', label = 'predicted')\n",
        "\n",
        "plt.title('Variation of actual and predicted stock price')\n",
        "plt.ylabel('Stock price')\n",
        "plt.legend()"
      ],
      "execution_count": 0,
      "outputs": [
        {
          "output_type": "execute_result",
          "data": {
            "text/plain": [
              "<matplotlib.legend.Legend at 0x7f86877a9ac8>"
            ]
          },
          "metadata": {
            "tags": []
          },
          "execution_count": 202
        },
        {
          "output_type": "display_data",
          "data": {
            "image/png": "[encoded data removed]",
            "text/plain": [
              "<matplotlib.figure.Figure at 0x7f868ab51860>"
            ]
          },
          "metadata": {
            "tags": []
          }
        }
      ]
    },
    {
      "metadata": {
        "id": "IKmpfS52awj3",
        "colab_type": "code",
        "colab": {}
      },
      "cell_type": "code",
      "source": [
        ""
      ],
      "execution_count": 0,
      "outputs": []
    }
  ]
}