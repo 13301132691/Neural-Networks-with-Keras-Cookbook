{
  "nbformat": 4,
  "nbformat_minor": 0,
  "metadata": {
    "colab": {
      "name": "Anchor_box_based_person_detection (1).ipynb",
      "version": "0.3.2",
      "provenance": [],
      "collapsed_sections": []
    },
    "kernelspec": {
      "name": "python3",
      "display_name": "Python 3"
    },
    "accelerator": "GPU"
  },
  "cells": [
    {
      "metadata": {
        "id": "4f66z6r9cTPk",
        "colab_type": "text"
      },
      "cell_type": "markdown",
      "source": [
        "The recommended dataset is the Pascal VOC dataset, that is available here: \n",
        "http://host.robots.ox.ac.uk/pascal/VOC/voc2012/VOCtrainval_11-May-2012.tar"
      ]
    },
    {
      "metadata": {
        "id": "xAJbFSKUC0NQ",
        "colab_type": "code",
        "colab": {}
      },
      "cell_type": "code",
      "source": [
        "!pip install xmltodict\n",
        "!pip install selectivesearch"
      ],
      "execution_count": 0,
      "outputs": []
    },
    {
      "metadata": {
        "id": "Eou5LtJ9CuiG",
        "colab_type": "code",
        "colab": {}
      },
      "cell_type": "code",
      "source": [
        "import matplotlib.pyplot as plt\n",
        "%matplotlib inline\n",
        "import tensorflow as tf\n",
        "config = tf.ConfigProto()\n",
        "config.gpu_options.allow_growth=True\n",
        "sess = tf.Session(config=config)\n",
        "import json, scipy, os\n",
        "import numpy as np, pandas as pd\n",
        "import argparse, time, sys, gc, cv2\n",
        "\n",
        "import xmltodict\n",
        "from copy import deepcopy\n",
        "import selectivesearch"
      ],
      "execution_count": 0,
      "outputs": []
    },
    {
      "metadata": {
        "id": "7eV_tozuC33K",
        "colab_type": "code",
        "colab": {}
      },
      "cell_type": "code",
      "source": [
        "xmls_root =\"...\"  # Path to data folder\n",
        "annotations = xmls_root + \"Annotations/\"\n",
        "jpegs = xmls_root + \"JPEGImages/\"\n",
        "XMLs = os.listdir(annotations)\n",
        "print(XMLs[:10]); print(len(XMLs))"
      ],
      "execution_count": 0,
      "outputs": []
    },
    {
      "metadata": {
        "id": "KUr8iqKZC6nn",
        "colab_type": "code",
        "colab": {}
      },
      "cell_type": "code",
      "source": [
        "pre_xtrain = []\n",
        "y_train = []\n",
        "xml_filepath=annotations\n",
        "mylist = os.listdir(xml_filepath)"
      ],
      "execution_count": 0,
      "outputs": []
    },
    {
      "metadata": {
        "id": "T-QdGmhRC7yd",
        "colab_type": "code",
        "colab": {}
      },
      "cell_type": "code",
      "source": [
        "anchors = [[0.83612969, 0.90107317],\n",
        "       [0.16291552, 0.30092524],\n",
        "       [0.47087648, 0.86898735],\n",
        "       [0.27149698, 0.6013433 ],\n",
        "       [0.57903691, 0.59789919]]"
      ],
      "execution_count": 0,
      "outputs": []
    },
    {
      "metadata": {
        "id": "hAQmOfp9C9Rc",
        "colab_type": "code",
        "colab": {}
      },
      "cell_type": "code",
      "source": [
        "num_grids = 5"
      ],
      "execution_count": 0,
      "outputs": []
    },
    {
      "metadata": {
        "id": "kCOV7xWLC-cK",
        "colab_type": "code",
        "colab": {}
      },
      "cell_type": "code",
      "source": [
        "def find_closest_anchor(label,img_width, img_height):\n",
        "  label_width = (label[2]-label[0])/img_width\n",
        "  label_height = (label[3]-label[1])/img_height  \n",
        "  label_width_height_array = np.array([label_width, label_height])  \n",
        "  distance = np.sum(np.square(np.array(anchors) - label_width_height_array), axis=1)  \n",
        "  closest_anchor = anchors[np.argmin(distance)]  \n",
        "  return closest_anchor"
      ],
      "execution_count": 0,
      "outputs": []
    },
    {
      "metadata": {
        "id": "TOG2apYfDAQn",
        "colab_type": "code",
        "colab": {}
      },
      "cell_type": "code",
      "source": [
        "def closest_anchor_corrections(a, b, anchor, label, img_width, img_height):  \n",
        "  label_center = [(label[0]+label[2])/(2),(label[1]+label[3])/(2)]  \n",
        "  anchor_center = [a*img_width/num_grids , b*img_height/num_grids ]  \n",
        "  dx = (label_center[0] - anchor_center[0])/img_width  \n",
        "  dy = (label_center[1] - anchor_center[1])/img_height\n",
        "  dw = ((label[2] - label[0])/img_width) / (anchor[0])\n",
        "  dh = ((label[3] - label[1])/img_height) / (anchor[1])  \n",
        "  return dx, dy, dw, dh  "
      ],
      "execution_count": 0,
      "outputs": []
    },
    {
      "metadata": {
        "id": "FrpZqwvgDdsc",
        "colab_type": "code",
        "colab": {}
      },
      "cell_type": "code",
      "source": [
        "def positive_grid_cell(label,img_width = 224, img_height = 224):\n",
        "  \n",
        "  label_center = [(label[0]+label[2])/(2),(label[1]+label[3])/(2)]\n",
        "  \n",
        "  a = int(label_center[0]/(img_width/num_grids))\n",
        "  \n",
        "  b = int(label_center[1]/(img_height/num_grids))\n",
        "  \n",
        "  return a, b"
      ],
      "execution_count": 0,
      "outputs": []
    },
    {
      "metadata": {
        "id": "3oIV1CiaDgXC",
        "colab_type": "code",
        "colab": {}
      },
      "cell_type": "code",
      "source": [
        "def extract_iou(candidate, current_y,img_shape):\n",
        "  boxA = deepcopy(candidate)\n",
        "  boxB = deepcopy(current_y)\n",
        "  boxA[2] += boxA[0]\n",
        "  boxA[3] += boxA[1]\n",
        "  iou_img1 = np.zeros(img_shape)\n",
        "  iou_img1[boxA[1]:boxA[3],boxA[0]:boxA[2]]=1\n",
        "\n",
        "  iou_img2 = np.zeros(img_shape)\n",
        "  iou_img2[int(boxB[1]):int(boxB[3]),int(boxB[0]):int(boxB[2])]=1\n",
        "  iou = np.sum(iou_img1*iou_img2)/(np.sum(iou_img1)+np.sum(iou_img2)-np.sum(iou_img1*iou_img2))\n",
        "  return iou"
      ],
      "execution_count": 0,
      "outputs": []
    },
    {
      "metadata": {
        "id": "tsH34RCUDhr8",
        "colab_type": "code",
        "colab": {}
      },
      "cell_type": "code",
      "source": [
        "classes = {'person':0,\n",
        "'cat':1,\n",
        "'dog':2,\n",
        "'bird':3,\n",
        "'train':4,\n",
        "'aeroplane':5,\n",
        "'car':6,\n",
        "'bicycle':7,\n",
        "'motorbike':8,\n",
        "'horse':9,\n",
        "'cow':10,\n",
        "'tvmonitor':11,\n",
        "'chair':12,\n",
        "'boat':13,\n",
        "'bus':14,\n",
        "'sheep':15,\n",
        "'bottle':16,\n",
        "'pottedplant':17,\n",
        "'sofa':18,\n",
        "'diningtable':19}"
      ],
      "execution_count": 0,
      "outputs": []
    },
    {
      "metadata": {
        "id": "Z2fw_bXdDi8W",
        "colab_type": "code",
        "outputId": "199775db-d835-4a9f-9399-519f3ec42ec5",
        "colab": {
          "base_uri": "https://localhost:8080/",
          "height": 105
        }
      },
      "cell_type": "code",
      "source": [
        "from keras.applications import vgg16\n",
        "from keras.utils.vis_utils import plot_model\n",
        "vgg16_model = vgg16.VGG16(include_top=False, weights='imagenet')"
      ],
      "execution_count": 0,
      "outputs": [
        {
          "output_type": "stream",
          "text": [
            "WARNING:tensorflow:From /usr/local/lib/python3.6/dist-packages/tensorflow/python/framework/op_def_library.py:263: colocate_with (from tensorflow.python.framework.ops) is deprecated and will be removed in a future version.\n",
            "Instructions for updating:\n",
            "Colocations handled automatically by placer.\n"
          ],
          "name": "stdout"
        },
        {
          "output_type": "stream",
          "text": [
            "Using TensorFlow backend.\n"
          ],
          "name": "stderr"
        }
      ]
    },
    {
      "metadata": {
        "id": "N_7nQpknC-_z",
        "colab_type": "code",
        "colab": {}
      },
      "cell_type": "code",
      "source": [
        "y_train = []\n",
        "\n",
        "for i in mylist[:10000]:\n",
        "    xml_file = xml_filepath +i\n",
        "    arg1=i.split('.')[0]\n",
        "    with open(xml_file, \"rb\") as f:    # notice the \"rb\" mode\n",
        "        d = xmltodict.parse(f, xml_attribs=True)\n",
        "        l=[]\n",
        "        if type(d[\"annotation\"][\"object\"]) == type(l):\n",
        "            discard=1\n",
        "        else:            \n",
        "            x1=((float(d['annotation']['object']['bndbox']['xmin'])))/(float(d['annotation']['size']['width']))\n",
        "            x2=((float(d['annotation']['object']['bndbox']['xmax'])))/(float(d['annotation']['size']['width']))\n",
        "            y1=((float(d['annotation']['object']['bndbox']['ymin'])))/(float(d['annotation']['size']['height']))\n",
        "            y2=((float(d['annotation']['object']['bndbox']['ymax'])))/(float(d['annotation']['size']['height']))\n",
        "            cls=d['annotation']['object']['name']\n",
        "            if(cls == 'person'):\n",
        "              y_train.append([x2-x1, y2-y1])"
      ],
      "execution_count": 0,
      "outputs": []
    },
    {
      "metadata": {
        "id": "6flZDxC1DTcm",
        "colab_type": "code",
        "colab": {}
      },
      "cell_type": "code",
      "source": [
        "y_train = np.array(y_train)\n",
        "from sklearn.cluster import KMeans"
      ],
      "execution_count": 0,
      "outputs": []
    },
    {
      "metadata": {
        "id": "M8qKKtcCDhXQ",
        "colab_type": "code",
        "outputId": "3e73f975-4041-4d6a-ca9e-d21a3f21778c",
        "colab": {
          "base_uri": "https://localhost:8080/",
          "height": 102
        }
      },
      "cell_type": "code",
      "source": [
        "km = KMeans(n_clusters=5)\n",
        "km.fit(y_train)\n",
        "km.cluster_centers_"
      ],
      "execution_count": 0,
      "outputs": [
        {
          "output_type": "execute_result",
          "data": {
            "text/plain": [
              "array([[0.59967169, 0.62644058],\n",
              "       [0.84043125, 0.90652639],\n",
              "       [0.15000658, 0.28123715],\n",
              "       [0.45117958, 0.85882031],\n",
              "       [0.26648715, 0.56865542]])"
            ]
          },
          "metadata": {
            "tags": []
          },
          "execution_count": 17
        }
      ]
    },
    {
      "metadata": {
        "id": "1XvTo215EBuK",
        "colab_type": "code",
        "colab": {}
      },
      "cell_type": "code",
      "source": [
        "anchors = [[0.45519332, 0.86366928],\n",
        "       [0.16421121, 0.29978505],\n",
        "       [0.83407913, 0.90081061],\n",
        "       [0.27700465, 0.58052042],\n",
        "       [0.60202617, 0.62422309]]"
      ],
      "execution_count": 0,
      "outputs": []
    },
    {
      "metadata": {
        "id": "rLMYz8ZuDldu",
        "colab_type": "code",
        "outputId": "991add97-4679-43dc-c835-0f6423378082",
        "colab": {
          "base_uri": "https://localhost:8080/",
          "height": 1717
        }
      },
      "cell_type": "code",
      "source": [
        "k=-1\n",
        "pre_xtrain = []\n",
        "y_train = []\n",
        "cls = []\n",
        "xtrain=[]\n",
        "final_cls = []\n",
        "dx = []\n",
        "dy = []\n",
        "dw= []\n",
        "dh = []\n",
        "final_delta = []\n",
        "av = 0\n",
        "x_train = []\n",
        "img_paths = []\n",
        "label_coords = []\n",
        "y_delta = []\n",
        "anc = []\n",
        "for i in mylist[:10000]:\n",
        "    av = av+1\n",
        "    if(av%100==0):\n",
        "        print(av)\n",
        "    xml_file = xml_filepath +i\n",
        "    #print(xml_file)\n",
        "    arg1=i.split('.')[0]\n",
        "    discard=0\n",
        "    with open(xml_file, \"rb\") as f:    # notice the \"rb\" mode\n",
        "        d = xmltodict.parse(f, xml_attribs=True)\n",
        "        l=[]\n",
        "        if type(d[\"annotation\"][\"object\"]) == type(l):\n",
        "            discard=1\n",
        "        else:\n",
        "            coords={arg1:[]}\n",
        "            pre_xtrain.append(arg1)\n",
        "            m=pre_xtrain[(k+1)]\n",
        "            k = k+1\n",
        "        if(discard==0):\n",
        "            x1=((float(d['annotation']['object']['bndbox']['xmin'])))/(float(d['annotation']['size']['width']))\n",
        "            x2=((float(d['annotation']['object']['bndbox']['xmax'])))/(float(d['annotation']['size']['width']))\n",
        "            y1=((float(d['annotation']['object']['bndbox']['ymin'])))/(float(d['annotation']['size']['height']))\n",
        "            y2=((float(d['annotation']['object']['bndbox']['ymax'])))/(float(d['annotation']['size']['height']))\n",
        "            cls=d['annotation']['object']['name']\n",
        "            if(cls == 'person'):\n",
        "              coords[arg1].append(x1)\n",
        "              coords[arg1].append(y1)\n",
        "              coords[arg1].append(x2)\n",
        "              coords[arg1].append(y2)\n",
        "              coords[arg1].append(cls)\n",
        "              \n",
        "              filename = '...'  # Path to images folder\n",
        "              img = filename\n",
        "              img_size=224\n",
        "              img = cv2.imread(filename)\n",
        "              img2 = cv2.resize(img,(img_size,img_size))\n",
        "              img2 = img2/255\n",
        "              \n",
        "              current_y = [int(x1*224), int(y1*224), int(x2*224), int(y2*224)]\n",
        "              label_center = [(current_y[0]+current_y[2])/2,(current_y[1]+current_y[3])/2]              \n",
        "              label = current_y\n",
        "              \n",
        "              current_y2 = [float(d['annotation']['object']['bndbox']['xmin']),\n",
        "                            float(d['annotation']['object']['bndbox']['ymin']),\n",
        "                            float(d['annotation']['object']['bndbox']['xmax'])-float(d['annotation']['object']['bndbox']['xmin']),\n",
        "                            float(d['annotation']['object']['bndbox']['ymax'])-float(d['annotation']['object']['bndbox']['ymin'])]\n",
        "              \n",
        "              vgg_predict = vgg16_model.predict(img2.reshape(1,img_size,img_size,3))\n",
        "              x_train.append(vgg_predict)\n",
        "\n",
        "              target_class = np.zeros((num_grids,num_grids,5))\n",
        "              target_delta = np.zeros((num_grids,num_grids,20))\n",
        "\n",
        "              a,b = positive_grid_cell(label)\n",
        "              \n",
        "              for a2 in range(num_grids):\n",
        "                for b2 in range(num_grids):\n",
        "                  for m in range(len(anchors)):\n",
        "                    dx, dy, dw, dh = closest_anchor_corrections(a2, b2, anchors[m], label, 224, 224)\n",
        "                    target_class[a2,b2,m] = 0\n",
        "                    target_delta[a2,b2,((4*m)):((4*m)+4)] = [dx, dy, dw, dh]\n",
        "                    anc.append(anchors[m])\n",
        "                    if((anchors[m] == find_closest_anchor(label,224, 224)) & (a2 == a) & (b2 == b)):\n",
        "                      target_class[a2,b2,m] = 1\n",
        "                      \n",
        "              y_train.append(target_class.flatten())\n",
        "              y_delta.append(target_delta)\n",
        "              label_coords.append(current_y)\n",
        "              img_paths.append(filename)     \n",
        "      "
      ],
      "execution_count": 0,
      "outputs": [
        {
          "output_type": "stream",
          "text": [
            "100\n",
            "200\n",
            "300\n",
            "400\n",
            "500\n",
            "600\n",
            "700\n",
            "800\n",
            "900\n",
            "1000\n",
            "1100\n",
            "1200\n",
            "1300\n",
            "1400\n",
            "1500\n",
            "1600\n",
            "1700\n",
            "1800\n",
            "1900\n",
            "2000\n",
            "2100\n",
            "2200\n",
            "2300\n",
            "2400\n",
            "2500\n",
            "2600\n",
            "2700\n",
            "2800\n",
            "2900\n",
            "3000\n",
            "3100\n",
            "3200\n",
            "3300\n",
            "3400\n",
            "3500\n",
            "3600\n",
            "3700\n",
            "3800\n",
            "3900\n",
            "4000\n",
            "4100\n",
            "4200\n",
            "4300\n",
            "4400\n",
            "4500\n",
            "4600\n",
            "4700\n",
            "4800\n",
            "4900\n",
            "5000\n",
            "5100\n",
            "5200\n",
            "5300\n",
            "5400\n",
            "5500\n",
            "5600\n",
            "5700\n",
            "5800\n",
            "5900\n",
            "6000\n",
            "6100\n",
            "6200\n",
            "6300\n",
            "6400\n",
            "6500\n",
            "6600\n",
            "6700\n",
            "6800\n",
            "6900\n",
            "7000\n",
            "7100\n",
            "7200\n",
            "7300\n",
            "7400\n",
            "7500\n",
            "7600\n",
            "7700\n",
            "7800\n",
            "7900\n",
            "8000\n",
            "8100\n",
            "8200\n",
            "8300\n",
            "8400\n",
            "8500\n",
            "8600\n",
            "8700\n",
            "8800\n",
            "8900\n",
            "9000\n",
            "9100\n",
            "9200\n",
            "9300\n",
            "9400\n",
            "9500\n",
            "9600\n",
            "9700\n",
            "9800\n",
            "9900\n",
            "10000\n"
          ],
          "name": "stdout"
        }
      ]
    },
    {
      "metadata": {
        "id": "2aXiffn2FL1R",
        "colab_type": "code",
        "colab": {}
      },
      "cell_type": "code",
      "source": [
        "import keras\n",
        "from keras.preprocessing.text import Tokenizer\n",
        "from keras.preprocessing.sequence import pad_sequences\n",
        "from keras.utils import to_categorical,np_utils\n",
        "from keras.layers import Dense, Input, GlobalMaxPooling1D,Dropout, Activation, Flatten\n",
        "from keras.layers import Conv1D, MaxPooling1D, Embedding, Convolution2D, MaxPooling2D,Conv2D\n",
        "from keras.models import Model\n",
        "import random\n",
        "from keras.preprocessing import sequence\n",
        "from keras.models import Sequential\n",
        "from keras.layers import Dense, Embedding\n",
        "from keras.layers import LSTM , Bidirectional,Dropout\n",
        "from keras import backend as K\n",
        "from keras.layers.advanced_activations import LeakyReLU\n",
        "from keras import regularizers"
      ],
      "execution_count": 0,
      "outputs": []
    },
    {
      "metadata": {
        "id": "PZuZXYfjErXt",
        "colab_type": "code",
        "outputId": "bb28db23-fdc4-4b9e-c22d-c06ba93790ba",
        "colab": {
          "base_uri": "https://localhost:8080/",
          "height": 340
        }
      },
      "cell_type": "code",
      "source": [
        "from keras.optimizers import Adam\n",
        "optimizer = Adam(lr=0.001)\n",
        "from keras.layers import BatchNormalization\n",
        "from keras import regularizers\n",
        "model = Sequential()\n",
        "model.add(BatchNormalization(input_shape=(7,7,512)))\n",
        "model.add(Conv2D(1024, (3,3), activation='relu',padding='valid'))\n",
        "model.add(BatchNormalization())\n",
        "model.add(Conv2D(5, (1,1), activation='relu',padding='same'))\n",
        "model.add(Flatten())\n",
        "model.add(Dense(125, activation='sigmoid'))\n",
        "model.summary()"
      ],
      "execution_count": 0,
      "outputs": [
        {
          "output_type": "stream",
          "text": [
            "_________________________________________________________________\n",
            "Layer (type)                 Output Shape              Param #   \n",
            "=================================================================\n",
            "batch_normalization_1 (Batch (None, 7, 7, 512)         2048      \n",
            "_________________________________________________________________\n",
            "conv2d_1 (Conv2D)            (None, 5, 5, 1024)        4719616   \n",
            "_________________________________________________________________\n",
            "batch_normalization_2 (Batch (None, 5, 5, 1024)        4096      \n",
            "_________________________________________________________________\n",
            "conv2d_2 (Conv2D)            (None, 5, 5, 5)           5125      \n",
            "_________________________________________________________________\n",
            "flatten_1 (Flatten)          (None, 125)               0         \n",
            "_________________________________________________________________\n",
            "dense_1 (Dense)              (None, 125)               15750     \n",
            "=================================================================\n",
            "Total params: 4,746,635\n",
            "Trainable params: 4,743,563\n",
            "Non-trainable params: 3,072\n",
            "_________________________________________________________________\n"
          ],
          "name": "stdout"
        }
      ]
    },
    {
      "metadata": {
        "id": "HEr6YPp7FEe3",
        "colab_type": "code",
        "outputId": "8d3e16b8-f9da-49ce-89f8-a465c66893b5",
        "colab": {
          "base_uri": "https://localhost:8080/",
          "height": 34
        }
      },
      "cell_type": "code",
      "source": [
        "x_train = np.array(x_train)\n",
        "y_train = np.array(y_train)\n",
        "print(x_train.shape, y_train.shape)"
      ],
      "execution_count": 0,
      "outputs": [
        {
          "output_type": "stream",
          "text": [
            "(2519, 1, 7, 7, 512) (2519, 125)\n"
          ],
          "name": "stdout"
        }
      ]
    },
    {
      "metadata": {
        "id": "U9Um186IHZBU",
        "colab_type": "code",
        "outputId": "27a13504-c0c6-449f-e6ca-d6d94c743363",
        "colab": {
          "base_uri": "https://localhost:8080/",
          "height": 34
        }
      },
      "cell_type": "code",
      "source": [
        "np.max(y_train)"
      ],
      "execution_count": 0,
      "outputs": [
        {
          "output_type": "execute_result",
          "data": {
            "text/plain": [
              "1.0"
            ]
          },
          "metadata": {
            "tags": []
          },
          "execution_count": 25
        }
      ]
    },
    {
      "metadata": {
        "id": "UyHaxkbJFPkZ",
        "colab_type": "code",
        "colab": {}
      },
      "cell_type": "code",
      "source": [
        "x_train = x_train.reshape(x_train.shape[0],7,7,512)"
      ],
      "execution_count": 0,
      "outputs": []
    },
    {
      "metadata": {
        "id": "WGvXUB2qFRAG",
        "colab_type": "code",
        "colab": {}
      },
      "cell_type": "code",
      "source": [
        "model.compile(loss='binary_crossentropy', optimizer=optimizer)"
      ],
      "execution_count": 0,
      "outputs": []
    },
    {
      "metadata": {
        "id": "IL2DOE5iFST7",
        "colab_type": "code",
        "outputId": "c7a43d5d-0bca-4aa3-ac39-f74f5f4feb6c",
        "colab": {
          "base_uri": "https://localhost:8080/",
          "height": 292
        }
      },
      "cell_type": "code",
      "source": [
        "model.fit(x_train/np.max(x_train), y_train, epochs=5, batch_size = 32, validation_split = 0.1, verbose = 1)"
      ],
      "execution_count": 0,
      "outputs": [
        {
          "output_type": "stream",
          "text": [
            "WARNING:tensorflow:From /usr/local/lib/python3.6/dist-packages/tensorflow/python/ops/math_ops.py:3066: to_int32 (from tensorflow.python.ops.math_ops) is deprecated and will be removed in a future version.\n",
            "Instructions for updating:\n",
            "Use tf.cast instead.\n",
            "Train on 2267 samples, validate on 252 samples\n",
            "Epoch 1/5\n",
            "2267/2267 [==============================] - 4s 2ms/step - loss: 0.1579 - val_loss: 0.0425\n",
            "Epoch 2/5\n",
            "2267/2267 [==============================] - 2s 949us/step - loss: 0.0319 - val_loss: 0.0372\n",
            "Epoch 3/5\n",
            "2267/2267 [==============================] - 2s 951us/step - loss: 0.0222 - val_loss: 0.0362\n",
            "Epoch 4/5\n",
            "2267/2267 [==============================] - 2s 966us/step - loss: 0.0140 - val_loss: 0.0362\n",
            "Epoch 5/5\n",
            "2267/2267 [==============================] - 2s 953us/step - loss: 0.0070 - val_loss: 0.0372\n"
          ],
          "name": "stdout"
        },
        {
          "output_type": "execute_result",
          "data": {
            "text/plain": [
              "<keras.callbacks.History at 0x7fc67afde358>"
            ]
          },
          "metadata": {
            "tags": []
          },
          "execution_count": 28
        }
      ]
    },
    {
      "metadata": {
        "id": "CzaKQKk-FUJA",
        "colab_type": "code",
        "outputId": "96c6bf2f-98ff-4600-959f-4c007f5701a6",
        "colab": {
          "base_uri": "https://localhost:8080/",
          "height": 153
        }
      },
      "cell_type": "code",
      "source": [
        "y_train[0]"
      ],
      "execution_count": 0,
      "outputs": [
        {
          "output_type": "execute_result",
          "data": {
            "text/plain": [
              "array([0., 0., 0., 0., 0., 0., 0., 0., 0., 0., 0., 0., 0., 0., 0., 0., 0.,\n",
              "       0., 0., 0., 0., 0., 0., 0., 0., 0., 0., 0., 0., 0., 0., 0., 0., 0.,\n",
              "       0., 0., 0., 0., 0., 0., 0., 0., 0., 0., 0., 0., 0., 0., 0., 0., 0.,\n",
              "       0., 0., 0., 0., 0., 0., 0., 0., 0., 0., 0., 1., 0., 0., 0., 0., 0.,\n",
              "       0., 0., 0., 0., 0., 0., 0., 0., 0., 0., 0., 0., 0., 0., 0., 0., 0.,\n",
              "       0., 0., 0., 0., 0., 0., 0., 0., 0., 0., 0., 0., 0., 0., 0., 0., 0.,\n",
              "       0., 0., 0., 0., 0., 0., 0., 0., 0., 0., 0., 0., 0., 0., 0., 0., 0.,\n",
              "       0., 0., 0., 0., 0., 0.])"
            ]
          },
          "metadata": {
            "tags": []
          },
          "execution_count": 29
        }
      ]
    },
    {
      "metadata": {
        "id": "y8KRG1khGUyc",
        "colab_type": "code",
        "outputId": "344bf476-36a6-40eb-c3ca-2adf1e47c763",
        "colab": {
          "base_uri": "https://localhost:8080/",
          "height": 34
        }
      },
      "cell_type": "code",
      "source": [
        "np.argmax(model.predict(x_train[-2].reshape(1,7,7,512)/np.max(x_train)))"
      ],
      "execution_count": 0,
      "outputs": [
        {
          "output_type": "execute_result",
          "data": {
            "text/plain": [
              "66"
            ]
          },
          "metadata": {
            "tags": []
          },
          "execution_count": 30
        }
      ]
    },
    {
      "metadata": {
        "id": "ILBVwrJOGU1Y",
        "colab_type": "code",
        "outputId": "7ede063e-b41c-4324-c930-c38fe3a93179",
        "colab": {
          "base_uri": "https://localhost:8080/",
          "height": 34
        }
      },
      "cell_type": "code",
      "source": [
        "np.argmax(y_train[-2])"
      ],
      "execution_count": 0,
      "outputs": [
        {
          "output_type": "execute_result",
          "data": {
            "text/plain": [
              "93"
            ]
          },
          "metadata": {
            "tags": []
          },
          "execution_count": 31
        }
      ]
    },
    {
      "metadata": {
        "id": "DoxqhqiwGU4P",
        "colab_type": "code",
        "colab": {}
      },
      "cell_type": "code",
      "source": [
        "delta_x = []\n",
        "delta_y = []\n",
        "for i in range(len(x_train)):\n",
        "  delta_x.append(x_train[i])\n",
        "  delta = y_delta[i].flatten()\n",
        "  coord = np.argmax(model.predict(x_train[i].reshape(1,7,7,512)/np.max(x_train)))\n",
        "  delta_y.append(delta[(coord*4):((coord*4)+4)])"
      ],
      "execution_count": 0,
      "outputs": []
    },
    {
      "metadata": {
        "id": "UYtCjbf6OnHe",
        "colab_type": "code",
        "colab": {}
      },
      "cell_type": "code",
      "source": [
        ""
      ],
      "execution_count": 0,
      "outputs": []
    },
    {
      "metadata": {
        "id": "44mjkm9AWk2Q",
        "colab_type": "code",
        "outputId": "994abd35-95bf-4b4e-af43-81519cdb6595",
        "colab": {
          "base_uri": "https://localhost:8080/",
          "height": 34
        }
      },
      "cell_type": "code",
      "source": [
        "x_train.shape"
      ],
      "execution_count": 0,
      "outputs": [
        {
          "output_type": "execute_result",
          "data": {
            "text/plain": [
              "(2519, 7, 7, 512)"
            ]
          },
          "metadata": {
            "tags": []
          },
          "execution_count": 33
        }
      ]
    },
    {
      "metadata": {
        "id": "d5yQThmsFaX0",
        "colab_type": "code",
        "outputId": "146a1bae-08fb-487b-d491-98ef426ad56c",
        "colab": {
          "base_uri": "https://localhost:8080/",
          "height": 340
        }
      },
      "cell_type": "code",
      "source": [
        "from keras.optimizers import Adam\n",
        "optimizer = Adam(lr=0.001)\n",
        "from keras.layers import BatchNormalization\n",
        "from keras import regularizers\n",
        "model2 = Sequential()\n",
        "model2.add(BatchNormalization(input_shape=(7,7,512)))\n",
        "model2.add(Conv2D(1024, (3,3), activation='relu',padding='valid'))\n",
        "model2.add(BatchNormalization())\n",
        "model2.add(Conv2D(5, (1,1), activation='relu',padding='same'))\n",
        "model2.add(Flatten())\n",
        "model2.add(Dense(4, activation='linear'))\n",
        "model2.summary()"
      ],
      "execution_count": 0,
      "outputs": [
        {
          "output_type": "stream",
          "text": [
            "_________________________________________________________________\n",
            "Layer (type)                 Output Shape              Param #   \n",
            "=================================================================\n",
            "batch_normalization_3 (Batch (None, 7, 7, 512)         2048      \n",
            "_________________________________________________________________\n",
            "conv2d_3 (Conv2D)            (None, 5, 5, 1024)        4719616   \n",
            "_________________________________________________________________\n",
            "batch_normalization_4 (Batch (None, 5, 5, 1024)        4096      \n",
            "_________________________________________________________________\n",
            "conv2d_4 (Conv2D)            (None, 5, 5, 5)           5125      \n",
            "_________________________________________________________________\n",
            "flatten_2 (Flatten)          (None, 125)               0         \n",
            "_________________________________________________________________\n",
            "dense_2 (Dense)              (None, 4)                 504       \n",
            "=================================================================\n",
            "Total params: 4,731,389\n",
            "Trainable params: 4,728,317\n",
            "Non-trainable params: 3,072\n",
            "_________________________________________________________________\n"
          ],
          "name": "stdout"
        }
      ]
    },
    {
      "metadata": {
        "id": "mySOAoyNGkiT",
        "colab_type": "code",
        "outputId": "8d14a285-ed94-4f44-d7a4-61251ebc982d",
        "colab": {
          "base_uri": "https://localhost:8080/",
          "height": 34
        }
      },
      "cell_type": "code",
      "source": [
        "delta_x = np.array(delta_x)\n",
        "delta_x.shape"
      ],
      "execution_count": 0,
      "outputs": [
        {
          "output_type": "execute_result",
          "data": {
            "text/plain": [
              "(2519, 7, 7, 512)"
            ]
          },
          "metadata": {
            "tags": []
          },
          "execution_count": 35
        }
      ]
    },
    {
      "metadata": {
        "id": "dmVBP4RPHU5N",
        "colab_type": "code",
        "outputId": "79e5d7a6-b8f0-4dad-96cf-ab7e052c522b",
        "colab": {
          "base_uri": "https://localhost:8080/",
          "height": 34
        }
      },
      "cell_type": "code",
      "source": [
        "np.max(delta_x)"
      ],
      "execution_count": 0,
      "outputs": [
        {
          "output_type": "execute_result",
          "data": {
            "text/plain": [
              "11.035747"
            ]
          },
          "metadata": {
            "tags": []
          },
          "execution_count": 36
        }
      ]
    },
    {
      "metadata": {
        "id": "vniTcINEGmVM",
        "colab_type": "code",
        "outputId": "cc50c7fb-13fe-43c8-e2be-980df3c36258",
        "colab": {
          "base_uri": "https://localhost:8080/",
          "height": 34
        }
      },
      "cell_type": "code",
      "source": [
        "delta_y = np.array(delta_y)\n",
        "delta_y.shape"
      ],
      "execution_count": 0,
      "outputs": [
        {
          "output_type": "execute_result",
          "data": {
            "text/plain": [
              "(2519, 4)"
            ]
          },
          "metadata": {
            "tags": []
          },
          "execution_count": 37
        }
      ]
    },
    {
      "metadata": {
        "id": "uPOVZiIRJxxQ",
        "colab_type": "code",
        "colab": {}
      },
      "cell_type": "code",
      "source": [
        "max_y = np.max(delta_y, axis=0)"
      ],
      "execution_count": 0,
      "outputs": []
    },
    {
      "metadata": {
        "id": "Eho8dbDQJ2oP",
        "colab_type": "code",
        "colab": {}
      },
      "cell_type": "code",
      "source": [
        "delta_y2 = delta_y/max_y"
      ],
      "execution_count": 0,
      "outputs": []
    },
    {
      "metadata": {
        "id": "AX3x99_bGnaX",
        "colab_type": "code",
        "colab": {}
      },
      "cell_type": "code",
      "source": [
        "model2.compile(loss = 'mean_absolute_error', optimizer = optimizer)"
      ],
      "execution_count": 0,
      "outputs": []
    },
    {
      "metadata": {
        "id": "LAMtytaaGou4",
        "colab_type": "code",
        "outputId": "fe7ede30-b42b-42a4-ff25-bb1240b3f6f2",
        "colab": {
          "base_uri": "https://localhost:8080/",
          "height": 391
        }
      },
      "cell_type": "code",
      "source": [
        "model2.fit(delta_x/np.max(x_train), delta_y2, epochs = 10, batch_size = 32, verbose = 1, validation_split = 0.1)"
      ],
      "execution_count": 0,
      "outputs": [
        {
          "output_type": "stream",
          "text": [
            "Train on 2267 samples, validate on 252 samples\n",
            "Epoch 1/10\n",
            "2267/2267 [==============================] - 3s 1ms/step - loss: 1.3102 - val_loss: 0.6242\n",
            "Epoch 2/10\n",
            "2267/2267 [==============================] - 2s 945us/step - loss: 0.2738 - val_loss: 0.2080\n",
            "Epoch 3/10\n",
            "2267/2267 [==============================] - 2s 939us/step - loss: 0.1125 - val_loss: 0.1678\n",
            "Epoch 4/10\n",
            "2267/2267 [==============================] - 2s 944us/step - loss: 0.0803 - val_loss: 0.1547\n",
            "Epoch 5/10\n",
            "2267/2267 [==============================] - 2s 941us/step - loss: 0.0685 - val_loss: 0.1494\n",
            "Epoch 6/10\n",
            "2267/2267 [==============================] - 2s 941us/step - loss: 0.0661 - val_loss: 0.1505\n",
            "Epoch 7/10\n",
            "2267/2267 [==============================] - 2s 939us/step - loss: 0.0649 - val_loss: 0.1481\n",
            "Epoch 8/10\n",
            "2267/2267 [==============================] - 2s 938us/step - loss: 0.0644 - val_loss: 0.1489\n",
            "Epoch 9/10\n",
            "2267/2267 [==============================] - 2s 940us/step - loss: 0.0644 - val_loss: 0.1487\n",
            "Epoch 10/10\n",
            "2267/2267 [==============================] - 2s 930us/step - loss: 0.0645 - val_loss: 0.1490\n"
          ],
          "name": "stdout"
        },
        {
          "output_type": "execute_result",
          "data": {
            "text/plain": [
              "<keras.callbacks.History at 0x7fc66a9e44e0>"
            ]
          },
          "metadata": {
            "tags": []
          },
          "execution_count": 41
        }
      ]
    },
    {
      "metadata": {
        "id": "ifojeECHrC7w",
        "colab_type": "code",
        "outputId": "31553947-a32c-4213-ec1a-48b765526d34",
        "colab": {
          "base_uri": "https://localhost:8080/",
          "height": 34
        }
      },
      "cell_type": "code",
      "source": [
        "import cv2\n",
        "img = cv2.imread('/content/Hemanvi.jpg')\n",
        "img = cv2.resize(img,(224,224))\n",
        "img = img/255\n",
        "img2 = vgg16_model.predict(img.reshape(1,224,224,3))\n",
        "img2.shape"
      ],
      "execution_count": 0,
      "outputs": [
        {
          "output_type": "execute_result",
          "data": {
            "text/plain": [
              "(1, 7, 7, 512)"
            ]
          },
          "metadata": {
            "tags": []
          },
          "execution_count": 42
        }
      ]
    },
    {
      "metadata": {
        "id": "xr0MrEQwrb-5",
        "colab_type": "code",
        "colab": {}
      },
      "cell_type": "code",
      "source": [
        "arg = np.argmax(model.predict(img2/np.max(x_train)))\n",
        "pred = model2.predict(img2/np.max(delta_x))[0]"
      ],
      "execution_count": 0,
      "outputs": []
    },
    {
      "metadata": {
        "id": "OesBrgrOruKE",
        "colab_type": "code",
        "outputId": "2d12485e-33be-4dd7-a4c0-30450f95cb98",
        "colab": {
          "base_uri": "https://localhost:8080/",
          "height": 34
        }
      },
      "cell_type": "code",
      "source": [
        "count = 0\n",
        "for a in range(5):\n",
        "  for b in range(5):\n",
        "    for c in range(5):\n",
        "      if(count == arg):\n",
        "        print(a,b,c)\n",
        "        a2 = a\n",
        "        b2 = b\n",
        "        c2 = c      \n",
        "      count+=1"
      ],
      "execution_count": 0,
      "outputs": [
        {
          "output_type": "stream",
          "text": [
            "2 2 0\n"
          ],
          "name": "stdout"
        }
      ]
    },
    {
      "metadata": {
        "id": "XSABTaAKruNW",
        "colab_type": "code",
        "colab": {}
      },
      "cell_type": "code",
      "source": [
        "pred1 = pred*max_y\n",
        "xmin = pred1[0]*224+a2*224/num_grids - (anchors[c2][0]*pred1[2] * 224)/2\n",
        "ymin = pred1[1]*224+b2*224/num_grids - (anchors[c2][1]*pred1[3] * 224)/2\n",
        "\n",
        "w = anchors[c2][0]*pred1[2] * 224\n",
        "h = anchors[c2][1]*pred1[3] * 224"
      ],
      "execution_count": 0,
      "outputs": []
    },
    {
      "metadata": {
        "id": "87gqm95Jr1sV",
        "colab_type": "code",
        "outputId": "46c38770-1d08-40c7-843c-04d466c26462",
        "colab": {
          "base_uri": "https://localhost:8080/",
          "height": 428
        }
      },
      "cell_type": "code",
      "source": [
        "import matplotlib.patches as mpatches\n",
        "cand = [xmin, ymin, w, h]\n",
        "cand = np.clip(cand, 1, 223)\n",
        "\n",
        "fig, ax = plt.subplots(ncols=1, nrows=1, figsize=(6, 6))\n",
        "ax.imshow(img)\n",
        "\n",
        "rect = mpatches.Rectangle(\n",
        "(cand[0], cand[1]), cand[2], cand[3], fill=False, edgecolor='red', linewidth=1)\n",
        "ax.add_patch(rect)\n",
        "plt.grid('off')\n",
        "plt.show()"
      ],
      "execution_count": 0,
      "outputs": [
        {
          "output_type": "stream",
          "text": [
            "/usr/local/lib/python3.6/dist-packages/matplotlib/cbook/__init__.py:424: MatplotlibDeprecationWarning: \n",
            "Passing one of 'on', 'true', 'off', 'false' as a boolean is deprecated; use an actual boolean (True/False) instead.\n",
            "  warn_deprecated(\"2.2\", \"Passing one of 'on', 'true', 'off', 'false' as a \"\n"
          ],
          "name": "stderr"
        },
        {
          "output_type": "display_data",
          "data": {
            "image/png": "[encoded data removed]",
            "text/plain": [
              "<Figure size 432x432 with 1 Axes>"
            ]
          },
          "metadata": {
            "tags": []
          }
        }
      ]
    },
    {
      "metadata": {
        "id": "kcIZMJO1r1xl",
        "colab_type": "code",
        "colab": {}
      },
      "cell_type": "code",
      "source": [
        ""
      ],
      "execution_count": 0,
      "outputs": []
    },
    {
      "metadata": {
        "id": "CC6PJCP8r1vn",
        "colab_type": "code",
        "colab": {}
      },
      "cell_type": "code",
      "source": [
        ""
      ],
      "execution_count": 0,
      "outputs": []
    },
    {
      "metadata": {
        "id": "yt_k-CHRKi1w",
        "colab_type": "code",
        "colab": {}
      },
      "cell_type": "code",
      "source": [
        ""
      ],
      "execution_count": 0,
      "outputs": []
    }
  ]
}